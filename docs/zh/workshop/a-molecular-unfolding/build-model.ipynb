{
 "cells": [
  {
   "cell_type": "markdown",
   "id": "3691bcad",
   "metadata": {},
   "source": [
    "# 第二步: 建立模型"
   ]
  },
  {
   "cell_type": "markdown",
   "id": "2abc1486",
   "metadata": {},
   "source": [
    "\n",
    "\n",
    "本节介绍如何构建Quadratic Unconstrained Bianry Optimization (QUBO)模型。\n",
    "\n",
    "1. 设置以下参数初始化QMUQUBO对象。\n",
    "\n",
    "本示例中，**M** 设置为 2，**D** 设置为 8。**A** 和 **hubo_qubo_val** 是从实验中测试得到的。 关于参数的具体含义，请参考建立模型（技术细节）。 \n",
    "\n",
    "| 参数 | 描述 | 数值 |\n",
    "|--- |--- |--- |\n",
    "|A | 惩罚数值 |300|\n",
    "|hubo_qubo_val | make_quadratic() 的能量惩罚 |200|\n",
    "|M | 分子展开的扭转数(可旋转键) | [1, 最大扭转数] |\n",
    "|D| 旋转角度精度 | 8|\n",
    "|method| 建模方法 | 'pre-calc': 提前计算不同段之间的距离|\n"
   ]
  },
  {
   "cell_type": "markdown",
   "id": "a254c171",
   "metadata": {},
   "source": [
    " **注意**\n",
    "\n",
    "如果将M或者D设置得过大，可能会导致较长的运行时间。您需要在批量验证阶段查看大概的运行时间后再调整参数。"
   ]
  },
  {
   "cell_type": "code",
   "execution_count": null,
   "id": "da2027de",
   "metadata": {},
   "outputs": [],
   "source": [
    "from utility.MoleculeParser import MoleculeData\n",
    "from utility.QMUQUBO import QMUQUBO\n",
    "from utility.AnnealerOptimizer import Annealer\n",
    "from utility.ResultProcess import ResultParser\n",
    "import time\n",
    "\n",
    "timestamp = time.strftime(\"%Y%m%d-%H\")"
   ]
  },
  {
   "cell_type": "code",
   "execution_count": 4,
   "id": "2d8f45de",
   "metadata": {},
   "outputs": [
    {
     "name": "stderr",
     "output_type": "stream",
     "text": [
      "INFO:root:initial pre-calculate for constructing molecule QUBO\n"
     ]
    }
   ],
   "source": [
    "# initial the QMUQUBO object\n",
    "init_param = {}\n",
    "method = ['pre-calc']\n",
    "\n",
    "for mt in method:\n",
    "    if mt == 'pre-calc':\n",
    "        init_param[mt] = {}\n",
    "        init_param[mt]['param'] = ['M', 'D', 'A', 'hubo_qubo_val']\n",
    "    \n",
    "qmu_qubo = QMUQUBO(mol_data, method, **init_param)"
   ]
  },
  {
   "cell_type": "code",
   "execution_count": 5,
   "id": "bb9a14e1",
   "metadata": {},
   "outputs": [
    {
     "name": "stderr",
     "output_type": "stream",
     "text": [
      "INFO:root:Construct model for M:2,D:8,A:300,hubo_qubo_val:200 0.0010666688283284505 min\n"
     ]
    },
    {
     "data": {
      "text/plain": [
       "0"
      ]
     },
     "execution_count": 5,
     "metadata": {},
     "output_type": "execute_result"
    }
   ],
   "source": [
    "# set the parameters for model\n",
    "model_param = {}\n",
    "# parameters\n",
    "num_rotation_bond = mol_data.bond_graph.rb_num\n",
    "\n",
    "method = 'pre-calc'\n",
    "model_param[method] = {}\n",
    "# model_param[method]['M'] = range(1, num_rotation_bond+1)\n",
    "model_param[method]['M'] = [2]\n",
    "model_param[method]['D'] = [8]\n",
    "model_param[method]['A'] = [300]\n",
    "model_param[method]['hubo_qubo_val'] = [200]\n",
    "\n",
    "qmu_qubo.build_model(**model_param)"
   ]
  },
  {
   "cell_type": "markdown",
   "id": "8b0485bc",
   "metadata": {},
   "source": [
    "2.运行**describe_model()**方法查看模型属性。\n",
    "\n",
    "3.运行**save()**方法保存模型为 **./qmu_117_ideal_model_latest.pickle**。**model_path**将被更新。"
   ]
  },
  {
   "cell_type": "code",
   "execution_count": 6,
   "id": "c59fb9b8",
   "metadata": {},
   "outputs": [
    {
     "name": "stderr",
     "output_type": "stream",
     "text": [
      "INFO:root:method: pre-calc\n",
      "INFO:root:The model_name should be {M}_{D}_{A}_{hubo_qubo_val}\n",
      "INFO:root:param: M, value {2}\n",
      "INFO:root:param: D, value {8}\n",
      "INFO:root:param: A, value {300}\n",
      "INFO:root:param: hubo_qubo_val, value {200}\n"
     ]
    }
   ],
   "source": [
    "# describe the model parameters\n",
    "model_info = qmu_qubo.describe_model()"
   ]
  },
  {
   "cell_type": "code",
   "execution_count": 7,
   "id": "6901926f",
   "metadata": {},
   "outputs": [
    {
     "name": "stderr",
     "output_type": "stream",
     "text": [
      "INFO:root:finish save qmu_117_ideal_model_latest.pickle\n"
     ]
    },
    {
     "name": "stdout",
     "output_type": "stream",
     "text": [
      "You have built the QUBO model and saved it as ./qmu_117_ideal_model_latest.pickle\n"
     ]
    }
   ],
   "source": [
    "# save the model\n",
    "model_path = qmu_qubo.save(\"latest\")\n",
    "\n",
    "print(f\"You have built the QUBO model and saved it as {model_path}\")"
   ]
  }
 ],
 "metadata": {
  "interpreter": {
   "hash": "18f113ef20d2e5656a0bc837e6c476bd436e29840b6ed1847ecdb90743164c58"
  },
  "kernelspec": {
   "display_name": "conda_braket",
   "language": "python",
   "name": "python3"
  },
  "language_info": {
   "codemirror_mode": {
    "name": "ipython",
    "version": 3
   },
   "file_extension": ".py",
   "mimetype": "text/x-python",
   "name": "python",
   "nbconvert_exporter": "python",
   "pygments_lexer": "ipython3",
   "version": "3.7.12"
  }
 },
 "nbformat": 4,
 "nbformat_minor": 5
}
