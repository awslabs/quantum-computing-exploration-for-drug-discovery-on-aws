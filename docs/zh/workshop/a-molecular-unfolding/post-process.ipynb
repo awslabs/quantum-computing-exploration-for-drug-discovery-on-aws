{
 "cells": [
  {
   "cell_type": "markdown",
   "id": "ddcba0ff",
   "metadata": {},
   "source": [
    "# 第四步：处理结果"
   ]
  },
  {
   "cell_type": "markdown",
   "id": "2d0d4d09",
   "metadata": {},
   "source": [
    "以下介绍如何对优化结果进行处理以进行评估和可视化。\n",
    "\n",
    "1. 准备以下参数：\n",
    "\n",
    "|参数 |说明 |数值 |\n",
    "|--- |--- |--- |\n",
    "|method | QUBO问题的退火方法|'dwave-sa'：使用Ocean工具包中的模拟退火器<br>'dwave-qa'：使用量子退火器|\n",
    "|raw_path|原始分子文件的路径| 本示例使用的是'./molecule-data/117_ideal.mol2'|\n",
    "|data_path|处理后的分子文件的路径| 本示例使用的是'./qmu_117_ideal_data_latest.mol2'|\n",
    "|bucket |存储结果的 S3 存储桶 | - |\n",
    "|prefix | S3 存储桶中的文件夹名称 | - |\n",
    "|task_id |量子退火任务id| 本示例使用的是'2b5a3b05-1a0e-443a-852c-4ec422a10e59' |"
   ]
  },
  {
   "cell_type": "markdown",
   "id": "6132a665",
   "metadata": {},
   "source": [
    "2.使用SA的 **ResultParser**对象进行处理。"
   ]
  },
  {
   "cell_type": "code",
   "execution_count": null,
   "id": "4fecd736",
   "metadata": {},
   "outputs": [],
   "source": [
    "from utility.MoleculeParser import MoleculeData\n",
    "from utility.QMUQUBO import QMUQUBO\n",
    "from utility.AnnealerOptimizer import Annealer\n",
    "from utility.ResultProcess import ResultParser\n",
    "import time\n",
    "\n",
    "timestamp = time.strftime(\"%Y%m%d-%H\")"
   ]
  },
  {
   "cell_type": "code",
   "execution_count": 27,
   "id": "ee681be9",
   "metadata": {},
   "outputs": [
    {
     "name": "stderr",
     "output_type": "stream",
     "text": [
      "INFO:root:_load_raw_result\n",
      "INFO:root:load simulated annealer raw result\n",
      "INFO:root:MoleculeData.load()\n",
      "INFO:root:init mol data for final position\n",
      "INFO:root:init mol data for raw position\n",
      "INFO:root:_parse_model_info\n",
      "INFO:root:_init_parameters\n",
      "INFO:root:parse simulated annealer result\n",
      "INFO:root:sa only has local_time!\n"
     ]
    },
    {
     "name": "stdout",
     "output_type": "stream",
     "text": [
      "time for dwave-sa: \n",
      "     local time is 129.5549328327179\n"
     ]
    }
   ],
   "source": [
    "method = \"dwave-sa\"\n",
    "sa_param = {}\n",
    "sa_param[\"raw_path\"] = raw_path\n",
    "sa_param[\"data_path\"] = data_path\n",
    "\n",
    "sa_process_result = ResultParser(method, **sa_param)\n",
    "# print(f\"{method} result is {sa_process_result.get_all_result()}\")\n",
    "\n",
    "local_time, _ , _, _= sa_process_result.get_time()\n",
    "\n",
    "print(f\"time for {method}: \\n \\\n",
    "    local time is {local_time}\")"
   ]
  },
  {
   "cell_type": "code",
   "execution_count": 28,
   "id": "c78e26dc",
   "metadata": {},
   "outputs": [
    {
     "name": "stderr",
     "output_type": "stream",
     "text": [
      "INFO:root:generate_optimize_pts()\n",
      "INFO:root:var_dict_raw {'14': ['1'], '15': ['8']} var_dict_list [{'14': '1', '15': '8'}]\n",
      "INFO:root:chosen var {'x_14_1', 'x_15_8'}\n",
      "INFO:root:tor list {'X_15_8', 'X_14_1'}\n",
      "INFO:root:initial 18.549876807564765\n",
      "INFO:root:optimize 18.56185411730613\n",
      "INFO:root:optimize_gain 1.0006456813630418\n",
      "INFO:root:start physical check\n",
      "INFO:root:save_mol_file 20220323-14\n",
      "INFO:root:finish save ./molecule-data/117_ideal_dwave-sa_20220323-14.mol2 and ./molecule-data/117_ideal_dwave-sa_20220323-14.json\n"
     ]
    },
    {
     "name": "stdout",
     "output_type": "stream",
     "text": [
      "result path is ./molecule-data/117_ideal_dwave-sa_20220323-14.mol2, and result optimization file path is ./molecule-data/117_ideal_dwave-sa_20220323-14.json\n"
     ]
    }
   ],
   "source": [
    "sa_atom_pos_data = sa_process_result.generate_optimize_pts()\n",
    "# save unfold file for visualization and parameters for experiment: 1. volume value 2. relative improvement\n",
    "sa_result_filepath, sa_result_json = sa_process_result.save_mol_file(f\"{timestamp}\")\n",
    "\n",
    "print(f\"result path is {sa_result_filepath}, and result optimization file path is {sa_result_json}\")"
   ]
  },
  {
   "cell_type": "code",
   "execution_count": 29,
   "id": "a12c756a",
   "metadata": {},
   "outputs": [
    {
     "data": {
      "text/plain": [
       "{'volume': {'optimize': 18.56185411730613,\n",
       "  'initial': 18.549876807564765,\n",
       "  'gain': 1.0006456813630418,\n",
       "  'unfolding_results': ['X_15_8', 'X_14_1'],\n",
       "  'annealing_results': ['x_14_1', 'x_15_8'],\n",
       "  'optimize_info': {'optimize_state': True, 'result_rank': 11}}}"
      ]
     },
     "execution_count": 29,
     "metadata": {},
     "output_type": "execute_result"
    }
   ],
   "source": [
    "sa_process_result.parameters"
   ]
  },
  {
   "cell_type": "markdown",
   "id": "392b7985",
   "metadata": {},
   "source": [
    "在第一个代码块中，可以看到SA的**local time**\n",
    "大约为 174 秒。\n",
    "使用 **generate_optimize_pts()** 方法，最终的 3D\n",
    "展开后的点会生成并保存为json文件和mol2文件。\n",
    "最后一个代码块显示优化结果，也存储在 json 文件中。从结果看出体积增加\n",
    "1.0212倍。 \n",
    "\n",
    "3.使用 QA 进行处理："
   ]
  },
  {
   "cell_type": "code",
   "execution_count": 30,
   "id": "c8eea314",
   "metadata": {},
   "outputs": [
    {
     "name": "stderr",
     "output_type": "stream",
     "text": [
      "INFO:root:_load_raw_result\n",
      "INFO:root:load quantum annealer raw result\n",
      "INFO:root:_read_result_obj\n",
      "INFO:root:_read_result_obj: annealer-experiment/22419429-2f93-4679-9305-a2e099dced7c/qa_result.pickle\n",
      "INFO:root:MoleculeData.load()\n",
      "INFO:root:init mol data for final position\n",
      "INFO:root:init mol data for raw position\n",
      "INFO:root:_parse_model_info\n",
      "INFO:root:_init_parameters\n",
      "INFO:root:parse quantum annealer result\n",
      "INFO:root:_read_result_obj\n",
      "INFO:root:_read_result_obj: annealer-experiment/22419429-2f93-4679-9305-a2e099dced7c/results.json\n"
     ]
    },
    {
     "name": "stdout",
     "output_type": "stream",
     "text": [
      "time for dwave-qa: \n",
      "     local time is 11.894113779067993,\n",
      "     task time is 3.327, \n",
      "     qpu total time is 0.144422, \n",
      "     qpu access time is 0.129189\n"
     ]
    }
   ],
   "source": [
    "method = \"dwave-qa\"\n",
    "qa_param = {}\n",
    "qa_param[\"bucket\"] = s3_bucket\n",
    "qa_param[\"prefix\"] = prefix\n",
    "qa_param[\"task_id\"] = qa_task_id\n",
    "qa_param[\"raw_path\"] = raw_path\n",
    "qa_param[\"data_path\"] = data_path\n",
    "\n",
    "qa_process_result = ResultParser(method, **qa_param)\n",
    "# print(f\"{method} result is {qa_process_result.get_all_result()}\")\n",
    "\n",
    "local_time, task_time, total_time, access_time = qa_process_result.get_time()\n",
    "\n",
    "print(f\"time for {method}: \\n \\\n",
    "    local time is {local_time},\\n \\\n",
    "    task time is {task_time}, \\n \\\n",
    "    qpu total time is {total_time}, \\n \\\n",
    "    qpu access time is {access_time}\")"
   ]
  },
  {
   "cell_type": "markdown",
   "id": "fa124178",
   "metadata": {},
   "source": [
    "\n",
    "运行 QA 的时间指标有很多种。\n",
    "该任务的**local time**为 7.7 秒，即调用 API 和\n",
    "得到退火结果之间的时间。 **task time**  是来自存放在桶里面的json 文件的指标。**qpu total time**和**qpu access time**表示\n",
    "在 QPU 中运行的实际时间。详情可参考[操作与时序](https://docs.dwavesys.com/docs/latest/c_qpu_timing.html)。"
   ]
  },
  {
   "cell_type": "code",
   "execution_count": 31,
   "id": "b7cc0999",
   "metadata": {},
   "outputs": [
    {
     "name": "stderr",
     "output_type": "stream",
     "text": [
      "INFO:root:generate_optimize_pts()\n",
      "INFO:root:var_dict_raw {'14': ['1'], '15': ['8']} var_dict_list [{'14': '1', '15': '8'}]\n",
      "INFO:root:chosen var {'x_14_1', 'x_15_8'}\n",
      "INFO:root:tor list {'X_15_8', 'X_14_1'}\n",
      "INFO:root:initial 18.549876807564765\n",
      "INFO:root:optimize 18.56185411730613\n",
      "INFO:root:optimize_gain 1.0006456813630418\n",
      "INFO:root:start physical check\n",
      "INFO:root:save_mol_file 20220323-14\n",
      "INFO:root:finish save ./molecule-data/117_ideal_dwave-qa_20220323-14.mol2 and ./molecule-data/117_ideal_dwave-qa_20220323-14.json\n"
     ]
    },
    {
     "name": "stdout",
     "output_type": "stream",
     "text": [
      "result path is ./molecule-data/117_ideal_dwave-qa_20220323-14.mol2, and result optimization file path is ./molecule-data/117_ideal_dwave-qa_20220323-14.json\n"
     ]
    }
   ],
   "source": [
    "qa_atom_pos_data = qa_process_result.generate_optimize_pts()\n",
    "# save unfold file for visualization and parameters for experiment: 1. volume value 2. relative improvement\n",
    "qa_result_filepath, qa_result_json = qa_process_result.save_mol_file(f\"{timestamp}\")\n",
    "print(f\"result path is {qa_result_filepath}, and result optimization file path is {qa_result_json}\")"
   ]
  },
  {
   "cell_type": "code",
   "execution_count": 32,
   "id": "a531017a",
   "metadata": {},
   "outputs": [
    {
     "data": {
      "text/plain": [
       "{'volume': {'optimize': 18.56185411730613,\n",
       "  'initial': 18.549876807564765,\n",
       "  'gain': 1.0006456813630418,\n",
       "  'unfolding_results': ['X_15_8', 'X_14_1'],\n",
       "  'annealing_results': ['x_14_1', 'x_15_8'],\n",
       "  'optimize_info': {'optimize_state': True, 'result_rank': 1}}}"
      ]
     },
     "execution_count": 32,
     "metadata": {},
     "output_type": "execute_result"
    }
   ],
   "source": [
    "qa_process_result.parameters"
   ]
  },
  {
   "cell_type": "markdown",
   "id": "2d3edcb7",
   "metadata": {},
   "source": [
    "\n",
    "同理，优化后的结果被保存为本地json和mol2文件。结果表明QA获得了\n",
    "1.021倍体积增加。"
   ]
  },
  {
   "cell_type": "markdown",
   "id": "356785f5",
   "metadata": {},
   "source": [
    "4.打开文件夹以获取优化的结果。\n",
    "\n",
    "如果执行更多实验，更多带有时间戳的结果会存储在这里。\n",
    "\n",
    "![optimize-results](../../../images/optimize-results.png)\n",
    "\n",
    " 图13：优化结果\n",
    "\n",
    "5.使用以下方法查看原始的和展开的分子形态。"
   ]
  },
  {
   "cell_type": "code",
   "execution_count": 37,
   "id": "baf8787f",
   "metadata": {},
   "outputs": [
    {
     "data": {
      "application/vnd.jupyter.widget-view+json": {
       "model_id": "b2d81e39bfb5414dbb04efef62627053",
       "version_major": 2,
       "version_minor": 0
      },
      "text/plain": [
       "interactive(children=(Text(value='./molecule-data/117_ideal.mol2', description='mol'), IntSlider(value=800, de…"
      ]
     },
     "metadata": {},
     "output_type": "display_data"
    }
   ],
   "source": [
    "# this shows the original molecule\n",
    "qa_process_result.InteractView(raw_path, size=800)"
   ]
  },
  {
   "cell_type": "code",
   "execution_count": 38,
   "id": "a21f8478",
   "metadata": {},
   "outputs": [
    {
     "data": {
      "application/vnd.jupyter.widget-view+json": {
       "model_id": "6f2d7cab339a46558d3be5f7ef944344",
       "version_major": 2,
       "version_minor": 0
      },
      "text/plain": [
       "interactive(children=(Text(value='./molecule-data/117_ideal_dwave-qa_20220323-14.mol2', description='mol'), In…"
      ]
     },
     "metadata": {},
     "output_type": "display_data"
    }
   ],
   "source": [
    "# copy the variable for the path of unfolding molecule, we can see the unfolding results. this also works for sa_process_result.\n",
    "qa_process_result.InteractView(qa_result_filepath, size=800)"
   ]
  },
  {
   "cell_type": "markdown",
   "id": "d1a07681",
   "metadata": {},
   "source": [
    "6.（可选）将mol2文件上传到\n",
    "[Protein Data Bank online viewer tool](https://www.rcsb.org/3d-view) \n",
    "查看结果:\n",
    "\n",
    "![visual](../../../images/visualization.png)\n",
    "\n",
    "图14：可视化"
   ]
  }
 ],
 "metadata": {
  "interpreter": {
   "hash": "18f113ef20d2e5656a0bc837e6c476bd436e29840b6ed1847ecdb90743164c58"
  },
  "kernelspec": {
   "display_name": "conda_braket",
   "language": "python",
   "name": "python3"
  },
  "language_info": {
   "codemirror_mode": {
    "name": "ipython",
    "version": 3
   },
   "file_extension": ".py",
   "mimetype": "text/x-python",
   "name": "python",
   "nbconvert_exporter": "python",
   "pygments_lexer": "ipython3",
   "version": "3.8.12"
  }
 },
 "nbformat": 4,
 "nbformat_minor": 5
}
