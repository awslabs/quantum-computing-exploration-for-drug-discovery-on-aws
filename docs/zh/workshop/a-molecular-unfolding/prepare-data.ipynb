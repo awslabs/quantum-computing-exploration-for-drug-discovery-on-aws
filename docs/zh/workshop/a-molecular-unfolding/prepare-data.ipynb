{
 "cells": [
  {
   "cell_type": "markdown",
   "id": "f1aede74",
   "metadata": {},
   "source": [
    "# 第一步: 准备数据"
   ]
  },
  {
   "cell_type": "markdown",
   "id": "e23f9cb5",
   "metadata": {},
   "source": [
    "本节介绍如何加载原始的分子数据。您也可以选择使用CloudFormation默认生成的资源。"
   ]
  },
  {
   "cell_type": "code",
   "execution_count": null,
   "id": "2a19e021",
   "metadata": {},
   "outputs": [],
   "source": [
    "from utility.MoleculeParser import MoleculeData\n",
    "from utility.QMUQUBO import QMUQUBO\n",
    "from utility.AnnealerOptimizer import Annealer\n",
    "from utility.ResultProcess import ResultParser\n",
    "import time\n",
    "\n",
    "timestamp = time.strftime(\"%Y%m%d-%H\")"
   ]
  },
  {
   "cell_type": "code",
   "execution_count": 2,
   "id": "6f4a79bd",
   "metadata": {},
   "outputs": [],
   "source": [
    "# initial parameters for experiment data\n",
    "s3_bucket = f\"xxxx\" # the name of the bucket\n",
    "prefix = \"xxxx\" # the name of the folder in the bucket\n",
    "\n",
    "raw_path = './molecule-data/117_ideal.mol2' # the mol2 file for this experiment"
   ]
  },
  {
   "cell_type": "code",
   "execution_count": 3,
   "id": "87bf78a5",
   "metadata": {},
   "outputs": [
    {
     "name": "stderr",
     "output_type": "stream",
     "text": [
      "INFO:root:parse mol2 file!\n",
      "INFO:root:finish save qmu_117_ideal_data_latest.pickle\n"
     ]
    },
    {
     "name": "stdout",
     "output_type": "stream",
     "text": [
      "You have loaded the raw molecule data and saved as ./qmu_117_ideal_data_latest.pickle. \n",
      "This molecule has 23 rotable bond\n"
     ]
    }
   ],
   "source": [
    "mol_data = MoleculeData(raw_path, 'qmu')\n",
    "\n",
    "data_path = mol_data.save(\"latest\")\n",
    "\n",
    "num_rotation_bond = mol_data.bond_graph.rb_num\n",
    "print(f\"You have loaded the raw molecule data and saved as {data_path}. \\n\\\n",
    "This molecule has {num_rotation_bond} rotable bond\")"
   ]
  },
  {
   "cell_type": "markdown",
   "id": "cc5c8378",
   "metadata": {},
   "source": [
    "本实验中使用的[117 配体](http://www.rcsb.org/ligand/117)文件存储在代码库中，参数**raw_path**用于设置配体文件的相对路径，参数**s3_bucket**和**prefix**用于存储优化结果。\n",
    "\n",
    "运行结束，处理后的数据将保存为**qmu_117_ideal_data_latest.pickle**，同时**data_path**将被更新。我们可以看到这个分子有23个可旋转的键。"
   ]
  }
 ],
 "metadata": {
  "interpreter": {
   "hash": "18f113ef20d2e5656a0bc837e6c476bd436e29840b6ed1847ecdb90743164c58"
  },
  "kernelspec": {
   "display_name": "conda_braket",
   "language": "python",
   "name": "python3"
  },
  "language_info": {
   "codemirror_mode": {
    "name": "ipython",
    "version": 3
   },
   "file_extension": ".py",
   "mimetype": "text/x-python",
   "name": "python",
   "nbconvert_exporter": "python",
   "pygments_lexer": "ipython3",
   "version": "3.7.12"
  }
 },
 "nbformat": 4,
 "nbformat_minor": 5
}
