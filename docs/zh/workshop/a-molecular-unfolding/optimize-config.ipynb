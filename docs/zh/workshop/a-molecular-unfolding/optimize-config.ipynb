{
 "cells": [
  {
   "cell_type": "markdown",
   "id": "f390d8f5",
   "metadata": {},
   "source": [
    "# 第三步骤：优化构型"
   ]
  },
  {
   "cell_type": "markdown",
   "id": "80c3afac",
   "metadata": {},
   "source": [
    "在这一部分中，我们使用 SA 和 QA 来寻找分子展开的优化构型。\n",
    "首先，我们使用 **QMUQUBO** 对象加载模型文件"
   ]
  },
  {
   "cell_type": "code",
   "execution_count": null,
   "id": "b3cfaa8f",
   "metadata": {},
   "outputs": [],
   "source": [
    "from utility.MoleculeParser import MoleculeData\n",
    "from utility.QMUQUBO import QMUQUBO\n",
    "from utility.AnnealerOptimizer import Annealer\n",
    "from utility.ResultProcess import ResultParser\n",
    "import time\n",
    "\n",
    "timestamp = time.strftime(\"%Y%m%d-%H\")"
   ]
  },
  {
   "cell_type": "code",
   "execution_count": 8,
   "id": "2ce1c8c2",
   "metadata": {},
   "outputs": [],
   "source": [
    "qmu_qubo_optimize = QMUQUBO.load(model_path)"
   ]
  },
  {
   "cell_type": "code",
   "execution_count": 9,
   "id": "9f44196e",
   "metadata": {},
   "outputs": [
    {
     "name": "stderr",
     "output_type": "stream",
     "text": [
      "INFO:root:method: pre-calc\n",
      "INFO:root:The model_name should be {M}_{D}_{A}_{hubo_qubo_val}\n",
      "INFO:root:param: M, value {2}\n",
      "INFO:root:param: D, value {8}\n",
      "INFO:root:param: A, value {300}\n",
      "INFO:root:param: hubo_qubo_val, value {200}\n"
     ]
    }
   ],
   "source": [
    "model_info = qmu_qubo_optimize.describe_model()"
   ]
  },
  {
   "cell_type": "markdown",
   "id": "55577c14",
   "metadata": {},
   "source": [
    "我们可以看到这个模型的参数，M等于2，D等于8，\n",
    "A等于300，hubo_qubo_val等于200。\n",
    "实际上，我们可以在这个文件中包含多个模型。\n",
    "这可以通过在创建模型时为一个参数提供多个值来实现。\n",
    "然后，我们需要使用 **model_name** 来获取模型进行实验。"
   ]
  },
  {
   "cell_type": "code",
   "execution_count": 10,
   "id": "6236a224",
   "metadata": {},
   "outputs": [],
   "source": [
    "# get the model you want to optimize\n",
    "M = 2\n",
    "D = 8\n",
    "A = 300\n",
    "hubo_qubo_val = 200\n",
    "model_name = \"{}_{}_{}_{}\".format(M, D, A, hubo_qubo_val)\n",
    "method = \"pre-calc\"\n",
    "\n",
    "qubo_model = qmu_qubo_optimize.get_model(method, model_name)"
   ]
  },
  {
   "cell_type": "markdown",
   "id": "a331536c",
   "metadata": {},
   "source": [
    "\n",
    "\n",
    "我们可以看到我们想用 M 等于 2 的 QUBO 模型进行实验。\n",
    " 之后，我们设置优化参数。\n",
    "\n",
    "|参数 |说明 |数值 |\n",
    "|--- |--- |--- |\n",
    "|method | QUBO问题的退火方法|'dwave-sa'：使用Ocean工具包中的模拟退火器<br>'dwave-qa'：使用量子退火器|\n",
    "|shots|读取次数，请参阅 [dwave-sa](https://docs.ocean.dwavesys.com/projects/neal/en/latest/reference/generated/neal.sampler.SimulatedAnnealingSampler.sample.html#neal.sampler. SimulatedAnnealingSampler.sample) 和 [dwave-qa](https://amazon-braket-ocean-plugin-python.readthedocs.io/en/latest/_apidoc/braket.ocean_plugin.braket_sampler.html) 了解详情 |1 到 10,000|\n",
    "|bucket |存储结果的 s3 存储桶 | - |\n",
    "|prefix | s3 存储桶中的文件夹名称 | - |\n",
    "|device |运行量子退火的 arn 名称| 'arn:aws:braket:::device/qpu/d-wave/Advantage_system4' <br> 'arn:aws:braket:::device/qpu/d-wave/DW_2000Q_6'|\n",
    "\n",
    "然后，我们可以针对这个问题运行 SA："
   ]
  },
  {
   "cell_type": "code",
   "execution_count": 11,
   "id": "ebcbe283",
   "metadata": {},
   "outputs": [
    {
     "name": "stderr",
     "output_type": "stream",
     "text": [
      "INFO:root:use simulated annealer from dimod\n"
     ]
    }
   ],
   "source": [
    "method = 'dwave-sa'\n",
    "\n",
    "optimizer_param = {}\n",
    "optimizer_param['shots'] = 1000\n",
    "\n",
    "sa_optimizer = Annealer(qubo_model, method, **optimizer_param)"
   ]
  },
  {
   "cell_type": "code",
   "execution_count": 12,
   "id": "d8b9cf23",
   "metadata": {},
   "outputs": [
    {
     "name": "stderr",
     "output_type": "stream",
     "text": [
      "INFO:root:fit() ...\n",
      "INFO:root:dwave-sa save to local\n",
      "INFO:root:finish save sa_result.pickle\n"
     ]
    }
   ],
   "source": [
    "sa_optimize_result = sa_optimizer.fit()"
   ]
  },
  {
   "cell_type": "markdown",
   "id": "7ab9dd20",
   "metadata": {},
   "source": [
    "我们可以看出我们将 SA 的shots设置为 1000。\n",
    "结果保存为本地文件**./sa_result.pickle.**\n",
    "或者，我们可以使用 QA 来解决这个问题："
   ]
  },
  {
   "cell_type": "code",
   "execution_count": 13,
   "id": "32257e1a",
   "metadata": {},
   "outputs": [
    {
     "name": "stderr",
     "output_type": "stream",
     "text": [
      "INFO:root:use quantum annealer arn:aws:braket:::device/qpu/d-wave/Advantage_system4 \n"
     ]
    }
   ],
   "source": [
    "method = 'dwave-qa'\n",
    "\n",
    "optimizer_param = {}\n",
    "optimizer_param['shots'] = 1000\n",
    "optimizer_param['bucket'] = s3_bucket # the name of the bucket\n",
    "optimizer_param['prefix'] = prefix # the name of the folder in the bucket\n",
    "optimizer_param['device'] = \"arn:aws:braket:::device/qpu/d-wave/Advantage_system4\"\n",
    "optimizer_param[\"embed_method\"] = \"default\"\n",
    "\n",
    "qa_optimizer = Annealer(qubo_model, method, **optimizer_param)"
   ]
  },
  {
   "cell_type": "markdown",
   "id": "e46eae55",
   "metadata": {},
   "source": [
    "在这个 QA 中，我们将shots数量设置为 1000，并且\n",
    "选择\n",
    "[Advantage_System4.1](https://docs.dwavesys.com/docs/latest/doc_physical_properties.html)\n",
    "作为QPU。此外，结果会自动保存到您的存储桶中，您\n",
    "可以获取任务ID。"
   ]
  },
  {
   "cell_type": "code",
   "execution_count": 14,
   "id": "36f29bad",
   "metadata": {},
   "outputs": [
    {
     "name": "stderr",
     "output_type": "stream",
     "text": [
      "INFO:root:fit() ...\n",
      "INFO:root:finish save /tmp/qa_result.pickle\n",
      "INFO:root:_upload_result_json, bucket=amazon-braket-1a222675c751, key=annealer-experiment/89a59fa9-c66e-482d-85e0-6dfce8c54454/qa_result.pickle\n",
      "INFO:root:dwave-qa save to s3 - 89a59fa9-c66e-482d-85e0-6dfce8c54454: None\n"
     ]
    }
   ],
   "source": [
    "# not create annealing task, only embedding logic\n",
    "qa_optimizer.embed()\n",
    "# create annealing task\n",
    "qa_optimize_result = qa_optimizer.fit()"
   ]
  },
  {
   "cell_type": "code",
   "execution_count": 15,
   "id": "6dd2085c",
   "metadata": {},
   "outputs": [
    {
     "name": "stdout",
     "output_type": "stream",
     "text": [
      "task id is 89a59fa9-c66e-482d-85e0-6dfce8c54454\n"
     ]
    }
   ],
   "source": [
    "qa_task_id = qa_optimizer.get_task_id()\n",
    "print(f\"task id is {qa_task_id}\")"
   ]
  },
  {
   "cell_type": "markdown",
   "id": "15f678c9",
   "metadata": {},
   "source": [
    "最后，我们可以比较 SA 和 QA 的执行时间："
   ]
  },
  {
   "cell_type": "code",
   "execution_count": 16,
   "id": "723be469",
   "metadata": {},
   "outputs": [
    {
     "name": "stdout",
     "output_type": "stream",
     "text": [
      "dwave-sa run time 175.73437476158142\n",
      "dwave-qa run time 7.57835578918457\n"
     ]
    }
   ],
   "source": [
    "print(f\"dwave-sa run time {sa_optimize_result['time']}\")\n",
    "print(f\"dwave-qa run time {qa_optimize_result['time']}\")"
   ]
  },
  {
   "cell_type": "markdown",
   "id": "47e296f2",
   "metadata": {},
   "source": [
    "我们可以看出SA和QA分别需要174.2秒和7.7秒可以完成优化过程。\n",
    "\n",
    "有的时候我们通过QA得到的结果只出现一次：\n",
    "\n",
    "\n",
    "![OneTimeQA](../../../images/one-time-qa.png)\n",
    "\n",
    "这并不总是表示错误。它实际上是反应了问题的特征或公式如何建立。\n",
    "因为我们有不同的线性项和二次项，它们相差许多数量级。要是我们\n",
    "将 A 的变化值设置为一些较小的数字，如 10 或 100，将观察到最佳答案出现的次数更多。\n",
    "但是，这些答案通常会打破限制。有关此现象的更多信息，请参阅此\n",
    "[链接](https://support.dwavesys.com/hc/en-us/community/posts/1500000698522-Number-of-occurrences-?input_string=number%20occurance)。"
   ]
  }
 ],
 "metadata": {
  "interpreter": {
   "hash": "18f113ef20d2e5656a0bc837e6c476bd436e29840b6ed1847ecdb90743164c58"
  },
  "kernelspec": {
   "display_name": "conda_braket",
   "language": "python",
   "name": "python3"
  },
  "language_info": {
   "codemirror_mode": {
    "name": "ipython",
    "version": 3
   },
   "file_extension": ".py",
   "mimetype": "text/x-python",
   "name": "python",
   "nbconvert_exporter": "python",
   "pygments_lexer": "ipython3",
   "version": "3.7.12"
  }
 },
 "nbformat": 4,
 "nbformat_minor": 5
}
