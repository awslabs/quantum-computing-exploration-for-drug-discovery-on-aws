{
 "cells": [
  {
   "cell_type": "code",
   "execution_count": 1,
   "metadata": {},
   "outputs": [
    {
     "name": "stdout",
     "output_type": "stream",
     "text": [
      "Requirement already satisfied: absl-py==1.4.0 in /opt/conda/envs/qc_hcls_protein_folding_qrw/lib/python3.7/site-packages (from -r requirements.txt (line 1)) (1.4.0)\n",
      "Requirement already satisfied: altair==4.2.2 in /opt/conda/envs/qc_hcls_protein_folding_qrw/lib/python3.7/site-packages (from -r requirements.txt (line 2)) (4.2.2)\n",
      "Requirement already satisfied: amazon-braket-default-simulator==1.11.5.post0 in /opt/conda/envs/qc_hcls_protein_folding_qrw/lib/python3.7/site-packages (from -r requirements.txt (line 3)) (1.11.5.post0)\n",
      "Requirement already satisfied: amazon-braket-schemas==1.14.1.post0 in /opt/conda/envs/qc_hcls_protein_folding_qrw/lib/python3.7/site-packages (from -r requirements.txt (line 4)) (1.14.1.post0)\n",
      "Requirement already satisfied: amazon-braket-sdk==1.35.5 in /opt/conda/envs/qc_hcls_protein_folding_qrw/lib/python3.7/site-packages (from -r requirements.txt (line 5)) (1.35.5)\n",
      "Requirement already satisfied: antlr4-python3-runtime==4.9.2 in /opt/conda/envs/qc_hcls_protein_folding_qrw/lib/python3.7/site-packages (from -r requirements.txt (line 6)) (4.9.2)\n",
      "Requirement already satisfied: anyio==3.6.2 in /opt/conda/envs/qc_hcls_protein_folding_qrw/lib/python3.7/site-packages (from -r requirements.txt (line 7)) (3.6.2)\n",
      "Requirement already satisfied: appdirs==1.4.4 in /opt/conda/envs/qc_hcls_protein_folding_qrw/lib/python3.7/site-packages (from -r requirements.txt (line 8)) (1.4.4)\n",
      "Requirement already satisfied: argon2-cffi==21.3.0 in /opt/conda/envs/qc_hcls_protein_folding_qrw/lib/python3.7/site-packages (from -r requirements.txt (line 9)) (21.3.0)\n",
      "Requirement already satisfied: argon2-cffi-bindings==21.2.0 in /opt/conda/envs/qc_hcls_protein_folding_qrw/lib/python3.7/site-packages (from -r requirements.txt (line 10)) (21.2.0)\n",
      "Requirement already satisfied: astor==0.8.1 in /opt/conda/envs/qc_hcls_protein_folding_qrw/lib/python3.7/site-packages (from -r requirements.txt (line 11)) (0.8.1)\n",
      "Requirement already satisfied: async-generator==1.10 in /opt/conda/envs/qc_hcls_protein_folding_qrw/lib/python3.7/site-packages (from -r requirements.txt (line 12)) (1.10)\n",
      "Requirement already satisfied: attrs==22.1.0 in /opt/conda/envs/qc_hcls_protein_folding_qrw/lib/python3.7/site-packages (from -r requirements.txt (line 13)) (22.1.0)\n",
      "Requirement already satisfied: Babel==2.11.0 in /opt/conda/envs/qc_hcls_protein_folding_qrw/lib/python3.7/site-packages (from -r requirements.txt (line 14)) (2.11.0)\n",
      "Requirement already satisfied: backcall==0.2.0 in /opt/conda/envs/qc_hcls_protein_folding_qrw/lib/python3.7/site-packages (from -r requirements.txt (line 15)) (0.2.0)\n",
      "Requirement already satisfied: backoff==2.2.1 in /opt/conda/envs/qc_hcls_protein_folding_qrw/lib/python3.7/site-packages (from -r requirements.txt (line 16)) (2.2.1)\n",
      "Requirement already satisfied: beautifulsoup4==4.11.2 in /opt/conda/envs/qc_hcls_protein_folding_qrw/lib/python3.7/site-packages (from -r requirements.txt (line 17)) (4.11.2)\n",
      "Requirement already satisfied: bleach==4.1.0 in /opt/conda/envs/qc_hcls_protein_folding_qrw/lib/python3.7/site-packages (from -r requirements.txt (line 18)) (4.1.0)\n",
      "Requirement already satisfied: bokeh==2.3.3 in /opt/conda/envs/qc_hcls_protein_folding_qrw/lib/python3.7/site-packages (from -r requirements.txt (line 19)) (2.3.3)\n",
      "Requirement already satisfied: boltons==23.0.0 in /opt/conda/envs/qc_hcls_protein_folding_qrw/lib/python3.7/site-packages (from -r requirements.txt (line 20)) (23.0.0)\n",
      "Requirement already satisfied: boto3==1.23.10 in /opt/conda/envs/qc_hcls_protein_folding_qrw/lib/python3.7/site-packages (from -r requirements.txt (line 21)) (1.23.10)\n",
      "Requirement already satisfied: botocore==1.26.10 in /opt/conda/envs/qc_hcls_protein_folding_qrw/lib/python3.7/site-packages (from -r requirements.txt (line 22)) (1.26.10)\n",
      "Requirement already satisfied: cached-property==1.5.2 in /opt/conda/envs/qc_hcls_protein_folding_qrw/lib/python3.7/site-packages (from -r requirements.txt (line 23)) (1.5.2)\n",
      "Collecting certifi==2022.12.7 (from -r requirements.txt (line 24))\n",
      "  Using cached certifi-2022.12.7-py3-none-any.whl (155 kB)\n",
      "Requirement already satisfied: cffi==1.15.1 in /opt/conda/envs/qc_hcls_protein_folding_qrw/lib/python3.7/site-packages (from -r requirements.txt (line 25)) (1.15.1)\n",
      "Requirement already satisfied: charset-normalizer==2.0.12 in /opt/conda/envs/qc_hcls_protein_folding_qrw/lib/python3.7/site-packages (from -r requirements.txt (line 26)) (2.0.12)\n",
      "Requirement already satisfied: contextvars==2.4 in /opt/conda/envs/qc_hcls_protein_folding_qrw/lib/python3.7/site-packages (from -r requirements.txt (line 27)) (2.4)\n",
      "Requirement already satisfied: cryptography==39.0.0 in /opt/conda/envs/qc_hcls_protein_folding_qrw/lib/python3.7/site-packages (from -r requirements.txt (line 28)) (39.0.0)\n",
      "Requirement already satisfied: cycler==0.11.0 in /opt/conda/envs/qc_hcls_protein_folding_qrw/lib/python3.7/site-packages (from -r requirements.txt (line 29)) (0.11.0)\n",
      "Collecting debugpy==1.6.6 (from -r requirements.txt (line 30))\n",
      "  Using cached debugpy-1.6.6-cp37-cp37m-manylinux_2_17_x86_64.manylinux2014_x86_64.whl (2.9 MB)\n",
      "Requirement already satisfied: decorator==5.1.1 in /opt/conda/envs/qc_hcls_protein_folding_qrw/lib/python3.7/site-packages (from -r requirements.txt (line 31)) (5.1.1)\n",
      "Requirement already satisfied: defusedxml==0.7.1 in /opt/conda/envs/qc_hcls_protein_folding_qrw/lib/python3.7/site-packages (from -r requirements.txt (line 32)) (0.7.1)\n",
      "Requirement already satisfied: dill==0.3.4 in /opt/conda/envs/qc_hcls_protein_folding_qrw/lib/python3.7/site-packages (from -r requirements.txt (line 33)) (0.3.4)\n",
      "Requirement already satisfied: dlx==1.0.4 in /opt/conda/envs/qc_hcls_protein_folding_qrw/lib/python3.7/site-packages (from -r requirements.txt (line 34)) (1.0.4)\n",
      "Requirement already satisfied: docplex==2.25.236 in /opt/conda/envs/qc_hcls_protein_folding_qrw/lib/python3.7/site-packages (from -r requirements.txt (line 35)) (2.25.236)\n",
      "Requirement already satisfied: entrypoints==0.4 in /opt/conda/envs/qc_hcls_protein_folding_qrw/lib/python3.7/site-packages (from -r requirements.txt (line 36)) (0.4)\n",
      "Requirement already satisfied: fastdtw==0.3.4 in /opt/conda/envs/qc_hcls_protein_folding_qrw/lib/python3.7/site-packages (from -r requirements.txt (line 37)) (0.3.4)\n",
      "Requirement already satisfied: fastjsonschema==2.16.2 in /opt/conda/envs/qc_hcls_protein_folding_qrw/lib/python3.7/site-packages (from -r requirements.txt (line 38)) (2.16.2)\n",
      "Requirement already satisfied: gast==0.2.2 in /opt/conda/envs/qc_hcls_protein_folding_qrw/lib/python3.7/site-packages (from -r requirements.txt (line 39)) (0.2.2)\n",
      "Requirement already satisfied: google-pasta==0.2.0 in /opt/conda/envs/qc_hcls_protein_folding_qrw/lib/python3.7/site-packages (from -r requirements.txt (line 40)) (0.2.0)\n",
      "Requirement already satisfied: grpcio==1.48.2 in /opt/conda/envs/qc_hcls_protein_folding_qrw/lib/python3.7/site-packages (from -r requirements.txt (line 41)) (1.48.2)\n",
      "Requirement already satisfied: h5py==2.10.0 in /opt/conda/envs/qc_hcls_protein_folding_qrw/lib/python3.7/site-packages (from -r requirements.txt (line 42)) (2.10.0)\n",
      "Requirement already satisfied: idna==3.4 in /opt/conda/envs/qc_hcls_protein_folding_qrw/lib/python3.7/site-packages (from -r requirements.txt (line 43)) (3.4)\n",
      "Requirement already satisfied: immutables==0.19 in /opt/conda/envs/qc_hcls_protein_folding_qrw/lib/python3.7/site-packages (from -r requirements.txt (line 44)) (0.19)\n",
      "Requirement already satisfied: importlib-metadata==4.8.3 in /opt/conda/envs/qc_hcls_protein_folding_qrw/lib/python3.7/site-packages (from -r requirements.txt (line 45)) (4.8.3)\n",
      "Requirement already satisfied: importlib-resources==5.12.0 in /opt/conda/envs/qc_hcls_protein_folding_qrw/lib/python3.7/site-packages (from -r requirements.txt (line 46)) (5.12.0)\n",
      "Requirement already satisfied: inflection==0.5.1 in /opt/conda/envs/qc_hcls_protein_folding_qrw/lib/python3.7/site-packages (from -r requirements.txt (line 47)) (0.5.1)\n",
      "Requirement already satisfied: install==1.3.5 in /opt/conda/envs/qc_hcls_protein_folding_qrw/lib/python3.7/site-packages (from -r requirements.txt (line 48)) (1.3.5)\n",
      "Requirement already satisfied: ipykernel==5.5.6 in /opt/conda/envs/qc_hcls_protein_folding_qrw/lib/python3.7/site-packages (from -r requirements.txt (line 49)) (5.5.6)\n",
      "Requirement already satisfied: ipython==7.16.3 in /opt/conda/envs/qc_hcls_protein_folding_qrw/lib/python3.7/site-packages (from -r requirements.txt (line 50)) (7.16.3)\n",
      "Requirement already satisfied: ipython-genutils==0.2.0 in /opt/conda/envs/qc_hcls_protein_folding_qrw/lib/python3.7/site-packages (from -r requirements.txt (line 51)) (0.2.0)\n",
      "Requirement already satisfied: jedi==0.17.2 in /opt/conda/envs/qc_hcls_protein_folding_qrw/lib/python3.7/site-packages (from -r requirements.txt (line 52)) (0.17.2)\n",
      "Requirement already satisfied: Jinja2==3.0.3 in /opt/conda/envs/qc_hcls_protein_folding_qrw/lib/python3.7/site-packages (from -r requirements.txt (line 53)) (3.0.3)\n",
      "Requirement already satisfied: jmespath==0.10.0 in /opt/conda/envs/qc_hcls_protein_folding_qrw/lib/python3.7/site-packages (from -r requirements.txt (line 54)) (0.10.0)\n",
      "Requirement already satisfied: joblib==1.1.1 in /opt/conda/envs/qc_hcls_protein_folding_qrw/lib/python3.7/site-packages (from -r requirements.txt (line 55)) (1.1.1)\n",
      "Requirement already satisfied: json5==0.9.11 in /opt/conda/envs/qc_hcls_protein_folding_qrw/lib/python3.7/site-packages (from -r requirements.txt (line 56)) (0.9.11)\n",
      "Requirement already satisfied: jsonschema==3.2.0 in /opt/conda/envs/qc_hcls_protein_folding_qrw/lib/python3.7/site-packages (from -r requirements.txt (line 57)) (3.2.0)\n",
      "Requirement already satisfied: jupyter-client==7.1.2 in /opt/conda/envs/qc_hcls_protein_folding_qrw/lib/python3.7/site-packages (from -r requirements.txt (line 58)) (7.1.2)\n",
      "Collecting jupyter-core==4.9.2 (from -r requirements.txt (line 59))\n",
      "  Using cached jupyter_core-4.9.2-py3-none-any.whl (86 kB)\n",
      "Requirement already satisfied: jupyter-server==1.13.1 in /opt/conda/envs/qc_hcls_protein_folding_qrw/lib/python3.7/site-packages (from -r requirements.txt (line 60)) (1.13.1)\n",
      "Requirement already satisfied: jupyterlab==3.2.9 in /opt/conda/envs/qc_hcls_protein_folding_qrw/lib/python3.7/site-packages (from -r requirements.txt (line 61)) (3.2.9)\n",
      "Requirement already satisfied: jupyterlab-pygments==0.1.2 in /opt/conda/envs/qc_hcls_protein_folding_qrw/lib/python3.7/site-packages (from -r requirements.txt (line 62)) (0.1.2)\n",
      "Requirement already satisfied: jupyterlab-server==2.10.3 in /opt/conda/envs/qc_hcls_protein_folding_qrw/lib/python3.7/site-packages (from -r requirements.txt (line 63)) (2.10.3)\n",
      "Requirement already satisfied: Keras==2.0.8 in /opt/conda/envs/qc_hcls_protein_folding_qrw/lib/python3.7/site-packages (from -r requirements.txt (line 64)) (2.0.8)\n",
      "Requirement already satisfied: Keras-Applications==1.0.8 in /opt/conda/envs/qc_hcls_protein_folding_qrw/lib/python3.7/site-packages (from -r requirements.txt (line 65)) (1.0.8)\n",
      "Requirement already satisfied: Keras-Preprocessing==1.1.2 in /opt/conda/envs/qc_hcls_protein_folding_qrw/lib/python3.7/site-packages (from -r requirements.txt (line 66)) (1.1.2)\n",
      "Requirement already satisfied: kiwisolver==1.3.1 in /opt/conda/envs/qc_hcls_protein_folding_qrw/lib/python3.7/site-packages (from -r requirements.txt (line 67)) (1.3.1)\n",
      "Requirement already satisfied: lxml==4.9.2 in /opt/conda/envs/qc_hcls_protein_folding_qrw/lib/python3.7/site-packages (from -r requirements.txt (line 68)) (4.9.2)\n",
      "Requirement already satisfied: Markdown==3.3.7 in /opt/conda/envs/qc_hcls_protein_folding_qrw/lib/python3.7/site-packages (from -r requirements.txt (line 69)) (3.3.7)\n",
      "Requirement already satisfied: MarkupSafe==2.0.1 in /opt/conda/envs/qc_hcls_protein_folding_qrw/lib/python3.7/site-packages (from -r requirements.txt (line 70)) (2.0.1)\n",
      "Requirement already satisfied: matplotlib==3.3.4 in /opt/conda/envs/qc_hcls_protein_folding_qrw/lib/python3.7/site-packages (from -r requirements.txt (line 71)) (3.3.4)\n",
      "Requirement already satisfied: matplotlib-inline==0.1.6 in /opt/conda/envs/qc_hcls_protein_folding_qrw/lib/python3.7/site-packages (from -r requirements.txt (line 72)) (0.1.6)\n",
      "Requirement already satisfied: mistune==0.8.4 in /opt/conda/envs/qc_hcls_protein_folding_qrw/lib/python3.7/site-packages (from -r requirements.txt (line 73)) (0.8.4)\n",
      "Requirement already satisfied: more-itertools==8.14.0 in /opt/conda/envs/qc_hcls_protein_folding_qrw/lib/python3.7/site-packages (from -r requirements.txt (line 74)) (8.14.0)\n",
      "Requirement already satisfied: mpmath==1.2.1 in /opt/conda/envs/qc_hcls_protein_folding_qrw/lib/python3.7/site-packages (from -r requirements.txt (line 75)) (1.2.1)\n",
      "Requirement already satisfied: multitasking==0.0.11 in /opt/conda/envs/qc_hcls_protein_folding_qrw/lib/python3.7/site-packages (from -r requirements.txt (line 76)) (0.0.11)\n",
      "Requirement already satisfied: mypy-extensions==1.0.0 in /opt/conda/envs/qc_hcls_protein_folding_qrw/lib/python3.7/site-packages (from -r requirements.txt (line 77)) (1.0.0)\n",
      "Requirement already satisfied: nbclassic==0.3.5 in /opt/conda/envs/qc_hcls_protein_folding_qrw/lib/python3.7/site-packages (from -r requirements.txt (line 78)) (0.3.5)\n",
      "Requirement already satisfied: nbclient==0.5.9 in /opt/conda/envs/qc_hcls_protein_folding_qrw/lib/python3.7/site-packages (from -r requirements.txt (line 79)) (0.5.9)\n",
      "Requirement already satisfied: nbconvert==6.0.7 in /opt/conda/envs/qc_hcls_protein_folding_qrw/lib/python3.7/site-packages (from -r requirements.txt (line 80)) (6.0.7)\n",
      "Requirement already satisfied: nbformat==5.1.3 in /opt/conda/envs/qc_hcls_protein_folding_qrw/lib/python3.7/site-packages (from -r requirements.txt (line 81)) (5.1.3)\n",
      "Requirement already satisfied: nest-asyncio==1.5.6 in /opt/conda/envs/qc_hcls_protein_folding_qrw/lib/python3.7/site-packages (from -r requirements.txt (line 82)) (1.5.6)\n",
      "Requirement already satisfied: networkx==2.6.3 in /opt/conda/envs/qc_hcls_protein_folding_qrw/lib/python3.7/site-packages (from -r requirements.txt (line 83)) (2.6.3)\n",
      "Requirement already satisfied: notebook==6.4.10 in /opt/conda/envs/qc_hcls_protein_folding_qrw/lib/python3.7/site-packages (from -r requirements.txt (line 84)) (6.4.10)\n",
      "Requirement already satisfied: notebook_shim==0.2.2 in /opt/conda/envs/qc_hcls_protein_folding_qrw/lib/python3.7/site-packages (from -r requirements.txt (line 85)) (0.2.2)\n",
      "Requirement already satisfied: ntlm-auth==1.5.0 in /opt/conda/envs/qc_hcls_protein_folding_qrw/lib/python3.7/site-packages (from -r requirements.txt (line 86)) (1.5.0)\n",
      "Requirement already satisfied: numpy==1.19.5 in /opt/conda/envs/qc_hcls_protein_folding_qrw/lib/python3.7/site-packages (from -r requirements.txt (line 87)) (1.19.5)\n",
      "Requirement already satisfied: openpulse==0.4.1 in /opt/conda/envs/qc_hcls_protein_folding_qrw/lib/python3.7/site-packages (from -r requirements.txt (line 88)) (0.4.1)\n",
      "Requirement already satisfied: openqasm3==0.4.0 in /opt/conda/envs/qc_hcls_protein_folding_qrw/lib/python3.7/site-packages (from -r requirements.txt (line 89)) (0.4.0)\n",
      "Requirement already satisfied: opt-einsum==3.3.0 in /opt/conda/envs/qc_hcls_protein_folding_qrw/lib/python3.7/site-packages (from -r requirements.txt (line 90)) (3.3.0)\n",
      "Requirement already satisfied: oqpy==0.1.2 in /opt/conda/envs/qc_hcls_protein_folding_qrw/lib/python3.7/site-packages (from -r requirements.txt (line 91)) (0.1.2)\n",
      "Requirement already satisfied: packaging==21.3 in /opt/conda/envs/qc_hcls_protein_folding_qrw/lib/python3.7/site-packages (from -r requirements.txt (line 92)) (21.3)\n",
      "Requirement already satisfied: pandas==1.1.5 in /opt/conda/envs/qc_hcls_protein_folding_qrw/lib/python3.7/site-packages (from -r requirements.txt (line 93)) (1.1.5)\n",
      "Requirement already satisfied: pandocfilters==1.5.0 in /opt/conda/envs/qc_hcls_protein_folding_qrw/lib/python3.7/site-packages (from -r requirements.txt (line 94)) (1.5.0)\n",
      "Requirement already satisfied: parso==0.7.1 in /opt/conda/envs/qc_hcls_protein_folding_qrw/lib/python3.7/site-packages (from -r requirements.txt (line 95)) (0.7.1)\n",
      "Requirement already satisfied: pbr==5.11.1 in /opt/conda/envs/qc_hcls_protein_folding_qrw/lib/python3.7/site-packages (from -r requirements.txt (line 96)) (5.11.1)\n",
      "Requirement already satisfied: pexpect==4.8.0 in /opt/conda/envs/qc_hcls_protein_folding_qrw/lib/python3.7/site-packages (from -r requirements.txt (line 97)) (4.8.0)\n",
      "Requirement already satisfied: pickleshare==0.7.5 in /opt/conda/envs/qc_hcls_protein_folding_qrw/lib/python3.7/site-packages (from -r requirements.txt (line 98)) (0.7.5)\n",
      "Requirement already satisfied: Pillow==8.4.0 in /opt/conda/envs/qc_hcls_protein_folding_qrw/lib/python3.7/site-packages (from -r requirements.txt (line 99)) (8.4.0)\n",
      "Requirement already satisfied: pip==23.0.1 in /opt/conda/envs/qc_hcls_protein_folding_qrw/lib/python3.7/site-packages (from -r requirements.txt (line 100)) (23.0.1)\n",
      "Requirement already satisfied: pkgutil_resolve_name==1.3.10 in /opt/conda/envs/qc_hcls_protein_folding_qrw/lib/python3.7/site-packages (from -r requirements.txt (line 101)) (1.3.10)\n",
      "Requirement already satisfied: ply==3.11 in /opt/conda/envs/qc_hcls_protein_folding_qrw/lib/python3.7/site-packages (from -r requirements.txt (line 102)) (3.11)\n",
      "Requirement already satisfied: prometheus-client==0.16.0 in /opt/conda/envs/qc_hcls_protein_folding_qrw/lib/python3.7/site-packages (from -r requirements.txt (line 103)) (0.16.0)\n",
      "Requirement already satisfied: prompt-toolkit==3.0.36 in /opt/conda/envs/qc_hcls_protein_folding_qrw/lib/python3.7/site-packages (from -r requirements.txt (line 104)) (3.0.36)\n",
      "Requirement already satisfied: protobuf==3.19.6 in /opt/conda/envs/qc_hcls_protein_folding_qrw/lib/python3.7/site-packages (from -r requirements.txt (line 105)) (3.19.6)\n",
      "Collecting psutil==5.9.4 (from -r requirements.txt (line 106))\n",
      "  Using cached psutil-5.9.4-cp36-abi3-manylinux_2_12_x86_64.manylinux2010_x86_64.manylinux_2_17_x86_64.manylinux2014_x86_64.whl (280 kB)\n",
      "Requirement already satisfied: ptyprocess==0.7.0 in /opt/conda/envs/qc_hcls_protein_folding_qrw/lib/python3.7/site-packages (from -r requirements.txt (line 107)) (0.7.0)\n",
      "Requirement already satisfied: pyasn1==0.4.8 in /opt/conda/envs/qc_hcls_protein_folding_qrw/lib/python3.7/site-packages (from -r requirements.txt (line 108)) (0.4.8)\n",
      "Requirement already satisfied: pycparser==2.21 in /opt/conda/envs/qc_hcls_protein_folding_qrw/lib/python3.7/site-packages (from -r requirements.txt (line 109)) (2.21)\n",
      "Requirement already satisfied: pydantic==1.10.2 in /opt/conda/envs/qc_hcls_protein_folding_qrw/lib/python3.7/site-packages (from -r requirements.txt (line 110)) (1.10.2)\n",
      "Requirement already satisfied: Pygments==2.14.0 in /opt/conda/envs/qc_hcls_protein_folding_qrw/lib/python3.7/site-packages (from -r requirements.txt (line 111)) (2.14.0)\n",
      "Requirement already satisfied: pyparsing==3.0.9 in /opt/conda/envs/qc_hcls_protein_folding_qrw/lib/python3.7/site-packages (from -r requirements.txt (line 112)) (3.0.9)\n",
      "Requirement already satisfied: pyrsistent==0.18.0 in /opt/conda/envs/qc_hcls_protein_folding_qrw/lib/python3.7/site-packages (from -r requirements.txt (line 113)) (0.18.0)\n",
      "Requirement already satisfied: python-constraint==1.4.0 in /opt/conda/envs/qc_hcls_protein_folding_qrw/lib/python3.7/site-packages (from -r requirements.txt (line 114)) (1.4.0)\n",
      "Requirement already satisfied: python-dateutil==2.8.2 in /opt/conda/envs/qc_hcls_protein_folding_qrw/lib/python3.7/site-packages (from -r requirements.txt (line 115)) (2.8.2)\n",
      "Requirement already satisfied: pytz==2022.6 in /opt/conda/envs/qc_hcls_protein_folding_qrw/lib/python3.7/site-packages (from -r requirements.txt (line 116)) (2022.6)\n",
      "Requirement already satisfied: PyYAML==6.0 in /opt/conda/envs/qc_hcls_protein_folding_qrw/lib/python3.7/site-packages (from -r requirements.txt (line 117)) (6.0)\n",
      "Collecting pyzmq==25.0.0 (from -r requirements.txt (line 118))\n",
      "  Using cached pyzmq-25.0.0-cp37-cp37m-manylinux_2_5_x86_64.manylinux1_x86_64.whl (1.0 MB)\n",
      "Requirement already satisfied: qiskit==0.34.2 in /opt/conda/envs/qc_hcls_protein_folding_qrw/lib/python3.7/site-packages (from -r requirements.txt (line 119)) (0.34.2)\n",
      "Requirement already satisfied: qiskit-aer==0.10.3 in /opt/conda/envs/qc_hcls_protein_folding_qrw/lib/python3.7/site-packages (from -r requirements.txt (line 120)) (0.10.3)\n",
      "Requirement already satisfied: qiskit-aqua==0.9.5 in /opt/conda/envs/qc_hcls_protein_folding_qrw/lib/python3.7/site-packages (from -r requirements.txt (line 121)) (0.9.5)\n",
      "Requirement already satisfied: qiskit-ibmq-provider==0.18.3 in /opt/conda/envs/qc_hcls_protein_folding_qrw/lib/python3.7/site-packages (from -r requirements.txt (line 122)) (0.18.3)\n",
      "Requirement already satisfied: qiskit-ignis==0.7.0 in /opt/conda/envs/qc_hcls_protein_folding_qrw/lib/python3.7/site-packages (from -r requirements.txt (line 123)) (0.7.0)\n",
      "Requirement already satisfied: qiskit-terra==0.19.2 in /opt/conda/envs/qc_hcls_protein_folding_qrw/lib/python3.7/site-packages (from -r requirements.txt (line 124)) (0.19.2)\n",
      "Requirement already satisfied: Quandl==3.7.0 in /opt/conda/envs/qc_hcls_protein_folding_qrw/lib/python3.7/site-packages (from -r requirements.txt (line 125)) (3.7.0)\n",
      "Requirement already satisfied: requests==2.27.1 in /opt/conda/envs/qc_hcls_protein_folding_qrw/lib/python3.7/site-packages (from -r requirements.txt (line 126)) (2.27.1)\n",
      "Requirement already satisfied: requests-ntlm==1.1.0 in /opt/conda/envs/qc_hcls_protein_folding_qrw/lib/python3.7/site-packages (from -r requirements.txt (line 127)) (1.1.0)\n",
      "Requirement already satisfied: retworkx==0.11.0 in /opt/conda/envs/qc_hcls_protein_folding_qrw/lib/python3.7/site-packages (from -r requirements.txt (line 128)) (0.11.0)\n",
      "Requirement already satisfied: s3transfer==0.5.2 in /opt/conda/envs/qc_hcls_protein_folding_qrw/lib/python3.7/site-packages (from -r requirements.txt (line 129)) (0.5.2)\n",
      "Requirement already satisfied: scikit-learn==0.24.2 in /opt/conda/envs/qc_hcls_protein_folding_qrw/lib/python3.7/site-packages (from -r requirements.txt (line 130)) (0.24.2)\n",
      "Requirement already satisfied: scipy==1.5.4 in /opt/conda/envs/qc_hcls_protein_folding_qrw/lib/python3.7/site-packages (from -r requirements.txt (line 131)) (1.5.4)\n",
      "Requirement already satisfied: Send2Trash==1.8.0 in /opt/conda/envs/qc_hcls_protein_folding_qrw/lib/python3.7/site-packages (from -r requirements.txt (line 132)) (1.8.0)\n",
      "Requirement already satisfied: setproctitle==1.3.2 in /opt/conda/envs/qc_hcls_protein_folding_qrw/lib/python3.7/site-packages (from -r requirements.txt (line 133)) (1.3.2)\n",
      "Requirement already satisfied: setuptools==67.6.0 in /opt/conda/envs/qc_hcls_protein_folding_qrw/lib/python3.7/site-packages (from -r requirements.txt (line 134)) (67.6.0)\n",
      "Requirement already satisfied: six==1.16.0 in /opt/conda/envs/qc_hcls_protein_folding_qrw/lib/python3.7/site-packages (from -r requirements.txt (line 135)) (1.16.0)\n",
      "Requirement already satisfied: sniffio==1.2.0 in /opt/conda/envs/qc_hcls_protein_folding_qrw/lib/python3.7/site-packages (from -r requirements.txt (line 136)) (1.2.0)\n",
      "Requirement already satisfied: soupsieve==2.4 in /opt/conda/envs/qc_hcls_protein_folding_qrw/lib/python3.7/site-packages (from -r requirements.txt (line 137)) (2.4)\n",
      "Requirement already satisfied: stevedore==3.5.2 in /opt/conda/envs/qc_hcls_protein_folding_qrw/lib/python3.7/site-packages (from -r requirements.txt (line 138)) (3.5.2)\n",
      "Requirement already satisfied: symengine==0.8.1 in /opt/conda/envs/qc_hcls_protein_folding_qrw/lib/python3.7/site-packages (from -r requirements.txt (line 139)) (0.8.1)\n",
      "Requirement already satisfied: sympy==1.9 in /opt/conda/envs/qc_hcls_protein_folding_qrw/lib/python3.7/site-packages (from -r requirements.txt (line 140)) (1.9)\n",
      "Requirement already satisfied: tensorboard==1.15.0 in /opt/conda/envs/qc_hcls_protein_folding_qrw/lib/python3.7/site-packages (from -r requirements.txt (line 141)) (1.15.0)\n",
      "Requirement already satisfied: tensorflow==1.15.0 in /opt/conda/envs/qc_hcls_protein_folding_qrw/lib/python3.7/site-packages (from -r requirements.txt (line 142)) (1.15.0)\n",
      "Requirement already satisfied: tensorflow-estimator==1.15.1 in /opt/conda/envs/qc_hcls_protein_folding_qrw/lib/python3.7/site-packages (from -r requirements.txt (line 143)) (1.15.1)\n",
      "Requirement already satisfied: termcolor==1.1.0 in /opt/conda/envs/qc_hcls_protein_folding_qrw/lib/python3.7/site-packages (from -r requirements.txt (line 144)) (1.1.0)\n",
      "Requirement already satisfied: terminado==0.12.1 in /opt/conda/envs/qc_hcls_protein_folding_qrw/lib/python3.7/site-packages (from -r requirements.txt (line 145)) (0.12.1)\n",
      "Requirement already satisfied: testpath==0.6.0 in /opt/conda/envs/qc_hcls_protein_folding_qrw/lib/python3.7/site-packages (from -r requirements.txt (line 146)) (0.6.0)\n",
      "Requirement already satisfied: threadpoolctl==3.1.0 in /opt/conda/envs/qc_hcls_protein_folding_qrw/lib/python3.7/site-packages (from -r requirements.txt (line 147)) (3.1.0)\n",
      "Requirement already satisfied: tinycss2==1.2.1 in /opt/conda/envs/qc_hcls_protein_folding_qrw/lib/python3.7/site-packages (from -r requirements.txt (line 148)) (1.2.1)\n",
      "Requirement already satisfied: toolz==0.12.0 in /opt/conda/envs/qc_hcls_protein_folding_qrw/lib/python3.7/site-packages (from -r requirements.txt (line 149)) (0.12.0)\n",
      "Requirement already satisfied: tornado==6.1 in /opt/conda/envs/qc_hcls_protein_folding_qrw/lib/python3.7/site-packages (from -r requirements.txt (line 150)) (6.1)\n",
      "Requirement already satisfied: traitlets==4.3.3 in /opt/conda/envs/qc_hcls_protein_folding_qrw/lib/python3.7/site-packages (from -r requirements.txt (line 151)) (4.3.3)\n",
      "Requirement already satisfied: tweedledum==1.1.1 in /opt/conda/envs/qc_hcls_protein_folding_qrw/lib/python3.7/site-packages (from -r requirements.txt (line 152)) (1.1.1)\n",
      "Requirement already satisfied: typing_extensions==4.1.1 in /opt/conda/envs/qc_hcls_protein_folding_qrw/lib/python3.7/site-packages (from -r requirements.txt (line 153)) (4.1.1)\n",
      "Requirement already satisfied: urllib3==1.26.14 in /opt/conda/envs/qc_hcls_protein_folding_qrw/lib/python3.7/site-packages (from -r requirements.txt (line 154)) (1.26.14)\n",
      "Requirement already satisfied: wcwidth==0.2.6 in /opt/conda/envs/qc_hcls_protein_folding_qrw/lib/python3.7/site-packages (from -r requirements.txt (line 155)) (0.2.6)\n",
      "Requirement already satisfied: webencodings==0.5.1 in /opt/conda/envs/qc_hcls_protein_folding_qrw/lib/python3.7/site-packages (from -r requirements.txt (line 156)) (0.5.1)\n",
      "Requirement already satisfied: websocket-client==1.3.1 in /opt/conda/envs/qc_hcls_protein_folding_qrw/lib/python3.7/site-packages (from -r requirements.txt (line 157)) (1.3.1)\n",
      "Requirement already satisfied: Werkzeug==2.0.3 in /opt/conda/envs/qc_hcls_protein_folding_qrw/lib/python3.7/site-packages (from -r requirements.txt (line 158)) (2.0.3)\n",
      "Requirement already satisfied: wheel==0.38.4 in /opt/conda/envs/qc_hcls_protein_folding_qrw/lib/python3.7/site-packages (from -r requirements.txt (line 159)) (0.38.4)\n",
      "Requirement already satisfied: wrapt==1.14.1 in /opt/conda/envs/qc_hcls_protein_folding_qrw/lib/python3.7/site-packages (from -r requirements.txt (line 160)) (1.14.1)\n",
      "Requirement already satisfied: yfinance==0.1.87 in /opt/conda/envs/qc_hcls_protein_folding_qrw/lib/python3.7/site-packages (from -r requirements.txt (line 161)) (0.1.87)\n",
      "Requirement already satisfied: zipp==3.6.0 in /opt/conda/envs/qc_hcls_protein_folding_qrw/lib/python3.7/site-packages (from -r requirements.txt (line 162)) (3.6.0)\n",
      "Installing collected packages: pyzmq, psutil, debugpy, certifi, jupyter-core\n",
      "  Attempting uninstall: pyzmq\n",
      "    Found existing installation: pyzmq 24.0.1\n",
      "    Uninstalling pyzmq-24.0.1:\n",
      "      Successfully uninstalled pyzmq-24.0.1\n",
      "  Attempting uninstall: psutil\n",
      "    Found existing installation: psutil 5.9.3\n",
      "    Uninstalling psutil-5.9.3:\n",
      "      Successfully uninstalled psutil-5.9.3\n",
      "  Attempting uninstall: debugpy\n",
      "    Found existing installation: debugpy 1.6.3\n",
      "    Uninstalling debugpy-1.6.3:\n",
      "      Successfully uninstalled debugpy-1.6.3\n",
      "  Attempting uninstall: certifi\n",
      "    Found existing installation: certifi 2023.5.7\n",
      "    Uninstalling certifi-2023.5.7:\n",
      "      Successfully uninstalled certifi-2023.5.7\n",
      "  Attempting uninstall: jupyter-core\n",
      "    Found existing installation: jupyter_core 4.11.1\n",
      "    Uninstalling jupyter_core-4.11.1:\n",
      "      Successfully uninstalled jupyter_core-4.11.1\n",
      "Successfully installed certifi-2022.12.7 debugpy-1.6.6 jupyter-core-4.9.2 psutil-5.9.4 pyzmq-25.0.0\n",
      "\n",
      "\u001b[1m[\u001b[0m\u001b[34;49mnotice\u001b[0m\u001b[1;39;49m]\u001b[0m\u001b[39;49m A new release of pip is available: \u001b[0m\u001b[31;49m23.0.1\u001b[0m\u001b[39;49m -> \u001b[0m\u001b[32;49m23.1.2\u001b[0m\n",
      "\u001b[1m[\u001b[0m\u001b[34;49mnotice\u001b[0m\u001b[1;39;49m]\u001b[0m\u001b[39;49m To update, run: \u001b[0m\u001b[32;49mpip install --upgrade pip\u001b[0m\n"
     ]
    }
   ],
   "source": [
    "!pip install -r requirements.txt"
   ]
  },
  {
   "attachments": {},
   "cell_type": "markdown",
   "metadata": {},
   "source": [
    "# Algorithm Explained"
   ]
  },
  {
   "cell_type": "code",
   "execution_count": 1,
   "metadata": {},
   "outputs": [
    {
     "name": "stderr",
     "output_type": "stream",
     "text": [
      "Using TensorFlow backend.\n"
     ]
    }
   ],
   "source": [
    "import sys\n",
    "sys.path.append(\"./hybridjobs/utility\")\n",
    "\n",
    "from hybridjobs.utility.ProteinParser import ProteinData\n",
    "from hybridjobs.utility.ProteinModel import ProteinModel\n",
    "from hybridjobs.utility.ProteinStructurePrediction import ProteinStructurePrediction\n",
    "import time\n",
    "\n",
    "timestamp = time.strftime(\"%Y%m%d-%H\")"
   ]
  },
  {
   "attachments": {},
   "cell_type": "markdown",
   "metadata": {},
   "source": [
    "#### Step 1: Prepare Data\n",
    "\n",
    "In this part, we have prepared the precalculated energies files in advance for doing protein folding experiments"
   ]
  },
  {
   "cell_type": "code",
   "execution_count": 2,
   "metadata": {},
   "outputs": [],
   "source": [
    "# input: aminoacids\n",
    "# output: energy files\n",
    "\n",
    "protein_name = 'glycylglycine'\n",
    "aminoacids = 'GG'\n",
    "number_bits_to_discretize_protein_angles = 4\n",
    "protein_id = 0\n",
    "\n",
    "data_path='protein-folding-data'"
   ]
  },
  {
   "attachments": {},
   "cell_type": "markdown",
   "metadata": {},
   "source": [
    "#### Step 2: Build Model\n",
    "\n",
    "In this part, we will show how to build model for qfold"
   ]
  },
  {
   "cell_type": "code",
   "execution_count": 3,
   "metadata": {},
   "outputs": [
    {
     "name": "stderr",
     "output_type": "stream",
     "text": [
      "INFO:root:Initial parameters for protein glycylglycine_3_GG using qfold-cc\n",
      "INFO:root:Initial parameters for protein glycylglycine_3_GG using qfold-qc\n",
      "INFO:root:Initial parameters for protein glycylglycine_4_GG using qfold-cc\n",
      "INFO:root:Initial parameters for protein glycylglycine_4_GG using qfold-qc\n"
     ]
    }
   ],
   "source": [
    "# initial the ProteinFold object\n",
    "init_param = {}\n",
    "# method: qfold-cc stands for the classical metropolis method in QFold\n",
    "# method: qfold-qc stands for the quantum metropolis method in QFold\n",
    "method = ['qfold-cc', 'qfold-qc']\n",
    "\n",
    "for mt in method:\n",
    "    if mt == 'qfold-cc':\n",
    "        init_param[mt] = {}\n",
    "        init_param[mt]['params'] = [\"initialization\"]\n",
    "    elif mt == 'qfold-qc':\n",
    "        init_param[mt] = {}\n",
    "        init_param[mt]['params'] = [\"initialization\"]\n",
    "\n",
    "config_path = \"hybridjobs/config/config.json\"\n",
    "protein_model = ProteinModel(data_path, method, config_path, **init_param)"
   ]
  },
  {
   "cell_type": "code",
   "execution_count": 4,
   "metadata": {},
   "outputs": [
    {
     "name": "stdout",
     "output_type": "stream",
     "text": [
      "deltas_dict length for glycylglycine_3_GG: 256\n",
      "deltas_dict length for glycylglycine_3_GG: 256\n",
      "deltas_dict length for glycylglycine_4_GG: 1024\n",
      "deltas_dict length for glycylglycine_4_GG: 1024\n",
      "deltas_dict length for glycylglycine_3_GG: 256\n",
      "deltas_dict length for glycylglycine_3_GG: 256\n",
      "deltas_dict length for glycylglycine_4_GG: 1024\n",
      "deltas_dict length for glycylglycine_4_GG: 1024\n"
     ]
    },
    {
     "data": {
      "text/plain": [
       "0"
      ]
     },
     "execution_count": 4,
     "metadata": {},
     "output_type": "execute_result"
    }
   ],
   "source": [
    "# set the parameters for model\n",
    "model_param = {}\n",
    "\n",
    "method = 'qfold-cc'\n",
    "model_param[method] = {}\n",
    "\n",
    "# parameters\n",
    "model_param[method]['initialization'] = [\"minifold\", \"random\"]\n",
    "\n",
    "method = 'qfold-qc'\n",
    "model_param[method] = {}\n",
    "\n",
    "# parameters\n",
    "model_param[method]['initialization'] = [\"minifold\", \"random\"]\n",
    "\n",
    "protein_model.build_models(**model_param)\n"
   ]
  },
  {
   "cell_type": "code",
   "execution_count": 5,
   "metadata": {},
   "outputs": [
    {
     "name": "stderr",
     "output_type": "stream",
     "text": [
      "INFO:root:finish save protein_folding_latest.pickle\n"
     ]
    },
    {
     "name": "stdout",
     "output_type": "stream",
     "text": [
      "You have built the protein folding models and saved them as protein_folding_latest.pickle\n"
     ]
    }
   ],
   "source": [
    "# save the model\n",
    "model_path = protein_model.save(\"latest\")\n",
    "\n",
    "print(f\"You have built the protein folding models and saved them as protein_folding_latest.pickle\")"
   ]
  },
  {
   "attachments": {},
   "cell_type": "markdown",
   "metadata": {},
   "source": [
    "#### Step 3: Predict Protein Structure\n",
    "\n",
    "In this part, we will show how to run models for predicting protein structure"
   ]
  },
  {
   "cell_type": "code",
   "execution_count": 6,
   "metadata": {},
   "outputs": [],
   "source": [
    "protein_models = ProteinModel.load(model_path)"
   ]
  },
  {
   "cell_type": "code",
   "execution_count": 7,
   "metadata": {},
   "outputs": [
    {
     "name": "stderr",
     "output_type": "stream",
     "text": [
      "INFO:root:debug describe\n",
      "INFO:root:model name: glycylglycine_3_GG, method: qfold-cc\n",
      "INFO:root:param: initialization, value {'random', 'minifold'}\n",
      "INFO:root:model name: glycylglycine_3_GG, method: qfold-qc\n",
      "INFO:root:param: initialization, value {'random', 'minifold'}\n",
      "INFO:root:model name: glycylglycine_4_GG, method: qfold-cc\n",
      "INFO:root:param: initialization, value {'random', 'minifold'}\n",
      "INFO:root:model name: glycylglycine_4_GG, method: qfold-qc\n",
      "INFO:root:param: initialization, value {'random', 'minifold'}\n"
     ]
    }
   ],
   "source": [
    "model_info = protein_models.describe_models()"
   ]
  },
  {
   "cell_type": "code",
   "execution_count": 8,
   "metadata": {},
   "outputs": [],
   "source": [
    "# get the model you want to optimize\n",
    "protein_name = 'glycylglycine_3_GG'\n",
    "initialization = 'random'\n",
    "method = 'qfold-cc'\n",
    "\n",
    "model_name = \"{}+{}\".format(protein_name, initialization)\n",
    "\n",
    "protein_model = protein_models.get_model(protein_name, method, model_name)\n",
    "\n"
   ]
  },
  {
   "cell_type": "code",
   "execution_count": 9,
   "metadata": {},
   "outputs": [
    {
     "name": "stderr",
     "output_type": "stream",
     "text": [
      "INFO:root:initial protein structure prediction using qfold-cc in QFold\n",
      "INFO:root:CLASSICAL METROPOLIS: Time for 2 steps: 0.3035731315612793 seconds\n",
      "INFO:root:CLASSICAL METROPOLIS: Time for 3 steps: 0.42159223556518555 seconds\n",
      "INFO:root:CLASSICAL METROPOLIS: Time for 4 steps: 0.5437848567962646 seconds\n",
      "INFO:root:CLASSICAL METROPOLIS: Time for 5 steps: 0.668097734451294 seconds\n",
      "INFO:root:CLASSICAL METROPOLIS: Time for 6 steps: 0.8060107231140137 seconds\n",
      "INFO:root:CLASSICAL METROPOLIS: Time for 7 steps: 0.9142270088195801 seconds\n",
      "INFO:root:CLASSICAL METROPOLIS: Time for 8 steps: 1.0407094955444336 seconds\n",
      "INFO:root:CLASSICAL METROPOLIS: Time for 9 steps: 1.1587982177734375 seconds\n",
      "INFO:root:finish save tts_results_glycylglycine_3_GG+random_1000_qfold-cc.json\n"
     ]
    }
   ],
   "source": [
    "data_path = 'data'\n",
    "# psp_param stands for the parameters for predicting protein structure\n",
    "psp_param = {}\n",
    "psp_param[\"data_path\"] = data_path\n",
    "psp_param[\"mode\"] = 'local-simulator'\n",
    "psp_param[\"model_name\"] = model_name\n",
    "psp_param[\"model_path\"] = model_path\n",
    "\n",
    "psp = ProteinStructurePrediction(protein_model, method, config_path, **psp_param)\n",
    "\n",
    "psp.run()\n",
    "\n"
   ]
  },
  {
   "cell_type": "code",
   "execution_count": 10,
   "metadata": {},
   "outputs": [],
   "source": [
    "initialization = 'random'\n",
    "method = 'qfold-qc'\n",
    "\n",
    "model_name = \"{}+{}\".format(protein_name, initialization)\n",
    "\n",
    "protein_model = protein_models.get_model(protein_name, method, model_name)\n",
    "\n"
   ]
  },
  {
   "cell_type": "code",
   "execution_count": 11,
   "metadata": {},
   "outputs": [
    {
     "name": "stderr",
     "output_type": "stream",
     "text": [
      "INFO:root:initial protein structure prediction using qfold-qc in QFold\n",
      "INFO:qiskit.compiler.assembler:Total Assembly Time - 0.10800 (ms)\n",
      "INFO:qiskit.compiler.assembler:Total Assembly Time - 0.05174 (ms)\n",
      "INFO:qiskit.compiler.assembler:Total Assembly Time - 0.04840 (ms)\n",
      "INFO:qiskit.transpiler.runningpassmanager:Pass: UnitarySynthesis - 0.01073 (ms)\n",
      "INFO:qiskit.transpiler.runningpassmanager:Pass: UnrollCustomDefinitions - 27500.04935 (ms)\n",
      "INFO:qiskit.transpiler.passes.basis.basis_translator:Begin BasisTranslator from source basis {('ccx', 3), ('mcx', 5), ('cx', 2), ('mcx', 4), ('mcu1', 9), ('snapshot', 16), ('cu3', 2), ('x', 1), ('h', 1)} to target basis {'save_expval', 'barrier', 'mcrx', 'ryy', 'cu3', 'roerror', 'mcz', 'cu', 'measure', 'delay', 'mcr', 'rzz', 'sdg', 'save_state', 'cy', 'rzx', 'unitary', 'mcphase', 'qerror_loc', 'save_probs_ket', 'cu1', 'initialize', 't', 'z', 'cswap', 'ry', 'u', 'sxdg', 'h', 'csx', 'id', 'mcry', 'swap', 'kraus', 'p', 'r', 'rx', 'cx', 'mcp', 'mcu3', 'rxx', 'save_probs', 'set_statevector', 'save_amplitudes_sq', 'mcx', 'snapshot', 'mcswap', 'u2', 'u1', 'ccx', 'mcu', 'cz', 'tdg', 'sx', 'mcrz', 'y', 'multiplexer', 'mcu1', 'reset', 'mcy', 'cu2', 'save_amplitudes', 'u3', 'save_density_matrix', 'diagonal', 'rz', 'save_statevector', 'pauli', 'cp', 'mcu2', 'quantum_channel', 'x', 's', 'mcsx'}.\n",
      "INFO:qiskit.transpiler.passes.basis.basis_translator:Basis translation path search completed in 0.000s.\n",
      "INFO:qiskit.transpiler.passes.basis.basis_translator:Basis translation paths composed in 0.096s.\n",
      "INFO:qiskit.transpiler.passes.basis.basis_translator:Basis translation instructions replaced in 0.414s.\n",
      "INFO:qiskit.transpiler.runningpassmanager:Pass: BasisTranslator - 680.49669 (ms)\n",
      "INFO:qiskit.transpiler.runningpassmanager:Pass: RemoveResetInZeroState - 33.23388 (ms)\n",
      "INFO:qiskit.transpiler.runningpassmanager:Pass: Depth - 35.45284 (ms)\n",
      "INFO:qiskit.transpiler.runningpassmanager:Pass: FixedPoint - 0.01335 (ms)\n",
      "INFO:qiskit.transpiler.runningpassmanager:Pass: Optimize1qGatesDecomposition - 36900.12527 (ms)\n",
      "INFO:qiskit.transpiler.runningpassmanager:Pass: CXCancellation - 47.61624 (ms)\n",
      "INFO:qiskit.transpiler.runningpassmanager:Pass: UnitarySynthesis - 0.01121 (ms)\n",
      "INFO:qiskit.transpiler.runningpassmanager:Pass: UnrollCustomDefinitions - 77.10648 (ms)\n",
      "INFO:qiskit.transpiler.passes.basis.basis_translator:Begin BasisTranslator from source basis {('ccx', 3), ('u3', 1), ('mcx', 5), ('cx', 2), ('mcx', 4), ('mcu1', 9), ('snapshot', 16), ('cu3', 2), ('u2', 1), ('x', 1), ('h', 1)} to target basis {'save_expval', 'barrier', 'mcrx', 'ryy', 'cu3', 'roerror', 'mcz', 'cu', 'measure', 'delay', 'mcr', 'rzz', 'sdg', 'save_state', 'cy', 'rzx', 'unitary', 'mcphase', 'qerror_loc', 'save_probs_ket', 'cu1', 'initialize', 't', 'z', 'cswap', 'ry', 'u', 'sxdg', 'h', 'csx', 'id', 'mcry', 'swap', 'kraus', 'p', 'r', 'rx', 'cx', 'mcp', 'mcu3', 'rxx', 'save_probs', 'set_statevector', 'save_amplitudes_sq', 'mcx', 'snapshot', 'mcswap', 'u2', 'u1', 'ccx', 'mcu', 'cz', 'tdg', 'sx', 'mcrz', 'y', 'multiplexer', 'mcu1', 'reset', 'mcy', 'cu2', 'save_amplitudes', 'u3', 'save_density_matrix', 'diagonal', 'rz', 'save_statevector', 'pauli', 'cp', 'mcu2', 'quantum_channel', 'x', 's', 'mcsx'}.\n",
      "INFO:qiskit.transpiler.passes.basis.basis_translator:Basis translation path search completed in 0.000s.\n",
      "INFO:qiskit.transpiler.passes.basis.basis_translator:Basis translation paths composed in 0.043s.\n",
      "INFO:qiskit.transpiler.passes.basis.basis_translator:Basis translation instructions replaced in 0.201s.\n",
      "INFO:qiskit.transpiler.runningpassmanager:Pass: BasisTranslator - 308.18915 (ms)\n",
      "INFO:qiskit.transpiler.runningpassmanager:Pass: Depth - 18.19110 (ms)\n",
      "INFO:qiskit.transpiler.runningpassmanager:Pass: FixedPoint - 0.01192 (ms)\n",
      "INFO:qiskit.transpiler.runningpassmanager:Pass: Optimize1qGatesDecomposition - 7874.60780 (ms)\n",
      "INFO:qiskit.transpiler.runningpassmanager:Pass: CXCancellation - 47.97244 (ms)\n",
      "INFO:qiskit.transpiler.runningpassmanager:Pass: UnitarySynthesis - 0.01121 (ms)\n",
      "INFO:qiskit.transpiler.runningpassmanager:Pass: UnrollCustomDefinitions - 77.09765 (ms)\n",
      "INFO:qiskit.transpiler.passes.basis.basis_translator:Begin BasisTranslator from source basis {('ccx', 3), ('u3', 1), ('mcx', 5), ('cx', 2), ('mcx', 4), ('mcu1', 9), ('snapshot', 16), ('cu3', 2), ('u2', 1), ('x', 1), ('h', 1)} to target basis {'save_expval', 'barrier', 'mcrx', 'ryy', 'cu3', 'roerror', 'mcz', 'cu', 'measure', 'delay', 'mcr', 'rzz', 'sdg', 'save_state', 'cy', 'rzx', 'unitary', 'mcphase', 'qerror_loc', 'save_probs_ket', 'cu1', 'initialize', 't', 'z', 'cswap', 'ry', 'u', 'sxdg', 'h', 'csx', 'id', 'mcry', 'swap', 'kraus', 'p', 'r', 'rx', 'cx', 'mcp', 'mcu3', 'rxx', 'save_probs', 'set_statevector', 'save_amplitudes_sq', 'mcx', 'snapshot', 'mcswap', 'u2', 'u1', 'ccx', 'mcu', 'cz', 'tdg', 'sx', 'mcrz', 'y', 'multiplexer', 'mcu1', 'reset', 'mcy', 'cu2', 'save_amplitudes', 'u3', 'save_density_matrix', 'diagonal', 'rz', 'save_statevector', 'pauli', 'cp', 'mcu2', 'quantum_channel', 'x', 's', 'mcsx'}.\n",
      "INFO:qiskit.transpiler.passes.basis.basis_translator:Basis translation path search completed in 0.000s.\n",
      "INFO:qiskit.transpiler.passes.basis.basis_translator:Basis translation paths composed in 0.043s.\n",
      "INFO:qiskit.transpiler.passes.basis.basis_translator:Basis translation instructions replaced in 0.201s.\n",
      "INFO:qiskit.transpiler.runningpassmanager:Pass: BasisTranslator - 306.87308 (ms)\n",
      "INFO:qiskit.transpiler.runningpassmanager:Pass: Depth - 18.50057 (ms)\n",
      "INFO:qiskit.transpiler.runningpassmanager:Pass: FixedPoint - 0.01264 (ms)\n",
      "INFO:qiskit.transpiler.runningpassmanager:Pass: Optimize1qGatesDecomposition - 7755.74756 (ms)\n",
      "INFO:qiskit.transpiler.runningpassmanager:Pass: CXCancellation - 48.16389 (ms)\n",
      "INFO:qiskit.transpiler.runningpassmanager:Pass: UnitarySynthesis - 0.01049 (ms)\n",
      "INFO:qiskit.transpiler.runningpassmanager:Pass: UnrollCustomDefinitions - 77.50750 (ms)\n",
      "INFO:qiskit.transpiler.passes.basis.basis_translator:Begin BasisTranslator from source basis {('ccx', 3), ('u3', 1), ('mcx', 5), ('cx', 2), ('mcx', 4), ('mcu1', 9), ('snapshot', 16), ('cu3', 2), ('u2', 1), ('x', 1), ('h', 1)} to target basis {'save_expval', 'barrier', 'mcrx', 'ryy', 'cu3', 'roerror', 'mcz', 'cu', 'measure', 'delay', 'mcr', 'rzz', 'sdg', 'save_state', 'cy', 'rzx', 'unitary', 'mcphase', 'qerror_loc', 'save_probs_ket', 'cu1', 'initialize', 't', 'z', 'cswap', 'ry', 'u', 'sxdg', 'h', 'csx', 'id', 'mcry', 'swap', 'kraus', 'p', 'r', 'rx', 'cx', 'mcp', 'mcu3', 'rxx', 'save_probs', 'set_statevector', 'save_amplitudes_sq', 'mcx', 'snapshot', 'mcswap', 'u2', 'u1', 'ccx', 'mcu', 'cz', 'tdg', 'sx', 'mcrz', 'y', 'multiplexer', 'mcu1', 'reset', 'mcy', 'cu2', 'save_amplitudes', 'u3', 'save_density_matrix', 'diagonal', 'rz', 'save_statevector', 'pauli', 'cp', 'mcu2', 'quantum_channel', 'x', 's', 'mcsx'}.\n",
      "INFO:qiskit.transpiler.passes.basis.basis_translator:Basis translation path search completed in 0.000s.\n",
      "INFO:qiskit.transpiler.passes.basis.basis_translator:Basis translation paths composed in 0.042s.\n",
      "INFO:qiskit.transpiler.passes.basis.basis_translator:Basis translation instructions replaced in 0.200s.\n",
      "INFO:qiskit.transpiler.runningpassmanager:Pass: BasisTranslator - 305.28092 (ms)\n",
      "INFO:qiskit.transpiler.runningpassmanager:Pass: ContainsInstruction - 0.00763 (ms)\n",
      "INFO:qiskit.compiler.transpiler:Total Transpile Time - 84891.31880 (ms)\n",
      "INFO:qiskit.compiler.assembler:Total Assembly Time - 0.12660 (ms)\n",
      "INFO:qiskit.execute_function:Total Job Submission Time - 348.64831 (ms)\n",
      "INFO:root:QUANTUM METROPOLIS: Time for final steps 91.13613080978394 seconds (87.01234769821167 seconds statevector)\n",
      "INFO:root:finish save tts_results_glycylglycine_3_GG+random_1000_qfold-qc.json\n"
     ]
    }
   ],
   "source": [
    "psp = ProteinStructurePrediction(protein_model, method, config_path, **psp_param)\n",
    "\n",
    "psp.run()"
   ]
  },
  {
   "cell_type": "code",
   "execution_count": 17,
   "metadata": {},
   "outputs": [
    {
     "name": "stdout",
     "output_type": "stream",
     "text": [
      "The min tts for classical method is 61.902315133723086, for quantum method is 125.83909728469\n"
     ]
    }
   ],
   "source": [
    "# The time for final steps can be compared among these two methods\n",
    "import json\n",
    "\n",
    "with open(\"tts_results_glycylglycine_3_GG+random_1000_qfold-cc.json\") as f:\n",
    "    qfold_cc_results = json.load(f)\n",
    "\n",
    "with open(\"tts_results_glycylglycine_3_GG+random_1000_qfold-qc.json\") as f:\n",
    "    qfold_qc_results = json.load(f)\n",
    "\n",
    "qfold_cc_min_tts = qfold_cc_results['final_stats']['min_tts']['value']\n",
    "qfold_qc_min_tts = qfold_qc_results['final_stats']['min_tts']['value']\n",
    "print(f\"The min tts for classical method is {qfold_cc_min_tts}, for quantum method is {qfold_qc_min_tts}\")"
   ]
  },
  {
   "attachments": {},
   "cell_type": "markdown",
   "metadata": {},
   "source": []
  },
  {
   "attachments": {},
   "cell_type": "markdown",
   "metadata": {},
   "source": [
    "# Hybrid Job Experiment"
   ]
  },
  {
   "cell_type": "code",
   "execution_count": 3,
   "metadata": {},
   "outputs": [],
   "source": [
    "from braket.aws import AwsDevice\n",
    "from braket.aws import AwsQuantumJob, AwsSession\n",
    "from braket.jobs.config import InstanceConfig\n",
    "from hybridjobs.utility.HybridJobHelpers import *\n",
    "\n",
    "import boto3\n",
    "\n",
    "import os\n",
    "import json\n",
    "import time\n",
    "import altair as alt\n",
    "import pandas as pd\n",
    "import numpy as np"
   ]
  },
  {
   "attachments": {},
   "cell_type": "markdown",
   "metadata": {},
   "source": [
    "#### Step 1: Prepare parameters for batch evaluation\n",
    "\n",
    "In this part, we set the parameters for batch evaluation"
   ]
  },
  {
   "cell_type": "code",
   "execution_count": 4,
   "metadata": {},
   "outputs": [
    {
     "name": "stdout",
     "output_type": "stream",
     "text": [
      "parameters for experiments: \n",
      " [{'method': 'qfold-cc', 'initialization': 'minifold', 'shots': 10000, 'mode': 'local-simulator', 'device': {'qc': 'null', 'cc': 'ml.m5.large'}}, {'method': 'qfold-cc', 'initialization': 'minifold', 'shots': 10000, 'mode': 'local-simulator', 'device': {'qc': 'null', 'cc': 'ml.m5.4xlarge'}}, {'method': 'qfold-cc', 'initialization': 'random', 'shots': 10000, 'mode': 'local-simulator', 'device': {'qc': 'null', 'cc': 'ml.m5.large'}}, {'method': 'qfold-cc', 'initialization': 'random', 'shots': 10000, 'mode': 'local-simulator', 'device': {'qc': 'null', 'cc': 'ml.m5.4xlarge'}}, {'method': 'qfold-qc', 'initialization': 'minifold', 'shots': 10000, 'mode': 'local-simulator', 'device': {'qc': 'null', 'cc': 'ml.m5.large'}}, {'method': 'qfold-qc', 'initialization': 'minifold', 'shots': 10000, 'mode': 'local-simulator', 'device': {'qc': 'null', 'cc': 'ml.m5.4xlarge'}}, {'method': 'qfold-qc', 'initialization': 'random', 'shots': 10000, 'mode': 'local-simulator', 'device': {'qc': 'null', 'cc': 'ml.m5.large'}}, {'method': 'qfold-qc', 'initialization': 'random', 'shots': 10000, 'mode': 'local-simulator', 'device': {'qc': 'null', 'cc': 'ml.m5.4xlarge'}}]\n"
     ]
    }
   ],
   "source": [
    "# parameters for experiments\n",
    "experiment_name = \"protein-folding-qrw\"\n",
    "data_path = \"protein-folding-data\"\n",
    "suffix_check = [\"json\"]\n",
    "experiments_params =  {\n",
    "    \"version\": \"1\",\n",
    "    \"params\": [\n",
    "        {\"method\": [\"qfold-cc\", \"qfold-qc\"]},\n",
    "        {\"initialization\": [\"minifold\", \"random\"]},\n",
    "        {\"shots\": [10000]},\n",
    "        {\"mode\": [\"local-simulator\"]},\n",
    "        {\"device\": [{\"qc\": \"null\", \"cc\": \"ml.m5.large\"},{\"qc\": \"null\", \"cc\": \"ml.m5.4xlarge\"}]}\n",
    "    ]\n",
    "}\n",
    "\n",
    "hp = {}\n",
    "hybrid_job_params = []\n",
    "parse_params(experiments_params['params'], hp, hybrid_job_params)\n",
    "\n",
    "print(f\"parameters for experiments: \\n {hybrid_job_params}\")"
   ]
  },
  {
   "cell_type": "code",
   "execution_count": 3,
   "metadata": {},
   "outputs": [
    {
     "name": "stdout",
     "output_type": "stream",
     "text": [
      "upload data to s3 path: s3://amazon-braket-us-east-1-002224604296/protein-folding-data\n"
     ]
    }
   ],
   "source": [
    "# Upload dataset to S3\n",
    "s3_path = upload_data(data_path)\n",
    "print(f\"upload data to s3 path: {s3_path}\")"
   ]
  },
  {
   "attachments": {},
   "cell_type": "markdown",
   "metadata": {},
   "source": [
    "#### Step 2: Prepare image for experiment\n",
    "\n",
    "In this part, we use the following code to prepare the image for experiment. For the first run, \n",
    "please run build_and_push.sh to create the image. For future experiments, avoid running\n",
    "build_and_push.sh unless you want to rebuild the image"
   ]
  },
  {
   "cell_type": "code",
   "execution_count": 8,
   "metadata": {},
   "outputs": [
    {
     "name": "stdout",
     "output_type": "stream",
     "text": [
      "the hybrid job image for 002224604296 in region us-east-1: 002224604296.dkr.ecr.us-east-1.amazonaws.com/amazon-braket-protein-folding-qrw-jobs:latest\n",
      "WARNING! Your password will be stored unencrypted in /home/ubuntu/.docker/config.json.\n",
      "Configure a credential helper to remove this warning. See\n",
      "https://docs.docker.com/engine/reference/commandline/login/#credentials-store\n",
      "\n",
      "Login Succeeded\n",
      "WARNING! Your password will be stored unencrypted in /home/ubuntu/.docker/config.json.\n",
      "Configure a credential helper to remove this warning. See\n",
      "https://docs.docker.com/engine/reference/commandline/login/#credentials-store\n",
      "\n",
      "Login Succeeded\n",
      "Sending build context to Docker daemon  196.5MB\n",
      "Step 1/4 : FROM 292282985366.dkr.ecr.us-west-2.amazonaws.com/amazon-braket-base-jobs:1.0-cpu-py37-ubuntu18.04\n",
      " ---> 16b9ec942e00\n",
      "Step 2/4 : RUN python3 -m pip install --upgrade pip\n",
      " ---> Using cache\n",
      " ---> 11a512e96ae1\n",
      "Step 3/4 : RUN python3 -m pip install numpy==1.19.5                             scipy==1.5.4                             tensorflow==1.15.0                             Keras==2.0.8                             qiskit==0.34.2                             qiskit-aer==0.10.3                             qiskit-aqua==0.9.5                             qiskit-ibmq-provider==0.18.3                             qiskit-ignis==0.7.0                             qiskit-terra==0.19.2                             matplotlib==3.3.4                             bokeh==2.3.3\n",
      " ---> Using cache\n",
      " ---> 13586942fb6c\n",
      "Step 4/4 : COPY hybridjobs/psi4 /home/ubuntu/psi4conda/bin/psi4\n",
      " ---> Using cache\n",
      " ---> 529ce07bd45d\n",
      "Successfully built 529ce07bd45d\n",
      "Successfully tagged amazon-braket-protein-folding-qrw-jobs:latest\n",
      "The push refers to repository [002224604296.dkr.ecr.us-east-1.amazonaws.com/amazon-braket-protein-folding-qrw-jobs]\n",
      "\n",
      "\u001b[1Bde7e4468: Preparing \n",
      "\u001b[1B4b37a5e5: Preparing \n",
      "\u001b[1Bb90ba34e: Preparing \n",
      "\u001b[1B6411a7d1: Preparing \n",
      "\u001b[1B56d89649: Preparing \n",
      "\u001b[1B148e4f08: Preparing \n",
      "\u001b[1B0f2f3775: Preparing \n",
      "\u001b[1Ba5237a47: Preparing \n",
      "\u001b[1B7b584848: Preparing \n",
      "\u001b[1B9cc6ed2d: Preparing \n",
      "\u001b[1B9ba03cb5: Preparing \n",
      "\u001b[1B3dae4964: Preparing \n",
      "\u001b[1B0cee8562: Preparing \n",
      "\u001b[1Bc13d298e: Preparing \n",
      "\u001b[1B2ecf6ff1: Preparing \n",
      "\u001b[1B5cb74c43: Preparing \n",
      "\u001b[1B49c05c79: Preparing \n",
      "\u001b[1Bb7118beb: Preparing \n",
      "\u001b[2Bb7118beb: Layer already exists \u001b[14A\u001b[2K\u001b[12A\u001b[2K\u001b[9A\u001b[2K\u001b[4A\u001b[2Klatest: digest: sha256:de99e6902d602a1b57fccb8b475df6d08a4b97cc6b4c8d77e6ab4d6b432c8103 size: 4313\n"
     ]
    }
   ],
   "source": [
    "account_id = boto3.client(\"sts\").get_caller_identity()[\"Account\"]\n",
    "region = boto3.client('s3').meta.region_name\n",
    "image_name = f\"amazon-braket-{experiment_name.lower()}-jobs\"\n",
    "image_uri = f\"{account_id}.dkr.ecr.{region}.amazonaws.com/{image_name}:latest\"\n",
    "\n",
    "print(f\"the hybrid job image for {account_id} in region {region}: {image_uri}\")\n",
    "\n",
    "# For the first run, please use the following code to create the image for this application. For future experiments, comment\n",
    "# the following code unless you want to rebuild the image\n",
    "!sh build_and_push.sh {image_name}"
   ]
  },
  {
   "cell_type": "code",
   "execution_count": 5,
   "metadata": {},
   "outputs": [
    {
     "name": "stdout",
     "output_type": "stream",
     "text": [
      "job info will be saved in protein-folding-qrw-hybrid-jobs.json\n"
     ]
    }
   ],
   "source": [
    "hybrid_jobs_json = f\"{experiment_name}-hybrid-jobs.json\"\n",
    "print(f\"job info will be saved in {hybrid_jobs_json}\")"
   ]
  },
  {
   "attachments": {},
   "cell_type": "markdown",
   "metadata": {},
   "source": [
    "#### Step 3: Launch Amazon Braket Hybrid Jobs for experiment\n",
    "\n",
    "In this part, we use the following code to launch the same number of hybrid jobs as the sets of parameters for this experiments.\n",
    "When the number of jobs exceeds 5 RPS, this thread will wait. The default setting of this experiment will take around **7 hours** to \n",
    "finish."
   ]
  },
  {
   "cell_type": "code",
   "execution_count": 9,
   "metadata": {},
   "outputs": [
    {
     "name": "stdout",
     "output_type": "stream",
     "text": [
      "rm: cannot remove 'protein-folding-qrw-hybrid-jobs.json': No such file or directory\n"
     ]
    },
    {
     "name": "stdout",
     "output_type": "stream",
     "text": [
      "fail to get null: list index out of range, use sv1 instead\n",
      "name is q-m-l-ml-m5-large-1685778825\n"
     ]
    }
   ],
   "source": [
    "# Long runnning cell due to Burst rate of CreateJob requests < 5 RPS\n",
    "# sudo apt-get install python-prctl at first\n",
    "# https://stackoverflow.com/questions/34361035/python-thread-name-doesnt-show-up-on-ps-or-htop\n",
    "from threading import Thread\n",
    "import threading\n",
    "import setproctitle\n",
    "\n",
    "def launch_hybrid_jobs(hybrid_job_params=hybrid_job_params, hybrid_jobs_json=hybrid_jobs_json):\n",
    "    setproctitle.setproctitle(threading.current_thread().name)\n",
    "    # parse evaluation parameters and trigger hybrid jobs:\n",
    "    jobs = []\n",
    "    names = []\n",
    "\n",
    "    job_name = f\"{experiment_name}-job\"\n",
    "    device_param_list = [\"shots\", \"device\"]\n",
    "\n",
    "    for job_param in hybrid_job_params:\n",
    "        \n",
    "        algorithm_param_name = \"\"\n",
    "        for k,v in job_param.items():\n",
    "            if k not in device_param_list:\n",
    "                algorithm_param_name = algorithm_param_name+f\"-{v[0]}\"\n",
    "        algorithm_param_name=algorithm_param_name[1:]\n",
    "        quantum_device = get_quantum_device(job_param['device']['qc'])\n",
    "        classical_device = job_param['device']['cc']\n",
    "\n",
    "        device_name = classical_device.replace(\".\",\"-\")\n",
    "        device_name = device_name.replace(\"x\",\"\")\n",
    "        \n",
    "        name = f\"{algorithm_param_name}-{device_name}-\" + str(int(time.time()))\n",
    "        name = name.lower()\n",
    "        # name = f\"{experiment_name}-\"+ str(int(time.time()))\n",
    "        print(f\"name is {name}\")\n",
    "\n",
    "        tmp_job = AwsQuantumJob.create(\n",
    "            device=quantum_device,\n",
    "            source_module=\"hybridjobs\",\n",
    "            entry_point=f\"hybridjobs.{job_name}:main\",\n",
    "            job_name=name,\n",
    "            hyperparameters=job_param,\n",
    "            input_data=s3_path,\n",
    "            instance_config=InstanceConfig(instanceType=classical_device),\n",
    "            image_uri=image_uri,\n",
    "            wait_until_complete=False,\n",
    "        )\n",
    "        \n",
    "#         from braket.jobs.local import LocalQuantumJob\n",
    "        \n",
    "#         tmp_job = LocalQuantumJob.create(\n",
    "#             device=quantum_device,\n",
    "#             source_module=f\"{experiment_name}\",\n",
    "#             entry_point=f\"{experiment_name}.{job_name}:main\",\n",
    "#             hyperparameters=job_param,\n",
    "#             input_data=s3_path,\n",
    "#             image_uri=image_uri,\n",
    "#         )   \n",
    "        \n",
    "        print(f\"Finish create {experiment_name} with {name}\")\n",
    "\n",
    "        jobs.append(tmp_job)\n",
    "        names.append(name)\n",
    "\n",
    "\n",
    "        while not queue_check(jobs):\n",
    "            time.sleep(5)\n",
    "    jobs_arn = []\n",
    "\n",
    "    for job in jobs:\n",
    "        jobs_arn.append(job.arn)\n",
    "\n",
    "    jobs_states = {\n",
    "        \"experiment_name\": experiment_name,\n",
    "        \"hybrid-jobs-arn\": jobs_arn,\n",
    "        \"names\": names\n",
    "    }\n",
    "    \n",
    "    \n",
    "    # save hybrid job arn for further analysis\n",
    "    json_object = json.dumps(jobs_states, indent=4)\n",
    "\n",
    "    with open(hybrid_jobs_json, \"w\") as outfile:\n",
    "        outfile.write(json_object)\n",
    "        \n",
    "    print(f\"Finish launch all the hybrid jobs and save all the files\")\n",
    "\n",
    "# remove existing hybrid_jobs_json file\n",
    "!rm {hybrid_jobs_json}\n",
    "\n",
    "t = Thread(target=launch_hybrid_jobs, name=\"launch-hybrid-job\", daemon=True).start()\n",
    "\n",
    "# launch_hybrid_jobs()"
   ]
  },
  {
   "cell_type": "code",
   "execution_count": 10,
   "metadata": {},
   "outputs": [
    {
     "name": "stdout",
     "output_type": "stream",
     "text": [
      "ubuntu     11752  1.0  0.8 2579488 265172 ?      Sl   07:46   0:04 launch-hybrid-job\n",
      "ubuntu     11967  0.0  0.0   8756  3568 pts/1    Ss+  07:53   0:00 /bin/bash -c ps -aux | grep launch-hybrid-job\n",
      "ubuntu     11972  0.0  0.0   8176   724 pts/1    S+   07:53   0:00 grep launch-hybrid-job\n"
     ]
    },
    {
     "name": "stdout",
     "output_type": "stream",
     "text": [
      "Finish create protein-folding-qrw with q-m-l-ml-m5-large-1685778825\n",
      "There are 1 jobs in RUNNING or QUEUED status\n",
      "fail to get null: list index out of range, use sv1 instead\n",
      "name is q-m-l-ml-m5-4large-1685778842\n",
      "Finish create protein-folding-qrw with q-m-l-ml-m5-4large-1685778842\n",
      "There are 2 jobs in RUNNING or QUEUED status\n",
      "fail to get null: list index out of range, use sv1 instead\n",
      "name is q-r-l-ml-m5-large-1685778852\n",
      "Finish create protein-folding-qrw with q-r-l-ml-m5-large-1685778852\n",
      "There are 3 jobs in RUNNING or QUEUED status\n",
      "fail to get null: list index out of range, use sv1 instead\n",
      "name is q-r-l-ml-m5-4large-1685778861\n",
      "Finish create protein-folding-qrw with q-r-l-ml-m5-4large-1685778861\n",
      "There are 4 jobs in RUNNING or QUEUED status\n",
      "There are 4 jobs in RUNNING or QUEUED status\n",
      "There are 4 jobs in RUNNING or QUEUED status\n",
      "There are 4 jobs in RUNNING or QUEUED status\n",
      "There are 4 jobs in RUNNING or QUEUED status\n",
      "There are 4 jobs in RUNNING or QUEUED status\n",
      "There are 4 jobs in RUNNING or QUEUED status\n",
      "There are 4 jobs in RUNNING or QUEUED status\n",
      "There are 4 jobs in RUNNING or QUEUED status\n",
      "There are 4 jobs in RUNNING or QUEUED status\n",
      "There are 4 jobs in RUNNING or QUEUED status\n",
      "There are 4 jobs in RUNNING or QUEUED status\n",
      "There are 4 jobs in RUNNING or QUEUED status\n",
      "There are 4 jobs in RUNNING or QUEUED status\n",
      "There are 4 jobs in RUNNING or QUEUED status\n",
      "There are 4 jobs in RUNNING or QUEUED status\n",
      "There are 4 jobs in RUNNING or QUEUED status\n",
      "There are 4 jobs in RUNNING or QUEUED status\n",
      "There are 2 jobs in RUNNING or QUEUED status\n",
      "fail to get null: list index out of range, use sv1 instead\n",
      "name is q-m-l-ml-m5-large-1685779055\n",
      "Finish create protein-folding-qrw with q-m-l-ml-m5-large-1685779055\n",
      "There are 3 jobs in RUNNING or QUEUED status\n",
      "fail to get null: list index out of range, use sv1 instead\n",
      "name is q-m-l-ml-m5-4large-1685779071\n",
      "Finish create protein-folding-qrw with q-m-l-ml-m5-4large-1685779071\n",
      "There are 4 jobs in RUNNING or QUEUED status\n",
      "There are 4 jobs in RUNNING or QUEUED status\n",
      "There are 3 jobs in RUNNING or QUEUED status\n",
      "fail to get null: list index out of range, use sv1 instead\n",
      "name is q-r-l-ml-m5-large-1685779099\n",
      "Finish create protein-folding-qrw with q-r-l-ml-m5-large-1685779099\n",
      "There are 4 jobs in RUNNING or QUEUED status\n",
      "There are 3 jobs in RUNNING or QUEUED status\n",
      "fail to get null: list index out of range, use sv1 instead\n",
      "name is q-r-l-ml-m5-4large-1685779119\n",
      "Finish create protein-folding-qrw with q-r-l-ml-m5-4large-1685779119\n",
      "There are 4 jobs in RUNNING or QUEUED status\n",
      "There are 4 jobs in RUNNING or QUEUED status\n",
      "There are 4 jobs in RUNNING or QUEUED status\n",
      "There are 4 jobs in RUNNING or QUEUED status\n",
      "There are 4 jobs in RUNNING or QUEUED status\n",
      "There are 4 jobs in RUNNING or QUEUED status\n",
      "There are 4 jobs in RUNNING or QUEUED status\n",
      "There are 4 jobs in RUNNING or QUEUED status\n",
      "There are 4 jobs in RUNNING or QUEUED status\n",
      "There are 4 jobs in RUNNING or QUEUED status\n",
      "There are 4 jobs in RUNNING or QUEUED status\n",
      "There are 4 jobs in RUNNING or QUEUED status\n",
      "There are 4 jobs in RUNNING or QUEUED status\n",
      "There are 4 jobs in RUNNING or QUEUED status\n",
      "There are 4 jobs in RUNNING or QUEUED status\n",
      "There are 4 jobs in RUNNING or QUEUED status\n",
      "There are 4 jobs in RUNNING or QUEUED status\n",
      "There are 4 jobs in RUNNING or QUEUED status\n",
      "There are 4 jobs in RUNNING or QUEUED status\n",
      "There are 4 jobs in RUNNING or QUEUED status\n",
      "There are 4 jobs in RUNNING or QUEUED status\n",
      "There are 4 jobs in RUNNING or QUEUED status\n",
      "There are 4 jobs in RUNNING or QUEUED status\n",
      "There are 4 jobs in RUNNING or QUEUED status\n",
      "There are 4 jobs in RUNNING or QUEUED status\n",
      "There are 2 jobs in RUNNING or QUEUED status\n",
      "Finish launch all the hybrid jobs and save all the files\n"
     ]
    }
   ],
   "source": [
    "# run the following scripts to check the created threads\n",
    "!ps -aux | grep launch-hybrid-job"
   ]
  },
  {
   "attachments": {},
   "cell_type": "markdown",
   "metadata": {},
   "source": [
    "#### Step 4: Jobs finish and visualize results\n",
    "\n",
    "Please use the following code to check the status of hybrid jobs. The status of hybrid jobs can also be checked in the Amazon Braket console. Optionally, if the email if input when deploying the solution, emails will be sent at the same number of hybrid jobs once \n",
    "the status of jobs changes."
   ]
  },
  {
   "cell_type": "code",
   "execution_count": 6,
   "metadata": {},
   "outputs": [
    {
     "name": "stdout",
     "output_type": "stream",
     "text": [
      "the state of job q-m-l-ml-m5-large-1685778825 is : COMPLETED\n",
      "the state of job q-m-l-ml-m5-4large-1685778842 is : COMPLETED\n",
      "the state of job q-r-l-ml-m5-large-1685778852 is : COMPLETED\n",
      "the state of job q-r-l-ml-m5-4large-1685778861 is : COMPLETED\n",
      "the state of job q-m-l-ml-m5-large-1685779055 is : COMPLETED\n",
      "the state of job q-m-l-ml-m5-4large-1685779071 is : COMPLETED\n",
      "the state of job q-r-l-ml-m5-large-1685779099 is : COMPLETED\n",
      "the state of job q-r-l-ml-m5-4large-1685779119 is : COMPLETED\n",
      "all jobs completed\n",
      "{'precalculated_energies': {'hypermeter': {'device': \"{'qc': 'null', 'cc': 'ml.m5.large'}\", 'initialization': 'random', 'method': 'qfold-qc', 'mode': 'local-simulator', 'shots': '10000'}, 'result': {'initial_step': 2, 'final_step': 10, 'tts': [125.83909728469, 162.79166953788086, 166.465828110322, 226.87516833617673, 262.532539034563, 315.34165138580204, 262.5463694025349, 225.99270849033556], 'initialization_stats': {'phis_precision': [80.29186537993999], 'psis_precision': [12.524701960918216], 'phi_angles_psi4': [1.5708134759948975], 'psi_angles_psi4': [-2.6404247826789864], 'phis_initial_rotation': [0.9516641666115051], 'psis_initial_rotation': [0.8946429875990303]}, 'final_stats': {'min_tts': {'step': 2, 'value': 125.83909728469}}}}}\n",
      "{'precalculated_energies': {'hypermeter': {'device': \"{'qc': 'null', 'cc': 'ml.m5.4xlarge'}\", 'initialization': 'minifold', 'method': 'qfold-cc', 'mode': 'local-simulator', 'shots': '10000'}, 'result': {'initial_step': 2, 'final_step': 10, 'tts': [142.72976325296523, 135.36610064888248, 125.06141294524524, 111.92415486357513, 88.68774221201535, 84.05084497731531, 78.67334942353332, 71.70275919428877], 'initialization_stats': {'phis_precision': [3.6561311085829273], 'psis_precision': [67.12967637818517], 'phi_angles_psi4': [1.5708134759948975], 'psi_angles_psi4': [-2.6404247826789864], 'phis_initial_rotation': [-1.4559184312820435], 'psis_initial_rotation': [2.6101088523864746]}, 'final_stats': {'min_tts': {'step': 9, 'value': 71.70275919428877}}}}}\n",
      "{'precalculated_energies': {'hypermeter': {'device': \"{'qc': 'null', 'cc': 'ml.m5.large'}\", 'initialization': 'random', 'method': 'qfold-cc', 'mode': 'local-simulator', 'shots': '10000'}, 'result': {'initial_step': 2, 'final_step': 10, 'tts': [87.534205262555, 86.2111105555448, 74.69970487036571, 73.08337476173075, 67.03236664089256, 66.49651435477368, 64.3293337690585, 64.37226004296241], 'initialization_stats': {'phis_precision': [80.29186537993999], 'psis_precision': [12.524701960918216], 'phi_angles_psi4': [1.5708134759948975], 'psi_angles_psi4': [-2.6404247826789864], 'phis_initial_rotation': [0.9516641666115051], 'psis_initial_rotation': [0.8946429875990303]}, 'final_stats': {'min_tts': {'step': 8, 'value': 64.3293337690585}}}}}\n",
      "{'precalculated_energies': {'hypermeter': {'device': \"{'qc': 'null', 'cc': 'ml.m5.4xlarge'}\", 'initialization': 'random', 'method': 'qfold-cc', 'mode': 'local-simulator', 'shots': '10000'}, 'result': {'initial_step': 2, 'final_step': 10, 'tts': [84.56652111542819, 78.73080415301823, 76.81025422801773, 71.35676622033361, 71.92996869678453, 69.68428218287683, 63.151547249554746, 61.00867415803411], 'initialization_stats': {'phis_precision': [80.29186537993999], 'psis_precision': [12.524701960918216], 'phi_angles_psi4': [1.5708134759948975], 'psi_angles_psi4': [-2.6404247826789864], 'phis_initial_rotation': [0.9516641666115051], 'psis_initial_rotation': [0.8946429875990303]}, 'final_stats': {'min_tts': {'step': 9, 'value': 61.00867415803411}}}}}\n",
      "{'precalculated_energies': {'hypermeter': {'device': \"{'qc': 'null', 'cc': 'ml.m5.large'}\", 'initialization': 'minifold', 'method': 'qfold-cc', 'mode': 'local-simulator', 'shots': '10000'}, 'result': {'initial_step': 2, 'final_step': 10, 'tts': [162.15688013768042, 135.36610064888248, 121.93947912207052, 107.84904511992883, 94.69605533966494, 83.78612607662282, 76.39739649406222, 70.31827482628702], 'initialization_stats': {'phis_precision': [3.6561311085829273], 'psis_precision': [67.12967637818517], 'phi_angles_psi4': [1.5708134759948975], 'psi_angles_psi4': [-2.6404247826789864], 'phis_initial_rotation': [-1.4559184312820435], 'psis_initial_rotation': [2.6101088523864746]}, 'final_stats': {'min_tts': {'step': 9, 'value': 70.31827482628702}}}}}\n",
      "{'precalculated_energies': {'hypermeter': {'device': \"{'qc': 'null', 'cc': 'ml.m5.large'}\", 'initialization': 'minifold', 'method': 'qfold-qc', 'mode': 'local-simulator', 'shots': '10000'}, 'result': {'initial_step': 2, 'final_step': 10, 'tts': [297.20689904952036, 257.0768396884957, 341.8007711480159, 563.2642256428803, 491.2741292553694, 554.6665421562067, 339.5472618629955, 657.2258206536235], 'initialization_stats': {'phis_precision': [3.6561311085829273], 'psis_precision': [67.12967637818517], 'phi_angles_psi4': [1.5708134759948975], 'psi_angles_psi4': [-2.6404247826789864], 'phis_initial_rotation': [-1.4559184312820435], 'psis_initial_rotation': [2.6101088523864746]}, 'final_stats': {'min_tts': {'step': 3, 'value': 257.0768396884957}}}}}\n",
      "{'precalculated_energies': {'hypermeter': {'device': \"{'qc': 'null', 'cc': 'ml.m5.4xlarge'}\", 'initialization': 'random', 'method': 'qfold-qc', 'mode': 'local-simulator', 'shots': '10000'}, 'result': {'initial_step': 2, 'final_step': 10, 'tts': [125.83909728469, 162.79166953788086, 166.465828110322, 226.87516833617673, 262.532539034563, 315.34165138580204, 262.5463694025349, 225.99270849033556], 'initialization_stats': {'phis_precision': [80.29186537993999], 'psis_precision': [12.524701960918216], 'phi_angles_psi4': [1.5708134759948975], 'psi_angles_psi4': [-2.6404247826789864], 'phis_initial_rotation': [0.9516641666115051], 'psis_initial_rotation': [0.8946429875990303]}, 'final_stats': {'min_tts': {'step': 2, 'value': 125.83909728469}}}}}\n",
      "{'precalculated_energies': {'hypermeter': {'device': \"{'qc': 'null', 'cc': 'ml.m5.4xlarge'}\", 'initialization': 'minifold', 'method': 'qfold-qc', 'mode': 'local-simulator', 'shots': '10000'}, 'result': {'initial_step': 2, 'final_step': 10, 'tts': [297.20689904952036, 257.0768396884957, 341.8007711480159, 563.2642256428803, 491.2741292553694, 554.6665421562067, 339.5472618629955, 657.2258206536235], 'initialization_stats': {'phis_precision': [3.6561311085829273], 'psis_precision': [67.12967637818517], 'phi_angles_psi4': [1.5708134759948975], 'psi_angles_psi4': [-2.6404247826789864], 'phis_initial_rotation': [-1.4559184312820435], 'psis_initial_rotation': [2.6101088523864746]}, 'final_stats': {'min_tts': {'step': 3, 'value': 257.0768396884957}}}}}\n"
     ]
    }
   ],
   "source": [
    "# run the following code to test whether all the jobs finish\n",
    "results = []\n",
    "if os.path.exists(hybrid_jobs_json):\n",
    "    # recover hybrid jobs and show result\n",
    "    jobs_states_load = None\n",
    "    with open(hybrid_jobs_json, \"r\") as outfile:\n",
    "        jobs_states_load = json.load(outfile)\n",
    "\n",
    "    completed_jobs_arn = set()\n",
    "\n",
    "    for job_name, job_arn in zip(jobs_states_load[\"names\"], jobs_states_load[\"hybrid-jobs-arn\"]):\n",
    "        current_job = AwsQuantumJob(job_arn)\n",
    "        print(f\"the state of job {job_name} is : {current_job.state()}\")\n",
    "        if current_job.state() == 'COMPLETED':\n",
    "            completed_jobs_arn.update({job_arn})\n",
    "\n",
    "    whole_jobs_num = len(jobs_states_load[\"names\"])\n",
    "\n",
    "    if len(completed_jobs_arn) == whole_jobs_num:\n",
    "        print(f\"all jobs completed\")\n",
    "        for job_arn in completed_jobs_arn:\n",
    "            current_job = AwsQuantumJob(job_arn)\n",
    "            results.append(current_job.result())\n",
    "            print(current_job.result())\n",
    "        # display results\n",
    "        results = display_results(results, experiments_params)\n",
    "else:\n",
    "    print(f\"JSON file for job arns not generated! please wait for the thread(launch-hybrid-job) to finish\")"
   ]
  },
  {
   "cell_type": "code",
   "execution_count": 8,
   "metadata": {},
   "outputs": [
    {
     "data": {
      "text/html": [
       "\n",
       "<div id=\"altair-viz-6729f64ff78e4b4a837b3fb6dd246d73\"></div>\n",
       "<script type=\"text/javascript\">\n",
       "  var VEGA_DEBUG = (typeof VEGA_DEBUG == \"undefined\") ? {} : VEGA_DEBUG;\n",
       "  (function(spec, embedOpt){\n",
       "    let outputDiv = document.currentScript.previousElementSibling;\n",
       "    if (outputDiv.id !== \"altair-viz-6729f64ff78e4b4a837b3fb6dd246d73\") {\n",
       "      outputDiv = document.getElementById(\"altair-viz-6729f64ff78e4b4a837b3fb6dd246d73\");\n",
       "    }\n",
       "    const paths = {\n",
       "      \"vega\": \"https://cdn.jsdelivr.net/npm//vega@5?noext\",\n",
       "      \"vega-lib\": \"https://cdn.jsdelivr.net/npm//vega-lib?noext\",\n",
       "      \"vega-lite\": \"https://cdn.jsdelivr.net/npm//vega-lite@4.17.0?noext\",\n",
       "      \"vega-embed\": \"https://cdn.jsdelivr.net/npm//vega-embed@6?noext\",\n",
       "    };\n",
       "\n",
       "    function maybeLoadScript(lib, version) {\n",
       "      var key = `${lib.replace(\"-\", \"\")}_version`;\n",
       "      return (VEGA_DEBUG[key] == version) ?\n",
       "        Promise.resolve(paths[lib]) :\n",
       "        new Promise(function(resolve, reject) {\n",
       "          var s = document.createElement('script');\n",
       "          document.getElementsByTagName(\"head\")[0].appendChild(s);\n",
       "          s.async = true;\n",
       "          s.onload = () => {\n",
       "            VEGA_DEBUG[key] = version;\n",
       "            return resolve(paths[lib]);\n",
       "          };\n",
       "          s.onerror = () => reject(`Error loading script: ${paths[lib]}`);\n",
       "          s.src = paths[lib];\n",
       "        });\n",
       "    }\n",
       "\n",
       "    function showError(err) {\n",
       "      outputDiv.innerHTML = `<div class=\"error\" style=\"color:red;\">${err}</div>`;\n",
       "      throw err;\n",
       "    }\n",
       "\n",
       "    function displayChart(vegaEmbed) {\n",
       "      vegaEmbed(outputDiv, spec, embedOpt)\n",
       "        .catch(err => showError(`Javascript Error: ${err.message}<br>This usually means there's a typo in your chart specification. See the javascript console for the full traceback.`));\n",
       "    }\n",
       "\n",
       "    if(typeof define === \"function\" && define.amd) {\n",
       "      requirejs.config({paths});\n",
       "      require([\"vega-embed\"], displayChart, err => showError(`Error loading script: ${err.message}`));\n",
       "    } else {\n",
       "      maybeLoadScript(\"vega\", \"5\")\n",
       "        .then(() => maybeLoadScript(\"vega-lite\", \"4.17.0\"))\n",
       "        .then(() => maybeLoadScript(\"vega-embed\", \"6\"))\n",
       "        .catch(showError)\n",
       "        .then(() => displayChart(vegaEmbed));\n",
       "    }\n",
       "  })({\"config\": {\"view\": {\"continuousWidth\": 400, \"continuousHeight\": 300}}, \"data\": {\"name\": \"data-510aedd81b9afd06b4fec04022cb6ac0\"}, \"mark\": {\"type\": \"line\", \"point\": true}, \"encoding\": {\"color\": {\"field\": \"Device\", \"type\": \"nominal\"}, \"x\": {\"field\": \"Step\", \"type\": \"quantitative\"}, \"y\": {\"field\": \"Time to Solution\", \"type\": \"quantitative\"}}, \"height\": 600, \"selection\": {\"selector001\": {\"type\": \"interval\", \"bind\": \"scales\", \"encodings\": [\"x\", \"y\"]}}, \"title\": \"protein-folding-qrw experiments\", \"width\": 700, \"$schema\": \"https://vega.github.io/schema/vega-lite/v4.17.0.json\", \"datasets\": {\"data-510aedd81b9afd06b4fec04022cb6ac0\": [{\"Step\": 0, \"Time to Solution\": 125.83909728469, \"Device\": \"qfold-qc-random-local-simulator-ml.m5.large\"}, {\"Step\": 1, \"Time to Solution\": 162.79166953788086, \"Device\": \"qfold-qc-random-local-simulator-ml.m5.large\"}, {\"Step\": 2, \"Time to Solution\": 166.465828110322, \"Device\": \"qfold-qc-random-local-simulator-ml.m5.large\"}, {\"Step\": 3, \"Time to Solution\": 226.87516833617673, \"Device\": \"qfold-qc-random-local-simulator-ml.m5.large\"}, {\"Step\": 4, \"Time to Solution\": 262.532539034563, \"Device\": \"qfold-qc-random-local-simulator-ml.m5.large\"}, {\"Step\": 5, \"Time to Solution\": 315.34165138580204, \"Device\": \"qfold-qc-random-local-simulator-ml.m5.large\"}, {\"Step\": 6, \"Time to Solution\": 262.5463694025349, \"Device\": \"qfold-qc-random-local-simulator-ml.m5.large\"}, {\"Step\": 7, \"Time to Solution\": 225.99270849033556, \"Device\": \"qfold-qc-random-local-simulator-ml.m5.large\"}, {\"Step\": 0, \"Time to Solution\": 142.72976325296523, \"Device\": \"qfold-cc-minifold-local-simulator-ml.m5.4xlarge\"}, {\"Step\": 1, \"Time to Solution\": 135.36610064888248, \"Device\": \"qfold-cc-minifold-local-simulator-ml.m5.4xlarge\"}, {\"Step\": 2, \"Time to Solution\": 125.06141294524524, \"Device\": \"qfold-cc-minifold-local-simulator-ml.m5.4xlarge\"}, {\"Step\": 3, \"Time to Solution\": 111.92415486357513, \"Device\": \"qfold-cc-minifold-local-simulator-ml.m5.4xlarge\"}, {\"Step\": 4, \"Time to Solution\": 88.68774221201535, \"Device\": \"qfold-cc-minifold-local-simulator-ml.m5.4xlarge\"}, {\"Step\": 5, \"Time to Solution\": 84.05084497731531, \"Device\": \"qfold-cc-minifold-local-simulator-ml.m5.4xlarge\"}, {\"Step\": 6, \"Time to Solution\": 78.67334942353332, \"Device\": \"qfold-cc-minifold-local-simulator-ml.m5.4xlarge\"}, {\"Step\": 7, \"Time to Solution\": 71.70275919428877, \"Device\": \"qfold-cc-minifold-local-simulator-ml.m5.4xlarge\"}, {\"Step\": 0, \"Time to Solution\": 87.534205262555, \"Device\": \"qfold-cc-random-local-simulator-ml.m5.large\"}, {\"Step\": 1, \"Time to Solution\": 86.2111105555448, \"Device\": \"qfold-cc-random-local-simulator-ml.m5.large\"}, {\"Step\": 2, \"Time to Solution\": 74.69970487036571, \"Device\": \"qfold-cc-random-local-simulator-ml.m5.large\"}, {\"Step\": 3, \"Time to Solution\": 73.08337476173075, \"Device\": \"qfold-cc-random-local-simulator-ml.m5.large\"}, {\"Step\": 4, \"Time to Solution\": 67.03236664089256, \"Device\": \"qfold-cc-random-local-simulator-ml.m5.large\"}, {\"Step\": 5, \"Time to Solution\": 66.49651435477368, \"Device\": \"qfold-cc-random-local-simulator-ml.m5.large\"}, {\"Step\": 6, \"Time to Solution\": 64.3293337690585, \"Device\": \"qfold-cc-random-local-simulator-ml.m5.large\"}, {\"Step\": 7, \"Time to Solution\": 64.37226004296241, \"Device\": \"qfold-cc-random-local-simulator-ml.m5.large\"}, {\"Step\": 0, \"Time to Solution\": 84.56652111542819, \"Device\": \"qfold-cc-random-local-simulator-ml.m5.4xlarge\"}, {\"Step\": 1, \"Time to Solution\": 78.73080415301823, \"Device\": \"qfold-cc-random-local-simulator-ml.m5.4xlarge\"}, {\"Step\": 2, \"Time to Solution\": 76.81025422801773, \"Device\": \"qfold-cc-random-local-simulator-ml.m5.4xlarge\"}, {\"Step\": 3, \"Time to Solution\": 71.35676622033361, \"Device\": \"qfold-cc-random-local-simulator-ml.m5.4xlarge\"}, {\"Step\": 4, \"Time to Solution\": 71.92996869678453, \"Device\": \"qfold-cc-random-local-simulator-ml.m5.4xlarge\"}, {\"Step\": 5, \"Time to Solution\": 69.68428218287683, \"Device\": \"qfold-cc-random-local-simulator-ml.m5.4xlarge\"}, {\"Step\": 6, \"Time to Solution\": 63.151547249554746, \"Device\": \"qfold-cc-random-local-simulator-ml.m5.4xlarge\"}, {\"Step\": 7, \"Time to Solution\": 61.00867415803411, \"Device\": \"qfold-cc-random-local-simulator-ml.m5.4xlarge\"}, {\"Step\": 0, \"Time to Solution\": 162.15688013768042, \"Device\": \"qfold-cc-minifold-local-simulator-ml.m5.large\"}, {\"Step\": 1, \"Time to Solution\": 135.36610064888248, \"Device\": \"qfold-cc-minifold-local-simulator-ml.m5.large\"}, {\"Step\": 2, \"Time to Solution\": 121.93947912207052, \"Device\": \"qfold-cc-minifold-local-simulator-ml.m5.large\"}, {\"Step\": 3, \"Time to Solution\": 107.84904511992883, \"Device\": \"qfold-cc-minifold-local-simulator-ml.m5.large\"}, {\"Step\": 4, \"Time to Solution\": 94.69605533966494, \"Device\": \"qfold-cc-minifold-local-simulator-ml.m5.large\"}, {\"Step\": 5, \"Time to Solution\": 83.78612607662282, \"Device\": \"qfold-cc-minifold-local-simulator-ml.m5.large\"}, {\"Step\": 6, \"Time to Solution\": 76.39739649406222, \"Device\": \"qfold-cc-minifold-local-simulator-ml.m5.large\"}, {\"Step\": 7, \"Time to Solution\": 70.31827482628702, \"Device\": \"qfold-cc-minifold-local-simulator-ml.m5.large\"}, {\"Step\": 0, \"Time to Solution\": 297.20689904952036, \"Device\": \"qfold-qc-minifold-local-simulator-ml.m5.large\"}, {\"Step\": 1, \"Time to Solution\": 257.0768396884957, \"Device\": \"qfold-qc-minifold-local-simulator-ml.m5.large\"}, {\"Step\": 2, \"Time to Solution\": 341.8007711480159, \"Device\": \"qfold-qc-minifold-local-simulator-ml.m5.large\"}, {\"Step\": 3, \"Time to Solution\": 563.2642256428803, \"Device\": \"qfold-qc-minifold-local-simulator-ml.m5.large\"}, {\"Step\": 4, \"Time to Solution\": 491.2741292553694, \"Device\": \"qfold-qc-minifold-local-simulator-ml.m5.large\"}, {\"Step\": 5, \"Time to Solution\": 554.6665421562067, \"Device\": \"qfold-qc-minifold-local-simulator-ml.m5.large\"}, {\"Step\": 6, \"Time to Solution\": 339.5472618629955, \"Device\": \"qfold-qc-minifold-local-simulator-ml.m5.large\"}, {\"Step\": 7, \"Time to Solution\": 657.2258206536235, \"Device\": \"qfold-qc-minifold-local-simulator-ml.m5.large\"}, {\"Step\": 0, \"Time to Solution\": 125.83909728469, \"Device\": \"qfold-qc-random-local-simulator-ml.m5.4xlarge\"}, {\"Step\": 1, \"Time to Solution\": 162.79166953788086, \"Device\": \"qfold-qc-random-local-simulator-ml.m5.4xlarge\"}, {\"Step\": 2, \"Time to Solution\": 166.465828110322, \"Device\": \"qfold-qc-random-local-simulator-ml.m5.4xlarge\"}, {\"Step\": 3, \"Time to Solution\": 226.87516833617673, \"Device\": \"qfold-qc-random-local-simulator-ml.m5.4xlarge\"}, {\"Step\": 4, \"Time to Solution\": 262.532539034563, \"Device\": \"qfold-qc-random-local-simulator-ml.m5.4xlarge\"}, {\"Step\": 5, \"Time to Solution\": 315.34165138580204, \"Device\": \"qfold-qc-random-local-simulator-ml.m5.4xlarge\"}, {\"Step\": 6, \"Time to Solution\": 262.5463694025349, \"Device\": \"qfold-qc-random-local-simulator-ml.m5.4xlarge\"}, {\"Step\": 7, \"Time to Solution\": 225.99270849033556, \"Device\": \"qfold-qc-random-local-simulator-ml.m5.4xlarge\"}, {\"Step\": 0, \"Time to Solution\": 297.20689904952036, \"Device\": \"qfold-qc-minifold-local-simulator-ml.m5.4xlarge\"}, {\"Step\": 1, \"Time to Solution\": 257.0768396884957, \"Device\": \"qfold-qc-minifold-local-simulator-ml.m5.4xlarge\"}, {\"Step\": 2, \"Time to Solution\": 341.8007711480159, \"Device\": \"qfold-qc-minifold-local-simulator-ml.m5.4xlarge\"}, {\"Step\": 3, \"Time to Solution\": 563.2642256428803, \"Device\": \"qfold-qc-minifold-local-simulator-ml.m5.4xlarge\"}, {\"Step\": 4, \"Time to Solution\": 491.2741292553694, \"Device\": \"qfold-qc-minifold-local-simulator-ml.m5.4xlarge\"}, {\"Step\": 5, \"Time to Solution\": 554.6665421562067, \"Device\": \"qfold-qc-minifold-local-simulator-ml.m5.4xlarge\"}, {\"Step\": 6, \"Time to Solution\": 339.5472618629955, \"Device\": \"qfold-qc-minifold-local-simulator-ml.m5.4xlarge\"}, {\"Step\": 7, \"Time to Solution\": 657.2258206536235, \"Device\": \"qfold-qc-minifold-local-simulator-ml.m5.4xlarge\"}]}}, {\"mode\": \"vega-lite\"});\n",
       "</script>"
      ],
      "text/plain": [
       "alt.Chart(...)"
      ]
     },
     "execution_count": 8,
     "metadata": {},
     "output_type": "execute_result"
    }
   ],
   "source": [
    "rename_result = {}\n",
    "device_list = []\n",
    "x_list = []\n",
    "y_list = []\n",
    "for k,vs in results.items():\n",
    "    device_name = k\n",
    "    for index, v in enumerate(vs):\n",
    "        device_list.append(device_name)\n",
    "        x_list.append(index)\n",
    "        y_list.append(v)\n",
    "source = pd.DataFrame({\n",
    "    \"Step\": np.array(x_list),\n",
    "    \"Time to Solution\": np.array(y_list),\n",
    "    \"Device\": np.array(device_list),\n",
    "})\n",
    "\n",
    "alt.Chart(source).mark_line(point = True).encode(\n",
    "    x='Step',\n",
    "    y='Time to Solution',\n",
    "    color='Device',\n",
    ").properties(\n",
    "    title = f\"{experiment_name} experiments\",\n",
    "    width = 700,\n",
    "    height = 600,\n",
    ").interactive()"
   ]
  },
  {
   "attachments": {},
   "cell_type": "markdown",
   "metadata": {},
   "source": []
  }
 ],
 "metadata": {
  "kernelspec": {
   "display_name": "Python 3",
   "language": "python",
   "name": "python3"
  },
  "language_info": {
   "codemirror_mode": {
    "name": "ipython",
    "version": 3
   },
   "file_extension": ".py",
   "mimetype": "text/x-python",
   "name": "python",
   "nbconvert_exporter": "python",
   "pygments_lexer": "ipython3",
   "version": "3.7.12"
  },
  "vscode": {
   "interpreter": {
    "hash": "aee8b7b246df8f9039afb4144a1f6fd8d2ca17a180786b69acc140d282b71a49"
   }
  }
 },
 "nbformat": 4,
 "nbformat_minor": 4
}
