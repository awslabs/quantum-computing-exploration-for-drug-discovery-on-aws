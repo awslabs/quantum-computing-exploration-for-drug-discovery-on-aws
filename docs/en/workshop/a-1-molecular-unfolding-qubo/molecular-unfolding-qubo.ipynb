{
 "cells": [
  {
   "cell_type": "code",
   "execution_count": 1,
   "id": "ec2fe146",
   "metadata": {},
   "outputs": [
    {
     "name": "stderr",
     "output_type": "stream",
     "text": [
      "2023-02-05 12:06:15,566 dwave.cloud INFO MainThread Log level for 'dwave.cloud' namespace set to 0\n"
     ]
    }
   ],
   "source": [
    "from utility.MoleculeParser import MoleculeData\n",
    "from utility.QMUQUBO import QMUQUBO\n",
    "from utility.AnnealerOptimizer import Annealer\n",
    "from utility.ResultProcess import ResultParser\n",
    "import time\n",
    "\n",
    "timestamp = time.strftime(\"%Y%m%d-%H\")"
   ]
  },
  {
   "cell_type": "markdown",
   "id": "68c6b938",
   "metadata": {},
   "source": [
    "# Step 1: Prepare Data"
   ]
  },
  {
   "cell_type": "markdown",
   "id": "977b418f",
   "metadata": {},
   "source": [
    "In this part, we load the raw molecule data for experiment.\n",
    "The [117 ligand](http://www.rcsb.org/ligand/117) was \n",
    "put in the repository. We assign the relative \n",
    "path to **raw_path**.\n",
    "The **s3_bucket** and **prefix** are used to store the \n",
    "optimization results. We can use the one created with the \n",
    "cloudformation for convenience."
   ]
  },
  {
   "cell_type": "code",
   "execution_count": 2,
   "id": "ea880ba2",
   "metadata": {},
   "outputs": [],
   "source": [
    "from braket.aws import AwsQuantumJob, AwsSession\n",
    "\n",
    "# initial parameters for experiment data\n",
    "s3_bucket = AwsSession().default_bucket() # change to the name of bucket created in your deployment\n",
    "prefix = \"molecular-unfolding\" # the name of the folder in the bucket\n",
    "\n",
    "raw_path = './molecular-unfolding-data/117_ideal.mol2' # the mol2 file for this experiment"
   ]
  },
  {
   "cell_type": "code",
   "execution_count": 3,
   "id": "e823bd32",
   "metadata": {},
   "outputs": [
    {
     "name": "stderr",
     "output_type": "stream",
     "text": [
      "INFO:root:parse mol2 file!\n",
      "INFO:root:finish save qmu_117_ideal_data_latest.pickle\n"
     ]
    },
    {
     "name": "stdout",
     "output_type": "stream",
     "text": [
      "You have loaded the raw molecule data and saved as ./qmu_117_ideal_data_latest.pickle. \n",
      "This molecule has 23 rotable bond\n"
     ]
    }
   ],
   "source": [
    "mol_data = MoleculeData(raw_path, 'qmu')\n",
    "\n",
    "data_path = mol_data.save(\"latest\")\n",
    "\n",
    "num_rotation_bond = mol_data.bond_graph.rb_num\n",
    "print(f\"You have loaded the raw molecule data and saved as {data_path}. \\n\\\n",
    "This molecule has {num_rotation_bond} rotable bond\")"
   ]
  },
  {
   "cell_type": "markdown",
   "id": "654360b3",
   "metadata": {},
   "source": [
    "After running this block, the processed data \n",
    "will be saved as **qmu_117_ideal_data_latest.pickle**\n",
    "and **data_path** will be updated. We can see that this \n",
    "molecule has 23 rotatable bonds."
   ]
  },
  {
   "cell_type": "markdown",
   "id": "8431116a",
   "metadata": {},
   "source": [
    "# Step 2: Build Model"
   ]
  },
  {
   "cell_type": "markdown",
   "id": "761f8310",
   "metadata": {},
   "source": [
    "In this part, we build the Quadratic Unconstrained \n",
    "Binary Optimization (QUBO) model for molecular unfolding.\n",
    "\n",
    "First, we set the following parameters and \n",
    "initialize the QMUQUBO object. \n",
    "\n",
    "<center>\n",
    "\n",
    "| Parameter | Description | Value |\n",
    "|--- |--- |--- |\n",
    "|A | penalty scalar |300|\n",
    "|hubo_qubo_val | energy penalty of make_quadratic() |200|\n",
    "|M | number of torsions for molecular unfolding| [1, max number of rotatable bonds] |\n",
    "|D| angle precision of rotation| 8|\n",
    "|method| the method of building model| 'pre-calc': calculate the score in advance|\n",
    "\n",
    " </center>"
   ]
  },
  {
   "cell_type": "markdown",
   "id": "b45b1b23",
   "metadata": {},
   "source": [
    "We use the 'pre-calc' method \n",
    "to build the model. This molecule has 23 rotatable bonds and \n",
    "we only test 2 of them, so we set the **M** to 2. And we want \n",
    "the angle to become $45^o$, so we set the **D** to 8 \n",
    "(i.e., $8=360^o/45^o$). The **A** and **hubo_qubo_val** are \n",
    "test from experiments. "
   ]
  },
  {
   "cell_type": "code",
   "execution_count": 4,
   "id": "89c4c746",
   "metadata": {},
   "outputs": [
    {
     "name": "stderr",
     "output_type": "stream",
     "text": [
      "INFO:root:initial pre-calculate for constructing molecule QUBO\n"
     ]
    }
   ],
   "source": [
    "# initial the QMUQUBO object\n",
    "init_param = {}\n",
    "method = ['pre-calc']\n",
    "\n",
    "for mt in method:\n",
    "    if mt == 'pre-calc':\n",
    "        init_param[mt] = {}\n",
    "        init_param[mt]['param'] = ['M', 'D', 'A', 'hubo_qubo_val']\n",
    "    \n",
    "qmu_qubo = QMUQUBO(mol_data, method, **init_param)"
   ]
  },
  {
   "cell_type": "code",
   "execution_count": 5,
   "id": "69ffcbfd",
   "metadata": {},
   "outputs": [
    {
     "name": "stderr",
     "output_type": "stream",
     "text": [
      "INFO:root:Construct model for M:1,D:8,A:300,hubo_qubo_val:200 6.29425048828125e-05 min\n",
      "INFO:root:Construct model for M:2,D:8,A:300,hubo_qubo_val:200 0.0007050116856892904 min\n",
      "INFO:root:Construct model for M:3,D:8,A:300,hubo_qubo_val:200 0.007372760772705078 min\n"
     ]
    },
    {
     "data": {
      "text/plain": [
       "0"
      ]
     },
     "execution_count": 5,
     "metadata": {},
     "output_type": "execute_result"
    }
   ],
   "source": [
    "# set the parameters for model\n",
    "model_param = {}\n",
    "# parameters\n",
    "num_rotation_bond = mol_data.bond_graph.rb_num\n",
    "\n",
    "method = 'pre-calc'\n",
    "model_param[method] = {}\n",
    "# model_param[method]['M'] = range(1, num_rotation_bond+1)\n",
    "model_param[method]['M'] = [1,2,3]\n",
    "model_param[method]['D'] = [8]\n",
    "model_param[method]['A'] = [300]\n",
    "model_param[method]['hubo_qubo_val'] = [200]\n",
    "\n",
    "qmu_qubo.build_model(**model_param)"
   ]
  },
  {
   "cell_type": "markdown",
   "id": "a9624b3f",
   "metadata": {},
   "source": [
    "We can use the following method to check the properties of \n",
    "model. This way, we can build many models conveniently. \n",
    "After that, we save the model and update the value of \n",
    "**model_path**."
   ]
  },
  {
   "cell_type": "code",
   "execution_count": 6,
   "id": "431a9c5a",
   "metadata": {},
   "outputs": [
    {
     "name": "stderr",
     "output_type": "stream",
     "text": [
      "INFO:root:method: pre-calc\n",
      "INFO:root:The model_name should be {M}_{D}_{A}_{hubo_qubo_val}\n",
      "INFO:root:param: M, value {1, 2, 3}\n",
      "INFO:root:param: D, value {8}\n",
      "INFO:root:param: A, value {300}\n",
      "INFO:root:param: hubo_qubo_val, value {200}\n"
     ]
    }
   ],
   "source": [
    "# describe the model parameters\n",
    "model_info = qmu_qubo.describe_model()"
   ]
  },
  {
   "cell_type": "code",
   "execution_count": 7,
   "id": "8cfdc3cb",
   "metadata": {},
   "outputs": [
    {
     "name": "stderr",
     "output_type": "stream",
     "text": [
      "INFO:root:finish save qmu_117_ideal_model_latest.pickle\n"
     ]
    },
    {
     "name": "stdout",
     "output_type": "stream",
     "text": [
      "You have built the QUBO model and saved it as ./qmu_117_ideal_model_latest.pickle\n"
     ]
    }
   ],
   "source": [
    "# save the model\n",
    "model_path = qmu_qubo.save(\"latest\")\n",
    "\n",
    "print(f\"You have built the QUBO model and saved it as {model_path}\")"
   ]
  },
  {
   "cell_type": "markdown",
   "id": "fb42eb0f",
   "metadata": {},
   "source": [
    "# Step 3: Optimize Configuration"
   ]
  },
  {
   "cell_type": "markdown",
   "id": "2b3febaf",
   "metadata": {},
   "source": [
    "In this part, we use SA and QA to find the optimized configuration of molecular unfolding.\n",
    "At first, we load the model file using **QMUQUBO** object"
   ]
  },
  {
   "cell_type": "code",
   "execution_count": 8,
   "id": "d4e2a058",
   "metadata": {},
   "outputs": [],
   "source": [
    "qmu_qubo_optimize = QMUQUBO.load(model_path)"
   ]
  },
  {
   "cell_type": "code",
   "execution_count": 9,
   "id": "40f19710",
   "metadata": {},
   "outputs": [
    {
     "name": "stderr",
     "output_type": "stream",
     "text": [
      "INFO:root:method: pre-calc\n",
      "INFO:root:The model_name should be {M}_{D}_{A}_{hubo_qubo_val}\n",
      "INFO:root:param: M, value {1, 2, 3}\n",
      "INFO:root:param: D, value {8}\n",
      "INFO:root:param: A, value {300}\n",
      "INFO:root:param: hubo_qubo_val, value {200}\n"
     ]
    }
   ],
   "source": [
    "model_info = qmu_qubo_optimize.describe_model()"
   ]
  },
  {
   "cell_type": "markdown",
   "id": "b363515e",
   "metadata": {},
   "source": [
    "We can see the parameters of this model, with M equaling 1,2 or 3, D equaling 8, \n",
    "A equaling 300 and hubo_qubo_val equaling 200. \n",
    "Actually, we can contain multiple models in this file just \n",
    "by giving multiple values for one parameter when creating models.\n",
    "\n",
    "Actually, we can contain multiple models in this file just \n",
    "by giving multiple values for one parameter when creating models.\n",
    "Then, we need use **model_name** to get the model for experiments."
   ]
  },
  {
   "cell_type": "code",
   "execution_count": 10,
   "id": "c89eb573",
   "metadata": {},
   "outputs": [],
   "source": [
    "# get the model you want to optimize\n",
    "M = 2\n",
    "D = 8\n",
    "A = 300\n",
    "hubo_qubo_val = 200\n",
    "model_name = \"{}_{}_{}_{}\".format(M, D, A, hubo_qubo_val)\n",
    "method = \"pre-calc\"\n",
    "\n",
    "qubo_model = qmu_qubo_optimize.get_model(method, model_name)"
   ]
  },
  {
   "cell_type": "markdown",
   "id": "7fe4c79b",
   "metadata": {},
   "source": [
    "We can see that we want to carry out experiment with the QUBO model with M equaling 2.\n",
    " After that, we set the parameters for optimization.\n",
    "\n",
    "| Parameter | Description | Value |\n",
    "|--- |--- |--- |\n",
    "|method | annealing method for QUBO problem |'dwave-sa': use the simulated annealer in ocean toolkit<br> 'dwave-qa': use the quantum annealer|\n",
    "|shots| number of reads, refer to [dwave-sa](https://docs.ocean.dwavesys.com/projects/neal/en/latest/reference/generated/neal.sampler.SimulatedAnnealingSampler.sample.html#neal.sampler.SimulatedAnnealingSampler.sample) and [dwave-qa](https://amazon-braket-ocean-plugin-python.readthedocs.io/en/latest/_apidoc/braket.ocean_plugin.braket_sampler.html) for details |1 to 10,000|\n",
    "|bucket | the s3 bucket to store your results | - |\n",
    "|prefix | the name of the folder in your s3 bucket | - |\n",
    "|device | the arn name to run your quantum annealing| 'arn:aws:braket:::device/qpu/d-wave/Advantage_system4' <br> 'arn:aws:braket:::device/qpu/d-wave/DW_2000Q_6'|\n",
    "\n",
    "Then, we can run the SA for this problem:"
   ]
  },
  {
   "cell_type": "code",
   "execution_count": 11,
   "id": "bac3b192",
   "metadata": {},
   "outputs": [
    {
     "name": "stderr",
     "output_type": "stream",
     "text": [
      "INFO:root:use neal simulated annealer (c++) from dimod\n"
     ]
    }
   ],
   "source": [
    "method = 'neal-sa'\n",
    "\n",
    "optimizer_param = {}\n",
    "optimizer_param['shots'] = 1000\n",
    "\n",
    "sa_optimizer = Annealer(qubo_model, method, **optimizer_param)"
   ]
  },
  {
   "cell_type": "code",
   "execution_count": 12,
   "id": "f1b28e0d",
   "metadata": {},
   "outputs": [
    {
     "name": "stderr",
     "output_type": "stream",
     "text": [
      "INFO:root:fit() ...\n",
      "INFO:root:neal-sa save to local\n",
      "INFO:root:finish save neal-sa_result.pickle\n"
     ]
    }
   ],
   "source": [
    "sa_optimize_result = sa_optimizer.fit()"
   ]
  },
  {
   "cell_type": "markdown",
   "id": "99c606d2",
   "metadata": {},
   "source": [
    "We can tell that we set the number of shots for SA to 1000. \n",
    "The result is saved as the local file **./sa_result.pickle.**\n",
    "Alternatively, we can use QA to solve this problem:"
   ]
  },
  {
   "cell_type": "code",
   "execution_count": 13,
   "id": "efaea78d",
   "metadata": {},
   "outputs": [],
   "source": [
    "# # dwave device has been moved to marketplace, please refer to the following link\n",
    "# # https://aws.amazon.com/blogs/quantum-computing/using-d-wave-leap-from-the-aws-marketplace-with-amazon-braket-notebooks-and-braket-sdk/\n",
    "# method = 'dwave-qa'\n",
    "\n",
    "# optimizer_param = {}\n",
    "# optimizer_param['shots'] = 1000\n",
    "# optimizer_param['bucket'] = s3_bucket # the name of the bucket\n",
    "# optimizer_param['prefix'] = prefix # the name of the folder in the bucket\n",
    "# optimizer_param['device'] = \"arn:aws:braket:::device/qpu/d-wave/Advantage_system4\"\n",
    "# optimizer_param[\"embed_method\"] = \"default\"\n",
    "\n",
    "# qa_optimizer = Annealer(qubo_model, method, **optimizer_param)\n",
    "\n",
    "# # not create annealing task, only embedding logic\n",
    "# qa_optimizer.embed()\n",
    "# # create annealing task\n",
    "# qa_optimize_result = qa_optimizer.fit()\n",
    "\n",
    "# # not create annealing task, only embedding logic\n",
    "# qa_optimizer.embed()\n",
    "# # create annealing task\n",
    "# qa_optimize_result = qa_optimizer.fit()"
   ]
  },
  {
   "cell_type": "markdown",
   "id": "84901a01",
   "metadata": {},
   "source": [
    "Finally, we can compare the execution time between SA and QA :"
   ]
  },
  {
   "cell_type": "code",
   "execution_count": 14,
   "id": "6023a8fb",
   "metadata": {},
   "outputs": [
    {
     "name": "stdout",
     "output_type": "stream",
     "text": [
      "dwave-sa run time 0.23283004760742188\n"
     ]
    }
   ],
   "source": [
    "print(f\"dwave-sa run time {sa_optimize_result['time']}\")"
   ]
  },
  {
   "cell_type": "markdown",
   "id": "86f0ed9a",
   "metadata": {},
   "source": [
    "We sometimes get the best result that occurs only once. This does not always indicate an error. It is actually the characteristic of the problem or how the problem \n",
    "is formulated. Because we have different linear and quadratic terms that vary by many orders of magnitude. If we \n",
    "set change value of A to some smaller number, like 10 or 100, more occurrences of the best answer will be observed. \n",
    "However, these answers usually break the constraints. For more information about this phenomenon, please refer to this \n",
    "[Link](https://support.dwavesys.com/hc/en-us/community/posts/1500000698522-Number-of-occurrences-?input_string=number%20occurance)."
   ]
  },
  {
   "cell_type": "markdown",
   "id": "ddcba0ff",
   "metadata": {},
   "source": [
    "# Step 4: PostProcess Result"
   ]
  },
  {
   "cell_type": "markdown",
   "id": "2d0d4d09",
   "metadata": {},
   "source": [
    "In this part, we post process the optimizing results for evaluation and visualization.\n",
    "At first, we prepare the following parameters:\n",
    "\n",
    "| Parameter | Description | Value |\n",
    "|--- |--- |--- |\n",
    "|method | annealing method for QUBO problem |'dwave-sa': use the simulated annealer in ocean toolkit<br> 'dwave-qa': use the quantum annealer|\n",
    "|raw_path| the path for the original molecule file| './molecule-data/117_ideal.mol2' in this example |\n",
    "|data_path| the path for the processed molecule file| './qmu_117_ideal_data_latest.mol2' in this example |\n",
    "|bucket | the s3 bucket to store your results | - |\n",
    "|prefix | the name of the folder in your s3 bucket | - |\n",
    "|task_id | the id for your quantum annealing task| '2b5a3b05-1a0e-443a-852c-4ec422a10e59' in this example |"
   ]
  },
  {
   "cell_type": "markdown",
   "id": "6132a665",
   "metadata": {},
   "source": [
    "Then we can run the post-process using **ResultParser** object for SA:"
   ]
  },
  {
   "cell_type": "code",
   "execution_count": 15,
   "id": "ee681be9",
   "metadata": {},
   "outputs": [
    {
     "name": "stderr",
     "output_type": "stream",
     "text": [
      "INFO:root:_load_raw_result\n",
      "INFO:root:load simulated annealer neal-sa raw result\n",
      "INFO:root:MoleculeData.load()\n",
      "INFO:root:init mol data for final position\n",
      "INFO:root:init mol data for raw position\n",
      "INFO:root:_parse_model_info\n",
      "INFO:root:_init_parameters\n",
      "INFO:root:parse simulated annealer result\n",
      "INFO:root:sa only has local_time!\n"
     ]
    },
    {
     "name": "stdout",
     "output_type": "stream",
     "text": [
      "time for neal-sa: \n",
      "     local time is 0.23283004760742188\n"
     ]
    }
   ],
   "source": [
    "method = \"neal-sa\"\n",
    "sa_param = {}\n",
    "sa_param[\"raw_path\"] = raw_path\n",
    "sa_param[\"data_path\"] = data_path\n",
    "\n",
    "sa_process_result = ResultParser(method, **sa_param)\n",
    "# print(f\"{method} result is {sa_process_result.get_all_result()}\")\n",
    "\n",
    "local_time, _ , _, _= sa_process_result.get_time()\n",
    "\n",
    "print(f\"time for {method}: \\n \\\n",
    "    local time is {local_time}\")"
   ]
  },
  {
   "cell_type": "code",
   "execution_count": 16,
   "id": "c78e26dc",
   "metadata": {},
   "outputs": [
    {
     "name": "stderr",
     "output_type": "stream",
     "text": [
      "INFO:root:generate_optimize_pts()\n",
      "INFO:root:var_dict_raw {'14': ['1'], '15': ['8']} var_dict_list [{'14': '1', '15': '8'}]\n",
      "INFO:root:chosen var {'x_14_1', 'x_15_8'}\n",
      "INFO:root:tor list {'X_14_1', 'X_15_8'}\n",
      "INFO:root:initial 18.549876807564765\n",
      "INFO:root:optimize 18.56185411730613\n",
      "INFO:root:optimize_gain 1.0006456813630418\n",
      "INFO:root:start physical check\n",
      "INFO:root:save_mol_file 20230205-12\n",
      "INFO:root:finish save ./molecular-unfolding-data/117_ideal_neal-sa_20230205-12.mol2 and ./molecular-unfolding-data/117_ideal_neal-sa_20230205-12.json\n"
     ]
    },
    {
     "name": "stdout",
     "output_type": "stream",
     "text": [
      "result path is ./molecular-unfolding-data/117_ideal_neal-sa_20230205-12.mol2, and result optimization file path is ./molecular-unfolding-data/117_ideal_neal-sa_20230205-12.json\n"
     ]
    }
   ],
   "source": [
    "sa_atom_pos_data = sa_process_result.generate_optimize_pts()\n",
    "# save unfold file for visualization and parameters for experiment: 1. volume value 2. relative improvement\n",
    "sa_result_filepath, sa_result_json = sa_process_result.save_mol_file(f\"{timestamp}\")\n",
    "\n",
    "print(f\"result path is {sa_result_filepath}, and result optimization file path is {sa_result_json}\")"
   ]
  },
  {
   "cell_type": "code",
   "execution_count": 17,
   "id": "a12c756a",
   "metadata": {},
   "outputs": [
    {
     "data": {
      "text/plain": [
       "{'volume': {'optimize': 18.56185411730613,\n",
       "  'initial': 18.549876807564765,\n",
       "  'gain': 1.0006456813630418,\n",
       "  'unfolding_results': ['X_14_1', 'X_15_8'],\n",
       "  'annealing_results': ['x_14_1', 'x_15_8'],\n",
       "  'optimize_info': {'optimize_state': True, 'result_rank': 6}}}"
      ]
     },
     "execution_count": 17,
     "metadata": {},
     "output_type": "execute_result"
    }
   ],
   "source": [
    "sa_process_result.parameters"
   ]
  },
  {
   "cell_type": "markdown",
   "id": "392b7985",
   "metadata": {},
   "source": [
    "In the first block, we can see the **local time**\n",
    "for SA is more than 150 seconds. \n",
    "With the **generate_optimize_pts()** method, the final 3D \n",
    "points after unfolding will be generated and saved as json file and mol2 files. The last \n",
    "block shows the optimizing results which are also stored in json files. \n",
    "It shows that the optimized result gains \n",
    "1.0006x increase in volume. The value for **unfolding_results** indicates \n",
    "that the rotatable bond 15 should rotate $270^o$ ($360/8*(7-1)$) and \n",
    "the rotatable bond 14 should rotate $0^o$ ($360/8*(1-1)$).\n",
    "At the same time, you can run the post-process for QA:"
   ]
  },
  {
   "cell_type": "code",
   "execution_count": 18,
   "id": "c8eea314",
   "metadata": {},
   "outputs": [],
   "source": [
    "# The following codes can be used as the reference once you can access d-wave devices from marketplace\n",
    "# method = \"dwave-qa\"\n",
    "# qa_param = {}\n",
    "# qa_param[\"bucket\"] = s3_bucket\n",
    "# qa_param[\"prefix\"] = prefix\n",
    "# qa_param[\"task_id\"] = qa_task_id\n",
    "# qa_param[\"raw_path\"] = raw_path\n",
    "# qa_param[\"data_path\"] = data_path\n",
    "\n",
    "# qa_process_result = ResultParser(method, **qa_param)\n",
    "# # print(f\"{method} result is {qa_process_result.get_all_result()}\")\n",
    "\n",
    "# local_time, task_time, total_time, access_time = qa_process_result.get_time()\n",
    "\n",
    "# print(f\"time for {method}: \\n \\\n",
    "#     local time is {local_time},\\n \\\n",
    "#     task time is {task_time}, \\n \\\n",
    "#     qpu total time is {total_time}, \\n \\\n",
    "#     qpu access time is {access_time}\")"
   ]
  },
  {
   "cell_type": "markdown",
   "id": "fa124178",
   "metadata": {},
   "source": [
    "we can see that there many types of time metrics for running QA.\n",
    "This task has the **local time** of 5 s, which means the time between calling the api and \n",
    "getting the annealing result. The **task time** time is the metric from the json file in \n",
    "bucket. We can also see the **qpu total time** and **qpu access time** representing the \n",
    "actual time running in the QPU. Please refer to [Operation and Timing](https://docs.dwavesys.com/docs/latest/c_qpu_timing.html)\n",
    "for details."
   ]
  },
  {
   "cell_type": "code",
   "execution_count": 19,
   "id": "b7cc0999",
   "metadata": {},
   "outputs": [],
   "source": [
    "# qa_atom_pos_data = qa_process_result.generate_optimize_pts()\n",
    "# # save unfold file for visualization and parameters for experiment: 1. volume value 2. relative improvement\n",
    "# qa_result_filepath, qa_result_json = qa_process_result.save_mol_file(f\"{timestamp}\")\n",
    "# print(f\"result path is {qa_result_filepath}, and result optimization file path is {qa_result_json}\")"
   ]
  },
  {
   "cell_type": "code",
   "execution_count": 20,
   "id": "a531017a",
   "metadata": {},
   "outputs": [],
   "source": [
    "# qa_process_result.parameters"
   ]
  },
  {
   "cell_type": "markdown",
   "id": "356785f5",
   "metadata": {},
   "source": [
    "Finally, We can open folders for the optimized results:\n",
    "\n",
    "![optimize-results](images/optimize-results.png)\n",
    "\n",
    " <center>Optimize Results</center>\n",
    "\n",
    "We can see the json result and mol2 file of SA and QA are \n",
    "stored in this place. If we carry out more \n",
    "experiments, more results with time stamp are \n",
    "stored incrementally. \n",
    "For visualization, we can upload the mol2 file into \n",
    "[online viewer tool](https://www.rcsb.org/3d-view) \n",
    "to see the result:\n",
    "\n",
    "![visual](images/visualization.png)\n",
    "\n",
    " <center>Visualization</center>"
   ]
  }
 ],
 "metadata": {
  "kernelspec": {
   "display_name": "Python 3 (ipykernel)",
   "language": "python",
   "name": "python3"
  },
  "language_info": {
   "codemirror_mode": {
    "name": "ipython",
    "version": 3
   },
   "file_extension": ".py",
   "mimetype": "text/x-python",
   "name": "python",
   "nbconvert_exporter": "python",
   "pygments_lexer": "ipython3",
   "version": "3.9.13"
  },
  "vscode": {
   "interpreter": {
    "hash": "31f2aee4e71d21fbe5cf8b01ff0e069b9275f58929596ceb00d14d90e3e16cd6"
   }
  }
 },
 "nbformat": 4,
 "nbformat_minor": 5
}
