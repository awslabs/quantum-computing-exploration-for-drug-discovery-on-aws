{
 "cells": [
  {
   "cell_type": "markdown",
   "id": "76db6fc7",
   "metadata": {},
   "source": [
    "# Step 4: PostProcess Result"
   ]
  },
  {
   "cell_type": "markdown",
   "id": "6d794ecb",
   "metadata": {},
   "source": [
    "In this part, we post process the optimizing results for evaluation and visualization.\n",
    "At first, we prepare the following parameters:\n",
    "\n",
    "| Parameter | Description | Value |\n",
    "|--- |--- |--- |\n",
    "|method | annealing method for QUBO problem |'dwave-sa': use the simulated annealer in ocean toolkit<br> 'dwave-qa': use the quantum annealer|\n",
    "|raw_path| the path for the original molecule file| './molecule-data/117_ideal.mol2' in this example |\n",
    "|data_path| the path for the processed molecule file| './qmu_117_ideal_data_latest.mol2' in this example |\n",
    "|bucket | the s3 bucket to store your results | - |\n",
    "|prefix | the name of the folder in your s3 bucket | - |\n",
    "|task_id | the id for your quantum annealing task| '2b5a3b05-1a0e-443a-852c-4ec422a10e59' in this example |"
   ]
  },
  {
   "cell_type": "markdown",
   "id": "ee80634c",
   "metadata": {},
   "source": [
    "Then we can run the post-process using **ResultParser** object for SA:"
   ]
  },
  {
   "cell_type": "code",
   "execution_count": null,
   "id": "ad558c1f",
   "metadata": {},
   "outputs": [],
   "source": [
    "from utility.MoleculeParser import MoleculeData\n",
    "from utility.QMUQUBO import QMUQUBO\n",
    "from utility.AnnealerOptimizer import Annealer\n",
    "from utility.ResultProcess import ResultParser\n",
    "import time\n",
    "\n",
    "timestamp = time.strftime(\"%Y%m%d-%H\")"
   ]
  },
  {
   "cell_type": "code",
   "execution_count": 18,
   "id": "b6ae63e5",
   "metadata": {},
   "outputs": [
    {
     "name": "stderr",
     "output_type": "stream",
     "text": [
      "INFO:root:_load_raw_result\n",
      "INFO:root:load simulated annealer raw result\n",
      "INFO:root:MoleculeData.load()\n",
      "INFO:root:init mol data for final position\n",
      "INFO:root:init mol data for raw position\n",
      "INFO:root:_parse_model_info\n",
      "INFO:root:_init_parameters\n",
      "INFO:root:parse simulated annealer result\n",
      "INFO:root:sa only has local_time!\n"
     ]
    },
    {
     "name": "stdout",
     "output_type": "stream",
     "text": [
      "time for dwave-sa: \n",
      "     local time is 175.73437476158142\n"
     ]
    }
   ],
   "source": [
    "method = \"dwave-sa\"\n",
    "sa_param = {}\n",
    "sa_param[\"raw_path\"] = raw_path\n",
    "sa_param[\"data_path\"] = data_path\n",
    "\n",
    "sa_process_result = ResultParser(method, **sa_param)\n",
    "# print(f\"{method} result is {sa_process_result.get_all_result()}\")\n",
    "\n",
    "local_time, _ , _, _= sa_process_result.get_time()\n",
    "\n",
    "print(f\"time for {method}: \\n \\\n",
    "    local time is {local_time}\")"
   ]
  },
  {
   "cell_type": "code",
   "execution_count": 19,
   "id": "0049b852",
   "metadata": {},
   "outputs": [
    {
     "name": "stderr",
     "output_type": "stream",
     "text": [
      "INFO:root:generate_optimize_pts()\n",
      "INFO:numexpr.utils:NumExpr defaulting to 2 threads.\n",
      "INFO:root:save_mol_file 20220216-06\n",
      "INFO:root:finish save ./molecule-data/117_ideal_dwave-sa_20220216-06.mol2 and ./molecule-data/117_ideal_dwave-sa_20220216-06.json\n"
     ]
    },
    {
     "data": {
      "text/plain": [
       "['./molecule-data/117_ideal_dwave-sa_20220216-06.mol2',\n",
       " './molecule-data/117_ideal_dwave-sa_20220216-06.json']"
      ]
     },
     "execution_count": 19,
     "metadata": {},
     "output_type": "execute_result"
    }
   ],
   "source": [
    "sa_atom_pos_data = sa_process_result.generate_optimize_pts()\n",
    "# save unfold file for visualization and parameters for experiment: 1. volume value 2. relative improvement\n",
    "sa_process_result.save_mol_file(f\"{timestamp}\")\n"
   ]
  },
  {
   "cell_type": "code",
   "execution_count": 20,
   "id": "639f2b55",
   "metadata": {},
   "outputs": [
    {
     "data": {
      "text/plain": [
       "{'volume': {'optimize': 18.9423642473021,\n",
       "  'initial': 18.549876807564765,\n",
       "  'gain': 1.0211584930621898,\n",
       "  'unfolding_results': ['x_15_7', 'x_14_8']}}"
      ]
     },
     "execution_count": 20,
     "metadata": {},
     "output_type": "execute_result"
    }
   ],
   "source": [
    "sa_process_result.parameters"
   ]
  },
  {
   "cell_type": "markdown",
   "id": "99498cad",
   "metadata": {},
   "source": [
    "In the first block, we can see the **local time**\n",
    "for SA is around 174 seconds. \n",
    "With the **generate_optimize_pts()** method, the final 3D \n",
    "points after unfolding will be generated and saved as json file and mol2 files. The last \n",
    "block shows the optimizing results which are also stored in json files. \n",
    "It shows that the optimized result gains \n",
    "1.0212x increase in volume. The value for **unfolding_results** indicates \n",
    "that the rotatable bond 15 should rotate $270^o$ ($360/8*(7-1)$) and \n",
    "the rotatable bond 14 should rotate $315^o$ ($360/8*(8-1)$).\n",
    "At the same time, you can run the post-process for QA:"
   ]
  },
  {
   "cell_type": "code",
   "execution_count": 21,
   "id": "c94944c7",
   "metadata": {},
   "outputs": [
    {
     "name": "stderr",
     "output_type": "stream",
     "text": [
      "INFO:root:_load_raw_result\n",
      "INFO:root:load quantum annealer raw result\n",
      "INFO:root:_read_result_obj\n",
      "INFO:root:_read_result_obj: annealer-experiment/89a59fa9-c66e-482d-85e0-6dfce8c54454/qa_result.pickle\n",
      "INFO:root:MoleculeData.load()\n",
      "INFO:root:init mol data for final position\n",
      "INFO:root:init mol data for raw position\n",
      "INFO:root:_parse_model_info\n",
      "INFO:root:_init_parameters\n",
      "INFO:root:parse quantum annealer result\n",
      "INFO:root:_read_result_obj\n",
      "INFO:root:_read_result_obj: annealer-experiment/89a59fa9-c66e-482d-85e0-6dfce8c54454/results.json\n"
     ]
    },
    {
     "name": "stdout",
     "output_type": "stream",
     "text": [
      "time for dwave-qa: \n",
      "     local time is 7.57835578918457,\n",
      "     task time is 1.89, \n",
      "     qpu total time is 0.142533, \n",
      "     qpu access time is 0.124129\n"
     ]
    }
   ],
   "source": [
    "method = \"dwave-qa\"\n",
    "qa_param = {}\n",
    "qa_param[\"bucket\"] = s3_bucket\n",
    "qa_param[\"prefix\"] = prefix\n",
    "qa_param[\"task_id\"] = qa_task_id\n",
    "qa_param[\"raw_path\"] = raw_path\n",
    "qa_param[\"data_path\"] = data_path\n",
    "\n",
    "qa_process_result = ResultParser(method, **qa_param)\n",
    "# print(f\"{method} result is {qa_process_result.get_all_result()}\")\n",
    "\n",
    "local_time, task_time, total_time, access_time = qa_process_result.get_time()\n",
    "\n",
    "print(f\"time for {method}: \\n \\\n",
    "    local time is {local_time},\\n \\\n",
    "    task time is {task_time}, \\n \\\n",
    "    qpu total time is {total_time}, \\n \\\n",
    "    qpu access time is {access_time}\")"
   ]
  },
  {
   "cell_type": "markdown",
   "id": "56757928",
   "metadata": {},
   "source": [
    "we can see that there many types of time metrics for running QA.\n",
    "This task has the **local time** of 7.7 s, which means the time between calling the api and \n",
    "getting the annealing result. The **task time** time is the metric from the json file in \n",
    "bucket. We can also see the **qpu total time** and **qpu access time** representing the \n",
    "actual time running in the QPU. Please refer to [Operation and Timing](https://docs.dwavesys.com/docs/latest/c_qpu_timing.html)\n",
    "for details."
   ]
  },
  {
   "cell_type": "code",
   "execution_count": 22,
   "id": "2063eb59",
   "metadata": {},
   "outputs": [
    {
     "name": "stderr",
     "output_type": "stream",
     "text": [
      "INFO:root:generate_optimize_pts()\n",
      "INFO:root:save_mol_file 20220216-06\n",
      "INFO:root:finish save ./molecule-data/117_ideal_dwave-qa_20220216-06.mol2 and ./molecule-data/117_ideal_dwave-qa_20220216-06.json\n"
     ]
    },
    {
     "data": {
      "text/plain": [
       "['./molecule-data/117_ideal_dwave-qa_20220216-06.mol2',\n",
       " './molecule-data/117_ideal_dwave-qa_20220216-06.json']"
      ]
     },
     "execution_count": 22,
     "metadata": {},
     "output_type": "execute_result"
    }
   ],
   "source": [
    "qa_atom_pos_data = qa_process_result.generate_optimize_pts()\n",
    "# save unfold file for visualization and parameters for experiment: 1. volume value 2. relative improvement\n",
    "qa_process_result.save_mol_file(f\"{timestamp}\")"
   ]
  },
  {
   "cell_type": "code",
   "execution_count": 23,
   "id": "e286d569",
   "metadata": {},
   "outputs": [
    {
     "data": {
      "text/plain": [
       "{'volume': {'optimize': 18.9423642473021,\n",
       "  'initial': 18.549876807564765,\n",
       "  'gain': 1.0211584930621898,\n",
       "  'unfolding_results': ['x_15_7', 'x_14_8']}}"
      ]
     },
     "execution_count": 23,
     "metadata": {},
     "output_type": "execute_result"
    }
   ],
   "source": [
    "qa_process_result.parameters"
   ]
  },
  {
   "cell_type": "markdown",
   "id": "2d246fae",
   "metadata": {},
   "source": [
    "In same way, the optimized results are translated the 3D points and saved \n",
    "as local json and mol2 files. The result indicates that QA gains \n",
    "1.021x increase in \n",
    "volume."
   ]
  },
  {
   "cell_type": "markdown",
   "id": "15451a30",
   "metadata": {},
   "source": [
    "Finally, We can open folders for the optimized results:\n",
    "\n",
    "![optimize-results](../../../images/optimize-results.png)\n",
    "\n",
    " <center>Optimize Results</center>\n",
    "\n",
    "We can the json result and mol2 file of SA and QA are \n",
    "stored in this place. If we carry out more \n",
    "experiments, more results with time stamp are \n",
    "stored incrementally. \n",
    "For visualization, \n",
    "we can upload the \n",
    "result **117_ideal_dwave-qa_20220216-05.mol2** \n",
    "into \n",
    "[online viewer tool](https://www.rcsb.org/3d-view) \n",
    "to see the result:\n",
    "\n",
    "![visual](../../../images/visualization.png)\n",
    "\n",
    " <center>Visualization</center>"
   ]
  }
 ],
 "metadata": {
  "interpreter": {
   "hash": "18f113ef20d2e5656a0bc837e6c476bd436e29840b6ed1847ecdb90743164c58"
  },
  "kernelspec": {
   "display_name": "conda_braket",
   "language": "python",
   "name": "python3"
  },
  "language_info": {
   "codemirror_mode": {
    "name": "ipython",
    "version": 3
   },
   "file_extension": ".py",
   "mimetype": "text/x-python",
   "name": "python",
   "nbconvert_exporter": "python",
   "pygments_lexer": "ipython3",
   "version": "3.7.12"
  }
 },
 "nbformat": 4,
 "nbformat_minor": 5
}
