{
 "cells": [
  {
   "cell_type": "markdown",
   "id": "f1aede74",
   "metadata": {},
   "source": [
    "# Step 1: Prepare Data"
   ]
  },
  {
   "cell_type": "markdown",
   "id": "e23f9cb5",
   "metadata": {},
   "source": [
    "To load the raw molecule data for experiment, do the following:\n",
    "\n",
    "1. Find the molecular file in mol2 format from the [Protein Data Bank](https://www.rcsb.org/downloads/ligands) (PDB) and download it. In this example, [117 ligand](http://www.rcsb.org/ligand/117) is used.\n",
    "2. Upload the molecular file to the directory **source/src/molecular-folding/molecule-data**.\n",
    "3. Update the parameter 'raw_path' to be the relative path of the file.\n",
    "4. Update the parameters 's3_bucket' and 'prefix', which are used to store the optimization results. \n",
    "\n",
    "    **Note**: You can use the S3 bucket name in the CloudFormation output."
   ]
  },
  {
   "cell_type": "code",
   "execution_count": null,
   "id": "2a19e021",
   "metadata": {},
   "outputs": [],
   "source": [
    "from utility.MoleculeParser import MoleculeData\n",
    "from utility.QMUQUBO import QMUQUBO\n",
    "from utility.AnnealerOptimizer import Annealer\n",
    "from utility.ResultProcess import ResultParser\n",
    "import time\n",
    "\n",
    "timestamp = time.strftime(\"%Y%m%d-%H\")"
   ]
  },
  {
   "cell_type": "code",
   "execution_count": 2,
   "id": "6f4a79bd",
   "metadata": {},
   "outputs": [],
   "source": [
    "# initial parameters for experiment data\n",
    "s3_bucket = f\"xxxx\" # the name of the bucket\n",
    "prefix = \"xxxx\" # the name of the folder in the bucket\n",
    "\n",
    "raw_path = './molecule-data/117_ideal.mol2' # the mol2 file for this experiment"
   ]
  },
  {
   "cell_type": "code",
   "execution_count": 3,
   "id": "87bf78a5",
   "metadata": {},
   "outputs": [
    {
     "name": "stderr",
     "output_type": "stream",
     "text": [
      "INFO:root:parse mol2 file!\n",
      "INFO:root:finish save qmu_117_ideal_data_latest.pickle\n"
     ]
    },
    {
     "name": "stdout",
     "output_type": "stream",
     "text": [
      "You have loaded the raw molecule data and saved as ./qmu_117_ideal_data_latest.pickle. \n",
      "This molecule has 23 rotable bond\n"
     ]
    }
   ],
   "source": [
    "mol_data = MoleculeData(raw_path, 'qmu')\n",
    "\n",
    "data_path = mol_data.save(\"latest\")\n",
    "\n",
    "num_rotation_bond = mol_data.bond_graph.rb_num\n",
    "print(f\"You have loaded the raw molecule data and saved as {data_path}. \\n\\\n",
    "This molecule has {num_rotation_bond} rotable bond\")"
   ]
  },
  {
   "cell_type": "markdown",
   "id": "cc5c8378",
   "metadata": {},
   "source": [
    "After running, the result\n",
    "will be saved as **qmu_117_ideal_data_latest.pickle**\n",
    "and **data_path** will be updated. The output shows that this molecule has 23 rotatable bonds."
   ]
  }
 ],
 "metadata": {
  "interpreter": {
   "hash": "18f113ef20d2e5656a0bc837e6c476bd436e29840b6ed1847ecdb90743164c58"
  },
  "kernelspec": {
   "display_name": "conda_braket",
   "language": "python",
   "name": "python3"
  },
  "language_info": {
   "codemirror_mode": {
    "name": "ipython",
    "version": 3
   },
   "file_extension": ".py",
   "mimetype": "text/x-python",
   "name": "python",
   "nbconvert_exporter": "python",
   "pygments_lexer": "ipython3",
   "version": "3.7.12"
  }
 },
 "nbformat": 4,
 "nbformat_minor": 5
}
