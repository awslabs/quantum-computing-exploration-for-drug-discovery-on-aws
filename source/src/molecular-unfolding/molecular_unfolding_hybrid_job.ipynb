{
 "cells": [
  {
   "cell_type": "code",
   "execution_count": 1,
   "id": "31857d92-ad12-4f8a-9329-144d8e03afcf",
   "metadata": {},
   "outputs": [
    {
     "name": "stderr",
     "output_type": "stream",
     "text": [
      "2022-12-27 09:16:06,012 dwave.cloud INFO MainThread Log level for 'dwave.cloud' namespace set to 0\n"
     ]
    },
    {
     "ename": "ModuleNotFoundError",
     "evalue": "No module named 'py3Dmol'",
     "output_type": "error",
     "traceback": [
      "\u001b[0;31m---------------------------------------------------------------------------\u001b[0m",
      "\u001b[0;31mModuleNotFoundError\u001b[0m                       Traceback (most recent call last)",
      "Cell \u001b[0;32mIn [1], line 4\u001b[0m\n\u001b[1;32m      2\u001b[0m \u001b[38;5;28;01mfrom\u001b[39;00m \u001b[38;5;21;01mutility\u001b[39;00m\u001b[38;5;21;01m.\u001b[39;00m\u001b[38;5;21;01mQMUQUBO\u001b[39;00m \u001b[38;5;28;01mimport\u001b[39;00m QMUQUBO\n\u001b[1;32m      3\u001b[0m \u001b[38;5;28;01mfrom\u001b[39;00m \u001b[38;5;21;01mutility\u001b[39;00m\u001b[38;5;21;01m.\u001b[39;00m\u001b[38;5;21;01mAnnealerOptimizer\u001b[39;00m \u001b[38;5;28;01mimport\u001b[39;00m Annealer\n\u001b[0;32m----> 4\u001b[0m \u001b[38;5;28;01mfrom\u001b[39;00m \u001b[38;5;21;01mutility\u001b[39;00m\u001b[38;5;21;01m.\u001b[39;00m\u001b[38;5;21;01mResultProcess\u001b[39;00m \u001b[38;5;28;01mimport\u001b[39;00m ResultParser\n\u001b[1;32m      5\u001b[0m \u001b[38;5;28;01mimport\u001b[39;00m \u001b[38;5;21;01mtime\u001b[39;00m\n\u001b[1;32m      7\u001b[0m timestamp \u001b[38;5;241m=\u001b[39m time\u001b[38;5;241m.\u001b[39mstrftime(\u001b[38;5;124m\"\u001b[39m\u001b[38;5;124m%\u001b[39m\u001b[38;5;124mY\u001b[39m\u001b[38;5;124m%\u001b[39m\u001b[38;5;124mm\u001b[39m\u001b[38;5;132;01m%d\u001b[39;00m\u001b[38;5;124m-\u001b[39m\u001b[38;5;124m%\u001b[39m\u001b[38;5;124mH\u001b[39m\u001b[38;5;124m\"\u001b[39m)\n",
      "File \u001b[0;32m~/workplace/csdc/quantum-computing-exploration-for-drug-discovery-on-aws/source/src/molecular-unfolding/utility/ResultProcess.py:19\u001b[0m\n\u001b[1;32m     16\u001b[0m \u001b[38;5;28;01mfrom\u001b[39;00m \u001b[38;5;21;01m.\u001b[39;00m\u001b[38;5;21;01mMolGeoCalc\u001b[39;00m \u001b[38;5;28;01mimport\u001b[39;00m update_pts_distance, get_same_direction_set, calc_distance_between_pts\n\u001b[1;32m     17\u001b[0m \u001b[38;5;28;01mfrom\u001b[39;00m \u001b[38;5;21;01m.\u001b[39;00m\u001b[38;5;21;01mMoleculeParser\u001b[39;00m \u001b[38;5;28;01mimport\u001b[39;00m MoleculeData\n\u001b[0;32m---> 19\u001b[0m \u001b[38;5;28;01mimport\u001b[39;00m \u001b[38;5;21;01mpy3Dmol\u001b[39;00m\n\u001b[1;32m     20\u001b[0m \u001b[38;5;28;01mimport\u001b[39;00m \u001b[38;5;21;01mtime\u001b[39;00m\n\u001b[1;32m     21\u001b[0m \u001b[38;5;28;01mfrom\u001b[39;00m \u001b[38;5;21;01mipywidgets\u001b[39;00m \u001b[38;5;28;01mimport\u001b[39;00m interact, fixed, IntSlider\n",
      "\u001b[0;31mModuleNotFoundError\u001b[0m: No module named 'py3Dmol'"
     ]
    }
   ],
   "source": [
    "from molecular_unfolding.utility.MoleculeParser import MoleculeData\n",
    "from molecular_unfolding.QMUQUBO import QMUQUBO\n",
    "from utility.AnnealerOptimizer import Annealer\n",
    "from utility.ResultProcess import ResultParser\n",
    "import time\n",
    "\n",
    "timestamp = time.strftime(\"%Y%m%d-%H\")"
   ]
  },
  {
   "cell_type": "code",
   "execution_count": null,
   "id": "4f274f50-3fe8-482b-9714-ac45003a5b34",
   "metadata": {},
   "outputs": [],
   "source": [
    "# prepare base container\n",
    "# install py3Dmol"
   ]
  },
  {
   "cell_type": "code",
   "execution_count": null,
   "id": "6c5ecda9-e928-4355-86bc-21cb4b7307be",
   "metadata": {},
   "outputs": [],
   "source": [
    "# upload data to s3"
   ]
  },
  {
   "cell_type": "code",
   "execution_count": 59,
   "id": "6283c75a-3c8b-4a9e-9fd8-709e7d8da56e",
   "metadata": {},
   "outputs": [],
   "source": [
    "import copy\n",
    "\n",
    "c = copy.deepcopy\n",
    "\n",
    "def get_key(single_dict):\n",
    "    for k in single_dict.keys():\n",
    "        return k\n",
    "\n",
    "def parse_params(params_list, hp, hp_list):\n",
    "    params = params_list[0]\n",
    "    k = get_key(params)\n",
    "    ps = params[k]\n",
    "    for p in ps:\n",
    "        hp[k] = p\n",
    "        if len(params_list) == 1:\n",
    "            hp_list.append(c(hp))\n",
    "        else:\n",
    "            parse_params(params_list[1:], hp, hp_list)"
   ]
  },
  {
   "cell_type": "code",
   "execution_count": 63,
   "id": "ec09915a-7f0c-4b14-a35b-4fe6cb125038",
   "metadata": {},
   "outputs": [],
   "source": [
    "experiments_params =  {\n",
    "    \"version\": \"1\",\n",
    "    \"params\": [\n",
    "        {\"M\": [1, 2, 3, 4, 5]},\n",
    "        {\"D\": [8]},\n",
    "        {\"shots\": [10000]},\n",
    "        {\"device\": [{\"qc\": None, \"cc\": 'ml.m5.large'}]}\n",
    "    ]\n",
    "}\n",
    "\n",
    "hp = {}\n",
    "hybrid_job_params = []\n",
    "parse_params(experiments_params['params'], hp, hybrid_job_params)"
   ]
  },
  {
   "cell_type": "code",
   "execution_count": 64,
   "id": "4fa92425-1314-4021-8793-677d10f2479d",
   "metadata": {},
   "outputs": [
    {
     "data": {
      "text/plain": [
       "[{'M': 1, 'D': 8, 'shots': 10000, 'device': {'qc': None, 'cc': 'ml.m5.large'}},\n",
       " {'M': 2, 'D': 8, 'shots': 10000, 'device': {'qc': None, 'cc': 'ml.m5.large'}},\n",
       " {'M': 3, 'D': 8, 'shots': 10000, 'device': {'qc': None, 'cc': 'ml.m5.large'}},\n",
       " {'M': 4, 'D': 8, 'shots': 10000, 'device': {'qc': None, 'cc': 'ml.m5.large'}},\n",
       " {'M': 5, 'D': 8, 'shots': 10000, 'device': {'qc': None, 'cc': 'ml.m5.large'}}]"
      ]
     },
     "execution_count": 64,
     "metadata": {},
     "output_type": "execute_result"
    }
   ],
   "source": [
    "hybrid_job_params"
   ]
  },
  {
   "cell_type": "code",
   "execution_count": null,
   "id": "7a42079c-7997-4c4a-a8f2-ecd5225bbe75",
   "metadata": {},
   "outputs": [],
   "source": [
    "# Pick 'autograd', 'tf', or 'torch'. Autograd is base PennyLane\n",
    "def define_hyperparameters(interface):\n",
    "    hyperparameters = {\n",
    "        # Number of tasks per iteration = 2 * (num_nodes + num_edges) * p + 1\n",
    "        \"p\": \"2\",\n",
    "        \"seed\": str(seed),\n",
    "        # Maximum number of simultaneous tasks allowed\n",
    "        \"max_parallel\": \"10\",\n",
    "        # Number of total optimization iterations, including those from previous checkpoint (if any)\n",
    "        \"num_iterations\": \"5\",\n",
    "        # Step size / learning rate for gradient descent\n",
    "        \"stepsize\": \"0.1\",\n",
    "        # Shots for each circuit execution\n",
    "        \"shots\": \"1000\",\n",
    "        \"interface\": interface,\n",
    "    }\n",
    "    return hyperparameters"
   ]
  },
  {
   "cell_type": "code",
   "execution_count": null,
   "id": "e1d52f18-791a-4943-abaf-1a9911815709",
   "metadata": {},
   "outputs": [],
   "source": [
    "# parse evaluation parameters and trigger hybrid jobs:\n",
    "hybrid_job_arns = []\n",
    "\n",
    "jobs = []\n",
    "names = []\n",
    "\n",
    "task_name = 'molecular_unfolding'\n",
    "\n",
    "job_params\n",
    "\n",
    "for job_param in hybrid_job_params:\n",
    "    print(f\"Creating {task_name} with M {M} and D {D}\")\n",
    "    name = f\"{task_name}-M-{M}-D-{D}-\" + str(int(time.time()))\n",
    "    hyperparams = {\n",
    "        \"M\": str(M), \n",
    "        \"D\": str(D),   \n",
    "        \"local\": \"False\"\n",
    "    }\n",
    "\n",
    "    tmp_job = AwsQuantumJob.create(\n",
    "        device=device,\n",
    "        source_module=\"qcbm\",\n",
    "        entry_point=\"qcbm.qcbm_job:main\",\n",
    "        job_name=name,\n",
    "        hyperparameters=hyperparams,\n",
    "        input_data=\"data.npy\",\n",
    "        wait_until_complete=False,\n",
    "    )\n",
    "    jobs.append(tmp_job)\n",
    "    names.append(name)"
   ]
  },
  {
   "cell_type": "code",
   "execution_count": 4,
   "id": "eddba9a5-ddeb-4074-ad77-b2935c3d141e",
   "metadata": {},
   "outputs": [],
   "source": [
    "!cp -r utility/ molecular_unfolding/"
   ]
  }
 ],
 "metadata": {
  "kernelspec": {
   "display_name": "Python 3 (ipykernel)",
   "language": "python",
   "name": "python3"
  },
  "language_info": {
   "codemirror_mode": {
    "name": "ipython",
    "version": 3
   },
   "file_extension": ".py",
   "mimetype": "text/x-python",
   "name": "python",
   "nbconvert_exporter": "python",
   "pygments_lexer": "ipython3",
   "version": "3.9.13"
  }
 },
 "nbformat": 4,
 "nbformat_minor": 5
}
