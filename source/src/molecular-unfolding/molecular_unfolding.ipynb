{
 "cells": [
  {
   "cell_type": "code",
   "execution_count": null,
   "id": "5cd3ff29",
   "metadata": {},
   "outputs": [],
   "source": [
    "!pip install biopandas\n",
    "!pip install py3Dmol\n",
    "!pip install ipywidgets"
   ]
  },
  {
   "cell_type": "code",
   "execution_count": 1,
   "id": "13313b76",
   "metadata": {},
   "outputs": [],
   "source": [
    "!rm qmu*"
   ]
  },
  {
   "cell_type": "code",
   "execution_count": null,
   "id": "84e100c4",
   "metadata": {},
   "outputs": [],
   "source": [
    "import networkx as nx\n",
    "from utility.MoleculeParser import MoleculeData\n",
    "from utility.QMUQUBO import QMUQUBO\n",
    "from utility.AnnealerOptimizer import Annealer\n",
    "from utility.ResultProcess import ResultParser\n",
    "import time\n",
    "\n",
    "timestamp = time.strftime(\"%Y%m%d-%H\")\n",
    "%matplotlib inline"
   ]
  },
  {
   "cell_type": "code",
   "execution_count": null,
   "id": "8402bb34",
   "metadata": {},
   "outputs": [],
   "source": [
    "# initial parameters for experiment data\n",
    "s3_bucket = f\"amazon-braket-1a222675c751\" # the name of the bucket\n",
    "prefix = \"annealer-experiment\" # the name of the folder in the bucket\n",
    "\n",
    "raw_path = './molecule-data/Aspirin.mol2' # the mol2 file for this experiment\n",
    "\n",
    "mol_data = MoleculeData(raw_path, 'qmu')\n",
    "\n",
    "data_path = mol_data.save(\"latest\")\n",
    "\n",
    "num_rotation_bond = mol_data.bond_graph.rb_num\n",
    "print(f\"You have loaded the raw molecule data and saved as {data_path}. \\n\\\n",
    "This molecule has {num_rotation_bond} rotable bond\")"
   ]
  },
  {
   "cell_type": "code",
   "execution_count": null,
   "id": "a39c131a",
   "metadata": {},
   "outputs": [],
   "source": [
    "# initial the QMUQUBO object\n",
    "init_param = {}\n",
    "method = ['pre-calc']\n",
    "\n",
    "for mt in method:\n",
    "    if mt == 'pre-calc':\n",
    "        init_param[mt] = {}\n",
    "        init_param[mt]['param'] = ['M', 'D', 'A', 'hubo_qubo_val']\n",
    "    \n",
    "qmu_qubo = QMUQUBO(mol_data, method, **init_param)"
   ]
  },
  {
   "cell_type": "code",
   "execution_count": null,
   "id": "e8db8609",
   "metadata": {},
   "outputs": [],
   "source": [
    "# set the parameters for model\n",
    "model_param = {}\n",
    "# parameters\n",
    "num_rotation_bond = mol_data.bond_graph.rb_num\n",
    "\n",
    "method = 'pre-calc'\n",
    "model_param[method] = {}\n",
    "# model_param[method]['M'] = range(1, num_rotation_bond+1)\n",
    "model_param[method]['M'] = [2,3]\n",
    "model_param[method]['D'] = [2,4,8]\n",
    "model_param[method]['A'] = [300]\n",
    "model_param[method]['hubo_qubo_val'] = [200]\n",
    "\n",
    "qmu_qubo.build_model(**model_param)"
   ]
  },
  {
   "cell_type": "code",
   "execution_count": null,
   "id": "a622d535",
   "metadata": {},
   "outputs": [],
   "source": [
    "qmu_qubo.model_info[method]"
   ]
  },
  {
   "cell_type": "code",
   "execution_count": null,
   "id": "3c985d95",
   "metadata": {},
   "outputs": [],
   "source": [
    "# save the model\n",
    "model_path = qmu_qubo.save(\"latest\")\n",
    "\n",
    "print(f\"You have built the QUBO model and saved it as {model_path}\")"
   ]
  },
  {
   "cell_type": "code",
   "execution_count": null,
   "id": "77cc4aee",
   "metadata": {},
   "outputs": [],
   "source": [
    "qmu_qubo_optimize = QMUQUBO.load(model_path)"
   ]
  },
  {
   "cell_type": "code",
   "execution_count": null,
   "id": "0be57e81",
   "metadata": {},
   "outputs": [],
   "source": [
    "# get the model you want to optimize\n",
    "M = 3\n",
    "D = 8\n",
    "A = 300\n",
    "hubo_qubo_val = 200\n",
    "model_name = \"{}_{}_{}_{}\".format(M, D, A, hubo_qubo_val)\n",
    "method = \"pre-calc\"\n",
    "\n",
    "qubo_model = qmu_qubo_optimize.get_model(method, model_name)"
   ]
  },
  {
   "cell_type": "code",
   "execution_count": null,
   "id": "96bcd8d3",
   "metadata": {},
   "outputs": [],
   "source": [
    "qmu_qubo_optimize.describe_model()"
   ]
  },
  {
   "cell_type": "code",
   "execution_count": null,
   "id": "2db4f6e1",
   "metadata": {},
   "outputs": [],
   "source": [
    "method = 'dwave-qa'\n",
    "\n",
    "optimizer_param = {}\n",
    "optimizer_param['shots'] = 10000\n",
    "optimizer_param['bucket'] = s3_bucket # the name of the bucket\n",
    "optimizer_param['prefix'] = prefix # the name of the folder in the bucket\n",
    "optimizer_param['device'] = \"arn:aws:braket:::device/qpu/d-wave/Advantage_system4\"\n",
    "optimizer_param[\"embed_method\"] = \"default\"\n",
    "\n",
    "qa_optimizer = Annealer(qubo_model, method, **optimizer_param)"
   ]
  },
  {
   "cell_type": "code",
   "execution_count": null,
   "id": "e0a7aa87",
   "metadata": {},
   "outputs": [],
   "source": [
    "# not create annealing task, only embedding logic\n",
    "qa_optimizer.embed()\n",
    "# create annealing task\n",
    "qa_optimize_result = qa_optimizer.fit()"
   ]
  },
  {
   "cell_type": "code",
   "execution_count": null,
   "id": "a697d300",
   "metadata": {},
   "outputs": [],
   "source": [
    "qa_task_id = qa_optimizer.get_task_id()\n",
    "print(f\"task id is {qa_task_id}\")"
   ]
  },
  {
   "cell_type": "markdown",
   "id": "bef92e95",
   "metadata": {},
   "source": [
    "# develop post-process"
   ]
  },
  {
   "cell_type": "code",
   "execution_count": null,
   "id": "412a3580",
   "metadata": {},
   "outputs": [],
   "source": [
    "import networkx as nx\n",
    "from utility.MoleculeParser import MoleculeData\n",
    "from utility.QMUQUBO import QMUQUBO\n",
    "from utility.AnnealerOptimizer import Annealer\n",
    "from utility.ResultProcess import ResultParser\n",
    "from utility.MolGeoCalc import update_pts_distance\n",
    "import time\n",
    "import numpy as np\n",
    "\n",
    "timestamp = time.strftime(\"%Y%m%d-%H\")\n",
    "%matplotlib inline\n",
    "\n",
    "%load_ext autoreload\n",
    "%autoreload 2"
   ]
  },
  {
   "cell_type": "code",
   "execution_count": null,
   "id": "6c38d143",
   "metadata": {},
   "outputs": [],
   "source": [
    "s3_bucket = f\"amazon-braket-1a222675c751\" # the name of the bucket\n",
    "prefix = \"annealer-experiment\" # the name of the folder in the bucket\n",
    "raw_path = './molecule-data/Aspirin.mol2' # the mol2 file for this experiment\n",
    "data_path = './qmu_Aspirin_data_latest.pickle'\n",
    "qa_task_id = '02dd0c89-a01d-4313-82f6-afa912fdaef8'"
   ]
  },
  {
   "cell_type": "code",
   "execution_count": null,
   "id": "6fd758b6",
   "metadata": {},
   "outputs": [],
   "source": [
    "method = \"dwave-qa\"\n",
    "qa_param = {}\n",
    "qa_param[\"bucket\"] = s3_bucket\n",
    "qa_param[\"prefix\"] = prefix\n",
    "qa_param[\"task_id\"] = qa_task_id\n",
    "qa_param[\"raw_path\"] = raw_path\n",
    "qa_param[\"data_path\"] = data_path\n",
    "\n",
    "qa_process_result = ResultParser(method, **qa_param)\n",
    "# print(f\"{method} result is {qa_process_result.get_all_result()}\")\n",
    "\n",
    "local_time, task_time, total_time, access_time = qa_process_result.get_time()\n",
    "\n",
    "print(f\"time for {method}: \\n \\\n",
    "    local time is {local_time},\\n \\\n",
    "    task time is {task_time}, \\n \\\n",
    "    qpu total time is {total_time}, \\n \\\n",
    "    qpu access time is {access_time}\")"
   ]
  },
  {
   "cell_type": "code",
   "execution_count": null,
   "id": "8e28f808",
   "metadata": {},
   "outputs": [],
   "source": [
    "qa_atom_pos_data = qa_process_result.generate_optimize_pts()\n",
    "# save unfold file for visualization and parameters for experiment: 1. volume value 2. relative improvement\n",
    "qa_process_result.save_mol_file(f\"{timestamp}\")"
   ]
  },
  {
   "cell_type": "code",
   "execution_count": null,
   "id": "6654caa4",
   "metadata": {},
   "outputs": [],
   "source": [
    "qa_process_result.parameters"
   ]
  },
  {
   "cell_type": "code",
   "execution_count": null,
   "id": "351d8e56",
   "metadata": {},
   "outputs": [],
   "source": [
    "pddf_sample_result = qa_process_result.raw_result[\"response\"].aggregate(\n",
    ").to_pandas_dataframe()\n",
    "\n",
    "pddf_head_sample = pddf_sample_result.sort_values(by=['energy']).head(1)\n",
    "\n",
    "pddf_head_sample"
   ]
  },
  {
   "cell_type": "code",
   "execution_count": null,
   "id": "3ee07119",
   "metadata": {},
   "outputs": [],
   "source": [
    "\n",
    "\n",
    "\n"
   ]
  },
  {
   "cell_type": "code",
   "execution_count": null,
   "id": "d33dc1b7",
   "metadata": {},
   "outputs": [],
   "source": [
    "result = pddf_best_result.where(pddf_best_result == 1.0)\n",
    "result.dropna()"
   ]
  },
  {
   "cell_type": "code",
   "execution_count": null,
   "id": "34c0b51e",
   "metadata": {},
   "outputs": [],
   "source": [
    "N = 10\n",
    "\n",
    "pddf_head_sample = pddf_sample_result.sort_values(by=['energy']).head(N)\n",
    "pddf_head_sample"
   ]
  },
  {
   "cell_type": "code",
   "execution_count": null,
   "id": "160e47cd",
   "metadata": {},
   "outputs": [],
   "source": [
    "for index, row in pddf_head_sample.iterrows():\n",
    "#     print(type(row))\n",
    "    best_config = row.filter(items=qa_process_result.valid_var_name)\n",
    "    print(best_config)\n",
    "    print(index)"
   ]
  },
  {
   "cell_type": "code",
   "execution_count": null,
   "id": "80c2b59b",
   "metadata": {},
   "outputs": [],
   "source": [
    "pddf_best_result"
   ]
  },
  {
   "cell_type": "code",
   "execution_count": null,
   "id": "88c7a293",
   "metadata": {},
   "outputs": [],
   "source": [
    "-22.79913194167341\n"
   ]
  },
  {
   "cell_type": "code",
   "execution_count": null,
   "id": "cf1eb6f1",
   "metadata": {},
   "outputs": [],
   "source": [
    "import py3Dmol\n",
    "import time\n",
    "from ipywidgets import interact,fixed,IntSlider\n",
    "import ipywidgets\n",
    "import os\n",
    "\n",
    "def View3DMol(mol, size=(600, 600), style=\"stick\", surface=False, opacity=0.5, type=\"mol2\"):\n",
    "    assert style in ('line', 'stick', 'sphere', 'carton')\n",
    "    viewer = py3Dmol.view(width=size[0], height=size[1])\n",
    "    viewer.addModel(open(mol,'r').read(), type)\n",
    "    viewer.setStyle({style:{}})\n",
    "    if surface:\n",
    "        viewer.addSurface(py3Dmol.SAS, {'opacity': opacity})\n",
    "    viewer.zoomTo()\n",
    "    return viewer\n",
    "\n",
    "\n",
    "def View3DMolFromDir(mol_dir, size=(600,600), style=\"stick\", surface=False, opacity=0.5, type=\"mol2\"):\n",
    "    assert style in ('line', 'stick', 'sphere', 'carton')\n",
    "    viewer = py3Dmol.view(width=size[0], height=size[1],linked=False,viewergrid=(2,2))\n",
    "    mol2s = os.popen(\"ls {}/*.mol2\".format(mol_dir)).read().split('\\n')[0:-1]\n",
    "    for index,mol2 in enumerate(mol2s):\n",
    "        viewer.addModel(open(mol2,'r').read(),type,viewer=(index/2,index%2))\n",
    "        viewer.setStyle({'stick':{'colorscheme':'greenCarbon'}},viewer=(index/2,index%2))\n",
    "    if surface:\n",
    "        viewer.addSurface(py3Dmol.SAS, {'opacity': opacity})\n",
    "    viewer.zoomTo()\n",
    "    view.render()\n",
    "    return viewer\n",
    "\n",
    "\n",
    "def StyleSelector(mol,size,style):\n",
    "    return View3DMol(mol,size=(size,size),style=style).show()\n",
    "\n",
    "def InteractView(mol,size):\n",
    "    interact(StyleSelector, \n",
    "             mol=mol,\n",
    "             size=size,\n",
    "             style=ipywidgets.Dropdown(\n",
    "                options=['line', 'stick', 'sphere'],\n",
    "                value='stick',\n",
    "                description='Style:'))"
   ]
  },
  {
   "cell_type": "code",
   "execution_count": null,
   "id": "dbe69afa",
   "metadata": {},
   "outputs": [],
   "source": [
    "InteractView(\"./molecule-data/Aspirin_dwave-qa_20220315-05.mol2\", size=800)"
   ]
  },
  {
   "cell_type": "code",
   "execution_count": null,
   "id": "2c0d9ae0",
   "metadata": {},
   "outputs": [],
   "source": [
    "InteractView(\"./molecule-data/Aspirin.mol2\", size=800)"
   ]
  },
  {
   "cell_type": "code",
   "execution_count": null,
   "id": "0221e374",
   "metadata": {},
   "outputs": [],
   "source": [
    "qa_process_result.atom_pos_data_raw"
   ]
  },
  {
   "cell_type": "code",
   "execution_count": null,
   "id": "042c06b4",
   "metadata": {},
   "outputs": [],
   "source": [
    "mol_graph = qa_process_result.mol_data.bond_graph.mol_ug\n",
    "\n",
    "non_contact_atom_map = {}\n",
    "\n",
    "for node_main in mol_graph.nodes:\n",
    "    non_contact_atom = []\n",
    "    for node_candidate in mol_graph.nodes:\n",
    "        if node_candidate != node_main and node_candidate not in mol_graph.neighbors(node_main):\n",
    "            non_contact_atom.append(node_candidate)\n",
    "    non_contact_atom_map[node_main] = non_contact_atom"
   ]
  },
  {
   "cell_type": "code",
   "execution_count": null,
   "id": "b314740c",
   "metadata": {},
   "outputs": [],
   "source": [
    "def calc_distance_between_pts(pts1, pts2):\n",
    "    pts1_middle = np.array(tuple(list(np.mean(np.array(pts1), axis=0))))\n",
    "    pts2_middle = np.array(tuple(list(np.mean(np.array(pts2), axis=0))))\n",
    "\n",
    "    return np.linalg.norm(pts1_middle-pts2_middle)"
   ]
  },
  {
   "cell_type": "code",
   "execution_count": null,
   "id": "34e7410c",
   "metadata": {},
   "outputs": [],
   "source": [
    "atom_raw = qa_process_result.atom_pos_data\n",
    "\n",
    "for atom_index, atom_info in atom_raw.items():\n",
    "    vdw_radius = atom_info['vdw-radius']\n",
    "    atom_pos = atom_info['pts']\n",
    "    for non_contact_atom in non_contact_atom_map[atom_index]:\n",
    "        non_contact_atom_pos = atom_raw[non_contact_atom]['pts']\n",
    "        distance = calc_distance_between_pts([atom_pos], [non_contact_atom_pos])\n",
    "#         print(f\"fail at {atom_index} to {non_contact_atom} for distance {distance}\")\n",
    "        if distance < vdw_radius:\n",
    "            print(f\"fail at {atom_index} to {non_contact_atom}\")\n",
    "            break"
   ]
  },
  {
   "cell_type": "code",
   "execution_count": null,
   "id": "556b1de7",
   "metadata": {},
   "outputs": [],
   "source": [
    "7*45"
   ]
  },
  {
   "cell_type": "code",
   "execution_count": null,
   "id": "8ab44815",
   "metadata": {},
   "outputs": [],
   "source": [
    "graph = mol_data.bond_graph.mol_ug"
   ]
  },
  {
   "cell_type": "code",
   "execution_count": null,
   "id": "23aa7764",
   "metadata": {},
   "outputs": [],
   "source": [
    "qa_process_result.theta_option"
   ]
  },
  {
   "cell_type": "code",
   "execution_count": null,
   "id": "f7613eff",
   "metadata": {},
   "outputs": [],
   "source": [
    "qa_process_result.mol_data.bond_graph.sort_ris_data['4']\n"
   ]
  },
  {
   "cell_type": "code",
   "execution_count": null,
   "id": "98ce17e6",
   "metadata": {},
   "outputs": [],
   "source": [
    "qa_process_result.mol_data.bond_graph.rb_data"
   ]
  },
  {
   "cell_type": "code",
   "execution_count": null,
   "id": "db3efece",
   "metadata": {},
   "outputs": [],
   "source": [
    "from utility.MoleculeParser import MoleculeData\n",
    "from utility.QMUQUBO import QMUQUBO\n",
    "from utility.AnnealerOptimizer import Annealer\n",
    "from utility.ResultProcess import ResultParser\n",
    "import time\n",
    "\n",
    "timestamp = time.strftime(\"%Y%m%d-%H\")"
   ]
  },
  {
   "cell_type": "markdown",
   "id": "f2b509e1",
   "metadata": {},
   "source": [
    "# Step 1: Prepare Data"
   ]
  },
  {
   "cell_type": "markdown",
   "id": "2329af47",
   "metadata": {},
   "source": [
    "In this part, we load the raw molecule data for experiment.\n",
    "The [117 ligand](http://www.rcsb.org/ligand/117) was \n",
    "put in the repository. We assign the relative \n",
    "path to **raw_path**.\n",
    "The **s3_bucket** and **prefix** are used to store the \n",
    "optimization results. We can use the one created with the \n",
    "cloudformation for convenience."
   ]
  },
  {
   "cell_type": "code",
   "execution_count": null,
   "id": "219216f5",
   "metadata": {},
   "outputs": [],
   "source": [
    "# initial parameters for experiment data\n",
    "s3_bucket = f\"amazon-braket-1a222675c751\" # the name of the bucket\n",
    "prefix = \"annealer-experiment\" # the name of the folder in the bucket\n",
    "\n",
    "raw_path = './molecule-data/117_ideal.mol2' # the mol2 file for this experiment"
   ]
  },
  {
   "cell_type": "code",
   "execution_count": null,
   "id": "d6b0cef0",
   "metadata": {},
   "outputs": [],
   "source": [
    "mol_data = MoleculeData(raw_path, 'qmu')\n",
    "\n",
    "data_path = mol_data.save(\"latest\")\n",
    "\n",
    "num_rotation_bond = mol_data.bond_graph.rb_num\n",
    "print(f\"You have loaded the raw molecule data and saved as {data_path}. \\n\\\n",
    "This molecule has {num_rotation_bond} rotable bond\")"
   ]
  },
  {
   "cell_type": "markdown",
   "id": "e8337ebc",
   "metadata": {},
   "source": [
    "After running this block, the processed data \n",
    "will be saved as **qmu_117_ideal_data_latest.pickle**\n",
    "and **data_path** will be updated. We can see that this \n",
    "molecule has 23 rotatable bonds."
   ]
  },
  {
   "cell_type": "markdown",
   "id": "377e8b77",
   "metadata": {},
   "source": [
    "# Step 2: Build Model"
   ]
  },
  {
   "cell_type": "markdown",
   "id": "23692c67",
   "metadata": {},
   "source": [
    "In this part, we build the Quadratic Unconstrained \n",
    "Binary Optimization (QUBO) model for molecular unfolding.\n",
    "\n",
    "First, we set the following parameters and \n",
    "initialize the QMUQUBO object. \n",
    "\n",
    "<center>\n",
    "\n",
    "| Parameter | Description | Value |\n",
    "|--- |--- |--- |\n",
    "|A | penalty scalar |300|\n",
    "|hubo_qubo_val | energy penalty of make_quadratic() |200|\n",
    "|M | number of torsions for molecular unfolding| [1, max number of rotatable bonds] |\n",
    "|D| angle precision of rotation| 8|\n",
    "|method| the method of building model| 'pre-calc': calculate the score in advance|\n",
    "\n",
    " </center>"
   ]
  },
  {
   "cell_type": "markdown",
   "id": "b538b6b7",
   "metadata": {},
   "source": [
    "We use the 'pre-calc' method \n",
    "to build the model. This molecule has 23 rotatable bonds and \n",
    "we only test 2 of them, so we set the **M** to 2. And we want \n",
    "the angle to become $45^o$, so we set the **D** to 8 \n",
    "(i.e., $8=360^o/45^o$). The **A** and **hubo_qubo_val** are \n",
    "test from experiments. "
   ]
  },
  {
   "cell_type": "code",
   "execution_count": null,
   "id": "36539511",
   "metadata": {},
   "outputs": [],
   "source": [
    "# initial the QMUQUBO object\n",
    "init_param = {}\n",
    "method = ['pre-calc']\n",
    "\n",
    "for mt in method:\n",
    "    if mt == 'pre-calc':\n",
    "        init_param[mt] = {}\n",
    "        init_param[mt]['param'] = ['M', 'D', 'A', 'hubo_qubo_val']\n",
    "    \n",
    "qmu_qubo = QMUQUBO(mol_data, method, **init_param)"
   ]
  },
  {
   "cell_type": "code",
   "execution_count": null,
   "id": "5d596149",
   "metadata": {},
   "outputs": [],
   "source": [
    "# set the parameters for model\n",
    "model_param = {}\n",
    "# parameters\n",
    "num_rotation_bond = mol_data.bond_graph.rb_num\n",
    "\n",
    "method = 'pre-calc'\n",
    "model_param[method] = {}\n",
    "# model_param[method]['M'] = range(1, num_rotation_bond+1)\n",
    "model_param[method]['M'] = [3]\n",
    "model_param[method]['D'] = [8]\n",
    "model_param[method]['A'] = [300]\n",
    "model_param[method]['hubo_qubo_val'] = [200]\n",
    "\n",
    "qmu_qubo.build_model(**model_param)"
   ]
  },
  {
   "cell_type": "markdown",
   "id": "a291d82d",
   "metadata": {},
   "source": [
    "We can use the following method to check the properties of \n",
    "model. This way, we can build many models conveniently. \n",
    "After that, we save the model and update the value of \n",
    "**model_path**."
   ]
  },
  {
   "cell_type": "code",
   "execution_count": null,
   "id": "0d0ea8ba",
   "metadata": {},
   "outputs": [],
   "source": [
    "# describe the model parameters\n",
    "model_info = qmu_qubo.describe_model()"
   ]
  },
  {
   "cell_type": "code",
   "execution_count": null,
   "id": "fd9e1960",
   "metadata": {},
   "outputs": [],
   "source": [
    "# save the model\n",
    "model_path = qmu_qubo.save(\"latest\")\n",
    "\n",
    "print(f\"You have built the QUBO model and saved it as {model_path}\")"
   ]
  },
  {
   "cell_type": "markdown",
   "id": "21dfc0c3",
   "metadata": {},
   "source": [
    "# Step 3: Optimize Configuration"
   ]
  },
  {
   "cell_type": "markdown",
   "id": "9339c17d",
   "metadata": {},
   "source": [
    "In this part, we use SA and QA to find the optimized configuration of molecular unfolding.\n",
    "At first, we load the model file using **QMUQUBO** object"
   ]
  },
  {
   "cell_type": "code",
   "execution_count": null,
   "id": "8d9f8052",
   "metadata": {},
   "outputs": [],
   "source": [
    "qmu_qubo_optimize = QMUQUBO.load(model_path)"
   ]
  },
  {
   "cell_type": "code",
   "execution_count": null,
   "id": "d339f55b",
   "metadata": {},
   "outputs": [],
   "source": [
    "model_info = qmu_qubo_optimize.describe_model()"
   ]
  },
  {
   "cell_type": "markdown",
   "id": "91d5f40a",
   "metadata": {},
   "source": [
    "We can see the parameters of this model, with M equaling 2, D equaling 8, \n",
    "A equaling 300 and hubo_qubo_val equaling 200. \n",
    "Actually, we can contain multiple models in this file just \n",
    "by giving multiple values for one parameter when creating models.\n",
    "\n",
    "Actually, we can contain multiple models in this file just \n",
    "by giving multiple values for one parameter when creating models.\n",
    "Then, we need use **model_name** to get the model for experiments."
   ]
  },
  {
   "cell_type": "code",
   "execution_count": null,
   "id": "7e4ab8bc",
   "metadata": {},
   "outputs": [],
   "source": [
    "# get the model you want to optimize\n",
    "M = 3\n",
    "D = 8\n",
    "A = 300\n",
    "hubo_qubo_val = 200\n",
    "model_name = \"{}_{}_{}_{}\".format(M, D, A, hubo_qubo_val)\n",
    "method = \"pre-calc\"\n",
    "\n",
    "qubo_model = qmu_qubo_optimize.get_model(method, model_name)"
   ]
  },
  {
   "cell_type": "markdown",
   "id": "762bfa5c",
   "metadata": {},
   "source": [
    "We can see that we want to carry out experiment with the QUBO model with M equaling 2.\n",
    " After that, we set the parameters for optimization.\n",
    "\n",
    "| Parameter | Description | Value |\n",
    "|--- |--- |--- |\n",
    "|method | annealing method for QUBO problem |'dwave-sa': use the simulated annealer in ocean toolkit<br> 'dwave-qa': use the quantum annealer|\n",
    "|shots| number of reads, refer to [dwave-sa](https://docs.ocean.dwavesys.com/projects/neal/en/latest/reference/generated/neal.sampler.SimulatedAnnealingSampler.sample.html#neal.sampler.SimulatedAnnealingSampler.sample) and [dwave-qa](https://amazon-braket-ocean-plugin-python.readthedocs.io/en/latest/_apidoc/braket.ocean_plugin.braket_sampler.html) for details |1 to 10,000|\n",
    "|bucket | the s3 bucket to store your results | - |\n",
    "|prefix | the name of the folder in your s3 bucket | - |\n",
    "|device | the arn name to run your quantum annealing| 'arn:aws:braket:::device/qpu/d-wave/Advantage_system4' <br> 'arn:aws:braket:::device/qpu/d-wave/DW_2000Q_6'|\n",
    "\n",
    "Then, we can run the SA for this problem:"
   ]
  },
  {
   "cell_type": "code",
   "execution_count": null,
   "id": "320a0356",
   "metadata": {},
   "outputs": [],
   "source": [
    "method = 'dwave-sa'\n",
    "\n",
    "optimizer_param = {}\n",
    "optimizer_param['shots'] = 1000\n",
    "\n",
    "sa_optimizer = Annealer(qubo_model, method, **optimizer_param)"
   ]
  },
  {
   "cell_type": "code",
   "execution_count": null,
   "id": "aa1e681c",
   "metadata": {},
   "outputs": [],
   "source": [
    "sa_optimize_result = sa_optimizer.fit()"
   ]
  },
  {
   "cell_type": "markdown",
   "id": "50b264bc",
   "metadata": {},
   "source": [
    "We can tell that we set the number of shots for SA to 1000. \n",
    "The result is saved as the local file **./sa_result.pickle.**\n",
    "Alternatively, we can use QA to solve this problem:"
   ]
  },
  {
   "cell_type": "code",
   "execution_count": null,
   "id": "1487d8e6",
   "metadata": {},
   "outputs": [],
   "source": [
    "method = 'dwave-qa'\n",
    "\n",
    "optimizer_param = {}\n",
    "optimizer_param['shots'] = 10000\n",
    "optimizer_param['bucket'] = s3_bucket # the name of the bucket\n",
    "optimizer_param['prefix'] = prefix # the name of the folder in the bucket\n",
    "optimizer_param['device'] = \"arn:aws:braket:::device/qpu/d-wave/Advantage_system4\"\n",
    "optimizer_param[\"embed_method\"] = \"default\"\n",
    "\n",
    "qa_optimizer = Annealer(qubo_model, method, **optimizer_param)"
   ]
  },
  {
   "cell_type": "markdown",
   "id": "3fa1eca2",
   "metadata": {},
   "source": [
    "In this QA, we set the number of shots to 1000 and \n",
    "choose the \n",
    "[Advantage_System4.1](https://docs.dwavesys.com/docs/latest/doc_physical_properties.html)\n",
    "as the QPU. In addition, the results are saved to your bucket automatically and you \n",
    "can get the task id for future process. "
   ]
  },
  {
   "cell_type": "code",
   "execution_count": null,
   "id": "caae046a",
   "metadata": {},
   "outputs": [],
   "source": [
    "# not create annealing task, only embedding logic\n",
    "qa_optimizer.embed()\n",
    "# create annealing task\n",
    "qa_optimize_result = qa_optimizer.fit()"
   ]
  },
  {
   "cell_type": "code",
   "execution_count": null,
   "id": "f18d9919",
   "metadata": {},
   "outputs": [],
   "source": [
    "qa_task_id = qa_optimizer.get_task_id()\n",
    "print(f\"task id is {qa_task_id}\")"
   ]
  },
  {
   "cell_type": "markdown",
   "id": "684a6c32",
   "metadata": {},
   "source": [
    "Finally, we can compare the execution time between SA and QA :"
   ]
  },
  {
   "cell_type": "code",
   "execution_count": null,
   "id": "35948738",
   "metadata": {},
   "outputs": [],
   "source": [
    "print(f\"dwave-sa run time {sa_optimize_result['time']}\")\n",
    "print(f\"dwave-qa run time {qa_optimize_result['time']}\")"
   ]
  },
  {
   "cell_type": "markdown",
   "id": "165a28df",
   "metadata": {},
   "source": [
    "We can tell from the image that SA needs 174.2 seconds \n",
    "and QA needs 7.7 seconds to find \n",
    "solution.\n",
    "\n",
    "We sometimes get the best result that occurs only once.\n",
    "\n",
    "![OneTimeQA](../../../docs/en/images/one-time-qa.png)\n",
    "\n",
    "This does not always indicate an error. It is actually the characteristic of the problem or how the problem \n",
    "is formulated. Because we have different linear and quadratic terms that vary by many orders of magnitude. If we \n",
    "set change value of A to some smaller number, like 10 or 100, more occurrences of the best answer will be observed. \n",
    "However, these answers usually break the constraints. For more information about this phenomenon, please refer to this \n",
    "[Link](https://support.dwavesys.com/hc/en-us/community/posts/1500000698522-Number-of-occurrences-?input_string=number%20occurance)."
   ]
  },
  {
   "cell_type": "markdown",
   "id": "65b1d70b",
   "metadata": {},
   "source": [
    "# Step 4: PostProcess Result"
   ]
  },
  {
   "cell_type": "markdown",
   "id": "97ca3117",
   "metadata": {},
   "source": [
    "In this part, we post process the optimizing results for evaluation and visualization.\n",
    "At first, we prepare the following parameters:\n",
    "\n",
    "| Parameter | Description | Value |\n",
    "|--- |--- |--- |\n",
    "|method | annealing method for QUBO problem |'dwave-sa': use the simulated annealer in ocean toolkit<br> 'dwave-qa': use the quantum annealer|\n",
    "|raw_path| the path for the original molecule file| './molecule-data/117_ideal.mol2' in this example |\n",
    "|data_path| the path for the processed molecule file| './qmu_117_ideal_data_latest.mol2' in this example |\n",
    "|bucket | the s3 bucket to store your results | - |\n",
    "|prefix | the name of the folder in your s3 bucket | - |\n",
    "|task_id | the id for your quantum annealing task| '2b5a3b05-1a0e-443a-852c-4ec422a10e59' in this example |"
   ]
  },
  {
   "cell_type": "markdown",
   "id": "583f5adb",
   "metadata": {},
   "source": [
    "Then we can run the post-process using **ResultParser** object for SA:"
   ]
  },
  {
   "cell_type": "code",
   "execution_count": null,
   "id": "72bdf769",
   "metadata": {},
   "outputs": [],
   "source": [
    "method = \"dwave-sa\"\n",
    "sa_param = {}\n",
    "sa_param[\"raw_path\"] = raw_path\n",
    "sa_param[\"data_path\"] = data_path\n",
    "\n",
    "sa_process_result = ResultParser(method, **sa_param)\n",
    "# print(f\"{method} result is {sa_process_result.get_all_result()}\")\n",
    "\n",
    "local_time, _ , _, _= sa_process_result.get_time()\n",
    "\n",
    "print(f\"time for {method}: \\n \\\n",
    "    local time is {local_time}\")"
   ]
  },
  {
   "cell_type": "code",
   "execution_count": null,
   "id": "be4a7e87",
   "metadata": {},
   "outputs": [],
   "source": [
    "sa_atom_pos_data = sa_process_result.generate_optimize_pts()\n",
    "# save unfold file for visualization and parameters for experiment: 1. volume value 2. relative improvement\n",
    "sa_process_result.save_mol_file(f\"{timestamp}\")\n"
   ]
  },
  {
   "cell_type": "code",
   "execution_count": null,
   "id": "0fe12711",
   "metadata": {},
   "outputs": [],
   "source": [
    "sa_process_result.parameters"
   ]
  },
  {
   "cell_type": "markdown",
   "id": "ff5cff93",
   "metadata": {},
   "source": [
    "In the first block, we can see the **local time**\n",
    "for SA is around 174 seconds. \n",
    "With the **generate_optimize_pts()** method, the final 3D \n",
    "points after unfolding will be generated and saved as json file and mol2 files. The last \n",
    "block shows the optimizing results which are also stored in json files. \n",
    "It shows that the optimized result gains \n",
    "1.0212x increase in volume. The value for **unfolding_results** indicates \n",
    "that the rotatable bond 15 should rotate $270^o$ ($360/8*(7-1)$) and \n",
    "the rotatable bond 14 should rotate $315^o$ ($360/8*(8-1)$).\n",
    "At the same time, you can run the post-process for QA:"
   ]
  },
  {
   "cell_type": "code",
   "execution_count": null,
   "id": "f3c2adbc",
   "metadata": {},
   "outputs": [],
   "source": [
    "method = \"dwave-qa\"\n",
    "qa_param = {}\n",
    "qa_param[\"bucket\"] = s3_bucket\n",
    "qa_param[\"prefix\"] = prefix\n",
    "qa_param[\"task_id\"] = qa_task_id\n",
    "qa_param[\"raw_path\"] = raw_path\n",
    "qa_param[\"data_path\"] = data_path\n",
    "\n",
    "qa_process_result = ResultParser(method, **qa_param)\n",
    "# print(f\"{method} result is {qa_process_result.get_all_result()}\")\n",
    "\n",
    "local_time, task_time, total_time, access_time = qa_process_result.get_time()\n",
    "\n",
    "print(f\"time for {method}: \\n \\\n",
    "    local time is {local_time},\\n \\\n",
    "    task time is {task_time}, \\n \\\n",
    "    qpu total time is {total_time}, \\n \\\n",
    "    qpu access time is {access_time}\")"
   ]
  },
  {
   "cell_type": "markdown",
   "id": "7c460c40",
   "metadata": {},
   "source": [
    "we can see that there many types of time metrics for running QA.\n",
    "This task has the **local time** of 7.7 s, which means the time between calling the api and \n",
    "getting the annealing result. The **task time** time is the metric from the json file in \n",
    "bucket. We can also see the **qpu total time** and **qpu access time** representing the \n",
    "actual time running in the QPU. Please refer to [Operation and Timing](https://docs.dwavesys.com/docs/latest/c_qpu_timing.html)\n",
    "for details."
   ]
  },
  {
   "cell_type": "code",
   "execution_count": null,
   "id": "c1c73c82",
   "metadata": {},
   "outputs": [],
   "source": [
    "qa_atom_pos_data = qa_process_result.generate_optimize_pts()\n",
    "# save unfold file for visualization and parameters for experiment: 1. volume value 2. relative improvement\n",
    "qa_process_result.save_mol_file(f\"{timestamp}\")"
   ]
  },
  {
   "cell_type": "code",
   "execution_count": null,
   "id": "0fceeba6",
   "metadata": {},
   "outputs": [],
   "source": [
    "qa_process_result.parameters"
   ]
  },
  {
   "cell_type": "code",
   "execution_count": null,
   "id": "0cc0407c",
   "metadata": {},
   "outputs": [],
   "source": [
    "qa_process_result.valid_var_name"
   ]
  },
  {
   "cell_type": "code",
   "execution_count": null,
   "id": "5fa016f8",
   "metadata": {},
   "outputs": [],
   "source": [
    "pddf_sample_result = qa_process_result.raw_result[\"response\"].aggregate(\n",
    ").to_pandas_dataframe()\n",
    "\n",
    "pddf_head_sample = pddf_sample_result.sort_values(by=['energy']).head(100)\n",
    "\n",
    "pddf_head_sample"
   ]
  },
  {
   "cell_type": "code",
   "execution_count": null,
   "id": "038f7350",
   "metadata": {},
   "outputs": [],
   "source": [
    "for index, row in pddf_head_sample.iterrows():\n",
    "    best_config = row.filter(items=qa_process_result.valid_var_name)\n",
    "    chosen_var = set(best_config[best_config == 1].index.tolist())\n",
    "    print(chosen_var)"
   ]
  },
  {
   "cell_type": "markdown",
   "id": "eea599ea",
   "metadata": {},
   "source": [
    "In same way, the optimized results are translated the 3D points and saved \n",
    "as local json and mol2 files. The result indicates that QA gains \n",
    "1.021x increase in \n",
    "volume."
   ]
  },
  {
   "cell_type": "markdown",
   "id": "9adfd716",
   "metadata": {},
   "source": [
    "Finally, We can open folders for the optimized results:\n",
    "\n",
    "![optimize-results](../../../docs/en/images/optimize-results.png)\n",
    "\n",
    " <center>Optimize Results</center>\n",
    "\n",
    "We can see the json result and mol2 file of SA and QA are \n",
    "stored in this place. If we carry out more \n",
    "experiments, more results with time stamp are \n",
    "stored incrementally. \n",
    "For visualization, \n",
    "we can upload the \n",
    "result **117_ideal_dwave-qa_20220216-05.mol2** \n",
    "into \n",
    "[online viewer tool](https://www.rcsb.org/3d-view) \n",
    "to see the result:\n",
    "\n",
    "![visual](../../../docs/en/images/visualization.png)\n",
    "\n",
    " <center>Visualization</center>"
   ]
  }
 ],
 "metadata": {
  "interpreter": {
   "hash": "18f113ef20d2e5656a0bc837e6c476bd436e29840b6ed1847ecdb90743164c58"
  },
  "kernelspec": {
   "display_name": "conda_braket",
   "language": "python",
   "name": "conda_braket"
  },
  "language_info": {
   "codemirror_mode": {
    "name": "ipython",
    "version": 3
   },
   "file_extension": ".py",
   "mimetype": "text/x-python",
   "name": "python",
   "nbconvert_exporter": "python",
   "pygments_lexer": "ipython3",
   "version": "3.7.11"
  }
 },
 "nbformat": 4,
 "nbformat_minor": 5
}
