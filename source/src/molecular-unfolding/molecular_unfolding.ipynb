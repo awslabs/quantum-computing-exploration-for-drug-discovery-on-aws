{
 "cells": [
  {
   "cell_type": "code",
   "execution_count": null,
   "id": "037ff995",
   "metadata": {},
   "outputs": [],
   "source": [
    "!pip install biopandas\n",
    "!pip install py3Dmol\n",
    "!pip install ipywidgets"
   ]
  },
  {
   "cell_type": "code",
   "execution_count": 2,
   "id": "fbb6df0a",
   "metadata": {},
   "outputs": [],
   "source": [
    "!rm qmu*"
   ]
  },
  {
   "cell_type": "code",
   "execution_count": 1,
   "id": "1f06d9d5",
   "metadata": {},
   "outputs": [
    {
     "name": "stderr",
     "output_type": "stream",
     "text": [
      "2022-03-17 05:58:16,946 dwave.cloud INFO MainThread Log level for 'dwave.cloud' namespace set to 0\n"
     ]
    }
   ],
   "source": [
    "import networkx as nx\n",
    "from utility.MoleculeParser import MoleculeData\n",
    "from utility.QMUQUBO import QMUQUBO\n",
    "from utility.AnnealerOptimizer import Annealer\n",
    "from utility.ResultProcess import ResultParser\n",
    "import time\n",
    "\n",
    "timestamp = time.strftime(\"%Y%m%d-%H\")\n",
    "%matplotlib inline"
   ]
  },
  {
   "cell_type": "code",
   "execution_count": 3,
   "id": "484b929b",
   "metadata": {},
   "outputs": [
    {
     "name": "stderr",
     "output_type": "stream",
     "text": [
      "INFO:root:parse mol2 file!\n",
      "INFO:root:finish save qmu_Aspirin_data_latest.pickle\n"
     ]
    },
    {
     "name": "stdout",
     "output_type": "stream",
     "text": [
      "You have loaded the raw molecule data and saved as ./qmu_Aspirin_data_latest.pickle. \n",
      "This molecule has 4 rotable bond\n"
     ]
    }
   ],
   "source": [
    "# initial parameters for experiment data\n",
    "s3_bucket = f\"amazon-braket-1a222675c751\" # the name of the bucket\n",
    "prefix = \"annealer-experiment\" # the name of the folder in the bucket\n",
    "\n",
    "raw_path = './molecule-data/Aspirin.mol2' # the mol2 file for this experiment\n",
    "\n",
    "mol_data = MoleculeData(raw_path, 'qmu')\n",
    "\n",
    "data_path = mol_data.save(\"latest\")\n",
    "\n",
    "num_rotation_bond = mol_data.bond_graph.rb_num\n",
    "print(f\"You have loaded the raw molecule data and saved as {data_path}. \\n\\\n",
    "This molecule has {num_rotation_bond} rotable bond\")"
   ]
  },
  {
   "cell_type": "code",
   "execution_count": 4,
   "id": "1d431998",
   "metadata": {},
   "outputs": [
    {
     "name": "stderr",
     "output_type": "stream",
     "text": [
      "INFO:root:initial pre-calculate for constructing molecule QUBO\n"
     ]
    }
   ],
   "source": [
    "# initial the QMUQUBO object\n",
    "init_param = {}\n",
    "method = ['pre-calc']\n",
    "\n",
    "for mt in method:\n",
    "    if mt == 'pre-calc':\n",
    "        init_param[mt] = {}\n",
    "        init_param[mt]['param'] = ['M', 'D', 'A', 'hubo_qubo_val']\n",
    "    \n",
    "qmu_qubo = QMUQUBO(mol_data, method, **init_param)"
   ]
  },
  {
   "cell_type": "code",
   "execution_count": 5,
   "id": "0bbb0bc5",
   "metadata": {},
   "outputs": [
    {
     "name": "stderr",
     "output_type": "stream",
     "text": [
      "INFO:root:Construct model for M:2,D:2,A:300,hubo_qubo_val:200 0.00010660886764526367 min\n",
      "INFO:root:Construct model for M:2,D:2,A:600,hubo_qubo_val:200 9.142557779947916e-05 min\n",
      "INFO:root:Construct model for M:2,D:2,A:900,hubo_qubo_val:200 8.336305618286132e-05 min\n",
      "INFO:root:Construct model for M:2,D:4,A:300,hubo_qubo_val:200 0.00020259618759155273 min\n",
      "INFO:root:Construct model for M:2,D:4,A:600,hubo_qubo_val:200 0.00019940535227457682 min\n",
      "INFO:root:Construct model for M:2,D:4,A:900,hubo_qubo_val:200 0.00021001100540161133 min\n",
      "INFO:root:Construct model for M:2,D:8,A:300,hubo_qubo_val:200 0.0008365710576375326 min\n",
      "INFO:root:Construct model for M:2,D:8,A:600,hubo_qubo_val:200 0.0008170803387959799 min\n",
      "INFO:root:Construct model for M:2,D:8,A:900,hubo_qubo_val:200 0.0008784612019856771 min\n",
      "INFO:root:Construct model for M:3,D:2,A:300,hubo_qubo_val:200 0.00023907025655110677 min\n",
      "INFO:root:Construct model for M:3,D:2,A:600,hubo_qubo_val:200 0.00019710063934326173 min\n",
      "INFO:root:Construct model for M:3,D:2,A:900,hubo_qubo_val:200 0.00020750761032104493 min\n",
      "INFO:root:Construct model for M:3,D:4,A:300,hubo_qubo_val:200 0.0011936386426289877 min\n",
      "INFO:root:Construct model for M:3,D:4,A:600,hubo_qubo_val:200 0.0011135101318359374 min\n",
      "INFO:root:Construct model for M:3,D:4,A:900,hubo_qubo_val:200 0.0010856072107950847 min\n",
      "INFO:root:Construct model for M:3,D:8,A:300,hubo_qubo_val:200 0.01023260752360026 min\n",
      "INFO:root:Construct model for M:3,D:8,A:600,hubo_qubo_val:200 0.007587548096974691 min\n",
      "INFO:root:Construct model for M:3,D:8,A:900,hubo_qubo_val:200 0.007267709573109945 min\n"
     ]
    },
    {
     "data": {
      "text/plain": [
       "0"
      ]
     },
     "execution_count": 5,
     "metadata": {},
     "output_type": "execute_result"
    }
   ],
   "source": [
    "# set the parameters for model\n",
    "model_param = {}\n",
    "# parameters\n",
    "num_rotation_bond = mol_data.bond_graph.rb_num\n",
    "\n",
    "method = 'pre-calc'\n",
    "model_param[method] = {}\n",
    "# model_param[method]['M'] = range(1, num_rotation_bond+1)\n",
    "model_param[method]['M'] = [2,3]\n",
    "model_param[method]['D'] = [2,4,8]\n",
    "model_param[method]['A'] = [300,600,900]\n",
    "model_param[method]['hubo_qubo_val'] = [200]\n",
    "\n",
    "qmu_qubo.build_model(**model_param)"
   ]
  },
  {
   "cell_type": "code",
   "execution_count": 6,
   "id": "c96774fe",
   "metadata": {},
   "outputs": [
    {
     "data": {
      "text/plain": [
       "{'M': {2, 3}, 'D': {2, 4, 8}, 'A': {300, 600, 900}, 'hubo_qubo_val': {200}}"
      ]
     },
     "execution_count": 6,
     "metadata": {},
     "output_type": "execute_result"
    }
   ],
   "source": [
    "qmu_qubo.model_info[method]"
   ]
  },
  {
   "cell_type": "code",
   "execution_count": 7,
   "id": "a02d2472",
   "metadata": {},
   "outputs": [
    {
     "name": "stderr",
     "output_type": "stream",
     "text": [
      "INFO:root:finish save qmu_Aspirin_model_latest.pickle\n"
     ]
    },
    {
     "name": "stdout",
     "output_type": "stream",
     "text": [
      "You have built the QUBO model and saved it as ./qmu_Aspirin_model_latest.pickle\n"
     ]
    }
   ],
   "source": [
    "# save the model\n",
    "model_path = qmu_qubo.save(\"latest\")\n",
    "\n",
    "print(f\"You have built the QUBO model and saved it as {model_path}\")"
   ]
  },
  {
   "cell_type": "code",
   "execution_count": 8,
   "id": "6934bcf5",
   "metadata": {},
   "outputs": [],
   "source": [
    "qmu_qubo_optimize = QMUQUBO.load(model_path)"
   ]
  },
  {
   "cell_type": "code",
   "execution_count": 9,
   "id": "f7f1abc1",
   "metadata": {},
   "outputs": [],
   "source": [
    "# get the model you want to optimize\n",
    "M = 3\n",
    "D = 8\n",
    "A = 900\n",
    "hubo_qubo_val = 200\n",
    "model_name = \"{}_{}_{}_{}\".format(M, D, A, hubo_qubo_val)\n",
    "method = \"pre-calc\"\n",
    "\n",
    "qubo_model = qmu_qubo_optimize.get_model(method, model_name)"
   ]
  },
  {
   "cell_type": "code",
   "execution_count": 10,
   "id": "e2db00aa",
   "metadata": {},
   "outputs": [
    {
     "name": "stderr",
     "output_type": "stream",
     "text": [
      "INFO:root:method: pre-calc\n",
      "INFO:root:The model_name should be {M}_{D}_{A}_{hubo_qubo_val}\n",
      "INFO:root:param: M, value {2, 3}\n",
      "INFO:root:param: D, value {8, 2, 4}\n",
      "INFO:root:param: A, value {600, 900, 300}\n",
      "INFO:root:param: hubo_qubo_val, value {200}\n"
     ]
    },
    {
     "data": {
      "text/plain": [
       "{'pre-calc': {'M': {2, 3},\n",
       "  'D': {2, 4, 8},\n",
       "  'A': {300, 600, 900},\n",
       "  'hubo_qubo_val': {200}}}"
      ]
     },
     "execution_count": 10,
     "metadata": {},
     "output_type": "execute_result"
    }
   ],
   "source": [
    "qmu_qubo_optimize.describe_model()"
   ]
  },
  {
   "cell_type": "code",
   "execution_count": 11,
   "id": "f9b7b5a3",
   "metadata": {},
   "outputs": [
    {
     "name": "stderr",
     "output_type": "stream",
     "text": [
      "INFO:root:use quantum annealer arn:aws:braket:::device/qpu/d-wave/Advantage_system4 \n"
     ]
    }
   ],
   "source": [
    "method = 'dwave-qa'\n",
    "\n",
    "optimizer_param = {}\n",
    "optimizer_param['shots'] = 10000\n",
    "optimizer_param['bucket'] = s3_bucket # the name of the bucket\n",
    "optimizer_param['prefix'] = prefix # the name of the folder in the bucket\n",
    "optimizer_param['device'] = \"arn:aws:braket:::device/qpu/d-wave/Advantage_system4\"\n",
    "optimizer_param[\"embed_method\"] = \"default\"\n",
    "\n",
    "qa_optimizer = Annealer(qubo_model, method, **optimizer_param)"
   ]
  },
  {
   "cell_type": "code",
   "execution_count": 30,
   "id": "1c22825a",
   "metadata": {},
   "outputs": [
    {
     "name": "stderr",
     "output_type": "stream",
     "text": [
      "INFO:root:fit() ...\n",
      "INFO:root:finish save /tmp/qa_result.pickle\n",
      "INFO:root:_upload_result_json, bucket=amazon-braket-1a222675c751, key=annealer-experiment/94fce516-5c2c-4ba8-a901-a3b4f4090223/qa_result.pickle\n",
      "INFO:root:dwave-qa save to s3 - 94fce516-5c2c-4ba8-a901-a3b4f4090223: None\n"
     ]
    }
   ],
   "source": [
    "# not create annealing task, only embedding logic\n",
    "qa_optimizer.embed()\n",
    "# create annealing task\n",
    "qa_optimize_result = qa_optimizer.fit()"
   ]
  },
  {
   "cell_type": "code",
   "execution_count": 31,
   "id": "2d287053",
   "metadata": {},
   "outputs": [
    {
     "name": "stdout",
     "output_type": "stream",
     "text": [
      "task id is 94fce516-5c2c-4ba8-a901-a3b4f4090223\n"
     ]
    }
   ],
   "source": [
    "qa_task_id = qa_optimizer.get_task_id()\n",
    "print(f\"task id is {qa_task_id}\")"
   ]
  },
  {
   "cell_type": "markdown",
   "id": "dce1a13b",
   "metadata": {},
   "source": [
    "# develop post-process"
   ]
  },
  {
   "cell_type": "code",
   "execution_count": 58,
   "id": "157b5f45",
   "metadata": {},
   "outputs": [
    {
     "name": "stdout",
     "output_type": "stream",
     "text": [
      "The autoreload extension is already loaded. To reload it, use:\n",
      "  %reload_ext autoreload\n"
     ]
    }
   ],
   "source": [
    "import networkx as nx\n",
    "from utility.MoleculeParser import MoleculeData\n",
    "from utility.QMUQUBO import QMUQUBO\n",
    "from utility.AnnealerOptimizer import Annealer\n",
    "from utility.ResultProcess import ResultParser\n",
    "from utility.MolGeoCalc import update_pts_distance\n",
    "import time\n",
    "import numpy as np\n",
    "\n",
    "timestamp = time.strftime(\"%Y%m%d-%H\")\n",
    "%matplotlib inline\n",
    "\n",
    "%load_ext autoreload\n",
    "%autoreload 2"
   ]
  },
  {
   "cell_type": "code",
   "execution_count": 77,
   "id": "80849e30",
   "metadata": {},
   "outputs": [],
   "source": [
    "s3_bucket = f\"amazon-braket-1a222675c751\" # the name of the bucket\n",
    "prefix = \"annealer-experiment\" # the name of the folder in the bucket\n",
    "raw_path = './molecule-data/Aspirin.mol2' # the mol2 file for this experiment\n",
    "data_path = './qmu_Aspirin_data_latest.pickle'\n",
    "qa_task_id = '94fce516-5c2c-4ba8-a901-a3b4f4090223'"
   ]
  },
  {
   "cell_type": "code",
   "execution_count": 109,
   "id": "009c69d6",
   "metadata": {},
   "outputs": [
    {
     "name": "stderr",
     "output_type": "stream",
     "text": [
      "INFO:root:_load_raw_result\n",
      "INFO:root:load quantum annealer raw result\n",
      "INFO:root:_read_result_obj\n",
      "INFO:root:_read_result_obj: annealer-experiment/94fce516-5c2c-4ba8-a901-a3b4f4090223/qa_result.pickle\n",
      "INFO:root:MoleculeData.load()\n",
      "INFO:root:init mol data for final position\n",
      "INFO:root:init mol data for raw position\n",
      "INFO:root:_parse_model_info\n",
      "INFO:root:_init_parameters\n",
      "INFO:root:parse quantum annealer result\n",
      "INFO:root:_read_result_obj\n",
      "INFO:root:_read_result_obj: annealer-experiment/94fce516-5c2c-4ba8-a901-a3b4f4090223/results.json\n"
     ]
    },
    {
     "name": "stdout",
     "output_type": "stream",
     "text": [
      "time for dwave-qa: \n",
      "     local time is 228.13343167304993,\n",
      "     task time is 94.599, \n",
      "     qpu total time is 1.969303, \n",
      "     qpu access time is 1.879644\n"
     ]
    }
   ],
   "source": [
    "method = \"dwave-qa\"\n",
    "qa_param = {}\n",
    "qa_param[\"bucket\"] = s3_bucket\n",
    "qa_param[\"prefix\"] = prefix\n",
    "qa_param[\"task_id\"] = qa_task_id\n",
    "qa_param[\"raw_path\"] = raw_path\n",
    "qa_param[\"data_path\"] = data_path\n",
    "\n",
    "qa_process_result = ResultParser(method, **qa_param)\n",
    "# print(f\"{method} result is {qa_process_result.get_all_result()}\")\n",
    "\n",
    "local_time, task_time, total_time, access_time = qa_process_result.get_time()\n",
    "\n",
    "print(f\"time for {method}: \\n \\\n",
    "    local time is {local_time},\\n \\\n",
    "    task time is {task_time}, \\n \\\n",
    "    qpu total time is {total_time}, \\n \\\n",
    "    qpu access time is {access_time}\")"
   ]
  },
  {
   "cell_type": "code",
   "execution_count": 110,
   "id": "b27a8aeb",
   "metadata": {},
   "outputs": [
    {
     "name": "stderr",
     "output_type": "stream",
     "text": [
      "INFO:root:generate_optimize_pts()\n",
      "INFO:root:_init_parameters\n",
      "INFO:root:chosen var {'x_2_2', 'x_1_8', 'x_3_7'}\n",
      "INFO:root:tor list {'X_2_2', 'X_1_8', 'X_3_7'}\n",
      "INFO:root:optimize_gain 0.9676306268996099\n",
      "INFO:root:_init_parameters\n",
      "INFO:root:chosen var {'x_3_6', 'x_1_3'}\n",
      "INFO:root:tor list {'X_1_3', 'X_2_1', 'X_3_6'}\n",
      "INFO:root:optimize_gain 0.8855066768562067\n",
      "INFO:root:_init_parameters\n",
      "INFO:root:chosen var {'x_3_6', 'x_1_3'}\n",
      "INFO:root:tor list {'X_1_3', 'X_2_2', 'X_3_6'}\n",
      "INFO:root:optimize_gain 0.8692428132030199\n",
      "INFO:root:_init_parameters\n",
      "INFO:root:chosen var {'x_3_6', 'x_1_3'}\n",
      "INFO:root:tor list {'X_1_3', 'X_2_3', 'X_3_6'}\n",
      "INFO:root:optimize_gain 0.9350835523964086\n",
      "INFO:root:_init_parameters\n",
      "INFO:root:chosen var {'x_3_6', 'x_1_3'}\n",
      "INFO:root:tor list {'X_1_3', 'X_3_6', 'X_2_4'}\n",
      "INFO:root:optimize_gain 0.9026398649054082\n",
      "INFO:root:_init_parameters\n",
      "INFO:root:chosen var {'x_3_6', 'x_1_3'}\n",
      "INFO:root:tor list {'X_1_3', 'X_2_5', 'X_3_6'}\n",
      "INFO:root:optimize_gain 0.9873135790017264\n",
      "INFO:root:_init_parameters\n",
      "INFO:root:chosen var {'x_3_6', 'x_1_3'}\n",
      "INFO:root:tor list {'X_1_3', 'X_2_6', 'X_3_6'}\n",
      "INFO:root:optimize_gain 1.0505102837154199\n",
      "INFO:root:start physical check\n",
      "INFO:root:fail at 1 to 13\n",
      "INFO:root:physical check not pass!\n",
      "INFO:root:_init_parameters\n",
      "INFO:root:chosen var {'x_3_6', 'x_1_3'}\n",
      "INFO:root:tor list {'X_1_3', 'X_3_6', 'X_2_7'}\n",
      "INFO:root:optimize_gain 1.0184429248850826\n",
      "INFO:root:start physical check\n",
      "INFO:root:_init_parameters\n",
      "INFO:root:chosen var {'x_3_6', 'x_1_3'}\n",
      "INFO:root:tor list {'X_1_3', 'X_2_8', 'X_3_6'}\n",
      "INFO:root:optimize_gain 0.9682302957456415\n",
      "INFO:root:save_mol_file 20220317-07\n",
      "INFO:root:finish save ./molecule-data/Aspirin_dwave-qa_20220317-07.mol2 and ./molecule-data/Aspirin_dwave-qa_20220317-07.json\n"
     ]
    },
    {
     "data": {
      "text/plain": [
       "['./molecule-data/Aspirin_dwave-qa_20220317-07.mol2',\n",
       " './molecule-data/Aspirin_dwave-qa_20220317-07.json']"
      ]
     },
     "execution_count": 110,
     "metadata": {},
     "output_type": "execute_result"
    }
   ],
   "source": [
    "qa_atom_pos_data = qa_process_result.generate_optimize_pts()\n",
    "# save unfold file for visualization and parameters for experiment: 1. volume value 2. relative improvement\n",
    "qa_process_result.save_mol_file(f\"{timestamp}\")"
   ]
  },
  {
   "cell_type": "code",
   "execution_count": 111,
   "id": "77f060dd",
   "metadata": {},
   "outputs": [
    {
     "data": {
      "text/plain": [
       "{'volume': {'optimize': 22.04615522538885,\n",
       "  'initial': 22.769536671449575,\n",
       "  'gain': 1.0184429248850826,\n",
       "  'unfolding_results': ['X_1_3', 'X_3_6', 'X_2_7'],\n",
       "  'annealing_results': ['x_3_6', 'x_1_3'],\n",
       "  'optimize_info': {'optimize_state': True, 'result_rank': 5170}}}"
      ]
     },
     "execution_count": 111,
     "metadata": {},
     "output_type": "execute_result"
    }
   ],
   "source": [
    "qa_process_result.parameters"
   ]
  },
  {
   "cell_type": "code",
   "execution_count": 40,
   "id": "a827da11",
   "metadata": {},
   "outputs": [],
   "source": [
    "chosen_var = set()"
   ]
  },
  {
   "cell_type": "code",
   "execution_count": 57,
   "id": "fe3ce72b",
   "metadata": {},
   "outputs": [
    {
     "ename": "IndentationError",
     "evalue": "expected an indented block (<ipython-input-57-a13331511350>, line 8)",
     "output_type": "error",
     "traceback": [
      "\u001b[0;36m  File \u001b[0;32m\"<ipython-input-57-a13331511350>\"\u001b[0;36m, line \u001b[0;32m8\u001b[0m\n\u001b[0;31m    var_dict_list = []\u001b[0m\n\u001b[0m                ^\u001b[0m\n\u001b[0;31mIndentationError\u001b[0m\u001b[0;31m:\u001b[0m expected an indented block\n"
     ]
    }
   ],
   "source": [
    "M = 3\n",
    "D = 8\n",
    "chosen_var = ['X_3_8','X_2_4']\n",
    "\n",
    "initial_var = {}\n",
    "for m in range(M):\n",
    "    initial_var[str(m+1)] = f\"X_{m+1}_1\"\n",
    "# change chose var to dict\n",
    "var_dict_list = []\n",
    "var_dict_raw = {}\n",
    "for valid_var in chosen_var:\n",
    "    var_name = valid_var.split(\"_\")[1]\n",
    "    var_angle = valid_var.split(\"_\")[2]\n",
    "    if var_name not in var_dict_raw.keys():\n",
    "        var_dict_raw[var_name] = []\n",
    "        var_dict_raw[var_name].append(var_angle)\n",
    "    else:\n",
    "        var_dict_raw[var_name].append(var_angle)\n",
    "\n",
    "var_diff = M - len(var_dict_raw)\n",
    "\n",
    "var_diff_offset = 1\n",
    "max_generate = D\n",
    "\n",
    "if var_diff == 1:\n",
    "    candi_angle = [str(d+1) for d in range(D)]\n",
    "    for tor in range(M):\n",
    "        if str(tor+1) not in var_dict_raw.keys():\n",
    "            var_dict_raw[str(tor+1)] = candi_angle\n",
    "elif var_diff > 1:\n",
    "    for tor in range(M):\n",
    "        if str(tor+1) not in var_dict_raw.keys():\n",
    "            var_dict_raw[str(tor+1)] = '1'\n",
    "\n",
    "def _update_var_dict_list(var_dict, key_value):\n",
    "    if len(var_dict_list) > max_generate:\n",
    "        return\n",
    "    for angle in var_dict_raw[str(key_value)]:\n",
    "        local_var_dict = var_dict.copy()\n",
    "        local_var_dict[str(key_value)] = str(angle)\n",
    "        if key_value == M:\n",
    "            var_dict_list.append(local_var_dict)\n",
    "        else:\n",
    "            update_key_value = key_value + 1\n",
    "            _update_var_dict_list(local_var_dict, update_key_value)\n",
    "\n",
    "_update_var_dict_list({}, 1)\n",
    "\n",
    "\n",
    "# use to generate final position\n",
    "\n",
    "\n",
    "for var_dict in var_dict_list:\n",
    "    max_tor_list = []\n",
    "    max_ris_num = 1\n",
    "    max_ris = None\n",
    "    complete_tor_list = []\n",
    "    \n",
    "    for ris in self.mol_data.bond_graph.sort_ris_data[str(M)].keys():\n",
    "        # ris: '30+31', '29+30', '30+31,29+30'\n",
    "        #             atom_pos_data_temp = self.atom_pos_data_raw.copy()\n",
    "        self._init_mol_file(self.atom_pos_data_temp)\n",
    "        logging.debug(f\"ris group {ris} \")\n",
    "        torsion_group = ris.split(\",\")\n",
    "        # update points\n",
    "        rb_set = self.mol_data.bond_graph.sort_ris_data[str(\n",
    "            self.M)][ris]\n",
    "\n",
    "        tor_list = []\n",
    "        for rb_name in torsion_group:\n",
    "            var_name = self.rb_var_map[rb_name]\n",
    "            var_angle = var_dict[var_name]\n",
    "\n",
    "            tor_list.append(f'X_{var_name}_{var_angle}')\n",
    "\n",
    "        logging.debug(f\"theta_option {self.theta_option}\")\n",
    "        logging.debug(f\"rb_set {rb_set}\")\n",
    "\n",
    "        complete_tor_list.append((tor_list,rb_set))\n",
    "\n",
    "        # update for final position\n",
    "        current_ris_num = len(torsion_group)\n",
    "        if current_ris_num >= max_ris_num:\n",
    "            max_ris_num = current_ris_num\n",
    "            max_ris = ris\n",
    "            max_tor_list = tor_list\n",
    "\n",
    "    complete_tor_info['tor_list'] = complete_tor_list\n",
    "    complete_tor_info['initial_var'] = initial_var\n",
    "    complete_tor_info['chosen_var'] = chosen_var\n",
    "    complete_tor_info['max_tor_list'] = max_tor_list\n",
    "    complete_tor_info['max_ris'] = max_ris\n",
    "\n",
    "    generate_row.append(complete_tor_info)\n",
    "\n",
    "\n",
    "var_dict_list"
   ]
  },
  {
   "cell_type": "code",
   "execution_count": null,
   "id": "ef5a97e9",
   "metadata": {},
   "outputs": [],
   "source": [
    "# logging.debug(f\"var_dict is {var_dict}\")\n",
    "\n",
    "\n",
    "# # calculate optimized position\n",
    "# f_distances_raw = {}\n",
    "# f_distances_optimize = {}\n",
    "\n",
    "# missing_var = set()\n",
    "\n",
    "# logging.info(f\"tor list {chosen_var}\")\n",
    "# # use to generate final position\n",
    "# max_tor_list = []\n",
    "# max_ris_num = 1\n",
    "# max_ris = None\n",
    "\n",
    "# complete_tor_list = []\n",
    "\n",
    "# for ris in self.mol_data.bond_graph.sort_ris_data[str(self.M)].keys():\n",
    "#     # ris: '30+31', '29+30', '30+31,29+30'\n",
    "#     #             atom_pos_data_temp = self.atom_pos_data_raw.copy()\n",
    "#     self._init_mol_file(self.atom_pos_data_temp)\n",
    "#     logging.debug(f\"ris group {ris} \")\n",
    "#     torsion_group = ris.split(\",\")\n",
    "#     # update points\n",
    "#     rb_set = self.mol_data.bond_graph.sort_ris_data[str(\n",
    "#         self.M)][ris]\n",
    "\n",
    "#     tor_list = []\n",
    "#     for rb_name in torsion_group:\n",
    "#         var_name = self.rb_var_map[rb_name]\n",
    "#         var_angle = 1\n",
    "#         if var_name in var_dict.keys():\n",
    "#             var_angle = var_dict[var_name]\n",
    "#         else:\n",
    "#             logging.info(f\"missing result for {var_name}\")\n",
    "#             missing_var.add(f\"X_{var_name}_1\")\n",
    "#             initial_var.add(f\"X_{var_name}_1\")\n",
    "#             chosen_var.add(f\"X_{var_name}_1\")\n",
    "\n",
    "#         tor_list.append(f'X_{var_name}_{var_angle}')\n",
    "\n",
    "#     logging.debug(f\"theta_option {self.theta_option}\")\n",
    "#     logging.debug(f\"rb_set {rb_set}\")\n",
    "\n",
    "#     complete_tor_list.append((tor_list,rb_set))\n",
    "\n",
    "#     # update for final position\n",
    "#     current_ris_num = len(torsion_group)\n",
    "#     if current_ris_num >= max_ris_num:\n",
    "#         max_ris_num = current_ris_num\n",
    "#         max_ris = ris\n",
    "#         max_tor_list = tor_list"
   ]
  },
  {
   "cell_type": "code",
   "execution_count": 33,
   "id": "e9339dd2",
   "metadata": {},
   "outputs": [
    {
     "data": {
      "text/html": [
       "<div>\n",
       "<style scoped>\n",
       "    .dataframe tbody tr th:only-of-type {\n",
       "        vertical-align: middle;\n",
       "    }\n",
       "\n",
       "    .dataframe tbody tr th {\n",
       "        vertical-align: top;\n",
       "    }\n",
       "\n",
       "    .dataframe thead th {\n",
       "        text-align: right;\n",
       "    }\n",
       "</style>\n",
       "<table border=\"1\" class=\"dataframe\">\n",
       "  <thead>\n",
       "    <tr style=\"text-align: right;\">\n",
       "      <th></th>\n",
       "      <th>x_1_1</th>\n",
       "      <th>x_1_1*x_3_1</th>\n",
       "      <th>x_1_2</th>\n",
       "      <th>x_1_2*x_3_1</th>\n",
       "      <th>x_1_3</th>\n",
       "      <th>x_1_3*x_3_1</th>\n",
       "      <th>x_1_4</th>\n",
       "      <th>x_1_4*x_3_1</th>\n",
       "      <th>x_1_5</th>\n",
       "      <th>x_1_5*x_3_1</th>\n",
       "      <th>...</th>\n",
       "      <th>x_3_7*x_1_4</th>\n",
       "      <th>x_3_8</th>\n",
       "      <th>x_3_8*x_1_1</th>\n",
       "      <th>x_3_8*x_1_2</th>\n",
       "      <th>x_3_8*x_1_3</th>\n",
       "      <th>x_3_8*x_1_4</th>\n",
       "      <th>x_3_8*x_1_8</th>\n",
       "      <th>chain_break_fraction</th>\n",
       "      <th>energy</th>\n",
       "      <th>num_occurrences</th>\n",
       "    </tr>\n",
       "  </thead>\n",
       "  <tbody>\n",
       "    <tr>\n",
       "      <th>1240</th>\n",
       "      <td>0</td>\n",
       "      <td>0</td>\n",
       "      <td>0</td>\n",
       "      <td>1</td>\n",
       "      <td>0</td>\n",
       "      <td>1</td>\n",
       "      <td>0</td>\n",
       "      <td>0</td>\n",
       "      <td>0</td>\n",
       "      <td>0</td>\n",
       "      <td>...</td>\n",
       "      <td>0</td>\n",
       "      <td>0</td>\n",
       "      <td>0</td>\n",
       "      <td>0</td>\n",
       "      <td>0</td>\n",
       "      <td>0</td>\n",
       "      <td>0</td>\n",
       "      <td>0.136364</td>\n",
       "      <td>4325.203086</td>\n",
       "      <td>1</td>\n",
       "    </tr>\n",
       "    <tr>\n",
       "      <th>5169</th>\n",
       "      <td>0</td>\n",
       "      <td>0</td>\n",
       "      <td>0</td>\n",
       "      <td>0</td>\n",
       "      <td>1</td>\n",
       "      <td>0</td>\n",
       "      <td>0</td>\n",
       "      <td>0</td>\n",
       "      <td>0</td>\n",
       "      <td>0</td>\n",
       "      <td>...</td>\n",
       "      <td>0</td>\n",
       "      <td>0</td>\n",
       "      <td>0</td>\n",
       "      <td>0</td>\n",
       "      <td>1</td>\n",
       "      <td>0</td>\n",
       "      <td>0</td>\n",
       "      <td>0.170455</td>\n",
       "      <td>4384.972415</td>\n",
       "      <td>1</td>\n",
       "    </tr>\n",
       "    <tr>\n",
       "      <th>105</th>\n",
       "      <td>0</td>\n",
       "      <td>0</td>\n",
       "      <td>0</td>\n",
       "      <td>1</td>\n",
       "      <td>0</td>\n",
       "      <td>0</td>\n",
       "      <td>0</td>\n",
       "      <td>0</td>\n",
       "      <td>0</td>\n",
       "      <td>0</td>\n",
       "      <td>...</td>\n",
       "      <td>0</td>\n",
       "      <td>0</td>\n",
       "      <td>0</td>\n",
       "      <td>0</td>\n",
       "      <td>0</td>\n",
       "      <td>0</td>\n",
       "      <td>0</td>\n",
       "      <td>0.125000</td>\n",
       "      <td>4596.364205</td>\n",
       "      <td>1</td>\n",
       "    </tr>\n",
       "    <tr>\n",
       "      <th>280</th>\n",
       "      <td>0</td>\n",
       "      <td>1</td>\n",
       "      <td>0</td>\n",
       "      <td>1</td>\n",
       "      <td>0</td>\n",
       "      <td>0</td>\n",
       "      <td>0</td>\n",
       "      <td>0</td>\n",
       "      <td>0</td>\n",
       "      <td>0</td>\n",
       "      <td>...</td>\n",
       "      <td>0</td>\n",
       "      <td>0</td>\n",
       "      <td>0</td>\n",
       "      <td>0</td>\n",
       "      <td>0</td>\n",
       "      <td>0</td>\n",
       "      <td>0</td>\n",
       "      <td>0.193182</td>\n",
       "      <td>4791.513194</td>\n",
       "      <td>1</td>\n",
       "    </tr>\n",
       "    <tr>\n",
       "      <th>5030</th>\n",
       "      <td>0</td>\n",
       "      <td>0</td>\n",
       "      <td>0</td>\n",
       "      <td>0</td>\n",
       "      <td>1</td>\n",
       "      <td>1</td>\n",
       "      <td>0</td>\n",
       "      <td>0</td>\n",
       "      <td>0</td>\n",
       "      <td>0</td>\n",
       "      <td>...</td>\n",
       "      <td>0</td>\n",
       "      <td>0</td>\n",
       "      <td>0</td>\n",
       "      <td>0</td>\n",
       "      <td>0</td>\n",
       "      <td>0</td>\n",
       "      <td>0</td>\n",
       "      <td>0.170455</td>\n",
       "      <td>4974.964977</td>\n",
       "      <td>1</td>\n",
       "    </tr>\n",
       "  </tbody>\n",
       "</table>\n",
       "<p>5 rows × 91 columns</p>\n",
       "</div>"
      ],
      "text/plain": [
       "      x_1_1  x_1_1*x_3_1  x_1_2  x_1_2*x_3_1  x_1_3  x_1_3*x_3_1  x_1_4  \\\n",
       "1240      0            0      0            1      0            1      0   \n",
       "5169      0            0      0            0      1            0      0   \n",
       "105       0            0      0            1      0            0      0   \n",
       "280       0            1      0            1      0            0      0   \n",
       "5030      0            0      0            0      1            1      0   \n",
       "\n",
       "      x_1_4*x_3_1  x_1_5  x_1_5*x_3_1  ...  x_3_7*x_1_4  x_3_8  x_3_8*x_1_1  \\\n",
       "1240            0      0            0  ...            0      0            0   \n",
       "5169            0      0            0  ...            0      0            0   \n",
       "105             0      0            0  ...            0      0            0   \n",
       "280             0      0            0  ...            0      0            0   \n",
       "5030            0      0            0  ...            0      0            0   \n",
       "\n",
       "      x_3_8*x_1_2  x_3_8*x_1_3  x_3_8*x_1_4  x_3_8*x_1_8  \\\n",
       "1240            0            0            0            0   \n",
       "5169            0            1            0            0   \n",
       "105             0            0            0            0   \n",
       "280             0            0            0            0   \n",
       "5030            0            0            0            0   \n",
       "\n",
       "      chain_break_fraction       energy  num_occurrences  \n",
       "1240              0.136364  4325.203086                1  \n",
       "5169              0.170455  4384.972415                1  \n",
       "105               0.125000  4596.364205                1  \n",
       "280               0.193182  4791.513194                1  \n",
       "5030              0.170455  4974.964977                1  \n",
       "\n",
       "[5 rows x 91 columns]"
      ]
     },
     "execution_count": 33,
     "metadata": {},
     "output_type": "execute_result"
    }
   ],
   "source": [
    "pddf_sample_result = qa_process_result.raw_result[\"response\"].aggregate(\n",
    ").to_pandas_dataframe()\n",
    "\n",
    "pddf_head_sample = pddf_sample_result.sort_values(by=['energy']).head(100)\n",
    "\n",
    "pddf_head_sample.head()"
   ]
  },
  {
   "cell_type": "code",
   "execution_count": 35,
   "id": "36635d17",
   "metadata": {},
   "outputs": [
    {
     "name": "stdout",
     "output_type": "stream",
     "text": [
      "{'x_2_2', 'x_1_8', 'x_3_7'}\n",
      "{'x_3_6', 'x_1_3'}\n",
      "{'x_3_5'}\n",
      "set()\n",
      "{'x_3_4', 'x_1_3'}\n",
      "{'x_2_8', 'x_3_3'}\n",
      "{'x_1_7', 'x_3_2'}\n",
      "{'x_1_3', 'x_3_2'}\n",
      "{'x_1_3', 'x_3_2'}\n",
      "{'x_3_5', 'x_1_3'}\n",
      "{'x_3_7'}\n",
      "{'x_1_7', 'x_2_8', 'x_3_2'}\n",
      "{'x_3_3', 'x_1_4', 'x_2_7'}\n",
      "{'x_3_8', 'x_2_7'}\n",
      "{'x_2_8'}\n",
      "{'x_3_7'}\n",
      "{'x_3_8', 'x_2_2', 'x_1_3'}\n",
      "{'x_1_7', 'x_3_6', 'x_2_7'}\n",
      "{'x_1_7', 'x_3_6', 'x_2_4'}\n",
      "{'x_1_3'}\n",
      "{'x_3_8'}\n",
      "{'x_3_3', 'x_1_3'}\n",
      "{'x_1_7', 'x_3_8'}\n",
      "{'x_3_4'}\n",
      "{'x_1_5', 'x_3_8', 'x_2_2', 'x_1_8'}\n",
      "{'x_1_6', 'x_2_8', 'x_3_1'}\n",
      "{'x_1_8', 'x_3_5', 'x_2_4', 'x_1_3'}\n",
      "{'x_3_5', 'x_2_2', 'x_1_3'}\n",
      "{'x_1_7', 'x_2_2', 'x_3_2'}\n",
      "{'x_2_7', 'x_3_7', 'x_1_7'}\n",
      "{'x_3_5', 'x_2_5', 'x_1_8'}\n",
      "{'x_1_6', 'x_3_5', 'x_2_6'}\n",
      "{'x_1_7', 'x_3_2'}\n",
      "{'x_1_8', 'x_3_4'}\n",
      "{'x_3_5', 'x_3_8', 'x_1_3'}\n",
      "{'x_1_3'}\n",
      "{'x_1_7', 'x_2_2', 'x_3_1'}\n",
      "{'x_2_2', 'x_3_1'}\n",
      "{'x_2_5', 'x_3_3', 'x_1_3'}\n",
      "{'x_3_8', 'x_2_8', 'x_3_3'}\n",
      "{'x_3_8', 'x_2_1'}\n",
      "{'x_2_5', 'x_1_3'}\n",
      "{'x_3_5', 'x_2_2'}\n",
      "{'x_2_5', 'x_3_1'}\n",
      "{'x_2_4'}\n",
      "{'x_1_7', 'x_3_7'}\n",
      "{'x_1_7', 'x_3_2'}\n",
      "{'x_1_3', 'x_3_1'}\n",
      "{'x_1_6', 'x_3_3'}\n",
      "{'x_1_8', 'x_3_7'}\n",
      "set()\n",
      "set()\n",
      "{'x_1_6', 'x_3_6', 'x_2_7', 'x_3_1'}\n",
      "{'x_2_8', 'x_3_4'}\n",
      "{'x_3_6', 'x_2_5', 'x_1_2'}\n",
      "{'x_3_6', 'x_2_7'}\n",
      "{'x_3_6', 'x_2_5'}\n",
      "{'x_2_5', 'x_3_3'}\n",
      "{'x_2_5'}\n",
      "{'x_2_5'}\n",
      "{'x_1_6', 'x_3_7', 'x_1_7'}\n",
      "{'x_1_7', 'x_3_8'}\n",
      "{'x_3_3', 'x_1_4', 'x_3_7'}\n",
      "{'x_3_7', 'x_1_2'}\n",
      "{'x_3_8'}\n",
      "{'x_1_7'}\n",
      "{'x_3_4'}\n",
      "{'x_3_4', 'x_1_2'}\n",
      "{'x_3_5'}\n",
      "{'x_1_3'}\n",
      "{'x_2_2', 'x_1_3', 'x_3_2'}\n",
      "{'x_1_6', 'x_3_8', 'x_2_7', 'x_1_2'}\n",
      "{'x_2_2', 'x_1_8', 'x_3_2'}\n",
      "{'x_3_3', 'x_1_3', 'x_2_1'}\n",
      "{'x_1_7', 'x_2_5', 'x_3_3'}\n",
      "{'x_1_7', 'x_2_8', 'x_3_3'}\n",
      "{'x_2_2', 'x_3_3'}\n",
      "{'x_1_7', 'x_2_5', 'x_3_3'}\n",
      "{'x_1_6', 'x_3_5', 'x_2_5'}\n",
      "{'x_3_8', 'x_2_4'}\n",
      "{'x_2_5', 'x_3_1'}\n",
      "{'x_3_6', 'x_2_5'}\n",
      "{'x_1_6', 'x_3_3'}\n",
      "{'x_1_7', 'x_3_2'}\n",
      "{'x_1_7', 'x_3_2'}\n",
      "{'x_1_6', 'x_3_1'}\n",
      "{'x_1_3', 'x_3_1'}\n",
      "{'x_3_7', 'x_1_3'}\n",
      "{'x_3_5', 'x_1_4'}\n",
      "{'x_1_8', 'x_3_3'}\n",
      "{'x_1_8', 'x_3_4'}\n",
      "{'x_1_7', 'x_3_5'}\n",
      "{'x_1_8'}\n",
      "{'x_1_3', 'x_3_1'}\n",
      "{'x_3_8', 'x_1_2'}\n",
      "{'x_3_1'}\n",
      "{'x_2_2', 'x_3_3', 'x_1_4'}\n",
      "{'x_1_5', 'x_2_1'}\n",
      "{'x_1_6', 'x_3_5', 'x_2_2'}\n",
      "{'x_3_5', 'x_2_1'}\n"
     ]
    }
   ],
   "source": [
    "for index, row in pddf_head_sample.iterrows():\n",
    "    best_config = row.filter(items=qa_process_result.valid_var_name)\n",
    "    chosen_var = set(best_config[best_config == 1].index.tolist())\n",
    "    print(chosen_var)"
   ]
  },
  {
   "cell_type": "code",
   "execution_count": null,
   "id": "802c0d5b",
   "metadata": {},
   "outputs": [],
   "source": [
    "import py3Dmol\n",
    "import time\n",
    "from ipywidgets import interact,fixed,IntSlider\n",
    "import ipywidgets\n",
    "import os\n",
    "\n",
    "def View3DMol(mol, size=(600, 600), style=\"stick\", surface=False, opacity=0.5, type=\"mol2\"):\n",
    "    assert style in ('line', 'stick', 'sphere', 'carton')\n",
    "    viewer = py3Dmol.view(width=size[0], height=size[1])\n",
    "    viewer.addModel(open(mol,'r').read(), type)\n",
    "    viewer.setStyle({style:{}})\n",
    "    if surface:\n",
    "        viewer.addSurface(py3Dmol.SAS, {'opacity': opacity})\n",
    "    viewer.zoomTo()\n",
    "    return viewer\n",
    "\n",
    "\n",
    "def View3DMolFromDir(mol_dir, size=(600,600), style=\"stick\", surface=False, opacity=0.5, type=\"mol2\"):\n",
    "    assert style in ('line', 'stick', 'sphere', 'carton')\n",
    "    viewer = py3Dmol.view(width=size[0], height=size[1],linked=False,viewergrid=(2,2))\n",
    "    mol2s = os.popen(\"ls {}/*.mol2\".format(mol_dir)).read().split('\\n')[0:-1]\n",
    "    for index,mol2 in enumerate(mol2s):\n",
    "        viewer.addModel(open(mol2,'r').read(),type,viewer=(index/2,index%2))\n",
    "        viewer.setStyle({'stick':{'colorscheme':'greenCarbon'}},viewer=(index/2,index%2))\n",
    "    if surface:\n",
    "        viewer.addSurface(py3Dmol.SAS, {'opacity': opacity})\n",
    "    viewer.zoomTo()\n",
    "    view.render()\n",
    "    return viewer\n",
    "\n",
    "\n",
    "def StyleSelector(mol,size,style):\n",
    "    return View3DMol(mol,size=(size,size),style=style).show()\n",
    "\n",
    "def InteractView(mol,size):\n",
    "    interact(StyleSelector, \n",
    "             mol=mol,\n",
    "             size=size,\n",
    "             style=ipywidgets.Dropdown(\n",
    "                options=['line', 'stick', 'sphere'],\n",
    "                value='stick',\n",
    "                description='Style:'))"
   ]
  },
  {
   "cell_type": "code",
   "execution_count": null,
   "id": "0478330f",
   "metadata": {},
   "outputs": [],
   "source": [
    "InteractView(\"./molecule-data/Aspirin_dwave-qa_20220315-05.mol2\", size=800)"
   ]
  },
  {
   "cell_type": "code",
   "execution_count": null,
   "id": "001d152f",
   "metadata": {},
   "outputs": [],
   "source": [
    "InteractView(\"./molecule-data/Aspirin.mol2\", size=800)"
   ]
  },
  {
   "cell_type": "code",
   "execution_count": null,
   "id": "4434bd5c",
   "metadata": {},
   "outputs": [],
   "source": [
    "graph = mol_data.bond_graph.mol_ug"
   ]
  },
  {
   "cell_type": "code",
   "execution_count": null,
   "id": "9fac5ae1",
   "metadata": {},
   "outputs": [],
   "source": [
    "qa_process_result.theta_option"
   ]
  },
  {
   "cell_type": "code",
   "execution_count": 25,
   "id": "c9b714ae",
   "metadata": {},
   "outputs": [
    {
     "data": {
      "text/plain": [
       "{'4+5': {'metrics': '4+5',\n",
       "  'f_0_set': {'2'},\n",
       "  'f_1_set': {'10', '11', '17', '18', '19', '20', '6', '7', '8', '9'},\n",
       "  'avg_bc_num': 0.5146198830409356,\n",
       "  'rb_count_num': 1},\n",
       " '2+4': {'metrics': '2+4',\n",
       "  'f_0_set': {'1', '3'},\n",
       "  'f_1_set': {'5'},\n",
       "  'avg_bc_num': 0.4444444444444444,\n",
       "  'rb_count_num': 1},\n",
       " '1+2': {'metrics': '1+2',\n",
       "  'f_0_set': {'14', '15', '16'},\n",
       "  'f_1_set': {'3', '4'},\n",
       "  'avg_bc_num': 0.36549707602339176,\n",
       "  'rb_count_num': 1},\n",
       " '10+11': {'metrics': '10+11',\n",
       "  'f_0_set': {'17', '18', '19', '20', '4', '5', '6', '7', '8', '9'},\n",
       "  'f_1_set': {'12', '13'},\n",
       "  'avg_bc_num': 0.3187134502923976,\n",
       "  'rb_count_num': 1},\n",
       " '4+5,2+4': {'metrics': '4+5',\n",
       "  'f_0_set': {'1', '3'},\n",
       "  'f_1_set': {'10', '11', '17', '18', '19', '20', '6', '7', '8', '9'},\n",
       "  'avg_bc_num': 0.47953216374269003,\n",
       "  'rb_count_num': 2},\n",
       " '4+5,10+11': {'metrics': '4+5',\n",
       "  'f_0_set': {'2'},\n",
       "  'f_1_set': {'12', '13'},\n",
       "  'avg_bc_num': 0.41666666666666663,\n",
       "  'rb_count_num': 2},\n",
       " '2+4,1+2': {'metrics': '2+4',\n",
       "  'f_0_set': {'14', '15', '16'},\n",
       "  'f_1_set': {'5'},\n",
       "  'avg_bc_num': 0.4049707602339181,\n",
       "  'rb_count_num': 2},\n",
       " '4+5,2+4,1+2': {'metrics': '4+5',\n",
       "  'f_0_set': {'14', '15', '16'},\n",
       "  'f_1_set': {'10', '11', '17', '18', '19', '20', '6', '7', '8', '9'},\n",
       "  'avg_bc_num': 0.44152046783625726,\n",
       "  'rb_count_num': 3},\n",
       " '4+5,2+4,10+11': {'metrics': '4+5',\n",
       "  'f_0_set': {'1', '3'},\n",
       "  'f_1_set': {'12', '13'},\n",
       "  'avg_bc_num': 0.4259259259259259,\n",
       "  'rb_count_num': 3},\n",
       " '4+5,2+4,1+2,10+11': {'metrics': '4+5',\n",
       "  'f_0_set': {'14', '15', '16'},\n",
       "  'f_1_set': {'12', '13'},\n",
       "  'avg_bc_num': 0.41081871345029236,\n",
       "  'rb_count_num': 4}}"
      ]
     },
     "execution_count": 25,
     "metadata": {},
     "output_type": "execute_result"
    }
   ],
   "source": [
    "qa_process_result.mol_data.bond_graph.sort_ris_data['4']\n"
   ]
  },
  {
   "cell_type": "code",
   "execution_count": null,
   "id": "67c65b5e",
   "metadata": {},
   "outputs": [],
   "source": [
    "qa_process_result.mol_data.bond_graph.rb_data"
   ]
  },
  {
   "cell_type": "code",
   "execution_count": null,
   "id": "84dde6f2",
   "metadata": {},
   "outputs": [],
   "source": [
    "# \n",
    "# X_4_1, X_4_2, X_3 -> "
   ]
  },
  {
   "cell_type": "code",
   "execution_count": null,
   "id": "d491e429",
   "metadata": {},
   "outputs": [],
   "source": [
    "from utility.MoleculeParser import MoleculeData\n",
    "from utility.QMUQUBO import QMUQUBO\n",
    "from utility.AnnealerOptimizer import Annealer\n",
    "from utility.ResultProcess import ResultParser\n",
    "import time\n",
    "\n",
    "timestamp = time.strftime(\"%Y%m%d-%H\")"
   ]
  },
  {
   "cell_type": "markdown",
   "id": "2ee2abbe",
   "metadata": {},
   "source": [
    "# Step 1: Prepare Data"
   ]
  },
  {
   "cell_type": "markdown",
   "id": "9832bea7",
   "metadata": {},
   "source": [
    "In this part, we load the raw molecule data for experiment.\n",
    "The [117 ligand](http://www.rcsb.org/ligand/117) was \n",
    "put in the repository. We assign the relative \n",
    "path to **raw_path**.\n",
    "The **s3_bucket** and **prefix** are used to store the \n",
    "optimization results. We can use the one created with the \n",
    "cloudformation for convenience."
   ]
  },
  {
   "cell_type": "code",
   "execution_count": null,
   "id": "0c940d35",
   "metadata": {},
   "outputs": [],
   "source": [
    "# initial parameters for experiment data\n",
    "s3_bucket = f\"amazon-braket-1a222675c751\" # the name of the bucket\n",
    "prefix = \"annealer-experiment\" # the name of the folder in the bucket\n",
    "\n",
    "raw_path = './molecule-data/117_ideal.mol2' # the mol2 file for this experiment"
   ]
  },
  {
   "cell_type": "code",
   "execution_count": null,
   "id": "5f187f63",
   "metadata": {},
   "outputs": [],
   "source": [
    "mol_data = MoleculeData(raw_path, 'qmu')\n",
    "\n",
    "data_path = mol_data.save(\"latest\")\n",
    "\n",
    "num_rotation_bond = mol_data.bond_graph.rb_num\n",
    "print(f\"You have loaded the raw molecule data and saved as {data_path}. \\n\\\n",
    "This molecule has {num_rotation_bond} rotable bond\")"
   ]
  },
  {
   "cell_type": "markdown",
   "id": "a56a33c2",
   "metadata": {},
   "source": [
    "After running this block, the processed data \n",
    "will be saved as **qmu_117_ideal_data_latest.pickle**\n",
    "and **data_path** will be updated. We can see that this \n",
    "molecule has 23 rotatable bonds."
   ]
  },
  {
   "cell_type": "markdown",
   "id": "0d76a9bb",
   "metadata": {},
   "source": [
    "# Step 2: Build Model"
   ]
  },
  {
   "cell_type": "markdown",
   "id": "bfc29953",
   "metadata": {},
   "source": [
    "In this part, we build the Quadratic Unconstrained \n",
    "Binary Optimization (QUBO) model for molecular unfolding.\n",
    "\n",
    "First, we set the following parameters and \n",
    "initialize the QMUQUBO object. \n",
    "\n",
    "<center>\n",
    "\n",
    "| Parameter | Description | Value |\n",
    "|--- |--- |--- |\n",
    "|A | penalty scalar |300|\n",
    "|hubo_qubo_val | energy penalty of make_quadratic() |200|\n",
    "|M | number of torsions for molecular unfolding| [1, max number of rotatable bonds] |\n",
    "|D| angle precision of rotation| 8|\n",
    "|method| the method of building model| 'pre-calc': calculate the score in advance|\n",
    "\n",
    " </center>"
   ]
  },
  {
   "cell_type": "markdown",
   "id": "46bd51c2",
   "metadata": {},
   "source": [
    "We use the 'pre-calc' method \n",
    "to build the model. This molecule has 23 rotatable bonds and \n",
    "we only test 2 of them, so we set the **M** to 2. And we want \n",
    "the angle to become $45^o$, so we set the **D** to 8 \n",
    "(i.e., $8=360^o/45^o$). The **A** and **hubo_qubo_val** are \n",
    "test from experiments. "
   ]
  },
  {
   "cell_type": "code",
   "execution_count": null,
   "id": "12c59160",
   "metadata": {},
   "outputs": [],
   "source": [
    "# initial the QMUQUBO object\n",
    "init_param = {}\n",
    "method = ['pre-calc']\n",
    "\n",
    "for mt in method:\n",
    "    if mt == 'pre-calc':\n",
    "        init_param[mt] = {}\n",
    "        init_param[mt]['param'] = ['M', 'D', 'A', 'hubo_qubo_val']\n",
    "    \n",
    "qmu_qubo = QMUQUBO(mol_data, method, **init_param)"
   ]
  },
  {
   "cell_type": "code",
   "execution_count": null,
   "id": "0a9fb829",
   "metadata": {},
   "outputs": [],
   "source": [
    "# set the parameters for model\n",
    "model_param = {}\n",
    "# parameters\n",
    "num_rotation_bond = mol_data.bond_graph.rb_num\n",
    "\n",
    "method = 'pre-calc'\n",
    "model_param[method] = {}\n",
    "# model_param[method]['M'] = range(1, num_rotation_bond+1)\n",
    "model_param[method]['M'] = [3]\n",
    "model_param[method]['D'] = [8]\n",
    "model_param[method]['A'] = [300]\n",
    "model_param[method]['hubo_qubo_val'] = [200]\n",
    "\n",
    "qmu_qubo.build_model(**model_param)"
   ]
  },
  {
   "cell_type": "markdown",
   "id": "8f16850c",
   "metadata": {},
   "source": [
    "We can use the following method to check the properties of \n",
    "model. This way, we can build many models conveniently. \n",
    "After that, we save the model and update the value of \n",
    "**model_path**."
   ]
  },
  {
   "cell_type": "code",
   "execution_count": null,
   "id": "ab5406d7",
   "metadata": {},
   "outputs": [],
   "source": [
    "# describe the model parameters\n",
    "model_info = qmu_qubo.describe_model()"
   ]
  },
  {
   "cell_type": "code",
   "execution_count": null,
   "id": "118fbde6",
   "metadata": {},
   "outputs": [],
   "source": [
    "# save the model\n",
    "model_path = qmu_qubo.save(\"latest\")\n",
    "\n",
    "print(f\"You have built the QUBO model and saved it as {model_path}\")"
   ]
  },
  {
   "cell_type": "markdown",
   "id": "028999d6",
   "metadata": {},
   "source": [
    "# Step 3: Optimize Configuration"
   ]
  },
  {
   "cell_type": "markdown",
   "id": "e6ae0366",
   "metadata": {},
   "source": [
    "In this part, we use SA and QA to find the optimized configuration of molecular unfolding.\n",
    "At first, we load the model file using **QMUQUBO** object"
   ]
  },
  {
   "cell_type": "code",
   "execution_count": null,
   "id": "5c690cc3",
   "metadata": {},
   "outputs": [],
   "source": [
    "qmu_qubo_optimize = QMUQUBO.load(model_path)"
   ]
  },
  {
   "cell_type": "code",
   "execution_count": null,
   "id": "ae60be14",
   "metadata": {},
   "outputs": [],
   "source": [
    "model_info = qmu_qubo_optimize.describe_model()"
   ]
  },
  {
   "cell_type": "markdown",
   "id": "fe2fffe7",
   "metadata": {},
   "source": [
    "We can see the parameters of this model, with M equaling 2, D equaling 8, \n",
    "A equaling 300 and hubo_qubo_val equaling 200. \n",
    "Actually, we can contain multiple models in this file just \n",
    "by giving multiple values for one parameter when creating models.\n",
    "\n",
    "Actually, we can contain multiple models in this file just \n",
    "by giving multiple values for one parameter when creating models.\n",
    "Then, we need use **model_name** to get the model for experiments."
   ]
  },
  {
   "cell_type": "code",
   "execution_count": null,
   "id": "67c7ed80",
   "metadata": {},
   "outputs": [],
   "source": [
    "# get the model you want to optimize\n",
    "M = 3\n",
    "D = 8\n",
    "A = 300\n",
    "hubo_qubo_val = 200\n",
    "model_name = \"{}_{}_{}_{}\".format(M, D, A, hubo_qubo_val)\n",
    "method = \"pre-calc\"\n",
    "\n",
    "qubo_model = qmu_qubo_optimize.get_model(method, model_name)"
   ]
  },
  {
   "cell_type": "markdown",
   "id": "2564619b",
   "metadata": {},
   "source": [
    "We can see that we want to carry out experiment with the QUBO model with M equaling 2.\n",
    " After that, we set the parameters for optimization.\n",
    "\n",
    "| Parameter | Description | Value |\n",
    "|--- |--- |--- |\n",
    "|method | annealing method for QUBO problem |'dwave-sa': use the simulated annealer in ocean toolkit<br> 'dwave-qa': use the quantum annealer|\n",
    "|shots| number of reads, refer to [dwave-sa](https://docs.ocean.dwavesys.com/projects/neal/en/latest/reference/generated/neal.sampler.SimulatedAnnealingSampler.sample.html#neal.sampler.SimulatedAnnealingSampler.sample) and [dwave-qa](https://amazon-braket-ocean-plugin-python.readthedocs.io/en/latest/_apidoc/braket.ocean_plugin.braket_sampler.html) for details |1 to 10,000|\n",
    "|bucket | the s3 bucket to store your results | - |\n",
    "|prefix | the name of the folder in your s3 bucket | - |\n",
    "|device | the arn name to run your quantum annealing| 'arn:aws:braket:::device/qpu/d-wave/Advantage_system4' <br> 'arn:aws:braket:::device/qpu/d-wave/DW_2000Q_6'|\n",
    "\n",
    "Then, we can run the SA for this problem:"
   ]
  },
  {
   "cell_type": "code",
   "execution_count": null,
   "id": "7d42f9ef",
   "metadata": {},
   "outputs": [],
   "source": [
    "method = 'dwave-sa'\n",
    "\n",
    "optimizer_param = {}\n",
    "optimizer_param['shots'] = 1000\n",
    "\n",
    "sa_optimizer = Annealer(qubo_model, method, **optimizer_param)"
   ]
  },
  {
   "cell_type": "code",
   "execution_count": null,
   "id": "a4246824",
   "metadata": {},
   "outputs": [],
   "source": [
    "sa_optimize_result = sa_optimizer.fit()"
   ]
  },
  {
   "cell_type": "markdown",
   "id": "823069e0",
   "metadata": {},
   "source": [
    "We can tell that we set the number of shots for SA to 1000. \n",
    "The result is saved as the local file **./sa_result.pickle.**\n",
    "Alternatively, we can use QA to solve this problem:"
   ]
  },
  {
   "cell_type": "code",
   "execution_count": null,
   "id": "111740ea",
   "metadata": {},
   "outputs": [],
   "source": [
    "method = 'dwave-qa'\n",
    "\n",
    "optimizer_param = {}\n",
    "optimizer_param['shots'] = 10000\n",
    "optimizer_param['bucket'] = s3_bucket # the name of the bucket\n",
    "optimizer_param['prefix'] = prefix # the name of the folder in the bucket\n",
    "optimizer_param['device'] = \"arn:aws:braket:::device/qpu/d-wave/Advantage_system4\"\n",
    "optimizer_param[\"embed_method\"] = \"default\"\n",
    "\n",
    "qa_optimizer = Annealer(qubo_model, method, **optimizer_param)"
   ]
  },
  {
   "cell_type": "markdown",
   "id": "ca35e4aa",
   "metadata": {},
   "source": [
    "In this QA, we set the number of shots to 1000 and \n",
    "choose the \n",
    "[Advantage_System4.1](https://docs.dwavesys.com/docs/latest/doc_physical_properties.html)\n",
    "as the QPU. In addition, the results are saved to your bucket automatically and you \n",
    "can get the task id for future process. "
   ]
  },
  {
   "cell_type": "code",
   "execution_count": null,
   "id": "a9485373",
   "metadata": {},
   "outputs": [],
   "source": [
    "# not create annealing task, only embedding logic\n",
    "qa_optimizer.embed()\n",
    "# create annealing task\n",
    "qa_optimize_result = qa_optimizer.fit()"
   ]
  },
  {
   "cell_type": "code",
   "execution_count": null,
   "id": "4bd19e75",
   "metadata": {},
   "outputs": [],
   "source": [
    "qa_task_id = qa_optimizer.get_task_id()\n",
    "print(f\"task id is {qa_task_id}\")"
   ]
  },
  {
   "cell_type": "markdown",
   "id": "6dc92a6f",
   "metadata": {},
   "source": [
    "Finally, we can compare the execution time between SA and QA :"
   ]
  },
  {
   "cell_type": "code",
   "execution_count": null,
   "id": "d4b3967c",
   "metadata": {},
   "outputs": [],
   "source": [
    "print(f\"dwave-sa run time {sa_optimize_result['time']}\")\n",
    "print(f\"dwave-qa run time {qa_optimize_result['time']}\")"
   ]
  },
  {
   "cell_type": "markdown",
   "id": "38e3d57b",
   "metadata": {},
   "source": [
    "We can tell from the image that SA needs 174.2 seconds \n",
    "and QA needs 7.7 seconds to find \n",
    "solution.\n",
    "\n",
    "We sometimes get the best result that occurs only once.\n",
    "\n",
    "![OneTimeQA](../../../docs/en/images/one-time-qa.png)\n",
    "\n",
    "This does not always indicate an error. It is actually the characteristic of the problem or how the problem \n",
    "is formulated. Because we have different linear and quadratic terms that vary by many orders of magnitude. If we \n",
    "set change value of A to some smaller number, like 10 or 100, more occurrences of the best answer will be observed. \n",
    "However, these answers usually break the constraints. For more information about this phenomenon, please refer to this \n",
    "[Link](https://support.dwavesys.com/hc/en-us/community/posts/1500000698522-Number-of-occurrences-?input_string=number%20occurance)."
   ]
  },
  {
   "cell_type": "markdown",
   "id": "ed476058",
   "metadata": {},
   "source": [
    "# Step 4: PostProcess Result"
   ]
  },
  {
   "cell_type": "markdown",
   "id": "6f98d718",
   "metadata": {},
   "source": [
    "In this part, we post process the optimizing results for evaluation and visualization.\n",
    "At first, we prepare the following parameters:\n",
    "\n",
    "| Parameter | Description | Value |\n",
    "|--- |--- |--- |\n",
    "|method | annealing method for QUBO problem |'dwave-sa': use the simulated annealer in ocean toolkit<br> 'dwave-qa': use the quantum annealer|\n",
    "|raw_path| the path for the original molecule file| './molecule-data/117_ideal.mol2' in this example |\n",
    "|data_path| the path for the processed molecule file| './qmu_117_ideal_data_latest.mol2' in this example |\n",
    "|bucket | the s3 bucket to store your results | - |\n",
    "|prefix | the name of the folder in your s3 bucket | - |\n",
    "|task_id | the id for your quantum annealing task| '2b5a3b05-1a0e-443a-852c-4ec422a10e59' in this example |"
   ]
  },
  {
   "cell_type": "markdown",
   "id": "46e4abc3",
   "metadata": {},
   "source": [
    "Then we can run the post-process using **ResultParser** object for SA:"
   ]
  },
  {
   "cell_type": "code",
   "execution_count": null,
   "id": "c962e537",
   "metadata": {},
   "outputs": [],
   "source": [
    "method = \"dwave-sa\"\n",
    "sa_param = {}\n",
    "sa_param[\"raw_path\"] = raw_path\n",
    "sa_param[\"data_path\"] = data_path\n",
    "\n",
    "sa_process_result = ResultParser(method, **sa_param)\n",
    "# print(f\"{method} result is {sa_process_result.get_all_result()}\")\n",
    "\n",
    "local_time, _ , _, _= sa_process_result.get_time()\n",
    "\n",
    "print(f\"time for {method}: \\n \\\n",
    "    local time is {local_time}\")"
   ]
  },
  {
   "cell_type": "code",
   "execution_count": null,
   "id": "08eb30db",
   "metadata": {},
   "outputs": [],
   "source": [
    "sa_atom_pos_data = sa_process_result.generate_optimize_pts()\n",
    "# save unfold file for visualization and parameters for experiment: 1. volume value 2. relative improvement\n",
    "sa_process_result.save_mol_file(f\"{timestamp}\")\n"
   ]
  },
  {
   "cell_type": "code",
   "execution_count": null,
   "id": "357df977",
   "metadata": {},
   "outputs": [],
   "source": [
    "sa_process_result.parameters"
   ]
  },
  {
   "cell_type": "markdown",
   "id": "e2e79e4c",
   "metadata": {},
   "source": [
    "In the first block, we can see the **local time**\n",
    "for SA is around 174 seconds. \n",
    "With the **generate_optimize_pts()** method, the final 3D \n",
    "points after unfolding will be generated and saved as json file and mol2 files. The last \n",
    "block shows the optimizing results which are also stored in json files. \n",
    "It shows that the optimized result gains \n",
    "1.0212x increase in volume. The value for **unfolding_results** indicates \n",
    "that the rotatable bond 15 should rotate $270^o$ ($360/8*(7-1)$) and \n",
    "the rotatable bond 14 should rotate $315^o$ ($360/8*(8-1)$).\n",
    "At the same time, you can run the post-process for QA:"
   ]
  },
  {
   "cell_type": "code",
   "execution_count": null,
   "id": "5a918f19",
   "metadata": {},
   "outputs": [],
   "source": [
    "method = \"dwave-qa\"\n",
    "qa_param = {}\n",
    "qa_param[\"bucket\"] = s3_bucket\n",
    "qa_param[\"prefix\"] = prefix\n",
    "qa_param[\"task_id\"] = qa_task_id\n",
    "qa_param[\"raw_path\"] = raw_path\n",
    "qa_param[\"data_path\"] = data_path\n",
    "\n",
    "qa_process_result = ResultParser(method, **qa_param)\n",
    "# print(f\"{method} result is {qa_process_result.get_all_result()}\")\n",
    "\n",
    "local_time, task_time, total_time, access_time = qa_process_result.get_time()\n",
    "\n",
    "print(f\"time for {method}: \\n \\\n",
    "    local time is {local_time},\\n \\\n",
    "    task time is {task_time}, \\n \\\n",
    "    qpu total time is {total_time}, \\n \\\n",
    "    qpu access time is {access_time}\")"
   ]
  },
  {
   "cell_type": "markdown",
   "id": "858e573f",
   "metadata": {},
   "source": [
    "we can see that there many types of time metrics for running QA.\n",
    "This task has the **local time** of 7.7 s, which means the time between calling the api and \n",
    "getting the annealing result. The **task time** time is the metric from the json file in \n",
    "bucket. We can also see the **qpu total time** and **qpu access time** representing the \n",
    "actual time running in the QPU. Please refer to [Operation and Timing](https://docs.dwavesys.com/docs/latest/c_qpu_timing.html)\n",
    "for details."
   ]
  },
  {
   "cell_type": "code",
   "execution_count": null,
   "id": "410be37d",
   "metadata": {},
   "outputs": [],
   "source": [
    "qa_atom_pos_data = qa_process_result.generate_optimize_pts()\n",
    "# save unfold file for visualization and parameters for experiment: 1. volume value 2. relative improvement\n",
    "qa_process_result.save_mol_file(f\"{timestamp}\")"
   ]
  },
  {
   "cell_type": "code",
   "execution_count": null,
   "id": "d753495f",
   "metadata": {},
   "outputs": [],
   "source": [
    "qa_process_result.parameters"
   ]
  },
  {
   "cell_type": "code",
   "execution_count": null,
   "id": "58f91eac",
   "metadata": {},
   "outputs": [],
   "source": [
    "qa_process_result.valid_var_name"
   ]
  },
  {
   "cell_type": "code",
   "execution_count": null,
   "id": "927be1bd",
   "metadata": {},
   "outputs": [],
   "source": [
    "pddf_sample_result = qa_process_result.raw_result[\"response\"].aggregate(\n",
    ").to_pandas_dataframe()\n",
    "\n",
    "pddf_head_sample = pddf_sample_result.sort_values(by=['energy']).head(100)\n",
    "\n",
    "pddf_head_sample"
   ]
  },
  {
   "cell_type": "code",
   "execution_count": null,
   "id": "0255347b",
   "metadata": {},
   "outputs": [],
   "source": [
    "for index, row in pddf_head_sample.iterrows():\n",
    "    best_config = row.filter(items=qa_process_result.valid_var_name)\n",
    "    chosen_var = set(best_config[best_config == 1].index.tolist())\n",
    "    print(chosen_var)"
   ]
  },
  {
   "cell_type": "markdown",
   "id": "aefc3cd6",
   "metadata": {},
   "source": [
    "In same way, the optimized results are translated the 3D points and saved \n",
    "as local json and mol2 files. The result indicates that QA gains \n",
    "1.021x increase in \n",
    "volume."
   ]
  },
  {
   "cell_type": "markdown",
   "id": "7b3df7f6",
   "metadata": {},
   "source": [
    "Finally, We can open folders for the optimized results:\n",
    "\n",
    "![optimize-results](../../../docs/en/images/optimize-results.png)\n",
    "\n",
    " <center>Optimize Results</center>\n",
    "\n",
    "We can see the json result and mol2 file of SA and QA are \n",
    "stored in this place. If we carry out more \n",
    "experiments, more results with time stamp are \n",
    "stored incrementally. \n",
    "For visualization, \n",
    "we can upload the \n",
    "result **117_ideal_dwave-qa_20220216-05.mol2** \n",
    "into \n",
    "[online viewer tool](https://www.rcsb.org/3d-view) \n",
    "to see the result:\n",
    "\n",
    "![visual](../../../docs/en/images/visualization.png)\n",
    "\n",
    " <center>Visualization</center>"
   ]
  }
 ],
 "metadata": {
  "interpreter": {
   "hash": "18f113ef20d2e5656a0bc837e6c476bd436e29840b6ed1847ecdb90743164c58"
  },
  "kernelspec": {
   "display_name": "conda_braket",
   "language": "python",
   "name": "conda_braket"
  },
  "language_info": {
   "codemirror_mode": {
    "name": "ipython",
    "version": 3
   },
   "file_extension": ".py",
   "mimetype": "text/x-python",
   "name": "python",
   "nbconvert_exporter": "python",
   "pygments_lexer": "ipython3",
   "version": "3.7.11"
  }
 },
 "nbformat": 4,
 "nbformat_minor": 5
}
