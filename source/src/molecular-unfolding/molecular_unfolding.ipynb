{
 "cells": [
  {
   "cell_type": "code",
   "execution_count": 1,
   "id": "ad45f6a6",
   "metadata": {},
   "outputs": [
    {
     "name": "stderr",
     "output_type": "stream",
     "text": [
      "2022-02-16 06:34:24,983 dwave.cloud INFO MainThread Log level for 'dwave.cloud' namespace set to 0\n"
     ]
    }
   ],
   "source": [
    "from utility.MoleculeParser import MoleculeData\n",
    "from utility.QMUQUBO import QMUQUBO\n",
    "from utility.AnnealerOptimizer import Annealer"
   ]
  },
  {
   "cell_type": "markdown",
   "id": "f1aede74",
   "metadata": {},
   "source": [
    "# Step 1: Prepare Data"
   ]
  },
  {
   "cell_type": "code",
   "execution_count": 2,
   "id": "6f4a79bd",
   "metadata": {},
   "outputs": [],
   "source": [
    "# initial parameters for experiment data\n",
    "s3_bucket = f\"xxxx\" # the name of the bucket\n",
    "prefix = \"xxxx\" # the name of the folder in the bucket\n",
    "\n",
    "raw_path = './molecule-data/117_ideal.mol2' # the mol2 file for this experiment"
   ]
  },
  {
   "cell_type": "code",
   "execution_count": 3,
   "id": "87bf78a5",
   "metadata": {},
   "outputs": [
    {
     "name": "stderr",
     "output_type": "stream",
     "text": [
      "INFO:root:parse mol2 file!\n",
      "INFO:root:finish save qmu_117_ideal_data_latest.pickle\n"
     ]
    },
    {
     "name": "stdout",
     "output_type": "stream",
     "text": [
      "You have loaded the raw molecule data and saved as ./qmu_117_ideal_data_latest.pickle. \n",
      "This molecule has 23 rotable bond\n"
     ]
    }
   ],
   "source": [
    "mol_data = MoleculeData(raw_path, 'qmu')\n",
    "\n",
    "data_path = mol_data.save(\"latest\")\n",
    "\n",
    "num_rotation_bond = mol_data.bond_graph.rb_num\n",
    "print(f\"You have loaded the raw molecule data and saved as {data_path}. \\n\\\n",
    "This molecule has {num_rotation_bond} rotable bond\")"
   ]
  },
  {
   "cell_type": "markdown",
   "id": "3691bcad",
   "metadata": {},
   "source": [
    "# Step 2: Build Model"
   ]
  },
  {
   "cell_type": "code",
   "execution_count": 4,
   "id": "2d8f45de",
   "metadata": {},
   "outputs": [
    {
     "name": "stderr",
     "output_type": "stream",
     "text": [
      "INFO:root:initial pre-calculate for constructing molecule QUBO\n"
     ]
    }
   ],
   "source": [
    "# initial the QMUQUBO object\n",
    "init_param = {}\n",
    "method = ['pre-calc']\n",
    "\n",
    "for mt in method:\n",
    "    if mt == 'pre-calc':\n",
    "        init_param[mt] = {}\n",
    "        init_param[mt]['param'] = ['M', 'D', 'A', 'hubo_qubo_val']\n",
    "    \n",
    "qmu_qubo = QMUQUBO(mol_data, method, **init_param)"
   ]
  },
  {
   "cell_type": "code",
   "execution_count": 5,
   "id": "bb9a14e1",
   "metadata": {},
   "outputs": [
    {
     "name": "stderr",
     "output_type": "stream",
     "text": [
      "INFO:root:Construct model for M:2,D:8,A:300,hubo_qubo_val:200 0.0010666688283284505 min\n"
     ]
    },
    {
     "data": {
      "text/plain": [
       "0"
      ]
     },
     "execution_count": 5,
     "metadata": {},
     "output_type": "execute_result"
    }
   ],
   "source": [
    "# set the parameters for model\n",
    "model_param = {}\n",
    "# parameters\n",
    "num_rotation_bond = mol_data.bond_graph.rb_num\n",
    "\n",
    "method = 'pre-calc'\n",
    "model_param[method] = {}\n",
    "# model_param[method]['M'] = range(1, num_rotation_bond+1)\n",
    "model_param[method]['M'] = [2]\n",
    "model_param[method]['D'] = [8]\n",
    "model_param[method]['A'] = [300]\n",
    "model_param[method]['hubo_qubo_val'] = [200]\n",
    "\n",
    "qmu_qubo.build_model(**model_param)"
   ]
  },
  {
   "cell_type": "code",
   "execution_count": 6,
   "id": "c59fb9b8",
   "metadata": {},
   "outputs": [
    {
     "name": "stderr",
     "output_type": "stream",
     "text": [
      "INFO:root:method: pre-calc\n",
      "INFO:root:The model_name should be {M}_{D}_{A}_{hubo_qubo_val}\n",
      "INFO:root:param: M, value {2}\n",
      "INFO:root:param: D, value {8}\n",
      "INFO:root:param: A, value {300}\n",
      "INFO:root:param: hubo_qubo_val, value {200}\n"
     ]
    }
   ],
   "source": [
    "# describe the model parameters\n",
    "model_info = qmu_qubo.describe_model()"
   ]
  },
  {
   "cell_type": "code",
   "execution_count": 7,
   "id": "6901926f",
   "metadata": {},
   "outputs": [
    {
     "name": "stderr",
     "output_type": "stream",
     "text": [
      "INFO:root:finish save qmu_117_ideal_model_latest.pickle\n"
     ]
    },
    {
     "name": "stdout",
     "output_type": "stream",
     "text": [
      "You have built the QUBO model and saved it as ./qmu_117_ideal_model_latest.pickle\n"
     ]
    }
   ],
   "source": [
    "# save the model\n",
    "model_path = qmu_qubo.save(\"latest\")\n",
    "\n",
    "print(f\"You have built the QUBO model and saved it as {model_path}\")"
   ]
  },
  {
   "cell_type": "markdown",
   "id": "f390d8f5",
   "metadata": {},
   "source": [
    "# Step 3: Optimize Configuration"
   ]
  },
  {
   "cell_type": "code",
   "execution_count": 8,
   "id": "2ce1c8c2",
   "metadata": {},
   "outputs": [],
   "source": [
    "qmu_qubo_optimize = QMUQUBO.load(model_path)"
   ]
  },
  {
   "cell_type": "code",
   "execution_count": 9,
   "id": "9f44196e",
   "metadata": {},
   "outputs": [
    {
     "name": "stderr",
     "output_type": "stream",
     "text": [
      "INFO:root:method: pre-calc\n",
      "INFO:root:The model_name should be {M}_{D}_{A}_{hubo_qubo_val}\n",
      "INFO:root:param: M, value {2}\n",
      "INFO:root:param: D, value {8}\n",
      "INFO:root:param: A, value {300}\n",
      "INFO:root:param: hubo_qubo_val, value {200}\n"
     ]
    }
   ],
   "source": [
    "model_info = qmu_qubo_optimize.describe_model()"
   ]
  },
  {
   "cell_type": "code",
   "execution_count": 10,
   "id": "6236a224",
   "metadata": {},
   "outputs": [],
   "source": [
    "# get the model you want to optimize\n",
    "M = 2\n",
    "D = 8\n",
    "A = 300\n",
    "hubo_qubo_val = 200\n",
    "model_name = \"{}_{}_{}_{}\".format(M, D, A, hubo_qubo_val)\n",
    "method = \"pre-calc\"\n",
    "\n",
    "qubo_model = qmu_qubo_optimize.get_model(method, model_name)"
   ]
  },
  {
   "cell_type": "code",
   "execution_count": 11,
   "id": "ebcbe283",
   "metadata": {},
   "outputs": [
    {
     "name": "stderr",
     "output_type": "stream",
     "text": [
      "INFO:root:use simulated annealer from dimod\n"
     ]
    }
   ],
   "source": [
    "method = 'dwave-sa'\n",
    "\n",
    "optimizer_param = {}\n",
    "optimizer_param['shots'] = 1000\n",
    "\n",
    "sa_optimizer = Annealer(qubo_model, method, **optimizer_param)"
   ]
  },
  {
   "cell_type": "code",
   "execution_count": 12,
   "id": "d8b9cf23",
   "metadata": {},
   "outputs": [
    {
     "name": "stderr",
     "output_type": "stream",
     "text": [
      "INFO:root:fit() ...\n",
      "INFO:root:dwave-sa save to local\n",
      "INFO:root:finish save sa_result.pickle\n"
     ]
    }
   ],
   "source": [
    "sa_optimize_result = sa_optimizer.fit()"
   ]
  },
  {
   "cell_type": "code",
   "execution_count": 13,
   "id": "32257e1a",
   "metadata": {},
   "outputs": [
    {
     "name": "stderr",
     "output_type": "stream",
     "text": [
      "INFO:root:use quantum annealer arn:aws:braket:::device/qpu/d-wave/Advantage_system4 \n"
     ]
    }
   ],
   "source": [
    "method = 'dwave-qa'\n",
    "\n",
    "optimizer_param = {}\n",
    "optimizer_param['shots'] = 1000\n",
    "optimizer_param['bucket'] = s3_bucket # the name of the bucket\n",
    "optimizer_param['prefix'] = prefix # the name of the folder in the bucket\n",
    "optimizer_param['device'] = \"arn:aws:braket:::device/qpu/d-wave/Advantage_system4\"\n",
    "optimizer_param[\"embed_method\"] = \"default\"\n",
    "\n",
    "qa_optimizer = Annealer(qubo_model, method, **optimizer_param)"
   ]
  },
  {
   "cell_type": "code",
   "execution_count": 14,
   "id": "36f29bad",
   "metadata": {},
   "outputs": [
    {
     "name": "stderr",
     "output_type": "stream",
     "text": [
      "INFO:root:fit() ...\n",
      "INFO:root:finish save /tmp/qa_result.pickle\n",
      "INFO:root:_upload_result_json, bucket=amazon-braket-1a222675c751, key=annealer-experiment/89a59fa9-c66e-482d-85e0-6dfce8c54454/qa_result.pickle\n",
      "INFO:root:dwave-qa save to s3 - 89a59fa9-c66e-482d-85e0-6dfce8c54454: None\n"
     ]
    }
   ],
   "source": [
    "# not create annealing task, only embedding logic\n",
    "qa_optimizer.embed()\n",
    "# create annealing task\n",
    "qa_optimize_result = qa_optimizer.fit()"
   ]
  },
  {
   "cell_type": "code",
   "execution_count": 15,
   "id": "6dd2085c",
   "metadata": {},
   "outputs": [
    {
     "name": "stdout",
     "output_type": "stream",
     "text": [
      "task id is 89a59fa9-c66e-482d-85e0-6dfce8c54454\n"
     ]
    }
   ],
   "source": [
    "qa_task_id = qa_optimizer.get_task_id()\n",
    "print(f\"task id is {qa_task_id}\")"
   ]
  },
  {
   "cell_type": "code",
   "execution_count": 16,
   "id": "723be469",
   "metadata": {},
   "outputs": [
    {
     "name": "stdout",
     "output_type": "stream",
     "text": [
      "dwave-sa run time 175.73437476158142\n",
      "dwave-qa run time 7.57835578918457\n"
     ]
    }
   ],
   "source": [
    "print(f\"dwave-sa run time {sa_optimize_result['time']}\")\n",
    "print(f\"dwave-qa run time {qa_optimize_result['time']}\")"
   ]
  },
  {
   "cell_type": "markdown",
   "id": "76db6fc7",
   "metadata": {},
   "source": [
    "# Step 4: PostProcess Result"
   ]
  },
  {
   "cell_type": "code",
   "execution_count": 17,
   "id": "054ff742",
   "metadata": {},
   "outputs": [],
   "source": [
    "from utility.ResultProcess import ResultParser\n",
    "import time\n",
    "\n",
    "timestamp = time.strftime(\"%Y%m%d-%H\")"
   ]
  },
  {
   "cell_type": "code",
   "execution_count": 18,
   "id": "b6ae63e5",
   "metadata": {},
   "outputs": [
    {
     "name": "stderr",
     "output_type": "stream",
     "text": [
      "INFO:root:_load_raw_result\n",
      "INFO:root:load simulated annealer raw result\n",
      "INFO:root:MoleculeData.load()\n",
      "INFO:root:init mol data for final position\n",
      "INFO:root:init mol data for raw position\n",
      "INFO:root:_parse_model_info\n",
      "INFO:root:_init_parameters\n",
      "INFO:root:parse simulated annealer result\n",
      "INFO:root:sa only has local_time!\n"
     ]
    },
    {
     "name": "stdout",
     "output_type": "stream",
     "text": [
      "time for dwave-sa: \n",
      "     local time is 175.73437476158142\n"
     ]
    }
   ],
   "source": [
    "method = \"dwave-sa\"\n",
    "sa_param = {}\n",
    "sa_param[\"raw_path\"] = raw_path\n",
    "sa_param[\"data_path\"] = data_path\n",
    "\n",
    "sa_process_result = ResultParser(method, **sa_param)\n",
    "# print(f\"{method} result is {sa_process_result.get_all_result()}\")\n",
    "\n",
    "local_time, _ , _, _= sa_process_result.get_time()\n",
    "\n",
    "print(f\"time for {method}: \\n \\\n",
    "    local time is {local_time}\")"
   ]
  },
  {
   "cell_type": "code",
   "execution_count": 19,
   "id": "0049b852",
   "metadata": {},
   "outputs": [
    {
     "name": "stderr",
     "output_type": "stream",
     "text": [
      "INFO:root:generate_optimize_pts()\n",
      "INFO:numexpr.utils:NumExpr defaulting to 2 threads.\n",
      "INFO:root:save_mol_file 20220216-06\n",
      "INFO:root:finish save ./molecule-data/117_ideal_dwave-sa_20220216-06.mol2 and ./molecule-data/117_ideal_dwave-sa_20220216-06.json\n"
     ]
    },
    {
     "data": {
      "text/plain": [
       "['./molecule-data/117_ideal_dwave-sa_20220216-06.mol2',\n",
       " './molecule-data/117_ideal_dwave-sa_20220216-06.json']"
      ]
     },
     "execution_count": 19,
     "metadata": {},
     "output_type": "execute_result"
    }
   ],
   "source": [
    "sa_atom_pos_data = sa_process_result.generate_optimize_pts()\n",
    "# save unfold file for visualization and parameters for experiment: 1. volume value 2. relative improvement\n",
    "sa_process_result.save_mol_file(f\"{timestamp}\")\n"
   ]
  },
  {
   "cell_type": "code",
   "execution_count": 20,
   "id": "639f2b55",
   "metadata": {},
   "outputs": [
    {
     "data": {
      "text/plain": [
       "{'volume': {'optimize': 18.9423642473021,\n",
       "  'initial': 18.549876807564765,\n",
       "  'gain': 1.0211584930621898,\n",
       "  'unfolding_results': ['x_15_7', 'x_14_8']}}"
      ]
     },
     "execution_count": 20,
     "metadata": {},
     "output_type": "execute_result"
    }
   ],
   "source": [
    "sa_process_result.parameters"
   ]
  },
  {
   "cell_type": "code",
   "execution_count": 21,
   "id": "c94944c7",
   "metadata": {},
   "outputs": [
    {
     "name": "stderr",
     "output_type": "stream",
     "text": [
      "INFO:root:_load_raw_result\n",
      "INFO:root:load quantum annealer raw result\n",
      "INFO:root:_read_result_obj\n",
      "INFO:root:_read_result_obj: annealer-experiment/89a59fa9-c66e-482d-85e0-6dfce8c54454/qa_result.pickle\n",
      "INFO:root:MoleculeData.load()\n",
      "INFO:root:init mol data for final position\n",
      "INFO:root:init mol data for raw position\n",
      "INFO:root:_parse_model_info\n",
      "INFO:root:_init_parameters\n",
      "INFO:root:parse quantum annealer result\n",
      "INFO:root:_read_result_obj\n",
      "INFO:root:_read_result_obj: annealer-experiment/89a59fa9-c66e-482d-85e0-6dfce8c54454/results.json\n"
     ]
    },
    {
     "name": "stdout",
     "output_type": "stream",
     "text": [
      "time for dwave-qa: \n",
      "     local time is 7.57835578918457,\n",
      "     task time is 1.89, \n",
      "     qpu total time is 0.142533, \n",
      "     qpu access time is 0.124129\n"
     ]
    }
   ],
   "source": [
    "method = \"dwave-qa\"\n",
    "qa_param = {}\n",
    "qa_param[\"bucket\"] = s3_bucket\n",
    "qa_param[\"prefix\"] = prefix\n",
    "qa_param[\"task_id\"] = qa_task_id\n",
    "qa_param[\"raw_path\"] = raw_path\n",
    "qa_param[\"data_path\"] = data_path\n",
    "\n",
    "qa_process_result = ResultParser(method, **qa_param)\n",
    "# print(f\"{method} result is {qa_process_result.get_all_result()}\")\n",
    "\n",
    "local_time, task_time, total_time, access_time = qa_process_result.get_time()\n",
    "\n",
    "print(f\"time for {method}: \\n \\\n",
    "    local time is {local_time},\\n \\\n",
    "    task time is {task_time}, \\n \\\n",
    "    qpu total time is {total_time}, \\n \\\n",
    "    qpu access time is {access_time}\")"
   ]
  },
  {
   "cell_type": "code",
   "execution_count": 22,
   "id": "2063eb59",
   "metadata": {},
   "outputs": [
    {
     "name": "stderr",
     "output_type": "stream",
     "text": [
      "INFO:root:generate_optimize_pts()\n",
      "INFO:root:save_mol_file 20220216-06\n",
      "INFO:root:finish save ./molecule-data/117_ideal_dwave-qa_20220216-06.mol2 and ./molecule-data/117_ideal_dwave-qa_20220216-06.json\n"
     ]
    },
    {
     "data": {
      "text/plain": [
       "['./molecule-data/117_ideal_dwave-qa_20220216-06.mol2',\n",
       " './molecule-data/117_ideal_dwave-qa_20220216-06.json']"
      ]
     },
     "execution_count": 22,
     "metadata": {},
     "output_type": "execute_result"
    }
   ],
   "source": [
    "qa_atom_pos_data = qa_process_result.generate_optimize_pts()\n",
    "# save unfold file for visualization and parameters for experiment: 1. volume value 2. relative improvement\n",
    "qa_process_result.save_mol_file(f\"{timestamp}\")"
   ]
  },
  {
   "cell_type": "code",
   "execution_count": 23,
   "id": "e286d569",
   "metadata": {},
   "outputs": [
    {
     "data": {
      "text/plain": [
       "{'volume': {'optimize': 18.9423642473021,\n",
       "  'initial': 18.549876807564765,\n",
       "  'gain': 1.0211584930621898,\n",
       "  'unfolding_results': ['x_15_7', 'x_14_8']}}"
      ]
     },
     "execution_count": 23,
     "metadata": {},
     "output_type": "execute_result"
    }
   ],
   "source": [
    "qa_process_result.parameters"
   ]
  }
 ],
 "metadata": {
  "interpreter": {
   "hash": "18f113ef20d2e5656a0bc837e6c476bd436e29840b6ed1847ecdb90743164c58"
  },
  "kernelspec": {
   "display_name": "conda_braket",
   "language": "python",
   "name": "conda_braket"
  },
  "language_info": {
   "codemirror_mode": {
    "name": "ipython",
    "version": 3
   },
   "file_extension": ".py",
   "mimetype": "text/x-python",
   "name": "python",
   "nbconvert_exporter": "python",
   "pygments_lexer": "ipython3",
   "version": "3.7.11"
  }
 },
 "nbformat": 4,
 "nbformat_minor": 5
}
