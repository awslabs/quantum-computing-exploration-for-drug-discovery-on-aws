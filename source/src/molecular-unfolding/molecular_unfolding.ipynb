{
 "cells": [
  {
   "cell_type": "code",
   "execution_count": null,
   "id": "3aaff57b",
   "metadata": {},
   "outputs": [],
   "source": [
    "!pip install biopandas\n",
    "!pip install py3Dmol\n",
    "!pip install ipywidgets\n"
   ]
  },
  {
   "cell_type": "code",
   "execution_count": 156,
   "id": "9817981b",
   "metadata": {},
   "outputs": [],
   "source": [
    "!rm qmu*\n"
   ]
  },
  {
   "cell_type": "code",
   "execution_count": 2,
   "id": "89cb7d1e",
   "metadata": {},
   "outputs": [
    {
     "name": "stderr",
     "output_type": "stream",
     "text": [
      "2022-03-21 03:43:15,781 dwave.cloud INFO MainThread Log level for 'dwave.cloud' namespace set to 0\n"
     ]
    }
   ],
   "source": [
    "import networkx as nx\n",
    "from utility.MoleculeParser import MoleculeData\n",
    "from utility.QMUQUBO import QMUQUBO\n",
    "from utility.AnnealerOptimizer import Annealer\n",
    "from utility.ResultProcess import ResultParser\n",
    "import time\n",
    "\n",
    "timestamp = time.strftime(\"%Y%m%d-%H\")\n",
    "%matplotlib inline\n"
   ]
  },
  {
   "cell_type": "code",
   "execution_count": 3,
   "id": "ca9745ac",
   "metadata": {},
   "outputs": [
    {
     "name": "stderr",
     "output_type": "stream",
     "text": [
      "INFO:root:parse mol2 file!\n",
      "INFO:root:finish save qmu_Aspirin_data_latest.pickle\n"
     ]
    },
    {
     "name": "stdout",
     "output_type": "stream",
     "text": [
      "You have loaded the raw molecule data and saved as ./qmu_Aspirin_data_latest.pickle. \n",
      "This molecule has 4 rotable bond\n"
     ]
    }
   ],
   "source": [
    "# initial parameters for experiment data\n",
    "s3_bucket = f\"amazon-braket-1a222675c751\" # the name of the bucket\n",
    "prefix = \"annealer-experiment\" # the name of the folder in the bucket\n",
    "\n",
    "raw_path = './molecule-data/Aspirin.mol2' # the mol2 file for this experiment\n",
    "\n",
    "mol_data = MoleculeData(raw_path, 'qmu')\n",
    "\n",
    "data_path = mol_data.save(\"latest\")\n",
    "\n",
    "num_rotation_bond = mol_data.bond_graph.rb_num\n",
    "print(f\"You have loaded the raw molecule data and saved as {data_path}. \\n\\\n",
    "This molecule has {num_rotation_bond} rotable bond\")\n"
   ]
  },
  {
   "cell_type": "code",
   "execution_count": 4,
   "id": "1d29c571",
   "metadata": {},
   "outputs": [
    {
     "name": "stderr",
     "output_type": "stream",
     "text": [
      "INFO:root:initial pre-calculate for constructing molecule QUBO\n"
     ]
    }
   ],
   "source": [
    "# initial the QMUQUBO object\n",
    "init_param = {}\n",
    "method = ['pre-calc']\n",
    "\n",
    "for mt in method:\n",
    "    if mt == 'pre-calc':\n",
    "        init_param[mt] = {}\n",
    "        init_param[mt]['param'] = ['M', 'D', 'A', 'hubo_qubo_val']\n",
    "    \n",
    "qmu_qubo = QMUQUBO(mol_data, method, **init_param)"
   ]
  },
  {
   "cell_type": "code",
   "execution_count": 52,
   "id": "1cadd4da",
   "metadata": {},
   "outputs": [
    {
     "name": "stderr",
     "output_type": "stream",
     "text": [
      "INFO:root:Construct model for M:2,D:2,A:300,hubo_qubo_val:200 0.0001537044843037923 min\n",
      "INFO:root:Construct model for M:2,D:2,A:600,hubo_qubo_val:200 0.00011076529820760091 min\n",
      "INFO:root:Construct model for M:2,D:2,A:900,hubo_qubo_val:200 0.0001319567362467448 min\n",
      "INFO:root:Construct model for M:2,D:4,A:300,hubo_qubo_val:200 0.0010620554288228352 min\n",
      "INFO:root:Construct model for M:2,D:4,A:600,hubo_qubo_val:200 0.0005726734797159831 min\n",
      "INFO:root:Construct model for M:2,D:4,A:900,hubo_qubo_val:200 0.0005127747853597005 min\n",
      "INFO:root:Construct model for M:2,D:8,A:300,hubo_qubo_val:200 0.0013926148414611817 min\n",
      "INFO:root:Construct model for M:2,D:8,A:600,hubo_qubo_val:200 0.0013730486234029135 min\n",
      "INFO:root:Construct model for M:2,D:8,A:900,hubo_qubo_val:200 0.00160750945409139 min\n",
      "INFO:root:Construct model for M:3,D:2,A:300,hubo_qubo_val:200 0.000499876340230306 min\n",
      "INFO:root:Construct model for M:3,D:2,A:600,hubo_qubo_val:200 0.00040566126505533855 min\n",
      "INFO:root:Construct model for M:3,D:2,A:900,hubo_qubo_val:200 0.00041474501291910806 min\n",
      "INFO:root:Construct model for M:3,D:4,A:300,hubo_qubo_val:200 0.0024223566055297852 min\n",
      "INFO:root:Construct model for M:3,D:4,A:600,hubo_qubo_val:200 0.002596739927927653 min\n",
      "INFO:root:Construct model for M:3,D:4,A:900,hubo_qubo_val:200 0.0022076169649759927 min\n",
      "INFO:root:Construct model for M:3,D:8,A:300,hubo_qubo_val:200 0.014162758986155191 min\n",
      "INFO:root:Construct model for M:3,D:8,A:600,hubo_qubo_val:200 0.013050381342569988 min\n",
      "INFO:root:Construct model for M:3,D:8,A:900,hubo_qubo_val:200 0.013036108016967774 min\n"
     ]
    },
    {
     "data": {
      "text/plain": [
       "0"
      ]
     },
     "execution_count": 52,
     "metadata": {},
     "output_type": "execute_result"
    }
   ],
   "source": [
    "# set the parameters for model\n",
    "model_param = {}\n",
    "# parameters\n",
    "num_rotation_bond = mol_data.bond_graph.rb_num\n",
    "\n",
    "method = 'pre-calc'\n",
    "model_param[method] = {}\n",
    "# model_param[method]['M'] = range(1, num_rotation_bond+1)\n",
    "model_param[method]['M'] = [2]\n",
    "model_param[method]['D'] = [8]\n",
    "model_param[method]['A'] = [300,600,900]\n",
    "model_param[method]['hubo_qubo_val'] = [200]\n",
    "\n",
    "qmu_qubo.build_model(**model_param)"
   ]
  },
  {
   "cell_type": "code",
   "execution_count": 53,
   "id": "687d378b",
   "metadata": {},
   "outputs": [
    {
     "data": {
      "text/plain": [
       "{'M': {2, 3}, 'D': {2, 4, 8}, 'A': {300, 600, 900}, 'hubo_qubo_val': {200}}"
      ]
     },
     "execution_count": 53,
     "metadata": {},
     "output_type": "execute_result"
    }
   ],
   "source": [
    "qmu_qubo.model_info[method]"
   ]
  },
  {
   "cell_type": "code",
   "execution_count": 54,
   "id": "afe22283",
   "metadata": {},
   "outputs": [
    {
     "name": "stderr",
     "output_type": "stream",
     "text": [
      "INFO:root:finish save qmu_Raloxifene_model_latest.pickle\n"
     ]
    },
    {
     "name": "stdout",
     "output_type": "stream",
     "text": [
      "You have built the QUBO model and saved it as ./qmu_Raloxifene_model_latest.pickle\n"
     ]
    }
   ],
   "source": [
    "# save the model\n",
    "model_path = qmu_qubo.save(\"latest\")\n",
    "\n",
    "print(f\"You have built the QUBO model and saved it as {model_path}\")"
   ]
  },
  {
   "cell_type": "code",
   "execution_count": 55,
   "id": "a7b5f602",
   "metadata": {},
   "outputs": [],
   "source": [
    "qmu_qubo_optimize = QMUQUBO.load(model_path)"
   ]
  },
  {
   "cell_type": "code",
   "execution_count": 56,
   "id": "5feb7fd8",
   "metadata": {},
   "outputs": [],
   "source": [
    "# get the model you want to optimize\n",
    "M = 3\n",
    "D = 8\n",
    "A = 900\n",
    "hubo_qubo_val = 200\n",
    "model_name = \"{}_{}_{}_{}\".format(M, D, A, hubo_qubo_val)\n",
    "method = \"pre-calc\"\n",
    "\n",
    "qubo_model = qmu_qubo_optimize.get_model(method, model_name)"
   ]
  },
  {
   "cell_type": "code",
   "execution_count": 57,
   "id": "77b5d58d",
   "metadata": {},
   "outputs": [
    {
     "name": "stderr",
     "output_type": "stream",
     "text": [
      "INFO:root:method: pre-calc\n",
      "INFO:root:The model_name should be {M}_{D}_{A}_{hubo_qubo_val}\n",
      "INFO:root:param: M, value {2, 3}\n",
      "INFO:root:param: D, value {8, 2, 4}\n",
      "INFO:root:param: A, value {600, 900, 300}\n",
      "INFO:root:param: hubo_qubo_val, value {200}\n"
     ]
    },
    {
     "data": {
      "text/plain": [
       "{'pre-calc': {'M': {2, 3},\n",
       "  'D': {2, 4, 8},\n",
       "  'A': {300, 600, 900},\n",
       "  'hubo_qubo_val': {200}}}"
      ]
     },
     "execution_count": 57,
     "metadata": {},
     "output_type": "execute_result"
    }
   ],
   "source": [
    "qmu_qubo_optimize.describe_model()"
   ]
  },
  {
   "cell_type": "code",
   "execution_count": 58,
   "id": "9bdc51da",
   "metadata": {},
   "outputs": [
    {
     "name": "stderr",
     "output_type": "stream",
     "text": [
      "INFO:root:use quantum annealer arn:aws:braket:::device/qpu/d-wave/Advantage_system4 \n"
     ]
    }
   ],
   "source": [
    "method = 'dwave-qa'\n",
    "\n",
    "optimizer_param = {}\n",
    "optimizer_param['shots'] = 10000\n",
    "optimizer_param['bucket'] = s3_bucket # the name of the bucket\n",
    "optimizer_param['prefix'] = prefix # the name of the folder in the bucket\n",
    "optimizer_param['device'] = \"arn:aws:braket:::device/qpu/d-wave/Advantage_system4\"\n",
    "optimizer_param[\"embed_method\"] = \"default\"\n",
    "\n",
    "qa_optimizer = Annealer(qubo_model, method, **optimizer_param)"
   ]
  },
  {
   "cell_type": "code",
   "execution_count": 59,
   "id": "0b4febdb",
   "metadata": {},
   "outputs": [
    {
     "name": "stderr",
     "output_type": "stream",
     "text": [
      "INFO:root:fit() ...\n",
      "INFO:root:finish save /tmp/qa_result.pickle\n",
      "INFO:root:_upload_result_json, bucket=amazon-braket-1a222675c751, key=annealer-experiment/641d37df-08d8-437f-875f-9baafb530b6c/qa_result.pickle\n",
      "INFO:root:dwave-qa save to s3 - 641d37df-08d8-437f-875f-9baafb530b6c: None\n"
     ]
    }
   ],
   "source": [
    "# not create annealing task, only embedding logic\n",
    "qa_optimizer.embed()\n",
    "# create annealing task\n",
    "qa_optimize_result = qa_optimizer.fit()"
   ]
  },
  {
   "cell_type": "code",
   "execution_count": 60,
   "id": "ed37d111",
   "metadata": {},
   "outputs": [
    {
     "name": "stdout",
     "output_type": "stream",
     "text": [
      "task id is 641d37df-08d8-437f-875f-9baafb530b6c\n"
     ]
    }
   ],
   "source": [
    "qa_task_id = qa_optimizer.get_task_id()\n",
    "print(f\"task id is {qa_task_id}\")"
   ]
  },
  {
   "cell_type": "markdown",
   "id": "69669e20",
   "metadata": {},
   "source": [
    "# develop post-process"
   ]
  },
  {
   "cell_type": "code",
   "execution_count": 76,
   "id": "ac149d92",
   "metadata": {},
   "outputs": [
    {
     "name": "stdout",
     "output_type": "stream",
     "text": [
      "The autoreload extension is already loaded. To reload it, use:\n",
      "  %reload_ext autoreload\n"
     ]
    }
   ],
   "source": [
    "import networkx as nx\n",
    "from utility.MoleculeParser import MoleculeData\n",
    "from utility.QMUQUBO import QMUQUBO\n",
    "from utility.AnnealerOptimizer import Annealer\n",
    "from utility.ResultProcess import ResultParser\n",
    "from utility.MolGeoCalc import update_pts_distance\n",
    "import time\n",
    "import numpy as np\n",
    "\n",
    "timestamp = time.strftime(\"%Y%m%d-%H\")\n",
    "%matplotlib inline\n",
    "\n",
    "%load_ext autoreload\n",
    "%autoreload 2"
   ]
  },
  {
   "cell_type": "code",
   "execution_count": 69,
   "id": "a4c176f9",
   "metadata": {},
   "outputs": [],
   "source": [
    "s3_bucket = f\"amazon-braket-1a222675c751\" # the name of the bucket\n",
    "prefix = \"annealer-experiment\" # the name of the folder in the bucket\n",
    "raw_path = './molecule-data/Raloxifene.mol2' # the mol2 file for this experiment\n",
    "data_path = './qmu_Raloxifene_data_latest.pickle'\n",
    "qa_task_id = 'f36f2d37-194b-4e27-b356-5a992208682a'"
   ]
  },
  {
   "cell_type": "code",
   "execution_count": 80,
   "id": "414f9f35",
   "metadata": {},
   "outputs": [
    {
     "name": "stderr",
     "output_type": "stream",
     "text": [
      "INFO:root:_load_raw_result\n",
      "INFO:root:load simulated annealer raw result\n",
      "INFO:root:MoleculeData.load()\n",
      "INFO:root:init mol data for final position\n",
      "INFO:root:init mol data for raw position\n",
      "INFO:root:_parse_model_info\n",
      "INFO:root:_init_parameters\n",
      "INFO:root:parse simulated annealer result\n",
      "INFO:root:sa only has local_time!\n",
      "INFO:root:generate_optimize_pts()\n",
      "INFO:root:var_dict_raw {'2': ['8'], '1': ['3']} var_dict_list [{'2': '8', '1': '3'}]\n",
      "INFO:root:chosen var {'x_2_8', 'x_1_3'}\n",
      "INFO:root:tor list {'X_1_3', 'X_2_8'}\n",
      "INFO:root:initial 19.428942238885774\n",
      "INFO:root:optimize 20.0027208292153\n",
      "INFO:root:optimize_gain 1.0295321579154806\n",
      "INFO:root:start physical check\n",
      "INFO:root:fail at 21 to 44\n",
      "INFO:root:physical check not pass!\n",
      "INFO:root:var_dict_raw {'2': ['7'], '1': ['3']} var_dict_list [{'2': '7', '1': '3'}]\n",
      "INFO:root:chosen var {'x_2_7', 'x_1_3'}\n",
      "INFO:root:tor list {'X_1_3', 'X_2_7'}\n",
      "INFO:root:initial 19.428942238885774\n",
      "INFO:root:optimize 19.98779602315115\n",
      "INFO:root:optimize_gain 1.0287639840292935\n",
      "INFO:root:start physical check\n"
     ]
    },
    {
     "name": "stdout",
     "output_type": "stream",
     "text": [
      "time for dwave-sa: \n",
      "     local time is 191.14558362960815\n"
     ]
    },
    {
     "name": "stderr",
     "output_type": "stream",
     "text": [
      "INFO:root:save_mol_file 20220323-02\n",
      "INFO:root:finish save ./molecule-data/Raloxifene_dwave-sa_20220323-02.mol2 and ./molecule-data/Raloxifene_dwave-sa_20220323-02.json\n"
     ]
    },
    {
     "data": {
      "text/plain": [
       "['./molecule-data/Raloxifene_dwave-sa_20220323-02.mol2',\n",
       " './molecule-data/Raloxifene_dwave-sa_20220323-02.json']"
      ]
     },
     "execution_count": 80,
     "metadata": {},
     "output_type": "execute_result"
    }
   ],
   "source": [
    "method = \"dwave-sa\"\n",
    "sa_param = {}\n",
    "sa_param[\"raw_path\"] = raw_path\n",
    "sa_param[\"data_path\"] = data_path\n",
    "\n",
    "sa_process_result = ResultParser(method, **sa_param)\n",
    "# print(f\"{method} result is {sa_process_result.get_all_result()}\")\n",
    "\n",
    "local_time, _ , _, _= sa_process_result.get_time()\n",
    "\n",
    "print(f\"time for {method}: \\n \\\n",
    "    local time is {local_time}\")\n",
    "\n",
    "sa_atom_pos_data = sa_process_result.generate_optimize_pts()\n",
    "# save unfold file for visualization and parameters for experiment: 1. volume value 2. relative improvement\n",
    "sa_process_result.save_mol_file(f\"{timestamp}\")"
   ]
  },
  {
   "cell_type": "code",
   "execution_count": 81,
   "id": "a32fac5a",
   "metadata": {},
   "outputs": [
    {
     "data": {
      "text/plain": [
       "{'volume': {'optimize': 19.98779602315115,\n",
       "  'initial': 19.428942238885774,\n",
       "  'gain': 1.0287639840292935,\n",
       "  'unfolding_results': ['X_1_3', 'X_2_7'],\n",
       "  'annealing_results': ['x_2_7', 'x_1_3'],\n",
       "  'optimize_info': {'optimize_state': True, 'result_rank': 38}}}"
      ]
     },
     "execution_count": 81,
     "metadata": {},
     "output_type": "execute_result"
    }
   ],
   "source": [
    "sa_process_result.parameters"
   ]
  },
  {
   "cell_type": "code",
   "execution_count": 82,
   "id": "c3034db8",
   "metadata": {},
   "outputs": [
    {
     "name": "stderr",
     "output_type": "stream",
     "text": [
      "INFO:root:_load_raw_result\n",
      "INFO:root:load quantum annealer raw result\n",
      "INFO:root:_read_result_obj\n",
      "INFO:root:_read_result_obj: annealer-experiment/f36f2d37-194b-4e27-b356-5a992208682a/qa_result.pickle\n",
      "INFO:root:MoleculeData.load()\n",
      "INFO:root:init mol data for final position\n",
      "INFO:root:init mol data for raw position\n",
      "INFO:root:_parse_model_info\n",
      "INFO:root:_init_parameters\n",
      "INFO:root:parse quantum annealer result\n",
      "INFO:root:_read_result_obj\n",
      "INFO:root:_read_result_obj: annealer-experiment/f36f2d37-194b-4e27-b356-5a992208682a/results.json\n"
     ]
    },
    {
     "name": "stdout",
     "output_type": "stream",
     "text": [
      "time for dwave-qa: \n",
      "     local time is 36.65629982948303,\n",
      "     task time is 5.957, \n",
      "     qpu total time is 0.125141, \n",
      "     qpu access time is 0.112786\n"
     ]
    }
   ],
   "source": [
    "method = \"dwave-qa\"\n",
    "qa_param = {}\n",
    "qa_param[\"bucket\"] = s3_bucket\n",
    "qa_param[\"prefix\"] = prefix\n",
    "qa_param[\"task_id\"] = qa_task_id\n",
    "qa_param[\"raw_path\"] = raw_path\n",
    "qa_param[\"data_path\"] = data_path\n",
    "\n",
    "qa_process_result = ResultParser(method, **qa_param)\n",
    "# print(f\"{method} result is {qa_process_result.get_all_result()}\")\n",
    "\n",
    "local_time, task_time, total_time, access_time = qa_process_result.get_time()\n",
    "\n",
    "print(f\"time for {method}: \\n \\\n",
    "    local time is {local_time},\\n \\\n",
    "    task time is {task_time}, \\n \\\n",
    "    qpu total time is {total_time}, \\n \\\n",
    "    qpu access time is {access_time}\")"
   ]
  },
  {
   "cell_type": "code",
   "execution_count": 83,
   "id": "e9493171",
   "metadata": {},
   "outputs": [
    {
     "name": "stderr",
     "output_type": "stream",
     "text": [
      "INFO:root:generate_optimize_pts()\n",
      "INFO:root:var_dict_raw {'1': ['4'], '11': ['3'], '2': ['1']} var_dict_list [{'1': '4', '11': '3', '2': '1'}]\n",
      "INFO:root:chosen var {'x_1_4', 'x_11_3', 'x_2_1'}\n",
      "INFO:root:tor list {'X_2_1', 'X_11_3', 'X_1_4'}\n",
      "INFO:root:initial 38.720006500112945\n",
      "INFO:root:optimize 33.94131981470079\n",
      "INFO:root:optimize_gain 0.8765835257440306\n",
      "INFO:root:var_dict_raw {'1': ['5'], '11': ['5'], '2': ['1', '2', '3', '4', '5', '6', '7', '8']} var_dict_list [{'1': '5', '11': '5', '2': '1'}, {'1': '5', '11': '5', '2': '2'}, {'1': '5', '11': '5', '2': '3'}, {'1': '5', '11': '5', '2': '4'}, {'1': '5', '11': '5', '2': '5'}, {'1': '5', '11': '5', '2': '6'}, {'1': '5', '11': '5', '2': '7'}, {'1': '5', '11': '5', '2': '8'}]\n",
      "INFO:root:chosen var {'x_1_5', 'x_11_5'}\n",
      "INFO:root:tor list {'X_2_1', 'X_1_5', 'X_11_5'}\n",
      "INFO:root:initial 38.720006500112945\n",
      "INFO:root:optimize 30.018720063623288\n",
      "INFO:root:optimize_gain 0.7752767309978558\n",
      "INFO:root:chosen var {'x_1_5', 'x_11_5'}\n",
      "INFO:root:tor list {'X_1_5', 'X_2_2', 'X_11_5'}\n",
      "INFO:root:initial 38.720006500112945\n",
      "INFO:root:optimize 29.881747932408256\n",
      "INFO:root:optimize_gain 0.7717392282028954\n",
      "INFO:root:chosen var {'x_1_5', 'x_11_5'}\n",
      "INFO:root:tor list {'X_1_5', 'X_2_3', 'X_11_5'}\n",
      "INFO:root:initial 38.720006500112945\n",
      "INFO:root:optimize 29.220769472517695\n",
      "INFO:root:optimize_gain 0.7546685063813835\n",
      "INFO:root:chosen var {'x_1_5', 'x_11_5'}\n",
      "INFO:root:tor list {'X_2_4', 'X_1_5', 'X_11_5'}\n",
      "INFO:root:initial 38.720006500112945\n",
      "INFO:root:optimize 28.348137017536704\n",
      "INFO:root:optimize_gain 0.7321315149431603\n",
      "INFO:root:chosen var {'x_1_5', 'x_11_5'}\n",
      "INFO:root:tor list {'X_2_5', 'X_1_5', 'X_11_5'}\n",
      "INFO:root:initial 38.720006500112945\n",
      "INFO:root:optimize 27.774907199592832\n",
      "INFO:root:optimize_gain 0.7173270283286707\n",
      "INFO:root:chosen var {'x_1_5', 'x_11_5'}\n",
      "INFO:root:tor list {'X_2_6', 'X_1_5', 'X_11_5'}\n",
      "INFO:root:initial 38.720006500112945\n",
      "INFO:root:optimize 27.93788812855729\n",
      "INFO:root:optimize_gain 0.7215362458287758\n",
      "INFO:root:chosen var {'x_1_5', 'x_11_5'}\n",
      "INFO:root:tor list {'X_1_5', 'X_2_7', 'X_11_5'}\n",
      "INFO:root:initial 38.720006500112945\n",
      "INFO:root:optimize 28.7170822505055\n",
      "INFO:root:optimize_gain 0.7416600575834544\n",
      "INFO:root:chosen var {'x_1_5', 'x_11_5'}\n",
      "INFO:root:tor list {'X_1_5', 'X_2_8', 'X_11_5'}\n",
      "INFO:root:initial 38.720006500112945\n",
      "INFO:root:optimize 29.564884136939476\n",
      "INFO:root:optimize_gain 0.7635557637846274\n",
      "INFO:root:var_dict_raw {'11': ['5'], '1': ['4'], '2': ['1']} var_dict_list [{'11': '5', '1': '4', '2': '1'}]\n",
      "INFO:root:chosen var {'x_11_5', 'x_1_4', 'x_2_1'}\n",
      "INFO:root:tor list {'X_1_4', 'X_2_1', 'X_11_5'}\n",
      "INFO:root:initial 38.720006500112945\n",
      "INFO:root:optimize 30.493269435560794\n",
      "INFO:root:optimize_gain 0.7875326528024175\n",
      "INFO:root:var_dict_raw {'1': ['4'], '2': ['1'], '11': ['1', '2', '3', '4', '5', '6', '7', '8']} var_dict_list [{'1': '4', '2': '1', '11': '1'}, {'1': '4', '2': '1', '11': '2'}, {'1': '4', '2': '1', '11': '3'}, {'1': '4', '2': '1', '11': '4'}, {'1': '4', '2': '1', '11': '5'}, {'1': '4', '2': '1', '11': '6'}, {'1': '4', '2': '1', '11': '7'}, {'1': '4', '2': '1', '11': '8'}]\n",
      "INFO:root:chosen var {'x_1_4', 'x_2_1'}\n",
      "INFO:root:tor list {'X_11_1', 'X_2_1', 'X_1_4'}\n",
      "INFO:root:initial 38.720006500112945\n",
      "INFO:root:optimize 39.25773116381947\n",
      "INFO:root:optimize_gain 1.013887514809817\n",
      "INFO:root:start physical check\n",
      "INFO:root:chosen var {'x_1_4', 'x_2_1'}\n",
      "INFO:root:tor list {'X_2_1', 'X_11_2', 'X_1_4'}\n",
      "INFO:root:initial 38.720006500112945\n",
      "INFO:root:optimize 37.450585906595954\n",
      "INFO:root:optimize_gain 0.9672153827372605\n",
      "INFO:root:chosen var {'x_1_4', 'x_2_1'}\n",
      "INFO:root:tor list {'X_2_1', 'X_11_3', 'X_1_4'}\n",
      "INFO:root:pass current duplicate var\n",
      "INFO:root:chosen var {'x_1_4', 'x_2_1'}\n",
      "INFO:root:tor list {'X_11_4', 'X_2_1', 'X_1_4'}\n",
      "INFO:root:initial 38.720006500112945\n",
      "INFO:root:optimize 30.78870264163139\n",
      "INFO:root:optimize_gain 0.7951626413477378\n",
      "INFO:root:chosen var {'x_1_4', 'x_2_1'}\n",
      "INFO:root:tor list {'X_11_5', 'X_2_1', 'X_1_4'}\n",
      "INFO:root:initial 38.720006500112945\n",
      "INFO:root:optimize 30.493269435560794\n",
      "INFO:root:optimize_gain 0.7875326528024175\n",
      "INFO:root:chosen var {'x_1_4', 'x_2_1'}\n",
      "INFO:root:tor list {'X_2_1', 'X_11_6', 'X_1_4'}\n",
      "INFO:root:initial 38.720006500112945\n",
      "INFO:root:optimize 32.77751158458308\n",
      "INFO:root:optimize_gain 0.8465265000533373\n",
      "INFO:root:chosen var {'x_1_4', 'x_2_1'}\n",
      "INFO:root:tor list {'X_11_7', 'X_2_1', 'X_1_4'}\n",
      "INFO:root:initial 38.720006500112945\n",
      "INFO:root:optimize 36.083013660447094\n",
      "INFO:root:optimize_gain 0.9318958575159806\n",
      "INFO:root:chosen var {'x_1_4', 'x_2_1'}\n",
      "INFO:root:tor list {'X_11_8', 'X_2_1', 'X_1_4'}\n",
      "INFO:root:initial 38.720006500112945\n",
      "INFO:root:optimize 38.680498383028976\n",
      "INFO:root:optimize_gain 0.9989796459077595\n",
      "INFO:root:save_mol_file 20220323-02\n",
      "INFO:root:finish save ./molecule-data/Raloxifene_dwave-qa_20220323-02.mol2 and ./molecule-data/Raloxifene_dwave-qa_20220323-02.json\n"
     ]
    },
    {
     "data": {
      "text/plain": [
       "['./molecule-data/Raloxifene_dwave-qa_20220323-02.mol2',\n",
       " './molecule-data/Raloxifene_dwave-qa_20220323-02.json']"
      ]
     },
     "execution_count": 83,
     "metadata": {},
     "output_type": "execute_result"
    }
   ],
   "source": [
    "qa_atom_pos_data = qa_process_result.generate_optimize_pts()\n",
    "# save unfold file for visualization and parameters for experiment: 1. volume value 2. relative improvement\n",
    "qa_process_result.save_mol_file(f\"{timestamp}\")"
   ]
  },
  {
   "cell_type": "code",
   "execution_count": 84,
   "id": "e7247cb1",
   "metadata": {},
   "outputs": [
    {
     "data": {
      "text/plain": [
       "{'volume': {'optimize': 39.25773116381947,\n",
       "  'initial': 38.720006500112945,\n",
       "  'gain': 1.013887514809817,\n",
       "  'unfolding_results': ['X_11_1', 'X_2_1', 'X_1_4'],\n",
       "  'annealing_results': ['x_1_4', 'x_2_1'],\n",
       "  'optimize_info': {'optimize_state': True, 'result_rank': 260}}}"
      ]
     },
     "execution_count": 84,
     "metadata": {},
     "output_type": "execute_result"
    }
   ],
   "source": [
    "qa_process_result.parameters"
   ]
  },
  {
   "cell_type": "code",
   "execution_count": 84,
   "id": "fc02a556",
   "metadata": {},
   "outputs": [
    {
     "data": {
      "text/html": [
       "<div>\n",
       "<style scoped>\n",
       "    .dataframe tbody tr th:only-of-type {\n",
       "        vertical-align: middle;\n",
       "    }\n",
       "\n",
       "    .dataframe tbody tr th {\n",
       "        vertical-align: top;\n",
       "    }\n",
       "\n",
       "    .dataframe thead th {\n",
       "        text-align: right;\n",
       "    }\n",
       "</style>\n",
       "<table border=\"1\" class=\"dataframe\">\n",
       "  <thead>\n",
       "    <tr style=\"text-align: right;\">\n",
       "      <th></th>\n",
       "      <th>x_11_1</th>\n",
       "      <th>x_11_2</th>\n",
       "      <th>x_11_3</th>\n",
       "      <th>x_11_4</th>\n",
       "      <th>x_11_5</th>\n",
       "      <th>x_11_6</th>\n",
       "      <th>x_11_7</th>\n",
       "      <th>x_11_8</th>\n",
       "      <th>x_1_1</th>\n",
       "      <th>x_1_1*x_2_1</th>\n",
       "      <th>...</th>\n",
       "      <th>x_2_8</th>\n",
       "      <th>x_2_8*x_1_2</th>\n",
       "      <th>x_2_8*x_1_3</th>\n",
       "      <th>x_2_8*x_1_4</th>\n",
       "      <th>x_2_8*x_1_5</th>\n",
       "      <th>x_2_8*x_1_7</th>\n",
       "      <th>x_2_8*x_1_8</th>\n",
       "      <th>chain_break_fraction</th>\n",
       "      <th>energy</th>\n",
       "      <th>num_occurrences</th>\n",
       "    </tr>\n",
       "  </thead>\n",
       "  <tbody>\n",
       "    <tr>\n",
       "      <th>0</th>\n",
       "      <td>0</td>\n",
       "      <td>0</td>\n",
       "      <td>0</td>\n",
       "      <td>0</td>\n",
       "      <td>0</td>\n",
       "      <td>0</td>\n",
       "      <td>0</td>\n",
       "      <td>0</td>\n",
       "      <td>0</td>\n",
       "      <td>0</td>\n",
       "      <td>...</td>\n",
       "      <td>0</td>\n",
       "      <td>0</td>\n",
       "      <td>0</td>\n",
       "      <td>0</td>\n",
       "      <td>0</td>\n",
       "      <td>0</td>\n",
       "      <td>0</td>\n",
       "      <td>0.147727</td>\n",
       "      <td>-3.040442</td>\n",
       "      <td>8</td>\n",
       "    </tr>\n",
       "    <tr>\n",
       "      <th>4</th>\n",
       "      <td>0</td>\n",
       "      <td>0</td>\n",
       "      <td>0</td>\n",
       "      <td>0</td>\n",
       "      <td>0</td>\n",
       "      <td>0</td>\n",
       "      <td>0</td>\n",
       "      <td>0</td>\n",
       "      <td>0</td>\n",
       "      <td>0</td>\n",
       "      <td>...</td>\n",
       "      <td>0</td>\n",
       "      <td>0</td>\n",
       "      <td>0</td>\n",
       "      <td>0</td>\n",
       "      <td>0</td>\n",
       "      <td>0</td>\n",
       "      <td>0</td>\n",
       "      <td>0.147727</td>\n",
       "      <td>0.000000</td>\n",
       "      <td>2</td>\n",
       "    </tr>\n",
       "    <tr>\n",
       "      <th>3</th>\n",
       "      <td>0</td>\n",
       "      <td>0</td>\n",
       "      <td>0</td>\n",
       "      <td>0</td>\n",
       "      <td>0</td>\n",
       "      <td>0</td>\n",
       "      <td>0</td>\n",
       "      <td>0</td>\n",
       "      <td>0</td>\n",
       "      <td>0</td>\n",
       "      <td>...</td>\n",
       "      <td>0</td>\n",
       "      <td>0</td>\n",
       "      <td>0</td>\n",
       "      <td>0</td>\n",
       "      <td>0</td>\n",
       "      <td>0</td>\n",
       "      <td>0</td>\n",
       "      <td>0.147727</td>\n",
       "      <td>191.775623</td>\n",
       "      <td>2</td>\n",
       "    </tr>\n",
       "    <tr>\n",
       "      <th>2</th>\n",
       "      <td>0</td>\n",
       "      <td>0</td>\n",
       "      <td>0</td>\n",
       "      <td>0</td>\n",
       "      <td>0</td>\n",
       "      <td>0</td>\n",
       "      <td>0</td>\n",
       "      <td>0</td>\n",
       "      <td>0</td>\n",
       "      <td>0</td>\n",
       "      <td>...</td>\n",
       "      <td>0</td>\n",
       "      <td>0</td>\n",
       "      <td>0</td>\n",
       "      <td>0</td>\n",
       "      <td>1</td>\n",
       "      <td>0</td>\n",
       "      <td>0</td>\n",
       "      <td>0.136364</td>\n",
       "      <td>191.777901</td>\n",
       "      <td>8</td>\n",
       "    </tr>\n",
       "    <tr>\n",
       "      <th>12</th>\n",
       "      <td>0</td>\n",
       "      <td>0</td>\n",
       "      <td>0</td>\n",
       "      <td>0</td>\n",
       "      <td>0</td>\n",
       "      <td>0</td>\n",
       "      <td>0</td>\n",
       "      <td>0</td>\n",
       "      <td>0</td>\n",
       "      <td>0</td>\n",
       "      <td>...</td>\n",
       "      <td>0</td>\n",
       "      <td>0</td>\n",
       "      <td>0</td>\n",
       "      <td>0</td>\n",
       "      <td>0</td>\n",
       "      <td>0</td>\n",
       "      <td>0</td>\n",
       "      <td>0.147727</td>\n",
       "      <td>191.799560</td>\n",
       "      <td>2</td>\n",
       "    </tr>\n",
       "  </tbody>\n",
       "</table>\n",
       "<p>5 rows × 91 columns</p>\n",
       "</div>"
      ],
      "text/plain": [
       "    x_11_1  x_11_2  x_11_3  x_11_4  x_11_5  x_11_6  x_11_7  x_11_8  x_1_1  \\\n",
       "0        0       0       0       0       0       0       0       0      0   \n",
       "4        0       0       0       0       0       0       0       0      0   \n",
       "3        0       0       0       0       0       0       0       0      0   \n",
       "2        0       0       0       0       0       0       0       0      0   \n",
       "12       0       0       0       0       0       0       0       0      0   \n",
       "\n",
       "    x_1_1*x_2_1  ...  x_2_8  x_2_8*x_1_2  x_2_8*x_1_3  x_2_8*x_1_4  \\\n",
       "0             0  ...      0            0            0            0   \n",
       "4             0  ...      0            0            0            0   \n",
       "3             0  ...      0            0            0            0   \n",
       "2             0  ...      0            0            0            0   \n",
       "12            0  ...      0            0            0            0   \n",
       "\n",
       "    x_2_8*x_1_5  x_2_8*x_1_7  x_2_8*x_1_8  chain_break_fraction      energy  \\\n",
       "0             0            0            0              0.147727   -3.040442   \n",
       "4             0            0            0              0.147727    0.000000   \n",
       "3             0            0            0              0.147727  191.775623   \n",
       "2             1            0            0              0.136364  191.777901   \n",
       "12            0            0            0              0.147727  191.799560   \n",
       "\n",
       "    num_occurrences  \n",
       "0                 8  \n",
       "4                 2  \n",
       "3                 2  \n",
       "2                 8  \n",
       "12                2  \n",
       "\n",
       "[5 rows x 91 columns]"
      ]
     },
     "execution_count": 84,
     "metadata": {},
     "output_type": "execute_result"
    }
   ],
   "source": []
  },
  {
   "cell_type": "code",
   "execution_count": 138,
   "id": "9d1a8dca",
   "metadata": {},
   "outputs": [
    {
     "data": {
      "text/plain": [
       "dict_keys(['2+3', '2+20', '24+25', '23+24', '25+26', '26+27', '4+5', '15+16', '8+9', '2+3,2+20', '2+20,23+24', '24+25,23+24', '24+25,25+26', '25+26,26+27', '2+3,4+5', '2+3,15+16', '4+5,8+9', '4+5,15+16', '2+3,2+20,23+24', '2+20,24+25,23+24', '24+25,23+24,25+26', '24+25,25+26,26+27', '2+3,2+20,4+5', '2+3,2+20,15+16', '2+3,4+5,8+9', '4+5,8+9,15+16', '2+3,2+20,24+25,23+24', '2+20,24+25,23+24,25+26', '24+25,23+24,25+26,26+27', '2+3,2+20,23+24,4+5', '2+3,2+20,23+24,15+16', '2+3,2+20,4+5,8+9', '2+3,2+20,24+25,23+24,25+26', '2+20,24+25,23+24,25+26,26+27', '2+3,2+20,24+25,23+24,4+5', '2+3,2+20,24+25,23+24,15+16', '2+3,2+20,23+24,4+5,8+9', '2+3,2+20,24+25,23+24,25+26,26+27', '2+3,2+20,24+25,23+24,25+26,4+5', '2+3,2+20,24+25,23+24,25+26,15+16', '2+3,2+20,24+25,23+24,4+5,8+9', '2+3,2+20,24+25,23+24,25+26,26+27,4+5', '2+3,2+20,24+25,23+24,25+26,26+27,15+16', '2+3,2+20,24+25,23+24,25+26,4+5,8+9', '2+3,2+20,24+25,23+24,25+26,26+27,4+5,8+9'])"
      ]
     },
     "execution_count": 138,
     "metadata": {},
     "output_type": "execute_result"
    }
   ],
   "source": [
    "qa_process_result.mol_data.bond_graph.sort_ris_data['9'].keys()"
   ]
  },
  {
   "cell_type": "code",
   "execution_count": 120,
   "id": "12cf0b0a",
   "metadata": {},
   "outputs": [
    {
     "data": {
      "text/plain": [
       "[('2', '3'),\n",
       " ('2', '20'),\n",
       " ('3', '19'),\n",
       " ('3', '4'),\n",
       " ('4', '5'),\n",
       " ('4', '12'),\n",
       " ('8', '9'),\n",
       " ('12', '13'),\n",
       " ('15', '16'),\n",
       " ('23', '24'),\n",
       " ('24', '25'),\n",
       " ('25', '26'),\n",
       " ('26', '27'),\n",
       " ('27', '33'),\n",
       " ('27', '29'),\n",
       " ('29', '30'),\n",
       " ('30', '31'),\n",
       " ('31', '32'),\n",
       " ('32', '33')]"
      ]
     },
     "execution_count": 120,
     "metadata": {},
     "output_type": "execute_result"
    }
   ],
   "source": [
    "# qa_process_result.mol_data.bond_graph.non_ar_bonds\n",
    "import math\n",
    "\n",
    "temp_rb_list = []\n",
    "for rot in qa_process_result.mol_data.bond_graph.non_ar_bonds:\n",
    "    if math.isclose(qa_process_result.mol_data.bond_graph.bc[rot[0]], 0) or math.isclose(qa_process_result.mol_data.bond_graph.bc[rot[1]], 0):\n",
    "        continue\n",
    "    temp_rb_list.append(rot)\n",
    "    \n",
    "temp_rb_list"
   ]
  },
  {
   "cell_type": "code",
   "execution_count": 121,
   "id": "086c7293",
   "metadata": {},
   "outputs": [
    {
     "data": {
      "text/plain": [
       "[('2', '3'),\n",
       " ('2', '20'),\n",
       " ('4', '5'),\n",
       " ('8', '9'),\n",
       " ('15', '16'),\n",
       " ('23', '24'),\n",
       " ('24', '25'),\n",
       " ('25', '26'),\n",
       " ('26', '27')]"
      ]
     },
     "execution_count": 121,
     "metadata": {},
     "output_type": "execute_result"
    }
   ],
   "source": [
    "qa_process_result.mol_data.bond_graph.rb_list"
   ]
  },
  {
   "cell_type": "code",
   "execution_count": 126,
   "id": "57609bc8",
   "metadata": {},
   "outputs": [
    {
     "name": "stdout",
     "output_type": "stream",
     "text": [
      "atom1         3\n",
      "atom2        19\n",
      "bond_type     1\n",
      "Name: 4, dtype: object\n",
      "atom1        13\n",
      "atom2        19\n",
      "bond_type    ar\n",
      "Name: 21, dtype: object\n",
      "atom1        18\n",
      "atom2        19\n",
      "bond_type    ar\n",
      "Name: 30, dtype: object\n"
     ]
    }
   ],
   "source": [
    "for index, row in qa_process_result.mol_data.bond_graph.df_bonds.iterrows():\n",
    "    if row['atom2'] == '19':\n",
    "        print(row)"
   ]
  },
  {
   "cell_type": "code",
   "execution_count": 33,
   "id": "8306f207",
   "metadata": {},
   "outputs": [
    {
     "data": {
      "text/html": [
       "<div>\n",
       "<style scoped>\n",
       "    .dataframe tbody tr th:only-of-type {\n",
       "        vertical-align: middle;\n",
       "    }\n",
       "\n",
       "    .dataframe tbody tr th {\n",
       "        vertical-align: top;\n",
       "    }\n",
       "\n",
       "    .dataframe thead th {\n",
       "        text-align: right;\n",
       "    }\n",
       "</style>\n",
       "<table border=\"1\" class=\"dataframe\">\n",
       "  <thead>\n",
       "    <tr style=\"text-align: right;\">\n",
       "      <th></th>\n",
       "      <th>x_1_1</th>\n",
       "      <th>x_1_1*x_3_1</th>\n",
       "      <th>x_1_2</th>\n",
       "      <th>x_1_2*x_3_1</th>\n",
       "      <th>x_1_3</th>\n",
       "      <th>x_1_3*x_3_1</th>\n",
       "      <th>x_1_4</th>\n",
       "      <th>x_1_4*x_3_1</th>\n",
       "      <th>x_1_5</th>\n",
       "      <th>x_1_5*x_3_1</th>\n",
       "      <th>...</th>\n",
       "      <th>x_3_7*x_1_4</th>\n",
       "      <th>x_3_8</th>\n",
       "      <th>x_3_8*x_1_1</th>\n",
       "      <th>x_3_8*x_1_2</th>\n",
       "      <th>x_3_8*x_1_3</th>\n",
       "      <th>x_3_8*x_1_4</th>\n",
       "      <th>x_3_8*x_1_8</th>\n",
       "      <th>chain_break_fraction</th>\n",
       "      <th>energy</th>\n",
       "      <th>num_occurrences</th>\n",
       "    </tr>\n",
       "  </thead>\n",
       "  <tbody>\n",
       "    <tr>\n",
       "      <th>1240</th>\n",
       "      <td>0</td>\n",
       "      <td>0</td>\n",
       "      <td>0</td>\n",
       "      <td>1</td>\n",
       "      <td>0</td>\n",
       "      <td>1</td>\n",
       "      <td>0</td>\n",
       "      <td>0</td>\n",
       "      <td>0</td>\n",
       "      <td>0</td>\n",
       "      <td>...</td>\n",
       "      <td>0</td>\n",
       "      <td>0</td>\n",
       "      <td>0</td>\n",
       "      <td>0</td>\n",
       "      <td>0</td>\n",
       "      <td>0</td>\n",
       "      <td>0</td>\n",
       "      <td>0.136364</td>\n",
       "      <td>4325.203086</td>\n",
       "      <td>1</td>\n",
       "    </tr>\n",
       "    <tr>\n",
       "      <th>5169</th>\n",
       "      <td>0</td>\n",
       "      <td>0</td>\n",
       "      <td>0</td>\n",
       "      <td>0</td>\n",
       "      <td>1</td>\n",
       "      <td>0</td>\n",
       "      <td>0</td>\n",
       "      <td>0</td>\n",
       "      <td>0</td>\n",
       "      <td>0</td>\n",
       "      <td>...</td>\n",
       "      <td>0</td>\n",
       "      <td>0</td>\n",
       "      <td>0</td>\n",
       "      <td>0</td>\n",
       "      <td>1</td>\n",
       "      <td>0</td>\n",
       "      <td>0</td>\n",
       "      <td>0.170455</td>\n",
       "      <td>4384.972415</td>\n",
       "      <td>1</td>\n",
       "    </tr>\n",
       "    <tr>\n",
       "      <th>105</th>\n",
       "      <td>0</td>\n",
       "      <td>0</td>\n",
       "      <td>0</td>\n",
       "      <td>1</td>\n",
       "      <td>0</td>\n",
       "      <td>0</td>\n",
       "      <td>0</td>\n",
       "      <td>0</td>\n",
       "      <td>0</td>\n",
       "      <td>0</td>\n",
       "      <td>...</td>\n",
       "      <td>0</td>\n",
       "      <td>0</td>\n",
       "      <td>0</td>\n",
       "      <td>0</td>\n",
       "      <td>0</td>\n",
       "      <td>0</td>\n",
       "      <td>0</td>\n",
       "      <td>0.125000</td>\n",
       "      <td>4596.364205</td>\n",
       "      <td>1</td>\n",
       "    </tr>\n",
       "    <tr>\n",
       "      <th>280</th>\n",
       "      <td>0</td>\n",
       "      <td>1</td>\n",
       "      <td>0</td>\n",
       "      <td>1</td>\n",
       "      <td>0</td>\n",
       "      <td>0</td>\n",
       "      <td>0</td>\n",
       "      <td>0</td>\n",
       "      <td>0</td>\n",
       "      <td>0</td>\n",
       "      <td>...</td>\n",
       "      <td>0</td>\n",
       "      <td>0</td>\n",
       "      <td>0</td>\n",
       "      <td>0</td>\n",
       "      <td>0</td>\n",
       "      <td>0</td>\n",
       "      <td>0</td>\n",
       "      <td>0.193182</td>\n",
       "      <td>4791.513194</td>\n",
       "      <td>1</td>\n",
       "    </tr>\n",
       "    <tr>\n",
       "      <th>5030</th>\n",
       "      <td>0</td>\n",
       "      <td>0</td>\n",
       "      <td>0</td>\n",
       "      <td>0</td>\n",
       "      <td>1</td>\n",
       "      <td>1</td>\n",
       "      <td>0</td>\n",
       "      <td>0</td>\n",
       "      <td>0</td>\n",
       "      <td>0</td>\n",
       "      <td>...</td>\n",
       "      <td>0</td>\n",
       "      <td>0</td>\n",
       "      <td>0</td>\n",
       "      <td>0</td>\n",
       "      <td>0</td>\n",
       "      <td>0</td>\n",
       "      <td>0</td>\n",
       "      <td>0.170455</td>\n",
       "      <td>4974.964977</td>\n",
       "      <td>1</td>\n",
       "    </tr>\n",
       "  </tbody>\n",
       "</table>\n",
       "<p>5 rows × 91 columns</p>\n",
       "</div>"
      ],
      "text/plain": [
       "      x_1_1  x_1_1*x_3_1  x_1_2  x_1_2*x_3_1  x_1_3  x_1_3*x_3_1  x_1_4  \\\n",
       "1240      0            0      0            1      0            1      0   \n",
       "5169      0            0      0            0      1            0      0   \n",
       "105       0            0      0            1      0            0      0   \n",
       "280       0            1      0            1      0            0      0   \n",
       "5030      0            0      0            0      1            1      0   \n",
       "\n",
       "      x_1_4*x_3_1  x_1_5  x_1_5*x_3_1  ...  x_3_7*x_1_4  x_3_8  x_3_8*x_1_1  \\\n",
       "1240            0      0            0  ...            0      0            0   \n",
       "5169            0      0            0  ...            0      0            0   \n",
       "105             0      0            0  ...            0      0            0   \n",
       "280             0      0            0  ...            0      0            0   \n",
       "5030            0      0            0  ...            0      0            0   \n",
       "\n",
       "      x_3_8*x_1_2  x_3_8*x_1_3  x_3_8*x_1_4  x_3_8*x_1_8  \\\n",
       "1240            0            0            0            0   \n",
       "5169            0            1            0            0   \n",
       "105             0            0            0            0   \n",
       "280             0            0            0            0   \n",
       "5030            0            0            0            0   \n",
       "\n",
       "      chain_break_fraction       energy  num_occurrences  \n",
       "1240              0.136364  4325.203086                1  \n",
       "5169              0.170455  4384.972415                1  \n",
       "105               0.125000  4596.364205                1  \n",
       "280               0.193182  4791.513194                1  \n",
       "5030              0.170455  4974.964977                1  \n",
       "\n",
       "[5 rows x 91 columns]"
      ]
     },
     "execution_count": 33,
     "metadata": {},
     "output_type": "execute_result"
    }
   ],
   "source": [
    "pddf_sample_result = qa_process_result.raw_result[\"response\"].aggregate(\n",
    ").to_pandas_dataframe()\n",
    "\n",
    "pddf_head_sample = pddf_sample_result.sort_values(by=['energy']).head(100)\n",
    "\n",
    "pddf_head_sample.head()"
   ]
  },
  {
   "cell_type": "code",
   "execution_count": 35,
   "id": "18e8152a",
   "metadata": {},
   "outputs": [
    {
     "name": "stdout",
     "output_type": "stream",
     "text": [
      "{'x_2_2', 'x_1_8', 'x_3_7'}\n",
      "{'x_3_6', 'x_1_3'}\n",
      "{'x_3_5'}\n",
      "set()\n",
      "{'x_3_4', 'x_1_3'}\n",
      "{'x_2_8', 'x_3_3'}\n",
      "{'x_1_7', 'x_3_2'}\n",
      "{'x_1_3', 'x_3_2'}\n",
      "{'x_1_3', 'x_3_2'}\n",
      "{'x_3_5', 'x_1_3'}\n",
      "{'x_3_7'}\n",
      "{'x_1_7', 'x_2_8', 'x_3_2'}\n",
      "{'x_3_3', 'x_1_4', 'x_2_7'}\n",
      "{'x_3_8', 'x_2_7'}\n",
      "{'x_2_8'}\n",
      "{'x_3_7'}\n",
      "{'x_3_8', 'x_2_2', 'x_1_3'}\n",
      "{'x_1_7', 'x_3_6', 'x_2_7'}\n",
      "{'x_1_7', 'x_3_6', 'x_2_4'}\n",
      "{'x_1_3'}\n",
      "{'x_3_8'}\n",
      "{'x_3_3', 'x_1_3'}\n",
      "{'x_1_7', 'x_3_8'}\n",
      "{'x_3_4'}\n",
      "{'x_1_5', 'x_3_8', 'x_2_2', 'x_1_8'}\n",
      "{'x_1_6', 'x_2_8', 'x_3_1'}\n",
      "{'x_1_8', 'x_3_5', 'x_2_4', 'x_1_3'}\n",
      "{'x_3_5', 'x_2_2', 'x_1_3'}\n",
      "{'x_1_7', 'x_2_2', 'x_3_2'}\n",
      "{'x_2_7', 'x_3_7', 'x_1_7'}\n",
      "{'x_3_5', 'x_2_5', 'x_1_8'}\n",
      "{'x_1_6', 'x_3_5', 'x_2_6'}\n",
      "{'x_1_7', 'x_3_2'}\n",
      "{'x_1_8', 'x_3_4'}\n",
      "{'x_3_5', 'x_3_8', 'x_1_3'}\n",
      "{'x_1_3'}\n",
      "{'x_1_7', 'x_2_2', 'x_3_1'}\n",
      "{'x_2_2', 'x_3_1'}\n",
      "{'x_2_5', 'x_3_3', 'x_1_3'}\n",
      "{'x_3_8', 'x_2_8', 'x_3_3'}\n",
      "{'x_3_8', 'x_2_1'}\n",
      "{'x_2_5', 'x_1_3'}\n",
      "{'x_3_5', 'x_2_2'}\n",
      "{'x_2_5', 'x_3_1'}\n",
      "{'x_2_4'}\n",
      "{'x_1_7', 'x_3_7'}\n",
      "{'x_1_7', 'x_3_2'}\n",
      "{'x_1_3', 'x_3_1'}\n",
      "{'x_1_6', 'x_3_3'}\n",
      "{'x_1_8', 'x_3_7'}\n",
      "set()\n",
      "set()\n",
      "{'x_1_6', 'x_3_6', 'x_2_7', 'x_3_1'}\n",
      "{'x_2_8', 'x_3_4'}\n",
      "{'x_3_6', 'x_2_5', 'x_1_2'}\n",
      "{'x_3_6', 'x_2_7'}\n",
      "{'x_3_6', 'x_2_5'}\n",
      "{'x_2_5', 'x_3_3'}\n",
      "{'x_2_5'}\n",
      "{'x_2_5'}\n",
      "{'x_1_6', 'x_3_7', 'x_1_7'}\n",
      "{'x_1_7', 'x_3_8'}\n",
      "{'x_3_3', 'x_1_4', 'x_3_7'}\n",
      "{'x_3_7', 'x_1_2'}\n",
      "{'x_3_8'}\n",
      "{'x_1_7'}\n",
      "{'x_3_4'}\n",
      "{'x_3_4', 'x_1_2'}\n",
      "{'x_3_5'}\n",
      "{'x_1_3'}\n",
      "{'x_2_2', 'x_1_3', 'x_3_2'}\n",
      "{'x_1_6', 'x_3_8', 'x_2_7', 'x_1_2'}\n",
      "{'x_2_2', 'x_1_8', 'x_3_2'}\n",
      "{'x_3_3', 'x_1_3', 'x_2_1'}\n",
      "{'x_1_7', 'x_2_5', 'x_3_3'}\n",
      "{'x_1_7', 'x_2_8', 'x_3_3'}\n",
      "{'x_2_2', 'x_3_3'}\n",
      "{'x_1_7', 'x_2_5', 'x_3_3'}\n",
      "{'x_1_6', 'x_3_5', 'x_2_5'}\n",
      "{'x_3_8', 'x_2_4'}\n",
      "{'x_2_5', 'x_3_1'}\n",
      "{'x_3_6', 'x_2_5'}\n",
      "{'x_1_6', 'x_3_3'}\n",
      "{'x_1_7', 'x_3_2'}\n",
      "{'x_1_7', 'x_3_2'}\n",
      "{'x_1_6', 'x_3_1'}\n",
      "{'x_1_3', 'x_3_1'}\n",
      "{'x_3_7', 'x_1_3'}\n",
      "{'x_3_5', 'x_1_4'}\n",
      "{'x_1_8', 'x_3_3'}\n",
      "{'x_1_8', 'x_3_4'}\n",
      "{'x_1_7', 'x_3_5'}\n",
      "{'x_1_8'}\n",
      "{'x_1_3', 'x_3_1'}\n",
      "{'x_3_8', 'x_1_2'}\n",
      "{'x_3_1'}\n",
      "{'x_2_2', 'x_3_3', 'x_1_4'}\n",
      "{'x_1_5', 'x_2_1'}\n",
      "{'x_1_6', 'x_3_5', 'x_2_2'}\n",
      "{'x_3_5', 'x_2_1'}\n"
     ]
    }
   ],
   "source": [
    "for index, row in pddf_head_sample.iterrows():\n",
    "    best_config = row.filter(items=qa_process_result.valid_var_name)\n",
    "    chosen_var = set(best_config[best_config == 1].index.tolist())\n",
    "    print(chosen_var)"
   ]
  },
  {
   "cell_type": "code",
   "execution_count": 47,
   "id": "15bbdb4f",
   "metadata": {},
   "outputs": [],
   "source": [
    "import py3Dmol\n",
    "import time\n",
    "from ipywidgets import interact,fixed,IntSlider\n",
    "import ipywidgets\n"
   ]
  },
  {
   "cell_type": "code",
   "execution_count": 55,
   "id": "3a6a5af4",
   "metadata": {},
   "outputs": [],
   "source": [
    "def View3DMol(mol, size=(600, 600), style=\"stick\", surface=False, opacity=0.5, type=\"mol2\"):\n",
    "        assert style in ('line', 'stick', 'sphere', 'carton')\n",
    "        viewer = py3Dmol.view(width=size[0], height=size[1])\n",
    "        viewer.addModel(open(mol,'r').read(), type)\n",
    "        viewer.setStyle({style:{}})\n",
    "        if surface:\n",
    "            viewer.addSurface(py3Dmol.SAS, {'opacity': opacity})\n",
    "        viewer.zoomTo()\n",
    "        return viewer\n",
    "\n",
    "def View3DMolFromDir(mol_dir, size=(600,600), style=\"stick\", surface=False, opacity=0.5, type=\"mol2\"):\n",
    "    assert style in ('line', 'stick', 'sphere', 'carton')\n",
    "    viewer = py3Dmol.view(width=size[0], height=size[1],linked=False,viewergrid=(2,2))\n",
    "    mol2s = os.popen(\"ls {}/*.mol2\".format(mol_dir)).read().split('\\n')[0:-1]\n",
    "    for index,mol2 in enumerate(mol2s):\n",
    "        viewer.addModel(open(mol2,'r').read(),type,viewer=(index/2,index%2))\n",
    "        viewer.setStyle({'stick':{'colorscheme':'greenCarbon'}},viewer=(index/2,index%2))\n",
    "    if surface:\n",
    "        viewer.addSurface(py3Dmol.SAS, {'opacity': opacity})\n",
    "    viewer.zoomTo()\n",
    "    view.render()\n",
    "    return viewer\n",
    "\n",
    "\n",
    "def StyleSelector(mol,size,style):\n",
    "    return View3DMol(mol,size=(size,size),style=style).show()\n",
    "\n",
    "def InteractView(mol,size):\n",
    "    interact(StyleSelector, \n",
    "        mol=mol,\n",
    "        size=size,\n",
    "        style=ipywidgets.Dropdown(\n",
    "            options=['line', 'stick', 'sphere'],\n",
    "            value='stick',\n",
    "            description='Style:'))"
   ]
  },
  {
   "cell_type": "code",
   "execution_count": 56,
   "id": "f14604f8",
   "metadata": {},
   "outputs": [
    {
     "data": {
      "application/vnd.jupyter.widget-view+json": {
       "model_id": "ce0adfedbf68429e986368c4c12ab0b5",
       "version_major": 2,
       "version_minor": 0
      },
      "text/plain": [
       "interactive(children=(Text(value='./molecule-data/Raloxifene.mol2', description='mol'), IntSlider(value=800, d…"
      ]
     },
     "metadata": {},
     "output_type": "display_data"
    }
   ],
   "source": [
    "InteractView(mol='./molecule-data/Raloxifene.mol2', size=800)"
   ]
  },
  {
   "cell_type": "code",
   "execution_count": 1,
   "id": "b65c6390",
   "metadata": {},
   "outputs": [
    {
     "name": "stderr",
     "output_type": "stream",
     "text": [
      "2022-03-23 00:46:11,279 dwave.cloud INFO MainThread Log level for 'dwave.cloud' namespace set to 0\n"
     ]
    }
   ],
   "source": [
    "from utility.MoleculeParser import MoleculeData\n",
    "from utility.QMUQUBO import QMUQUBO\n",
    "from utility.AnnealerOptimizer import Annealer\n",
    "from utility.ResultProcess import ResultParser\n",
    "import time\n",
    "\n",
    "timestamp = time.strftime(\"%Y%m%d-%H\")"
   ]
  },
  {
   "cell_type": "markdown",
   "id": "841941f1",
   "metadata": {},
   "source": [
    "# Step 1: Prepare Data"
   ]
  },
  {
   "cell_type": "markdown",
   "id": "ea842333",
   "metadata": {},
   "source": [
    "In this part, we load the raw molecule data for experiment.\n",
    "The [117 ligand](http://www.rcsb.org/ligand/117) was \n",
    "put in the repository. We assign the relative \n",
    "path to **raw_path**.\n",
    "The **s3_bucket** and **prefix** are used to store the \n",
    "optimization results. We can use the one created with the \n",
    "cloudformation for convenience."
   ]
  },
  {
   "cell_type": "code",
   "execution_count": 2,
   "id": "2f031955",
   "metadata": {},
   "outputs": [],
   "source": [
    "# initial parameters for experiment data\n",
    "s3_bucket = f\"amazon-braket-1a222675c751\" # the name of the bucket\n",
    "prefix = \"annealer-experiment\" # the name of the folder in the bucket\n",
    "\n",
    "raw_path = './molecule-data/Raloxifene.mol2' # the mol2 file for this experiment"
   ]
  },
  {
   "cell_type": "code",
   "execution_count": 3,
   "id": "3639cadb",
   "metadata": {},
   "outputs": [
    {
     "name": "stderr",
     "output_type": "stream",
     "text": [
      "INFO:root:parse mol2 file!\n",
      "INFO:root:finish save qmu_Raloxifene_data_latest.pickle\n"
     ]
    },
    {
     "name": "stdout",
     "output_type": "stream",
     "text": [
      "You have loaded the raw molecule data and saved as ./qmu_Raloxifene_data_latest.pickle. \n",
      "This molecule has 19 rotable bond\n"
     ]
    }
   ],
   "source": [
    "mol_data = MoleculeData(raw_path, 'qmu')\n",
    "\n",
    "data_path = mol_data.save(\"latest\")\n",
    "\n",
    "num_rotation_bond = mol_data.bond_graph.rb_num\n",
    "print(f\"You have loaded the raw molecule data and saved as {data_path}. \\n\\\n",
    "This molecule has {num_rotation_bond} rotable bond\")"
   ]
  },
  {
   "cell_type": "markdown",
   "id": "ce39c1f4",
   "metadata": {},
   "source": [
    "After running this block, the processed data \n",
    "will be saved as **qmu_117_ideal_data_latest.pickle**\n",
    "and **data_path** will be updated. We can see that this \n",
    "molecule has 23 rotatable bonds."
   ]
  },
  {
   "cell_type": "markdown",
   "id": "2584ee60",
   "metadata": {},
   "source": [
    "# Step 2: Build Model"
   ]
  },
  {
   "cell_type": "markdown",
   "id": "52627133",
   "metadata": {},
   "source": [
    "In this part, we build the Quadratic Unconstrained \n",
    "Binary Optimization (QUBO) model for molecular unfolding.\n",
    "\n",
    "First, we set the following parameters and \n",
    "initialize the QMUQUBO object. \n",
    "\n",
    "<center>\n",
    "\n",
    "| Parameter | Description | Value |\n",
    "|--- |--- |--- |\n",
    "|A | penalty scalar |300|\n",
    "|hubo_qubo_val | energy penalty of make_quadratic() |200|\n",
    "|M | number of torsions for molecular unfolding| [1, max number of rotatable bonds] |\n",
    "|D| angle precision of rotation| 8|\n",
    "|method| the method of building model| 'pre-calc': calculate the score in advance|\n",
    "\n",
    " </center>"
   ]
  },
  {
   "cell_type": "markdown",
   "id": "a4a526d3",
   "metadata": {},
   "source": [
    "We use the 'pre-calc' method \n",
    "to build the model. This molecule has 23 rotatable bonds and \n",
    "we only test 2 of them, so we set the **M** to 2. And we want \n",
    "the angle to become $45^o$, so we set the **D** to 8 \n",
    "(i.e., $8=360^o/45^o$). The **A** and **hubo_qubo_val** are \n",
    "test from experiments. "
   ]
  },
  {
   "cell_type": "code",
   "execution_count": 4,
   "id": "28f72b14",
   "metadata": {},
   "outputs": [
    {
     "name": "stderr",
     "output_type": "stream",
     "text": [
      "INFO:root:initial pre-calculate for constructing molecule QUBO\n"
     ]
    }
   ],
   "source": [
    "# initial the QMUQUBO object\n",
    "init_param = {}\n",
    "method = ['pre-calc']\n",
    "\n",
    "for mt in method:\n",
    "    if mt == 'pre-calc':\n",
    "        init_param[mt] = {}\n",
    "        init_param[mt]['param'] = ['M', 'D', 'A', 'hubo_qubo_val']\n",
    "    \n",
    "qmu_qubo = QMUQUBO(mol_data, method, **init_param)"
   ]
  },
  {
   "cell_type": "code",
   "execution_count": 5,
   "id": "091a0862",
   "metadata": {},
   "outputs": [
    {
     "name": "stderr",
     "output_type": "stream",
     "text": [
      "INFO:root:Construct model for M:1,D:8,A:300,hubo_qubo_val:200 0.00010730425516764323 min\n",
      "INFO:root:Construct model for M:2,D:8,A:300,hubo_qubo_val:200 0.0012227257092793783 min\n",
      "INFO:root:Construct model for M:3,D:8,A:300,hubo_qubo_val:200 0.014132515589396159 min\n"
     ]
    },
    {
     "data": {
      "text/plain": [
       "0"
      ]
     },
     "execution_count": 5,
     "metadata": {},
     "output_type": "execute_result"
    }
   ],
   "source": [
    "# set the parameters for model\n",
    "model_param = {}\n",
    "# parameters\n",
    "num_rotation_bond = mol_data.bond_graph.rb_num\n",
    "\n",
    "method = 'pre-calc'\n",
    "model_param[method] = {}\n",
    "# model_param[method]['M'] = range(1, num_rotation_bond+1)\n",
    "model_param[method]['M'] = [1,2,3]\n",
    "model_param[method]['D'] = [8]\n",
    "model_param[method]['A'] = [300]\n",
    "model_param[method]['hubo_qubo_val'] = [200]\n",
    "\n",
    "qmu_qubo.build_model(**model_param)"
   ]
  },
  {
   "cell_type": "markdown",
   "id": "96fa1ff5",
   "metadata": {},
   "source": [
    "We can use the following method to check the properties of \n",
    "model. This way, we can build many models conveniently. \n",
    "After that, we save the model and update the value of \n",
    "**model_path**."
   ]
  },
  {
   "cell_type": "code",
   "execution_count": 6,
   "id": "396195ea",
   "metadata": {},
   "outputs": [
    {
     "name": "stderr",
     "output_type": "stream",
     "text": [
      "INFO:root:method: pre-calc\n",
      "INFO:root:The model_name should be {M}_{D}_{A}_{hubo_qubo_val}\n",
      "INFO:root:param: M, value {1, 2, 3}\n",
      "INFO:root:param: D, value {8}\n",
      "INFO:root:param: A, value {300}\n",
      "INFO:root:param: hubo_qubo_val, value {200}\n"
     ]
    }
   ],
   "source": [
    "# describe the model parameters\n",
    "model_info = qmu_qubo.describe_model()"
   ]
  },
  {
   "cell_type": "code",
   "execution_count": 7,
   "id": "60cdd362",
   "metadata": {},
   "outputs": [
    {
     "name": "stderr",
     "output_type": "stream",
     "text": [
      "INFO:root:finish save qmu_Raloxifene_model_latest.pickle\n"
     ]
    },
    {
     "name": "stdout",
     "output_type": "stream",
     "text": [
      "You have built the QUBO model and saved it as ./qmu_Raloxifene_model_latest.pickle\n"
     ]
    }
   ],
   "source": [
    "# save the model\n",
    "model_path = qmu_qubo.save(\"latest\")\n",
    "\n",
    "print(f\"You have built the QUBO model and saved it as {model_path}\")"
   ]
  },
  {
   "cell_type": "markdown",
   "id": "b71f9541",
   "metadata": {},
   "source": [
    "# Step 3: Optimize Configuration"
   ]
  },
  {
   "cell_type": "markdown",
   "id": "aace9363",
   "metadata": {},
   "source": [
    "In this part, we use SA and QA to find the optimized configuration of molecular unfolding.\n",
    "At first, we load the model file using **QMUQUBO** object"
   ]
  },
  {
   "cell_type": "code",
   "execution_count": 8,
   "id": "e84c0b79",
   "metadata": {},
   "outputs": [],
   "source": [
    "qmu_qubo_optimize = QMUQUBO.load(model_path)"
   ]
  },
  {
   "cell_type": "code",
   "execution_count": 23,
   "id": "092f7951",
   "metadata": {},
   "outputs": [
    {
     "name": "stderr",
     "output_type": "stream",
     "text": [
      "INFO:root:method: pre-calc\n",
      "INFO:root:The model_name should be {M}_{D}_{A}_{hubo_qubo_val}\n",
      "INFO:root:param: M, value {1, 2, 3}\n",
      "INFO:root:param: D, value {8}\n",
      "INFO:root:param: A, value {300}\n",
      "INFO:root:param: hubo_qubo_val, value {200}\n"
     ]
    }
   ],
   "source": [
    "model_info = qmu_qubo_optimize.describe_model()"
   ]
  },
  {
   "cell_type": "markdown",
   "id": "32a1a28e",
   "metadata": {},
   "source": [
    "We can see the parameters of this model, with M equaling 2, D equaling 8, \n",
    "A equaling 300 and hubo_qubo_val equaling 200. \n",
    "Actually, we can contain multiple models in this file just \n",
    "by giving multiple values for one parameter when creating models.\n",
    "\n",
    "Actually, we can contain multiple models in this file just \n",
    "by giving multiple values for one parameter when creating models.\n",
    "Then, we need use **model_name** to get the model for experiments."
   ]
  },
  {
   "cell_type": "code",
   "execution_count": 37,
   "id": "55db45e9",
   "metadata": {},
   "outputs": [],
   "source": [
    "# get the model you want to optimize\n",
    "M = 3\n",
    "D = 8\n",
    "A = 300\n",
    "hubo_qubo_val = 200\n",
    "model_name = \"{}_{}_{}_{}\".format(M, D, A, hubo_qubo_val)\n",
    "method = \"pre-calc\"\n",
    "\n",
    "qubo_model = qmu_qubo_optimize.get_model(method, model_name)"
   ]
  },
  {
   "cell_type": "markdown",
   "id": "cd47316f",
   "metadata": {},
   "source": [
    "We can see that we want to carry out experiment with the QUBO model with M equaling 2.\n",
    " After that, we set the parameters for optimization.\n",
    "\n",
    "| Parameter | Description | Value |\n",
    "|--- |--- |--- |\n",
    "|method | annealing method for QUBO problem |'dwave-sa': use the simulated annealer in ocean toolkit<br> 'dwave-qa': use the quantum annealer|\n",
    "|shots| number of reads, refer to [dwave-sa](https://docs.ocean.dwavesys.com/projects/neal/en/latest/reference/generated/neal.sampler.SimulatedAnnealingSampler.sample.html#neal.sampler.SimulatedAnnealingSampler.sample) and [dwave-qa](https://amazon-braket-ocean-plugin-python.readthedocs.io/en/latest/_apidoc/braket.ocean_plugin.braket_sampler.html) for details |1 to 10,000|\n",
    "|bucket | the s3 bucket to store your results | - |\n",
    "|prefix | the name of the folder in your s3 bucket | - |\n",
    "|device | the arn name to run your quantum annealing| 'arn:aws:braket:::device/qpu/d-wave/Advantage_system4' <br> 'arn:aws:braket:::device/qpu/d-wave/DW_2000Q_6'|\n",
    "\n",
    "Then, we can run the SA for this problem:"
   ]
  },
  {
   "cell_type": "code",
   "execution_count": 25,
   "id": "a0c87925",
   "metadata": {},
   "outputs": [
    {
     "name": "stderr",
     "output_type": "stream",
     "text": [
      "INFO:root:use simulated annealer from dimod\n"
     ]
    }
   ],
   "source": [
    "method = 'dwave-sa'\n",
    "\n",
    "optimizer_param = {}\n",
    "optimizer_param['shots'] = 1000\n",
    "\n",
    "sa_optimizer = Annealer(qubo_model, method, **optimizer_param)"
   ]
  },
  {
   "cell_type": "code",
   "execution_count": 26,
   "id": "0f0a7f16",
   "metadata": {},
   "outputs": [
    {
     "name": "stderr",
     "output_type": "stream",
     "text": [
      "INFO:root:fit() ...\n",
      "INFO:root:dwave-sa save to local\n",
      "INFO:root:finish save sa_result.pickle\n"
     ]
    }
   ],
   "source": [
    "sa_optimize_result = sa_optimizer.fit()"
   ]
  },
  {
   "cell_type": "markdown",
   "id": "b36864c6",
   "metadata": {},
   "source": [
    "We can tell that we set the number of shots for SA to 1000. \n",
    "The result is saved as the local file **./sa_result.pickle.**\n",
    "Alternatively, we can use QA to solve this problem:"
   ]
  },
  {
   "cell_type": "code",
   "execution_count": 38,
   "id": "7831ca5b",
   "metadata": {},
   "outputs": [
    {
     "name": "stderr",
     "output_type": "stream",
     "text": [
      "INFO:root:use quantum annealer arn:aws:braket:::device/qpu/d-wave/Advantage_system4 \n"
     ]
    }
   ],
   "source": [
    "method = 'dwave-qa'\n",
    "\n",
    "optimizer_param = {}\n",
    "optimizer_param['shots'] = 1000\n",
    "optimizer_param['bucket'] = s3_bucket # the name of the bucket\n",
    "optimizer_param['prefix'] = prefix # the name of the folder in the bucket\n",
    "optimizer_param['device'] = \"arn:aws:braket:::device/qpu/d-wave/Advantage_system4\"\n",
    "optimizer_param[\"embed_method\"] = \"default\"\n",
    "\n",
    "qa_optimizer = Annealer(qubo_model, method, **optimizer_param)"
   ]
  },
  {
   "cell_type": "markdown",
   "id": "0d1a334f",
   "metadata": {},
   "source": [
    "In this QA, we set the number of shots to 1000 and \n",
    "choose the \n",
    "[Advantage_System4.1](https://docs.dwavesys.com/docs/latest/doc_physical_properties.html)\n",
    "as the QPU. In addition, the results are saved to your bucket automatically and you \n",
    "can get the task id for future process. "
   ]
  },
  {
   "cell_type": "code",
   "execution_count": 39,
   "id": "276aac85",
   "metadata": {},
   "outputs": [
    {
     "name": "stderr",
     "output_type": "stream",
     "text": [
      "INFO:root:fit() ...\n",
      "INFO:root:finish save /tmp/qa_result.pickle\n",
      "INFO:root:_upload_result_json, bucket=amazon-braket-1a222675c751, key=annealer-experiment/f36f2d37-194b-4e27-b356-5a992208682a/qa_result.pickle\n",
      "INFO:root:dwave-qa save to s3 - f36f2d37-194b-4e27-b356-5a992208682a: None\n"
     ]
    }
   ],
   "source": [
    "# not create annealing task, only embedding logic\n",
    "qa_optimizer.embed()\n",
    "# create annealing task\n",
    "qa_optimize_result = qa_optimizer.fit()"
   ]
  },
  {
   "cell_type": "code",
   "execution_count": 40,
   "id": "8b92494e",
   "metadata": {},
   "outputs": [
    {
     "name": "stdout",
     "output_type": "stream",
     "text": [
      "task id is f36f2d37-194b-4e27-b356-5a992208682a\n"
     ]
    }
   ],
   "source": [
    "qa_task_id = qa_optimizer.get_task_id()\n",
    "print(f\"task id is {qa_task_id}\")"
   ]
  },
  {
   "cell_type": "markdown",
   "id": "9950edef",
   "metadata": {},
   "source": [
    "Finally, we can compare the execution time between SA and QA :"
   ]
  },
  {
   "cell_type": "code",
   "execution_count": 30,
   "id": "f1f55279",
   "metadata": {},
   "outputs": [
    {
     "name": "stdout",
     "output_type": "stream",
     "text": [
      "dwave-sa run time 191.14558362960815\n",
      "dwave-qa run time 5.784304141998291\n"
     ]
    }
   ],
   "source": [
    "print(f\"dwave-sa run time {sa_optimize_result['time']}\")\n",
    "print(f\"dwave-qa run time {qa_optimize_result['time']}\")"
   ]
  },
  {
   "cell_type": "markdown",
   "id": "c13c3865",
   "metadata": {},
   "source": [
    "We can tell from the image that SA needs 174.2 seconds \n",
    "and QA needs 7.7 seconds to find \n",
    "solution.\n",
    "\n",
    "We sometimes get the best result that occurs only once.\n",
    "\n",
    "![OneTimeQA](../../../docs/en/images/one-time-qa.png)\n",
    "\n",
    "This does not always indicate an error. It is actually the characteristic of the problem or how the problem \n",
    "is formulated. Because we have different linear and quadratic terms that vary by many orders of magnitude. If we \n",
    "set change value of A to some smaller number, like 10 or 100, more occurrences of the best answer will be observed. \n",
    "However, these answers usually break the constraints. For more information about this phenomenon, please refer to this \n",
    "[Link](https://support.dwavesys.com/hc/en-us/community/posts/1500000698522-Number-of-occurrences-?input_string=number%20occurance)."
   ]
  },
  {
   "cell_type": "markdown",
   "id": "6c17e533",
   "metadata": {},
   "source": [
    "# Step 4: PostProcess Result"
   ]
  },
  {
   "cell_type": "markdown",
   "id": "92cff463",
   "metadata": {},
   "source": [
    "In this part, we post process the optimizing results for evaluation and visualization.\n",
    "At first, we prepare the following parameters:\n",
    "\n",
    "| Parameter | Description | Value |\n",
    "|--- |--- |--- |\n",
    "|method | annealing method for QUBO problem |'dwave-sa': use the simulated annealer in ocean toolkit<br> 'dwave-qa': use the quantum annealer|\n",
    "|raw_path| the path for the original molecule file| './molecule-data/117_ideal.mol2' in this example |\n",
    "|data_path| the path for the processed molecule file| './qmu_117_ideal_data_latest.mol2' in this example |\n",
    "|bucket | the s3 bucket to store your results | - |\n",
    "|prefix | the name of the folder in your s3 bucket | - |\n",
    "|task_id | the id for your quantum annealing task| '2b5a3b05-1a0e-443a-852c-4ec422a10e59' in this example |"
   ]
  },
  {
   "cell_type": "markdown",
   "id": "075f1309",
   "metadata": {},
   "source": [
    "Then we can run the post-process using **ResultParser** object for SA:"
   ]
  },
  {
   "cell_type": "code",
   "execution_count": 41,
   "id": "c22b4c4b",
   "metadata": {},
   "outputs": [
    {
     "name": "stderr",
     "output_type": "stream",
     "text": [
      "INFO:root:_load_raw_result\n",
      "INFO:root:load simulated annealer raw result\n",
      "INFO:root:MoleculeData.load()\n",
      "INFO:root:init mol data for final position\n",
      "INFO:root:init mol data for raw position\n",
      "INFO:root:_parse_model_info\n",
      "INFO:root:_init_parameters\n",
      "INFO:root:parse simulated annealer result\n",
      "INFO:root:sa only has local_time!\n"
     ]
    },
    {
     "name": "stdout",
     "output_type": "stream",
     "text": [
      "time for dwave-sa: \n",
      "     local time is 191.14558362960815\n"
     ]
    }
   ],
   "source": [
    "method = \"dwave-sa\"\n",
    "sa_param = {}\n",
    "sa_param[\"raw_path\"] = raw_path\n",
    "sa_param[\"data_path\"] = data_path\n",
    "\n",
    "sa_process_result = ResultParser(method, **sa_param)\n",
    "# print(f\"{method} result is {sa_process_result.get_all_result()}\")\n",
    "\n",
    "local_time, _ , _, _= sa_process_result.get_time()\n",
    "\n",
    "print(f\"time for {method}: \\n \\\n",
    "    local time is {local_time}\")"
   ]
  },
  {
   "cell_type": "code",
   "execution_count": 42,
   "id": "c268b0bd",
   "metadata": {},
   "outputs": [
    {
     "name": "stderr",
     "output_type": "stream",
     "text": [
      "INFO:root:generate_optimize_pts()\n",
      "INFO:root:var_dict_raw {'2': ['8'], '1': ['3']} var_dict_list [{'2': '8', '1': '3'}]\n",
      "INFO:root:chosen var {'x_2_8', 'x_1_3'}\n",
      "INFO:root:tor list {'X_1_3', 'X_2_8'}\n",
      "INFO:root:_init_parameters\n",
      "INFO:root:optimize_gain 1.0295321579154806\n",
      "INFO:root:start physical check\n",
      "INFO:root:fail at 21 to 44\n",
      "INFO:root:physical check not pass!\n",
      "INFO:root:var_dict_raw {'2': ['7'], '1': ['3']} var_dict_list [{'2': '7', '1': '3'}]\n",
      "INFO:root:chosen var {'x_2_7', 'x_1_3'}\n",
      "INFO:root:tor list {'X_1_3', 'X_2_7'}\n",
      "INFO:root:_init_parameters\n",
      "INFO:root:optimize_gain 1.0287639840292935\n",
      "INFO:root:start physical check\n",
      "INFO:root:save_mol_file 20220323-00\n",
      "INFO:root:finish save ./molecule-data/Raloxifene_dwave-sa_20220323-00.mol2 and ./molecule-data/Raloxifene_dwave-sa_20220323-00.json\n"
     ]
    },
    {
     "data": {
      "text/plain": [
       "['./molecule-data/Raloxifene_dwave-sa_20220323-00.mol2',\n",
       " './molecule-data/Raloxifene_dwave-sa_20220323-00.json']"
      ]
     },
     "execution_count": 42,
     "metadata": {},
     "output_type": "execute_result"
    }
   ],
   "source": [
    "sa_atom_pos_data = sa_process_result.generate_optimize_pts()\n",
    "# save unfold file for visualization and parameters for experiment: 1. volume value 2. relative improvement\n",
    "sa_process_result.save_mol_file(f\"{timestamp}\")\n"
   ]
  },
  {
   "cell_type": "code",
   "execution_count": 43,
   "id": "a70884ba",
   "metadata": {},
   "outputs": [
    {
     "data": {
      "text/plain": [
       "{'volume': {'optimize': 19.98779602315115,\n",
       "  'initial': 19.428942238885774,\n",
       "  'gain': 1.0287639840292935,\n",
       "  'unfolding_results': ['X_1_3', 'X_2_7'],\n",
       "  'annealing_results': ['x_2_7', 'x_1_3'],\n",
       "  'optimize_info': {'optimize_state': True, 'result_rank': 38}}}"
      ]
     },
     "execution_count": 43,
     "metadata": {},
     "output_type": "execute_result"
    }
   ],
   "source": [
    "sa_process_result.parameters"
   ]
  },
  {
   "cell_type": "markdown",
   "id": "9645c370",
   "metadata": {},
   "source": [
    "In the first block, we can see the **local time**\n",
    "for SA is around 174 seconds. \n",
    "With the **generate_optimize_pts()** method, the final 3D \n",
    "points after unfolding will be generated and saved as json file and mol2 files. The last \n",
    "block shows the optimizing results which are also stored in json files. \n",
    "It shows that the optimized result gains \n",
    "1.0212x increase in volume. The value for **unfolding_results** indicates \n",
    "that the rotatable bond 15 should rotate $270^o$ ($360/8*(7-1)$) and \n",
    "the rotatable bond 14 should rotate $315^o$ ($360/8*(8-1)$).\n",
    "At the same time, you can run the post-process for QA:"
   ]
  },
  {
   "cell_type": "code",
   "execution_count": 44,
   "id": "84286e9d",
   "metadata": {},
   "outputs": [
    {
     "name": "stderr",
     "output_type": "stream",
     "text": [
      "INFO:root:_load_raw_result\n",
      "INFO:root:load quantum annealer raw result\n",
      "INFO:root:_read_result_obj\n",
      "INFO:root:_read_result_obj: annealer-experiment/f36f2d37-194b-4e27-b356-5a992208682a/qa_result.pickle\n",
      "INFO:root:MoleculeData.load()\n",
      "INFO:root:init mol data for final position\n",
      "INFO:root:init mol data for raw position\n",
      "INFO:root:_parse_model_info\n",
      "INFO:root:_init_parameters\n",
      "INFO:root:parse quantum annealer result\n",
      "INFO:root:_read_result_obj\n",
      "INFO:root:_read_result_obj: annealer-experiment/f36f2d37-194b-4e27-b356-5a992208682a/results.json\n"
     ]
    },
    {
     "name": "stdout",
     "output_type": "stream",
     "text": [
      "time for dwave-qa: \n",
      "     local time is 36.65629982948303,\n",
      "     task time is 5.957, \n",
      "     qpu total time is 0.125141, \n",
      "     qpu access time is 0.112786\n"
     ]
    }
   ],
   "source": [
    "method = \"dwave-qa\"\n",
    "qa_param = {}\n",
    "qa_param[\"bucket\"] = s3_bucket\n",
    "qa_param[\"prefix\"] = prefix\n",
    "qa_param[\"task_id\"] = qa_task_id\n",
    "qa_param[\"raw_path\"] = raw_path\n",
    "qa_param[\"data_path\"] = data_path\n",
    "\n",
    "qa_process_result = ResultParser(method, **qa_param)\n",
    "# print(f\"{method} result is {qa_process_result.get_all_result()}\")\n",
    "\n",
    "local_time, task_time, total_time, access_time = qa_process_result.get_time()\n",
    "\n",
    "print(f\"time for {method}: \\n \\\n",
    "    local time is {local_time},\\n \\\n",
    "    task time is {task_time}, \\n \\\n",
    "    qpu total time is {total_time}, \\n \\\n",
    "    qpu access time is {access_time}\")"
   ]
  },
  {
   "cell_type": "markdown",
   "id": "0e3017b1",
   "metadata": {},
   "source": [
    "we can see that there many types of time metrics for running QA.\n",
    "This task has the **local time** of 7.7 s, which means the time between calling the api and \n",
    "getting the annealing result. The **task time** time is the metric from the json file in \n",
    "bucket. We can also see the **qpu total time** and **qpu access time** representing the \n",
    "actual time running in the QPU. Please refer to [Operation and Timing](https://docs.dwavesys.com/docs/latest/c_qpu_timing.html)\n",
    "for details."
   ]
  },
  {
   "cell_type": "code",
   "execution_count": 45,
   "id": "f08e00f0",
   "metadata": {},
   "outputs": [
    {
     "name": "stderr",
     "output_type": "stream",
     "text": [
      "INFO:root:generate_optimize_pts()\n",
      "INFO:root:var_dict_raw {'1': ['4'], '11': ['3'], '2': ['1']} var_dict_list [{'1': '4', '11': '3', '2': '1'}]\n",
      "INFO:root:chosen var {'x_1_4', 'x_11_3', 'x_2_1'}\n",
      "INFO:root:tor list {'X_2_1', 'X_11_3', 'X_1_4'}\n",
      "INFO:root:_init_parameters\n",
      "INFO:root:optimize_gain 0.8765835257440306\n",
      "INFO:root:var_dict_raw {'1': ['5'], '11': ['5'], '2': ['1', '2', '3', '4', '5', '6', '7', '8']} var_dict_list [{'1': '5', '11': '5', '2': '1'}, {'1': '5', '11': '5', '2': '2'}, {'1': '5', '11': '5', '2': '3'}, {'1': '5', '11': '5', '2': '4'}, {'1': '5', '11': '5', '2': '5'}, {'1': '5', '11': '5', '2': '6'}, {'1': '5', '11': '5', '2': '7'}, {'1': '5', '11': '5', '2': '8'}]\n",
      "INFO:root:chosen var {'x_1_5', 'x_11_5'}\n",
      "INFO:root:tor list {'X_2_1', 'X_1_5', 'X_11_5'}\n",
      "INFO:root:_init_parameters\n",
      "INFO:root:optimize_gain 0.7752767309978558\n",
      "INFO:root:chosen var {'x_1_5', 'x_11_5'}\n",
      "INFO:root:tor list {'X_1_5', 'X_2_2', 'X_11_5'}\n",
      "INFO:root:_init_parameters\n",
      "INFO:root:optimize_gain 0.7717392282028954\n",
      "INFO:root:chosen var {'x_1_5', 'x_11_5'}\n",
      "INFO:root:tor list {'X_1_5', 'X_2_3', 'X_11_5'}\n",
      "INFO:root:_init_parameters\n",
      "INFO:root:optimize_gain 0.7546685063813835\n",
      "INFO:root:chosen var {'x_1_5', 'x_11_5'}\n",
      "INFO:root:tor list {'X_2_4', 'X_1_5', 'X_11_5'}\n",
      "INFO:root:_init_parameters\n",
      "INFO:root:optimize_gain 0.7321315149431603\n",
      "INFO:root:chosen var {'x_1_5', 'x_11_5'}\n",
      "INFO:root:tor list {'X_2_5', 'X_1_5', 'X_11_5'}\n",
      "INFO:root:_init_parameters\n",
      "INFO:root:optimize_gain 0.7173270283286707\n",
      "INFO:root:chosen var {'x_1_5', 'x_11_5'}\n",
      "INFO:root:tor list {'X_2_6', 'X_1_5', 'X_11_5'}\n",
      "INFO:root:_init_parameters\n",
      "INFO:root:optimize_gain 0.7215362458287758\n",
      "INFO:root:chosen var {'x_1_5', 'x_11_5'}\n",
      "INFO:root:tor list {'X_1_5', 'X_2_7', 'X_11_5'}\n",
      "INFO:root:_init_parameters\n",
      "INFO:root:optimize_gain 0.7416600575834544\n",
      "INFO:root:chosen var {'x_1_5', 'x_11_5'}\n",
      "INFO:root:tor list {'X_1_5', 'X_2_8', 'X_11_5'}\n",
      "INFO:root:_init_parameters\n",
      "INFO:root:optimize_gain 0.7635557637846274\n",
      "INFO:root:var_dict_raw {'11': ['5'], '1': ['4'], '2': ['1']} var_dict_list [{'11': '5', '1': '4', '2': '1'}]\n",
      "INFO:root:chosen var {'x_11_5', 'x_1_4', 'x_2_1'}\n",
      "INFO:root:tor list {'X_1_4', 'X_2_1', 'X_11_5'}\n",
      "INFO:root:_init_parameters\n",
      "INFO:root:optimize_gain 0.7875326528024175\n",
      "INFO:root:var_dict_raw {'1': ['4'], '2': ['1'], '11': ['1', '2', '3', '4', '5', '6', '7', '8']} var_dict_list [{'1': '4', '2': '1', '11': '1'}, {'1': '4', '2': '1', '11': '2'}, {'1': '4', '2': '1', '11': '3'}, {'1': '4', '2': '1', '11': '4'}, {'1': '4', '2': '1', '11': '5'}, {'1': '4', '2': '1', '11': '6'}, {'1': '4', '2': '1', '11': '7'}, {'1': '4', '2': '1', '11': '8'}]\n",
      "INFO:root:chosen var {'x_1_4', 'x_2_1'}\n",
      "INFO:root:tor list {'X_11_1', 'X_2_1', 'X_1_4'}\n",
      "INFO:root:_init_parameters\n",
      "INFO:root:optimize_gain 1.013887514809817\n",
      "INFO:root:start physical check\n",
      "INFO:root:chosen var {'x_1_4', 'x_2_1'}\n",
      "INFO:root:tor list {'X_2_1', 'X_11_2', 'X_1_4'}\n",
      "INFO:root:_init_parameters\n",
      "INFO:root:optimize_gain 0.9672153827372605\n",
      "INFO:root:chosen var {'x_1_4', 'x_2_1'}\n",
      "INFO:root:tor list {'X_2_1', 'X_11_3', 'X_1_4'}\n",
      "INFO:root:pass current duplicate var\n",
      "INFO:root:chosen var {'x_1_4', 'x_2_1'}\n",
      "INFO:root:tor list {'X_11_4', 'X_2_1', 'X_1_4'}\n",
      "INFO:root:_init_parameters\n",
      "INFO:root:optimize_gain 0.7951626413477378\n",
      "INFO:root:chosen var {'x_1_4', 'x_2_1'}\n",
      "INFO:root:tor list {'X_11_5', 'X_2_1', 'X_1_4'}\n",
      "INFO:root:_init_parameters\n",
      "INFO:root:optimize_gain 0.7875326528024175\n",
      "INFO:root:chosen var {'x_1_4', 'x_2_1'}\n",
      "INFO:root:tor list {'X_2_1', 'X_11_6', 'X_1_4'}\n",
      "INFO:root:_init_parameters\n",
      "INFO:root:optimize_gain 0.8465265000533373\n",
      "INFO:root:chosen var {'x_1_4', 'x_2_1'}\n",
      "INFO:root:tor list {'X_11_7', 'X_2_1', 'X_1_4'}\n",
      "INFO:root:_init_parameters\n",
      "INFO:root:optimize_gain 0.9318958575159806\n",
      "INFO:root:chosen var {'x_1_4', 'x_2_1'}\n",
      "INFO:root:tor list {'X_11_8', 'X_2_1', 'X_1_4'}\n",
      "INFO:root:_init_parameters\n",
      "INFO:root:optimize_gain 0.9989796459077595\n",
      "INFO:root:save_mol_file 20220323-00\n",
      "INFO:root:finish save ./molecule-data/Raloxifene_dwave-qa_20220323-00.mol2 and ./molecule-data/Raloxifene_dwave-qa_20220323-00.json\n"
     ]
    },
    {
     "data": {
      "text/plain": [
       "['./molecule-data/Raloxifene_dwave-qa_20220323-00.mol2',\n",
       " './molecule-data/Raloxifene_dwave-qa_20220323-00.json']"
      ]
     },
     "execution_count": 45,
     "metadata": {},
     "output_type": "execute_result"
    }
   ],
   "source": [
    "qa_atom_pos_data = qa_process_result.generate_optimize_pts()\n",
    "# save unfold file for visualization and parameters for experiment: 1. volume value 2. relative improvement\n",
    "qa_process_result.save_mol_file(f\"{timestamp}\")"
   ]
  },
  {
   "cell_type": "code",
   "execution_count": 46,
   "id": "73f503de",
   "metadata": {},
   "outputs": [
    {
     "data": {
      "text/plain": [
       "{'volume': {'optimize': 38.680498383028976,\n",
       "  'initial': 38.720006500112945,\n",
       "  'gain': 1.013887514809817,\n",
       "  'unfolding_results': ['X_11_1', 'X_2_1', 'X_1_4'],\n",
       "  'annealing_results': ['x_1_4', 'x_2_1'],\n",
       "  'optimize_info': {'optimize_state': True, 'result_rank': 260}}}"
      ]
     },
     "execution_count": 46,
     "metadata": {},
     "output_type": "execute_result"
    }
   ],
   "source": [
    "qa_process_result.parameters"
   ]
  },
  {
   "cell_type": "markdown",
   "id": "756cd2d9",
   "metadata": {},
   "source": [
    "In same way, the optimized results are translated the 3D points and saved \n",
    "as local json and mol2 files. The result indicates that QA gains \n",
    "1.021x increase in \n",
    "volume."
   ]
  },
  {
   "cell_type": "markdown",
   "id": "8069d666",
   "metadata": {},
   "source": [
    "Finally, We can open folders for the optimized results:\n",
    "\n",
    "![optimize-results](../../../docs/en/images/optimize-results.png)\n",
    "\n",
    " <center>Optimize Results</center>\n",
    "\n",
    "We can see the json result and mol2 file of SA and QA are \n",
    "stored in this place. If we carry out more \n",
    "experiments, more results with time stamp are \n",
    "stored incrementally. \n",
    "For visualization, \n",
    "we can upload the \n",
    "result **117_ideal_dwave-qa_20220216-05.mol2** \n",
    "into \n",
    "[online viewer tool](https://www.rcsb.org/3d-view) \n",
    "to see the result:\n",
    "\n",
    "![visual](../../../docs/en/images/visualization.png)\n",
    "\n",
    " <center>Visualization</center>"
   ]
  }
 ],
 "metadata": {
  "interpreter": {
   "hash": "18f113ef20d2e5656a0bc837e6c476bd436e29840b6ed1847ecdb90743164c58"
  },
  "kernelspec": {
   "display_name": "conda_braket",
   "language": "python",
   "name": "conda_braket"
  },
  "language_info": {
   "codemirror_mode": {
    "name": "ipython",
    "version": 3
   },
   "file_extension": ".py",
   "mimetype": "text/x-python",
   "name": "python",
   "nbconvert_exporter": "python",
   "pygments_lexer": "ipython3",
   "version": "3.7.11"
  }
 },
 "nbformat": 4,
 "nbformat_minor": 5
}
