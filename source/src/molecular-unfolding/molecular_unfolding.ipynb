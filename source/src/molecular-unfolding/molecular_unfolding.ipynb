{
 "cells": [
  {
   "cell_type": "code",
   "execution_count": 4,
   "id": "594df7d3",
   "metadata": {},
   "outputs": [
    {
     "name": "stdout",
     "output_type": "stream",
     "text": [
      "Collecting biopandas==0.2.9\n",
      "  Downloading biopandas-0.2.9-py2.py3-none-any.whl (264 kB)\n",
      "\u001b[K     |████████████████████████████████| 264 kB 26.1 MB/s eta 0:00:01\n",
      "\u001b[?25hRequirement already satisfied: setuptools in /home/ec2-user/anaconda3/envs/Braket/lib/python3.7/site-packages (from biopandas==0.2.9) (58.0.4)\n",
      "Requirement already satisfied: numpy>=1.16.2 in /home/ec2-user/anaconda3/envs/Braket/lib/python3.7/site-packages (from biopandas==0.2.9) (1.19.2)\n",
      "Requirement already satisfied: pandas>=0.24.2 in /home/ec2-user/anaconda3/envs/Braket/lib/python3.7/site-packages (from biopandas==0.2.9) (1.1.4)\n",
      "Requirement already satisfied: python-dateutil>=2.7.3 in /home/ec2-user/anaconda3/envs/Braket/lib/python3.7/site-packages (from pandas>=0.24.2->biopandas==0.2.9) (2.8.2)\n",
      "Requirement already satisfied: pytz>=2017.2 in /home/ec2-user/anaconda3/envs/Braket/lib/python3.7/site-packages (from pandas>=0.24.2->biopandas==0.2.9) (2021.3)\n",
      "Requirement already satisfied: six>=1.5 in /home/ec2-user/anaconda3/envs/Braket/lib/python3.7/site-packages (from python-dateutil>=2.7.3->pandas>=0.24.2->biopandas==0.2.9) (1.15.0)\n",
      "Installing collected packages: biopandas\n",
      "Successfully installed biopandas-0.2.9\n",
      "Note: you may need to restart the kernel to use updated packages.\n"
     ]
    }
   ],
   "source": [
    "pip install biopandas==0.2.9"
   ]
  },
  {
   "cell_type": "code",
   "execution_count": 65,
   "id": "73b25b84",
   "metadata": {},
   "outputs": [],
   "source": [
    "!rm qmu_117_ideal_data_latest.pickle"
   ]
  },
  {
   "cell_type": "code",
   "execution_count": 1,
   "id": "09a8ad07",
   "metadata": {},
   "outputs": [],
   "source": [
    "from utility.MoleculeParser import MoleculeData\n",
    "from utility.QMUQUBO import QMUQUBO\n",
    "from utility.AnnealerOptimizer import Annealer\n",
    "\n",
    "import logging\n",
    "\n",
    "logging.getLogger().setLevel(logging.INFO)"
   ]
  },
  {
   "cell_type": "markdown",
   "id": "9951b9db",
   "metadata": {},
   "source": [
    "# Step 1: Prepare Data"
   ]
  },
  {
   "cell_type": "code",
   "execution_count": 2,
   "id": "e1e1dc39",
   "metadata": {},
   "outputs": [],
   "source": [
    "# initial parameters for experiment data\n",
    "s3_bucket = f\"amazon-braket-1a222675c751\" # the name of the bucket\n",
    "prefix = \"annealer-experiment\" # the name of the folder in the bucket\n",
    "\n",
    "raw_path = './molecule-data/117_ideal.mol2' # the mol2 file for this experiment"
   ]
  },
  {
   "cell_type": "code",
   "execution_count": 3,
   "id": "b7cd1e98",
   "metadata": {},
   "outputs": [
    {
     "name": "stderr",
     "output_type": "stream",
     "text": [
      "INFO:root:parse mol2 file!\n",
      "INFO:root:finish save qmu_117_ideal_data_latest.pickle\n"
     ]
    },
    {
     "name": "stdout",
     "output_type": "stream",
     "text": [
      "You have loaded the raw molecule data and saved as ./qmu_117_ideal_data_latest.pickle. \n",
      "This molecule has 23 rotable bond\n"
     ]
    }
   ],
   "source": [
    "mol_data = MoleculeData(raw_path, 'qmu')\n",
    "\n",
    "data_path = mol_data.save(\"latest\")\n",
    "\n",
    "num_rotation_bond = mol_data.bond_graph.rb_num\n",
    "print(f\"You have loaded the raw molecule data and saved as {data_path}. \\n\\\n",
    "This molecule has {num_rotation_bond} rotable bond\")"
   ]
  },
  {
   "cell_type": "markdown",
   "id": "ff3b2a2d",
   "metadata": {},
   "source": [
    "# Step 2: Build Model"
   ]
  },
  {
   "cell_type": "code",
   "execution_count": 4,
   "id": "eb31366d",
   "metadata": {},
   "outputs": [
    {
     "name": "stderr",
     "output_type": "stream",
     "text": [
      "INFO:root:initial pre-calculate for constructing molecule QUBO\n"
     ]
    }
   ],
   "source": [
    "# initial the QMUQUBO object\n",
    "init_param = {}\n",
    "method = ['pre-calc']\n",
    "\n",
    "for mt in method:\n",
    "    if mt == 'pre-calc':\n",
    "        init_param[mt] = {}\n",
    "        init_param[mt]['param'] = ['M', 'D', 'A', 'hubo_qubo_val']\n",
    "    \n",
    "qmu_qubo = QMUQUBO(mol_data, method, **init_param)"
   ]
  },
  {
   "cell_type": "code",
   "execution_count": 5,
   "id": "d1ef04d4",
   "metadata": {},
   "outputs": [
    {
     "name": "stderr",
     "output_type": "stream",
     "text": [
      "INFO:root:['30+31']\n",
      "INFO:root:['29+30']\n",
      "INFO:root:['30+31', '29+30']\n",
      "INFO:root:Construct model for M:2,D:8,A:300,hubo_qubo_val:200 0.0018708268801371256 min\n",
      "INFO:root:['30+31']\n",
      "INFO:root:['29+30']\n",
      "INFO:root:['28+29']\n",
      "INFO:root:['30+31', '29+30']\n",
      "INFO:root:['29+30', '28+29']\n",
      "INFO:root:['30+31', '29+30', '28+29']\n",
      "INFO:root:Construct model for M:3,D:8,A:300,hubo_qubo_val:200 0.024077177047729492 min\n"
     ]
    },
    {
     "data": {
      "text/plain": [
       "0"
      ]
     },
     "execution_count": 5,
     "metadata": {},
     "output_type": "execute_result"
    }
   ],
   "source": [
    "# set the parameters for model\n",
    "model_param = {}\n",
    "# parameters\n",
    "num_rotation_bond = mol_data.bond_graph.rb_num\n",
    "\n",
    "method = 'pre-calc'\n",
    "model_param[method] = {}\n",
    "# model_param[method]['M'] = range(1, num_rotation_bond+1)\n",
    "model_param[method]['M'] = [2,3]\n",
    "model_param[method]['D'] = [8]\n",
    "model_param[method]['A'] = [300]\n",
    "model_param[method]['hubo_qubo_val'] = [200]\n",
    "\n",
    "qmu_qubo.build_model(**model_param)"
   ]
  },
  {
   "cell_type": "code",
   "execution_count": 6,
   "id": "ccd91252",
   "metadata": {},
   "outputs": [
    {
     "name": "stderr",
     "output_type": "stream",
     "text": [
      "INFO:root:method: pre-calc\n",
      "INFO:root:The model_name should be {M}_{D}_{A}_{hubo_qubo_val}\n",
      "INFO:root:param: M, value {2, 3}\n",
      "INFO:root:param: D, value {8}\n",
      "INFO:root:param: A, value {300}\n",
      "INFO:root:param: hubo_qubo_val, value {200}\n"
     ]
    }
   ],
   "source": [
    "# describe the model parameters\n",
    "model_info = qmu_qubo.describe_model()"
   ]
  },
  {
   "cell_type": "code",
   "execution_count": 7,
   "id": "33badcf9",
   "metadata": {},
   "outputs": [
    {
     "name": "stderr",
     "output_type": "stream",
     "text": [
      "INFO:root:finish save qmu_117_ideal_model_latest.pickle\n"
     ]
    },
    {
     "name": "stdout",
     "output_type": "stream",
     "text": [
      "You have built the QUBO model and saved it as ./qmu_117_ideal_model_latest.pickle\n"
     ]
    }
   ],
   "source": [
    "# save the model\n",
    "model_path = qmu_qubo.save(\"latest\")\n",
    "\n",
    "print(f\"You have built the QUBO model and saved it as {model_path}\")"
   ]
  },
  {
   "cell_type": "markdown",
   "id": "78a4874f",
   "metadata": {},
   "source": [
    "# Step 3: Optimize Configuration"
   ]
  },
  {
   "cell_type": "code",
   "execution_count": 8,
   "id": "985a2ecb",
   "metadata": {},
   "outputs": [],
   "source": [
    "qmu_qubo_optimize = QMUQUBO.load(model_path)"
   ]
  },
  {
   "cell_type": "code",
   "execution_count": 9,
   "id": "9d2a77b6",
   "metadata": {},
   "outputs": [
    {
     "name": "stderr",
     "output_type": "stream",
     "text": [
      "INFO:root:method: pre-calc\n",
      "INFO:root:The model_name should be {M}_{D}_{A}_{hubo_qubo_val}\n",
      "INFO:root:param: M, value {2, 3}\n",
      "INFO:root:param: D, value {8}\n",
      "INFO:root:param: A, value {300}\n",
      "INFO:root:param: hubo_qubo_val, value {200}\n"
     ]
    }
   ],
   "source": [
    "model_info = qmu_qubo_optimize.describe_model()"
   ]
  },
  {
   "cell_type": "code",
   "execution_count": 10,
   "id": "8f17699a",
   "metadata": {},
   "outputs": [],
   "source": [
    "# get the model you want to optimize\n",
    "M = 2\n",
    "D = 8\n",
    "A = 300\n",
    "hubo_qubo_val = 200\n",
    "model_name = \"{}_{}_{}_{}\".format(M, D, A, hubo_qubo_val)\n",
    "method = \"pre-calc\"\n",
    "\n",
    "qubo_model = qmu_qubo_optimize.get_model(method, model_name)"
   ]
  },
  {
   "cell_type": "code",
   "execution_count": 17,
   "id": "be3cf4cc",
   "metadata": {},
   "outputs": [
    {
     "name": "stdout",
     "output_type": "stream",
     "text": [
      "use simulated annealer from dimod\n"
     ]
    }
   ],
   "source": [
    "method = 'dwave-sa'\n",
    "\n",
    "optimizer_param = {}\n",
    "optimizer_param['shots'] = 100\n",
    "\n",
    "sa_optimizer = Annealer(qubo_model, method, **optimizer_param)"
   ]
  },
  {
   "cell_type": "code",
   "execution_count": 18,
   "id": "709161e0",
   "metadata": {},
   "outputs": [
    {
     "name": "stdout",
     "output_type": "stream",
     "text": [
      "fit() ...\n",
      "dwave-sa save to local\n",
      "finish save sa_result.pickle\n"
     ]
    }
   ],
   "source": [
    "sa_optimize_result = sa_optimizer.fit()"
   ]
  },
  {
   "cell_type": "code",
   "execution_count": 13,
   "id": "d583fff7",
   "metadata": {},
   "outputs": [
    {
     "name": "stdout",
     "output_type": "stream",
     "text": [
      "use quantum annealer arn:aws:braket:::device/qpu/d-wave/Advantage_system4 \n"
     ]
    }
   ],
   "source": [
    "method = 'dwave-qa'\n",
    "\n",
    "optimizer_param = {}\n",
    "optimizer_param['shots'] = 10000\n",
    "optimizer_param['bucket'] = s3_bucket # the name of the bucket\n",
    "optimizer_param['prefix'] = prefix # the name of the folder in the bucket\n",
    "optimizer_param['device'] = \"arn:aws:braket:::device/qpu/d-wave/Advantage_system4\"\n",
    "optimizer_param[\"embed_method\"] = \"default\"\n",
    "\n",
    "qa_optimizer = Annealer(qubo_model, method, **optimizer_param)"
   ]
  },
  {
   "cell_type": "code",
   "execution_count": 14,
   "id": "9d8c89f7",
   "metadata": {},
   "outputs": [
    {
     "name": "stdout",
     "output_type": "stream",
     "text": [
      "fit() ...\n"
     ]
    },
    {
     "name": "stderr",
     "output_type": "stream",
     "text": [
      "INFO:root:_upload_result_json, bucket=amazon-braket-1a222675c751, key=annealer-experiment/2982d4bc-5ad6-4e21-a38d-7943662edeb2/qa_result.pickle\n"
     ]
    },
    {
     "name": "stdout",
     "output_type": "stream",
     "text": [
      "finish save /tmp/qa_result.pickle\n",
      "dwave-qa save to s3 - 2982d4bc-5ad6-4e21-a38d-7943662edeb2: None\n"
     ]
    }
   ],
   "source": [
    "# not create annealing task, only embedding logic\n",
    "qa_optimizer.embed()\n",
    "# create annealing task\n",
    "qa_optimize_result = qa_optimizer.fit()"
   ]
  },
  {
   "cell_type": "code",
   "execution_count": 15,
   "id": "c5f4c03b",
   "metadata": {},
   "outputs": [
    {
     "name": "stderr",
     "output_type": "stream",
     "text": [
      "INFO:root:task id is 2982d4bc-5ad6-4e21-a38d-7943662edeb2\n"
     ]
    }
   ],
   "source": [
    "qa_task_id = qa_optimizer.get_task_id()\n",
    "logging.info(f\"task id is {qa_task_id}\")"
   ]
  },
  {
   "cell_type": "code",
   "execution_count": 19,
   "id": "e2b1bdc1",
   "metadata": {},
   "outputs": [
    {
     "name": "stderr",
     "output_type": "stream",
     "text": [
      "INFO:root:dwave-sa run time 17.30202603340149\n",
      "INFO:root:dwave-qa run time 7.695152997970581\n"
     ]
    }
   ],
   "source": [
    "logging.info(f\"dwave-sa run time {sa_optimize_result['time']}\")\n",
    "logging.info(f\"dwave-qa run time {qa_optimize_result['time']}\")"
   ]
  },
  {
   "cell_type": "markdown",
   "id": "caa69060",
   "metadata": {},
   "source": [
    "# Step 4: PostProcess Result"
   ]
  },
  {
   "cell_type": "markdown",
   "id": "4c4557df",
   "metadata": {},
   "source": [
    "#### get time for qpu"
   ]
  },
  {
   "cell_type": "code",
   "execution_count": 57,
   "id": "959efe9e",
   "metadata": {},
   "outputs": [],
   "source": [
    "from utility.ResultProcess import ResultParser\n",
    "import time\n",
    "\n",
    "timestamp = time.strftime(\"%Y%m%d-%H\")"
   ]
  },
  {
   "cell_type": "code",
   "execution_count": 18,
   "id": "af62565c",
   "metadata": {},
   "outputs": [
    {
     "name": "stderr",
     "output_type": "stream",
     "text": [
      "INFO:root:time for dwave-sa: \n",
      "     local time is 0.018619060516357422\n"
     ]
    },
    {
     "name": "stdout",
     "output_type": "stream",
     "text": [
      "_load_raw_result\n",
      "load simulated annealer raw result\n",
      "MoleculeData.load()\n",
      "_init_mol_file\n",
      "_parse_model_info\n",
      "_parse_model_info() model_info = {'model_name': '1_4_300_200', 'rb_name': ['30+31'], 'var': {'1': {'1': 'x_1_1', '2': 'x_1_2', '3': 'x_1_3', '4': 'x_1_4'}, '2': {'1': 'x_2_1', '2': 'x_2_2', '3': 'x_2_3', '4': 'x_2_4'}, '3': {'1': 'x_3_1', '2': 'x_3_2', '3': 'x_3_3', '4': 'x_3_4'}, '4': {'1': 'x_4_1', '2': 'x_4_2', '3': 'x_4_3', '4': 'x_4_4'}, '5': {'1': 'x_5_1', '2': 'x_5_2', '3': 'x_5_3', '4': 'x_5_4'}, '6': {'1': 'x_6_1', '2': 'x_6_2', '3': 'x_6_3', '4': 'x_6_4'}, '7': {'1': 'x_7_1', '2': 'x_7_2', '3': 'x_7_3', '4': 'x_7_4'}, '8': {'1': 'x_8_1', '2': 'x_8_2', '3': 'x_8_3', '4': 'x_8_4'}, '9': {'1': 'x_9_1', '2': 'x_9_2', '3': 'x_9_3', '4': 'x_9_4'}, '10': {'1': 'x_10_1', '2': 'x_10_2', '3': 'x_10_3', '4': 'x_10_4'}, '11': {'1': 'x_11_1', '2': 'x_11_2', '3': 'x_11_3', '4': 'x_11_4'}, '12': {'1': 'x_12_1', '2': 'x_12_2', '3': 'x_12_3', '4': 'x_12_4'}, '13': {'1': 'x_13_1', '2': 'x_13_2', '3': 'x_13_3', '4': 'x_13_4'}, '14': {'1': 'x_14_1', '2': 'x_14_2', '3': 'x_14_3', '4': 'x_14_4'}, '15': {'1': 'x_15_1', '2': 'x_15_2', '3': 'x_15_3', '4': 'x_15_4'}, '16': {'1': 'x_16_1', '2': 'x_16_2', '3': 'x_16_3', '4': 'x_16_4'}, '17': {'1': 'x_17_1', '2': 'x_17_2', '3': 'x_17_3', '4': 'x_17_4'}, '18': {'1': 'x_18_1', '2': 'x_18_2', '3': 'x_18_3', '4': 'x_18_4'}, '19': {'1': 'x_19_1', '2': 'x_19_2', '3': 'x_19_3', '4': 'x_19_4'}, '20': {'1': 'x_20_1', '2': 'x_20_2', '3': 'x_20_3', '4': 'x_20_4'}, '21': {'1': 'x_21_1', '2': 'x_21_2', '3': 'x_21_3', '4': 'x_21_4'}, '22': {'1': 'x_22_1', '2': 'x_22_2', '3': 'x_22_3', '4': 'x_22_4'}, '23': {'1': 'x_23_1', '2': 'x_23_2', '3': 'x_23_3', '4': 'x_23_4'}}, 'var_rb_map': {'1': '2+32', '2': '9+14', '3': '14+31', '4': '14+32', '5': '15+35', '6': '21+24', '7': '23+26', '8': '24+25', '9': '25+26', '10': '26+27', '11': '27+28', '12': '28+29', '13': '28+41', '14': '29+30', '15': '30+31', '16': '31+37', '17': '32+33', '18': '33+34', '19': '33+37', '20': '34+35', '21': '37+38', '22': '38+39', '23': '38+40'}, 'rb_var_map': {'2+32': '1', '9+14': '2', '14+31': '3', '14+32': '4', '15+35': '5', '21+24': '6', '23+26': '7', '24+25': '8', '25+26': '9', '26+27': '10', '27+28': '11', '28+29': '12', '28+41': '13', '29+30': '14', '30+31': '15', '31+37': '16', '32+33': '17', '33+34': '18', '33+37': '19', '34+35': '20', '37+38': '21', '38+39': '22', '38+40': '23'}}\n",
      "valid var for this model is ['x_15_1', 'x_15_2', 'x_15_3', 'x_15_4']\n",
      "_init_parameters\n",
      "parse simulated annealer result\n",
      "sa only has local_time!\n"
     ]
    }
   ],
   "source": [
    "method = \"dwave-sa\"\n",
    "sa_param = {}\n",
    "sa_param[\"raw_path\"] = raw_path\n",
    "sa_param[\"data_path\"] = data_path\n",
    "\n",
    "sa_process_result = ResultParser(method, **sa_param)\n",
    "logging.debug(f\"{method} result is {sa_process_result.get_all_result()}\")\n",
    "\n",
    "local_time, _ , _, _= sa_process_result.get_time()\n",
    "\n",
    "logging.info(f\"time for {method}: \\n \\\n",
    "    local time is {local_time}\")"
   ]
  },
  {
   "cell_type": "code",
   "execution_count": 22,
   "id": "96f8c566",
   "metadata": {},
   "outputs": [
    {
     "name": "stderr",
     "output_type": "stream",
     "text": [
      "INFO:root:!!!!!!!!!!!! found van der waals check fail at 8 and 64 with check: 2.9 v.s. real 2.660067472828462\n",
      "INFO:root:!!!!!!!!!!!! found van der waals check fail at 9 and 29 with check: 3.4 v.s. real 2.510724861469293\n",
      "INFO:root:!!!!!!!!!!!! found van der waals check fail at 9 and 64 with check: 2.9 v.s. real 2.1757572382965886\n",
      "INFO:root:!!!!!!!!!!!! found van der waals check fail at 9 and 65 with check: 2.9 v.s. real 2.1766295252063452\n",
      "INFO:root:!!!!!!!!!!!! found van der waals check fail at 10 and 29 with check: 3.4 v.s. real 2.3732298519106827\n",
      "INFO:root:!!!!!!!!!!!! found van der waals check fail at 10 and 64 with check: 2.9 v.s. real 2.456193388151674\n",
      "INFO:root:!!!!!!!!!!!! found van der waals check fail at 10 and 65 with check: 2.9 v.s. real 1.5181347403969123\n",
      "INFO:root:!!!!!!!!!!!! found van der waals check fail at 11 and 29 with check: 3.4 v.s. real 3.191020014039399\n",
      "INFO:root:!!!!!!!!!!!! found van der waals check fail at 11 and 62 with check: 2.9 v.s. real 2.8350548566121256\n",
      "INFO:root:!!!!!!!!!!!! found van der waals check fail at 11 and 65 with check: 2.9 v.s. real 2.421792784281925\n",
      "INFO:root:!!!!!!!!!!!! found van der waals check fail at 14 and 64 with check: 2.9 v.s. real 2.6833319884054596\n",
      "INFO:root:!!!!!!!!!!!! found van der waals check fail at 14 and 65 with check: 2.9 v.s. real 2.683508913717262\n",
      "INFO:root:!!!!!!!!!!!! found van der waals check fail at 29 and 49 with check: 2.9 v.s. real 2.384733597280837\n",
      "INFO:root:!!!!!!!!!!!! found van der waals check fail at 37 and 66 with check: 2.9 v.s. real 2.806211105743828\n"
     ]
    },
    {
     "name": "stdout",
     "output_type": "stream",
     "text": [
      "generate_optimize_pts()\n",
      "generate_optimize_pts model_info={'model_name': '1_4_300_200', 'rb_name': ['30+31'], 'var': {'1': {'1': 'x_1_1', '2': 'x_1_2', '3': 'x_1_3', '4': 'x_1_4'}, '2': {'1': 'x_2_1', '2': 'x_2_2', '3': 'x_2_3', '4': 'x_2_4'}, '3': {'1': 'x_3_1', '2': 'x_3_2', '3': 'x_3_3', '4': 'x_3_4'}, '4': {'1': 'x_4_1', '2': 'x_4_2', '3': 'x_4_3', '4': 'x_4_4'}, '5': {'1': 'x_5_1', '2': 'x_5_2', '3': 'x_5_3', '4': 'x_5_4'}, '6': {'1': 'x_6_1', '2': 'x_6_2', '3': 'x_6_3', '4': 'x_6_4'}, '7': {'1': 'x_7_1', '2': 'x_7_2', '3': 'x_7_3', '4': 'x_7_4'}, '8': {'1': 'x_8_1', '2': 'x_8_2', '3': 'x_8_3', '4': 'x_8_4'}, '9': {'1': 'x_9_1', '2': 'x_9_2', '3': 'x_9_3', '4': 'x_9_4'}, '10': {'1': 'x_10_1', '2': 'x_10_2', '3': 'x_10_3', '4': 'x_10_4'}, '11': {'1': 'x_11_1', '2': 'x_11_2', '3': 'x_11_3', '4': 'x_11_4'}, '12': {'1': 'x_12_1', '2': 'x_12_2', '3': 'x_12_3', '4': 'x_12_4'}, '13': {'1': 'x_13_1', '2': 'x_13_2', '3': 'x_13_3', '4': 'x_13_4'}, '14': {'1': 'x_14_1', '2': 'x_14_2', '3': 'x_14_3', '4': 'x_14_4'}, '15': {'1': 'x_15_1', '2': 'x_15_2', '3': 'x_15_3', '4': 'x_15_4'}, '16': {'1': 'x_16_1', '2': 'x_16_2', '3': 'x_16_3', '4': 'x_16_4'}, '17': {'1': 'x_17_1', '2': 'x_17_2', '3': 'x_17_3', '4': 'x_17_4'}, '18': {'1': 'x_18_1', '2': 'x_18_2', '3': 'x_18_3', '4': 'x_18_4'}, '19': {'1': 'x_19_1', '2': 'x_19_2', '3': 'x_19_3', '4': 'x_19_4'}, '20': {'1': 'x_20_1', '2': 'x_20_2', '3': 'x_20_3', '4': 'x_20_4'}, '21': {'1': 'x_21_1', '2': 'x_21_2', '3': 'x_21_3', '4': 'x_21_4'}, '22': {'1': 'x_22_1', '2': 'x_22_2', '3': 'x_22_3', '4': 'x_22_4'}, '23': {'1': 'x_23_1', '2': 'x_23_2', '3': 'x_23_3', '4': 'x_23_4'}}, 'var_rb_map': {'1': '2+32', '2': '9+14', '3': '14+31', '4': '14+32', '5': '15+35', '6': '21+24', '7': '23+26', '8': '24+25', '9': '25+26', '10': '26+27', '11': '27+28', '12': '28+29', '13': '28+41', '14': '29+30', '15': '30+31', '16': '31+37', '17': '32+33', '18': '33+34', '19': '33+37', '20': '34+35', '21': '37+38', '22': '38+39', '23': '38+40'}, 'rb_var_map': {'2+32': '1', '9+14': '2', '14+31': '3', '14+32': '4', '15+35': '5', '21+24': '6', '23+26': '7', '24+25': '8', '25+26': '9', '26+27': '10', '27+28': '11', '28+29': '12', '28+41': '13', '29+30': '14', '30+31': '15', '31+37': '16', '32+33': '17', '33+34': '18', '33+37': '19', '34+35': '20', '37+38': '21', '38+39': '22', '38+40': '23'}}\n",
      "x_15_4\n",
      "finish update optimize points for ['x_15_4']\n"
     ]
    },
    {
     "name": "stderr",
     "output_type": "stream",
     "text": [
      "INFO:root:!!!!!!!!!!!! found van der waals check fail at 49 and 65 with check: 2.4 v.s. real 1.3359641799090274\n"
     ]
    },
    {
     "name": "stdout",
     "output_type": "stream",
     "text": [
      "save_mol_file 20220106-15\n",
      "finish save ./molecule-data/117_ideal_dwave-sa_20220106-15.mol2 and ./molecule-data/117_ideal_dwave-sa_20220106-15.json\n"
     ]
    },
    {
     "data": {
      "text/plain": [
       "['./molecule-data/117_ideal_dwave-sa_20220106-15.mol2',\n",
       " './molecule-data/117_ideal_dwave-sa_20220106-15.json']"
      ]
     },
     "execution_count": 22,
     "metadata": {},
     "output_type": "execute_result"
    }
   ],
   "source": [
    "sa_atom_pos_data = sa_process_result.generate_optimize_pts()\n",
    "# save unfold file for visualization and parameters for experiment: 1. volume value 2. relative improvement\n",
    "sa_process_result.save_mol_file(f\"{timestamp}\")"
   ]
  },
  {
   "cell_type": "code",
   "execution_count": 23,
   "id": "b7226479",
   "metadata": {},
   "outputs": [
    {
     "data": {
      "text/plain": [
       "{'volume': {'initial': 19926.786975170362,\n",
       "  'optimize': 19758.527817825187,\n",
       "  'gain': 0.9915561320771465}}"
      ]
     },
     "execution_count": 23,
     "metadata": {},
     "output_type": "execute_result"
    }
   ],
   "source": [
    "sa_process_result.parameters"
   ]
  },
  {
   "cell_type": "code",
   "execution_count": 58,
   "id": "241474b5",
   "metadata": {},
   "outputs": [
    {
     "name": "stdout",
     "output_type": "stream",
     "text": [
      "_load_raw_result\n",
      "load quantum annealer raw result\n",
      "_read_result_obj\n",
      "_read_result_obj: annealer-experiment/2f6a2b2c-9413-424e-8380-85ed4f366ae6/qa_result.pickle\n",
      "MoleculeData.load()\n",
      "_init_mol_file\n",
      "_parse_model_info\n",
      "_parse_model_info() model_info = {'model_name': '2_8_300_200', 'rb_name': ['30+31', '29+30'], 'var': {'1': {'1': 'x_1_1', '2': 'x_1_2', '3': 'x_1_3', '4': 'x_1_4', '5': 'x_1_5', '6': 'x_1_6', '7': 'x_1_7', '8': 'x_1_8'}, '2': {'1': 'x_2_1', '2': 'x_2_2', '3': 'x_2_3', '4': 'x_2_4', '5': 'x_2_5', '6': 'x_2_6', '7': 'x_2_7', '8': 'x_2_8'}, '3': {'1': 'x_3_1', '2': 'x_3_2', '3': 'x_3_3', '4': 'x_3_4', '5': 'x_3_5', '6': 'x_3_6', '7': 'x_3_7', '8': 'x_3_8'}, '4': {'1': 'x_4_1', '2': 'x_4_2', '3': 'x_4_3', '4': 'x_4_4', '5': 'x_4_5', '6': 'x_4_6', '7': 'x_4_7', '8': 'x_4_8'}, '5': {'1': 'x_5_1', '2': 'x_5_2', '3': 'x_5_3', '4': 'x_5_4', '5': 'x_5_5', '6': 'x_5_6', '7': 'x_5_7', '8': 'x_5_8'}, '6': {'1': 'x_6_1', '2': 'x_6_2', '3': 'x_6_3', '4': 'x_6_4', '5': 'x_6_5', '6': 'x_6_6', '7': 'x_6_7', '8': 'x_6_8'}, '7': {'1': 'x_7_1', '2': 'x_7_2', '3': 'x_7_3', '4': 'x_7_4', '5': 'x_7_5', '6': 'x_7_6', '7': 'x_7_7', '8': 'x_7_8'}, '8': {'1': 'x_8_1', '2': 'x_8_2', '3': 'x_8_3', '4': 'x_8_4', '5': 'x_8_5', '6': 'x_8_6', '7': 'x_8_7', '8': 'x_8_8'}, '9': {'1': 'x_9_1', '2': 'x_9_2', '3': 'x_9_3', '4': 'x_9_4', '5': 'x_9_5', '6': 'x_9_6', '7': 'x_9_7', '8': 'x_9_8'}, '10': {'1': 'x_10_1', '2': 'x_10_2', '3': 'x_10_3', '4': 'x_10_4', '5': 'x_10_5', '6': 'x_10_6', '7': 'x_10_7', '8': 'x_10_8'}, '11': {'1': 'x_11_1', '2': 'x_11_2', '3': 'x_11_3', '4': 'x_11_4', '5': 'x_11_5', '6': 'x_11_6', '7': 'x_11_7', '8': 'x_11_8'}, '12': {'1': 'x_12_1', '2': 'x_12_2', '3': 'x_12_3', '4': 'x_12_4', '5': 'x_12_5', '6': 'x_12_6', '7': 'x_12_7', '8': 'x_12_8'}, '13': {'1': 'x_13_1', '2': 'x_13_2', '3': 'x_13_3', '4': 'x_13_4', '5': 'x_13_5', '6': 'x_13_6', '7': 'x_13_7', '8': 'x_13_8'}, '14': {'1': 'x_14_1', '2': 'x_14_2', '3': 'x_14_3', '4': 'x_14_4', '5': 'x_14_5', '6': 'x_14_6', '7': 'x_14_7', '8': 'x_14_8'}, '15': {'1': 'x_15_1', '2': 'x_15_2', '3': 'x_15_3', '4': 'x_15_4', '5': 'x_15_5', '6': 'x_15_6', '7': 'x_15_7', '8': 'x_15_8'}, '16': {'1': 'x_16_1', '2': 'x_16_2', '3': 'x_16_3', '4': 'x_16_4', '5': 'x_16_5', '6': 'x_16_6', '7': 'x_16_7', '8': 'x_16_8'}, '17': {'1': 'x_17_1', '2': 'x_17_2', '3': 'x_17_3', '4': 'x_17_4', '5': 'x_17_5', '6': 'x_17_6', '7': 'x_17_7', '8': 'x_17_8'}, '18': {'1': 'x_18_1', '2': 'x_18_2', '3': 'x_18_3', '4': 'x_18_4', '5': 'x_18_5', '6': 'x_18_6', '7': 'x_18_7', '8': 'x_18_8'}, '19': {'1': 'x_19_1', '2': 'x_19_2', '3': 'x_19_3', '4': 'x_19_4', '5': 'x_19_5', '6': 'x_19_6', '7': 'x_19_7', '8': 'x_19_8'}, '20': {'1': 'x_20_1', '2': 'x_20_2', '3': 'x_20_3', '4': 'x_20_4', '5': 'x_20_5', '6': 'x_20_6', '7': 'x_20_7', '8': 'x_20_8'}, '21': {'1': 'x_21_1', '2': 'x_21_2', '3': 'x_21_3', '4': 'x_21_4', '5': 'x_21_5', '6': 'x_21_6', '7': 'x_21_7', '8': 'x_21_8'}, '22': {'1': 'x_22_1', '2': 'x_22_2', '3': 'x_22_3', '4': 'x_22_4', '5': 'x_22_5', '6': 'x_22_6', '7': 'x_22_7', '8': 'x_22_8'}, '23': {'1': 'x_23_1', '2': 'x_23_2', '3': 'x_23_3', '4': 'x_23_4', '5': 'x_23_5', '6': 'x_23_6', '7': 'x_23_7', '8': 'x_23_8'}}, 'var_rb_map': {'1': '2+32', '2': '9+14', '3': '14+31', '4': '14+32', '5': '15+35', '6': '21+24', '7': '23+26', '8': '24+25', '9': '25+26', '10': '26+27', '11': '27+28', '12': '28+29', '13': '28+41', '14': '29+30', '15': '30+31', '16': '31+37', '17': '32+33', '18': '33+34', '19': '33+37', '20': '34+35', '21': '37+38', '22': '38+39', '23': '38+40'}, 'rb_var_map': {'2+32': '1', '9+14': '2', '14+31': '3', '14+32': '4', '15+35': '5', '21+24': '6', '23+26': '7', '24+25': '8', '25+26': '9', '26+27': '10', '27+28': '11', '28+29': '12', '28+41': '13', '29+30': '14', '30+31': '15', '31+37': '16', '32+33': '17', '33+34': '18', '33+37': '19', '34+35': '20', '37+38': '21', '38+39': '22', '38+40': '23'}}\n",
      "valid var for this model is ['x_15_1', 'x_15_2', 'x_15_3', 'x_15_4', 'x_15_5', 'x_15_6', 'x_15_7', 'x_15_8', 'x_14_1', 'x_14_2', 'x_14_3', 'x_14_4', 'x_14_5', 'x_14_6', 'x_14_7', 'x_14_8']\n",
      "_init_parameters\n"
     ]
    },
    {
     "name": "stderr",
     "output_type": "stream",
     "text": [
      "INFO:root:time for dwave-qa: \n",
      "     local time is 7.09752345085144,\n",
      "     task time is 3.192, \n",
      "     qpu total time is 1.057221, \n",
      "     qpu access time is 1.0262470000000001\n"
     ]
    },
    {
     "name": "stdout",
     "output_type": "stream",
     "text": [
      "parse quantum annealer result\n",
      "_read_result_obj\n",
      "_read_result_obj: annealer-experiment/2f6a2b2c-9413-424e-8380-85ed4f366ae6/results.json\n"
     ]
    }
   ],
   "source": [
    "method = \"dwave-qa\"\n",
    "qa_param = {}\n",
    "qa_param[\"bucket\"] = s3_bucket\n",
    "qa_param[\"prefix\"] = prefix\n",
    "qa_param[\"task_id\"] = qa_task_id\n",
    "qa_param[\"raw_path\"] = raw_path\n",
    "qa_param[\"data_path\"] = data_path\n",
    "\n",
    "qa_process_result = ResultParser(method, **qa_param)\n",
    "logging.debug(f\"{method} result is {qa_process_result.get_all_result()}\")\n",
    "\n",
    "local_time, task_time, total_time, access_time = qa_process_result.get_time()\n",
    "\n",
    "logging.info(f\"time for {method}: \\n \\\n",
    "    local time is {local_time},\\n \\\n",
    "    task time is {task_time}, \\n \\\n",
    "    qpu total time is {total_time}, \\n \\\n",
    "    qpu access time is {access_time}\")"
   ]
  },
  {
   "cell_type": "markdown",
   "id": "50000b20",
   "metadata": {},
   "source": [
    "#### parse results"
   ]
  },
  {
   "cell_type": "code",
   "execution_count": 59,
   "id": "3705733c",
   "metadata": {},
   "outputs": [
    {
     "name": "stderr",
     "output_type": "stream",
     "text": [
      "INFO:root:!!!!!!!!!!!! found van der waals check fail at 9 and 29 with check: 3.4 v.s. real 2.903339048406162\n",
      "INFO:root:!!!!!!!!!!!! found van der waals check fail at 10 and 29 with check: 3.4 v.s. real 3.20725895898663\n"
     ]
    },
    {
     "name": "stdout",
     "output_type": "stream",
     "text": [
      "generate_optimize_pts()\n",
      "generate_optimize_pts model_info={'model_name': '2_8_300_200', 'rb_name': ['30+31', '29+30'], 'var': {'1': {'1': 'x_1_1', '2': 'x_1_2', '3': 'x_1_3', '4': 'x_1_4', '5': 'x_1_5', '6': 'x_1_6', '7': 'x_1_7', '8': 'x_1_8'}, '2': {'1': 'x_2_1', '2': 'x_2_2', '3': 'x_2_3', '4': 'x_2_4', '5': 'x_2_5', '6': 'x_2_6', '7': 'x_2_7', '8': 'x_2_8'}, '3': {'1': 'x_3_1', '2': 'x_3_2', '3': 'x_3_3', '4': 'x_3_4', '5': 'x_3_5', '6': 'x_3_6', '7': 'x_3_7', '8': 'x_3_8'}, '4': {'1': 'x_4_1', '2': 'x_4_2', '3': 'x_4_3', '4': 'x_4_4', '5': 'x_4_5', '6': 'x_4_6', '7': 'x_4_7', '8': 'x_4_8'}, '5': {'1': 'x_5_1', '2': 'x_5_2', '3': 'x_5_3', '4': 'x_5_4', '5': 'x_5_5', '6': 'x_5_6', '7': 'x_5_7', '8': 'x_5_8'}, '6': {'1': 'x_6_1', '2': 'x_6_2', '3': 'x_6_3', '4': 'x_6_4', '5': 'x_6_5', '6': 'x_6_6', '7': 'x_6_7', '8': 'x_6_8'}, '7': {'1': 'x_7_1', '2': 'x_7_2', '3': 'x_7_3', '4': 'x_7_4', '5': 'x_7_5', '6': 'x_7_6', '7': 'x_7_7', '8': 'x_7_8'}, '8': {'1': 'x_8_1', '2': 'x_8_2', '3': 'x_8_3', '4': 'x_8_4', '5': 'x_8_5', '6': 'x_8_6', '7': 'x_8_7', '8': 'x_8_8'}, '9': {'1': 'x_9_1', '2': 'x_9_2', '3': 'x_9_3', '4': 'x_9_4', '5': 'x_9_5', '6': 'x_9_6', '7': 'x_9_7', '8': 'x_9_8'}, '10': {'1': 'x_10_1', '2': 'x_10_2', '3': 'x_10_3', '4': 'x_10_4', '5': 'x_10_5', '6': 'x_10_6', '7': 'x_10_7', '8': 'x_10_8'}, '11': {'1': 'x_11_1', '2': 'x_11_2', '3': 'x_11_3', '4': 'x_11_4', '5': 'x_11_5', '6': 'x_11_6', '7': 'x_11_7', '8': 'x_11_8'}, '12': {'1': 'x_12_1', '2': 'x_12_2', '3': 'x_12_3', '4': 'x_12_4', '5': 'x_12_5', '6': 'x_12_6', '7': 'x_12_7', '8': 'x_12_8'}, '13': {'1': 'x_13_1', '2': 'x_13_2', '3': 'x_13_3', '4': 'x_13_4', '5': 'x_13_5', '6': 'x_13_6', '7': 'x_13_7', '8': 'x_13_8'}, '14': {'1': 'x_14_1', '2': 'x_14_2', '3': 'x_14_3', '4': 'x_14_4', '5': 'x_14_5', '6': 'x_14_6', '7': 'x_14_7', '8': 'x_14_8'}, '15': {'1': 'x_15_1', '2': 'x_15_2', '3': 'x_15_3', '4': 'x_15_4', '5': 'x_15_5', '6': 'x_15_6', '7': 'x_15_7', '8': 'x_15_8'}, '16': {'1': 'x_16_1', '2': 'x_16_2', '3': 'x_16_3', '4': 'x_16_4', '5': 'x_16_5', '6': 'x_16_6', '7': 'x_16_7', '8': 'x_16_8'}, '17': {'1': 'x_17_1', '2': 'x_17_2', '3': 'x_17_3', '4': 'x_17_4', '5': 'x_17_5', '6': 'x_17_6', '7': 'x_17_7', '8': 'x_17_8'}, '18': {'1': 'x_18_1', '2': 'x_18_2', '3': 'x_18_3', '4': 'x_18_4', '5': 'x_18_5', '6': 'x_18_6', '7': 'x_18_7', '8': 'x_18_8'}, '19': {'1': 'x_19_1', '2': 'x_19_2', '3': 'x_19_3', '4': 'x_19_4', '5': 'x_19_5', '6': 'x_19_6', '7': 'x_19_7', '8': 'x_19_8'}, '20': {'1': 'x_20_1', '2': 'x_20_2', '3': 'x_20_3', '4': 'x_20_4', '5': 'x_20_5', '6': 'x_20_6', '7': 'x_20_7', '8': 'x_20_8'}, '21': {'1': 'x_21_1', '2': 'x_21_2', '3': 'x_21_3', '4': 'x_21_4', '5': 'x_21_5', '6': 'x_21_6', '7': 'x_21_7', '8': 'x_21_8'}, '22': {'1': 'x_22_1', '2': 'x_22_2', '3': 'x_22_3', '4': 'x_22_4', '5': 'x_22_5', '6': 'x_22_6', '7': 'x_22_7', '8': 'x_22_8'}, '23': {'1': 'x_23_1', '2': 'x_23_2', '3': 'x_23_3', '4': 'x_23_4', '5': 'x_23_5', '6': 'x_23_6', '7': 'x_23_7', '8': 'x_23_8'}}, 'var_rb_map': {'1': '2+32', '2': '9+14', '3': '14+31', '4': '14+32', '5': '15+35', '6': '21+24', '7': '23+26', '8': '24+25', '9': '25+26', '10': '26+27', '11': '27+28', '12': '28+29', '13': '28+41', '14': '29+30', '15': '30+31', '16': '31+37', '17': '32+33', '18': '33+34', '19': '33+37', '20': '34+35', '21': '37+38', '22': '38+39', '23': '38+40'}, 'rb_var_map': {'2+32': '1', '9+14': '2', '14+31': '3', '14+32': '4', '15+35': '5', '21+24': '6', '23+26': '7', '24+25': '8', '25+26': '9', '26+27': '10', '27+28': '11', '28+29': '12', '28+41': '13', '29+30': '14', '30+31': '15', '31+37': '16', '32+33': '17', '33+34': '18', '33+37': '19', '34+35': '20', '37+38': '21', '38+39': '22', '38+40': '23'}}\n",
      "x_15_8\n",
      "x_14_1\n",
      "finish update optimize points for ['x_15_8', 'x_14_1']\n"
     ]
    },
    {
     "name": "stderr",
     "output_type": "stream",
     "text": [
      "INFO:root:!!!!!!!!!!!! found van der waals check fail at 64 and 67 with check: 2.4 v.s. real 1.706906634822186\n",
      "INFO:root:!!!!!!!!!!!! found van der waals check fail at 67 and 76 with check: 2.4 v.s. real 2.2645427485477065\n"
     ]
    },
    {
     "name": "stdout",
     "output_type": "stream",
     "text": [
      "save_mol_file 20220214-07\n",
      "finish save ./molecule-data/117_ideal_dwave-qa_20220214-07.mol2 and ./molecule-data/117_ideal_dwave-qa_20220214-07.json\n"
     ]
    },
    {
     "data": {
      "text/plain": [
       "['./molecule-data/117_ideal_dwave-qa_20220214-07.mol2',\n",
       " './molecule-data/117_ideal_dwave-qa_20220214-07.json']"
      ]
     },
     "execution_count": 59,
     "metadata": {},
     "output_type": "execute_result"
    }
   ],
   "source": [
    "qa_atom_pos_data = qa_process_result.generate_optimize_pts()\n",
    "# save unfold file for visualization and parameters for experiment: 1. volume value 2. relative improvement\n",
    "qa_process_result.save_mol_file(f\"{timestamp}\")"
   ]
  },
  {
   "cell_type": "code",
   "execution_count": 60,
   "id": "ba50b067",
   "metadata": {},
   "outputs": [
    {
     "data": {
      "text/plain": [
       "{'volume': {'initial': 19926.786975170362,\n",
       "  'optimize': 19928.49791776223,\n",
       "  'gain': 1.0000858614383743}}"
      ]
     },
     "execution_count": 60,
     "metadata": {},
     "output_type": "execute_result"
    }
   ],
   "source": [
    "qa_process_result.parameters"
   ]
  }
 ],
 "metadata": {
  "interpreter": {
   "hash": "18f113ef20d2e5656a0bc837e6c476bd436e29840b6ed1847ecdb90743164c58"
  },
  "kernelspec": {
   "display_name": "conda_braket",
   "language": "python",
   "name": "conda_braket"
  },
  "language_info": {
   "codemirror_mode": {
    "name": "ipython",
    "version": 3
   },
   "file_extension": ".py",
   "mimetype": "text/x-python",
   "name": "python",
   "nbconvert_exporter": "python",
   "pygments_lexer": "ipython3",
   "version": "3.7.11"
  }
 },
 "nbformat": 4,
 "nbformat_minor": 5
}
