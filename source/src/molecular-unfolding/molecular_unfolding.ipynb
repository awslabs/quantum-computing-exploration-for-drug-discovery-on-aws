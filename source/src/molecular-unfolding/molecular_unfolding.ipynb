{
 "cells": [
  {
   "cell_type": "code",
   "execution_count": 1,
   "id": "ad45f6a6",
   "metadata": {},
   "outputs": [
    {
     "name": "stderr",
     "output_type": "stream",
     "text": [
      "2022-02-16 06:34:24,983 dwave.cloud INFO MainThread Log level for 'dwave.cloud' namespace set to 0\n"
     ]
    }
   ],
   "source": [
    "from utility.MoleculeParser import MoleculeData\n",
    "from utility.QMUQUBO import QMUQUBO\n",
    "from utility.AnnealerOptimizer import Annealer\n",
    "from utility.ResultProcess import ResultParser\n",
    "import time\n",
    "\n",
    "timestamp = time.strftime(\"%Y%m%d-%H\")"
   ]
  },
  {
   "cell_type": "markdown",
   "id": "f1aede74",
   "metadata": {},
   "source": [
    "# Step 1: Prepare Data"
   ]
  },
  {
   "cell_type": "markdown",
   "id": "e23f9cb5",
   "metadata": {},
   "source": [
    "In this part, we load the raw molecule data for experiment.\n",
    "The [117 ligand](http://www.rcsb.org/ligand/117) was \n",
    "put in the repository. We assign the relative \n",
    "path to **raw_path**.\n",
    "The **s3_bucket** and **prefix** are used to store the \n",
    "optimization results. We can use the one created with the \n",
    "cloudformation for convenience."
   ]
  },
  {
   "cell_type": "code",
   "execution_count": 2,
   "id": "6f4a79bd",
   "metadata": {},
   "outputs": [],
   "source": [
    "# initial parameters for experiment data\n",
    "s3_bucket = f\"xxxx\" # the name of the bucket\n",
    "prefix = \"xxxx\" # the name of the folder in the bucket\n",
    "\n",
    "raw_path = './molecule-data/117_ideal.mol2' # the mol2 file for this experiment"
   ]
  },
  {
   "cell_type": "code",
   "execution_count": 3,
   "id": "87bf78a5",
   "metadata": {},
   "outputs": [
    {
     "name": "stderr",
     "output_type": "stream",
     "text": [
      "INFO:root:parse mol2 file!\n",
      "INFO:root:finish save qmu_117_ideal_data_latest.pickle\n"
     ]
    },
    {
     "name": "stdout",
     "output_type": "stream",
     "text": [
      "You have loaded the raw molecule data and saved as ./qmu_117_ideal_data_latest.pickle. \n",
      "This molecule has 23 rotable bond\n"
     ]
    }
   ],
   "source": [
    "mol_data = MoleculeData(raw_path, 'qmu')\n",
    "\n",
    "data_path = mol_data.save(\"latest\")\n",
    "\n",
    "num_rotation_bond = mol_data.bond_graph.rb_num\n",
    "print(f\"You have loaded the raw molecule data and saved as {data_path}. \\n\\\n",
    "This molecule has {num_rotation_bond} rotable bond\")"
   ]
  },
  {
   "cell_type": "markdown",
   "id": "cc5c8378",
   "metadata": {},
   "source": [
    "After running this block, the processed data \n",
    "will be saved as **qmu_117_ideal_data_latest.pickle**\n",
    "and **data_path** will be updated. We can see that this \n",
    "molecule has 23 rotatable bonds."
   ]
  },
  {
   "cell_type": "markdown",
   "id": "3691bcad",
   "metadata": {},
   "source": [
    "# Step 2: Build Model"
   ]
  },
  {
   "cell_type": "markdown",
   "id": "2abc1486",
   "metadata": {},
   "source": [
    "In this part, we build the Quadratic Unconstrained \n",
    "Binary Optimization (QUBO) model for molecular unfolding.\n",
    "\n",
    "First, we set the following parameters and \n",
    "initialize the QMUQUBO object. \n",
    "\n",
    "<center>\n",
    "\n",
    "| Parameter | Description | Value |\n",
    "|--- |--- |--- |\n",
    "|A | penalty scalar |300|\n",
    "|hubo_qubo_val | energy penalty of make_quadratic() |200|\n",
    "|M | number of torsions for molecular unfolding| [1, max number of rotatable bonds] |\n",
    "|D| angle precision of rotation| 8|\n",
    "|method| the method of building model| 'pre-calc': calculate the score in advance|\n",
    "\n",
    " </center>"
   ]
  },
  {
   "cell_type": "markdown",
   "id": "a254c171",
   "metadata": {},
   "source": [
    "We use the 'pre-calc' method \n",
    "to build the model. This molecule has 23 rotatable bonds and \n",
    "we only test 2 of them, so we set the **M** to 2. And we want \n",
    "the angle to become $45^o$, so we set the **D** to 8 \n",
    "(i.e., $8=360^o/45^o$). The **A** and **hubo_qubo_val** are \n",
    "test from experiments. "
   ]
  },
  {
   "cell_type": "code",
   "execution_count": 4,
   "id": "2d8f45de",
   "metadata": {},
   "outputs": [
    {
     "name": "stderr",
     "output_type": "stream",
     "text": [
      "INFO:root:initial pre-calculate for constructing molecule QUBO\n"
     ]
    }
   ],
   "source": [
    "# initial the QMUQUBO object\n",
    "init_param = {}\n",
    "method = ['pre-calc']\n",
    "\n",
    "for mt in method:\n",
    "    if mt == 'pre-calc':\n",
    "        init_param[mt] = {}\n",
    "        init_param[mt]['param'] = ['M', 'D', 'A', 'hubo_qubo_val']\n",
    "    \n",
    "qmu_qubo = QMUQUBO(mol_data, method, **init_param)"
   ]
  },
  {
   "cell_type": "code",
   "execution_count": 5,
   "id": "bb9a14e1",
   "metadata": {},
   "outputs": [
    {
     "name": "stderr",
     "output_type": "stream",
     "text": [
      "INFO:root:Construct model for M:2,D:8,A:300,hubo_qubo_val:200 0.0010666688283284505 min\n"
     ]
    },
    {
     "data": {
      "text/plain": [
       "0"
      ]
     },
     "execution_count": 5,
     "metadata": {},
     "output_type": "execute_result"
    }
   ],
   "source": [
    "# set the parameters for model\n",
    "model_param = {}\n",
    "# parameters\n",
    "num_rotation_bond = mol_data.bond_graph.rb_num\n",
    "\n",
    "method = 'pre-calc'\n",
    "model_param[method] = {}\n",
    "# model_param[method]['M'] = range(1, num_rotation_bond+1)\n",
    "model_param[method]['M'] = [2]\n",
    "model_param[method]['D'] = [8]\n",
    "model_param[method]['A'] = [300]\n",
    "model_param[method]['hubo_qubo_val'] = [200]\n",
    "\n",
    "qmu_qubo.build_model(**model_param)"
   ]
  },
  {
   "cell_type": "markdown",
   "id": "8b0485bc",
   "metadata": {},
   "source": [
    "We can use the following method to check the properties of \n",
    "model. This way, we can build many models conveniently. \n",
    "After that, we save the model and update the value of \n",
    "**model_path**."
   ]
  },
  {
   "cell_type": "code",
   "execution_count": 6,
   "id": "c59fb9b8",
   "metadata": {},
   "outputs": [
    {
     "name": "stderr",
     "output_type": "stream",
     "text": [
      "INFO:root:method: pre-calc\n",
      "INFO:root:The model_name should be {M}_{D}_{A}_{hubo_qubo_val}\n",
      "INFO:root:param: M, value {2}\n",
      "INFO:root:param: D, value {8}\n",
      "INFO:root:param: A, value {300}\n",
      "INFO:root:param: hubo_qubo_val, value {200}\n"
     ]
    }
   ],
   "source": [
    "# describe the model parameters\n",
    "model_info = qmu_qubo.describe_model()"
   ]
  },
  {
   "cell_type": "code",
   "execution_count": 7,
   "id": "6901926f",
   "metadata": {},
   "outputs": [
    {
     "name": "stderr",
     "output_type": "stream",
     "text": [
      "INFO:root:finish save qmu_117_ideal_model_latest.pickle\n"
     ]
    },
    {
     "name": "stdout",
     "output_type": "stream",
     "text": [
      "You have built the QUBO model and saved it as ./qmu_117_ideal_model_latest.pickle\n"
     ]
    }
   ],
   "source": [
    "# save the model\n",
    "model_path = qmu_qubo.save(\"latest\")\n",
    "\n",
    "print(f\"You have built the QUBO model and saved it as {model_path}\")"
   ]
  },
  {
   "cell_type": "markdown",
   "id": "f390d8f5",
   "metadata": {},
   "source": [
    "# Step 3: Optimize Configuration"
   ]
  },
  {
   "cell_type": "markdown",
   "id": "80c3afac",
   "metadata": {},
   "source": [
    "In this part, we use SA and QA to find the optimized configuration of molecular unfolding.\n",
    "At first, we load the model file using **QMUQUBO** object"
   ]
  },
  {
   "cell_type": "code",
   "execution_count": 8,
   "id": "2ce1c8c2",
   "metadata": {},
   "outputs": [],
   "source": [
    "qmu_qubo_optimize = QMUQUBO.load(model_path)"
   ]
  },
  {
   "cell_type": "code",
   "execution_count": 9,
   "id": "9f44196e",
   "metadata": {},
   "outputs": [
    {
     "name": "stderr",
     "output_type": "stream",
     "text": [
      "INFO:root:method: pre-calc\n",
      "INFO:root:The model_name should be {M}_{D}_{A}_{hubo_qubo_val}\n",
      "INFO:root:param: M, value {2}\n",
      "INFO:root:param: D, value {8}\n",
      "INFO:root:param: A, value {300}\n",
      "INFO:root:param: hubo_qubo_val, value {200}\n"
     ]
    }
   ],
   "source": [
    "model_info = qmu_qubo_optimize.describe_model()"
   ]
  },
  {
   "cell_type": "markdown",
   "id": "55577c14",
   "metadata": {},
   "source": [
    "We can see the parameters of this model, with M equaling 2, D equaling 8, \n",
    "A equaling 300 and hubo_qubo_val equaling 200. \n",
    "Actually, we can contain multiple models in this file just \n",
    "by giving multiple values for one parameter when creating models.\n",
    "\n",
    "Actually, we can contain multiple models in this file just \n",
    "by giving multiple values for one parameter when creating models.\n",
    "Then, we need use **model_name** to get the model for experiments."
   ]
  },
  {
   "cell_type": "code",
   "execution_count": 10,
   "id": "6236a224",
   "metadata": {},
   "outputs": [],
   "source": [
    "# get the model you want to optimize\n",
    "M = 2\n",
    "D = 8\n",
    "A = 300\n",
    "hubo_qubo_val = 200\n",
    "model_name = \"{}_{}_{}_{}\".format(M, D, A, hubo_qubo_val)\n",
    "method = \"pre-calc\"\n",
    "\n",
    "qubo_model = qmu_qubo_optimize.get_model(method, model_name)"
   ]
  },
  {
   "cell_type": "markdown",
   "id": "a331536c",
   "metadata": {},
   "source": [
    "We can see that we want to carry out experiment with the QUBO model with M equaling 2.\n",
    " After that, we set the parameters for optimization.\n",
    "\n",
    "| Parameter | Description | Value |\n",
    "|--- |--- |--- |\n",
    "|method | annealing method for QUBO problem |'dwave-sa': use the simulated annealer in ocean toolkit<br> 'dwave-qa': use the quantum annealer|\n",
    "|shots| number of reads, refer to [dwave-sa](https://docs.ocean.dwavesys.com/projects/neal/en/latest/reference/generated/neal.sampler.SimulatedAnnealingSampler.sample.html#neal.sampler.SimulatedAnnealingSampler.sample) and [dwave-qa](https://amazon-braket-ocean-plugin-python.readthedocs.io/en/latest/_apidoc/braket.ocean_plugin.braket_sampler.html) for details |1 to 10,000|\n",
    "|bucket | the s3 bucket to store your results | - |\n",
    "|prefix | the name of the folder in your s3 bucket | - |\n",
    "|device | the arn name to run your quantum annealing| 'arn:aws:braket:::device/qpu/d-wave/Advantage_system4' <br> 'arn:aws:braket:::device/qpu/d-wave/DW_2000Q_6'|\n",
    "\n",
    "Then, we can run the SA for this problem:"
   ]
  },
  {
   "cell_type": "code",
   "execution_count": 11,
   "id": "ebcbe283",
   "metadata": {},
   "outputs": [
    {
     "name": "stderr",
     "output_type": "stream",
     "text": [
      "INFO:root:use simulated annealer from dimod\n"
     ]
    }
   ],
   "source": [
    "method = 'dwave-sa'\n",
    "\n",
    "optimizer_param = {}\n",
    "optimizer_param['shots'] = 1000\n",
    "\n",
    "sa_optimizer = Annealer(qubo_model, method, **optimizer_param)"
   ]
  },
  {
   "cell_type": "code",
   "execution_count": 12,
   "id": "d8b9cf23",
   "metadata": {},
   "outputs": [
    {
     "name": "stderr",
     "output_type": "stream",
     "text": [
      "INFO:root:fit() ...\n",
      "INFO:root:dwave-sa save to local\n",
      "INFO:root:finish save sa_result.pickle\n"
     ]
    }
   ],
   "source": [
    "sa_optimize_result = sa_optimizer.fit()"
   ]
  },
  {
   "cell_type": "markdown",
   "id": "7ab9dd20",
   "metadata": {},
   "source": [
    "We can tell that we set the number of shots for SA to 1000. \n",
    "The result is saved as the local file **./sa_result.pickle.**\n",
    "Alternatively, we can use QA to solve this problem:"
   ]
  },
  {
   "cell_type": "code",
   "execution_count": 13,
   "id": "32257e1a",
   "metadata": {},
   "outputs": [
    {
     "name": "stderr",
     "output_type": "stream",
     "text": [
      "INFO:root:use quantum annealer arn:aws:braket:::device/qpu/d-wave/Advantage_system4 \n"
     ]
    }
   ],
   "source": [
    "method = 'dwave-qa'\n",
    "\n",
    "optimizer_param = {}\n",
    "optimizer_param['shots'] = 1000\n",
    "optimizer_param['bucket'] = s3_bucket # the name of the bucket\n",
    "optimizer_param['prefix'] = prefix # the name of the folder in the bucket\n",
    "optimizer_param['device'] = \"arn:aws:braket:::device/qpu/d-wave/Advantage_system4\"\n",
    "optimizer_param[\"embed_method\"] = \"default\"\n",
    "\n",
    "qa_optimizer = Annealer(qubo_model, method, **optimizer_param)"
   ]
  },
  {
   "cell_type": "markdown",
   "id": "e46eae55",
   "metadata": {},
   "source": [
    "In this QA, we set the number of shots to 1000 and \n",
    "choose the \n",
    "[Advantage_System4.1](https://docs.dwavesys.com/docs/latest/doc_physical_properties.html)\n",
    "as the QPU. In addition, the results are saved to your bucket automatically and you \n",
    "can get the task id for future process. "
   ]
  },
  {
   "cell_type": "code",
   "execution_count": 14,
   "id": "36f29bad",
   "metadata": {},
   "outputs": [
    {
     "name": "stderr",
     "output_type": "stream",
     "text": [
      "INFO:root:fit() ...\n",
      "INFO:root:finish save /tmp/qa_result.pickle\n",
      "INFO:root:_upload_result_json, bucket=amazon-braket-1a222675c751, key=annealer-experiment/89a59fa9-c66e-482d-85e0-6dfce8c54454/qa_result.pickle\n",
      "INFO:root:dwave-qa save to s3 - 89a59fa9-c66e-482d-85e0-6dfce8c54454: None\n"
     ]
    }
   ],
   "source": [
    "# not create annealing task, only embedding logic\n",
    "qa_optimizer.embed()\n",
    "# create annealing task\n",
    "qa_optimize_result = qa_optimizer.fit()"
   ]
  },
  {
   "cell_type": "code",
   "execution_count": 15,
   "id": "6dd2085c",
   "metadata": {},
   "outputs": [
    {
     "name": "stdout",
     "output_type": "stream",
     "text": [
      "task id is 89a59fa9-c66e-482d-85e0-6dfce8c54454\n"
     ]
    }
   ],
   "source": [
    "qa_task_id = qa_optimizer.get_task_id()\n",
    "print(f\"task id is {qa_task_id}\")"
   ]
  },
  {
   "cell_type": "markdown",
   "id": "15f678c9",
   "metadata": {},
   "source": [
    "Finally, we can compare the execution time between SA and QA :"
   ]
  },
  {
   "cell_type": "code",
   "execution_count": 16,
   "id": "723be469",
   "metadata": {},
   "outputs": [
    {
     "name": "stdout",
     "output_type": "stream",
     "text": [
      "dwave-sa run time 175.73437476158142\n",
      "dwave-qa run time 7.57835578918457\n"
     ]
    }
   ],
   "source": [
    "print(f\"dwave-sa run time {sa_optimize_result['time']}\")\n",
    "print(f\"dwave-qa run time {qa_optimize_result['time']}\")"
   ]
  },
  {
   "cell_type": "markdown",
   "id": "47e296f2",
   "metadata": {},
   "source": [
    "We can tell from the image that SA needs 174.2 seconds \n",
    "and QA needs 7.7 seconds to find \n",
    "solution.\n",
    "\n",
    "We sometimes get the best result that occurs only once.\n",
    "\n",
    "![OneTimeQA](../../../docs/en/images/one-time-qa.png)\n",
    "\n",
    "This does not always indicate an error. It is actually the characteristic of the problem or how the problem \n",
    "is formulated. Because we have different linear and quadratic terms that vary by many orders of magnitude. If we \n",
    "set change value of A to some smaller number, like 10 or 100, more occurrences of the best answer will be observed. \n",
    "However, these answers usually break the constraints. For more information about this phenomenon, please refer to this \n",
    "[Link](https://support.dwavesys.com/hc/en-us/community/posts/1500000698522-Number-of-occurrences-?input_string=number%20occurance)."
   ]
  },
  {
   "cell_type": "markdown",
   "id": "76db6fc7",
   "metadata": {},
   "source": [
    "# Step 4: PostProcess Result"
   ]
  },
  {
   "cell_type": "markdown",
   "id": "6d794ecb",
   "metadata": {},
   "source": [
    "In this part, we post process the optimizing results for evaluation and visualization.\n",
    "At first, we prepare the following parameters:\n",
    "\n",
    "| Parameter | Description | Value |\n",
    "|--- |--- |--- |\n",
    "|method | annealing method for QUBO problem |'dwave-sa': use the simulated annealer in ocean toolkit<br> 'dwave-qa': use the quantum annealer|\n",
    "|raw_path| the path for the original molecule file| './molecule-data/117_ideal.mol2' in this example |\n",
    "|data_path| the path for the processed molecule file| './qmu_117_ideal_data_latest.mol2' in this example |\n",
    "|bucket | the s3 bucket to store your results | - |\n",
    "|prefix | the name of the folder in your s3 bucket | - |\n",
    "|task_id | the id for your quantum annealing task| '2b5a3b05-1a0e-443a-852c-4ec422a10e59' in this example |"
   ]
  },
  {
   "cell_type": "markdown",
   "id": "ee80634c",
   "metadata": {},
   "source": [
    "Then we can run the post-process using **ResultParser** object for SA:"
   ]
  },
  {
   "cell_type": "code",
   "execution_count": 18,
   "id": "b6ae63e5",
   "metadata": {},
   "outputs": [
    {
     "name": "stderr",
     "output_type": "stream",
     "text": [
      "INFO:root:_load_raw_result\n",
      "INFO:root:load simulated annealer raw result\n",
      "INFO:root:MoleculeData.load()\n",
      "INFO:root:init mol data for final position\n",
      "INFO:root:init mol data for raw position\n",
      "INFO:root:_parse_model_info\n",
      "INFO:root:_init_parameters\n",
      "INFO:root:parse simulated annealer result\n",
      "INFO:root:sa only has local_time!\n"
     ]
    },
    {
     "name": "stdout",
     "output_type": "stream",
     "text": [
      "time for dwave-sa: \n",
      "     local time is 175.73437476158142\n"
     ]
    }
   ],
   "source": [
    "method = \"dwave-sa\"\n",
    "sa_param = {}\n",
    "sa_param[\"raw_path\"] = raw_path\n",
    "sa_param[\"data_path\"] = data_path\n",
    "\n",
    "sa_process_result = ResultParser(method, **sa_param)\n",
    "# print(f\"{method} result is {sa_process_result.get_all_result()}\")\n",
    "\n",
    "local_time, _ , _, _= sa_process_result.get_time()\n",
    "\n",
    "print(f\"time for {method}: \\n \\\n",
    "    local time is {local_time}\")"
   ]
  },
  {
   "cell_type": "code",
   "execution_count": 19,
   "id": "0049b852",
   "metadata": {},
   "outputs": [
    {
     "name": "stderr",
     "output_type": "stream",
     "text": [
      "INFO:root:generate_optimize_pts()\n",
      "INFO:numexpr.utils:NumExpr defaulting to 2 threads.\n",
      "INFO:root:save_mol_file 20220216-06\n",
      "INFO:root:finish save ./molecule-data/117_ideal_dwave-sa_20220216-06.mol2 and ./molecule-data/117_ideal_dwave-sa_20220216-06.json\n"
     ]
    },
    {
     "data": {
      "text/plain": [
       "['./molecule-data/117_ideal_dwave-sa_20220216-06.mol2',\n",
       " './molecule-data/117_ideal_dwave-sa_20220216-06.json']"
      ]
     },
     "execution_count": 19,
     "metadata": {},
     "output_type": "execute_result"
    }
   ],
   "source": [
    "sa_atom_pos_data = sa_process_result.generate_optimize_pts()\n",
    "# save unfold file for visualization and parameters for experiment: 1. volume value 2. relative improvement\n",
    "sa_process_result.save_mol_file(f\"{timestamp}\")\n"
   ]
  },
  {
   "cell_type": "code",
   "execution_count": 20,
   "id": "639f2b55",
   "metadata": {},
   "outputs": [
    {
     "data": {
      "text/plain": [
       "{'volume': {'optimize': 18.9423642473021,\n",
       "  'initial': 18.549876807564765,\n",
       "  'gain': 1.0211584930621898,\n",
       "  'unfolding_results': ['x_15_7', 'x_14_8']}}"
      ]
     },
     "execution_count": 20,
     "metadata": {},
     "output_type": "execute_result"
    }
   ],
   "source": [
    "sa_process_result.parameters"
   ]
  },
  {
   "cell_type": "markdown",
   "id": "99498cad",
   "metadata": {},
   "source": [
    "In the first block, we can see the **local time**\n",
    "for SA is around 174 seconds. \n",
    "With the **generate_optimize_pts()** method, the final 3D \n",
    "points after unfolding will be generated and saved as json file and mol2 files. The last \n",
    "block shows the optimizing results which are also stored in json files. \n",
    "It shows that the optimized result gains \n",
    "1.0212x increase in volume. The value for **unfolding_results** indicates \n",
    "that the rotatable bond 15 should rotate $270^o$ ($360/8*(7-1)$) and \n",
    "the rotatable bond 14 should rotate $315^o$ ($360/8*(8-1)$).\n",
    "At the same time, you can run the post-process for QA:"
   ]
  },
  {
   "cell_type": "code",
   "execution_count": 21,
   "id": "c94944c7",
   "metadata": {},
   "outputs": [
    {
     "name": "stderr",
     "output_type": "stream",
     "text": [
      "INFO:root:_load_raw_result\n",
      "INFO:root:load quantum annealer raw result\n",
      "INFO:root:_read_result_obj\n",
      "INFO:root:_read_result_obj: annealer-experiment/89a59fa9-c66e-482d-85e0-6dfce8c54454/qa_result.pickle\n",
      "INFO:root:MoleculeData.load()\n",
      "INFO:root:init mol data for final position\n",
      "INFO:root:init mol data for raw position\n",
      "INFO:root:_parse_model_info\n",
      "INFO:root:_init_parameters\n",
      "INFO:root:parse quantum annealer result\n",
      "INFO:root:_read_result_obj\n",
      "INFO:root:_read_result_obj: annealer-experiment/89a59fa9-c66e-482d-85e0-6dfce8c54454/results.json\n"
     ]
    },
    {
     "name": "stdout",
     "output_type": "stream",
     "text": [
      "time for dwave-qa: \n",
      "     local time is 7.57835578918457,\n",
      "     task time is 1.89, \n",
      "     qpu total time is 0.142533, \n",
      "     qpu access time is 0.124129\n"
     ]
    }
   ],
   "source": [
    "method = \"dwave-qa\"\n",
    "qa_param = {}\n",
    "qa_param[\"bucket\"] = s3_bucket\n",
    "qa_param[\"prefix\"] = prefix\n",
    "qa_param[\"task_id\"] = qa_task_id\n",
    "qa_param[\"raw_path\"] = raw_path\n",
    "qa_param[\"data_path\"] = data_path\n",
    "\n",
    "qa_process_result = ResultParser(method, **qa_param)\n",
    "# print(f\"{method} result is {qa_process_result.get_all_result()}\")\n",
    "\n",
    "local_time, task_time, total_time, access_time = qa_process_result.get_time()\n",
    "\n",
    "print(f\"time for {method}: \\n \\\n",
    "    local time is {local_time},\\n \\\n",
    "    task time is {task_time}, \\n \\\n",
    "    qpu total time is {total_time}, \\n \\\n",
    "    qpu access time is {access_time}\")"
   ]
  },
  {
   "cell_type": "markdown",
   "id": "56757928",
   "metadata": {},
   "source": [
    "we can see that there many types of time metrics for running QA.\n",
    "This task has the **local time** of 7.7 s, which means the time between calling the api and \n",
    "getting the annealing result. The **task time** time is the metric from the json file in \n",
    "bucket. We can also see the **qpu total time** and **qpu access time** representing the \n",
    "actual time running in the QPU. Please refer to [Operation and Timing](https://docs.dwavesys.com/docs/latest/c_qpu_timing.html)\n",
    "for details."
   ]
  },
  {
   "cell_type": "code",
   "execution_count": 22,
   "id": "2063eb59",
   "metadata": {},
   "outputs": [
    {
     "name": "stderr",
     "output_type": "stream",
     "text": [
      "INFO:root:generate_optimize_pts()\n",
      "INFO:root:save_mol_file 20220216-06\n",
      "INFO:root:finish save ./molecule-data/117_ideal_dwave-qa_20220216-06.mol2 and ./molecule-data/117_ideal_dwave-qa_20220216-06.json\n"
     ]
    },
    {
     "data": {
      "text/plain": [
       "['./molecule-data/117_ideal_dwave-qa_20220216-06.mol2',\n",
       " './molecule-data/117_ideal_dwave-qa_20220216-06.json']"
      ]
     },
     "execution_count": 22,
     "metadata": {},
     "output_type": "execute_result"
    }
   ],
   "source": [
    "qa_atom_pos_data = qa_process_result.generate_optimize_pts()\n",
    "# save unfold file for visualization and parameters for experiment: 1. volume value 2. relative improvement\n",
    "qa_process_result.save_mol_file(f\"{timestamp}\")"
   ]
  },
  {
   "cell_type": "code",
   "execution_count": 23,
   "id": "e286d569",
   "metadata": {},
   "outputs": [
    {
     "data": {
      "text/plain": [
       "{'volume': {'optimize': 18.9423642473021,\n",
       "  'initial': 18.549876807564765,\n",
       "  'gain': 1.0211584930621898,\n",
       "  'unfolding_results': ['x_15_7', 'x_14_8']}}"
      ]
     },
     "execution_count": 23,
     "metadata": {},
     "output_type": "execute_result"
    }
   ],
   "source": [
    "qa_process_result.parameters"
   ]
  },
  {
   "cell_type": "markdown",
   "id": "2d246fae",
   "metadata": {},
   "source": [
    "In same way, the optimized results are translated the 3D points and saved \n",
    "as local json and mol2 files. The result indicates that QA gains \n",
    "1.021x increase in \n",
    "volume."
   ]
  },
  {
   "cell_type": "markdown",
   "id": "15451a30",
   "metadata": {},
   "source": [
    "Finally, We can open folders for the optimized results:\n",
    "\n",
    "![optimize-results](../../../docs/en/images/optimize-results.png)\n",
    "\n",
    " <center>Optimize Results</center>\n",
    "\n",
    "We can see the json result and mol2 file of SA and QA are \n",
    "stored in this place. If we carry out more \n",
    "experiments, more results with time stamp are \n",
    "stored incrementally. \n",
    "For visualization, \n",
    "You can display the result **117_ideal_dwave-qa_20220216-05.mol2** with the following code function :\n",
    "\n",
    "![visual](../../../docs/en/images/visualization.png)\n",
    "\n",
    " <center>Visualization</center>"
   ]
  },
  {
   "cell_type": "code",
   "execution_count": null,
   "id": "16e628dd",
   "metadata": {},
   "outputs": [],
   "source": [
    "import py3Dmol\n",
    "import time\n",
    "from ipywidgets import interact,fixed,IntSlider\n",
    "import ipywidgets\n",
    "import os\n",
    "\n",
    "def View3DMol(mol, size=(600, 600), style=\"stick\", surface=False, opacity=0.5, type=\"mol2\"):\n",
    "    assert style in ('line', 'stick', 'sphere', 'carton')\n",
    "    viewer = py3Dmol.view(width=size[0], height=size[1])\n",
    "    viewer.addModel(open(mol,'r').read(), type)\n",
    "    viewer.setStyle({style:{}})\n",
    "    if surface:\n",
    "        viewer.addSurface(py3Dmol.SAS, {'opacity': opacity})\n",
    "    viewer.zoomTo()\n",
    "    return viewer\n",
    "\n",
    "\n",
    "def View3DMolFromDir(mol_dir, size=(600,600), style=\"stick\", surface=False, opacity=0.5, type=\"mol2\"):\n",
    "    assert style in ('line', 'stick', 'sphere', 'carton')\n",
    "    viewer = py3Dmol.view(width=size[0], height=size[1],linked=False,viewergrid=(2,2))\n",
    "    mol2s = os.popen(\"ls {}/*.mol2\".format(mol_dir)).read().split('\\n')[0:-1]\n",
    "    for index,mol2 in enumerate(mol2s):\n",
    "        viewer.addModel(open(mol2,'r').read(),type,viewer=(index/2,index%2))\n",
    "        viewer.setStyle({'stick':{'colorscheme':'greenCarbon'}},viewer=(index/2,index%2))\n",
    "    if surface:\n",
    "        viewer.addSurface(py3Dmol.SAS, {'opacity': opacity})\n",
    "    viewer.zoomTo()\n",
    "    view.render()\n",
    "    return viewer\n",
    "\n",
    "\n",
    "def StyleSelector(mol,size,style):\n",
    "    return View3DMol(mol,size=(size,size),style=style).show()\n",
    "\n",
    "def InteractView(mol,size):\n",
    "    interact(StyleSelector, \n",
    "             mol=mol,\n",
    "             size=size,\n",
    "             style=ipywidgets.Dropdown(\n",
    "                options=['line', 'stick', 'sphere'],\n",
    "                value='stick',\n",
    "                description='Style:'))"
   ]
  },
  {
   "cell_type": "code",
   "execution_count": null,
   "id": "baf8787f",
   "metadata": {},
   "outputs": [],
   "source": [
    "InteractView(\"./molecule-data/117_ideal_dwave-qa_20220304-03.mol2\", size=800)"
   ]
  },
  {
   "cell_type": "code",
   "execution_count": null,
   "id": "e7368fb9",
   "metadata": {},
   "outputs": [
    {
     "data": {
      "application/3dmoljs_load.v0": "<div id=\"3dmolviewer_16463651467754567\"  style=\"position: relative; width: 600px; height: 600px\">\n        <p id=\"3dmolwarning_16463651467754567\" style=\"background-color:#ffcccc;color:black\">You appear to be running in JupyterLab (or JavaScript failed to load for some other reason).  You need to install the 3dmol extension: <br>\n        <tt>jupyter labextension install jupyterlab_3dmol</tt></p>\n        </div>\n<script>\n\nvar loadScriptAsync = function(uri){\n  return new Promise((resolve, reject) => {\n    var tag = document.createElement('script');\n    tag.src = uri;\n    tag.async = true;\n    tag.onload = () => {\n      resolve();\n    };\n  var firstScriptTag = document.getElementsByTagName('script')[0];\n  firstScriptTag.parentNode.insertBefore(tag, firstScriptTag);\n});\n};\n\nif(typeof $3Dmolpromise === 'undefined') {\n$3Dmolpromise = null;\n  $3Dmolpromise = loadScriptAsync('https://3dmol.org/build/3Dmol.js');\n}\n\nvar viewer_16463651467754567 = null;\nvar warn = document.getElementById(\"3dmolwarning_16463651467754567\");\nif(warn) {\n    warn.parentNode.removeChild(warn);\n}\n$3Dmolpromise.then(function() {\nvar viewergrid_16463651467754567 = null;\nviewergrid_16463651467754567 = $3Dmol.createViewerGrid($(\"#3dmolviewer_16463651467754567\"),{rows: 2, cols: 2, control_all: false},{backgroundColor:\"white\"});\nviewer_16463651467754567 = viewergrid_16463651467754567[0][0];\nviewergrid_16463651467754567[0][0].zoomTo();viewergrid_16463651467754567[0][1].zoomTo();viewergrid_16463651467754567[1][0].zoomTo();viewergrid_16463651467754567[1][1].zoomTo();\tviewergrid_16463651467754567[0][0].addModel(\"@<TRIPOS>MOLECULE\\n117\\n   76    79     0     0     0\\nSMALL\\nNO_CHARGES\\n\\n@<TRIPOS>ATOM\\n      1 C1         -1.878    1.749    -3.25 C.ar      1 117_ideal         0.0000\\n      2 C2         -1.928    0.466    -2.703 C.ar      1 117_ideal         0.0000\\n      3 C3         -2.948    -0.406    -3.081 C.ar      1 117_ideal         0.0000\\n      4 C4         -3.908    0.006    -3.982 C.ar      1 117_ideal         0.0000\\n      5 C5         -3.853    1.279    -4.52 C.ar      1 117_ideal         0.0000\\n      6 C6         -2.84    2.148    -4.154 C.ar      1 117_ideal         0.0000\\n      7 C7         -4.413    0.593    1.053 C.ar      1 117_ideal         0.0000\\n      8 C8         -3.195    0.679    0.411 C.ar      1 117_ideal         0.0000\\n      9 C9         -2.408    -0.463    0.257 C.ar      1 117_ideal         0.0000\\n     10 C10        -2.861    -1.688    0.751 C.ar      1 117_ideal         0.0000\\n     11 C11        -4.078    -1.761    1.396 C.ar      1 117_ideal         0.0000\\n     12 C12        -4.855    -0.623    1.545 C.ar      1 117_ideal         0.0000\\n     13 F1         -6.049    -0.702    2.174 F         1 117_ideal         0.0000\\n     14 C13        -1.104    -0.378    -0.429 C.2       1 117_ideal         0.0000\\n     15 C14         2.077    -0.319    -5.346 C.ar      1 117_ideal         0.0000\\n     16 C15         2.91    -1.221    -5.996 C.ar      1 117_ideal         0.0000\\n     17 C16         3.485    -0.881    -7.204 C.ar      1 117_ideal         0.0000\\n     18 C17         3.233    0.356    -7.768 C.ar      1 117_ideal         0.0000\\n     19 C18         2.404    1.256    -7.124 C.ar      1 117_ideal         0.0000\\n     20 C19         1.821    0.92    -5.918 C.ar      1 117_ideal         0.0000\\n     21 O1          -7.1824    -4.0554    4.855 O.3       1 117_ideal         0.0000\\n     22 O2          -5.6523    -2.6993    5.6901 O.2       1 117_ideal         0.0000\\n     23 O3          -4.2875    -1.282    3.8919 O.3       1 117_ideal         0.0000\\n     24 C20         -6.0207    -3.3882    4.7704 C.2       1 117_ideal         0.0000\\n     25 C21         -5.1763    -3.4985    3.5265 C.3       1 117_ideal         0.0000\\n     26 C22         -3.9162    -2.6467    3.6885 C.3       1 117_ideal         0.0000\\n     27 C23         -3.0595    -2.7591    2.4257 C.3       1 117_ideal         0.0000\\n     28 C24         -1.7994    -1.9077    2.5864 C.3       1 117_ideal         0.0000\\n     29 C25         -1.031    -1.2587    2.1998 C.3       1 117_ideal         0.0000\\n     30 C26         0.318    -1.168    1.485 C.3       1 117_ideal         0.0000\\n     31 N1          0.114    -0.691    0.115 N.pl3     1 117_ideal         0.0000\\n     32 C27        -0.899    0.032    -1.732 C.2       1 117_ideal         0.0000\\n     33 C28         0.553    -0.046    -1.954 C.2       1 117_ideal         0.0000\\n     34 C29         1.276    0.288    -3.191 C.2       1 117_ideal         0.0000\\n     35 N2          1.492    -0.661    -4.123 N.am      1 117_ideal         0.0000\\n     36 O4          1.679    1.421    -3.372 O.2       1 117_ideal         0.0000\\n     37 C30         1.097    -0.5    -0.784 C.2       1 117_ideal         0.0000\\n     38 C31         2.564    -0.741    -0.539 C.3       1 117_ideal         0.0000\\n     39 C32         3.079    -1.794    -1.523 C.3       1 117_ideal         0.0000\\n     40 C33         3.336    0.564    -0.74 C.3       1 117_ideal         0.0000\\n     41 O5          -2.1695    -0.543    2.7908 O.3       1 117_ideal         0.0000\\n     42 H1         -1.088    2.428    -2.965 H         1 117_ideal         0.0000\\n     43 H2         -2.992    -1.401    -2.661 H         1 117_ideal         0.0000\\n     44 H3         -4.701    -0.667    -4.271 H         1 117_ideal         0.0000\\n     45 H4         -4.604    1.596    -5.228 H         1 117_ideal         0.0000\\n     46 H5         -2.803    3.141    -4.578 H         1 117_ideal         0.0000\\n     47 H6         -5.023    1.476    1.172 H         1 117_ideal         0.0000\\n     48 H7         -2.852    1.628    0.028 H         1 117_ideal         0.0000\\n     49 H8         -2.257    -2.576    0.635 H         1 117_ideal         0.0000\\n     50 H9         -4.428    -2.707    1.782 H         1 117_ideal         0.0000\\n     51 H10         3.107    -2.187    -5.556 H         1 117_ideal         0.0000\\n     52 H11         4.133    -1.581    -7.71 H         1 117_ideal         0.0000\\n     53 H12         3.684    0.62    -8.713 H         1 117_ideal         0.0000\\n     54 H13         2.209    2.222    -7.566 H         1 117_ideal         0.0000\\n     55 H14         1.174    1.624    -5.415 H         1 117_ideal         0.0000\\n     56 H15         -7.7241    -3.9845    5.6523 H         1 117_ideal         0.0000\\n     57 H16         -4.7885    -1.0087    3.1114 H         1 117_ideal         0.0000\\n     58 H17         -5.7473    -3.1446    2.6681 H         1 117_ideal         0.0000\\n     59 H18         -4.8939    -4.5395    3.3706 H         1 117_ideal         0.0000\\n     60 H19         -3.3461    -3.002    4.5459 H         1 117_ideal         0.0000\\n     61 H20         -3.6299    -2.4049    1.5665 H         1 117_ideal         0.0000\\n     62 H21         -2.7774    -3.8    2.2698 H         1 117_ideal         0.0000\\n     63 H22        -1.2295    -2.2613    3.4454 H         1 117_ideal         0.0000\\n     64 H23         -1.5127    -1.6652    0.4651 H         1 117_ideal         0.0000\\n     65 H24        -0.6601    -3.0603    1.1684 H         1 117_ideal         0.0000\\n     66 H25        0.7834    -2.153    1.4619 H         1 117_ideal         0.0000\\n     67 H26         0.9658    -0.4738    2.0197 H         1 117_ideal         0.0000\\n     68 H27         1.243    -1.581    -3.945 H         1 117_ideal         0.0000\\n     69 H28         2.709    -1.096    0.48 H         1 117_ideal         0.0000\\n     70 H29         2.529    -2.724    -1.38 H         1 117_ideal         0.0000\\n     71 H30         2.934    -1.439    -2.543 H         1 117_ideal         0.0000\\n     72 H31         4.14    -1.968    -1.346 H         1 117_ideal         0.0000\\n     73 H32         2.969    1.314    -0.039 H         1 117_ideal         0.0000\\n     74 H33         4.397    0.389    -0.563 H         1 117_ideal         0.0000\\n     75 H34         3.191    0.918    -1.76 H         1 117_ideal         0.0000\\n     76 H35         -2.6711    -0.2691    2.0099 H         1 117_ideal         0.0000\\n@<TRIPOS>BOND\\n     1    1    2 ar\\n     2    1    6 ar\\n     3    1   42 1\\n     4    2    3 ar\\n     5    2   32 1\\n     6    3    4 ar\\n     7    3   43 1\\n     8    4    5 ar\\n     9    4   44 1\\n    10    5    6 ar\\n    11    5   45 1\\n    12    6   46 1\\n    13    7    8 ar\\n    14    7   12 ar\\n    15    7   47 1\\n    16    8    9 ar\\n    17    8   48 1\\n    18    9   10 ar\\n    19    9   14 1\\n    20   10   11 ar\\n    21   10   49 1\\n    22   11   12 ar\\n    23   11   50 1\\n    24   12   13 1\\n    25   14   31 1\\n    26   14   32 2\\n    27   15   16 ar\\n    28   15   20 ar\\n    29   15   35 1\\n    30   16   17 ar\\n    31   16   51 1\\n    32   17   18 ar\\n    33   17   52 1\\n    34   18   19 ar\\n    35   18   53 1\\n    36   19   20 ar\\n    37   19   54 1\\n    38   20   55 1\\n    39   21   24 1\\n    40   21   56 1\\n    41   22   24 2\\n    42   23   26 1\\n    43   23   57 1\\n    44   24   25 1\\n    45   25   26 1\\n    46   25   58 1\\n    47   25   59 1\\n    48   26   27 1\\n    49   26   60 1\\n    50   27   28 1\\n    51   27   61 1\\n    52   27   62 1\\n    53   28   29 1\\n    54   28   41 1\\n    55   28   63 1\\n    56   29   30 1\\n    57   29   64 1\\n    58   29   65 1\\n    59   30   31 1\\n    60   30   66 1\\n    61   30   67 1\\n    62   31   37 1\\n    63   32   33 1\\n    64   33   34 1\\n    65   33   37 2\\n    66   34   35 am\\n    67   34   36 2\\n    68   35   68 1\\n    69   37   38 1\\n    70   38   39 1\\n    71   38   40 1\\n    72   38   69 1\\n    73   39   70 1\\n    74   39   71 1\\n    75   39   72 1\\n    76   40   73 1\\n    77   40   74 1\\n    78   40   75 1\\n    79   41   76 1\\n\",\"mol2\");\n\tviewergrid_16463651467754567[0][0].setStyle({\"stick\": {\"colorscheme\": \"greenCarbon\"}});\n\tviewergrid_16463651467754567[0][1].addModel(\"@<TRIPOS>MOLECULE\\n117\\n   76    79     0     0     0\\nSMALL\\nNO_CHARGES\\n\\n@<TRIPOS>ATOM\\n      1 C1         -1.878    1.749    -3.25 C.ar      1 117_ideal         0.0000\\n      2 C2         -1.928    0.466    -2.703 C.ar      1 117_ideal         0.0000\\n      3 C3         -2.948    -0.406    -3.081 C.ar      1 117_ideal         0.0000\\n      4 C4         -3.908    0.006    -3.982 C.ar      1 117_ideal         0.0000\\n      5 C5         -3.853    1.279    -4.52 C.ar      1 117_ideal         0.0000\\n      6 C6         -2.84    2.148    -4.154 C.ar      1 117_ideal         0.0000\\n      7 C7         -4.413    0.593    1.053 C.ar      1 117_ideal         0.0000\\n      8 C8         -3.195    0.679    0.411 C.ar      1 117_ideal         0.0000\\n      9 C9         -2.408    -0.463    0.257 C.ar      1 117_ideal         0.0000\\n     10 C10        -2.861    -1.688    0.751 C.ar      1 117_ideal         0.0000\\n     11 C11        -4.078    -1.761    1.396 C.ar      1 117_ideal         0.0000\\n     12 C12        -4.855    -0.623    1.545 C.ar      1 117_ideal         0.0000\\n     13 F1         -6.049    -0.702    2.174 F         1 117_ideal         0.0000\\n     14 C13        -1.104    -0.378    -0.429 C.2       1 117_ideal         0.0000\\n     15 C14         2.077    -0.319    -5.346 C.ar      1 117_ideal         0.0000\\n     16 C15         2.91    -1.221    -5.996 C.ar      1 117_ideal         0.0000\\n     17 C16         3.485    -0.881    -7.204 C.ar      1 117_ideal         0.0000\\n     18 C17         3.233    0.356    -7.768 C.ar      1 117_ideal         0.0000\\n     19 C18         2.404    1.256    -7.124 C.ar      1 117_ideal         0.0000\\n     20 C19         1.821    0.92    -5.918 C.ar      1 117_ideal         0.0000\\n     21 O1          -7.1824    -4.0554    4.855 O.3       1 117_ideal         0.0000\\n     22 O2          -5.6523    -2.6993    5.6901 O.2       1 117_ideal         0.0000\\n     23 O3          -4.2875    -1.282    3.8919 O.3       1 117_ideal         0.0000\\n     24 C20         -6.0207    -3.3882    4.7704 C.2       1 117_ideal         0.0000\\n     25 C21         -5.1763    -3.4985    3.5265 C.3       1 117_ideal         0.0000\\n     26 C22         -3.9162    -2.6467    3.6885 C.3       1 117_ideal         0.0000\\n     27 C23         -3.0595    -2.7591    2.4257 C.3       1 117_ideal         0.0000\\n     28 C24         -1.7994    -1.9077    2.5864 C.3       1 117_ideal         0.0000\\n     29 C25         -1.031    -1.2587    2.1998 C.3       1 117_ideal         0.0000\\n     30 C26         0.318    -1.168    1.485 C.3       1 117_ideal         0.0000\\n     31 N1          0.114    -0.691    0.115 N.pl3     1 117_ideal         0.0000\\n     32 C27        -0.899    0.032    -1.732 C.2       1 117_ideal         0.0000\\n     33 C28         0.553    -0.046    -1.954 C.2       1 117_ideal         0.0000\\n     34 C29         1.276    0.288    -3.191 C.2       1 117_ideal         0.0000\\n     35 N2          1.492    -0.661    -4.123 N.am      1 117_ideal         0.0000\\n     36 O4          1.679    1.421    -3.372 O.2       1 117_ideal         0.0000\\n     37 C30         1.097    -0.5    -0.784 C.2       1 117_ideal         0.0000\\n     38 C31         2.564    -0.741    -0.539 C.3       1 117_ideal         0.0000\\n     39 C32         3.079    -1.794    -1.523 C.3       1 117_ideal         0.0000\\n     40 C33         3.336    0.564    -0.74 C.3       1 117_ideal         0.0000\\n     41 O5          -2.1695    -0.543    2.7908 O.3       1 117_ideal         0.0000\\n     42 H1         -1.088    2.428    -2.965 H         1 117_ideal         0.0000\\n     43 H2         -2.992    -1.401    -2.661 H         1 117_ideal         0.0000\\n     44 H3         -4.701    -0.667    -4.271 H         1 117_ideal         0.0000\\n     45 H4         -4.604    1.596    -5.228 H         1 117_ideal         0.0000\\n     46 H5         -2.803    3.141    -4.578 H         1 117_ideal         0.0000\\n     47 H6         -5.023    1.476    1.172 H         1 117_ideal         0.0000\\n     48 H7         -2.852    1.628    0.028 H         1 117_ideal         0.0000\\n     49 H8         -2.257    -2.576    0.635 H         1 117_ideal         0.0000\\n     50 H9         -4.428    -2.707    1.782 H         1 117_ideal         0.0000\\n     51 H10         3.107    -2.187    -5.556 H         1 117_ideal         0.0000\\n     52 H11         4.133    -1.581    -7.71 H         1 117_ideal         0.0000\\n     53 H12         3.684    0.62    -8.713 H         1 117_ideal         0.0000\\n     54 H13         2.209    2.222    -7.566 H         1 117_ideal         0.0000\\n     55 H14         1.174    1.624    -5.415 H         1 117_ideal         0.0000\\n     56 H15         -7.7241    -3.9845    5.6523 H         1 117_ideal         0.0000\\n     57 H16         -4.7885    -1.0087    3.1114 H         1 117_ideal         0.0000\\n     58 H17         -5.7473    -3.1446    2.6681 H         1 117_ideal         0.0000\\n     59 H18         -4.8939    -4.5395    3.3706 H         1 117_ideal         0.0000\\n     60 H19         -3.3461    -3.002    4.5459 H         1 117_ideal         0.0000\\n     61 H20         -3.6299    -2.4049    1.5665 H         1 117_ideal         0.0000\\n     62 H21         -2.7774    -3.8    2.2698 H         1 117_ideal         0.0000\\n     63 H22        -1.2295    -2.2613    3.4454 H         1 117_ideal         0.0000\\n     64 H23         -1.5127    -1.6652    0.4651 H         1 117_ideal         0.0000\\n     65 H24        -0.6601    -3.0603    1.1684 H         1 117_ideal         0.0000\\n     66 H25        0.7834    -2.153    1.4619 H         1 117_ideal         0.0000\\n     67 H26         0.9658    -0.4738    2.0197 H         1 117_ideal         0.0000\\n     68 H27         1.243    -1.581    -3.945 H         1 117_ideal         0.0000\\n     69 H28         2.709    -1.096    0.48 H         1 117_ideal         0.0000\\n     70 H29         2.529    -2.724    -1.38 H         1 117_ideal         0.0000\\n     71 H30         2.934    -1.439    -2.543 H         1 117_ideal         0.0000\\n     72 H31         4.14    -1.968    -1.346 H         1 117_ideal         0.0000\\n     73 H32         2.969    1.314    -0.039 H         1 117_ideal         0.0000\\n     74 H33         4.397    0.389    -0.563 H         1 117_ideal         0.0000\\n     75 H34         3.191    0.918    -1.76 H         1 117_ideal         0.0000\\n     76 H35         -2.6711    -0.2691    2.0099 H         1 117_ideal         0.0000\\n@<TRIPOS>BOND\\n     1    1    2 ar\\n     2    1    6 ar\\n     3    1   42 1\\n     4    2    3 ar\\n     5    2   32 1\\n     6    3    4 ar\\n     7    3   43 1\\n     8    4    5 ar\\n     9    4   44 1\\n    10    5    6 ar\\n    11    5   45 1\\n    12    6   46 1\\n    13    7    8 ar\\n    14    7   12 ar\\n    15    7   47 1\\n    16    8    9 ar\\n    17    8   48 1\\n    18    9   10 ar\\n    19    9   14 1\\n    20   10   11 ar\\n    21   10   49 1\\n    22   11   12 ar\\n    23   11   50 1\\n    24   12   13 1\\n    25   14   31 1\\n    26   14   32 2\\n    27   15   16 ar\\n    28   15   20 ar\\n    29   15   35 1\\n    30   16   17 ar\\n    31   16   51 1\\n    32   17   18 ar\\n    33   17   52 1\\n    34   18   19 ar\\n    35   18   53 1\\n    36   19   20 ar\\n    37   19   54 1\\n    38   20   55 1\\n    39   21   24 1\\n    40   21   56 1\\n    41   22   24 2\\n    42   23   26 1\\n    43   23   57 1\\n    44   24   25 1\\n    45   25   26 1\\n    46   25   58 1\\n    47   25   59 1\\n    48   26   27 1\\n    49   26   60 1\\n    50   27   28 1\\n    51   27   61 1\\n    52   27   62 1\\n    53   28   29 1\\n    54   28   41 1\\n    55   28   63 1\\n    56   29   30 1\\n    57   29   64 1\\n    58   29   65 1\\n    59   30   31 1\\n    60   30   66 1\\n    61   30   67 1\\n    62   31   37 1\\n    63   32   33 1\\n    64   33   34 1\\n    65   33   37 2\\n    66   34   35 am\\n    67   34   36 2\\n    68   35   68 1\\n    69   37   38 1\\n    70   38   39 1\\n    71   38   40 1\\n    72   38   69 1\\n    73   39   70 1\\n    74   39   71 1\\n    75   39   72 1\\n    76   40   73 1\\n    77   40   74 1\\n    78   40   75 1\\n    79   41   76 1\\n\",\"mol2\");\n\tviewergrid_16463651467754567[0][1].setStyle({\"stick\": {\"colorscheme\": \"greenCarbon\"}});\n\tviewergrid_16463651467754567[1][0].addModel(\"@<TRIPOS>MOLECULE\\n117\\n   76    79     0     0     0\\nSMALL\\nNO_CHARGES\\n\\n@<TRIPOS>ATOM\\n      1 C1         -1.8780    1.7490   -3.2500 C.ar      1 117_ideal         0.0000\\n      2 C2         -1.9280    0.4660   -2.7030 C.ar      1 117_ideal         0.0000\\n      3 C3         -2.9480   -0.4060   -3.0810 C.ar      1 117_ideal         0.0000\\n      4 C4         -3.9080    0.0060   -3.9820 C.ar      1 117_ideal         0.0000\\n      5 C5         -3.8530    1.2790   -4.5200 C.ar      1 117_ideal         0.0000\\n      6 C6         -2.8400    2.1480   -4.1540 C.ar      1 117_ideal         0.0000\\n      7 C7         -4.4130    0.5930    1.0530 C.ar      1 117_ideal         0.0000\\n      8 C8         -3.1950    0.6790    0.4110 C.ar      1 117_ideal         0.0000\\n      9 C9         -2.4080   -0.4630    0.2570 C.ar      1 117_ideal         0.0000\\n     10 C10        -2.8610   -1.6880    0.7510 C.ar      1 117_ideal         0.0000\\n     11 C11        -4.0780   -1.7610    1.3960 C.ar      1 117_ideal         0.0000\\n     12 C12        -4.8550   -0.6230    1.5450 C.ar      1 117_ideal         0.0000\\n     13 F1         -6.0490   -0.7020    2.1740 F         1 117_ideal         0.0000\\n     14 C13        -1.1040   -0.3780   -0.4290 C.2       1 117_ideal         0.0000\\n     15 C14         2.0770   -0.3190   -5.3460 C.ar      1 117_ideal         0.0000\\n     16 C15         2.9100   -1.2210   -5.9960 C.ar      1 117_ideal         0.0000\\n     17 C16         3.4850   -0.8810   -7.2040 C.ar      1 117_ideal         0.0000\\n     18 C17         3.2330    0.3560   -7.7680 C.ar      1 117_ideal         0.0000\\n     19 C18         2.4040    1.2560   -7.1240 C.ar      1 117_ideal         0.0000\\n     20 C19         1.8210    0.9200   -5.9180 C.ar      1 117_ideal         0.0000\\n     21 O1          1.8240    1.8120    9.5350 O.3       1 117_ideal         0.0000\\n     22 O2          1.5880   -0.2500    8.7800 O.2       1 117_ideal         0.0000\\n     23 O3          2.3290   -0.6240    6.2470 O.3       1 117_ideal         0.0000\\n     24 C20         1.6110    0.9330    8.5430 C.2       1 117_ideal         0.0000\\n     25 C21         1.4010    1.4230    7.1330 C.3       1 117_ideal         0.0000\\n     26 C22         1.1820    0.2270    6.2050 C.3       1 117_ideal         0.0000\\n     27 C23         0.9690    0.7250    4.7740 C.3       1 117_ideal         0.0000\\n     28 C24         0.7500   -0.4700    3.8450 C.3       1 117_ideal         0.0000\\n     29 C25         0.5370    0.0270    2.4140 C.3       1 117_ideal         0.0000\\n     30 C26         0.3180   -1.1680    1.4850 C.3       1 117_ideal         0.0000\\n     31 N1          0.1140   -0.6910    0.1150 N.pl3     1 117_ideal         0.0000\\n     32 C27        -0.8990    0.0320   -1.7320 C.2       1 117_ideal         0.0000\\n     33 C28         0.5530   -0.0460   -1.9540 C.2       1 117_ideal         0.0000\\n     34 C29         1.2760    0.2880   -3.1910 C.2       1 117_ideal         0.0000\\n     35 N2          1.4920   -0.6610   -4.1230 N.am      1 117_ideal         0.0000\\n     36 O4          1.6790    1.4210   -3.3720 O.2       1 117_ideal         0.0000\\n     37 C30         1.0970   -0.5000   -0.7840 C.2       1 117_ideal         0.0000\\n     38 C31         2.5640   -0.7410   -0.5390 C.3       1 117_ideal         0.0000\\n     39 C32         3.0790   -1.7940   -1.5230 C.3       1 117_ideal         0.0000\\n     40 C33         3.3360    0.5640   -0.7400 C.3       1 117_ideal         0.0000\\n     41 O5          1.8960   -1.3220    3.8870 O.3       1 117_ideal         0.0000\\n     42 H1         -1.0880    2.4280   -2.9650 H         1 117_ideal         0.0000\\n     43 H2         -2.9920   -1.4010   -2.6610 H         1 117_ideal         0.0000\\n     44 H3         -4.7010   -0.6670   -4.2710 H         1 117_ideal         0.0000\\n     45 H4         -4.6040    1.5960   -5.2280 H         1 117_ideal         0.0000\\n     46 H5         -2.8030    3.1410   -4.5780 H         1 117_ideal         0.0000\\n     47 H6         -5.0230    1.4760    1.1720 H         1 117_ideal         0.0000\\n     48 H7         -2.8520    1.6280    0.0280 H         1 117_ideal         0.0000\\n     49 H8         -2.2570   -2.5760    0.6350 H         1 117_ideal         0.0000\\n     50 H9         -4.4280   -2.7070    1.7820 H         1 117_ideal         0.0000\\n     51 H10         3.1070   -2.1870   -5.5560 H         1 117_ideal         0.0000\\n     52 H11         4.1330   -1.5810   -7.7100 H         1 117_ideal         0.0000\\n     53 H12         3.6840    0.6200   -8.7130 H         1 117_ideal         0.0000\\n     54 H13         2.2090    2.2220   -7.5660 H         1 117_ideal         0.0000\\n     55 H14         1.1740    1.6240   -5.4150 H         1 117_ideal         0.0000\\n     56 H15         1.9590    1.4980   10.4390 H         1 117_ideal         0.0000\\n     57 H16         3.0820   -0.0940    5.9520 H         1 117_ideal         0.0000\\n     58 H17         2.2800    1.9800    6.8080 H         1 117_ideal         0.0000\\n     59 H18         0.5270    2.0730    7.1010 H         1 117_ideal         0.0000\\n     60 H19         0.3030   -0.3280    6.5300 H         1 117_ideal         0.0000\\n     61 H20         1.8480    1.2820    4.4480 H         1 117_ideal         0.0000\\n     62 H21         0.0950    1.3750    4.7420 H         1 117_ideal         0.0000\\n     63 H22        -0.1280   -1.0270    4.1710 H         1 117_ideal         0.0000\\n     64 H23         1.4160    0.5840    2.0880 H         1 117_ideal         0.0000\\n     65 H24        -0.3370    0.6770    2.3820 H         1 117_ideal         0.0000\\n     66 H25        -0.5600   -1.7250    1.8110 H         1 117_ideal         0.0000\\n     67 H26         1.1920   -1.8180    1.5180 H         1 117_ideal         0.0000\\n     68 H27         1.2430   -1.5810   -3.9450 H         1 117_ideal         0.0000\\n     69 H28         2.7090   -1.0960    0.4800 H         1 117_ideal         0.0000\\n     70 H29         2.5290   -2.7240   -1.3800 H         1 117_ideal         0.0000\\n     71 H30         2.9340   -1.4390   -2.5430 H         1 117_ideal         0.0000\\n     72 H31         4.1400   -1.9680   -1.3460 H         1 117_ideal         0.0000\\n     73 H32         2.9690    1.3140   -0.0390 H         1 117_ideal         0.0000\\n     74 H33         4.3970    0.3890   -0.5630 H         1 117_ideal         0.0000\\n     75 H34         3.1910    0.9180   -1.7600 H         1 117_ideal         0.0000\\n     76 H35         2.6500   -0.7920    3.5920 H         1 117_ideal         0.0000\\n@<TRIPOS>BOND\\n     1    1    2 ar\\n     2    1    6 ar\\n     3    1   42 1\\n     4    2    3 ar\\n     5    2   32 1\\n     6    3    4 ar\\n     7    3   43 1\\n     8    4    5 ar\\n     9    4   44 1\\n    10    5    6 ar\\n    11    5   45 1\\n    12    6   46 1\\n    13    7    8 ar\\n    14    7   12 ar\\n    15    7   47 1\\n    16    8    9 ar\\n    17    8   48 1\\n    18    9   10 ar\\n    19    9   14 1\\n    20   10   11 ar\\n    21   10   49 1\\n    22   11   12 ar\\n    23   11   50 1\\n    24   12   13 1\\n    25   14   31 1\\n    26   14   32 2\\n    27   15   16 ar\\n    28   15   20 ar\\n    29   15   35 1\\n    30   16   17 ar\\n    31   16   51 1\\n    32   17   18 ar\\n    33   17   52 1\\n    34   18   19 ar\\n    35   18   53 1\\n    36   19   20 ar\\n    37   19   54 1\\n    38   20   55 1\\n    39   21   24 1\\n    40   21   56 1\\n    41   22   24 2\\n    42   23   26 1\\n    43   23   57 1\\n    44   24   25 1\\n    45   25   26 1\\n    46   25   58 1\\n    47   25   59 1\\n    48   26   27 1\\n    49   26   60 1\\n    50   27   28 1\\n    51   27   61 1\\n    52   27   62 1\\n    53   28   29 1\\n    54   28   41 1\\n    55   28   63 1\\n    56   29   30 1\\n    57   29   64 1\\n    58   29   65 1\\n    59   30   31 1\\n    60   30   66 1\\n    61   30   67 1\\n    62   31   37 1\\n    63   32   33 1\\n    64   33   34 1\\n    65   33   37 2\\n    66   34   35 am\\n    67   34   36 2\\n    68   35   68 1\\n    69   37   38 1\\n    70   38   39 1\\n    71   38   40 1\\n    72   38   69 1\\n    73   39   70 1\\n    74   39   71 1\\n    75   39   72 1\\n    76   40   73 1\\n    77   40   74 1\\n    78   40   75 1\\n    79   41   76 1\\n\",\"mol2\");\n\tviewergrid_16463651467754567[1][0].setStyle({\"stick\": {\"colorscheme\": \"greenCarbon\"}});\n\tviewergrid_16463651467754567[0][0].zoomTo();\n\tviewergrid_16463651467754567[0][1].zoomTo();\n\tviewergrid_16463651467754567[1][0].zoomTo();\n\tviewergrid_16463651467754567[1][1].zoomTo();\nviewergrid_16463651467754567[1][1].render();\nviewergrid_16463651467754567[1][0].render();\nviewergrid_16463651467754567[0][1].render();\nviewergrid_16463651467754567[0][0].render();\n});\n</script>",
      "text/html": [
       "<div id=\"3dmolviewer_16463651467754567\"  style=\"position: relative; width: 600px; height: 600px\">\n",
       "        <p id=\"3dmolwarning_16463651467754567\" style=\"background-color:#ffcccc;color:black\">You appear to be running in JupyterLab (or JavaScript failed to load for some other reason).  You need to install the 3dmol extension: <br>\n",
       "        <tt>jupyter labextension install jupyterlab_3dmol</tt></p>\n",
       "        </div>\n",
       "<script>\n",
       "\n",
       "var loadScriptAsync = function(uri){\n",
       "  return new Promise((resolve, reject) => {\n",
       "    var tag = document.createElement('script');\n",
       "    tag.src = uri;\n",
       "    tag.async = true;\n",
       "    tag.onload = () => {\n",
       "      resolve();\n",
       "    };\n",
       "  var firstScriptTag = document.getElementsByTagName('script')[0];\n",
       "  firstScriptTag.parentNode.insertBefore(tag, firstScriptTag);\n",
       "});\n",
       "};\n",
       "\n",
       "if(typeof $3Dmolpromise === 'undefined') {\n",
       "$3Dmolpromise = null;\n",
       "  $3Dmolpromise = loadScriptAsync('https://3dmol.org/build/3Dmol.js');\n",
       "}\n",
       "\n",
       "var viewer_16463651467754567 = null;\n",
       "var warn = document.getElementById(\"3dmolwarning_16463651467754567\");\n",
       "if(warn) {\n",
       "    warn.parentNode.removeChild(warn);\n",
       "}\n",
       "$3Dmolpromise.then(function() {\n",
       "var viewergrid_16463651467754567 = null;\n",
       "viewergrid_16463651467754567 = $3Dmol.createViewerGrid($(\"#3dmolviewer_16463651467754567\"),{rows: 2, cols: 2, control_all: false},{backgroundColor:\"white\"});\n",
       "viewer_16463651467754567 = viewergrid_16463651467754567[0][0];\n",
       "viewergrid_16463651467754567[0][0].zoomTo();viewergrid_16463651467754567[0][1].zoomTo();viewergrid_16463651467754567[1][0].zoomTo();viewergrid_16463651467754567[1][1].zoomTo();\tviewergrid_16463651467754567[0][0].addModel(\"@<TRIPOS>MOLECULE\\n117\\n   76    79     0     0     0\\nSMALL\\nNO_CHARGES\\n\\n@<TRIPOS>ATOM\\n      1 C1         -1.878    1.749    -3.25 C.ar      1 117_ideal         0.0000\\n      2 C2         -1.928    0.466    -2.703 C.ar      1 117_ideal         0.0000\\n      3 C3         -2.948    -0.406    -3.081 C.ar      1 117_ideal         0.0000\\n      4 C4         -3.908    0.006    -3.982 C.ar      1 117_ideal         0.0000\\n      5 C5         -3.853    1.279    -4.52 C.ar      1 117_ideal         0.0000\\n      6 C6         -2.84    2.148    -4.154 C.ar      1 117_ideal         0.0000\\n      7 C7         -4.413    0.593    1.053 C.ar      1 117_ideal         0.0000\\n      8 C8         -3.195    0.679    0.411 C.ar      1 117_ideal         0.0000\\n      9 C9         -2.408    -0.463    0.257 C.ar      1 117_ideal         0.0000\\n     10 C10        -2.861    -1.688    0.751 C.ar      1 117_ideal         0.0000\\n     11 C11        -4.078    -1.761    1.396 C.ar      1 117_ideal         0.0000\\n     12 C12        -4.855    -0.623    1.545 C.ar      1 117_ideal         0.0000\\n     13 F1         -6.049    -0.702    2.174 F         1 117_ideal         0.0000\\n     14 C13        -1.104    -0.378    -0.429 C.2       1 117_ideal         0.0000\\n     15 C14         2.077    -0.319    -5.346 C.ar      1 117_ideal         0.0000\\n     16 C15         2.91    -1.221    -5.996 C.ar      1 117_ideal         0.0000\\n     17 C16         3.485    -0.881    -7.204 C.ar      1 117_ideal         0.0000\\n     18 C17         3.233    0.356    -7.768 C.ar      1 117_ideal         0.0000\\n     19 C18         2.404    1.256    -7.124 C.ar      1 117_ideal         0.0000\\n     20 C19         1.821    0.92    -5.918 C.ar      1 117_ideal         0.0000\\n     21 O1          -7.1824    -4.0554    4.855 O.3       1 117_ideal         0.0000\\n     22 O2          -5.6523    -2.6993    5.6901 O.2       1 117_ideal         0.0000\\n     23 O3          -4.2875    -1.282    3.8919 O.3       1 117_ideal         0.0000\\n     24 C20         -6.0207    -3.3882    4.7704 C.2       1 117_ideal         0.0000\\n     25 C21         -5.1763    -3.4985    3.5265 C.3       1 117_ideal         0.0000\\n     26 C22         -3.9162    -2.6467    3.6885 C.3       1 117_ideal         0.0000\\n     27 C23         -3.0595    -2.7591    2.4257 C.3       1 117_ideal         0.0000\\n     28 C24         -1.7994    -1.9077    2.5864 C.3       1 117_ideal         0.0000\\n     29 C25         -1.031    -1.2587    2.1998 C.3       1 117_ideal         0.0000\\n     30 C26         0.318    -1.168    1.485 C.3       1 117_ideal         0.0000\\n     31 N1          0.114    -0.691    0.115 N.pl3     1 117_ideal         0.0000\\n     32 C27        -0.899    0.032    -1.732 C.2       1 117_ideal         0.0000\\n     33 C28         0.553    -0.046    -1.954 C.2       1 117_ideal         0.0000\\n     34 C29         1.276    0.288    -3.191 C.2       1 117_ideal         0.0000\\n     35 N2          1.492    -0.661    -4.123 N.am      1 117_ideal         0.0000\\n     36 O4          1.679    1.421    -3.372 O.2       1 117_ideal         0.0000\\n     37 C30         1.097    -0.5    -0.784 C.2       1 117_ideal         0.0000\\n     38 C31         2.564    -0.741    -0.539 C.3       1 117_ideal         0.0000\\n     39 C32         3.079    -1.794    -1.523 C.3       1 117_ideal         0.0000\\n     40 C33         3.336    0.564    -0.74 C.3       1 117_ideal         0.0000\\n     41 O5          -2.1695    -0.543    2.7908 O.3       1 117_ideal         0.0000\\n     42 H1         -1.088    2.428    -2.965 H         1 117_ideal         0.0000\\n     43 H2         -2.992    -1.401    -2.661 H         1 117_ideal         0.0000\\n     44 H3         -4.701    -0.667    -4.271 H         1 117_ideal         0.0000\\n     45 H4         -4.604    1.596    -5.228 H         1 117_ideal         0.0000\\n     46 H5         -2.803    3.141    -4.578 H         1 117_ideal         0.0000\\n     47 H6         -5.023    1.476    1.172 H         1 117_ideal         0.0000\\n     48 H7         -2.852    1.628    0.028 H         1 117_ideal         0.0000\\n     49 H8         -2.257    -2.576    0.635 H         1 117_ideal         0.0000\\n     50 H9         -4.428    -2.707    1.782 H         1 117_ideal         0.0000\\n     51 H10         3.107    -2.187    -5.556 H         1 117_ideal         0.0000\\n     52 H11         4.133    -1.581    -7.71 H         1 117_ideal         0.0000\\n     53 H12         3.684    0.62    -8.713 H         1 117_ideal         0.0000\\n     54 H13         2.209    2.222    -7.566 H         1 117_ideal         0.0000\\n     55 H14         1.174    1.624    -5.415 H         1 117_ideal         0.0000\\n     56 H15         -7.7241    -3.9845    5.6523 H         1 117_ideal         0.0000\\n     57 H16         -4.7885    -1.0087    3.1114 H         1 117_ideal         0.0000\\n     58 H17         -5.7473    -3.1446    2.6681 H         1 117_ideal         0.0000\\n     59 H18         -4.8939    -4.5395    3.3706 H         1 117_ideal         0.0000\\n     60 H19         -3.3461    -3.002    4.5459 H         1 117_ideal         0.0000\\n     61 H20         -3.6299    -2.4049    1.5665 H         1 117_ideal         0.0000\\n     62 H21         -2.7774    -3.8    2.2698 H         1 117_ideal         0.0000\\n     63 H22        -1.2295    -2.2613    3.4454 H         1 117_ideal         0.0000\\n     64 H23         -1.5127    -1.6652    0.4651 H         1 117_ideal         0.0000\\n     65 H24        -0.6601    -3.0603    1.1684 H         1 117_ideal         0.0000\\n     66 H25        0.7834    -2.153    1.4619 H         1 117_ideal         0.0000\\n     67 H26         0.9658    -0.4738    2.0197 H         1 117_ideal         0.0000\\n     68 H27         1.243    -1.581    -3.945 H         1 117_ideal         0.0000\\n     69 H28         2.709    -1.096    0.48 H         1 117_ideal         0.0000\\n     70 H29         2.529    -2.724    -1.38 H         1 117_ideal         0.0000\\n     71 H30         2.934    -1.439    -2.543 H         1 117_ideal         0.0000\\n     72 H31         4.14    -1.968    -1.346 H         1 117_ideal         0.0000\\n     73 H32         2.969    1.314    -0.039 H         1 117_ideal         0.0000\\n     74 H33         4.397    0.389    -0.563 H         1 117_ideal         0.0000\\n     75 H34         3.191    0.918    -1.76 H         1 117_ideal         0.0000\\n     76 H35         -2.6711    -0.2691    2.0099 H         1 117_ideal         0.0000\\n@<TRIPOS>BOND\\n     1    1    2 ar\\n     2    1    6 ar\\n     3    1   42 1\\n     4    2    3 ar\\n     5    2   32 1\\n     6    3    4 ar\\n     7    3   43 1\\n     8    4    5 ar\\n     9    4   44 1\\n    10    5    6 ar\\n    11    5   45 1\\n    12    6   46 1\\n    13    7    8 ar\\n    14    7   12 ar\\n    15    7   47 1\\n    16    8    9 ar\\n    17    8   48 1\\n    18    9   10 ar\\n    19    9   14 1\\n    20   10   11 ar\\n    21   10   49 1\\n    22   11   12 ar\\n    23   11   50 1\\n    24   12   13 1\\n    25   14   31 1\\n    26   14   32 2\\n    27   15   16 ar\\n    28   15   20 ar\\n    29   15   35 1\\n    30   16   17 ar\\n    31   16   51 1\\n    32   17   18 ar\\n    33   17   52 1\\n    34   18   19 ar\\n    35   18   53 1\\n    36   19   20 ar\\n    37   19   54 1\\n    38   20   55 1\\n    39   21   24 1\\n    40   21   56 1\\n    41   22   24 2\\n    42   23   26 1\\n    43   23   57 1\\n    44   24   25 1\\n    45   25   26 1\\n    46   25   58 1\\n    47   25   59 1\\n    48   26   27 1\\n    49   26   60 1\\n    50   27   28 1\\n    51   27   61 1\\n    52   27   62 1\\n    53   28   29 1\\n    54   28   41 1\\n    55   28   63 1\\n    56   29   30 1\\n    57   29   64 1\\n    58   29   65 1\\n    59   30   31 1\\n    60   30   66 1\\n    61   30   67 1\\n    62   31   37 1\\n    63   32   33 1\\n    64   33   34 1\\n    65   33   37 2\\n    66   34   35 am\\n    67   34   36 2\\n    68   35   68 1\\n    69   37   38 1\\n    70   38   39 1\\n    71   38   40 1\\n    72   38   69 1\\n    73   39   70 1\\n    74   39   71 1\\n    75   39   72 1\\n    76   40   73 1\\n    77   40   74 1\\n    78   40   75 1\\n    79   41   76 1\\n\",\"mol2\");\n",
       "\tviewergrid_16463651467754567[0][0].setStyle({\"stick\": {\"colorscheme\": \"greenCarbon\"}});\n",
       "\tviewergrid_16463651467754567[0][1].addModel(\"@<TRIPOS>MOLECULE\\n117\\n   76    79     0     0     0\\nSMALL\\nNO_CHARGES\\n\\n@<TRIPOS>ATOM\\n      1 C1         -1.878    1.749    -3.25 C.ar      1 117_ideal         0.0000\\n      2 C2         -1.928    0.466    -2.703 C.ar      1 117_ideal         0.0000\\n      3 C3         -2.948    -0.406    -3.081 C.ar      1 117_ideal         0.0000\\n      4 C4         -3.908    0.006    -3.982 C.ar      1 117_ideal         0.0000\\n      5 C5         -3.853    1.279    -4.52 C.ar      1 117_ideal         0.0000\\n      6 C6         -2.84    2.148    -4.154 C.ar      1 117_ideal         0.0000\\n      7 C7         -4.413    0.593    1.053 C.ar      1 117_ideal         0.0000\\n      8 C8         -3.195    0.679    0.411 C.ar      1 117_ideal         0.0000\\n      9 C9         -2.408    -0.463    0.257 C.ar      1 117_ideal         0.0000\\n     10 C10        -2.861    -1.688    0.751 C.ar      1 117_ideal         0.0000\\n     11 C11        -4.078    -1.761    1.396 C.ar      1 117_ideal         0.0000\\n     12 C12        -4.855    -0.623    1.545 C.ar      1 117_ideal         0.0000\\n     13 F1         -6.049    -0.702    2.174 F         1 117_ideal         0.0000\\n     14 C13        -1.104    -0.378    -0.429 C.2       1 117_ideal         0.0000\\n     15 C14         2.077    -0.319    -5.346 C.ar      1 117_ideal         0.0000\\n     16 C15         2.91    -1.221    -5.996 C.ar      1 117_ideal         0.0000\\n     17 C16         3.485    -0.881    -7.204 C.ar      1 117_ideal         0.0000\\n     18 C17         3.233    0.356    -7.768 C.ar      1 117_ideal         0.0000\\n     19 C18         2.404    1.256    -7.124 C.ar      1 117_ideal         0.0000\\n     20 C19         1.821    0.92    -5.918 C.ar      1 117_ideal         0.0000\\n     21 O1          -7.1824    -4.0554    4.855 O.3       1 117_ideal         0.0000\\n     22 O2          -5.6523    -2.6993    5.6901 O.2       1 117_ideal         0.0000\\n     23 O3          -4.2875    -1.282    3.8919 O.3       1 117_ideal         0.0000\\n     24 C20         -6.0207    -3.3882    4.7704 C.2       1 117_ideal         0.0000\\n     25 C21         -5.1763    -3.4985    3.5265 C.3       1 117_ideal         0.0000\\n     26 C22         -3.9162    -2.6467    3.6885 C.3       1 117_ideal         0.0000\\n     27 C23         -3.0595    -2.7591    2.4257 C.3       1 117_ideal         0.0000\\n     28 C24         -1.7994    -1.9077    2.5864 C.3       1 117_ideal         0.0000\\n     29 C25         -1.031    -1.2587    2.1998 C.3       1 117_ideal         0.0000\\n     30 C26         0.318    -1.168    1.485 C.3       1 117_ideal         0.0000\\n     31 N1          0.114    -0.691    0.115 N.pl3     1 117_ideal         0.0000\\n     32 C27        -0.899    0.032    -1.732 C.2       1 117_ideal         0.0000\\n     33 C28         0.553    -0.046    -1.954 C.2       1 117_ideal         0.0000\\n     34 C29         1.276    0.288    -3.191 C.2       1 117_ideal         0.0000\\n     35 N2          1.492    -0.661    -4.123 N.am      1 117_ideal         0.0000\\n     36 O4          1.679    1.421    -3.372 O.2       1 117_ideal         0.0000\\n     37 C30         1.097    -0.5    -0.784 C.2       1 117_ideal         0.0000\\n     38 C31         2.564    -0.741    -0.539 C.3       1 117_ideal         0.0000\\n     39 C32         3.079    -1.794    -1.523 C.3       1 117_ideal         0.0000\\n     40 C33         3.336    0.564    -0.74 C.3       1 117_ideal         0.0000\\n     41 O5          -2.1695    -0.543    2.7908 O.3       1 117_ideal         0.0000\\n     42 H1         -1.088    2.428    -2.965 H         1 117_ideal         0.0000\\n     43 H2         -2.992    -1.401    -2.661 H         1 117_ideal         0.0000\\n     44 H3         -4.701    -0.667    -4.271 H         1 117_ideal         0.0000\\n     45 H4         -4.604    1.596    -5.228 H         1 117_ideal         0.0000\\n     46 H5         -2.803    3.141    -4.578 H         1 117_ideal         0.0000\\n     47 H6         -5.023    1.476    1.172 H         1 117_ideal         0.0000\\n     48 H7         -2.852    1.628    0.028 H         1 117_ideal         0.0000\\n     49 H8         -2.257    -2.576    0.635 H         1 117_ideal         0.0000\\n     50 H9         -4.428    -2.707    1.782 H         1 117_ideal         0.0000\\n     51 H10         3.107    -2.187    -5.556 H         1 117_ideal         0.0000\\n     52 H11         4.133    -1.581    -7.71 H         1 117_ideal         0.0000\\n     53 H12         3.684    0.62    -8.713 H         1 117_ideal         0.0000\\n     54 H13         2.209    2.222    -7.566 H         1 117_ideal         0.0000\\n     55 H14         1.174    1.624    -5.415 H         1 117_ideal         0.0000\\n     56 H15         -7.7241    -3.9845    5.6523 H         1 117_ideal         0.0000\\n     57 H16         -4.7885    -1.0087    3.1114 H         1 117_ideal         0.0000\\n     58 H17         -5.7473    -3.1446    2.6681 H         1 117_ideal         0.0000\\n     59 H18         -4.8939    -4.5395    3.3706 H         1 117_ideal         0.0000\\n     60 H19         -3.3461    -3.002    4.5459 H         1 117_ideal         0.0000\\n     61 H20         -3.6299    -2.4049    1.5665 H         1 117_ideal         0.0000\\n     62 H21         -2.7774    -3.8    2.2698 H         1 117_ideal         0.0000\\n     63 H22        -1.2295    -2.2613    3.4454 H         1 117_ideal         0.0000\\n     64 H23         -1.5127    -1.6652    0.4651 H         1 117_ideal         0.0000\\n     65 H24        -0.6601    -3.0603    1.1684 H         1 117_ideal         0.0000\\n     66 H25        0.7834    -2.153    1.4619 H         1 117_ideal         0.0000\\n     67 H26         0.9658    -0.4738    2.0197 H         1 117_ideal         0.0000\\n     68 H27         1.243    -1.581    -3.945 H         1 117_ideal         0.0000\\n     69 H28         2.709    -1.096    0.48 H         1 117_ideal         0.0000\\n     70 H29         2.529    -2.724    -1.38 H         1 117_ideal         0.0000\\n     71 H30         2.934    -1.439    -2.543 H         1 117_ideal         0.0000\\n     72 H31         4.14    -1.968    -1.346 H         1 117_ideal         0.0000\\n     73 H32         2.969    1.314    -0.039 H         1 117_ideal         0.0000\\n     74 H33         4.397    0.389    -0.563 H         1 117_ideal         0.0000\\n     75 H34         3.191    0.918    -1.76 H         1 117_ideal         0.0000\\n     76 H35         -2.6711    -0.2691    2.0099 H         1 117_ideal         0.0000\\n@<TRIPOS>BOND\\n     1    1    2 ar\\n     2    1    6 ar\\n     3    1   42 1\\n     4    2    3 ar\\n     5    2   32 1\\n     6    3    4 ar\\n     7    3   43 1\\n     8    4    5 ar\\n     9    4   44 1\\n    10    5    6 ar\\n    11    5   45 1\\n    12    6   46 1\\n    13    7    8 ar\\n    14    7   12 ar\\n    15    7   47 1\\n    16    8    9 ar\\n    17    8   48 1\\n    18    9   10 ar\\n    19    9   14 1\\n    20   10   11 ar\\n    21   10   49 1\\n    22   11   12 ar\\n    23   11   50 1\\n    24   12   13 1\\n    25   14   31 1\\n    26   14   32 2\\n    27   15   16 ar\\n    28   15   20 ar\\n    29   15   35 1\\n    30   16   17 ar\\n    31   16   51 1\\n    32   17   18 ar\\n    33   17   52 1\\n    34   18   19 ar\\n    35   18   53 1\\n    36   19   20 ar\\n    37   19   54 1\\n    38   20   55 1\\n    39   21   24 1\\n    40   21   56 1\\n    41   22   24 2\\n    42   23   26 1\\n    43   23   57 1\\n    44   24   25 1\\n    45   25   26 1\\n    46   25   58 1\\n    47   25   59 1\\n    48   26   27 1\\n    49   26   60 1\\n    50   27   28 1\\n    51   27   61 1\\n    52   27   62 1\\n    53   28   29 1\\n    54   28   41 1\\n    55   28   63 1\\n    56   29   30 1\\n    57   29   64 1\\n    58   29   65 1\\n    59   30   31 1\\n    60   30   66 1\\n    61   30   67 1\\n    62   31   37 1\\n    63   32   33 1\\n    64   33   34 1\\n    65   33   37 2\\n    66   34   35 am\\n    67   34   36 2\\n    68   35   68 1\\n    69   37   38 1\\n    70   38   39 1\\n    71   38   40 1\\n    72   38   69 1\\n    73   39   70 1\\n    74   39   71 1\\n    75   39   72 1\\n    76   40   73 1\\n    77   40   74 1\\n    78   40   75 1\\n    79   41   76 1\\n\",\"mol2\");\n",
       "\tviewergrid_16463651467754567[0][1].setStyle({\"stick\": {\"colorscheme\": \"greenCarbon\"}});\n",
       "\tviewergrid_16463651467754567[1][0].addModel(\"@<TRIPOS>MOLECULE\\n117\\n   76    79     0     0     0\\nSMALL\\nNO_CHARGES\\n\\n@<TRIPOS>ATOM\\n      1 C1         -1.8780    1.7490   -3.2500 C.ar      1 117_ideal         0.0000\\n      2 C2         -1.9280    0.4660   -2.7030 C.ar      1 117_ideal         0.0000\\n      3 C3         -2.9480   -0.4060   -3.0810 C.ar      1 117_ideal         0.0000\\n      4 C4         -3.9080    0.0060   -3.9820 C.ar      1 117_ideal         0.0000\\n      5 C5         -3.8530    1.2790   -4.5200 C.ar      1 117_ideal         0.0000\\n      6 C6         -2.8400    2.1480   -4.1540 C.ar      1 117_ideal         0.0000\\n      7 C7         -4.4130    0.5930    1.0530 C.ar      1 117_ideal         0.0000\\n      8 C8         -3.1950    0.6790    0.4110 C.ar      1 117_ideal         0.0000\\n      9 C9         -2.4080   -0.4630    0.2570 C.ar      1 117_ideal         0.0000\\n     10 C10        -2.8610   -1.6880    0.7510 C.ar      1 117_ideal         0.0000\\n     11 C11        -4.0780   -1.7610    1.3960 C.ar      1 117_ideal         0.0000\\n     12 C12        -4.8550   -0.6230    1.5450 C.ar      1 117_ideal         0.0000\\n     13 F1         -6.0490   -0.7020    2.1740 F         1 117_ideal         0.0000\\n     14 C13        -1.1040   -0.3780   -0.4290 C.2       1 117_ideal         0.0000\\n     15 C14         2.0770   -0.3190   -5.3460 C.ar      1 117_ideal         0.0000\\n     16 C15         2.9100   -1.2210   -5.9960 C.ar      1 117_ideal         0.0000\\n     17 C16         3.4850   -0.8810   -7.2040 C.ar      1 117_ideal         0.0000\\n     18 C17         3.2330    0.3560   -7.7680 C.ar      1 117_ideal         0.0000\\n     19 C18         2.4040    1.2560   -7.1240 C.ar      1 117_ideal         0.0000\\n     20 C19         1.8210    0.9200   -5.9180 C.ar      1 117_ideal         0.0000\\n     21 O1          1.8240    1.8120    9.5350 O.3       1 117_ideal         0.0000\\n     22 O2          1.5880   -0.2500    8.7800 O.2       1 117_ideal         0.0000\\n     23 O3          2.3290   -0.6240    6.2470 O.3       1 117_ideal         0.0000\\n     24 C20         1.6110    0.9330    8.5430 C.2       1 117_ideal         0.0000\\n     25 C21         1.4010    1.4230    7.1330 C.3       1 117_ideal         0.0000\\n     26 C22         1.1820    0.2270    6.2050 C.3       1 117_ideal         0.0000\\n     27 C23         0.9690    0.7250    4.7740 C.3       1 117_ideal         0.0000\\n     28 C24         0.7500   -0.4700    3.8450 C.3       1 117_ideal         0.0000\\n     29 C25         0.5370    0.0270    2.4140 C.3       1 117_ideal         0.0000\\n     30 C26         0.3180   -1.1680    1.4850 C.3       1 117_ideal         0.0000\\n     31 N1          0.1140   -0.6910    0.1150 N.pl3     1 117_ideal         0.0000\\n     32 C27        -0.8990    0.0320   -1.7320 C.2       1 117_ideal         0.0000\\n     33 C28         0.5530   -0.0460   -1.9540 C.2       1 117_ideal         0.0000\\n     34 C29         1.2760    0.2880   -3.1910 C.2       1 117_ideal         0.0000\\n     35 N2          1.4920   -0.6610   -4.1230 N.am      1 117_ideal         0.0000\\n     36 O4          1.6790    1.4210   -3.3720 O.2       1 117_ideal         0.0000\\n     37 C30         1.0970   -0.5000   -0.7840 C.2       1 117_ideal         0.0000\\n     38 C31         2.5640   -0.7410   -0.5390 C.3       1 117_ideal         0.0000\\n     39 C32         3.0790   -1.7940   -1.5230 C.3       1 117_ideal         0.0000\\n     40 C33         3.3360    0.5640   -0.7400 C.3       1 117_ideal         0.0000\\n     41 O5          1.8960   -1.3220    3.8870 O.3       1 117_ideal         0.0000\\n     42 H1         -1.0880    2.4280   -2.9650 H         1 117_ideal         0.0000\\n     43 H2         -2.9920   -1.4010   -2.6610 H         1 117_ideal         0.0000\\n     44 H3         -4.7010   -0.6670   -4.2710 H         1 117_ideal         0.0000\\n     45 H4         -4.6040    1.5960   -5.2280 H         1 117_ideal         0.0000\\n     46 H5         -2.8030    3.1410   -4.5780 H         1 117_ideal         0.0000\\n     47 H6         -5.0230    1.4760    1.1720 H         1 117_ideal         0.0000\\n     48 H7         -2.8520    1.6280    0.0280 H         1 117_ideal         0.0000\\n     49 H8         -2.2570   -2.5760    0.6350 H         1 117_ideal         0.0000\\n     50 H9         -4.4280   -2.7070    1.7820 H         1 117_ideal         0.0000\\n     51 H10         3.1070   -2.1870   -5.5560 H         1 117_ideal         0.0000\\n     52 H11         4.1330   -1.5810   -7.7100 H         1 117_ideal         0.0000\\n     53 H12         3.6840    0.6200   -8.7130 H         1 117_ideal         0.0000\\n     54 H13         2.2090    2.2220   -7.5660 H         1 117_ideal         0.0000\\n     55 H14         1.1740    1.6240   -5.4150 H         1 117_ideal         0.0000\\n     56 H15         1.9590    1.4980   10.4390 H         1 117_ideal         0.0000\\n     57 H16         3.0820   -0.0940    5.9520 H         1 117_ideal         0.0000\\n     58 H17         2.2800    1.9800    6.8080 H         1 117_ideal         0.0000\\n     59 H18         0.5270    2.0730    7.1010 H         1 117_ideal         0.0000\\n     60 H19         0.3030   -0.3280    6.5300 H         1 117_ideal         0.0000\\n     61 H20         1.8480    1.2820    4.4480 H         1 117_ideal         0.0000\\n     62 H21         0.0950    1.3750    4.7420 H         1 117_ideal         0.0000\\n     63 H22        -0.1280   -1.0270    4.1710 H         1 117_ideal         0.0000\\n     64 H23         1.4160    0.5840    2.0880 H         1 117_ideal         0.0000\\n     65 H24        -0.3370    0.6770    2.3820 H         1 117_ideal         0.0000\\n     66 H25        -0.5600   -1.7250    1.8110 H         1 117_ideal         0.0000\\n     67 H26         1.1920   -1.8180    1.5180 H         1 117_ideal         0.0000\\n     68 H27         1.2430   -1.5810   -3.9450 H         1 117_ideal         0.0000\\n     69 H28         2.7090   -1.0960    0.4800 H         1 117_ideal         0.0000\\n     70 H29         2.5290   -2.7240   -1.3800 H         1 117_ideal         0.0000\\n     71 H30         2.9340   -1.4390   -2.5430 H         1 117_ideal         0.0000\\n     72 H31         4.1400   -1.9680   -1.3460 H         1 117_ideal         0.0000\\n     73 H32         2.9690    1.3140   -0.0390 H         1 117_ideal         0.0000\\n     74 H33         4.3970    0.3890   -0.5630 H         1 117_ideal         0.0000\\n     75 H34         3.1910    0.9180   -1.7600 H         1 117_ideal         0.0000\\n     76 H35         2.6500   -0.7920    3.5920 H         1 117_ideal         0.0000\\n@<TRIPOS>BOND\\n     1    1    2 ar\\n     2    1    6 ar\\n     3    1   42 1\\n     4    2    3 ar\\n     5    2   32 1\\n     6    3    4 ar\\n     7    3   43 1\\n     8    4    5 ar\\n     9    4   44 1\\n    10    5    6 ar\\n    11    5   45 1\\n    12    6   46 1\\n    13    7    8 ar\\n    14    7   12 ar\\n    15    7   47 1\\n    16    8    9 ar\\n    17    8   48 1\\n    18    9   10 ar\\n    19    9   14 1\\n    20   10   11 ar\\n    21   10   49 1\\n    22   11   12 ar\\n    23   11   50 1\\n    24   12   13 1\\n    25   14   31 1\\n    26   14   32 2\\n    27   15   16 ar\\n    28   15   20 ar\\n    29   15   35 1\\n    30   16   17 ar\\n    31   16   51 1\\n    32   17   18 ar\\n    33   17   52 1\\n    34   18   19 ar\\n    35   18   53 1\\n    36   19   20 ar\\n    37   19   54 1\\n    38   20   55 1\\n    39   21   24 1\\n    40   21   56 1\\n    41   22   24 2\\n    42   23   26 1\\n    43   23   57 1\\n    44   24   25 1\\n    45   25   26 1\\n    46   25   58 1\\n    47   25   59 1\\n    48   26   27 1\\n    49   26   60 1\\n    50   27   28 1\\n    51   27   61 1\\n    52   27   62 1\\n    53   28   29 1\\n    54   28   41 1\\n    55   28   63 1\\n    56   29   30 1\\n    57   29   64 1\\n    58   29   65 1\\n    59   30   31 1\\n    60   30   66 1\\n    61   30   67 1\\n    62   31   37 1\\n    63   32   33 1\\n    64   33   34 1\\n    65   33   37 2\\n    66   34   35 am\\n    67   34   36 2\\n    68   35   68 1\\n    69   37   38 1\\n    70   38   39 1\\n    71   38   40 1\\n    72   38   69 1\\n    73   39   70 1\\n    74   39   71 1\\n    75   39   72 1\\n    76   40   73 1\\n    77   40   74 1\\n    78   40   75 1\\n    79   41   76 1\\n\",\"mol2\");\n",
       "\tviewergrid_16463651467754567[1][0].setStyle({\"stick\": {\"colorscheme\": \"greenCarbon\"}});\n",
       "\tviewergrid_16463651467754567[0][0].zoomTo();\n",
       "\tviewergrid_16463651467754567[0][1].zoomTo();\n",
       "\tviewergrid_16463651467754567[1][0].zoomTo();\n",
       "\tviewergrid_16463651467754567[1][1].zoomTo();\n",
       "viewergrid_16463651467754567[1][1].render();\n",
       "viewergrid_16463651467754567[1][0].render();\n",
       "viewergrid_16463651467754567[0][1].render();\n",
       "viewergrid_16463651467754567[0][0].render();\n",
       "});\n",
       "</script>"
      ]
     },
     "metadata": {},
     "output_type": "display_data"
    },
    {
     "data": {
      "text/plain": [
       "<py3Dmol.view at 0x7f1e39602c50>"
      ]
     },
     "execution_count": 146,
     "metadata": {},
     "output_type": "execute_result"
    }
   ],
   "source": [
    "View3DMolFromDir(\"./molecule-data/\")"
   ]
  }
 ],
 "metadata": {
  "interpreter": {
   "hash": "18f113ef20d2e5656a0bc837e6c476bd436e29840b6ed1847ecdb90743164c58"
  },
  "kernelspec": {
   "display_name": "conda_braket",
   "language": "python",
   "name": "python3"
  },
  "language_info": {
   "codemirror_mode": {
    "name": "ipython",
    "version": 3
   },
   "file_extension": ".py",
   "mimetype": "text/x-python",
   "name": "python",
   "nbconvert_exporter": "python",
   "pygments_lexer": "ipython3",
   "version": "3.7.12"
  }
 },
 "nbformat": 4,
 "nbformat_minor": 5
}
