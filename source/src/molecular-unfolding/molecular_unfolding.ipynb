{
 "cells": [
  {
   "cell_type": "code",
   "execution_count": 43,
   "id": "1ed204de",
   "metadata": {},
   "outputs": [
    {
     "name": "stdout",
     "output_type": "stream",
     "text": [
      "Requirement already satisfied: biopandas in /home/ec2-user/anaconda3/envs/Braket/lib/python3.7/site-packages (0.2.9)\n",
      "Requirement already satisfied: pandas>=0.24.2 in /home/ec2-user/anaconda3/envs/Braket/lib/python3.7/site-packages (from biopandas) (1.1.4)\n",
      "Requirement already satisfied: setuptools in /home/ec2-user/anaconda3/envs/Braket/lib/python3.7/site-packages (from biopandas) (58.0.4)\n",
      "Requirement already satisfied: numpy>=1.16.2 in /home/ec2-user/anaconda3/envs/Braket/lib/python3.7/site-packages (from biopandas) (1.19.2)\n",
      "Requirement already satisfied: python-dateutil>=2.7.3 in /home/ec2-user/anaconda3/envs/Braket/lib/python3.7/site-packages (from pandas>=0.24.2->biopandas) (2.8.2)\n",
      "Requirement already satisfied: pytz>=2017.2 in /home/ec2-user/anaconda3/envs/Braket/lib/python3.7/site-packages (from pandas>=0.24.2->biopandas) (2021.3)\n",
      "Requirement already satisfied: six>=1.5 in /home/ec2-user/anaconda3/envs/Braket/lib/python3.7/site-packages (from python-dateutil>=2.7.3->pandas>=0.24.2->biopandas) (1.15.0)\n",
      "Requirement already satisfied: py3Dmol in /home/ec2-user/anaconda3/envs/Braket/lib/python3.7/site-packages (1.8.0)\n",
      "Collecting ipywidgets\n",
      "  Downloading ipywidgets-7.6.5-py2.py3-none-any.whl (121 kB)\n",
      "\u001b[K     |████████████████████████████████| 121 kB 26.9 MB/s eta 0:00:01\n",
      "\u001b[?25hCollecting widgetsnbextension~=3.5.0\n",
      "  Downloading widgetsnbextension-3.5.2-py2.py3-none-any.whl (1.6 MB)\n",
      "\u001b[K     |████████████████████████████████| 1.6 MB 24.9 MB/s eta 0:00:01\n",
      "\u001b[?25hRequirement already satisfied: nbformat>=4.2.0 in /home/ec2-user/anaconda3/envs/Braket/lib/python3.7/site-packages (from ipywidgets) (5.1.3)\n",
      "Collecting jupyterlab-widgets>=1.0.0\n",
      "  Downloading jupyterlab_widgets-1.0.2-py3-none-any.whl (243 kB)\n",
      "\u001b[K     |████████████████████████████████| 243 kB 68.0 MB/s eta 0:00:01\n",
      "\u001b[?25hRequirement already satisfied: ipykernel>=4.5.1 in /home/ec2-user/anaconda3/envs/Braket/lib/python3.7/site-packages (from ipywidgets) (5.3.4)\n",
      "Requirement already satisfied: traitlets>=4.3.1 in /home/ec2-user/anaconda3/envs/Braket/lib/python3.7/site-packages (from ipywidgets) (5.1.1)\n",
      "Requirement already satisfied: ipython-genutils~=0.2.0 in /home/ec2-user/anaconda3/envs/Braket/lib/python3.7/site-packages (from ipywidgets) (0.2.0)\n",
      "Requirement already satisfied: ipython>=4.0.0 in /home/ec2-user/anaconda3/envs/Braket/lib/python3.7/site-packages (from ipywidgets) (7.31.1)\n",
      "Requirement already satisfied: tornado>=4.2 in /home/ec2-user/anaconda3/envs/Braket/lib/python3.7/site-packages (from ipykernel>=4.5.1->ipywidgets) (6.1)\n",
      "Requirement already satisfied: jupyter-client in /home/ec2-user/anaconda3/envs/Braket/lib/python3.7/site-packages (from ipykernel>=4.5.1->ipywidgets) (7.1.2)\n",
      "Requirement already satisfied: setuptools>=18.5 in /home/ec2-user/anaconda3/envs/Braket/lib/python3.7/site-packages (from ipython>=4.0.0->ipywidgets) (58.0.4)\n",
      "Requirement already satisfied: prompt-toolkit!=3.0.0,!=3.0.1,<3.1.0,>=2.0.0 in /home/ec2-user/anaconda3/envs/Braket/lib/python3.7/site-packages (from ipython>=4.0.0->ipywidgets) (3.0.20)\n",
      "Requirement already satisfied: matplotlib-inline in /home/ec2-user/anaconda3/envs/Braket/lib/python3.7/site-packages (from ipython>=4.0.0->ipywidgets) (0.1.2)\n",
      "Requirement already satisfied: decorator in /home/ec2-user/anaconda3/envs/Braket/lib/python3.7/site-packages (from ipython>=4.0.0->ipywidgets) (4.4.0)\n",
      "Requirement already satisfied: pexpect>4.3 in /home/ec2-user/anaconda3/envs/Braket/lib/python3.7/site-packages (from ipython>=4.0.0->ipywidgets) (4.8.0)\n",
      "Requirement already satisfied: pygments in /home/ec2-user/anaconda3/envs/Braket/lib/python3.7/site-packages (from ipython>=4.0.0->ipywidgets) (2.11.2)\n",
      "Requirement already satisfied: jedi>=0.16 in /home/ec2-user/anaconda3/envs/Braket/lib/python3.7/site-packages (from ipython>=4.0.0->ipywidgets) (0.18.1)\n",
      "Requirement already satisfied: pickleshare in /home/ec2-user/anaconda3/envs/Braket/lib/python3.7/site-packages (from ipython>=4.0.0->ipywidgets) (0.7.5)\n",
      "Requirement already satisfied: backcall in /home/ec2-user/anaconda3/envs/Braket/lib/python3.7/site-packages (from ipython>=4.0.0->ipywidgets) (0.2.0)\n",
      "Requirement already satisfied: parso<0.9.0,>=0.8.0 in /home/ec2-user/anaconda3/envs/Braket/lib/python3.7/site-packages (from jedi>=0.16->ipython>=4.0.0->ipywidgets) (0.8.3)\n",
      "Requirement already satisfied: jupyter-core in /home/ec2-user/anaconda3/envs/Braket/lib/python3.7/site-packages (from nbformat>=4.2.0->ipywidgets) (4.9.1)\n",
      "Requirement already satisfied: jsonschema!=2.5.0,>=2.4 in /home/ec2-user/anaconda3/envs/Braket/lib/python3.7/site-packages (from nbformat>=4.2.0->ipywidgets) (3.2.0)\n",
      "Requirement already satisfied: pyrsistent>=0.14.0 in /home/ec2-user/anaconda3/envs/Braket/lib/python3.7/site-packages (from jsonschema!=2.5.0,>=2.4->nbformat>=4.2.0->ipywidgets) (0.18.0)\n",
      "Requirement already satisfied: six>=1.11.0 in /home/ec2-user/anaconda3/envs/Braket/lib/python3.7/site-packages (from jsonschema!=2.5.0,>=2.4->nbformat>=4.2.0->ipywidgets) (1.15.0)\n",
      "Requirement already satisfied: importlib-metadata in /home/ec2-user/anaconda3/envs/Braket/lib/python3.7/site-packages (from jsonschema!=2.5.0,>=2.4->nbformat>=4.2.0->ipywidgets) (4.8.2)\n",
      "Requirement already satisfied: attrs>=17.4.0 in /home/ec2-user/anaconda3/envs/Braket/lib/python3.7/site-packages (from jsonschema!=2.5.0,>=2.4->nbformat>=4.2.0->ipywidgets) (21.4.0)\n",
      "Requirement already satisfied: ptyprocess>=0.5 in /home/ec2-user/anaconda3/envs/Braket/lib/python3.7/site-packages (from pexpect>4.3->ipython>=4.0.0->ipywidgets) (0.7.0)\n",
      "Requirement already satisfied: wcwidth in /home/ec2-user/anaconda3/envs/Braket/lib/python3.7/site-packages (from prompt-toolkit!=3.0.0,!=3.0.1,<3.1.0,>=2.0.0->ipython>=4.0.0->ipywidgets) (0.2.5)\n",
      "Collecting notebook>=4.4.1\n",
      "  Downloading notebook-6.4.8-py3-none-any.whl (9.9 MB)\n",
      "\u001b[K     |████████████████████████████████| 9.9 MB 65.8 MB/s eta 0:00:01\n",
      "\u001b[?25hRequirement already satisfied: pyzmq>=17 in /home/ec2-user/anaconda3/envs/Braket/lib/python3.7/site-packages (from notebook>=4.4.1->widgetsnbextension~=3.5.0->ipywidgets) (22.3.0)\n",
      "Requirement already satisfied: nbconvert in /home/ec2-user/anaconda3/envs/Braket/lib/python3.7/site-packages (from notebook>=4.4.1->widgetsnbextension~=3.5.0->ipywidgets) (6.0.7)\n",
      "Requirement already satisfied: jinja2 in /home/ec2-user/anaconda3/envs/Braket/lib/python3.7/site-packages (from notebook>=4.4.1->widgetsnbextension~=3.5.0->ipywidgets) (2.11.3)\n",
      "Requirement already satisfied: nest-asyncio>=1.5 in /home/ec2-user/anaconda3/envs/Braket/lib/python3.7/site-packages (from notebook>=4.4.1->widgetsnbextension~=3.5.0->ipywidgets) (1.5.1)\n",
      "Collecting prometheus-client\n",
      "  Downloading prometheus_client-0.13.1-py3-none-any.whl (57 kB)\n",
      "\u001b[K     |████████████████████████████████| 57 kB 9.3 MB/s  eta 0:00:01\n",
      "\u001b[?25hCollecting terminado>=0.8.3\n",
      "  Downloading terminado-0.13.3-py3-none-any.whl (14 kB)\n",
      "Collecting Send2Trash>=1.8.0\n",
      "  Downloading Send2Trash-1.8.0-py3-none-any.whl (18 kB)\n",
      "Collecting argon2-cffi\n",
      "  Downloading argon2_cffi-21.3.0-py3-none-any.whl (14 kB)\n",
      "Requirement already satisfied: python-dateutil>=2.1 in /home/ec2-user/anaconda3/envs/Braket/lib/python3.7/site-packages (from jupyter-client->ipykernel>=4.5.1->ipywidgets) (2.8.2)\n",
      "Requirement already satisfied: entrypoints in /home/ec2-user/anaconda3/envs/Braket/lib/python3.7/site-packages (from jupyter-client->ipykernel>=4.5.1->ipywidgets) (0.3)\n",
      "Collecting argon2-cffi-bindings\n",
      "  Downloading argon2_cffi_bindings-21.2.0-cp36-abi3-manylinux_2_17_x86_64.manylinux2014_x86_64.whl (86 kB)\n",
      "\u001b[K     |████████████████████████████████| 86 kB 5.7 MB/s  eta 0:00:01\n",
      "\u001b[?25hRequirement already satisfied: typing-extensions in /home/ec2-user/anaconda3/envs/Braket/lib/python3.7/site-packages (from argon2-cffi->notebook>=4.4.1->widgetsnbextension~=3.5.0->ipywidgets) (3.7.4.3)\n",
      "Requirement already satisfied: cffi>=1.0.1 in /home/ec2-user/anaconda3/envs/Braket/lib/python3.7/site-packages (from argon2-cffi-bindings->argon2-cffi->notebook>=4.4.1->widgetsnbextension~=3.5.0->ipywidgets) (1.15.0)\n",
      "Requirement already satisfied: pycparser in /home/ec2-user/anaconda3/envs/Braket/lib/python3.7/site-packages (from cffi>=1.0.1->argon2-cffi-bindings->argon2-cffi->notebook>=4.4.1->widgetsnbextension~=3.5.0->ipywidgets) (2.21)\n"
     ]
    },
    {
     "name": "stdout",
     "output_type": "stream",
     "text": [
      "Requirement already satisfied: zipp>=0.5 in /home/ec2-user/anaconda3/envs/Braket/lib/python3.7/site-packages (from importlib-metadata->jsonschema!=2.5.0,>=2.4->nbformat>=4.2.0->ipywidgets) (3.7.0)\n",
      "Requirement already satisfied: MarkupSafe>=0.23 in /home/ec2-user/anaconda3/envs/Braket/lib/python3.7/site-packages (from jinja2->notebook>=4.4.1->widgetsnbextension~=3.5.0->ipywidgets) (1.1.1)\n",
      "Requirement already satisfied: nbclient<0.6.0,>=0.5.0 in /home/ec2-user/anaconda3/envs/Braket/lib/python3.7/site-packages (from nbconvert->notebook>=4.4.1->widgetsnbextension~=3.5.0->ipywidgets) (0.5.3)\n",
      "Requirement already satisfied: defusedxml in /home/ec2-user/anaconda3/envs/Braket/lib/python3.7/site-packages (from nbconvert->notebook>=4.4.1->widgetsnbextension~=3.5.0->ipywidgets) (0.7.1)\n",
      "Requirement already satisfied: bleach in /home/ec2-user/anaconda3/envs/Braket/lib/python3.7/site-packages (from nbconvert->notebook>=4.4.1->widgetsnbextension~=3.5.0->ipywidgets) (4.1.0)\n",
      "Requirement already satisfied: pandocfilters>=1.4.1 in /home/ec2-user/anaconda3/envs/Braket/lib/python3.7/site-packages (from nbconvert->notebook>=4.4.1->widgetsnbextension~=3.5.0->ipywidgets) (1.5.0)\n",
      "Requirement already satisfied: jupyterlab-pygments in /home/ec2-user/anaconda3/envs/Braket/lib/python3.7/site-packages (from nbconvert->notebook>=4.4.1->widgetsnbextension~=3.5.0->ipywidgets) (0.1.2)\n",
      "Requirement already satisfied: mistune<2,>=0.8.1 in /home/ec2-user/anaconda3/envs/Braket/lib/python3.7/site-packages (from nbconvert->notebook>=4.4.1->widgetsnbextension~=3.5.0->ipywidgets) (0.8.4)\n",
      "Requirement already satisfied: testpath in /home/ec2-user/anaconda3/envs/Braket/lib/python3.7/site-packages (from nbconvert->notebook>=4.4.1->widgetsnbextension~=3.5.0->ipywidgets) (0.5.0)\n",
      "Requirement already satisfied: async-generator in /home/ec2-user/anaconda3/envs/Braket/lib/python3.7/site-packages (from nbclient<0.6.0,>=0.5.0->nbconvert->notebook>=4.4.1->widgetsnbextension~=3.5.0->ipywidgets) (1.10)\n",
      "Requirement already satisfied: webencodings in /home/ec2-user/anaconda3/envs/Braket/lib/python3.7/site-packages (from bleach->nbconvert->notebook>=4.4.1->widgetsnbextension~=3.5.0->ipywidgets) (0.5.1)\n",
      "Requirement already satisfied: packaging in /home/ec2-user/anaconda3/envs/Braket/lib/python3.7/site-packages (from bleach->nbconvert->notebook>=4.4.1->widgetsnbextension~=3.5.0->ipywidgets) (21.3)\n",
      "Requirement already satisfied: pyparsing!=3.0.5,>=2.0.2 in /home/ec2-user/anaconda3/envs/Braket/lib/python3.7/site-packages (from packaging->bleach->nbconvert->notebook>=4.4.1->widgetsnbextension~=3.5.0->ipywidgets) (3.0.4)\n",
      "Installing collected packages: argon2-cffi-bindings, terminado, Send2Trash, prometheus-client, argon2-cffi, notebook, widgetsnbextension, jupyterlab-widgets, ipywidgets\n",
      "Successfully installed Send2Trash-1.8.0 argon2-cffi-21.3.0 argon2-cffi-bindings-21.2.0 ipywidgets-7.6.5 jupyterlab-widgets-1.0.2 notebook-6.4.8 prometheus-client-0.13.1 terminado-0.13.3 widgetsnbextension-3.5.2\n"
     ]
    }
   ],
   "source": [
    "!pip install biopandas\n",
    "!pip install py3Dmol\n",
    "!pip install ipywidgets"
   ]
  },
  {
   "cell_type": "code",
   "execution_count": 1,
   "id": "7d173069",
   "metadata": {},
   "outputs": [],
   "source": [
    "!rm qmu*"
   ]
  },
  {
   "cell_type": "code",
   "execution_count": null,
   "id": "80d0fae5",
   "metadata": {},
   "outputs": [],
   "source": [
    "import networkx as nx\n",
    "from utility.MoleculeParser import MoleculeData\n",
    "from utility.QMUQUBO import QMUQUBO\n",
    "from utility.AnnealerOptimizer import Annealer\n",
    "from utility.ResultProcess import ResultParser\n",
    "import time\n",
    "\n",
    "timestamp = time.strftime(\"%Y%m%d-%H\")\n",
    "%matplotlib inline"
   ]
  },
  {
   "cell_type": "code",
   "execution_count": null,
   "id": "dda726ed",
   "metadata": {},
   "outputs": [],
   "source": [
    "# initial parameters for experiment data\n",
    "s3_bucket = f\"amazon-braket-1a222675c751\" # the name of the bucket\n",
    "prefix = \"annealer-experiment\" # the name of the folder in the bucket\n",
    "\n",
    "raw_path = './molecule-data/Aspirin.mol2' # the mol2 file for this experiment\n",
    "\n",
    "mol_data = MoleculeData(raw_path, 'qmu')\n",
    "\n",
    "data_path = mol_data.save(\"latest\")\n",
    "\n",
    "num_rotation_bond = mol_data.bond_graph.rb_num\n",
    "print(f\"You have loaded the raw molecule data and saved as {data_path}. \\n\\\n",
    "This molecule has {num_rotation_bond} rotable bond\")"
   ]
  },
  {
   "cell_type": "code",
   "execution_count": 3,
   "id": "37eb73d3",
   "metadata": {},
   "outputs": [
    {
     "name": "stderr",
     "output_type": "stream",
     "text": [
      "INFO:root:initial pre-calculate for constructing molecule QUBO\n"
     ]
    }
   ],
   "source": [
    "# initial the QMUQUBO object\n",
    "init_param = {}\n",
    "method = ['pre-calc']\n",
    "\n",
    "for mt in method:\n",
    "    if mt == 'pre-calc':\n",
    "        init_param[mt] = {}\n",
    "        init_param[mt]['param'] = ['M', 'D', 'A', 'hubo_qubo_val']\n",
    "    \n",
    "qmu_qubo = QMUQUBO(mol_data, method, **init_param)"
   ]
  },
  {
   "cell_type": "code",
   "execution_count": 4,
   "id": "beafa1ff",
   "metadata": {},
   "outputs": [
    {
     "name": "stderr",
     "output_type": "stream",
     "text": [
      "INFO:root:Construct model for M:2,D:2,A:300,hubo_qubo_val:200 0.00010190407435099284 min\n",
      "INFO:root:Construct model for M:2,D:4,A:300,hubo_qubo_val:200 0.0003571073214213053 min\n",
      "INFO:root:Construct model for M:2,D:8,A:300,hubo_qubo_val:200 0.0009239514668782552 min\n",
      "INFO:root:Construct model for M:3,D:2,A:300,hubo_qubo_val:200 0.00020002126693725587 min\n",
      "INFO:root:Construct model for M:3,D:4,A:300,hubo_qubo_val:200 0.0015513022740681966 min\n",
      "INFO:root:Construct model for M:3,D:8,A:300,hubo_qubo_val:200 0.009593506654103598 min\n"
     ]
    },
    {
     "data": {
      "text/plain": [
       "0"
      ]
     },
     "execution_count": 4,
     "metadata": {},
     "output_type": "execute_result"
    }
   ],
   "source": [
    "# set the parameters for model\n",
    "model_param = {}\n",
    "# parameters\n",
    "num_rotation_bond = mol_data.bond_graph.rb_num\n",
    "\n",
    "method = 'pre-calc'\n",
    "model_param[method] = {}\n",
    "# model_param[method]['M'] = range(1, num_rotation_bond+1)\n",
    "model_param[method]['M'] = [2,3]\n",
    "model_param[method]['D'] = [2,4,8]\n",
    "model_param[method]['A'] = [300]\n",
    "model_param[method]['hubo_qubo_val'] = [200]\n",
    "\n",
    "qmu_qubo.build_model(**model_param)"
   ]
  },
  {
   "cell_type": "code",
   "execution_count": 6,
   "id": "3b178eab",
   "metadata": {},
   "outputs": [
    {
     "data": {
      "text/plain": [
       "{'M': set(), 'D': set(), 'A': set(), 'hubo_qubo_val': set()}"
      ]
     },
     "execution_count": 6,
     "metadata": {},
     "output_type": "execute_result"
    }
   ],
   "source": [
    "qmu_qubo.model_info[method]"
   ]
  },
  {
   "cell_type": "code",
   "execution_count": 7,
   "id": "b1d63d88",
   "metadata": {},
   "outputs": [
    {
     "name": "stderr",
     "output_type": "stream",
     "text": [
      "INFO:root:finish save qmu_Aspirin_model_latest.pickle\n"
     ]
    },
    {
     "name": "stdout",
     "output_type": "stream",
     "text": [
      "You have built the QUBO model and saved it as ./qmu_Aspirin_model_latest.pickle\n"
     ]
    }
   ],
   "source": [
    "# save the model\n",
    "model_path = qmu_qubo.save(\"latest\")\n",
    "\n",
    "print(f\"You have built the QUBO model and saved it as {model_path}\")"
   ]
  },
  {
   "cell_type": "code",
   "execution_count": 8,
   "id": "0954bc66",
   "metadata": {},
   "outputs": [],
   "source": [
    "qmu_qubo_optimize = QMUQUBO.load(model_path)"
   ]
  },
  {
   "cell_type": "code",
   "execution_count": 9,
   "id": "21fabf59",
   "metadata": {},
   "outputs": [],
   "source": [
    "# get the model you want to optimize\n",
    "M = 3\n",
    "D = 2\n",
    "A = 300\n",
    "hubo_qubo_val = 200\n",
    "model_name = \"{}_{}_{}_{}\".format(M, D, A, hubo_qubo_val)\n",
    "method = \"pre-calc\"\n",
    "\n",
    "qubo_model = qmu_qubo_optimize.get_model(method, model_name)"
   ]
  },
  {
   "cell_type": "code",
   "execution_count": 19,
   "id": "b817e500",
   "metadata": {},
   "outputs": [
    {
     "data": {
      "text/plain": [
       "{'qubo': defaultdict(float,\n",
       "             {('x_3_1', 'x_3_2'): 600,\n",
       "              ('x_3_1', 'x_2_1'): 200.0,\n",
       "              ('x_3_1', 'x_3_1*x_2_1'): -400.0,\n",
       "              ('x_3_1', 'x_2_2'): 200.0,\n",
       "              ('x_3_1', 'x_2_2*x_3_1'): -400.0,\n",
       "              ('x_3_2', 'x_2_1'): -4.2291767363180615,\n",
       "              ('x_3_2', 'x_2_2'): -4.07974161165229,\n",
       "              ('x_3_2', 'x_1_1'): 200.0,\n",
       "              ('x_3_2', 'x_3_2*x_1_1'): -400.0,\n",
       "              ('x_3_2', 'x_1_2'): 200.0,\n",
       "              ('x_3_2', 'x_1_2*x_3_2'): -400.0,\n",
       "              ('x_2_1', 'x_2_2'): 600,\n",
       "              ('x_2_1', 'x_1_1'): -4.04507719278082,\n",
       "              ('x_2_1', 'x_1_2'): -4.045032546085246,\n",
       "              ('x_2_1', 'x_3_1*x_2_1'): -400.0,\n",
       "              ('x_2_1', 'x_3_2*x_1_1'): -5.422469200549025,\n",
       "              ('x_2_1', 'x_1_2*x_3_2'): -5.422444941277003,\n",
       "              ('x_2_2', 'x_1_1'): -2.9257843009277966,\n",
       "              ('x_2_2', 'x_1_2'): -2.925763747392389,\n",
       "              ('x_2_2', 'x_2_2*x_3_1'): -400.0,\n",
       "              ('x_2_2', 'x_3_2*x_1_1'): -3.723325784095972,\n",
       "              ('x_2_2', 'x_1_2*x_3_2'): -3.7232464922542174,\n",
       "              ('x_1_1', 'x_1_2'): 600,\n",
       "              ('x_1_1', 'x_3_1*x_2_1'): -5.435776722397996,\n",
       "              ('x_1_1', 'x_2_2*x_3_1'): -3.63573850932578,\n",
       "              ('x_1_1', 'x_3_2*x_1_1'): -400.0,\n",
       "              ('x_1_2', 'x_3_1*x_2_1'): -5.435767766755422,\n",
       "              ('x_1_2', 'x_2_2*x_3_1'): -3.635666085474497,\n",
       "              ('x_1_2', 'x_1_2*x_3_2'): -400.0,\n",
       "              ('x_3_1', 'x_3_1'): -3.615471172258266,\n",
       "              ('x_3_2', 'x_3_2'): -3.6357954749060384,\n",
       "              ('x_2_1', 'x_2_1'): -2.9577370420644225,\n",
       "              ('x_2_2', 'x_2_2'): -2.8504306393946863,\n",
       "              ('x_1_1', 'x_1_1'): -2.508876295054997,\n",
       "              ('x_1_2', 'x_1_2'): -2.5088481122928816,\n",
       "              ('x_3_1*x_2_1', 'x_3_1*x_2_1'): 595.7934017531069,\n",
       "              ('x_2_2*x_3_1', 'x_2_2*x_3_1'): 595.9514215755712,\n",
       "              ('x_3_2*x_1_1', 'x_3_2*x_1_1'): 600.0,\n",
       "              ('x_1_2*x_3_2', 'x_1_2*x_3_2'): 600.0}),\n",
       " 'var': {'1': {'1': 'x_1_1', '2': 'x_1_2'},\n",
       "  '2': {'1': 'x_2_1', '2': 'x_2_2'},\n",
       "  '3': {'1': 'x_3_1', '2': 'x_3_2'},\n",
       "  '4': {'1': 'x_4_1', '2': 'x_4_2'}},\n",
       " 'var_rb_map': {'1': '1+2', '2': '2+4', '3': '4+5', '4': '10+11'},\n",
       " 'rb_var_map': {'1+2': '1', '2+4': '2', '4+5': '3', '10+11': '4'},\n",
       " 'time': 0.012001276016235352,\n",
       " 'model_name': '3_2_300_200',\n",
       " 'rb_name': ['4+5', '2+4', '1+2']}"
      ]
     },
     "execution_count": 19,
     "metadata": {},
     "output_type": "execute_result"
    }
   ],
   "source": [
    "qubo_model"
   ]
  },
  {
   "cell_type": "code",
   "execution_count": 19,
   "id": "221a6c68",
   "metadata": {},
   "outputs": [
    {
     "data": {
      "text/plain": [
       "{'qubo': defaultdict(float,\n",
       "             {('x_3_1', 'x_3_2'): 600,\n",
       "              ('x_3_1', 'x_2_1'): -4.206598246893075,\n",
       "              ('x_3_1', 'x_2_2'): -4.048578424428753,\n",
       "              ('x_3_1', 'x_2_1*x_1_1'): -5.435776722397996,\n",
       "              ('x_3_1', 'x_2_1*x_1_2'): -5.435767766755422,\n",
       "              ('x_3_1', 'x_2_2*x_1_1'): -3.63573850932578,\n",
       "              ('x_3_1', 'x_2_2*x_1_2'): -3.6356660854744955,\n",
       "              ('x_3_2', 'x_2_1'): -4.2291767363180615,\n",
       "              ('x_3_2', 'x_2_2'): -4.07974161165229,\n",
       "              ('x_3_2', 'x_2_1*x_1_1'): -5.422469200549025,\n",
       "              ('x_3_2', 'x_2_1*x_1_2'): -5.422444941277003,\n",
       "              ('x_3_2', 'x_2_2*x_1_1'): -3.723325784095972,\n",
       "              ('x_3_2', 'x_2_2*x_1_2'): -3.7232464922542183,\n",
       "              ('x_2_1', 'x_2_2'): 600,\n",
       "              ('x_2_1', 'x_1_1'): 200.0,\n",
       "              ('x_2_1', 'x_2_1*x_1_1'): -400.0,\n",
       "              ('x_2_1', 'x_1_2'): 200.0,\n",
       "              ('x_2_1', 'x_2_1*x_1_2'): -400.0,\n",
       "              ('x_2_2', 'x_1_1'): 200.0,\n",
       "              ('x_2_2', 'x_2_2*x_1_1'): -400.0,\n",
       "              ('x_2_2', 'x_1_2'): 200.0,\n",
       "              ('x_2_2', 'x_2_2*x_1_2'): -400.0,\n",
       "              ('x_1_1', 'x_1_2'): 600,\n",
       "              ('x_1_1', 'x_2_1*x_1_1'): -400.0,\n",
       "              ('x_1_1', 'x_2_2*x_1_1'): -400.0,\n",
       "              ('x_1_2', 'x_2_1*x_1_2'): -400.0,\n",
       "              ('x_1_2', 'x_2_2*x_1_2'): -400.0,\n",
       "              ('x_3_1', 'x_3_1'): -3.615471172258266,\n",
       "              ('x_3_2', 'x_3_2'): -3.6357954749060384,\n",
       "              ('x_2_1', 'x_2_1'): -2.9577370420644225,\n",
       "              ('x_2_2', 'x_2_2'): -2.8504306393946863,\n",
       "              ('x_1_1', 'x_1_1'): -2.508876295054997,\n",
       "              ('x_1_2', 'x_1_2'): -2.5088481122928816,\n",
       "              ('x_2_1*x_1_1', 'x_2_1*x_1_1'): 595.9549228072192,\n",
       "              ('x_2_1*x_1_2', 'x_2_1*x_1_2'): 595.9549674539147,\n",
       "              ('x_2_2*x_1_1', 'x_2_2*x_1_1'): 597.0742156990722,\n",
       "              ('x_2_2*x_1_2', 'x_2_2*x_1_2'): 597.0742362526076}),\n",
       " 'var': {'1': {'1': 'x_1_1', '2': 'x_1_2'},\n",
       "  '2': {'1': 'x_2_1', '2': 'x_2_2'},\n",
       "  '3': {'1': 'x_3_1', '2': 'x_3_2'},\n",
       "  '4': {'1': 'x_4_1', '2': 'x_4_2'}},\n",
       " 'var_rb_map': {'1': '1+2', '2': '2+4', '3': '4+5', '4': '10+11'},\n",
       " 'rb_var_map': {'1+2': '1', '2+4': '2', '4+5': '3', '10+11': '4'},\n",
       " 'time': 0.13107585906982422,\n",
       " 'model_name': '3_2_300_200',\n",
       " 'rb_name': ['4+5', '2+4', '1+2']}"
      ]
     },
     "execution_count": 19,
     "metadata": {},
     "output_type": "execute_result"
    }
   ],
   "source": [
    "qubo_model"
   ]
  },
  {
   "cell_type": "code",
   "execution_count": 20,
   "id": "339ad63f",
   "metadata": {},
   "outputs": [
    {
     "data": {
      "text/plain": [
       "-22.79913194167341"
      ]
     },
     "execution_count": 20,
     "metadata": {},
     "output_type": "execute_result"
    }
   ],
   "source": [
    "-2.508876295054997-2.9577370420644225-3.6357954749060384+595.9549228072192-4.2291767363180615-5.422469200549025+200.0-400.0-400.0"
   ]
  },
  {
   "cell_type": "code",
   "execution_count": 10,
   "id": "63a269d3",
   "metadata": {},
   "outputs": [
    {
     "name": "stderr",
     "output_type": "stream",
     "text": [
      "INFO:root:use quantum annealer arn:aws:braket:::device/qpu/d-wave/Advantage_system4 \n"
     ]
    }
   ],
   "source": [
    "method = 'dwave-qa'\n",
    "\n",
    "optimizer_param = {}\n",
    "optimizer_param['shots'] = 1000\n",
    "optimizer_param['bucket'] = s3_bucket # the name of the bucket\n",
    "optimizer_param['prefix'] = prefix # the name of the folder in the bucket\n",
    "optimizer_param['device'] = \"arn:aws:braket:::device/qpu/d-wave/Advantage_system4\"\n",
    "optimizer_param[\"embed_method\"] = \"default\"\n",
    "\n",
    "qa_optimizer = Annealer(qubo_model, method, **optimizer_param)"
   ]
  },
  {
   "cell_type": "code",
   "execution_count": 11,
   "id": "4d4b9839",
   "metadata": {},
   "outputs": [
    {
     "name": "stderr",
     "output_type": "stream",
     "text": [
      "INFO:root:fit() ...\n",
      "INFO:root:finish save /tmp/qa_result.pickle\n",
      "INFO:root:_upload_result_json, bucket=amazon-braket-1a222675c751, key=annealer-experiment/d94bce7f-5670-497e-b42d-429469fcd609/qa_result.pickle\n",
      "INFO:root:dwave-qa save to s3 - d94bce7f-5670-497e-b42d-429469fcd609: None\n"
     ]
    }
   ],
   "source": [
    "# not create annealing task, only embedding logic\n",
    "qa_optimizer.embed()\n",
    "# create annealing task\n",
    "qa_optimize_result = qa_optimizer.fit()"
   ]
  },
  {
   "cell_type": "code",
   "execution_count": 12,
   "id": "206fded9",
   "metadata": {},
   "outputs": [
    {
     "name": "stdout",
     "output_type": "stream",
     "text": [
      "task id is d94bce7f-5670-497e-b42d-429469fcd609\n"
     ]
    }
   ],
   "source": [
    "qa_task_id = qa_optimizer.get_task_id()\n",
    "print(f\"task id is {qa_task_id}\")"
   ]
  },
  {
   "cell_type": "markdown",
   "id": "b4c7029e",
   "metadata": {},
   "source": [
    "# develop post-process"
   ]
  },
  {
   "cell_type": "code",
   "execution_count": 134,
   "id": "54b9fec7",
   "metadata": {},
   "outputs": [],
   "source": [
    "# import networkx as nx\n",
    "# from utility.MoleculeParser import MoleculeData\n",
    "# from utility.QMUQUBO import QMUQUBO\n",
    "# from utility.AnnealerOptimizer import Annealer\n",
    "# from utility.ResultProcess import ResultParser\n",
    "# from utility.MolGeoCalc import update_pts_distance\n",
    "# import time\n",
    "# import numpy as np\n",
    "\n",
    "# timestamp = time.strftime(\"%Y%m%d-%H\")\n",
    "# %matplotlib inline\n",
    "\n",
    "# %load_ext autoreload\n",
    "# %autoreload 2"
   ]
  },
  {
   "cell_type": "code",
   "execution_count": 79,
   "id": "49f9bae4",
   "metadata": {},
   "outputs": [],
   "source": [
    "# s3_bucket = f\"amazon-braket-1a222675c751\" # the name of the bucket\n",
    "# prefix = \"annealer-experiment\" # the name of the folder in the bucket\n",
    "# raw_path = './molecule-data/Aspirin.mol2' # the mol2 file for this experiment\n",
    "# data_path = './qmu_Aspirin_data_latest.pickle'\n",
    "# qa_task_id = '58700c90-abed-48b7-bd1b-b849df22ef18'"
   ]
  },
  {
   "cell_type": "code",
   "execution_count": 13,
   "id": "d639c917",
   "metadata": {},
   "outputs": [
    {
     "name": "stderr",
     "output_type": "stream",
     "text": [
      "INFO:root:_load_raw_result\n",
      "INFO:root:load quantum annealer raw result\n",
      "INFO:root:_read_result_obj\n",
      "INFO:root:_read_result_obj: annealer-experiment/d94bce7f-5670-497e-b42d-429469fcd609/qa_result.pickle\n",
      "INFO:root:MoleculeData.load()\n",
      "INFO:root:init mol data for final position\n",
      "INFO:root:init mol data for raw position\n",
      "INFO:root:_parse_model_info\n",
      "INFO:root:_init_parameters\n",
      "INFO:root:parse quantum annealer result\n",
      "INFO:root:_read_result_obj\n",
      "INFO:root:_read_result_obj: annealer-experiment/d94bce7f-5670-497e-b42d-429469fcd609/results.json\n"
     ]
    },
    {
     "name": "stdout",
     "output_type": "stream",
     "text": [
      "time for dwave-qa: \n",
      "     local time is 6.449745178222656,\n",
      "     task time is 1.793, \n",
      "     qpu total time is 0.115137, \n",
      "     qpu access time is 0.101889\n"
     ]
    }
   ],
   "source": [
    "method = \"dwave-qa\"\n",
    "qa_param = {}\n",
    "qa_param[\"bucket\"] = s3_bucket\n",
    "qa_param[\"prefix\"] = prefix\n",
    "qa_param[\"task_id\"] = qa_task_id\n",
    "qa_param[\"raw_path\"] = raw_path\n",
    "qa_param[\"data_path\"] = data_path\n",
    "\n",
    "qa_process_result = ResultParser(method, **qa_param)\n",
    "# print(f\"{method} result is {qa_process_result.get_all_result()}\")\n",
    "\n",
    "local_time, task_time, total_time, access_time = qa_process_result.get_time()\n",
    "\n",
    "print(f\"time for {method}: \\n \\\n",
    "    local time is {local_time},\\n \\\n",
    "    task time is {task_time}, \\n \\\n",
    "    qpu total time is {total_time}, \\n \\\n",
    "    qpu access time is {access_time}\")"
   ]
  },
  {
   "cell_type": "code",
   "execution_count": 14,
   "id": "76870e61",
   "metadata": {},
   "outputs": [
    {
     "name": "stderr",
     "output_type": "stream",
     "text": [
      "INFO:root:generate_optimize_pts()\n",
      "INFO:root:save_mol_file 20220311-07\n",
      "INFO:root:finish save ./molecule-data/Aspirin_dwave-qa_20220311-07.mol2 and ./molecule-data/Aspirin_dwave-qa_20220311-07.json\n"
     ]
    },
    {
     "data": {
      "text/plain": [
       "['./molecule-data/Aspirin_dwave-qa_20220311-07.mol2',\n",
       " './molecule-data/Aspirin_dwave-qa_20220311-07.json']"
      ]
     },
     "execution_count": 14,
     "metadata": {},
     "output_type": "execute_result"
    }
   ],
   "source": [
    "qa_atom_pos_data = qa_process_result.generate_optimize_pts()\n",
    "# save unfold file for visualization and parameters for experiment: 1. volume value 2. relative improvement\n",
    "qa_process_result.save_mol_file(f\"{timestamp}\")"
   ]
  },
  {
   "cell_type": "code",
   "execution_count": 15,
   "id": "ac8cfb4d",
   "metadata": {},
   "outputs": [
    {
     "data": {
      "text/plain": [
       "{'volume': {'optimize': 22.799131941673366,\n",
       "  'initial': 22.769536671449572,\n",
       "  'gain': 1.0012997748110046,\n",
       "  'unfolding_results': ['x_1_1', 'x_2_1', 'x_3_2'],\n",
       "  'optimize_info': {'missing_var': [], 'optimize_state': True}}}"
      ]
     },
     "execution_count": 15,
     "metadata": {},
     "output_type": "execute_result"
    }
   ],
   "source": [
    "qa_process_result.parameters"
   ]
  },
  {
   "cell_type": "code",
   "execution_count": 16,
   "id": "04c845a3",
   "metadata": {},
   "outputs": [
    {
     "name": "stdout",
     "output_type": "stream",
     "text": [
      "valid name is ['x_3_1', 'x_3_2', 'x_2_1', 'x_2_2', 'x_1_1', 'x_1_2']\n"
     ]
    },
    {
     "data": {
      "text/plain": [
       "x_3_1    0.0\n",
       "x_3_2    1.0\n",
       "x_2_1    1.0\n",
       "x_2_2    0.0\n",
       "x_1_1    1.0\n",
       "x_1_2    0.0\n",
       "Name: 0, dtype: float64"
      ]
     },
     "execution_count": 16,
     "metadata": {},
     "output_type": "execute_result"
    }
   ],
   "source": [
    "print(f\"valid name is {qa_process_result.valid_var_name}\")\n",
    "\n",
    "pddf_sample_result = qa_process_result.raw_result[\"response\"].aggregate(\n",
    "        ).to_pandas_dataframe()\n",
    "\n",
    "pddf_best_result = pddf_sample_result.iloc[pddf_sample_result['energy'].idxmin(\n",
    "        ), :]\n",
    "\n",
    "best_config = pddf_best_result.filter(items=qa_process_result.valid_var_name)\n",
    "\n",
    "best_config"
   ]
  },
  {
   "cell_type": "code",
   "execution_count": 17,
   "id": "70645904",
   "metadata": {},
   "outputs": [
    {
     "data": {
      "text/plain": [
       "x_1_1          1.0\n",
       "x_2_1          1.0\n",
       "x_3_2          1.0\n",
       "x_3_2*x_1_1    1.0\n",
       "Name: 0, dtype: float64"
      ]
     },
     "execution_count": 17,
     "metadata": {},
     "output_type": "execute_result"
    }
   ],
   "source": [
    "result = pddf_best_result.where(pddf_best_result == 1.0)\n",
    "result.dropna()"
   ]
  },
  {
   "cell_type": "code",
   "execution_count": 18,
   "id": "fdc8f79b",
   "metadata": {},
   "outputs": [
    {
     "data": {
      "text/plain": [
       "x_1_1                    1.000000\n",
       "x_1_2                    0.000000\n",
       "x_2_1                    1.000000\n",
       "x_2_1*x_1_1              1.000000\n",
       "x_2_1*x_1_2              0.000000\n",
       "x_2_2                    0.000000\n",
       "x_2_2*x_1_1              0.000000\n",
       "x_2_2*x_1_2              0.000000\n",
       "x_3_1                    0.000000\n",
       "x_3_2                    1.000000\n",
       "chain_break_fraction     0.000000\n",
       "energy                 -22.799132\n",
       "num_occurrences         53.000000\n",
       "Name: 0, dtype: float64"
      ]
     },
     "execution_count": 18,
     "metadata": {},
     "output_type": "execute_result"
    }
   ],
   "source": [
    "pddf_best_result"
   ]
  },
  {
   "cell_type": "code",
   "execution_count": 18,
   "id": "3d5149e0",
   "metadata": {},
   "outputs": [
    {
     "data": {
      "text/plain": [
       "x_1_1                    1.000000\n",
       "x_1_2                    0.000000\n",
       "x_1_2*x_3_2              0.000000\n",
       "x_2_1                    1.000000\n",
       "x_2_2                    0.000000\n",
       "x_2_2*x_3_1              0.000000\n",
       "x_3_1                    0.000000\n",
       "x_3_1*x_2_1              0.000000\n",
       "x_3_2                    1.000000\n",
       "x_3_2*x_1_1              1.000000\n",
       "chain_break_fraction     0.000000\n",
       "energy                 -22.799132\n",
       "num_occurrences         44.000000\n",
       "Name: 0, dtype: float64"
      ]
     },
     "execution_count": 18,
     "metadata": {},
     "output_type": "execute_result"
    }
   ],
   "source": [
    "pddf_best_result"
   ]
  },
  {
   "cell_type": "code",
   "execution_count": null,
   "id": "6f929180",
   "metadata": {},
   "outputs": [],
   "source": [
    "-22.79913194167341\n"
   ]
  },
  {
   "cell_type": "code",
   "execution_count": 82,
   "id": "97927029",
   "metadata": {},
   "outputs": [],
   "source": [
    "import py3Dmol\n",
    "import time\n",
    "from ipywidgets import interact,fixed,IntSlider\n",
    "import ipywidgets\n",
    "import os\n",
    "\n",
    "def View3DMol(mol, size=(600, 600), style=\"stick\", surface=False, opacity=0.5, type=\"mol2\"):\n",
    "    assert style in ('line', 'stick', 'sphere', 'carton')\n",
    "    viewer = py3Dmol.view(width=size[0], height=size[1])\n",
    "    viewer.addModel(open(mol,'r').read(), type)\n",
    "    viewer.setStyle({style:{}})\n",
    "    if surface:\n",
    "        viewer.addSurface(py3Dmol.SAS, {'opacity': opacity})\n",
    "    viewer.zoomTo()\n",
    "    return viewer\n",
    "\n",
    "\n",
    "def View3DMolFromDir(mol_dir, size=(600,600), style=\"stick\", surface=False, opacity=0.5, type=\"mol2\"):\n",
    "    assert style in ('line', 'stick', 'sphere', 'carton')\n",
    "    viewer = py3Dmol.view(width=size[0], height=size[1],linked=False,viewergrid=(2,2))\n",
    "    mol2s = os.popen(\"ls {}/*.mol2\".format(mol_dir)).read().split('\\n')[0:-1]\n",
    "    for index,mol2 in enumerate(mol2s):\n",
    "        viewer.addModel(open(mol2,'r').read(),type,viewer=(index/2,index%2))\n",
    "        viewer.setStyle({'stick':{'colorscheme':'greenCarbon'}},viewer=(index/2,index%2))\n",
    "    if surface:\n",
    "        viewer.addSurface(py3Dmol.SAS, {'opacity': opacity})\n",
    "    viewer.zoomTo()\n",
    "    view.render()\n",
    "    return viewer\n",
    "\n",
    "\n",
    "def StyleSelector(mol,size,style):\n",
    "    return View3DMol(mol,size=(size,size),style=style).show()\n",
    "\n",
    "def InteractView(mol,size):\n",
    "    interact(StyleSelector, \n",
    "             mol=mol,\n",
    "             size=size,\n",
    "             style=ipywidgets.Dropdown(\n",
    "                options=['line', 'stick', 'sphere'],\n",
    "                value='stick',\n",
    "                description='Style:'))"
   ]
  },
  {
   "cell_type": "code",
   "execution_count": 83,
   "id": "cc3b0203",
   "metadata": {},
   "outputs": [
    {
     "data": {
      "application/vnd.jupyter.widget-view+json": {
       "model_id": "a5769d02482d434c841fbcd3814f4fce",
       "version_major": 2,
       "version_minor": 0
      },
      "text/plain": [
       "interactive(children=(Text(value='./molecule-data/Aspirin_dwave-qa_20220311-05.mol2', description='mol'), IntS…"
      ]
     },
     "metadata": {},
     "output_type": "display_data"
    }
   ],
   "source": [
    "InteractView(\"./molecule-data/Aspirin_dwave-qa_20220311-05.mol2\", size=800)"
   ]
  },
  {
   "cell_type": "code",
   "execution_count": 60,
   "id": "c5ec0663",
   "metadata": {},
   "outputs": [
    {
     "data": {
      "application/vnd.jupyter.widget-view+json": {
       "model_id": "8debcd0764b74edd9f06cef32f79d0f1",
       "version_major": 2,
       "version_minor": 0
      },
      "text/plain": [
       "interactive(children=(Text(value='./molecule-data/Aspirin.mol2', description='mol'), IntSlider(value=800, desc…"
      ]
     },
     "metadata": {},
     "output_type": "display_data"
    }
   ],
   "source": [
    "InteractView(\"./molecule-data/Aspirin.mol2\", size=800)"
   ]
  },
  {
   "cell_type": "code",
   "execution_count": 17,
   "id": "9ff4da4f",
   "metadata": {},
   "outputs": [
    {
     "data": {
      "text/plain": [
       "{'1': {'pts': [-1.4637, 1.3943, 1.2946],\n",
       "  'idx': ([0, 0, 0], [0, 0, 0]),\n",
       "  'vdw-radius': 1.7},\n",
       " '2': {'pts': [-1.3545, -0.1059, 1.201],\n",
       "  'idx': ([0, 0, 0], [0, 0, 0]),\n",
       "  'vdw-radius': 1.7},\n",
       " '3': {'pts': [-1.4493, -0.7819, 2.198],\n",
       "  'idx': ([0, 0, 0], [0, 0, 0]),\n",
       "  'vdw-radius': 1.52},\n",
       " '4': {'pts': [-1.1519, -0.6914, 0.0093],\n",
       "  'idx': ([0, 0, 0], [0, 0, 0]),\n",
       "  'vdw-radius': 1.52},\n",
       " '5': {'pts': [-0.9578, -2.0342, 0.0079],\n",
       "  'idx': ([0, 0, 0], [0, 0, 0]),\n",
       "  'vdw-radius': 1.7},\n",
       " '6': {'pts': [0.327, -2.5523, 0.0594],\n",
       "  'idx': ([0, 0, 0], [0, 0, 0]),\n",
       "  'vdw-radius': 1.7},\n",
       " '7': {'pts': [0.5232, -3.9195, 0.0578],\n",
       "  'idx': ([0, 0, 0], [0, 0, 0]),\n",
       "  'vdw-radius': 1.7},\n",
       " '8': {'pts': [-0.5586, -4.7832, 0.005],\n",
       "  'idx': ([0, 0, 0], [0, 0, 0]),\n",
       "  'vdw-radius': 1.7},\n",
       " '9': {'pts': [-1.843, -4.2868, -0.0466],\n",
       "  'idx': ([0, 0, 0], [0, 0, 0]),\n",
       "  'vdw-radius': 1.7},\n",
       " '10': {'pts': [-2.0568, -2.9052, -0.0398],\n",
       "  'idx': ([0, 0, 0], [0, 0, 0]),\n",
       "  'vdw-radius': 1.7},\n",
       " '11': {'pts': [-3.4263, -2.3674, -0.0943],\n",
       "  'idx': ([0, 0, 0], [0, 0, 0]),\n",
       "  'vdw-radius': 1.7},\n",
       " '12': {'pts': [-4.3813, -3.1301, -0.1456],\n",
       "  'idx': ([0, 0, 0], [0, 0, 0]),\n",
       "  'vdw-radius': 1.52},\n",
       " '13': {'pts': [-3.6091, -1.1578, -0.0882],\n",
       "  'idx': ([0, 0, 0], [0, 0, 0]),\n",
       "  'vdw-radius': 1.52},\n",
       " '14': {'pts': [-1.6261, 1.6826, 2.3332],\n",
       "  'idx': ([0, 0, 0], [0, 0, 0]),\n",
       "  'vdw-radius': 1.2},\n",
       " '15': {'pts': [-0.5422, 1.849, 0.9311],\n",
       "  'idx': ([0, 0, 0], [0, 0, 0]),\n",
       "  'vdw-radius': 1.2},\n",
       " '16': {'pts': [-2.3018, 1.7362, 0.6873],\n",
       "  'idx': ([0, 0, 0], [0, 0, 0]),\n",
       "  'vdw-radius': 1.2},\n",
       " '17': {'pts': [1.1759, -1.8858, 0.1003],\n",
       "  'idx': ([0, 0, 0], [0, 0, 0]),\n",
       "  'vdw-radius': 1.2},\n",
       " '18': {'pts': [1.5263, -4.3177, 0.0977],\n",
       "  'idx': ([0, 0, 0], [0, 0, 0]),\n",
       "  'vdw-radius': 1.2},\n",
       " '19': {'pts': [-0.3945, -5.8507, 0.004],\n",
       "  'idx': ([0, 0, 0], [0, 0, 0]),\n",
       "  'vdw-radius': 1.2},\n",
       " '20': {'pts': [-2.6833, -4.964, -0.0884],\n",
       "  'idx': ([0, 0, 0], [0, 0, 0]),\n",
       "  'vdw-radius': 1.2}}"
      ]
     },
     "execution_count": 17,
     "metadata": {},
     "output_type": "execute_result"
    }
   ],
   "source": [
    "qa_process_result.atom_pos_data_raw"
   ]
  },
  {
   "cell_type": "code",
   "execution_count": 11,
   "id": "af5c715a",
   "metadata": {},
   "outputs": [],
   "source": [
    "mol_graph = qa_process_result.mol_data.bond_graph.mol_ug\n",
    "\n",
    "non_contact_atom_map = {}\n",
    "\n",
    "for node_main in mol_graph.nodes:\n",
    "    non_contact_atom = []\n",
    "    for node_candidate in mol_graph.nodes:\n",
    "        if node_candidate != node_main and node_candidate not in mol_graph.neighbors(node_main):\n",
    "            non_contact_atom.append(node_candidate)\n",
    "    non_contact_atom_map[node_main] = non_contact_atom"
   ]
  },
  {
   "cell_type": "code",
   "execution_count": 13,
   "id": "b861859c",
   "metadata": {},
   "outputs": [],
   "source": [
    "def calc_distance_between_pts(pts1, pts2):\n",
    "    pts1_middle = np.array(tuple(list(np.mean(np.array(pts1), axis=0))))\n",
    "    pts2_middle = np.array(tuple(list(np.mean(np.array(pts2), axis=0))))\n",
    "\n",
    "    return np.linalg.norm(pts1_middle-pts2_middle)"
   ]
  },
  {
   "cell_type": "code",
   "execution_count": 21,
   "id": "86109dc4",
   "metadata": {},
   "outputs": [],
   "source": [
    "atom_raw = qa_process_result.atom_pos_data\n",
    "\n",
    "for atom_index, atom_info in atom_raw.items():\n",
    "    vdw_radius = atom_info['vdw-radius']\n",
    "    atom_pos = atom_info['pts']\n",
    "    for non_contact_atom in non_contact_atom_map[atom_index]:\n",
    "        non_contact_atom_pos = atom_raw[non_contact_atom]['pts']\n",
    "        distance = calc_distance_between_pts([atom_pos], [non_contact_atom_pos])\n",
    "#         print(f\"fail at {atom_index} to {non_contact_atom} for distance {distance}\")\n",
    "        if distance < vdw_radius:\n",
    "            print(f\"fail at {atom_index} to {non_contact_atom}\")\n",
    "            break"
   ]
  },
  {
   "cell_type": "code",
   "execution_count": 26,
   "id": "9ada4dee",
   "metadata": {},
   "outputs": [
    {
     "data": {
      "text/plain": [
       "{1, 2, 3, 4}"
      ]
     },
     "execution_count": 26,
     "metadata": {},
     "output_type": "execute_result"
    }
   ],
   "source": [
    "a = set()"
   ]
  },
  {
   "cell_type": "code",
   "execution_count": 20,
   "id": "f97031b8",
   "metadata": {},
   "outputs": [],
   "source": [
    "graph = mol_data.bond_graph.mol_ug"
   ]
  },
  {
   "cell_type": "code",
   "execution_count": 23,
   "id": "0c96b118",
   "metadata": {},
   "outputs": [
    {
     "data": {
      "text/plain": [
       "[0.0, 45.0, 90.0, 135.0, 180.0, 225.0, 270.0, 315.0]"
      ]
     },
     "execution_count": 23,
     "metadata": {},
     "output_type": "execute_result"
    }
   ],
   "source": [
    "qa_process_result.theta_option"
   ]
  },
  {
   "cell_type": "code",
   "execution_count": 14,
   "id": "1f4e4b56",
   "metadata": {},
   "outputs": [
    {
     "data": {
      "text/plain": [
       "{'4+5': {'metrics': '4+5',\n",
       "  'f_0_set': {'2'},\n",
       "  'f_1_set': {'10', '11', '17', '18', '19', '20', '6', '7', '8', '9'},\n",
       "  'avg_bc_num': 0.5146198830409356,\n",
       "  'rb_count_num': 1},\n",
       " '2+4': {'metrics': '2+4',\n",
       "  'f_0_set': {'1', '3'},\n",
       "  'f_1_set': {'5'},\n",
       "  'avg_bc_num': 0.4444444444444444,\n",
       "  'rb_count_num': 1},\n",
       " '1+2': {'metrics': '1+2',\n",
       "  'f_0_set': {'14', '15', '16'},\n",
       "  'f_1_set': {'3', '4'},\n",
       "  'avg_bc_num': 0.36549707602339176,\n",
       "  'rb_count_num': 1},\n",
       " '10+11': {'metrics': '10+11',\n",
       "  'f_0_set': {'17', '18', '19', '20', '4', '5', '6', '7', '8', '9'},\n",
       "  'f_1_set': {'12', '13'},\n",
       "  'avg_bc_num': 0.3187134502923976,\n",
       "  'rb_count_num': 1},\n",
       " '4+5,2+4': {'metrics': '4+5',\n",
       "  'f_0_set': {'1', '3'},\n",
       "  'f_1_set': {'10', '11', '17', '18', '19', '20', '6', '7', '8', '9'},\n",
       "  'avg_bc_num': 0.47953216374269003,\n",
       "  'rb_count_num': 2},\n",
       " '4+5,10+11': {'metrics': '4+5',\n",
       "  'f_0_set': {'2'},\n",
       "  'f_1_set': {'12', '13'},\n",
       "  'avg_bc_num': 0.41666666666666663,\n",
       "  'rb_count_num': 2},\n",
       " '2+4,1+2': {'metrics': '2+4',\n",
       "  'f_0_set': {'14', '15', '16'},\n",
       "  'f_1_set': {'5'},\n",
       "  'avg_bc_num': 0.4049707602339181,\n",
       "  'rb_count_num': 2},\n",
       " '4+5,2+4,1+2': {'metrics': '4+5',\n",
       "  'f_0_set': {'14', '15', '16'},\n",
       "  'f_1_set': {'10', '11', '17', '18', '19', '20', '6', '7', '8', '9'},\n",
       "  'avg_bc_num': 0.44152046783625726,\n",
       "  'rb_count_num': 3},\n",
       " '4+5,2+4,10+11': {'metrics': '4+5',\n",
       "  'f_0_set': {'1', '3'},\n",
       "  'f_1_set': {'12', '13'},\n",
       "  'avg_bc_num': 0.4259259259259259,\n",
       "  'rb_count_num': 3},\n",
       " '4+5,2+4,1+2,10+11': {'metrics': '4+5',\n",
       "  'f_0_set': {'14', '15', '16'},\n",
       "  'f_1_set': {'12', '13'},\n",
       "  'avg_bc_num': 0.41081871345029236,\n",
       "  'rb_count_num': 4}}"
      ]
     },
     "execution_count": 14,
     "metadata": {},
     "output_type": "execute_result"
    }
   ],
   "source": [
    "qa_process_result.mol_data.bond_graph.sort_ris_data['4']\n"
   ]
  },
  {
   "cell_type": "code",
   "execution_count": 15,
   "id": "bc24023e",
   "metadata": {},
   "outputs": [
    {
     "data": {
      "text/plain": [
       "{'1+2': {'f_0_set': {'14', '15', '16'},\n",
       "  'f_1_set': {'10',\n",
       "   '11',\n",
       "   '12',\n",
       "   '13',\n",
       "   '17',\n",
       "   '18',\n",
       "   '19',\n",
       "   '20',\n",
       "   '3',\n",
       "   '4',\n",
       "   '5',\n",
       "   '6',\n",
       "   '7',\n",
       "   '8',\n",
       "   '9'},\n",
       "  'bc_num': 0.36549707602339176},\n",
       " '2+4': {'f_0_set': {'1', '14', '15', '16', '3'},\n",
       "  'f_1_set': {'10',\n",
       "   '11',\n",
       "   '12',\n",
       "   '13',\n",
       "   '17',\n",
       "   '18',\n",
       "   '19',\n",
       "   '20',\n",
       "   '5',\n",
       "   '6',\n",
       "   '7',\n",
       "   '8',\n",
       "   '9'},\n",
       "  'bc_num': 0.4444444444444444},\n",
       " '4+5': {'f_0_set': {'1', '14', '15', '16', '2', '3'},\n",
       "  'f_1_set': {'10',\n",
       "   '11',\n",
       "   '12',\n",
       "   '13',\n",
       "   '17',\n",
       "   '18',\n",
       "   '19',\n",
       "   '20',\n",
       "   '6',\n",
       "   '7',\n",
       "   '8',\n",
       "   '9'},\n",
       "  'bc_num': 0.5146198830409356},\n",
       " '10+11': {'f_0_set': {'1',\n",
       "   '14',\n",
       "   '15',\n",
       "   '16',\n",
       "   '17',\n",
       "   '18',\n",
       "   '19',\n",
       "   '2',\n",
       "   '20',\n",
       "   '3',\n",
       "   '4',\n",
       "   '5',\n",
       "   '6',\n",
       "   '7',\n",
       "   '8',\n",
       "   '9'},\n",
       "  'f_1_set': {'12', '13'},\n",
       "  'bc_num': 0.3187134502923976}}"
      ]
     },
     "execution_count": 15,
     "metadata": {},
     "output_type": "execute_result"
    }
   ],
   "source": [
    "qa_process_result.mol_data.bond_graph.rb_data"
   ]
  },
  {
   "cell_type": "code",
   "execution_count": 8,
   "id": "2ce03ba3",
   "metadata": {},
   "outputs": [
    {
     "name": "stderr",
     "output_type": "stream",
     "text": [
      "2022-03-10 01:28:21,937 dwave.cloud INFO MainThread Log level for 'dwave.cloud' namespace set to 0\n"
     ]
    }
   ],
   "source": [
    "from utility.MoleculeParser import MoleculeData\n",
    "from utility.QMUQUBO import QMUQUBO\n",
    "from utility.AnnealerOptimizer import Annealer\n",
    "from utility.ResultProcess import ResultParser\n",
    "import time\n",
    "\n",
    "timestamp = time.strftime(\"%Y%m%d-%H\")"
   ]
  },
  {
   "cell_type": "markdown",
   "id": "5a3ee2f8",
   "metadata": {},
   "source": [
    "# Step 1: Prepare Data"
   ]
  },
  {
   "cell_type": "markdown",
   "id": "43cb627f",
   "metadata": {},
   "source": [
    "In this part, we load the raw molecule data for experiment.\n",
    "The [117 ligand](http://www.rcsb.org/ligand/117) was \n",
    "put in the repository. We assign the relative \n",
    "path to **raw_path**.\n",
    "The **s3_bucket** and **prefix** are used to store the \n",
    "optimization results. We can use the one created with the \n",
    "cloudformation for convenience."
   ]
  },
  {
   "cell_type": "code",
   "execution_count": 2,
   "id": "aad0d82f",
   "metadata": {},
   "outputs": [],
   "source": [
    "# initial parameters for experiment data\n",
    "s3_bucket = f\"xxxx\" # the name of the bucket\n",
    "prefix = \"xxxx\" # the name of the folder in the bucket\n",
    "\n",
    "raw_path = './molecule-data/117_ideal.mol2' # the mol2 file for this experiment"
   ]
  },
  {
   "cell_type": "code",
   "execution_count": 3,
   "id": "23e73ddc",
   "metadata": {},
   "outputs": [
    {
     "name": "stderr",
     "output_type": "stream",
     "text": [
      "INFO:root:parse mol2 file!\n",
      "INFO:root:finish save qmu_117_ideal_data_latest.pickle\n"
     ]
    },
    {
     "name": "stdout",
     "output_type": "stream",
     "text": [
      "You have loaded the raw molecule data and saved as ./qmu_117_ideal_data_latest.pickle. \n",
      "This molecule has 23 rotable bond\n"
     ]
    }
   ],
   "source": [
    "mol_data = MoleculeData(raw_path, 'qmu')\n",
    "\n",
    "data_path = mol_data.save(\"latest\")\n",
    "\n",
    "num_rotation_bond = mol_data.bond_graph.rb_num\n",
    "print(f\"You have loaded the raw molecule data and saved as {data_path}. \\n\\\n",
    "This molecule has {num_rotation_bond} rotable bond\")"
   ]
  },
  {
   "cell_type": "markdown",
   "id": "8bce7868",
   "metadata": {},
   "source": [
    "After running this block, the processed data \n",
    "will be saved as **qmu_117_ideal_data_latest.pickle**\n",
    "and **data_path** will be updated. We can see that this \n",
    "molecule has 23 rotatable bonds."
   ]
  },
  {
   "cell_type": "markdown",
   "id": "51319201",
   "metadata": {},
   "source": [
    "# Step 2: Build Model"
   ]
  },
  {
   "cell_type": "markdown",
   "id": "6209c44f",
   "metadata": {},
   "source": [
    "In this part, we build the Quadratic Unconstrained \n",
    "Binary Optimization (QUBO) model for molecular unfolding.\n",
    "\n",
    "First, we set the following parameters and \n",
    "initialize the QMUQUBO object. \n",
    "\n",
    "<center>\n",
    "\n",
    "| Parameter | Description | Value |\n",
    "|--- |--- |--- |\n",
    "|A | penalty scalar |300|\n",
    "|hubo_qubo_val | energy penalty of make_quadratic() |200|\n",
    "|M | number of torsions for molecular unfolding| [1, max number of rotatable bonds] |\n",
    "|D| angle precision of rotation| 8|\n",
    "|method| the method of building model| 'pre-calc': calculate the score in advance|\n",
    "\n",
    " </center>"
   ]
  },
  {
   "cell_type": "markdown",
   "id": "c9c758af",
   "metadata": {},
   "source": [
    "We use the 'pre-calc' method \n",
    "to build the model. This molecule has 23 rotatable bonds and \n",
    "we only test 2 of them, so we set the **M** to 2. And we want \n",
    "the angle to become $45^o$, so we set the **D** to 8 \n",
    "(i.e., $8=360^o/45^o$). The **A** and **hubo_qubo_val** are \n",
    "test from experiments. "
   ]
  },
  {
   "cell_type": "code",
   "execution_count": 4,
   "id": "c122d71e",
   "metadata": {},
   "outputs": [
    {
     "name": "stderr",
     "output_type": "stream",
     "text": [
      "INFO:root:initial pre-calculate for constructing molecule QUBO\n"
     ]
    }
   ],
   "source": [
    "# initial the QMUQUBO object\n",
    "init_param = {}\n",
    "method = ['pre-calc']\n",
    "\n",
    "for mt in method:\n",
    "    if mt == 'pre-calc':\n",
    "        init_param[mt] = {}\n",
    "        init_param[mt]['param'] = ['M', 'D', 'A', 'hubo_qubo_val']\n",
    "    \n",
    "qmu_qubo = QMUQUBO(mol_data, method, **init_param)"
   ]
  },
  {
   "cell_type": "code",
   "execution_count": 5,
   "id": "08deb92a",
   "metadata": {},
   "outputs": [
    {
     "name": "stderr",
     "output_type": "stream",
     "text": [
      "INFO:root:Construct model for M:2,D:8,A:300,hubo_qubo_val:200 0.0010666688283284505 min\n"
     ]
    },
    {
     "data": {
      "text/plain": [
       "0"
      ]
     },
     "execution_count": 5,
     "metadata": {},
     "output_type": "execute_result"
    }
   ],
   "source": [
    "# set the parameters for model\n",
    "model_param = {}\n",
    "# parameters\n",
    "num_rotation_bond = mol_data.bond_graph.rb_num\n",
    "\n",
    "method = 'pre-calc'\n",
    "model_param[method] = {}\n",
    "# model_param[method]['M'] = range(1, num_rotation_bond+1)\n",
    "model_param[method]['M'] = [2]\n",
    "model_param[method]['D'] = [8]\n",
    "model_param[method]['A'] = [300]\n",
    "model_param[method]['hubo_qubo_val'] = [200]\n",
    "\n",
    "qmu_qubo.build_model(**model_param)"
   ]
  },
  {
   "cell_type": "markdown",
   "id": "00803343",
   "metadata": {},
   "source": [
    "We can use the following method to check the properties of \n",
    "model. This way, we can build many models conveniently. \n",
    "After that, we save the model and update the value of \n",
    "**model_path**."
   ]
  },
  {
   "cell_type": "code",
   "execution_count": 6,
   "id": "39f8479f",
   "metadata": {},
   "outputs": [
    {
     "name": "stderr",
     "output_type": "stream",
     "text": [
      "INFO:root:method: pre-calc\n",
      "INFO:root:The model_name should be {M}_{D}_{A}_{hubo_qubo_val}\n",
      "INFO:root:param: M, value {2}\n",
      "INFO:root:param: D, value {8}\n",
      "INFO:root:param: A, value {300}\n",
      "INFO:root:param: hubo_qubo_val, value {200}\n"
     ]
    }
   ],
   "source": [
    "# describe the model parameters\n",
    "model_info = qmu_qubo.describe_model()"
   ]
  },
  {
   "cell_type": "code",
   "execution_count": 7,
   "id": "a2317db5",
   "metadata": {},
   "outputs": [
    {
     "name": "stderr",
     "output_type": "stream",
     "text": [
      "INFO:root:finish save qmu_117_ideal_model_latest.pickle\n"
     ]
    },
    {
     "name": "stdout",
     "output_type": "stream",
     "text": [
      "You have built the QUBO model and saved it as ./qmu_117_ideal_model_latest.pickle\n"
     ]
    }
   ],
   "source": [
    "# save the model\n",
    "model_path = qmu_qubo.save(\"latest\")\n",
    "\n",
    "print(f\"You have built the QUBO model and saved it as {model_path}\")"
   ]
  },
  {
   "cell_type": "markdown",
   "id": "6e92ed9e",
   "metadata": {},
   "source": [
    "# Step 3: Optimize Configuration"
   ]
  },
  {
   "cell_type": "markdown",
   "id": "a4888526",
   "metadata": {},
   "source": [
    "In this part, we use SA and QA to find the optimized configuration of molecular unfolding.\n",
    "At first, we load the model file using **QMUQUBO** object"
   ]
  },
  {
   "cell_type": "code",
   "execution_count": 8,
   "id": "e95e7a84",
   "metadata": {},
   "outputs": [],
   "source": [
    "qmu_qubo_optimize = QMUQUBO.load(model_path)"
   ]
  },
  {
   "cell_type": "code",
   "execution_count": 9,
   "id": "65aab99c",
   "metadata": {},
   "outputs": [
    {
     "name": "stderr",
     "output_type": "stream",
     "text": [
      "INFO:root:method: pre-calc\n",
      "INFO:root:The model_name should be {M}_{D}_{A}_{hubo_qubo_val}\n",
      "INFO:root:param: M, value {2}\n",
      "INFO:root:param: D, value {8}\n",
      "INFO:root:param: A, value {300}\n",
      "INFO:root:param: hubo_qubo_val, value {200}\n"
     ]
    }
   ],
   "source": [
    "model_info = qmu_qubo_optimize.describe_model()"
   ]
  },
  {
   "cell_type": "markdown",
   "id": "237fa2fd",
   "metadata": {},
   "source": [
    "We can see the parameters of this model, with M equaling 2, D equaling 8, \n",
    "A equaling 300 and hubo_qubo_val equaling 200. \n",
    "Actually, we can contain multiple models in this file just \n",
    "by giving multiple values for one parameter when creating models.\n",
    "\n",
    "Actually, we can contain multiple models in this file just \n",
    "by giving multiple values for one parameter when creating models.\n",
    "Then, we need use **model_name** to get the model for experiments."
   ]
  },
  {
   "cell_type": "code",
   "execution_count": 10,
   "id": "6a2ca735",
   "metadata": {},
   "outputs": [],
   "source": [
    "# get the model you want to optimize\n",
    "M = 2\n",
    "D = 8\n",
    "A = 300\n",
    "hubo_qubo_val = 200\n",
    "model_name = \"{}_{}_{}_{}\".format(M, D, A, hubo_qubo_val)\n",
    "method = \"pre-calc\"\n",
    "\n",
    "qubo_model = qmu_qubo_optimize.get_model(method, model_name)"
   ]
  },
  {
   "cell_type": "markdown",
   "id": "9c2e51d8",
   "metadata": {},
   "source": [
    "We can see that we want to carry out experiment with the QUBO model with M equaling 2.\n",
    " After that, we set the parameters for optimization.\n",
    "\n",
    "| Parameter | Description | Value |\n",
    "|--- |--- |--- |\n",
    "|method | annealing method for QUBO problem |'dwave-sa': use the simulated annealer in ocean toolkit<br> 'dwave-qa': use the quantum annealer|\n",
    "|shots| number of reads, refer to [dwave-sa](https://docs.ocean.dwavesys.com/projects/neal/en/latest/reference/generated/neal.sampler.SimulatedAnnealingSampler.sample.html#neal.sampler.SimulatedAnnealingSampler.sample) and [dwave-qa](https://amazon-braket-ocean-plugin-python.readthedocs.io/en/latest/_apidoc/braket.ocean_plugin.braket_sampler.html) for details |1 to 10,000|\n",
    "|bucket | the s3 bucket to store your results | - |\n",
    "|prefix | the name of the folder in your s3 bucket | - |\n",
    "|device | the arn name to run your quantum annealing| 'arn:aws:braket:::device/qpu/d-wave/Advantage_system4' <br> 'arn:aws:braket:::device/qpu/d-wave/DW_2000Q_6'|\n",
    "\n",
    "Then, we can run the SA for this problem:"
   ]
  },
  {
   "cell_type": "code",
   "execution_count": 11,
   "id": "8bb7c2ca",
   "metadata": {},
   "outputs": [
    {
     "name": "stderr",
     "output_type": "stream",
     "text": [
      "INFO:root:use simulated annealer from dimod\n"
     ]
    }
   ],
   "source": [
    "method = 'dwave-sa'\n",
    "\n",
    "optimizer_param = {}\n",
    "optimizer_param['shots'] = 1000\n",
    "\n",
    "sa_optimizer = Annealer(qubo_model, method, **optimizer_param)"
   ]
  },
  {
   "cell_type": "code",
   "execution_count": 12,
   "id": "d65977ca",
   "metadata": {},
   "outputs": [
    {
     "name": "stderr",
     "output_type": "stream",
     "text": [
      "INFO:root:fit() ...\n",
      "INFO:root:dwave-sa save to local\n",
      "INFO:root:finish save sa_result.pickle\n"
     ]
    }
   ],
   "source": [
    "sa_optimize_result = sa_optimizer.fit()"
   ]
  },
  {
   "cell_type": "markdown",
   "id": "539d0dc9",
   "metadata": {},
   "source": [
    "We can tell that we set the number of shots for SA to 1000. \n",
    "The result is saved as the local file **./sa_result.pickle.**\n",
    "Alternatively, we can use QA to solve this problem:"
   ]
  },
  {
   "cell_type": "code",
   "execution_count": 13,
   "id": "72590fe0",
   "metadata": {},
   "outputs": [
    {
     "name": "stderr",
     "output_type": "stream",
     "text": [
      "INFO:root:use quantum annealer arn:aws:braket:::device/qpu/d-wave/Advantage_system4 \n"
     ]
    }
   ],
   "source": [
    "method = 'dwave-qa'\n",
    "\n",
    "optimizer_param = {}\n",
    "optimizer_param['shots'] = 1000\n",
    "optimizer_param['bucket'] = s3_bucket # the name of the bucket\n",
    "optimizer_param['prefix'] = prefix # the name of the folder in the bucket\n",
    "optimizer_param['device'] = \"arn:aws:braket:::device/qpu/d-wave/Advantage_system4\"\n",
    "optimizer_param[\"embed_method\"] = \"default\"\n",
    "\n",
    "qa_optimizer = Annealer(qubo_model, method, **optimizer_param)"
   ]
  },
  {
   "cell_type": "markdown",
   "id": "8911e61f",
   "metadata": {},
   "source": [
    "In this QA, we set the number of shots to 1000 and \n",
    "choose the \n",
    "[Advantage_System4.1](https://docs.dwavesys.com/docs/latest/doc_physical_properties.html)\n",
    "as the QPU. In addition, the results are saved to your bucket automatically and you \n",
    "can get the task id for future process. "
   ]
  },
  {
   "cell_type": "code",
   "execution_count": 14,
   "id": "f919f1c9",
   "metadata": {},
   "outputs": [
    {
     "name": "stderr",
     "output_type": "stream",
     "text": [
      "INFO:root:fit() ...\n",
      "INFO:root:finish save /tmp/qa_result.pickle\n",
      "INFO:root:_upload_result_json, bucket=amazon-braket-1a222675c751, key=annealer-experiment/89a59fa9-c66e-482d-85e0-6dfce8c54454/qa_result.pickle\n",
      "INFO:root:dwave-qa save to s3 - 89a59fa9-c66e-482d-85e0-6dfce8c54454: None\n"
     ]
    }
   ],
   "source": [
    "# not create annealing task, only embedding logic\n",
    "qa_optimizer.embed()\n",
    "# create annealing task\n",
    "qa_optimize_result = qa_optimizer.fit()"
   ]
  },
  {
   "cell_type": "code",
   "execution_count": 15,
   "id": "2e26a86a",
   "metadata": {},
   "outputs": [
    {
     "name": "stdout",
     "output_type": "stream",
     "text": [
      "task id is 89a59fa9-c66e-482d-85e0-6dfce8c54454\n"
     ]
    }
   ],
   "source": [
    "qa_task_id = qa_optimizer.get_task_id()\n",
    "print(f\"task id is {qa_task_id}\")"
   ]
  },
  {
   "cell_type": "markdown",
   "id": "9b7a113b",
   "metadata": {},
   "source": [
    "Finally, we can compare the execution time between SA and QA :"
   ]
  },
  {
   "cell_type": "code",
   "execution_count": 16,
   "id": "3e4eb317",
   "metadata": {},
   "outputs": [
    {
     "name": "stdout",
     "output_type": "stream",
     "text": [
      "dwave-sa run time 175.73437476158142\n",
      "dwave-qa run time 7.57835578918457\n"
     ]
    }
   ],
   "source": [
    "print(f\"dwave-sa run time {sa_optimize_result['time']}\")\n",
    "print(f\"dwave-qa run time {qa_optimize_result['time']}\")"
   ]
  },
  {
   "cell_type": "markdown",
   "id": "61133a02",
   "metadata": {},
   "source": [
    "We can tell from the image that SA needs 174.2 seconds \n",
    "and QA needs 7.7 seconds to find \n",
    "solution.\n",
    "\n",
    "We sometimes get the best result that occurs only once.\n",
    "\n",
    "![OneTimeQA](../../../docs/en/images/one-time-qa.png)\n",
    "\n",
    "This does not always indicate an error. It is actually the characteristic of the problem or how the problem \n",
    "is formulated. Because we have different linear and quadratic terms that vary by many orders of magnitude. If we \n",
    "set change value of A to some smaller number, like 10 or 100, more occurrences of the best answer will be observed. \n",
    "However, these answers usually break the constraints. For more information about this phenomenon, please refer to this \n",
    "[Link](https://support.dwavesys.com/hc/en-us/community/posts/1500000698522-Number-of-occurrences-?input_string=number%20occurance)."
   ]
  },
  {
   "cell_type": "markdown",
   "id": "ccc198a0",
   "metadata": {},
   "source": [
    "# Step 4: PostProcess Result"
   ]
  },
  {
   "cell_type": "markdown",
   "id": "b8aa1bb3",
   "metadata": {},
   "source": [
    "In this part, we post process the optimizing results for evaluation and visualization.\n",
    "At first, we prepare the following parameters:\n",
    "\n",
    "| Parameter | Description | Value |\n",
    "|--- |--- |--- |\n",
    "|method | annealing method for QUBO problem |'dwave-sa': use the simulated annealer in ocean toolkit<br> 'dwave-qa': use the quantum annealer|\n",
    "|raw_path| the path for the original molecule file| './molecule-data/117_ideal.mol2' in this example |\n",
    "|data_path| the path for the processed molecule file| './qmu_117_ideal_data_latest.mol2' in this example |\n",
    "|bucket | the s3 bucket to store your results | - |\n",
    "|prefix | the name of the folder in your s3 bucket | - |\n",
    "|task_id | the id for your quantum annealing task| '2b5a3b05-1a0e-443a-852c-4ec422a10e59' in this example |"
   ]
  },
  {
   "cell_type": "markdown",
   "id": "e4909e6a",
   "metadata": {},
   "source": [
    "Then we can run the post-process using **ResultParser** object for SA:"
   ]
  },
  {
   "cell_type": "code",
   "execution_count": 18,
   "id": "c15bf90c",
   "metadata": {},
   "outputs": [
    {
     "name": "stderr",
     "output_type": "stream",
     "text": [
      "INFO:root:_load_raw_result\n",
      "INFO:root:load simulated annealer raw result\n",
      "INFO:root:MoleculeData.load()\n",
      "INFO:root:init mol data for final position\n",
      "INFO:root:init mol data for raw position\n",
      "INFO:root:_parse_model_info\n",
      "INFO:root:_init_parameters\n",
      "INFO:root:parse simulated annealer result\n",
      "INFO:root:sa only has local_time!\n"
     ]
    },
    {
     "name": "stdout",
     "output_type": "stream",
     "text": [
      "time for dwave-sa: \n",
      "     local time is 175.73437476158142\n"
     ]
    }
   ],
   "source": [
    "method = \"dwave-sa\"\n",
    "sa_param = {}\n",
    "sa_param[\"raw_path\"] = raw_path\n",
    "sa_param[\"data_path\"] = data_path\n",
    "\n",
    "sa_process_result = ResultParser(method, **sa_param)\n",
    "# print(f\"{method} result is {sa_process_result.get_all_result()}\")\n",
    "\n",
    "local_time, _ , _, _= sa_process_result.get_time()\n",
    "\n",
    "print(f\"time for {method}: \\n \\\n",
    "    local time is {local_time}\")"
   ]
  },
  {
   "cell_type": "code",
   "execution_count": 19,
   "id": "e8e538bc",
   "metadata": {},
   "outputs": [
    {
     "name": "stderr",
     "output_type": "stream",
     "text": [
      "INFO:root:generate_optimize_pts()\n",
      "INFO:numexpr.utils:NumExpr defaulting to 2 threads.\n",
      "INFO:root:save_mol_file 20220216-06\n",
      "INFO:root:finish save ./molecule-data/117_ideal_dwave-sa_20220216-06.mol2 and ./molecule-data/117_ideal_dwave-sa_20220216-06.json\n"
     ]
    },
    {
     "data": {
      "text/plain": [
       "['./molecule-data/117_ideal_dwave-sa_20220216-06.mol2',\n",
       " './molecule-data/117_ideal_dwave-sa_20220216-06.json']"
      ]
     },
     "execution_count": 19,
     "metadata": {},
     "output_type": "execute_result"
    }
   ],
   "source": [
    "sa_atom_pos_data = sa_process_result.generate_optimize_pts()\n",
    "# save unfold file for visualization and parameters for experiment: 1. volume value 2. relative improvement\n",
    "sa_process_result.save_mol_file(f\"{timestamp}\")\n"
   ]
  },
  {
   "cell_type": "code",
   "execution_count": 20,
   "id": "96bb9941",
   "metadata": {},
   "outputs": [
    {
     "data": {
      "text/plain": [
       "{'volume': {'optimize': 18.9423642473021,\n",
       "  'initial': 18.549876807564765,\n",
       "  'gain': 1.0211584930621898,\n",
       "  'unfolding_results': ['x_15_7', 'x_14_8']}}"
      ]
     },
     "execution_count": 20,
     "metadata": {},
     "output_type": "execute_result"
    }
   ],
   "source": [
    "sa_process_result.parameters"
   ]
  },
  {
   "cell_type": "markdown",
   "id": "2419143f",
   "metadata": {},
   "source": [
    "In the first block, we can see the **local time**\n",
    "for SA is around 174 seconds. \n",
    "With the **generate_optimize_pts()** method, the final 3D \n",
    "points after unfolding will be generated and saved as json file and mol2 files. The last \n",
    "block shows the optimizing results which are also stored in json files. \n",
    "It shows that the optimized result gains \n",
    "1.0212x increase in volume. The value for **unfolding_results** indicates \n",
    "that the rotatable bond 15 should rotate $270^o$ ($360/8*(7-1)$) and \n",
    "the rotatable bond 14 should rotate $315^o$ ($360/8*(8-1)$).\n",
    "At the same time, you can run the post-process for QA:"
   ]
  },
  {
   "cell_type": "code",
   "execution_count": 21,
   "id": "2e8b34f3",
   "metadata": {},
   "outputs": [
    {
     "name": "stderr",
     "output_type": "stream",
     "text": [
      "INFO:root:_load_raw_result\n",
      "INFO:root:load quantum annealer raw result\n",
      "INFO:root:_read_result_obj\n",
      "INFO:root:_read_result_obj: annealer-experiment/89a59fa9-c66e-482d-85e0-6dfce8c54454/qa_result.pickle\n",
      "INFO:root:MoleculeData.load()\n",
      "INFO:root:init mol data for final position\n",
      "INFO:root:init mol data for raw position\n",
      "INFO:root:_parse_model_info\n",
      "INFO:root:_init_parameters\n",
      "INFO:root:parse quantum annealer result\n",
      "INFO:root:_read_result_obj\n",
      "INFO:root:_read_result_obj: annealer-experiment/89a59fa9-c66e-482d-85e0-6dfce8c54454/results.json\n"
     ]
    },
    {
     "name": "stdout",
     "output_type": "stream",
     "text": [
      "time for dwave-qa: \n",
      "     local time is 7.57835578918457,\n",
      "     task time is 1.89, \n",
      "     qpu total time is 0.142533, \n",
      "     qpu access time is 0.124129\n"
     ]
    }
   ],
   "source": [
    "method = \"dwave-qa\"\n",
    "qa_param = {}\n",
    "qa_param[\"bucket\"] = s3_bucket\n",
    "qa_param[\"prefix\"] = prefix\n",
    "qa_param[\"task_id\"] = qa_task_id\n",
    "qa_param[\"raw_path\"] = raw_path\n",
    "qa_param[\"data_path\"] = data_path\n",
    "\n",
    "qa_process_result = ResultParser(method, **qa_param)\n",
    "# print(f\"{method} result is {qa_process_result.get_all_result()}\")\n",
    "\n",
    "local_time, task_time, total_time, access_time = qa_process_result.get_time()\n",
    "\n",
    "print(f\"time for {method}: \\n \\\n",
    "    local time is {local_time},\\n \\\n",
    "    task time is {task_time}, \\n \\\n",
    "    qpu total time is {total_time}, \\n \\\n",
    "    qpu access time is {access_time}\")"
   ]
  },
  {
   "cell_type": "markdown",
   "id": "01956ee5",
   "metadata": {},
   "source": [
    "we can see that there many types of time metrics for running QA.\n",
    "This task has the **local time** of 7.7 s, which means the time between calling the api and \n",
    "getting the annealing result. The **task time** time is the metric from the json file in \n",
    "bucket. We can also see the **qpu total time** and **qpu access time** representing the \n",
    "actual time running in the QPU. Please refer to [Operation and Timing](https://docs.dwavesys.com/docs/latest/c_qpu_timing.html)\n",
    "for details."
   ]
  },
  {
   "cell_type": "code",
   "execution_count": 22,
   "id": "867e85c2",
   "metadata": {},
   "outputs": [
    {
     "name": "stderr",
     "output_type": "stream",
     "text": [
      "INFO:root:generate_optimize_pts()\n",
      "INFO:root:save_mol_file 20220216-06\n",
      "INFO:root:finish save ./molecule-data/117_ideal_dwave-qa_20220216-06.mol2 and ./molecule-data/117_ideal_dwave-qa_20220216-06.json\n"
     ]
    },
    {
     "data": {
      "text/plain": [
       "['./molecule-data/117_ideal_dwave-qa_20220216-06.mol2',\n",
       " './molecule-data/117_ideal_dwave-qa_20220216-06.json']"
      ]
     },
     "execution_count": 22,
     "metadata": {},
     "output_type": "execute_result"
    }
   ],
   "source": [
    "qa_atom_pos_data = qa_process_result.generate_optimize_pts()\n",
    "# save unfold file for visualization and parameters for experiment: 1. volume value 2. relative improvement\n",
    "qa_process_result.save_mol_file(f\"{timestamp}\")"
   ]
  },
  {
   "cell_type": "code",
   "execution_count": 23,
   "id": "b961b315",
   "metadata": {},
   "outputs": [
    {
     "data": {
      "text/plain": [
       "{'volume': {'optimize': 18.9423642473021,\n",
       "  'initial': 18.549876807564765,\n",
       "  'gain': 1.0211584930621898,\n",
       "  'unfolding_results': ['x_15_7', 'x_14_8']}}"
      ]
     },
     "execution_count": 23,
     "metadata": {},
     "output_type": "execute_result"
    }
   ],
   "source": [
    "qa_process_result.parameters"
   ]
  },
  {
   "cell_type": "markdown",
   "id": "0b97d574",
   "metadata": {},
   "source": [
    "In same way, the optimized results are translated the 3D points and saved \n",
    "as local json and mol2 files. The result indicates that QA gains \n",
    "1.021x increase in \n",
    "volume."
   ]
  },
  {
   "cell_type": "markdown",
   "id": "4452b903",
   "metadata": {},
   "source": [
    "Finally, We can open folders for the optimized results:\n",
    "\n",
    "![optimize-results](../../../docs/en/images/optimize-results.png)\n",
    "\n",
    " <center>Optimize Results</center>\n",
    "\n",
    "We can see the json result and mol2 file of SA and QA are \n",
    "stored in this place. If we carry out more \n",
    "experiments, more results with time stamp are \n",
    "stored incrementally. \n",
    "For visualization, \n",
    "we can upload the \n",
    "result **117_ideal_dwave-qa_20220216-05.mol2** \n",
    "into \n",
    "[online viewer tool](https://www.rcsb.org/3d-view) \n",
    "to see the result:\n",
    "\n",
    "![visual](../../../docs/en/images/visualization.png)\n",
    "\n",
    " <center>Visualization</center>"
   ]
  }
 ],
 "metadata": {
  "interpreter": {
   "hash": "18f113ef20d2e5656a0bc837e6c476bd436e29840b6ed1847ecdb90743164c58"
  },
  "kernelspec": {
   "display_name": "conda_braket",
   "language": "python",
   "name": "conda_braket"
  },
  "language_info": {
   "codemirror_mode": {
    "name": "ipython",
    "version": 3
   },
   "file_extension": ".py",
   "mimetype": "text/x-python",
   "name": "python",
   "nbconvert_exporter": "python",
   "pygments_lexer": "ipython3",
   "version": "3.7.11"
  }
 },
 "nbformat": 4,
 "nbformat_minor": 5
}
