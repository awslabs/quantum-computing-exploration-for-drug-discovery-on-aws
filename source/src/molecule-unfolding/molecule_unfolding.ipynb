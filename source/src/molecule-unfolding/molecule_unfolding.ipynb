{
 "cells": [
  {
   "cell_type": "code",
   "execution_count": 2,
   "id": "2dc2a12f",
   "metadata": {},
   "outputs": [
    {
     "name": "stdout",
     "output_type": "stream",
     "text": [
      "The autoreload extension is already loaded. To reload it, use:\n",
      "  %reload_ext autoreload\n"
     ]
    }
   ],
   "source": [
    "from utility.MoleculeParser import MoleculeData\n",
    "from utility.QMUQUBO import QMUQUBO\n",
    "from utility.AnnealerOptimizer import Annealer\n",
    "\n",
    "import logging\n",
    "\n",
    "logging.getLogger().setLevel(logging.INFO)\n",
    "\n",
    "%load_ext autoreload\n",
    "%autoreload 2\n"
   ]
  },
  {
   "cell_type": "code",
   "execution_count": 3,
   "id": "a3a76a1b",
   "metadata": {},
   "outputs": [
    {
     "name": "stdout",
     "output_type": "stream",
     "text": [
      "Python 3.8.5\n"
     ]
    }
   ],
   "source": [
    "!python --version"
   ]
  },
  {
   "cell_type": "code",
   "execution_count": 4,
   "id": "b311cc04",
   "metadata": {},
   "outputs": [
    {
     "name": "stdout",
     "output_type": "stream",
     "text": [
      "Name: amazon-braket-schemas\n",
      "Version: 1.5.0\n",
      "Summary: An open source library that contains the schemas for Amazon Braket\n",
      "Home-page: https://github.com/aws/amazon-braket-schemas-python\n",
      "Author: Amazon Web Services\n",
      "Author-email: \n",
      "License: Apache License 2.0\n",
      "Location: /Users/yonmzn/opt/anaconda3/lib/python3.8/site-packages\n",
      "Requires: pydantic\n",
      "Required-by: amazon-braket-default-simulator\n",
      "Name: amazon-braket-sdk\n",
      "Version: 1.11.0\n",
      "Summary: An open source library for interacting with quantum computing devices on Amazon Braket\n",
      "Home-page: https://github.com/aws/amazon-braket-sdk-python\n",
      "Author: Amazon Web Services\n",
      "Author-email: \n",
      "License: Apache License 2.0\n",
      "Location: /Users/yonmzn/opt/anaconda3/lib/python3.8/site-packages\n",
      "Requires: amazon-braket-default-simulator, backoff, boltons, boto3, coverage, nest-asyncio, networkx, numpy\n",
      "Required-by: amazon-braket-ocean-plugin\n",
      "Name: amazon-braket-ocean-plugin\n",
      "Version: 1.0.7\n",
      "Summary: An open source framework for interacting with D-Wave's Ocean library through Amazon Braket\n",
      "Home-page: https://github.com/aws/amazon-braket-ocean-plugin-python\n",
      "Author: Amazon Web Services\n",
      "Author-email: \n",
      "License: Apache License 2.0\n",
      "Location: /Users/yonmzn/opt/anaconda3/lib/python3.8/site-packages\n",
      "Requires: amazon-braket-sdk, boltons, boto3, colorama, dimod, jsonref, wheel\n",
      "Required-by: \n"
     ]
    }
   ],
   "source": [
    "!pip show amazon-braket-schemas\n",
    "!pip show amazon-braket-sdk\n",
    "!pip show amazon-braket-ocean-plugin"
   ]
  },
  {
   "cell_type": "code",
   "execution_count": 25,
   "id": "f92d278c",
   "metadata": {},
   "outputs": [],
   "source": [
    "# parameters shared by different steps\n",
    "qa_task_id = \"c3d75163-222e-451b-898f-705956b068e6\"\n",
    "s3_bucket = f\"amazon-braket-1a222675c751\" # the name of the bucket\n",
    "prefix = \"annealer-experiment\" # the name of the folder in the bucket\n",
    "\n",
    "# raw_path = './molecule-data/Aspirin.mol2'\n",
    "raw_path = './molecule-data/117_ideal.mol2'\n",
    "data_path = './qmu_117_ideal_data_latest.pickle'\n",
    "model_path = './qmu_117_ideal_model_latest.pickle'"
   ]
  },
  {
   "cell_type": "markdown",
   "id": "1e000004",
   "metadata": {},
   "source": [
    "# Prepare Molecule Data"
   ]
  },
  {
   "cell_type": "code",
   "execution_count": 5,
   "id": "4d793e86",
   "metadata": {},
   "outputs": [
    {
     "name": "stderr",
     "output_type": "stream",
     "text": [
      "INFO:root:parse mol2 file!\n",
      "INFO:root:finish save qmu_117_ideal_data_latest.pickle\n"
     ]
    },
    {
     "data": {
      "text/plain": [
       "'./qmu_117_ideal_data_latest.pickle'"
      ]
     },
     "execution_count": 5,
     "metadata": {},
     "output_type": "execute_result"
    }
   ],
   "source": [
    "mol_data = MoleculeData(raw_path, 'qmu')\n",
    "\n",
    "mol_data.save(\"latest\")"
   ]
  },
  {
   "cell_type": "markdown",
   "id": "c4d3c9b6",
   "metadata": {},
   "source": [
    "# Build QUBO model for molecule unfolding"
   ]
  },
  {
   "cell_type": "code",
   "execution_count": 5,
   "id": "5c6190f0",
   "metadata": {},
   "outputs": [
    {
     "ename": "NameError",
     "evalue": "name 'mol_data' is not defined",
     "output_type": "error",
     "traceback": [
      "\u001b[0;31m---------------------------------------------------------------------------\u001b[0m",
      "\u001b[0;31mNameError\u001b[0m                                 Traceback (most recent call last)",
      "\u001b[0;32m<ipython-input-5-66d5d536349c>\u001b[0m in \u001b[0;36m<module>\u001b[0;34m\u001b[0m\n\u001b[1;32m      7\u001b[0m         \u001b[0minit_param\u001b[0m\u001b[0;34m[\u001b[0m\u001b[0mmt\u001b[0m\u001b[0;34m]\u001b[0m\u001b[0;34m[\u001b[0m\u001b[0;34m'param'\u001b[0m\u001b[0;34m]\u001b[0m \u001b[0;34m=\u001b[0m \u001b[0;34m[\u001b[0m\u001b[0;34m'M'\u001b[0m\u001b[0;34m,\u001b[0m \u001b[0;34m'D'\u001b[0m\u001b[0;34m,\u001b[0m \u001b[0;34m'A'\u001b[0m\u001b[0;34m,\u001b[0m \u001b[0;34m'hubo_qubo_val'\u001b[0m\u001b[0;34m]\u001b[0m\u001b[0;34m\u001b[0m\u001b[0;34m\u001b[0m\u001b[0m\n\u001b[1;32m      8\u001b[0m \u001b[0;34m\u001b[0m\u001b[0m\n\u001b[0;32m----> 9\u001b[0;31m \u001b[0mqmu_qubo\u001b[0m \u001b[0;34m=\u001b[0m \u001b[0mQMUQUBO\u001b[0m\u001b[0;34m(\u001b[0m\u001b[0mmol_data\u001b[0m\u001b[0;34m,\u001b[0m \u001b[0mmethod\u001b[0m\u001b[0;34m,\u001b[0m \u001b[0;34m**\u001b[0m\u001b[0minit_param\u001b[0m\u001b[0;34m)\u001b[0m\u001b[0;34m\u001b[0m\u001b[0;34m\u001b[0m\u001b[0m\n\u001b[0m",
      "\u001b[0;31mNameError\u001b[0m: name 'mol_data' is not defined"
     ]
    }
   ],
   "source": [
    "init_param = {}\n",
    "method = ['pre-calc']\n",
    "\n",
    "for mt in method:\n",
    "    if mt == 'pre-calc':\n",
    "        init_param[mt] = {}\n",
    "        init_param[mt]['param'] = ['M', 'D', 'A', 'hubo_qubo_val']\n",
    "    \n",
    "qmu_qubo = QMUQUBO(mol_data, method, **init_param)"
   ]
  },
  {
   "cell_type": "code",
   "execution_count": 7,
   "id": "3979638c",
   "metadata": {},
   "outputs": [
    {
     "name": "stderr",
     "output_type": "stream",
     "text": [
      "INFO:root:['30+31']\n",
      "INFO:root:Construct model for M:1,D:4,A:300,hubo_qubo_val:200 0.0002522865931193034 min\n"
     ]
    },
    {
     "data": {
      "text/plain": [
       "0"
      ]
     },
     "execution_count": 7,
     "metadata": {},
     "output_type": "execute_result"
    }
   ],
   "source": [
    "model_param = {}\n",
    "# parameters\n",
    "num_rotation_bond = mol_data.bond_graph.rb_num\n",
    "\n",
    "method = 'pre-calc'\n",
    "model_param[method] = {}\n",
    "# model_param[method]['M'] = range(1, num_rotation_bond+1)\n",
    "model_param[method]['M'] = [1]\n",
    "model_param[method]['D'] = [4]\n",
    "model_param[method]['A'] = [300]\n",
    "model_param[method]['hubo_qubo_val'] = [200]\n",
    "\n",
    "qmu_qubo.build_model(**model_param)\n"
   ]
  },
  {
   "cell_type": "code",
   "execution_count": 8,
   "id": "bd0930da",
   "metadata": {},
   "outputs": [
    {
     "name": "stderr",
     "output_type": "stream",
     "text": [
      "INFO:root:method: pre-calc\n",
      "INFO:root:The model_name should be {M}_{D}_{A}_{hubo_qubo_val}\n",
      "INFO:root:param: M, value {1}\n",
      "INFO:root:param: D, value {4}\n",
      "INFO:root:param: A, value {300}\n",
      "INFO:root:param: hubo_qubo_val, value {200}\n"
     ]
    }
   ],
   "source": [
    "model_info = qmu_qubo.describe_model()"
   ]
  },
  {
   "cell_type": "code",
   "execution_count": 9,
   "id": "acfc7eb8",
   "metadata": {},
   "outputs": [
    {
     "name": "stderr",
     "output_type": "stream",
     "text": [
      "INFO:root:finish save qmu_117_ideal_model_latest.pickle\n"
     ]
    },
    {
     "data": {
      "text/plain": [
       "'./qmu_117_ideal_model_latest.pickle'"
      ]
     },
     "execution_count": 9,
     "metadata": {},
     "output_type": "execute_result"
    }
   ],
   "source": [
    "qmu_qubo.save(\"latest\")"
   ]
  },
  {
   "cell_type": "markdown",
   "id": "e836ab4b",
   "metadata": {},
   "source": [
    "# Optimize to find the configuration"
   ]
  },
  {
   "cell_type": "code",
   "execution_count": 5,
   "id": "eb749c14",
   "metadata": {},
   "outputs": [],
   "source": [
    "from utility.AnnealerOptimizer import Annealer\n",
    "from utility.QMUQUBO import QMUQUBO\n",
    "import logging"
   ]
  },
  {
   "cell_type": "code",
   "execution_count": 6,
   "id": "3ffeafd1",
   "metadata": {},
   "outputs": [],
   "source": [
    "qmu_qubo_optimize = QMUQUBO.load(model_path)\n"
   ]
  },
  {
   "cell_type": "code",
   "execution_count": 7,
   "id": "5d161545",
   "metadata": {},
   "outputs": [],
   "source": [
    "model_info = qmu_qubo_optimize.describe_model()"
   ]
  },
  {
   "cell_type": "code",
   "execution_count": 8,
   "id": "68e7da76",
   "metadata": {},
   "outputs": [],
   "source": [
    "M = 1\n",
    "D = 4\n",
    "A = 300\n",
    "hubo_qubo_val = 200\n",
    "model_name = \"{}_{}_{}_{}\".format(M, D, A, hubo_qubo_val)\n",
    "method = \"pre-calc\"\n",
    "\n",
    "qubo_model = qmu_qubo_optimize.get_model(method, model_name)"
   ]
  },
  {
   "cell_type": "code",
   "execution_count": 9,
   "id": "f12dc11a",
   "metadata": {},
   "outputs": [
    {
     "name": "stdout",
     "output_type": "stream",
     "text": [
      "use simulated annealer from dimod\n"
     ]
    }
   ],
   "source": [
    "method = 'dwave-sa'\n",
    "\n",
    "optimizer_param = {}\n",
    "optimizer_param['shots'] = 1\n",
    "\n",
    "sa_optimizer = Annealer(qubo_model, method, **optimizer_param)"
   ]
  },
  {
   "cell_type": "code",
   "execution_count": 10,
   "id": "2edcdf9d",
   "metadata": {},
   "outputs": [
    {
     "name": "stdout",
     "output_type": "stream",
     "text": [
      "fit() ...\n",
      "fit result.model_info={'model_name': '1_4_300_200', 'rb_name': ['30+31'], 'var': {'1': {'1': 'x_1_1', '2': 'x_1_2', '3': 'x_1_3', '4': 'x_1_4'}, '2': {'1': 'x_2_1', '2': 'x_2_2', '3': 'x_2_3', '4': 'x_2_4'}, '3': {'1': 'x_3_1', '2': 'x_3_2', '3': 'x_3_3', '4': 'x_3_4'}, '4': {'1': 'x_4_1', '2': 'x_4_2', '3': 'x_4_3', '4': 'x_4_4'}, '5': {'1': 'x_5_1', '2': 'x_5_2', '3': 'x_5_3', '4': 'x_5_4'}, '6': {'1': 'x_6_1', '2': 'x_6_2', '3': 'x_6_3', '4': 'x_6_4'}, '7': {'1': 'x_7_1', '2': 'x_7_2', '3': 'x_7_3', '4': 'x_7_4'}, '8': {'1': 'x_8_1', '2': 'x_8_2', '3': 'x_8_3', '4': 'x_8_4'}, '9': {'1': 'x_9_1', '2': 'x_9_2', '3': 'x_9_3', '4': 'x_9_4'}, '10': {'1': 'x_10_1', '2': 'x_10_2', '3': 'x_10_3', '4': 'x_10_4'}, '11': {'1': 'x_11_1', '2': 'x_11_2', '3': 'x_11_3', '4': 'x_11_4'}, '12': {'1': 'x_12_1', '2': 'x_12_2', '3': 'x_12_3', '4': 'x_12_4'}, '13': {'1': 'x_13_1', '2': 'x_13_2', '3': 'x_13_3', '4': 'x_13_4'}, '14': {'1': 'x_14_1', '2': 'x_14_2', '3': 'x_14_3', '4': 'x_14_4'}, '15': {'1': 'x_15_1', '2': 'x_15_2', '3': 'x_15_3', '4': 'x_15_4'}, '16': {'1': 'x_16_1', '2': 'x_16_2', '3': 'x_16_3', '4': 'x_16_4'}, '17': {'1': 'x_17_1', '2': 'x_17_2', '3': 'x_17_3', '4': 'x_17_4'}, '18': {'1': 'x_18_1', '2': 'x_18_2', '3': 'x_18_3', '4': 'x_18_4'}, '19': {'1': 'x_19_1', '2': 'x_19_2', '3': 'x_19_3', '4': 'x_19_4'}, '20': {'1': 'x_20_1', '2': 'x_20_2', '3': 'x_20_3', '4': 'x_20_4'}, '21': {'1': 'x_21_1', '2': 'x_21_2', '3': 'x_21_3', '4': 'x_21_4'}, '22': {'1': 'x_22_1', '2': 'x_22_2', '3': 'x_22_3', '4': 'x_22_4'}, '23': {'1': 'x_23_1', '2': 'x_23_2', '3': 'x_23_3', '4': 'x_23_4'}}, 'var_rb_map': {'1': '2+32', '2': '9+14', '3': '14+31', '4': '14+32', '5': '15+35', '6': '21+24', '7': '23+26', '8': '24+25', '9': '25+26', '10': '26+27', '11': '27+28', '12': '28+29', '13': '28+41', '14': '29+30', '15': '30+31', '16': '31+37', '17': '32+33', '18': '33+34', '19': '33+37', '20': '34+35', '21': '37+38', '22': '38+39', '23': '38+40'}, 'rb_var_map': {'2+32': '1', '9+14': '2', '14+31': '3', '14+32': '4', '15+35': '5', '21+24': '6', '23+26': '7', '24+25': '8', '25+26': '9', '26+27': '10', '27+28': '11', '28+29': '12', '28+41': '13', '29+30': '14', '30+31': '15', '31+37': '16', '32+33': '17', '33+34': '18', '33+37': '19', '34+35': '20', '37+38': '21', '38+39': '22', '38+40': '23'}}\n",
      "dwave-sa save to local\n",
      "finish save sa_result.pickle\n"
     ]
    }
   ],
   "source": [
    "sa_optimize_result = sa_optimizer.fit()\n"
   ]
  },
  {
   "cell_type": "code",
   "execution_count": 11,
   "id": "414c266f",
   "metadata": {},
   "outputs": [
    {
     "name": "stdout",
     "output_type": "stream",
     "text": [
      "use quantum annealer arn:aws:braket:::device/qpu/d-wave/Advantage_system4 \n"
     ]
    }
   ],
   "source": [
    "method = 'dwave-qa'\n",
    "\n",
    "optimizer_param = {}\n",
    "optimizer_param['shots'] = 1\n",
    "optimizer_param['bucket'] = s3_bucket # the name of the bucket\n",
    "optimizer_param['prefix'] = prefix # the name of the folder in the bucket\n",
    "optimizer_param['device'] = \"arn:aws:braket:::device/qpu/d-wave/Advantage_system4\"\n",
    "optimizer_param[\"embed_method\"] = \"default\"\n",
    "\n",
    "qa_optimizer = Annealer(qubo_model, method, **optimizer_param)"
   ]
  },
  {
   "cell_type": "code",
   "execution_count": 12,
   "id": "e4b3e320",
   "metadata": {},
   "outputs": [
    {
     "name": "stdout",
     "output_type": "stream",
     "text": [
      "fit() ...\n",
      "fit result.model_info={'model_name': '1_4_300_200', 'rb_name': ['30+31'], 'var': {'1': {'1': 'x_1_1', '2': 'x_1_2', '3': 'x_1_3', '4': 'x_1_4'}, '2': {'1': 'x_2_1', '2': 'x_2_2', '3': 'x_2_3', '4': 'x_2_4'}, '3': {'1': 'x_3_1', '2': 'x_3_2', '3': 'x_3_3', '4': 'x_3_4'}, '4': {'1': 'x_4_1', '2': 'x_4_2', '3': 'x_4_3', '4': 'x_4_4'}, '5': {'1': 'x_5_1', '2': 'x_5_2', '3': 'x_5_3', '4': 'x_5_4'}, '6': {'1': 'x_6_1', '2': 'x_6_2', '3': 'x_6_3', '4': 'x_6_4'}, '7': {'1': 'x_7_1', '2': 'x_7_2', '3': 'x_7_3', '4': 'x_7_4'}, '8': {'1': 'x_8_1', '2': 'x_8_2', '3': 'x_8_3', '4': 'x_8_4'}, '9': {'1': 'x_9_1', '2': 'x_9_2', '3': 'x_9_3', '4': 'x_9_4'}, '10': {'1': 'x_10_1', '2': 'x_10_2', '3': 'x_10_3', '4': 'x_10_4'}, '11': {'1': 'x_11_1', '2': 'x_11_2', '3': 'x_11_3', '4': 'x_11_4'}, '12': {'1': 'x_12_1', '2': 'x_12_2', '3': 'x_12_3', '4': 'x_12_4'}, '13': {'1': 'x_13_1', '2': 'x_13_2', '3': 'x_13_3', '4': 'x_13_4'}, '14': {'1': 'x_14_1', '2': 'x_14_2', '3': 'x_14_3', '4': 'x_14_4'}, '15': {'1': 'x_15_1', '2': 'x_15_2', '3': 'x_15_3', '4': 'x_15_4'}, '16': {'1': 'x_16_1', '2': 'x_16_2', '3': 'x_16_3', '4': 'x_16_4'}, '17': {'1': 'x_17_1', '2': 'x_17_2', '3': 'x_17_3', '4': 'x_17_4'}, '18': {'1': 'x_18_1', '2': 'x_18_2', '3': 'x_18_3', '4': 'x_18_4'}, '19': {'1': 'x_19_1', '2': 'x_19_2', '3': 'x_19_3', '4': 'x_19_4'}, '20': {'1': 'x_20_1', '2': 'x_20_2', '3': 'x_20_3', '4': 'x_20_4'}, '21': {'1': 'x_21_1', '2': 'x_21_2', '3': 'x_21_3', '4': 'x_21_4'}, '22': {'1': 'x_22_1', '2': 'x_22_2', '3': 'x_22_3', '4': 'x_22_4'}, '23': {'1': 'x_23_1', '2': 'x_23_2', '3': 'x_23_3', '4': 'x_23_4'}}, 'var_rb_map': {'1': '2+32', '2': '9+14', '3': '14+31', '4': '14+32', '5': '15+35', '6': '21+24', '7': '23+26', '8': '24+25', '9': '25+26', '10': '26+27', '11': '27+28', '12': '28+29', '13': '28+41', '14': '29+30', '15': '30+31', '16': '31+37', '17': '32+33', '18': '33+34', '19': '33+37', '20': '34+35', '21': '37+38', '22': '38+39', '23': '38+40'}, 'rb_var_map': {'2+32': '1', '9+14': '2', '14+31': '3', '14+32': '4', '15+35': '5', '21+24': '6', '23+26': '7', '24+25': '8', '25+26': '9', '26+27': '10', '27+28': '11', '28+29': '12', '28+41': '13', '29+30': '14', '30+31': '15', '31+37': '16', '32+33': '17', '33+34': '18', '33+37': '19', '34+35': '20', '37+38': '21', '38+39': '22', '38+40': '23'}}\n",
      "finish save /tmp/qa_result.pickle\n",
      "_upload_result_json, bucket=amazon-braket-1a222675c751, key=annealer-experiment/c3d75163-222e-451b-898f-705956b068e6/qa_result.pickle\n",
      "dwave-qa save to s3 - c3d75163-222e-451b-898f-705956b068e6: None\n"
     ]
    }
   ],
   "source": [
    "# not create annealing task, only embedding logic\n",
    "qa_optimizer.embed()\n",
    "# create annealing task\n",
    "qa_optimize_result = qa_optimizer.fit()"
   ]
  },
  {
   "cell_type": "code",
   "execution_count": 20,
   "id": "bae92c76",
   "metadata": {},
   "outputs": [
    {
     "name": "stderr",
     "output_type": "stream",
     "text": [
      "INFO:root:task id is c3d75163-222e-451b-898f-705956b068e6\n"
     ]
    }
   ],
   "source": [
    "qa_task_id = qa_optimizer.get_task_id()\n",
    "logging.info(f\"task id is {qa_task_id}\")"
   ]
  },
  {
   "cell_type": "code",
   "execution_count": 21,
   "id": "72c36bec",
   "metadata": {},
   "outputs": [
    {
     "name": "stderr",
     "output_type": "stream",
     "text": [
      "INFO:root:dwave-sa run time 0.02351999282836914\n",
      "INFO:root:dwave-qa run time 5.408229112625122\n"
     ]
    }
   ],
   "source": [
    "logging.info(f\"dwave-sa run time {sa_optimize_result['time']}\")\n",
    "logging.info(f\"dwave-qa run time {qa_optimize_result['time']}\")"
   ]
  },
  {
   "cell_type": "markdown",
   "id": "fb1fc0b8",
   "metadata": {},
   "source": [
    "# Postprocess for evaluation"
   ]
  },
  {
   "cell_type": "markdown",
   "id": "79ada993",
   "metadata": {},
   "source": [
    "#### get time for qpu"
   ]
  },
  {
   "cell_type": "code",
   "execution_count": 26,
   "id": "8e777fbe",
   "metadata": {},
   "outputs": [
    {
     "name": "stdout",
     "output_type": "stream",
     "text": [
      "_load_raw_result\n",
      "load simulated annealer raw result\n",
      "MoleculeData.load()\n",
      "_init_mol_file\n",
      "_parse_model_info\n",
      "_parse_model_info() model_info = {'model_name': '1_4_300_200', 'rb_name': ['30+31'], 'var': {'1': {'1': 'x_1_1', '2': 'x_1_2', '3': 'x_1_3', '4': 'x_1_4'}, '2': {'1': 'x_2_1', '2': 'x_2_2', '3': 'x_2_3', '4': 'x_2_4'}, '3': {'1': 'x_3_1', '2': 'x_3_2', '3': 'x_3_3', '4': 'x_3_4'}, '4': {'1': 'x_4_1', '2': 'x_4_2', '3': 'x_4_3', '4': 'x_4_4'}, '5': {'1': 'x_5_1', '2': 'x_5_2', '3': 'x_5_3', '4': 'x_5_4'}, '6': {'1': 'x_6_1', '2': 'x_6_2', '3': 'x_6_3', '4': 'x_6_4'}, '7': {'1': 'x_7_1', '2': 'x_7_2', '3': 'x_7_3', '4': 'x_7_4'}, '8': {'1': 'x_8_1', '2': 'x_8_2', '3': 'x_8_3', '4': 'x_8_4'}, '9': {'1': 'x_9_1', '2': 'x_9_2', '3': 'x_9_3', '4': 'x_9_4'}, '10': {'1': 'x_10_1', '2': 'x_10_2', '3': 'x_10_3', '4': 'x_10_4'}, '11': {'1': 'x_11_1', '2': 'x_11_2', '3': 'x_11_3', '4': 'x_11_4'}, '12': {'1': 'x_12_1', '2': 'x_12_2', '3': 'x_12_3', '4': 'x_12_4'}, '13': {'1': 'x_13_1', '2': 'x_13_2', '3': 'x_13_3', '4': 'x_13_4'}, '14': {'1': 'x_14_1', '2': 'x_14_2', '3': 'x_14_3', '4': 'x_14_4'}, '15': {'1': 'x_15_1', '2': 'x_15_2', '3': 'x_15_3', '4': 'x_15_4'}, '16': {'1': 'x_16_1', '2': 'x_16_2', '3': 'x_16_3', '4': 'x_16_4'}, '17': {'1': 'x_17_1', '2': 'x_17_2', '3': 'x_17_3', '4': 'x_17_4'}, '18': {'1': 'x_18_1', '2': 'x_18_2', '3': 'x_18_3', '4': 'x_18_4'}, '19': {'1': 'x_19_1', '2': 'x_19_2', '3': 'x_19_3', '4': 'x_19_4'}, '20': {'1': 'x_20_1', '2': 'x_20_2', '3': 'x_20_3', '4': 'x_20_4'}, '21': {'1': 'x_21_1', '2': 'x_21_2', '3': 'x_21_3', '4': 'x_21_4'}, '22': {'1': 'x_22_1', '2': 'x_22_2', '3': 'x_22_3', '4': 'x_22_4'}, '23': {'1': 'x_23_1', '2': 'x_23_2', '3': 'x_23_3', '4': 'x_23_4'}}, 'var_rb_map': {'1': '2+32', '2': '9+14', '3': '14+31', '4': '14+32', '5': '15+35', '6': '21+24', '7': '23+26', '8': '24+25', '9': '25+26', '10': '26+27', '11': '27+28', '12': '28+29', '13': '28+41', '14': '29+30', '15': '30+31', '16': '31+37', '17': '32+33', '18': '33+34', '19': '33+37', '20': '34+35', '21': '37+38', '22': '38+39', '23': '38+40'}, 'rb_var_map': {'2+32': '1', '9+14': '2', '14+31': '3', '14+32': '4', '15+35': '5', '21+24': '6', '23+26': '7', '24+25': '8', '25+26': '9', '26+27': '10', '27+28': '11', '28+29': '12', '28+41': '13', '29+30': '14', '30+31': '15', '31+37': '16', '32+33': '17', '33+34': '18', '33+37': '19', '34+35': '20', '37+38': '21', '38+39': '22', '38+40': '23'}}\n",
      "valid var for this model is ['x_15_1', 'x_15_2', 'x_15_3', 'x_15_4']\n",
      "_init_parameters\n"
     ]
    },
    {
     "name": "stderr",
     "output_type": "stream",
     "text": [
      "INFO:root:time for dwave-sa: \n",
      "     local time is 0.02351999282836914\n"
     ]
    },
    {
     "name": "stdout",
     "output_type": "stream",
     "text": [
      "parse simulated annealer result\n",
      "sa only has local_time!\n"
     ]
    }
   ],
   "source": [
    "from utility.ResultProcess import ResultParser\n",
    "import time\n",
    "import logging\n",
    "\n",
    "timestamp = time.strftime(\"%Y%m%d-%H\")\n",
    "\n",
    "method = \"dwave-sa\"\n",
    "sa_param = {}\n",
    "sa_param[\"raw_path\"] = raw_path\n",
    "sa_param[\"data_path\"] = data_path\n",
    "\n",
    "sa_process_result = ResultParser(method, **sa_param)\n",
    "logging.debug(f\"{method} result is {sa_process_result.get_all_result()}\")\n",
    "\n",
    "local_time, _ , _, _= sa_process_result.get_time()\n",
    "\n",
    "logging.info(f\"time for {method}: \\n \\\n",
    "    local time is {local_time}\")"
   ]
  },
  {
   "cell_type": "code",
   "execution_count": 27,
   "id": "afac447c",
   "metadata": {},
   "outputs": [
    {
     "name": "stderr",
     "output_type": "stream",
     "text": [
      "INFO:root:!!!!!!!!!!!! found van der waals check fail at 9 and 67 with check: 2.9 v.s. real 2.7242024227285313\n",
      "INFO:root:!!!!!!!!!!!! found van der waals check fail at 10 and 29 with check: 3.4 v.s. real 3.3487103323518443\n",
      "INFO:root:!!!!!!!!!!!! found van der waals check fail at 10 and 64 with check: 2.9 v.s. real 2.535259872281341\n",
      "INFO:root:!!!!!!!!!!!! found van der waals check fail at 14 and 67 with check: 2.9 v.s. real 2.669994202240896\n",
      "INFO:root:!!!!!!!!!!!! found van der waals check fail at 29 and 49 with check: 2.9 v.s. real 2.649657957171076\n",
      "INFO:root:!!!!!!!!!!!! found van der waals check fail at 37 and 66 with check: 2.9 v.s. real 2.6543531415393846\n",
      "INFO:root:!!!!!!!!!!!! found van der waals check fail at 38 and 66 with check: 2.9 v.s. real 2.697112159328937\n"
     ]
    },
    {
     "name": "stdout",
     "output_type": "stream",
     "text": [
      "generate_optimize_pts()\n",
      "generate_optimize_pts model_info={'model_name': '1_4_300_200', 'rb_name': ['30+31'], 'var': {'1': {'1': 'x_1_1', '2': 'x_1_2', '3': 'x_1_3', '4': 'x_1_4'}, '2': {'1': 'x_2_1', '2': 'x_2_2', '3': 'x_2_3', '4': 'x_2_4'}, '3': {'1': 'x_3_1', '2': 'x_3_2', '3': 'x_3_3', '4': 'x_3_4'}, '4': {'1': 'x_4_1', '2': 'x_4_2', '3': 'x_4_3', '4': 'x_4_4'}, '5': {'1': 'x_5_1', '2': 'x_5_2', '3': 'x_5_3', '4': 'x_5_4'}, '6': {'1': 'x_6_1', '2': 'x_6_2', '3': 'x_6_3', '4': 'x_6_4'}, '7': {'1': 'x_7_1', '2': 'x_7_2', '3': 'x_7_3', '4': 'x_7_4'}, '8': {'1': 'x_8_1', '2': 'x_8_2', '3': 'x_8_3', '4': 'x_8_4'}, '9': {'1': 'x_9_1', '2': 'x_9_2', '3': 'x_9_3', '4': 'x_9_4'}, '10': {'1': 'x_10_1', '2': 'x_10_2', '3': 'x_10_3', '4': 'x_10_4'}, '11': {'1': 'x_11_1', '2': 'x_11_2', '3': 'x_11_3', '4': 'x_11_4'}, '12': {'1': 'x_12_1', '2': 'x_12_2', '3': 'x_12_3', '4': 'x_12_4'}, '13': {'1': 'x_13_1', '2': 'x_13_2', '3': 'x_13_3', '4': 'x_13_4'}, '14': {'1': 'x_14_1', '2': 'x_14_2', '3': 'x_14_3', '4': 'x_14_4'}, '15': {'1': 'x_15_1', '2': 'x_15_2', '3': 'x_15_3', '4': 'x_15_4'}, '16': {'1': 'x_16_1', '2': 'x_16_2', '3': 'x_16_3', '4': 'x_16_4'}, '17': {'1': 'x_17_1', '2': 'x_17_2', '3': 'x_17_3', '4': 'x_17_4'}, '18': {'1': 'x_18_1', '2': 'x_18_2', '3': 'x_18_3', '4': 'x_18_4'}, '19': {'1': 'x_19_1', '2': 'x_19_2', '3': 'x_19_3', '4': 'x_19_4'}, '20': {'1': 'x_20_1', '2': 'x_20_2', '3': 'x_20_3', '4': 'x_20_4'}, '21': {'1': 'x_21_1', '2': 'x_21_2', '3': 'x_21_3', '4': 'x_21_4'}, '22': {'1': 'x_22_1', '2': 'x_22_2', '3': 'x_22_3', '4': 'x_22_4'}, '23': {'1': 'x_23_1', '2': 'x_23_2', '3': 'x_23_3', '4': 'x_23_4'}}, 'var_rb_map': {'1': '2+32', '2': '9+14', '3': '14+31', '4': '14+32', '5': '15+35', '6': '21+24', '7': '23+26', '8': '24+25', '9': '25+26', '10': '26+27', '11': '27+28', '12': '28+29', '13': '28+41', '14': '29+30', '15': '30+31', '16': '31+37', '17': '32+33', '18': '33+34', '19': '33+37', '20': '34+35', '21': '37+38', '22': '38+39', '23': '38+40'}, 'rb_var_map': {'2+32': '1', '9+14': '2', '14+31': '3', '14+32': '4', '15+35': '5', '21+24': '6', '23+26': '7', '24+25': '8', '25+26': '9', '26+27': '10', '27+28': '11', '28+29': '12', '28+41': '13', '29+30': '14', '30+31': '15', '31+37': '16', '32+33': '17', '33+34': '18', '33+37': '19', '34+35': '20', '37+38': '21', '38+39': '22', '38+40': '23'}}\n",
      "x_15_3\n",
      "finish update optimize points for ['x_15_3']\n"
     ]
    },
    {
     "name": "stderr",
     "output_type": "stream",
     "text": [
      "INFO:root:!!!!!!!!!!!! found van der waals check fail at 49 and 64 with check: 2.4 v.s. real 1.663679602567754\n",
      "INFO:root:!!!!!!!!!!!! found van der waals check fail at 66 and 69 with check: 2.4 v.s. real 1.9756453629130912\n"
     ]
    },
    {
     "name": "stdout",
     "output_type": "stream",
     "text": [
      "save_mol_file 20211223-13\n",
      "finish save ./molecule-data/117_ideal_dwave-sa_20211223-13.mol2 and ./molecule-data/117_ideal_dwave-sa_20211223-13.json\n"
     ]
    },
    {
     "data": {
      "text/plain": [
       "['./molecule-data/117_ideal_dwave-sa_20211223-13.mol2',\n",
       " './molecule-data/117_ideal_dwave-sa_20211223-13.json']"
      ]
     },
     "execution_count": 27,
     "metadata": {},
     "output_type": "execute_result"
    }
   ],
   "source": [
    "sa_atom_pos_data = sa_process_result.generate_optimize_pts()\n",
    "# save unfold file for visualization and parameters for experiment: 1. volume value 2. relative improvement\n",
    "sa_process_result.save_mol_file(f\"{timestamp}\")"
   ]
  },
  {
   "cell_type": "code",
   "execution_count": 28,
   "id": "7b52641b",
   "metadata": {},
   "outputs": [
    {
     "data": {
      "text/plain": [
       "{'volume': {'initial': 19926.786975170362,\n",
       "  'optimize': 19752.58165516736,\n",
       "  'gain': 0.9912577316041934}}"
      ]
     },
     "execution_count": 28,
     "metadata": {},
     "output_type": "execute_result"
    }
   ],
   "source": [
    "sa_process_result.parameters"
   ]
  },
  {
   "cell_type": "code",
   "execution_count": 29,
   "id": "3701eebe",
   "metadata": {},
   "outputs": [
    {
     "name": "stdout",
     "output_type": "stream",
     "text": [
      "_load_raw_result\n",
      "load quantum annealer raw result\n",
      "_read_result_obj\n",
      "_read_result_obj: annealer-experiment/c3d75163-222e-451b-898f-705956b068e6/qa_result.pickle\n",
      "MoleculeData.load()\n",
      "_init_mol_file\n",
      "_parse_model_info\n",
      "_parse_model_info() model_info = {'model_name': '1_4_300_200', 'rb_name': ['30+31'], 'var': {'1': {'1': 'x_1_1', '2': 'x_1_2', '3': 'x_1_3', '4': 'x_1_4'}, '2': {'1': 'x_2_1', '2': 'x_2_2', '3': 'x_2_3', '4': 'x_2_4'}, '3': {'1': 'x_3_1', '2': 'x_3_2', '3': 'x_3_3', '4': 'x_3_4'}, '4': {'1': 'x_4_1', '2': 'x_4_2', '3': 'x_4_3', '4': 'x_4_4'}, '5': {'1': 'x_5_1', '2': 'x_5_2', '3': 'x_5_3', '4': 'x_5_4'}, '6': {'1': 'x_6_1', '2': 'x_6_2', '3': 'x_6_3', '4': 'x_6_4'}, '7': {'1': 'x_7_1', '2': 'x_7_2', '3': 'x_7_3', '4': 'x_7_4'}, '8': {'1': 'x_8_1', '2': 'x_8_2', '3': 'x_8_3', '4': 'x_8_4'}, '9': {'1': 'x_9_1', '2': 'x_9_2', '3': 'x_9_3', '4': 'x_9_4'}, '10': {'1': 'x_10_1', '2': 'x_10_2', '3': 'x_10_3', '4': 'x_10_4'}, '11': {'1': 'x_11_1', '2': 'x_11_2', '3': 'x_11_3', '4': 'x_11_4'}, '12': {'1': 'x_12_1', '2': 'x_12_2', '3': 'x_12_3', '4': 'x_12_4'}, '13': {'1': 'x_13_1', '2': 'x_13_2', '3': 'x_13_3', '4': 'x_13_4'}, '14': {'1': 'x_14_1', '2': 'x_14_2', '3': 'x_14_3', '4': 'x_14_4'}, '15': {'1': 'x_15_1', '2': 'x_15_2', '3': 'x_15_3', '4': 'x_15_4'}, '16': {'1': 'x_16_1', '2': 'x_16_2', '3': 'x_16_3', '4': 'x_16_4'}, '17': {'1': 'x_17_1', '2': 'x_17_2', '3': 'x_17_3', '4': 'x_17_4'}, '18': {'1': 'x_18_1', '2': 'x_18_2', '3': 'x_18_3', '4': 'x_18_4'}, '19': {'1': 'x_19_1', '2': 'x_19_2', '3': 'x_19_3', '4': 'x_19_4'}, '20': {'1': 'x_20_1', '2': 'x_20_2', '3': 'x_20_3', '4': 'x_20_4'}, '21': {'1': 'x_21_1', '2': 'x_21_2', '3': 'x_21_3', '4': 'x_21_4'}, '22': {'1': 'x_22_1', '2': 'x_22_2', '3': 'x_22_3', '4': 'x_22_4'}, '23': {'1': 'x_23_1', '2': 'x_23_2', '3': 'x_23_3', '4': 'x_23_4'}}, 'var_rb_map': {'1': '2+32', '2': '9+14', '3': '14+31', '4': '14+32', '5': '15+35', '6': '21+24', '7': '23+26', '8': '24+25', '9': '25+26', '10': '26+27', '11': '27+28', '12': '28+29', '13': '28+41', '14': '29+30', '15': '30+31', '16': '31+37', '17': '32+33', '18': '33+34', '19': '33+37', '20': '34+35', '21': '37+38', '22': '38+39', '23': '38+40'}, 'rb_var_map': {'2+32': '1', '9+14': '2', '14+31': '3', '14+32': '4', '15+35': '5', '21+24': '6', '23+26': '7', '24+25': '8', '25+26': '9', '26+27': '10', '27+28': '11', '28+29': '12', '28+41': '13', '29+30': '14', '30+31': '15', '31+37': '16', '32+33': '17', '33+34': '18', '33+37': '19', '34+35': '20', '37+38': '21', '38+39': '22', '38+40': '23'}}\n",
      "valid var for this model is ['x_15_1', 'x_15_2', 'x_15_3', 'x_15_4']\n",
      "_init_parameters\n",
      "parse quantum annealer result\n",
      "_read_result_obj\n",
      "_read_result_obj: annealer-experiment/c3d75163-222e-451b-898f-705956b068e6/results.json\n"
     ]
    },
    {
     "name": "stderr",
     "output_type": "stream",
     "text": [
      "INFO:root:time for dwave-qa: \n",
      "     local time is 5.408229112625122,\n",
      "     task time is 1.313, \n",
      "     qpu total time is 0.023824, \n",
      "     qpu access time is 0.008564\n"
     ]
    }
   ],
   "source": [
    "method = \"dwave-qa\"\n",
    "qa_param = {}\n",
    "qa_param[\"bucket\"] = s3_bucket\n",
    "qa_param[\"prefix\"] = prefix\n",
    "qa_param[\"task_id\"] = qa_task_id\n",
    "qa_param[\"raw_path\"] = raw_path\n",
    "qa_param[\"data_path\"] = data_path\n",
    "\n",
    "qa_process_result = ResultParser(method, **qa_param)\n",
    "logging.debug(f\"{method} result is {qa_process_result.get_all_result()}\")\n",
    "\n",
    "local_time, task_time, total_time, access_time = qa_process_result.get_time()\n",
    "\n",
    "logging.info(f\"time for {method}: \\n \\\n",
    "    local time is {local_time},\\n \\\n",
    "    task time is {task_time}, \\n \\\n",
    "    qpu total time is {total_time}, \\n \\\n",
    "    qpu access time is {access_time}\")"
   ]
  },
  {
   "cell_type": "markdown",
   "id": "7b55dcc2",
   "metadata": {},
   "source": [
    "#### parse results"
   ]
  },
  {
   "cell_type": "code",
   "execution_count": 30,
   "id": "5858c43e",
   "metadata": {},
   "outputs": [
    {
     "name": "stderr",
     "output_type": "stream",
     "text": [
      "INFO:root:!!!!!!!!!!!! found van der waals check fail at 9 and 67 with check: 2.9 v.s. real 2.7242024227285313\n",
      "INFO:root:!!!!!!!!!!!! found van der waals check fail at 10 and 29 with check: 3.4 v.s. real 3.3487103323518443\n",
      "INFO:root:!!!!!!!!!!!! found van der waals check fail at 10 and 64 with check: 2.9 v.s. real 2.535259872281341\n",
      "INFO:root:!!!!!!!!!!!! found van der waals check fail at 14 and 67 with check: 2.9 v.s. real 2.669994202240896\n",
      "INFO:root:!!!!!!!!!!!! found van der waals check fail at 29 and 49 with check: 2.9 v.s. real 2.649657957171076\n",
      "INFO:root:!!!!!!!!!!!! found van der waals check fail at 37 and 66 with check: 2.9 v.s. real 2.6543531415393846\n",
      "INFO:root:!!!!!!!!!!!! found van der waals check fail at 38 and 66 with check: 2.9 v.s. real 2.697112159328937\n"
     ]
    },
    {
     "name": "stdout",
     "output_type": "stream",
     "text": [
      "generate_optimize_pts()\n",
      "generate_optimize_pts model_info={'model_name': '1_4_300_200', 'rb_name': ['30+31'], 'var': {'1': {'1': 'x_1_1', '2': 'x_1_2', '3': 'x_1_3', '4': 'x_1_4'}, '2': {'1': 'x_2_1', '2': 'x_2_2', '3': 'x_2_3', '4': 'x_2_4'}, '3': {'1': 'x_3_1', '2': 'x_3_2', '3': 'x_3_3', '4': 'x_3_4'}, '4': {'1': 'x_4_1', '2': 'x_4_2', '3': 'x_4_3', '4': 'x_4_4'}, '5': {'1': 'x_5_1', '2': 'x_5_2', '3': 'x_5_3', '4': 'x_5_4'}, '6': {'1': 'x_6_1', '2': 'x_6_2', '3': 'x_6_3', '4': 'x_6_4'}, '7': {'1': 'x_7_1', '2': 'x_7_2', '3': 'x_7_3', '4': 'x_7_4'}, '8': {'1': 'x_8_1', '2': 'x_8_2', '3': 'x_8_3', '4': 'x_8_4'}, '9': {'1': 'x_9_1', '2': 'x_9_2', '3': 'x_9_3', '4': 'x_9_4'}, '10': {'1': 'x_10_1', '2': 'x_10_2', '3': 'x_10_3', '4': 'x_10_4'}, '11': {'1': 'x_11_1', '2': 'x_11_2', '3': 'x_11_3', '4': 'x_11_4'}, '12': {'1': 'x_12_1', '2': 'x_12_2', '3': 'x_12_3', '4': 'x_12_4'}, '13': {'1': 'x_13_1', '2': 'x_13_2', '3': 'x_13_3', '4': 'x_13_4'}, '14': {'1': 'x_14_1', '2': 'x_14_2', '3': 'x_14_3', '4': 'x_14_4'}, '15': {'1': 'x_15_1', '2': 'x_15_2', '3': 'x_15_3', '4': 'x_15_4'}, '16': {'1': 'x_16_1', '2': 'x_16_2', '3': 'x_16_3', '4': 'x_16_4'}, '17': {'1': 'x_17_1', '2': 'x_17_2', '3': 'x_17_3', '4': 'x_17_4'}, '18': {'1': 'x_18_1', '2': 'x_18_2', '3': 'x_18_3', '4': 'x_18_4'}, '19': {'1': 'x_19_1', '2': 'x_19_2', '3': 'x_19_3', '4': 'x_19_4'}, '20': {'1': 'x_20_1', '2': 'x_20_2', '3': 'x_20_3', '4': 'x_20_4'}, '21': {'1': 'x_21_1', '2': 'x_21_2', '3': 'x_21_3', '4': 'x_21_4'}, '22': {'1': 'x_22_1', '2': 'x_22_2', '3': 'x_22_3', '4': 'x_22_4'}, '23': {'1': 'x_23_1', '2': 'x_23_2', '3': 'x_23_3', '4': 'x_23_4'}}, 'var_rb_map': {'1': '2+32', '2': '9+14', '3': '14+31', '4': '14+32', '5': '15+35', '6': '21+24', '7': '23+26', '8': '24+25', '9': '25+26', '10': '26+27', '11': '27+28', '12': '28+29', '13': '28+41', '14': '29+30', '15': '30+31', '16': '31+37', '17': '32+33', '18': '33+34', '19': '33+37', '20': '34+35', '21': '37+38', '22': '38+39', '23': '38+40'}, 'rb_var_map': {'2+32': '1', '9+14': '2', '14+31': '3', '14+32': '4', '15+35': '5', '21+24': '6', '23+26': '7', '24+25': '8', '25+26': '9', '26+27': '10', '27+28': '11', '28+29': '12', '28+41': '13', '29+30': '14', '30+31': '15', '31+37': '16', '32+33': '17', '33+34': '18', '33+37': '19', '34+35': '20', '37+38': '21', '38+39': '22', '38+40': '23'}}\n",
      "x_15_3\n",
      "finish update optimize points for ['x_15_3']\n"
     ]
    },
    {
     "name": "stderr",
     "output_type": "stream",
     "text": [
      "INFO:root:!!!!!!!!!!!! found van der waals check fail at 49 and 64 with check: 2.4 v.s. real 1.663679602567754\n",
      "INFO:root:!!!!!!!!!!!! found van der waals check fail at 66 and 69 with check: 2.4 v.s. real 1.9756453629130912\n"
     ]
    },
    {
     "name": "stdout",
     "output_type": "stream",
     "text": [
      "save_mol_file 20211223-13\n",
      "finish save ./molecule-data/117_ideal_dwave-qa_20211223-13.mol2 and ./molecule-data/117_ideal_dwave-qa_20211223-13.json\n"
     ]
    },
    {
     "data": {
      "text/plain": [
       "['./molecule-data/117_ideal_dwave-qa_20211223-13.mol2',\n",
       " './molecule-data/117_ideal_dwave-qa_20211223-13.json']"
      ]
     },
     "execution_count": 30,
     "metadata": {},
     "output_type": "execute_result"
    }
   ],
   "source": [
    "qa_atom_pos_data = qa_process_result.generate_optimize_pts()\n",
    "# save unfold file for visualization and parameters for experiment: 1. volume value 2. relative improvement\n",
    "qa_process_result.save_mol_file(f\"{timestamp}\")"
   ]
  },
  {
   "cell_type": "code",
   "execution_count": 31,
   "id": "e1d4be9a",
   "metadata": {},
   "outputs": [
    {
     "data": {
      "text/plain": [
       "{'volume': {'initial': 19926.786975170362,\n",
       "  'optimize': 19752.58165516736,\n",
       "  'gain': 0.9912577316041934}}"
      ]
     },
     "execution_count": 31,
     "metadata": {},
     "output_type": "execute_result"
    }
   ],
   "source": [
    "qa_process_result.parameters"
   ]
  },
  {
   "cell_type": "markdown",
   "id": "380557b0",
   "metadata": {},
   "source": [
    "### draft place"
   ]
  },
  {
   "cell_type": "code",
   "execution_count": 82,
   "id": "ce483959",
   "metadata": {},
   "outputs": [
    {
     "data": {
      "text/plain": [
       "datetime.time"
      ]
     },
     "execution_count": 82,
     "metadata": {},
     "output_type": "execute_result"
    }
   ],
   "source": [
    "type(device.properties.service.executionWindows[0].windowStartHour)"
   ]
  },
  {
   "cell_type": "code",
   "execution_count": 9,
   "id": "9dd82a61",
   "metadata": {},
   "outputs": [
    {
     "data": {
      "text/plain": [
       "1.3862867308028306"
      ]
     },
     "execution_count": 9,
     "metadata": {},
     "output_type": "execute_result"
    }
   ],
   "source": [
    "import numpy as np\n",
    "a = [-0.9578,-2.0342,0.0079]\n",
    "b = [0.3270,-2.5523,0.0594]\n",
    "def calc_distance_between_pts(pts1, pts2):\n",
    "    pts1_middle = np.array(tuple(list(np.mean(np.array(pts1), axis=0))))\n",
    "    pts2_middle = np.array(tuple(list(np.mean(np.array(pts2), axis=0))))\n",
    "    return np.linalg.norm(pts1_middle-pts2_middle)\n",
    "\n",
    "calc_distance_between_pts([a],[b])"
   ]
  },
  {
   "cell_type": "code",
   "execution_count": 80,
   "id": "c6887d74",
   "metadata": {},
   "outputs": [
    {
     "name": "stdout",
     "output_type": "stream",
     "text": [
      "next available time 4:34:11\n"
     ]
    }
   ],
   "source": [
    "import time\n",
    "gmt = time.gmtime(time.time())\n",
    "\n",
    "diff = device.properties.service.executionWindows[0].windowStartHour.hour*60*60-gmt.tm_hour*60*60-gmt.tm_min*60-gmt.tm_sec\n",
    "\n",
    "hour = diff//3600\n",
    "\n",
    "minute = (diff - hour*60*60)//60\n",
    "\n",
    "sec = diff - hour*60*60 - minute*60\n",
    "\n",
    "print(\"next available time {}:{}:{}\".format(hour, minute, sec))"
   ]
  },
  {
   "cell_type": "code",
   "execution_count": 75,
   "id": "1c52bb64",
   "metadata": {},
   "outputs": [
    {
     "data": {
      "text/plain": [
       "datetime.time(13, 0)"
      ]
     },
     "execution_count": 75,
     "metadata": {},
     "output_type": "execute_result"
    }
   ],
   "source": [
    "device.properties.service.executionWindows[0].windowStartHour"
   ]
  },
  {
   "cell_type": "code",
   "execution_count": 287,
   "id": "b4af0cae",
   "metadata": {},
   "outputs": [],
   "source": [
    "import datetime\n",
    "device = AwsDevice(\"arn:aws:braket:::device/qpu/ionq/ionQdevice\")\n",
    "exec_day = device.properties.service.executionWindows[0].executionDay.value\n",
    "window_start_time = device.properties.service.executionWindows[0].windowStartHour\n",
    "timedelta_hour = datetime.timedelta(hours=window_start_time.hour, minutes=window_start_time.minute)\n",
    "current_time = datetime.datetime.utcnow()\n",
    "\n",
    "diff = 0\n",
    "today_day = current_time.weekday()\n",
    "\n",
    "if exec_day == 'Weekdays':\n",
    "    if today_day > 4:\n",
    "        diff = 7 - today_day\n",
    "elif exec_day == 'Weekend':\n",
    "    if today_day < 5:\n",
    "        diff = 5 - today_day\n",
    "\n",
    "timedelta = datetime.timedelta(diff)\n",
    "\n",
    "start_time = datetime.datetime(current_time.year, current_time.month, current_time.day) + timedelta\n",
    "\n",
    "start_time = start_time + timedelta_hour"
   ]
  },
  {
   "cell_type": "code",
   "execution_count": 288,
   "id": "9a0f1502",
   "metadata": {},
   "outputs": [
    {
     "data": {
      "text/plain": [
       "datetime.datetime(2021, 11, 22, 1, 51, 42, 975369)"
      ]
     },
     "execution_count": 288,
     "metadata": {},
     "output_type": "execute_result"
    }
   ],
   "source": [
    "current_time"
   ]
  },
  {
   "cell_type": "code",
   "execution_count": 289,
   "id": "241e62ab",
   "metadata": {},
   "outputs": [
    {
     "data": {
      "text/plain": [
       "1637545902975.369"
      ]
     },
     "execution_count": 289,
     "metadata": {},
     "output_type": "execute_result"
    }
   ],
   "source": [
    "current_time.timestamp()*1000"
   ]
  },
  {
   "cell_type": "code",
   "execution_count": 259,
   "id": "7762d5bf",
   "metadata": {},
   "outputs": [
    {
     "name": "stdout",
     "output_type": "stream",
     "text": [
      "next available time 0 days 4:55:2\n"
     ]
    }
   ],
   "source": [
    "delta = start_time - current_time\n",
    "\n",
    "day = delta.days\n",
    "\n",
    "hour = delta.seconds//3600\n",
    "\n",
    "minute = (delta.seconds - hour*60*60)//60\n",
    "\n",
    "sec = delta.seconds - hour*60*60 - minute*60\n",
    "\n",
    "print(\"next available time {} days {}:{}:{}\".format(day, hour, minute, sec))"
   ]
  },
  {
   "cell_type": "code",
   "execution_count": 304,
   "id": "34cec112",
   "metadata": {},
   "outputs": [
    {
     "name": "stdout",
     "output_type": "stream",
     "text": [
      "executionDay=<ExecutionDay.WEEKDAYS: 'Weekdays'> windowStartHour=datetime.time(13, 0) windowEndHour=datetime.time(2, 0)\n",
      "Weekdays\n",
      "0\n",
      "02:00:00\n"
     ]
    }
   ],
   "source": [
    "window = device.properties.service.executionWindows[0]\n",
    "print(window)\n",
    "print(window.executionDay.value)\n",
    "print(window.windowStartHour.minute)\n",
    "print(window.windowEndHour)"
   ]
  },
  {
   "cell_type": "code",
   "execution_count": 13,
   "id": "a9303aac",
   "metadata": {},
   "outputs": [],
   "source": [
    "class AwsDeviceTest:\n",
    "    def __init__(self, device):\n",
    "        self.__properties__ = device.properties\n",
    "        self._status = device.status\n",
    "    @staticmethod\n",
    "    def _splitWindow(window):\n",
    "        start_hour = window.windowStartHour.hour\n",
    "        start_min = window.windowStartHour.minute\n",
    "        end_hour = window.windowEndHour.hour\n",
    "        end_min = window.windowEndHour.minute\n",
    "        \n",
    "        return start_hour, start_min, end_hour, end_min\n",
    "    \n",
    "    def _createTimeRange(date, window, available_days):\n",
    "        TWENTY_FOUR_HOURS_IN_MILLISECONDS = 86400000\n",
    "        # hour/min string -> numbers\n",
    "        start_hour, start_min, end_hour, end_min = AwsDeviceTest._splitWindow(window)\n",
    "        \n",
    "        time_ranges = []\n",
    "        \n",
    "        for day in available_days:\n",
    "            # Set the start and end times to be on the same day as the current time, then shift them to there correct day using milliseconds offset\n",
    "            # Shifting after converting to milliseconds is much easier than dealing with calendar dates \n",
    "            start_utc = datetime.datetime(date.year, date.month, date.day, start_hour, start_min, 0).timestamp()*1000\n",
    "            end_utc = datetime.datetime(date.year, date.month, date.day, end_hour, end_min, 0).timestamp()*1000\n",
    "            \n",
    "            start_utc = start_utc + TWENTY_FOUR_HOURS_IN_MILLISECONDS * (day - date.weekday())\n",
    "            end_utc = end_utc + TWENTY_FOUR_HOURS_IN_MILLISECONDS * (day - date.weekday())\n",
    "            \n",
    "            if start_utc > end_utc:\n",
    "                # If the time wraps to the next day and the day is Sunday(6) we need to wrap to Monday(0) so zero out the current weekday \n",
    "                if (day == 6):\n",
    "                    wrap_start_utc = wrap_start_utc + TWENTY_FOUR_HOURS_IN_MILLISECONDS * (day - 7 - date.weekday())\n",
    "                    wrap_end_utc = wrap_end_utc + TWENTY_FOUR_HOURS_IN_MILLISECONDS * (day - 6 - date.weekday())\n",
    "                    \n",
    "                    time_ranges.insert(0, [wrap_start_utc, wrap_end_utc])\n",
    "                end_utc = end_utc + TWENTY_FOUR_HOURS_IN_MILLISECONDS\n",
    "            \n",
    "            time_ranges.append([start_utc, end_utc])\n",
    "        \n",
    "        return time_ranges\n",
    "    \n",
    "    def _getTimeDifference(date, window, available_days):\n",
    "        # We need to get the available windows in the current week and the week after incase the next available day is a week away.\n",
    "        # For example, if the current time 6 pm on Friday and the range is every Friday from 1pm-5pm, then the next range will be a next Friday at 1pm\n",
    "        # TODO\n",
    "\n",
    "        # Get current time in milliseconds\n",
    "        current_time = date.timestamp() * 1000\n",
    "        # Create an array of possible available ranges\n",
    "        time_ranges = AwsDeviceTest._createTimeRange(date, window, available_days)\n",
    "        \n",
    "        for time_range in time_ranges:\n",
    "            # If the current time is in the range then return 0\n",
    "            if current_time > time_range[0] and current_time < time_range[1]:\n",
    "                return 0\n",
    "            # The ranges will be in chronological order the current time will always be either in a range or less than one\n",
    "            elif current_time < time_range[0]:\n",
    "                return time_range[0] - current_time\n",
    "\n",
    "    @staticmethod\n",
    "    def next_available_time(self) -> int:\n",
    "        \"\"\"\n",
    "        Get the next available time in seconds. If the device is offline or retired, \n",
    "        The return value is -1\n",
    "\n",
    "        Examples:\n",
    "            >>> next_time_in_seconds = AwsDevice.next_available_time()\n",
    "\n",
    "        Returns:\n",
    "            int : next available time in seconds\n",
    "        \"\"\"\n",
    "        # refresh to get the recent meta data\n",
    "        # self._populate_properties(self._aws_session)\n",
    "        DaysEnum = {\n",
    "            'Sunday': 6,\n",
    "            'Monday': 0,\n",
    "            'Tuesday': 1,\n",
    "            'Wednesday': 2,\n",
    "            'Thursday': 3,\n",
    "            'Friday': 4,\n",
    "            'Saturday': 5\n",
    "            }\n",
    "            \n",
    "        if self._status in ['OFFLINE', 'RETIRED']:\n",
    "            # the device is not online\n",
    "            return -1\n",
    "            \n",
    "        windows = self._properties.service.executionWindows\n",
    "        \n",
    "        # minimum time is 20 ms\n",
    "        min_time = None\n",
    "        calc_time = 0\n",
    "        \n",
    "        date = datetime.datetime.utcnow()\n",
    "\n",
    "        for window in windows:\n",
    "            exec_day = window.executionDay.value\n",
    "            # \"Everyday\" | \"Weekdays\" | \"Weekend\" | \"Monday\" | \"Tuesday\" | \"Wednesday\" | \"Thursday\" | \"Friday\" | \"Saturday\" | \"Sunday\"\n",
    "            if exec_day == 'Everyday':\n",
    "                calc_time = AwsDevice._getTimeDifference(date, window, range(0,7))\n",
    "            elif exec_day == 'Weekdays':\n",
    "                calc_time = AwsDevice._getTimeDifference(date, window, range(0,6))\n",
    "            elif exec_day == 'Weekend':\n",
    "                calc_time = AwsDevice._getTimeDifference(date, window, [5,6])\n",
    "            else:\n",
    "                calc_time = AwsDevice._getTimeDifference(date, window, [DaysEnum[exec_day]])\n",
    "        \n",
    "        if (min_time == None or calc_time < min_time):\n",
    "            min_time = calc_time\n",
    "        if min_time == None:\n",
    "            return 0\n",
    "        else:\n",
    "            return min_time/1000."
   ]
  },
  {
   "cell_type": "code",
   "execution_count": 14,
   "id": "67ec6429",
   "metadata": {},
   "outputs": [
    {
     "name": "stderr",
     "output_type": "stream",
     "text": [
      "INFO:botocore.credentials:Found credentials in shared credentials file: ~/.aws/credentials\n",
      "INFO:botocore.credentials:Found credentials in shared credentials file: ~/.aws/credentials\n"
     ]
    },
    {
     "ename": "TypeError",
     "evalue": "next_available_time() missing 1 required positional argument: 'self'",
     "output_type": "error",
     "traceback": [
      "\u001b[0;31m---------------------------------------------------------------------------\u001b[0m",
      "\u001b[0;31mTypeError\u001b[0m                                 Traceback (most recent call last)",
      "\u001b[0;32m/var/folders/1h/djn4snhd2jd073ngq8cy0f000000gs/T/ipykernel_31678/1673975123.py\u001b[0m in \u001b[0;36m<module>\u001b[0;34m\u001b[0m\n\u001b[1;32m     13\u001b[0m \u001b[0mawsdevice\u001b[0m \u001b[0;34m=\u001b[0m \u001b[0mAwsDeviceTest\u001b[0m\u001b[0;34m(\u001b[0m\u001b[0mdevice\u001b[0m\u001b[0;34m)\u001b[0m\u001b[0;34m\u001b[0m\u001b[0;34m\u001b[0m\u001b[0m\n\u001b[1;32m     14\u001b[0m \u001b[0;34m\u001b[0m\u001b[0m\n\u001b[0;32m---> 15\u001b[0;31m \u001b[0mmin_time\u001b[0m \u001b[0;34m=\u001b[0m \u001b[0mawsdevice\u001b[0m\u001b[0;34m.\u001b[0m\u001b[0mnext_available_time\u001b[0m\u001b[0;34m(\u001b[0m\u001b[0;34m)\u001b[0m\u001b[0;34m\u001b[0m\u001b[0;34m\u001b[0m\u001b[0m\n\u001b[0m\u001b[1;32m     16\u001b[0m \u001b[0;34m\u001b[0m\u001b[0m\n\u001b[1;32m     17\u001b[0m \u001b[0mhour\u001b[0m \u001b[0;34m=\u001b[0m \u001b[0mmin_time\u001b[0m\u001b[0;34m//\u001b[0m\u001b[0;36m3600\u001b[0m\u001b[0;34m\u001b[0m\u001b[0;34m\u001b[0m\u001b[0m\n",
      "\u001b[0;31mTypeError\u001b[0m: next_available_time() missing 1 required positional argument: 'self'"
     ]
    }
   ],
   "source": [
    "from braket.aws import AwsDevice\n",
    "import datetime\n",
    "device = AwsDevice(\"arn:aws:braket:::device/qpu/d-wave/Advantage_system4\")\n",
    "# device = AwsDevice(\"arn:aws:braket:::device/qpu/d-wave/Advantage_system1\")\n",
    "# device = AwsDevice(\"arn:aws:braket:::device/qpu/d-wave/DW_2000Q_6\")\n",
    "# device = AwsDevice(\"arn:aws:braket:::device/qpu/ionq/ionQdevice\")\n",
    "# device = AwsDevice(\"arn:aws:braket:::device/qpu/rigetti/Aspen-8\")\n",
    "# device = AwsDevice(\"arn:aws:braket:::device/qpu/rigetti/Aspen-9\")\n",
    "# device = AwsDevice(\"arn:aws:braket:::device/qpu/rigetti/Aspen-10\")\n",
    "# device = AwsDevice(\"arn:aws:braket:::device/quantum-simulator/amazon/sv1\")\n",
    "# device = AwsDevice(\"arn:aws:braket:::device/quantum-simulator/amazon/tn1\")\n",
    "# device = AwsDevice(\"arn:aws:braket:::device/quantum-simulator/amazon/dm1\")\n",
    "awsdevice = AwsDeviceTest(device)\n",
    "\n",
    "min_time = awsdevice.next_available_time()\n",
    "\n",
    "hour = min_time//3600\n",
    "\n",
    "minute = (min_time - hour*60*60)//60\n",
    "\n",
    "sec = min_time - hour*60*60 - minute*60\n",
    "\n",
    "print(\"next available time {}:{}:{}\".format(hour, minute, sec))\n"
   ]
  },
  {
   "cell_type": "code",
   "execution_count": 17,
   "id": "09ba695b",
   "metadata": {},
   "outputs": [
    {
     "ename": "TypeError",
     "evalue": "next_available_time() missing 1 required positional argument: 'self'",
     "output_type": "error",
     "traceback": [
      "\u001b[0;31m---------------------------------------------------------------------------\u001b[0m",
      "\u001b[0;31mTypeError\u001b[0m                                 Traceback (most recent call last)",
      "\u001b[0;32m/var/folders/1h/djn4snhd2jd073ngq8cy0f000000gs/T/ipykernel_31678/1944583226.py\u001b[0m in \u001b[0;36m<module>\u001b[0;34m\u001b[0m\n\u001b[1;32m      1\u001b[0m \u001b[0mawsdevice\u001b[0m \u001b[0;34m=\u001b[0m \u001b[0mAwsDeviceTest\u001b[0m\u001b[0;34m(\u001b[0m\u001b[0mdevice\u001b[0m\u001b[0;34m)\u001b[0m\u001b[0;34m\u001b[0m\u001b[0;34m\u001b[0m\u001b[0m\n\u001b[0;32m----> 2\u001b[0;31m \u001b[0mawsdevice\u001b[0m\u001b[0;34m.\u001b[0m\u001b[0mnext_available_time\u001b[0m\u001b[0;34m(\u001b[0m\u001b[0;34m)\u001b[0m\u001b[0;34m\u001b[0m\u001b[0;34m\u001b[0m\u001b[0m\n\u001b[0m",
      "\u001b[0;31mTypeError\u001b[0m: next_available_time() missing 1 required positional argument: 'self'"
     ]
    }
   ],
   "source": [
    "awsdevice = AwsDeviceTest(device)\n",
    "awsdevice.next_available_time()"
   ]
  },
  {
   "cell_type": "code",
   "execution_count": 382,
   "id": "0d110504",
   "metadata": {},
   "outputs": [
    {
     "name": "stdout",
     "output_type": "stream",
     "text": [
      "calc time 0\n",
      "next available time 0.0:0.0:0.0\n"
     ]
    }
   ],
   "source": [
    "device = AwsDevice(\"arn:aws:braket:::device/qpu/d-wave/DW_2000Q_6\")\n",
    "min_time = getNextAvailable(device)\n",
    "\n",
    "hour = min_time//3600\n",
    "\n",
    "minute = (min_time - hour*60*60)//60\n",
    "\n",
    "sec = min_time - hour*60*60 - minute*60\n",
    "\n",
    "print(\"next available time {}:{}:{}\".format(hour, minute, sec))"
   ]
  },
  {
   "cell_type": "code",
   "execution_count": 366,
   "id": "d90e7db5",
   "metadata": {},
   "outputs": [
    {
     "data": {
      "text/plain": [
       "DeviceExecutionWindow(executionDay=<ExecutionDay.WEEKDAYS: 'Weekdays'>, windowStartHour=datetime.time(13, 0), windowEndHour=datetime.time(2, 0))"
      ]
     },
     "execution_count": 366,
     "metadata": {},
     "output_type": "execute_result"
    }
   ],
   "source": [
    "device.properties.service.executionWindows[0]"
   ]
  },
  {
   "cell_type": "code",
   "execution_count": 346,
   "id": "cbf0ef0e",
   "metadata": {},
   "outputs": [],
   "source": [
    "date = datetime.datetime.utcnow()"
   ]
  },
  {
   "cell_type": "code",
   "execution_count": 352,
   "id": "218ef2ff",
   "metadata": {},
   "outputs": [
    {
     "data": {
      "text/plain": [
       "0"
      ]
     },
     "execution_count": 352,
     "metadata": {},
     "output_type": "execute_result"
    }
   ],
   "source": [
    "start_hour = window.windowStartHour.hour\n",
    "start_min = window.windowStartHour.minute\n",
    "end_hour = window.windowEndHour.hour\n",
    "end_min = window.windowEndHour.minute\n",
    "\n",
    "start_utc = datetime.datetime(date.year, date.month, date.day, start_hour, start_min, 0)\n",
    "end_utc = datetime.datetime(date.year, date.month, date.day, end_hour, end_min, 0)\n",
    "start_utc.weekday()"
   ]
  },
  {
   "cell_type": "code",
   "execution_count": 257,
   "id": "0a49c0a7",
   "metadata": {},
   "outputs": [
    {
     "data": {
      "text/plain": [
       "4"
      ]
     },
     "execution_count": 257,
     "metadata": {},
     "output_type": "execute_result"
    }
   ],
   "source": [
    "today_day"
   ]
  },
  {
   "cell_type": "code",
   "execution_count": 102,
   "id": "0ff734f8",
   "metadata": {},
   "outputs": [
    {
     "data": {
      "text/plain": [
       "datetime.timedelta(days=18949, seconds=31654, microseconds=708438)"
      ]
     },
     "execution_count": 102,
     "metadata": {},
     "output_type": "execute_result"
    }
   ],
   "source": [
    "import datetime\n",
    "\n",
    "a = datetime.datetime.utcnow()\n",
    "b = datetime.datetime(1970, 1, 1)\n",
    "a -b"
   ]
  },
  {
   "cell_type": "code",
   "execution_count": 110,
   "id": "ae9e80c9",
   "metadata": {},
   "outputs": [
    {
     "data": {
      "text/plain": [
       "4"
      ]
     },
     "execution_count": 110,
     "metadata": {},
     "output_type": "execute_result"
    }
   ],
   "source": [
    "(today.weekday() + 6) % 7"
   ]
  },
  {
   "cell_type": "code",
   "execution_count": 109,
   "id": "f4bf1184",
   "metadata": {},
   "outputs": [
    {
     "name": "stdout",
     "output_type": "stream",
     "text": [
      "2021-11-14 00:00:00\n"
     ]
    }
   ],
   "source": [
    "today = datetime.datetime(2021, 11, 13)\n",
    "\n",
    "\n",
    "offset = max(0, (today.weekday() + 6) % 7 - 3)\n",
    "\n",
    "\n",
    "timedelta = datetime.timedelta(offset)\n",
    "\n",
    "\n",
    "most_recent = today + timedelta\n",
    "\n",
    "\n",
    "print(most_recent)"
   ]
  }
 ],
 "metadata": {
  "interpreter": {
   "hash": "18f113ef20d2e5656a0bc837e6c476bd436e29840b6ed1847ecdb90743164c58"
  },
  "kernelspec": {
   "display_name": "conda_braket",
   "language": "python",
   "name": "python3"
  },
  "language_info": {
   "codemirror_mode": {
    "name": "ipython",
    "version": 3
   },
   "file_extension": ".py",
   "mimetype": "text/x-python",
   "name": "python",
   "nbconvert_exporter": "python",
   "pygments_lexer": "ipython3",
   "version": "3.8.5"
  }
 },
 "nbformat": 4,
 "nbformat_minor": 5
}
