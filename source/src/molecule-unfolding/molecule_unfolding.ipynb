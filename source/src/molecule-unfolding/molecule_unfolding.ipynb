{
 "cells": [
  {
   "cell_type": "code",
   "execution_count": 1,
   "id": "2dc2a12f",
   "metadata": {},
   "outputs": [],
   "source": [
    "from utility.MoleculeParser import MoleculeData\n",
    "from utility.QMUQUBO import QMUQUBO\n",
    "from utility.AnnealerOptimizer import Annealer\n",
    "\n",
    "import logging\n",
    "\n",
    "logging.getLogger().setLevel(logging.INFO)\n"
   ]
  },
  {
   "cell_type": "code",
   "execution_count": 2,
   "id": "a3a76a1b",
   "metadata": {},
   "outputs": [
    {
     "name": "stdout",
     "output_type": "stream",
     "text": [
      "Python 3.7.12\n"
     ]
    }
   ],
   "source": [
    "!python --version"
   ]
  },
  {
   "cell_type": "code",
   "execution_count": 3,
   "id": "b311cc04",
   "metadata": {},
   "outputs": [
    {
     "name": "stdout",
     "output_type": "stream",
     "text": [
      "Name: amazon-braket-schemas\n",
      "Version: 1.4.1\n",
      "Summary: An open source library that contains the schemas for Amazon Braket\n",
      "Home-page: https://github.com/aws/amazon-braket-schemas-python\n",
      "Author: Amazon Web Services\n",
      "Author-email: \n",
      "License: Apache License 2.0\n",
      "Location: /Users/aoyuzhan/miniconda3/envs/d2l/lib/python3.7/site-packages\n",
      "Requires: pydantic\n",
      "Required-by: amazon-braket-default-simulator\n",
      "Name: amazon-braket-sdk\n",
      "Version: 1.9.5.post0\n",
      "Summary: An open source library for interacting with quantum computing devices on Amazon Braket\n",
      "Home-page: https://github.com/aws/amazon-braket-sdk-python\n",
      "Author: Amazon Web Services\n",
      "Author-email: \n",
      "License: Apache License 2.0\n",
      "Location: /Users/aoyuzhan/miniconda3/envs/d2l/lib/python3.7/site-packages\n",
      "Requires: amazon-braket-default-simulator, backoff, boltons, boto3, coverage, nest-asyncio, networkx, numpy\n",
      "Required-by: amazon-braket-ocean-plugin\n",
      "Name: amazon-braket-ocean-plugin\n",
      "Version: 1.0.6\n",
      "Summary: An open source framework for interacting with D-Wave's Ocean library through Amazon Braket\n",
      "Home-page: https://github.com/aws/amazon-braket-ocean-plugin-python\n",
      "Author: Amazon Web Services\n",
      "Author-email: \n",
      "License: Apache License 2.0\n",
      "Location: /Users/aoyuzhan/miniconda3/envs/d2l/lib/python3.7/site-packages\n",
      "Requires: amazon-braket-sdk, boltons, boto3, colorama, dimod, jsonref, wheel\n",
      "Required-by: \n"
     ]
    }
   ],
   "source": [
    "!pip show amazon-braket-schemas\n",
    "!pip show amazon-braket-sdk\n",
    "!pip show amazon-braket-ocean-plugin"
   ]
  },
  {
   "cell_type": "code",
   "execution_count": 2,
   "id": "f92d278c",
   "metadata": {},
   "outputs": [],
   "source": [
    "# parameters shared by different steps\n",
    "qa_task_id = \"5c66f6b6-d791-4ce7-948e-73bec0078199\"\n",
    "s3_bucket = f\"amazon-braket-1a222675c751\" # the name of the bucket\n",
    "prefix = \"annealer-experiment\" # the name of the folder in the bucket\n",
    "\n",
    "raw_path = './molecule-data/Aspirin.mol2'\n",
    "data_path = './qmu_Aspirin_data_latest.pickle'\n",
    "model_path = './qmu_Aspirin_model_latest.pickle'"
   ]
  },
  {
   "cell_type": "markdown",
   "id": "1e000004",
   "metadata": {},
   "source": [
    "# Prepare Molecule Data"
   ]
  },
  {
   "cell_type": "code",
   "execution_count": 5,
   "id": "4d793e86",
   "metadata": {},
   "outputs": [
    {
     "name": "stderr",
     "output_type": "stream",
     "text": [
      "INFO:root:parse mol2 file!\n",
      "INFO:root:finish save qmu_Aspirin_data_latest.pickle\n"
     ]
    },
    {
     "data": {
      "text/plain": [
       "'./qmu_Aspirin_data_latest.pickle'"
      ]
     },
     "execution_count": 5,
     "metadata": {},
     "output_type": "execute_result"
    }
   ],
   "source": [
    "mol_data = MoleculeData(raw_path, 'qmu')\n",
    "\n",
    "mol_data.save(\"latest\")"
   ]
  },
  {
   "cell_type": "markdown",
   "id": "c4d3c9b6",
   "metadata": {},
   "source": [
    "# Build QUBO model for molecule unfolding"
   ]
  },
  {
   "cell_type": "code",
   "execution_count": 6,
   "id": "5c6190f0",
   "metadata": {},
   "outputs": [
    {
     "name": "stderr",
     "output_type": "stream",
     "text": [
      "INFO:root:initial pre-calculate for constructing molecule QUBO\n"
     ]
    }
   ],
   "source": [
    "init_param = {}\n",
    "method = ['pre-calc']\n",
    "\n",
    "for mt in method:\n",
    "    if mt == 'pre-calc':\n",
    "        init_param[mt] = {}\n",
    "        init_param[mt]['param'] = ['M', 'D', 'A', 'hubo_qubo_val']\n",
    "    \n",
    "qmu_qubo = QMUQUBO(mol_data, method, **init_param)"
   ]
  },
  {
   "cell_type": "code",
   "execution_count": 7,
   "id": "3979638c",
   "metadata": {},
   "outputs": [
    {
     "name": "stderr",
     "output_type": "stream",
     "text": [
      "INFO:root:['4+5']\n",
      "INFO:root:Construct model for M:1,D:4,A:300,hubo_qubo_val:200 0.0001620332400004069 min\n"
     ]
    },
    {
     "data": {
      "text/plain": [
       "0"
      ]
     },
     "execution_count": 7,
     "metadata": {},
     "output_type": "execute_result"
    }
   ],
   "source": [
    "model_param = {}\n",
    "# parameters\n",
    "num_rotation_bond = mol_data.bond_graph.rb_num\n",
    "\n",
    "method = 'pre-calc'\n",
    "model_param[method] = {}\n",
    "# model_param[method]['M'] = range(1, num_rotation_bond+1)\n",
    "model_param[method]['M'] = [1]\n",
    "model_param[method]['D'] = [4]\n",
    "model_param[method]['A'] = [300]\n",
    "model_param[method]['hubo_qubo_val'] = [200]\n",
    "\n",
    "qmu_qubo.build_model(**model_param)\n"
   ]
  },
  {
   "cell_type": "code",
   "execution_count": 8,
   "id": "bd0930da",
   "metadata": {},
   "outputs": [
    {
     "name": "stderr",
     "output_type": "stream",
     "text": [
      "INFO:root:method: pre-calc\n",
      "INFO:root:The model_name should be {M}_{D}_{A}_{hubo_qubo_val}\n",
      "INFO:root:param: M, value {1}\n",
      "INFO:root:param: D, value {4}\n",
      "INFO:root:param: A, value {300}\n",
      "INFO:root:param: hubo_qubo_val, value {200}\n"
     ]
    }
   ],
   "source": [
    "model_info = qmu_qubo.describe_model()"
   ]
  },
  {
   "cell_type": "code",
   "execution_count": 9,
   "id": "acfc7eb8",
   "metadata": {},
   "outputs": [
    {
     "name": "stderr",
     "output_type": "stream",
     "text": [
      "INFO:root:finish save qmu_Aspirin_model_latest.pickle\n"
     ]
    },
    {
     "data": {
      "text/plain": [
       "'./qmu_Aspirin_model_latest.pickle'"
      ]
     },
     "execution_count": 9,
     "metadata": {},
     "output_type": "execute_result"
    }
   ],
   "source": [
    "qmu_qubo.save(\"latest\")"
   ]
  },
  {
   "cell_type": "markdown",
   "id": "e836ab4b",
   "metadata": {},
   "source": [
    "# Optimize to find the configuration"
   ]
  },
  {
   "cell_type": "code",
   "execution_count": 10,
   "id": "eb749c14",
   "metadata": {},
   "outputs": [],
   "source": [
    "from utility.AnnealerOptimizer import Annealer\n",
    "from utility.QMUQUBO import QMUQUBO\n",
    "import logging"
   ]
  },
  {
   "cell_type": "code",
   "execution_count": 11,
   "id": "3ffeafd1",
   "metadata": {},
   "outputs": [],
   "source": [
    "qmu_qubo_optimize = QMUQUBO.load(model_path)\n"
   ]
  },
  {
   "cell_type": "code",
   "execution_count": 12,
   "id": "5d161545",
   "metadata": {},
   "outputs": [
    {
     "name": "stderr",
     "output_type": "stream",
     "text": [
      "INFO:root:method: pre-calc\n",
      "INFO:root:The model_name should be {M}_{D}_{A}_{hubo_qubo_val}\n",
      "INFO:root:param: M, value {1}\n",
      "INFO:root:param: D, value {4}\n",
      "INFO:root:param: A, value {300}\n",
      "INFO:root:param: hubo_qubo_val, value {200}\n"
     ]
    }
   ],
   "source": [
    "model_info = qmu_qubo_optimize.describe_model()"
   ]
  },
  {
   "cell_type": "code",
   "execution_count": 13,
   "id": "68e7da76",
   "metadata": {},
   "outputs": [],
   "source": [
    "M = 1\n",
    "D = 4\n",
    "A = 300\n",
    "hubo_qubo_val = 200\n",
    "model_name = \"{}_{}_{}_{}\".format(M, D, A, hubo_qubo_val)\n",
    "method = \"pre-calc\"\n",
    "\n",
    "qubo_model = qmu_qubo_optimize.get_model(method, model_name)"
   ]
  },
  {
   "cell_type": "code",
   "execution_count": 14,
   "id": "f12dc11a",
   "metadata": {},
   "outputs": [
    {
     "name": "stderr",
     "output_type": "stream",
     "text": [
      "INFO:root:use simulated annealer from dimod\n"
     ]
    }
   ],
   "source": [
    "method = 'dwave-sa'\n",
    "\n",
    "optimizer_param = {}\n",
    "optimizer_param['shots'] = 1\n",
    "\n",
    "sa_optimizer = Annealer(qubo_model, method, **optimizer_param)"
   ]
  },
  {
   "cell_type": "code",
   "execution_count": 15,
   "id": "2edcdf9d",
   "metadata": {},
   "outputs": [
    {
     "name": "stderr",
     "output_type": "stream",
     "text": [
      "INFO:root:dwave-sa save to local\n",
      "INFO:root:finish save sa_result.pickle\n"
     ]
    }
   ],
   "source": [
    "sa_optimize_result = sa_optimizer.fit()\n"
   ]
  },
  {
   "cell_type": "code",
   "execution_count": 16,
   "id": "414c266f",
   "metadata": {},
   "outputs": [
    {
     "name": "stderr",
     "output_type": "stream",
     "text": [
      "INFO:botocore.credentials:Found credentials in shared credentials file: ~/.aws/credentials\n",
      "INFO:botocore.credentials:Found credentials in shared credentials file: ~/.aws/credentials\n",
      "INFO:botocore.credentials:Found credentials in shared credentials file: ~/.aws/credentials\n",
      "INFO:root:use quantum annealer arn:aws:braket:::device/qpu/d-wave/Advantage_system4 \n"
     ]
    }
   ],
   "source": [
    "method = 'dwave-qa'\n",
    "\n",
    "optimizer_param = {}\n",
    "optimizer_param['shots'] = 1\n",
    "optimizer_param['bucket'] = s3_bucket # the name of the bucket\n",
    "optimizer_param['prefix'] = prefix # the name of the folder in the bucket\n",
    "optimizer_param['device'] = \"arn:aws:braket:::device/qpu/d-wave/Advantage_system4\"\n",
    "optimizer_param[\"embed_method\"] = \"default\"\n",
    "\n",
    "qa_optimizer = Annealer(qubo_model, method, **optimizer_param)"
   ]
  },
  {
   "cell_type": "code",
   "execution_count": 17,
   "id": "e4b3e320",
   "metadata": {},
   "outputs": [
    {
     "name": "stderr",
     "output_type": "stream",
     "text": [
      "INFO:root:finish save qa_result.pickle\n",
      "INFO:root:dwave-qa save to s3 - 5c66f6b6-d791-4ce7-948e-73bec0078199: None\n"
     ]
    }
   ],
   "source": [
    "# not create annealing task, only embedding logic\n",
    "qa_optimizer.embed()\n",
    "# create annealing task\n",
    "qa_optimize_result = qa_optimizer.fit()"
   ]
  },
  {
   "cell_type": "code",
   "execution_count": 18,
   "id": "bae92c76",
   "metadata": {},
   "outputs": [
    {
     "name": "stderr",
     "output_type": "stream",
     "text": [
      "INFO:root:task id is 5c66f6b6-d791-4ce7-948e-73bec0078199\n"
     ]
    }
   ],
   "source": [
    "qa_task_id = qa_optimizer.get_task_id()\n",
    "logging.info(f\"task id is {qa_task_id}\")"
   ]
  },
  {
   "cell_type": "code",
   "execution_count": 19,
   "id": "72c36bec",
   "metadata": {},
   "outputs": [
    {
     "name": "stderr",
     "output_type": "stream",
     "text": [
      "INFO:root:dwave-sa run time 0.01922297477722168\n",
      "INFO:root:dwave-qa run time 5.624835014343262\n"
     ]
    }
   ],
   "source": [
    "logging.info(f\"dwave-sa run time {sa_optimize_result['time']}\")\n",
    "logging.info(f\"dwave-qa run time {qa_optimize_result['time']}\")"
   ]
  },
  {
   "cell_type": "markdown",
   "id": "fb1fc0b8",
   "metadata": {},
   "source": [
    "# Postprocess for evaluation"
   ]
  },
  {
   "cell_type": "markdown",
   "id": "79ada993",
   "metadata": {},
   "source": [
    "#### get time for qpu"
   ]
  },
  {
   "cell_type": "code",
   "execution_count": 3,
   "id": "8e777fbe",
   "metadata": {},
   "outputs": [
    {
     "name": "stderr",
     "output_type": "stream",
     "text": [
      "INFO:root:load simulated annealer raw result\n",
      "INFO:root:valid var for this model is ['x_3_1', 'x_3_2', 'x_3_3', 'x_3_4']\n",
      "INFO:root:parse simulated annealer result\n",
      "INFO:root:sa only has local_time!\n",
      "INFO:root:time for dwave-sa: \n",
      "     local time is 0.01922297477722168\n"
     ]
    }
   ],
   "source": [
    "from utility.ResultProcess import ResultParser\n",
    "import time\n",
    "import logging\n",
    "\n",
    "timestamp = time.strftime(\"%Y%m%d-%H\")\n",
    "\n",
    "method = \"dwave-sa\"\n",
    "sa_param = {}\n",
    "sa_param[\"raw_path\"] = raw_path\n",
    "sa_param[\"data_path\"] = data_path\n",
    "\n",
    "sa_process_result = ResultParser(method, **sa_param)\n",
    "logging.debug(f\"{method} result is {sa_process_result.get_all_result()}\")\n",
    "\n",
    "local_time, _ , _, _= sa_process_result.get_time()\n",
    "\n",
    "logging.info(f\"time for {method}: \\n \\\n",
    "    local time is {local_time}\")"
   ]
  },
  {
   "cell_type": "code",
   "execution_count": 4,
   "id": "afac447c",
   "metadata": {},
   "outputs": [
    {
     "name": "stderr",
     "output_type": "stream",
     "text": [
      "INFO:root:finish update optimize points for ['x_3_2']\n",
      "INFO:root:!!!!!!!!!!!! van der waals check fail at 1 and 2 with check: 3.4 v.s. real 1.507078511558041\n",
      "INFO:root:!!!!!!!!!!!! van der waals check fail at 1 and 3 with check: 3.2199999999999998 v.s. real 2.3563075690579955\n",
      "INFO:root:!!!!!!!!!!!! van der waals check fail at 1 and 4 with check: 3.2199999999999998 v.s. real 2.4696882029924345\n",
      "INFO:root:!!!!!!!!!!!! van der waals check fail at 1 and 14 with check: 2.9 v.s. real 1.0900369764370383\n",
      "INFO:root:!!!!!!!!!!!! van der waals check fail at 1 and 15 with check: 2.9 v.s. real 1.0899754997246498\n",
      "INFO:root:!!!!!!!!!!!! van der waals check fail at 1 and 16 with check: 2.9 v.s. real 1.0900094082162777\n",
      "INFO:root:!!!!!!!!!!!! van der waals check fail at 2 and 3 with check: 3.2199999999999998 v.s. real 1.208293027373741\n",
      "INFO:root:!!!!!!!!!!!! van der waals check fail at 2 and 4 with check: 3.2199999999999998 v.s. real 1.3431328675898002\n",
      "INFO:root:!!!!!!!!!!!! van der waals check fail at 2 and 5 with check: 3.4 v.s. real 2.3019989986965674\n",
      "INFO:root:!!!!!!!!!!!! van der waals check fail at 2 and 6 with check: 3.4 v.s. real 2.663801223815321\n",
      "INFO:root:!!!!!!!!!!!! van der waals check fail at 2 and 14 with check: 2.9 v.s. real 2.1340983224772003\n",
      "INFO:root:!!!!!!!!!!!! van der waals check fail at 2 and 15 with check: 2.9 v.s. real 2.1340832481419274\n",
      "INFO:root:!!!!!!!!!!!! van der waals check fail at 2 and 16 with check: 2.9 v.s. real 2.1341502735280846\n",
      "INFO:root:!!!!!!!!!!!! van der waals check fail at 2 and 17 with check: 2.9 v.s. real 2.324284890025317\n",
      "INFO:root:!!!!!!!!!!!! van der waals check fail at 3 and 4 with check: 3.04 v.s. real 2.2106661213308536\n",
      "INFO:root:!!!!!!!!!!!! van der waals check fail at 3 and 5 with check: 3.2199999999999998 v.s. real 2.5702851106443423\n",
      "INFO:root:!!!!!!!!!!!! van der waals check fail at 3 and 6 with check: 3.2199999999999998 v.s. real 2.254345111113203\n",
      "INFO:root:!!!!!!!!!!!! van der waals check fail at 3 and 14 with check: 2.7199999999999998 v.s. real 2.474529759368434\n",
      "INFO:root:!!!!!!!!!!!! van der waals check fail at 3 and 17 with check: 2.7199999999999998 v.s. real 1.486929214858596\n",
      "INFO:root:!!!!!!!!!!!! van der waals check fail at 4 and 5 with check: 3.2199999999999998 v.s. real 1.3567566509879359\n",
      "INFO:root:!!!!!!!!!!!! van der waals check fail at 4 and 6 with check: 3.2199999999999998 v.s. real 2.3775356443174513\n",
      "INFO:root:!!!!!!!!!!!! van der waals check fail at 4 and 10 with check: 3.2199999999999998 v.s. real 2.3921206177782928\n",
      "INFO:root:!!!!!!!!!!!! van der waals check fail at 4 and 11 with check: 3.2199999999999998 v.s. real 2.827164331976477\n",
      "INFO:root:!!!!!!!!!!!! van der waals check fail at 4 and 13 with check: 3.04 v.s. real 2.5030132720383245\n",
      "INFO:root:!!!!!!!!!!!! van der waals check fail at 4 and 17 with check: 2.7199999999999998 v.s. real 2.617921528617693\n",
      "INFO:root:!!!!!!!!!!!! van der waals check fail at 5 and 6 with check: 3.4 v.s. real 1.3862712974017748\n",
      "INFO:root:!!!!!!!!!!!! van der waals check fail at 5 and 7 with check: 3.4 v.s. real 2.397934323537657\n",
      "INFO:root:!!!!!!!!!!!! van der waals check fail at 5 and 8 with check: 3.4 v.s. real 2.777872972257731\n",
      "INFO:root:!!!!!!!!!!!! van der waals check fail at 5 and 9 with check: 3.4 v.s. real 2.4208909000613805\n",
      "INFO:root:!!!!!!!!!!!! van der waals check fail at 5 and 10 with check: 3.4 v.s. real 1.4031013862155508\n",
      "INFO:root:!!!!!!!!!!!! van der waals check fail at 5 and 11 with check: 3.4 v.s. real 2.4930316744879115\n",
      "INFO:root:!!!!!!!!!!!! van der waals check fail at 5 and 13 with check: 3.2199999999999998 v.s. real 2.7940615759141743\n",
      "INFO:root:!!!!!!!!!!!! van der waals check fail at 5 and 17 with check: 2.9 v.s. real 2.140834869858019\n",
      "INFO:root:!!!!!!!!!!!! van der waals check fail at 6 and 7 with check: 3.4 v.s. real 1.381140213736462\n",
      "INFO:root:!!!!!!!!!!!! van der waals check fail at 6 and 8 with check: 3.4 v.s. real 2.400815948797409\n",
      "INFO:root:!!!!!!!!!!!! van der waals check fail at 6 and 9 with check: 3.4 v.s. real 2.7799644889818285\n",
      "INFO:root:!!!!!!!!!!!! van der waals check fail at 6 and 10 with check: 3.4 v.s. real 2.411747426659765\n",
      "INFO:root:!!!!!!!!!!!! van der waals check fail at 6 and 17 with check: 2.9 v.s. real 1.0800932598623139\n",
      "INFO:root:!!!!!!!!!!!! van der waals check fail at 6 and 18 with check: 2.9 v.s. real 2.1345678204264207\n",
      "INFO:root:!!!!!!!!!!!! van der waals check fail at 7 and 8 with check: 3.4 v.s. real 1.3852814695938154\n",
      "INFO:root:!!!!!!!!!!!! van der waals check fail at 7 and 9 with check: 3.4 v.s. real 2.3967835050333606\n",
      "INFO:root:!!!!!!!!!!!! van der waals check fail at 7 and 10 with check: 3.4 v.s. real 2.773874391532537\n",
      "INFO:root:!!!!!!!!!!!! van der waals check fail at 7 and 17 with check: 2.9 v.s. real 2.1362529765924254\n",
      "INFO:root:!!!!!!!!!!!! van der waals check fail at 7 and 18 with check: 2.9 v.s. real 1.0800280227845944\n",
      "INFO:root:!!!!!!!!!!!! van der waals check fail at 7 and 19 with check: 2.9 v.s. real 2.1388852259997497\n",
      "INFO:root:!!!!!!!!!!!! van der waals check fail at 8 and 9 with check: 3.4 v.s. real 1.3779965529710154\n",
      "INFO:root:!!!!!!!!!!!! van der waals check fail at 8 and 10 with check: 3.4 v.s. real 2.402820478104846\n",
      "INFO:root:!!!!!!!!!!!! van der waals check fail at 8 and 18 with check: 2.9 v.s. real 2.138231170851272\n",
      "INFO:root:!!!!!!!!!!!! van der waals check fail at 8 and 19 with check: 2.9 v.s. real 1.0800272311381784\n",
      "INFO:root:!!!!!!!!!!!! van der waals check fail at 8 and 20 with check: 2.9 v.s. real 2.1344437120711333\n",
      "INFO:root:!!!!!!!!!!!! van der waals check fail at 9 and 10 with check: 3.4 v.s. real 1.3980276284823558\n",
      "INFO:root:!!!!!!!!!!!! van der waals check fail at 9 and 11 with check: 3.4 v.s. real 2.4886543311597134\n",
      "INFO:root:!!!!!!!!!!!! van der waals check fail at 9 and 12 with check: 3.2199999999999998 v.s. real 2.7912257898636574\n",
      "INFO:root:!!!!!!!!!!!! van der waals check fail at 9 and 19 with check: 2.9 v.s. real 2.132241304355584\n",
      "INFO:root:!!!!!!!!!!!! van der waals check fail at 9 and 20 with check: 2.9 v.s. real 1.0800338235444298\n",
      "INFO:root:!!!!!!!!!!!! van der waals check fail at 10 and 11 with check: 3.4 v.s. real 1.4724085744113282\n",
      "INFO:root:!!!!!!!!!!!! van der waals check fail at 10 and 12 with check: 3.2199999999999998 v.s. real 2.3378037599422243\n",
      "INFO:root:!!!!!!!!!!!! van der waals check fail at 10 and 13 with check: 3.2199999999999998 v.s. real 2.337845103936529\n",
      "INFO:root:!!!!!!!!!!!! van der waals check fail at 10 and 20 with check: 2.9 v.s. real 2.15256168552727\n",
      "INFO:root:!!!!!!!!!!!! van der waals check fail at 11 and 12 with check: 3.2199999999999998 v.s. real 1.2232340454712662\n",
      "INFO:root:!!!!!!!!!!!! van der waals check fail at 11 and 13 with check: 3.2199999999999998 v.s. real 1.2233035600373279\n",
      "INFO:root:!!!!!!!!!!!! van der waals check fail at 11 and 20 with check: 2.9 v.s. real 2.700862088296995\n",
      "INFO:root:!!!!!!!!!!!! van der waals check fail at 12 and 13 with check: 3.04 v.s. real 2.1188036931249665\n",
      "INFO:root:!!!!!!!!!!!! van der waals check fail at 12 and 20 with check: 2.7199999999999998 v.s. real 2.4999937819922673\n",
      "INFO:root:!!!!!!!!!!!! van der waals check fail at 14 and 15 with check: 2.4 v.s. real 1.7800035337043576\n",
      "INFO:root:!!!!!!!!!!!! van der waals check fail at 14 and 16 with check: 2.4 v.s. real 1.7800084999797052\n",
      "INFO:root:!!!!!!!!!!!! van der waals check fail at 15 and 16 with check: 2.4 v.s. real 1.7799872022011844\n",
      "INFO:root:finish save ./molecule-data/Aspirin_dwave-sa_20211207-13.mol2 and ./molecule-data/Aspirin_dwave-sa_20211207-13.json\n"
     ]
    },
    {
     "name": "stdout",
     "output_type": "stream",
     "text": [
      "x_3_2\n"
     ]
    },
    {
     "data": {
      "text/plain": [
       "0"
      ]
     },
     "execution_count": 4,
     "metadata": {},
     "output_type": "execute_result"
    }
   ],
   "source": [
    "sa_atom_pos_data = sa_process_result.generate_optimize_pts()\n",
    "# save unfold file for visualization and parameters for experiment: 1. volume value 2. relative improvement\n",
    "sa_process_result.save_mol_file(f\"{timestamp}\")"
   ]
  },
  {
   "cell_type": "code",
   "execution_count": null,
   "id": "7b52641b",
   "metadata": {},
   "outputs": [
    {
     "data": {
      "text/plain": [
       "{'volume': {'initial': 726.8863198728677,\n",
       "  'optimize': 727.143328595773,\n",
       "  'record-distance': [1.507078511558041,\n",
       "   2.3563075690579955,\n",
       "   2.4696882029924345,\n",
       "   3.6967748037985757,\n",
       "   4.5306559271257845,\n",
       "   5.82512437463785,\n",
       "   6.375201683084231,\n",
       "   5.830748749517509,\n",
       "   4.5195664725723415,\n",
       "   4.416775314638498,\n",
       "   5.515114838332924,\n",
       "   3.5538968766693273,\n",
       "   1.0900369764370383,\n",
       "   1.0899754997246498,\n",
       "   1.0900094082162777,\n",
       "   4.4204871507561245,\n",
       "   6.586915580148269,\n",
       "   7.436327755686943,\n",
       "   6.590494448066852,\n",
       "   1.208293027373741,\n",
       "   1.3431328675898002,\n",
       "   2.3019989986965674,\n",
       "   3.1312816305787634,\n",
       "   4.366406282058507,\n",
       "   4.892824229420059,\n",
       "   4.425514770057829,\n",
       "   3.1955128884108728,\n",
       "   3.429356508151347,\n",
       "   4.5877511745952395,\n",
       "   2.924809547645795,\n",
       "   2.1340983224772003,\n",
       "   2.1340832481419274,\n",
       "   2.1341502735280846,\n",
       "   3.19800414790225,\n",
       "   5.1672751291178605,\n",
       "   5.945778779100346,\n",
       "   5.251371732223876,\n",
       "   2.2106661213308536,\n",
       "   2.5702851106443423,\n",
       "   3.1381891928307954,\n",
       "   4.159473473890655,\n",
       "   4.648672935365532,\n",
       "   4.300245920874758,\n",
       "   3.311229424247133,\n",
       "   3.720676860465042,\n",
       "   4.756214620893385,\n",
       "   3.500156083662556,\n",
       "   2.474529759368434,\n",
       "   3.057695346171688,\n",
       "   3.057743996805488,\n",
       "   3.270941982059602,\n",
       "   4.894576380035355,\n",
       "   5.621897904622601,\n",
       "   5.102505599212997,\n",
       "   1.3567566509879359,\n",
       "   2.3775016319657913,\n",
       "   3.6371468433375083,\n",
       "   4.134571685193038,\n",
       "   3.661632040497789,\n",
       "   2.3920959596136604,\n",
       "   2.8270652097183753,\n",
       "   4.049687610174395,\n",
       "   2.5029478360525212,\n",
       "   3.355779022820186,\n",
       "   2.7703937427737597,\n",
       "   2.7704143679240474,\n",
       "   2.617909003384189,\n",
       "   4.508959265728623,\n",
       "   5.214605082841844,\n",
       "   4.53980040200007,\n",
       "   1.3862687401799119,\n",
       "   2.397943003909809,\n",
       "   2.7778152296364134,\n",
       "   2.420893985700324,\n",
       "   1.4031181596715225,\n",
       "   2.492944558148055,\n",
       "   3.5978580558437825,\n",
       "   2.794016832447507,\n",
       "   4.434889764131686,\n",
       "   4.013011816578665,\n",
       "   4.06002912797433,\n",
       "   2.140835056701006,\n",
       "   3.375388802789984,\n",
       "   3.8578529132148107,\n",
       "   3.4015260928001125,\n",
       "   1.3812113994606323,\n",
       "   2.4008561868633445,\n",
       "   2.7800525192880796,\n",
       "   2.4118325418652096,\n",
       "   3.7609500541751415,\n",
       "   4.747988349817215,\n",
       "   4.17838383349352,\n",
       "   5.175179401721259,\n",
       "   5.070474421590154,\n",
       "   4.695662524074745,\n",
       "   1.0800526190885331,\n",
       "   2.1346073807611554,\n",
       "   3.37685091172234,\n",
       "   3.8600777634653944,\n",
       "   1.385283646045098,\n",
       "   2.3968305488707378,\n",
       "   2.7739528186326456,\n",
       "   4.246228766800018,\n",
       "   4.971720480879833,\n",
       "   4.972295030466313,\n",
       "   6.406492420193752,\n",
       "   6.323781110221954,\n",
       "   6.059792079766433,\n",
       "   2.1362917286737777,\n",
       "   1.0800066203500795,\n",
       "   2.138826026118067,\n",
       "   3.375526064186144,\n",
       "   1.3779843177627238,\n",
       "   2.4028248167521493,\n",
       "   3.750946131311405,\n",
       "   4.167491977196836,\n",
       "   4.738914602522395,\n",
       "   6.954492685307821,\n",
       "   6.697057957790122,\n",
       "   6.782381662071223,\n",
       "   3.3782194792523472,\n",
       "   2.1382427738683,\n",
       "   1.0800647156536505,\n",
       "   2.1344675143932266,\n",
       "   1.3980607282947335,\n",
       "   2.48859655629433,\n",
       "   2.7911017645367213,\n",
       "   3.593192501105389,\n",
       "   6.440465403214274,\n",
       "   5.955557210706653,\n",
       "   6.3776609732722545,\n",
       "   3.860075661175568,\n",
       "   3.37256707865092,\n",
       "   2.132304258308368,\n",
       "   1.0800315782420438,\n",
       "   1.472277643652854,\n",
       "   2.337677372949484,\n",
       "   2.337752670835818,\n",
       "   5.2016669260920585,\n",
       "   4.5801425490916765,\n",
       "   5.083204647660764,\n",
       "   3.392520931401898,\n",
       "   3.853953946273879,\n",
       "   3.382515852143195,\n",
       "   2.1525650303765507,\n",
       "   1.2232796327904751,\n",
       "   1.2232854654576748,\n",
       "   5.087101912680736,\n",
       "   4.139841862921819,\n",
       "   5.129993439566955,\n",
       "   4.631369889136475,\n",
       "   5.326229743448924,\n",
       "   4.618997097855767,\n",
       "   2.7008202994645902,\n",
       "   2.1188352389933485,\n",
       "   6.1087392062519745,\n",
       "   5.139710539514846,\n",
       "   6.284817498543613,\n",
       "   5.700046793667576,\n",
       "   6.0306547289660015,\n",
       "   4.828911638247277,\n",
       "   2.499849057443269,\n",
       "   4.272601603238945,\n",
       "   3.076388086701676,\n",
       "   4.280884364240642,\n",
       "   4.843687727341638,\n",
       "   6.0325421449004395,\n",
       "   5.6890485548991405,\n",
       "   3.91711866810287,\n",
       "   1.7800035337043576,\n",
       "   1.7800084999797052,\n",
       "   5.032223192585956,\n",
       "   7.119817308751679,\n",
       "   7.980453706400407,\n",
       "   7.168934920893061,\n",
       "   1.7799872022011844,\n",
       "   5.116661491636905,\n",
       "   7.182382109718197,\n",
       "   7.759619468762628,\n",
       "   6.5932322816657996,\n",
       "   4.365883665422156,\n",
       "   6.720000750744006,\n",
       "   7.850455307814955,\n",
       "   7.219048078521157,\n",
       "   2.457033082805358,\n",
       "   4.265653616973605,\n",
       "   4.94008960849902,\n",
       "   2.459317618771516,\n",
       "   4.263031992608077,\n",
       "   2.4563658888691644],\n",
       "  'gain': 1.0003535748519112}}"
      ]
     },
     "execution_count": 22,
     "metadata": {},
     "output_type": "execute_result"
    }
   ],
   "source": [
    "sa_process_result.parameters"
   ]
  },
  {
   "cell_type": "code",
   "execution_count": 5,
   "id": "3701eebe",
   "metadata": {},
   "outputs": [
    {
     "name": "stderr",
     "output_type": "stream",
     "text": [
      "INFO:root:load quantum annealer raw result\n",
      "INFO:root:valid var for this model is ['x_3_1', 'x_3_2', 'x_3_3', 'x_3_4']\n",
      "INFO:root:parse quantum annealer result\n",
      "INFO:root:time for dwave-qa: \n",
      "     local time is 5.624835014343262,\n",
      "     task time is 1.595, \n",
      "     qpu total time is 0.023309999999999997, \n",
      "     qpu access time is 0.008555\n"
     ]
    }
   ],
   "source": [
    "method = \"dwave-qa\"\n",
    "qa_param = {}\n",
    "qa_param[\"bucket\"] = s3_bucket\n",
    "qa_param[\"prefix\"] = prefix\n",
    "qa_param[\"task_id\"] = qa_task_id\n",
    "qa_param[\"raw_path\"] = raw_path\n",
    "qa_param[\"data_path\"] = data_path\n",
    "\n",
    "qa_process_result = ResultParser(method, **qa_param)\n",
    "logging.debug(f\"{method} result is {qa_process_result.get_all_result()}\")\n",
    "\n",
    "local_time, task_time, total_time, access_time = qa_process_result.get_time()\n",
    "\n",
    "logging.info(f\"time for {method}: \\n \\\n",
    "    local time is {local_time},\\n \\\n",
    "    task time is {task_time}, \\n \\\n",
    "    qpu total time is {total_time}, \\n \\\n",
    "    qpu access time is {access_time}\")"
   ]
  },
  {
   "cell_type": "markdown",
   "id": "7b55dcc2",
   "metadata": {},
   "source": [
    "#### parse results"
   ]
  },
  {
   "cell_type": "code",
   "execution_count": 6,
   "id": "5858c43e",
   "metadata": {},
   "outputs": [
    {
     "name": "stderr",
     "output_type": "stream",
     "text": [
      "INFO:root:finish update optimize points for ['x_3_1']\n",
      "INFO:root:!!!!!!!!!!!! van der waals check fail at 1 and 2 with check: 3.4 v.s. real 1.507078511558041\n",
      "INFO:root:!!!!!!!!!!!! van der waals check fail at 1 and 3 with check: 3.2199999999999998 v.s. real 2.3563075690579955\n",
      "INFO:root:!!!!!!!!!!!! van der waals check fail at 1 and 4 with check: 3.2199999999999998 v.s. real 2.4696882029924345\n",
      "INFO:root:!!!!!!!!!!!! van der waals check fail at 1 and 14 with check: 2.9 v.s. real 1.0900369764370383\n",
      "INFO:root:!!!!!!!!!!!! van der waals check fail at 1 and 15 with check: 2.9 v.s. real 1.0899754997246498\n",
      "INFO:root:!!!!!!!!!!!! van der waals check fail at 1 and 16 with check: 2.9 v.s. real 1.0900094082162777\n",
      "INFO:root:!!!!!!!!!!!! van der waals check fail at 2 and 3 with check: 3.2199999999999998 v.s. real 1.208293027373741\n",
      "INFO:root:!!!!!!!!!!!! van der waals check fail at 2 and 4 with check: 3.2199999999999998 v.s. real 1.3431328675898002\n",
      "INFO:root:!!!!!!!!!!!! van der waals check fail at 2 and 5 with check: 3.4 v.s. real 2.3019989986965674\n",
      "INFO:root:!!!!!!!!!!!! van der waals check fail at 2 and 6 with check: 3.4 v.s. real 3.1804977236275453\n",
      "INFO:root:!!!!!!!!!!!! van der waals check fail at 2 and 10 with check: 3.4 v.s. real 3.1414790179149694\n",
      "INFO:root:!!!!!!!!!!!! van der waals check fail at 2 and 11 with check: 3.4 v.s. real 3.329345217906968\n",
      "INFO:root:!!!!!!!!!!!! van der waals check fail at 2 and 13 with check: 3.2199999999999998 v.s. real 2.802097680310235\n",
      "INFO:root:!!!!!!!!!!!! van der waals check fail at 2 and 14 with check: 2.9 v.s. real 2.1340983224772003\n",
      "INFO:root:!!!!!!!!!!!! van der waals check fail at 2 and 15 with check: 2.9 v.s. real 2.1340832481419274\n",
      "INFO:root:!!!!!!!!!!!! van der waals check fail at 2 and 16 with check: 2.9 v.s. real 2.1341502735280846\n",
      "INFO:root:!!!!!!!!!!!! van der waals check fail at 3 and 4 with check: 3.04 v.s. real 2.2106661213308536\n",
      "INFO:root:!!!!!!!!!!!! van der waals check fail at 3 and 5 with check: 3.2199999999999998 v.s. real 2.5702851106443423\n",
      "INFO:root:!!!!!!!!!!!! van der waals check fail at 3 and 10 with check: 3.2199999999999998 v.s. real 3.1440750595365876\n",
      "INFO:root:!!!!!!!!!!!! van der waals check fail at 3 and 14 with check: 2.7199999999999998 v.s. real 2.474529759368434\n",
      "INFO:root:!!!!!!!!!!!! van der waals check fail at 4 and 5 with check: 3.2199999999999998 v.s. real 1.3567566509879359\n",
      "INFO:root:!!!!!!!!!!!! van der waals check fail at 4 and 6 with check: 3.2199999999999998 v.s. real 2.3775205635283156\n",
      "INFO:root:!!!!!!!!!!!! van der waals check fail at 4 and 10 with check: 3.2199999999999998 v.s. real 2.3921047761333534\n",
      "INFO:root:!!!!!!!!!!!! van der waals check fail at 4 and 11 with check: 3.2199999999999998 v.s. real 2.8271194385805494\n",
      "INFO:root:!!!!!!!!!!!! van der waals check fail at 4 and 13 with check: 3.04 v.s. real 2.5029716438665464\n",
      "INFO:root:!!!!!!!!!!!! van der waals check fail at 4 and 17 with check: 2.7199999999999998 v.s. real 2.617923833880581\n",
      "INFO:root:!!!!!!!!!!!! van der waals check fail at 5 and 6 with check: 3.4 v.s. real 1.3862867308028306\n",
      "INFO:root:!!!!!!!!!!!! van der waals check fail at 5 and 7 with check: 3.4 v.s. real 2.3979589446026806\n",
      "INFO:root:!!!!!!!!!!!! van der waals check fail at 5 and 8 with check: 3.4 v.s. real 2.7778354972892116\n",
      "INFO:root:!!!!!!!!!!!! van der waals check fail at 5 and 9 with check: 3.4 v.s. real 2.420899843033578\n",
      "INFO:root:!!!!!!!!!!!! van der waals check fail at 5 and 10 with check: 3.4 v.s. real 1.4031098638381814\n",
      "INFO:root:!!!!!!!!!!!! van der waals check fail at 5 and 11 with check: 3.4 v.s. real 2.492982015578933\n",
      "INFO:root:!!!!!!!!!!!! van der waals check fail at 5 and 13 with check: 3.2199999999999998 v.s. real 2.794047934449228\n",
      "INFO:root:!!!!!!!!!!!! van der waals check fail at 5 and 17 with check: 2.9 v.s. real 2.140849366489852\n",
      "INFO:root:!!!!!!!!!!!! van der waals check fail at 6 and 7 with check: 3.4 v.s. real 1.3812070228608024\n",
      "INFO:root:!!!!!!!!!!!! van der waals check fail at 6 and 8 with check: 3.4 v.s. real 2.400866828876604\n",
      "INFO:root:!!!!!!!!!!!! van der waals check fail at 6 and 9 with check: 3.4 v.s. real 2.7800406921482286\n",
      "INFO:root:!!!!!!!!!!!! van der waals check fail at 6 and 10 with check: 3.4 v.s. real 2.4118211977673636\n",
      "INFO:root:!!!!!!!!!!!! van der waals check fail at 6 and 17 with check: 2.9 v.s. real 1.0800584567513\n",
      "INFO:root:!!!!!!!!!!!! van der waals check fail at 6 and 18 with check: 2.9 v.s. real 2.134578304958617\n",
      "INFO:root:!!!!!!!!!!!! van der waals check fail at 7 and 8 with check: 3.4 v.s. real 1.3853002454341798\n",
      "INFO:root:!!!!!!!!!!!! van der waals check fail at 7 and 9 with check: 3.4 v.s. real 2.3968126939750634\n",
      "INFO:root:!!!!!!!!!!!! van der waals check fail at 7 and 10 with check: 3.4 v.s. real 2.7739376795450905\n",
      "INFO:root:!!!!!!!!!!!! van der waals check fail at 7 and 17 with check: 2.9 v.s. real 2.136295679441402\n",
      "INFO:root:!!!!!!!!!!!! van der waals check fail at 7 and 18 with check: 2.9 v.s. real 1.0799837313589495\n",
      "INFO:root:!!!!!!!!!!!! van der waals check fail at 7 and 19 with check: 2.9 v.s. real 2.1388317301742084\n",
      "INFO:root:!!!!!!!!!!!! van der waals check fail at 8 and 9 with check: 3.4 v.s. real 1.3779546001229503\n",
      "INFO:root:!!!!!!!!!!!! van der waals check fail at 8 and 10 with check: 3.4 v.s. real 2.4028096637062206\n",
      "INFO:root:!!!!!!!!!!!! van der waals check fail at 8 and 18 with check: 2.9 v.s. real 2.1382449695953922\n",
      "INFO:root:!!!!!!!!!!!! van der waals check fail at 8 and 19 with check: 2.9 v.s. real 1.0800398418576973\n",
      "INFO:root:!!!!!!!!!!!! van der waals check fail at 8 and 20 with check: 2.9 v.s. real 2.134423175005369\n",
      "INFO:root:!!!!!!!!!!!! van der waals check fail at 9 and 10 with check: 3.4 v.s. real 1.398061243293727\n",
      "INFO:root:!!!!!!!!!!!! van der waals check fail at 9 and 11 with check: 3.4 v.s. real 2.488616189772943\n",
      "INFO:root:!!!!!!!!!!!! van der waals check fail at 9 and 12 with check: 3.2199999999999998 v.s. real 2.791186625791977\n",
      "INFO:root:!!!!!!!!!!!! van der waals check fail at 9 and 19 with check: 2.9 v.s. real 2.1322513500992324\n",
      "INFO:root:!!!!!!!!!!!! van der waals check fail at 9 and 20 with check: 2.9 v.s. real 1.0800236895550024\n",
      "INFO:root:!!!!!!!!!!!! van der waals check fail at 10 and 11 with check: 3.4 v.s. real 1.472321072320844\n",
      "INFO:root:!!!!!!!!!!!! van der waals check fail at 10 and 12 with check: 3.2199999999999998 v.s. real 2.3377497513634777\n",
      "INFO:root:!!!!!!!!!!!! van der waals check fail at 10 and 13 with check: 3.2199999999999998 v.s. real 2.337816205350626\n",
      "INFO:root:!!!!!!!!!!!! van der waals check fail at 10 and 20 with check: 2.9 v.s. real 2.1525616483622487\n",
      "INFO:root:!!!!!!!!!!!! van der waals check fail at 11 and 12 with check: 3.2199999999999998 v.s. real 1.2232612067747433\n",
      "INFO:root:!!!!!!!!!!!! van der waals check fail at 11 and 13 with check: 3.2199999999999998 v.s. real 1.2233499948910778\n",
      "INFO:root:!!!!!!!!!!!! van der waals check fail at 11 and 20 with check: 2.9 v.s. real 2.7008175373393892\n",
      "INFO:root:!!!!!!!!!!!! van der waals check fail at 12 and 13 with check: 3.04 v.s. real 2.118856977240324\n",
      "INFO:root:!!!!!!!!!!!! van der waals check fail at 12 and 20 with check: 2.7199999999999998 v.s. real 2.4999330091024445\n",
      "INFO:root:!!!!!!!!!!!! van der waals check fail at 14 and 15 with check: 2.4 v.s. real 1.7800035337043576\n",
      "INFO:root:!!!!!!!!!!!! van der waals check fail at 14 and 16 with check: 2.4 v.s. real 1.7800084999797052\n",
      "INFO:root:!!!!!!!!!!!! van der waals check fail at 15 and 16 with check: 2.4 v.s. real 1.7799872022011844\n",
      "INFO:root:finish save ./molecule-data/Aspirin_dwave-qa_20211207-13.mol2 and ./molecule-data/Aspirin_dwave-qa_20211207-13.json\n"
     ]
    },
    {
     "name": "stdout",
     "output_type": "stream",
     "text": [
      "x_3_1\n"
     ]
    },
    {
     "data": {
      "text/plain": [
       "0"
      ]
     },
     "execution_count": 6,
     "metadata": {},
     "output_type": "execute_result"
    }
   ],
   "source": [
    "qa_atom_pos_data = qa_process_result.generate_optimize_pts()\n",
    "# save unfold file for visualization and parameters for experiment: 1. volume value 2. relative improvement\n",
    "qa_process_result.save_mol_file(f\"{timestamp}\")"
   ]
  },
  {
   "cell_type": "code",
   "execution_count": 8,
   "id": "e1d4be9a",
   "metadata": {},
   "outputs": [
    {
     "data": {
      "text/plain": [
       "{'volume': {'initial': 726.8863198728677,\n",
       "  'optimize': 736.1169399760236,\n",
       "  'record-distance': [1.507078511558041,\n",
       "   2.3563075690579955,\n",
       "   2.4696882029924345,\n",
       "   3.6967748037985757,\n",
       "   4.164594045042086,\n",
       "   5.54548080241921,\n",
       "   6.374898824295175,\n",
       "   6.097869742787231,\n",
       "   4.861530657107903,\n",
       "   5.110202999881707,\n",
       "   6.311705206202204,\n",
       "   4.386780215602327,\n",
       "   1.0900369764370383,\n",
       "   1.0899754997246498,\n",
       "   1.0900094082162777,\n",
       "   3.7244260510849188,\n",
       "   6.141714335590675,\n",
       "   7.434362300829844,\n",
       "   7.006546434585303,\n",
       "   1.208293027373741,\n",
       "   1.3431328675898002,\n",
       "   2.3019989986965674,\n",
       "   2.663801223815321,\n",
       "   4.04467307578746,\n",
       "   4.892485194663342,\n",
       "   4.721972282849614,\n",
       "   3.5970765421380735,\n",
       "   4.16896563430307,\n",
       "   5.391194402912957,\n",
       "   3.7654292212176825,\n",
       "   2.1340983224772003,\n",
       "   2.1340832481419274,\n",
       "   2.1341502735280846,\n",
       "   2.324284890025317,\n",
       "   4.677399895240944,\n",
       "   5.943699341319345,\n",
       "   5.691370845411499,\n",
       "   2.2106661213308536,\n",
       "   2.5702851106443423,\n",
       "   2.254345111113203,\n",
       "   3.5412783694592544,\n",
       "   4.647995802493801,\n",
       "   4.82315243383412,\n",
       "   3.969919844278975,\n",
       "   4.871029893154013,\n",
       "   6.060138520694061,\n",
       "   4.705327331865446,\n",
       "   2.474529759368434,\n",
       "   3.057695346171688,\n",
       "   3.057743996805488,\n",
       "   1.486929214858596,\n",
       "   3.933562174416466,\n",
       "   5.6180234869569565,\n",
       "   5.874171323684729,\n",
       "   1.3567566509879359,\n",
       "   2.3775356443174513,\n",
       "   3.6371358360666157,\n",
       "   4.134629417493181,\n",
       "   3.661640241749591,\n",
       "   2.3921206177782928,\n",
       "   2.827164331976477,\n",
       "   4.049742812821575,\n",
       "   2.5030132720383245,\n",
       "   3.355779022820186,\n",
       "   2.7703937427737597,\n",
       "   2.7704143679240474,\n",
       "   2.617921528617693,\n",
       "   4.508959236897136,\n",
       "   5.214626067130797,\n",
       "   4.539824029629343,\n",
       "   1.3862712974017748,\n",
       "   2.397934323537657,\n",
       "   2.777872972257731,\n",
       "   2.4208909000613805,\n",
       "   1.4031013862155508,\n",
       "   2.4930316744879115,\n",
       "   3.5979239652888717,\n",
       "   2.7940615759141743,\n",
       "   4.434889764131686,\n",
       "   4.013011816578665,\n",
       "   4.06002912797433,\n",
       "   2.140834869858019,\n",
       "   3.3753961974855637,\n",
       "   3.8578738613386525,\n",
       "   3.4015310391057736,\n",
       "   1.381140213736462,\n",
       "   2.400815948797409,\n",
       "   2.7799644889818285,\n",
       "   2.411747426659765,\n",
       "   3.7610083089512045,\n",
       "   4.748028084373554,\n",
       "   4.178426959993438,\n",
       "   4.612841741269692,\n",
       "   4.604146847136828,\n",
       "   4.708825113550088,\n",
       "   1.0800932598623139,\n",
       "   2.1345678204264207,\n",
       "   3.3768231135195697,\n",
       "   3.8599918885925137,\n",
       "   1.3852814695938154,\n",
       "   2.3967835050333606,\n",
       "   2.773874391532537,\n",
       "   4.246281160026971,\n",
       "   4.971791500053074,\n",
       "   4.972319576415015,\n",
       "   5.96196602137248,\n",
       "   5.956774279759139,\n",
       "   6.069957612702086,\n",
       "   2.1362529765924254,\n",
       "   1.0800280227845944,\n",
       "   2.1388852259997497,\n",
       "   3.375472866132981,\n",
       "   1.3779965529710154,\n",
       "   2.402820478104846,\n",
       "   3.7510470938126064,\n",
       "   4.167629919990497,\n",
       "   4.7390004536821895,\n",
       "   6.953979967615668,\n",
       "   6.696606090401317,\n",
       "   6.7824705093350754,\n",
       "   3.3782112855770285,\n",
       "   2.138231170851272,\n",
       "   1.0800272311381784,\n",
       "   2.1344437120711333,\n",
       "   1.3980276284823558,\n",
       "   2.4886543311597134,\n",
       "   2.7912257898636574,\n",
       "   3.593234746019247,\n",
       "   6.854873650914362,\n",
       "   6.323325532502656,\n",
       "   6.3680151279657,\n",
       "   3.8600283017097166,\n",
       "   3.3725399834546073,\n",
       "   2.132241304355584,\n",
       "   1.0800338235444298,\n",
       "   1.4724085744113282,\n",
       "   2.3378037599422243,\n",
       "   2.337845103936529,\n",
       "   5.70978863882018,\n",
       "   5.054389884051289,\n",
       "   5.069225678543026,\n",
       "   3.3924706395192277,\n",
       "   3.853896896648897,\n",
       "   3.382442104456483,\n",
       "   2.15256168552727,\n",
       "   1.2232340454712662,\n",
       "   1.2233035600373279,\n",
       "   6.107262595467794,\n",
       "   5.150265295108593,\n",
       "   5.103183548531249,\n",
       "   4.63145448968248,\n",
       "   5.326303517449977,\n",
       "   4.618997936782393,\n",
       "   2.700862088296995,\n",
       "   2.1188036931249665,\n",
       "   7.321634426820284,\n",
       "   6.306790852723752,\n",
       "   6.25534782885812,\n",
       "   5.700110446298387,\n",
       "   6.030748806740337,\n",
       "   4.828948756199428,\n",
       "   2.4999937819922673,\n",
       "   5.448481150742838,\n",
       "   4.345238517043685,\n",
       "   4.246805054390889,\n",
       "   4.8437458944498735,\n",
       "   6.032587720041873,\n",
       "   5.689049602525891,\n",
       "   3.9171698635622128,\n",
       "   1.7800035337043576,\n",
       "   1.7800084999797052,\n",
       "   3.939558302652723,\n",
       "   6.3947807632474785,\n",
       "   7.977284365622176,\n",
       "   7.821484873730818,\n",
       "   1.7799872022011844,\n",
       "   4.259476110978907,\n",
       "   6.599485911038829,\n",
       "   7.756843358609222,\n",
       "   7.175353034520323,\n",
       "   4.391135149366277,\n",
       "   6.736404774803842,\n",
       "   7.850627822664886,\n",
       "   7.204053781725953,\n",
       "   2.4569901119052147,\n",
       "   4.265672930499947,\n",
       "   4.940044332797024,\n",
       "   2.459407542478473,\n",
       "   4.262991946978085,\n",
       "   2.4562373704509914],\n",
       "  'gain': 1.0126988496698772}}"
      ]
     },
     "execution_count": 8,
     "metadata": {},
     "output_type": "execute_result"
    }
   ],
   "source": [
    "qa_process_result.parameters"
   ]
  },
  {
   "cell_type": "markdown",
   "id": "380557b0",
   "metadata": {},
   "source": [
    "### draft place"
   ]
  },
  {
   "cell_type": "code",
   "execution_count": 82,
   "id": "ce483959",
   "metadata": {},
   "outputs": [
    {
     "data": {
      "text/plain": [
       "datetime.time"
      ]
     },
     "execution_count": 82,
     "metadata": {},
     "output_type": "execute_result"
    }
   ],
   "source": [
    "type(device.properties.service.executionWindows[0].windowStartHour)"
   ]
  },
  {
   "cell_type": "code",
   "execution_count": 9,
   "id": "9dd82a61",
   "metadata": {},
   "outputs": [
    {
     "data": {
      "text/plain": [
       "1.3862867308028306"
      ]
     },
     "execution_count": 9,
     "metadata": {},
     "output_type": "execute_result"
    }
   ],
   "source": [
    "import numpy as np\n",
    "a = [-0.9578,-2.0342,0.0079]\n",
    "b = [0.3270,-2.5523,0.0594]\n",
    "def calc_distance_between_pts(pts1, pts2):\n",
    "    pts1_middle = np.array(tuple(list(np.mean(np.array(pts1), axis=0))))\n",
    "    pts2_middle = np.array(tuple(list(np.mean(np.array(pts2), axis=0))))\n",
    "    return np.linalg.norm(pts1_middle-pts2_middle)\n",
    "\n",
    "calc_distance_between_pts([a],[b])"
   ]
  },
  {
   "cell_type": "code",
   "execution_count": 80,
   "id": "c6887d74",
   "metadata": {},
   "outputs": [
    {
     "name": "stdout",
     "output_type": "stream",
     "text": [
      "next available time 4:34:11\n"
     ]
    }
   ],
   "source": [
    "import time\n",
    "gmt = time.gmtime(time.time())\n",
    "\n",
    "diff = device.properties.service.executionWindows[0].windowStartHour.hour*60*60-gmt.tm_hour*60*60-gmt.tm_min*60-gmt.tm_sec\n",
    "\n",
    "hour = diff//3600\n",
    "\n",
    "minute = (diff - hour*60*60)//60\n",
    "\n",
    "sec = diff - hour*60*60 - minute*60\n",
    "\n",
    "print(\"next available time {}:{}:{}\".format(hour, minute, sec))"
   ]
  },
  {
   "cell_type": "code",
   "execution_count": 75,
   "id": "1c52bb64",
   "metadata": {},
   "outputs": [
    {
     "data": {
      "text/plain": [
       "datetime.time(13, 0)"
      ]
     },
     "execution_count": 75,
     "metadata": {},
     "output_type": "execute_result"
    }
   ],
   "source": [
    "device.properties.service.executionWindows[0].windowStartHour"
   ]
  },
  {
   "cell_type": "code",
   "execution_count": 287,
   "id": "b4af0cae",
   "metadata": {},
   "outputs": [],
   "source": [
    "import datetime\n",
    "device = AwsDevice(\"arn:aws:braket:::device/qpu/ionq/ionQdevice\")\n",
    "exec_day = device.properties.service.executionWindows[0].executionDay.value\n",
    "window_start_time = device.properties.service.executionWindows[0].windowStartHour\n",
    "timedelta_hour = datetime.timedelta(hours=window_start_time.hour, minutes=window_start_time.minute)\n",
    "current_time = datetime.datetime.utcnow()\n",
    "\n",
    "diff = 0\n",
    "today_day = current_time.weekday()\n",
    "\n",
    "if exec_day == 'Weekdays':\n",
    "    if today_day > 4:\n",
    "        diff = 7 - today_day\n",
    "elif exec_day == 'Weekend':\n",
    "    if today_day < 5:\n",
    "        diff = 5 - today_day\n",
    "\n",
    "timedelta = datetime.timedelta(diff)\n",
    "\n",
    "start_time = datetime.datetime(current_time.year, current_time.month, current_time.day) + timedelta\n",
    "\n",
    "start_time = start_time + timedelta_hour"
   ]
  },
  {
   "cell_type": "code",
   "execution_count": 288,
   "id": "9a0f1502",
   "metadata": {},
   "outputs": [
    {
     "data": {
      "text/plain": [
       "datetime.datetime(2021, 11, 22, 1, 51, 42, 975369)"
      ]
     },
     "execution_count": 288,
     "metadata": {},
     "output_type": "execute_result"
    }
   ],
   "source": [
    "current_time"
   ]
  },
  {
   "cell_type": "code",
   "execution_count": 289,
   "id": "241e62ab",
   "metadata": {},
   "outputs": [
    {
     "data": {
      "text/plain": [
       "1637545902975.369"
      ]
     },
     "execution_count": 289,
     "metadata": {},
     "output_type": "execute_result"
    }
   ],
   "source": [
    "current_time.timestamp()*1000"
   ]
  },
  {
   "cell_type": "code",
   "execution_count": 259,
   "id": "7762d5bf",
   "metadata": {},
   "outputs": [
    {
     "name": "stdout",
     "output_type": "stream",
     "text": [
      "next available time 0 days 4:55:2\n"
     ]
    }
   ],
   "source": [
    "delta = start_time - current_time\n",
    "\n",
    "day = delta.days\n",
    "\n",
    "hour = delta.seconds//3600\n",
    "\n",
    "minute = (delta.seconds - hour*60*60)//60\n",
    "\n",
    "sec = delta.seconds - hour*60*60 - minute*60\n",
    "\n",
    "print(\"next available time {} days {}:{}:{}\".format(day, hour, minute, sec))"
   ]
  },
  {
   "cell_type": "code",
   "execution_count": 304,
   "id": "34cec112",
   "metadata": {},
   "outputs": [
    {
     "name": "stdout",
     "output_type": "stream",
     "text": [
      "executionDay=<ExecutionDay.WEEKDAYS: 'Weekdays'> windowStartHour=datetime.time(13, 0) windowEndHour=datetime.time(2, 0)\n",
      "Weekdays\n",
      "0\n",
      "02:00:00\n"
     ]
    }
   ],
   "source": [
    "window = device.properties.service.executionWindows[0]\n",
    "print(window)\n",
    "print(window.executionDay.value)\n",
    "print(window.windowStartHour.minute)\n",
    "print(window.windowEndHour)"
   ]
  },
  {
   "cell_type": "code",
   "execution_count": 13,
   "id": "a9303aac",
   "metadata": {},
   "outputs": [],
   "source": [
    "class AwsDeviceTest:\n",
    "    def __init__(self, device):\n",
    "        self.__properties__ = device.properties\n",
    "        self._status = device.status\n",
    "    @staticmethod\n",
    "    def _splitWindow(window):\n",
    "        start_hour = window.windowStartHour.hour\n",
    "        start_min = window.windowStartHour.minute\n",
    "        end_hour = window.windowEndHour.hour\n",
    "        end_min = window.windowEndHour.minute\n",
    "        \n",
    "        return start_hour, start_min, end_hour, end_min\n",
    "    \n",
    "    def _createTimeRange(date, window, available_days):\n",
    "        TWENTY_FOUR_HOURS_IN_MILLISECONDS = 86400000\n",
    "        # hour/min string -> numbers\n",
    "        start_hour, start_min, end_hour, end_min = AwsDeviceTest._splitWindow(window)\n",
    "        \n",
    "        time_ranges = []\n",
    "        \n",
    "        for day in available_days:\n",
    "            # Set the start and end times to be on the same day as the current time, then shift them to there correct day using milliseconds offset\n",
    "            # Shifting after converting to milliseconds is much easier than dealing with calendar dates \n",
    "            start_utc = datetime.datetime(date.year, date.month, date.day, start_hour, start_min, 0).timestamp()*1000\n",
    "            end_utc = datetime.datetime(date.year, date.month, date.day, end_hour, end_min, 0).timestamp()*1000\n",
    "            \n",
    "            start_utc = start_utc + TWENTY_FOUR_HOURS_IN_MILLISECONDS * (day - date.weekday())\n",
    "            end_utc = end_utc + TWENTY_FOUR_HOURS_IN_MILLISECONDS * (day - date.weekday())\n",
    "            \n",
    "            if start_utc > end_utc:\n",
    "                # If the time wraps to the next day and the day is Sunday(6) we need to wrap to Monday(0) so zero out the current weekday \n",
    "                if (day == 6):\n",
    "                    wrap_start_utc = wrap_start_utc + TWENTY_FOUR_HOURS_IN_MILLISECONDS * (day - 7 - date.weekday())\n",
    "                    wrap_end_utc = wrap_end_utc + TWENTY_FOUR_HOURS_IN_MILLISECONDS * (day - 6 - date.weekday())\n",
    "                    \n",
    "                    time_ranges.insert(0, [wrap_start_utc, wrap_end_utc])\n",
    "                end_utc = end_utc + TWENTY_FOUR_HOURS_IN_MILLISECONDS\n",
    "            \n",
    "            time_ranges.append([start_utc, end_utc])\n",
    "        \n",
    "        return time_ranges\n",
    "    \n",
    "    def _getTimeDifference(date, window, available_days):\n",
    "        # We need to get the available windows in the current week and the week after incase the next available day is a week away.\n",
    "        # For example, if the current time 6 pm on Friday and the range is every Friday from 1pm-5pm, then the next range will be a next Friday at 1pm\n",
    "        # TODO\n",
    "\n",
    "        # Get current time in milliseconds\n",
    "        current_time = date.timestamp() * 1000\n",
    "        # Create an array of possible available ranges\n",
    "        time_ranges = AwsDeviceTest._createTimeRange(date, window, available_days)\n",
    "        \n",
    "        for time_range in time_ranges:\n",
    "            # If the current time is in the range then return 0\n",
    "            if current_time > time_range[0] and current_time < time_range[1]:\n",
    "                return 0\n",
    "            # The ranges will be in chronological order the current time will always be either in a range or less than one\n",
    "            elif current_time < time_range[0]:\n",
    "                return time_range[0] - current_time\n",
    "\n",
    "    @staticmethod\n",
    "    def next_available_time(self) -> int:\n",
    "        \"\"\"\n",
    "        Get the next available time in seconds. If the device is offline or retired, \n",
    "        The return value is -1\n",
    "\n",
    "        Examples:\n",
    "            >>> next_time_in_seconds = AwsDevice.next_available_time()\n",
    "\n",
    "        Returns:\n",
    "            int : next available time in seconds\n",
    "        \"\"\"\n",
    "        # refresh to get the recent meta data\n",
    "        # self._populate_properties(self._aws_session)\n",
    "        DaysEnum = {\n",
    "            'Sunday': 6,\n",
    "            'Monday': 0,\n",
    "            'Tuesday': 1,\n",
    "            'Wednesday': 2,\n",
    "            'Thursday': 3,\n",
    "            'Friday': 4,\n",
    "            'Saturday': 5\n",
    "            }\n",
    "            \n",
    "        if self._status in ['OFFLINE', 'RETIRED']:\n",
    "            # the device is not online\n",
    "            return -1\n",
    "            \n",
    "        windows = self._properties.service.executionWindows\n",
    "        \n",
    "        # minimum time is 20 ms\n",
    "        min_time = None\n",
    "        calc_time = 0\n",
    "        \n",
    "        date = datetime.datetime.utcnow()\n",
    "\n",
    "        for window in windows:\n",
    "            exec_day = window.executionDay.value\n",
    "            # \"Everyday\" | \"Weekdays\" | \"Weekend\" | \"Monday\" | \"Tuesday\" | \"Wednesday\" | \"Thursday\" | \"Friday\" | \"Saturday\" | \"Sunday\"\n",
    "            if exec_day == 'Everyday':\n",
    "                calc_time = AwsDevice._getTimeDifference(date, window, range(0,7))\n",
    "            elif exec_day == 'Weekdays':\n",
    "                calc_time = AwsDevice._getTimeDifference(date, window, range(0,6))\n",
    "            elif exec_day == 'Weekend':\n",
    "                calc_time = AwsDevice._getTimeDifference(date, window, [5,6])\n",
    "            else:\n",
    "                calc_time = AwsDevice._getTimeDifference(date, window, [DaysEnum[exec_day]])\n",
    "        \n",
    "        if (min_time == None or calc_time < min_time):\n",
    "            min_time = calc_time\n",
    "        if min_time == None:\n",
    "            return 0\n",
    "        else:\n",
    "            return min_time/1000."
   ]
  },
  {
   "cell_type": "code",
   "execution_count": 14,
   "id": "67ec6429",
   "metadata": {},
   "outputs": [
    {
     "name": "stderr",
     "output_type": "stream",
     "text": [
      "INFO:botocore.credentials:Found credentials in shared credentials file: ~/.aws/credentials\n",
      "INFO:botocore.credentials:Found credentials in shared credentials file: ~/.aws/credentials\n"
     ]
    },
    {
     "ename": "TypeError",
     "evalue": "next_available_time() missing 1 required positional argument: 'self'",
     "output_type": "error",
     "traceback": [
      "\u001b[0;31m---------------------------------------------------------------------------\u001b[0m",
      "\u001b[0;31mTypeError\u001b[0m                                 Traceback (most recent call last)",
      "\u001b[0;32m/var/folders/1h/djn4snhd2jd073ngq8cy0f000000gs/T/ipykernel_31678/1673975123.py\u001b[0m in \u001b[0;36m<module>\u001b[0;34m\u001b[0m\n\u001b[1;32m     13\u001b[0m \u001b[0mawsdevice\u001b[0m \u001b[0;34m=\u001b[0m \u001b[0mAwsDeviceTest\u001b[0m\u001b[0;34m(\u001b[0m\u001b[0mdevice\u001b[0m\u001b[0;34m)\u001b[0m\u001b[0;34m\u001b[0m\u001b[0;34m\u001b[0m\u001b[0m\n\u001b[1;32m     14\u001b[0m \u001b[0;34m\u001b[0m\u001b[0m\n\u001b[0;32m---> 15\u001b[0;31m \u001b[0mmin_time\u001b[0m \u001b[0;34m=\u001b[0m \u001b[0mawsdevice\u001b[0m\u001b[0;34m.\u001b[0m\u001b[0mnext_available_time\u001b[0m\u001b[0;34m(\u001b[0m\u001b[0;34m)\u001b[0m\u001b[0;34m\u001b[0m\u001b[0;34m\u001b[0m\u001b[0m\n\u001b[0m\u001b[1;32m     16\u001b[0m \u001b[0;34m\u001b[0m\u001b[0m\n\u001b[1;32m     17\u001b[0m \u001b[0mhour\u001b[0m \u001b[0;34m=\u001b[0m \u001b[0mmin_time\u001b[0m\u001b[0;34m//\u001b[0m\u001b[0;36m3600\u001b[0m\u001b[0;34m\u001b[0m\u001b[0;34m\u001b[0m\u001b[0m\n",
      "\u001b[0;31mTypeError\u001b[0m: next_available_time() missing 1 required positional argument: 'self'"
     ]
    }
   ],
   "source": [
    "from braket.aws import AwsDevice\n",
    "import datetime\n",
    "device = AwsDevice(\"arn:aws:braket:::device/qpu/d-wave/Advantage_system4\")\n",
    "# device = AwsDevice(\"arn:aws:braket:::device/qpu/d-wave/Advantage_system1\")\n",
    "# device = AwsDevice(\"arn:aws:braket:::device/qpu/d-wave/DW_2000Q_6\")\n",
    "# device = AwsDevice(\"arn:aws:braket:::device/qpu/ionq/ionQdevice\")\n",
    "# device = AwsDevice(\"arn:aws:braket:::device/qpu/rigetti/Aspen-8\")\n",
    "# device = AwsDevice(\"arn:aws:braket:::device/qpu/rigetti/Aspen-9\")\n",
    "# device = AwsDevice(\"arn:aws:braket:::device/qpu/rigetti/Aspen-10\")\n",
    "# device = AwsDevice(\"arn:aws:braket:::device/quantum-simulator/amazon/sv1\")\n",
    "# device = AwsDevice(\"arn:aws:braket:::device/quantum-simulator/amazon/tn1\")\n",
    "# device = AwsDevice(\"arn:aws:braket:::device/quantum-simulator/amazon/dm1\")\n",
    "awsdevice = AwsDeviceTest(device)\n",
    "\n",
    "min_time = awsdevice.next_available_time()\n",
    "\n",
    "hour = min_time//3600\n",
    "\n",
    "minute = (min_time - hour*60*60)//60\n",
    "\n",
    "sec = min_time - hour*60*60 - minute*60\n",
    "\n",
    "print(\"next available time {}:{}:{}\".format(hour, minute, sec))\n"
   ]
  },
  {
   "cell_type": "code",
   "execution_count": 17,
   "id": "09ba695b",
   "metadata": {},
   "outputs": [
    {
     "ename": "TypeError",
     "evalue": "next_available_time() missing 1 required positional argument: 'self'",
     "output_type": "error",
     "traceback": [
      "\u001b[0;31m---------------------------------------------------------------------------\u001b[0m",
      "\u001b[0;31mTypeError\u001b[0m                                 Traceback (most recent call last)",
      "\u001b[0;32m/var/folders/1h/djn4snhd2jd073ngq8cy0f000000gs/T/ipykernel_31678/1944583226.py\u001b[0m in \u001b[0;36m<module>\u001b[0;34m\u001b[0m\n\u001b[1;32m      1\u001b[0m \u001b[0mawsdevice\u001b[0m \u001b[0;34m=\u001b[0m \u001b[0mAwsDeviceTest\u001b[0m\u001b[0;34m(\u001b[0m\u001b[0mdevice\u001b[0m\u001b[0;34m)\u001b[0m\u001b[0;34m\u001b[0m\u001b[0;34m\u001b[0m\u001b[0m\n\u001b[0;32m----> 2\u001b[0;31m \u001b[0mawsdevice\u001b[0m\u001b[0;34m.\u001b[0m\u001b[0mnext_available_time\u001b[0m\u001b[0;34m(\u001b[0m\u001b[0;34m)\u001b[0m\u001b[0;34m\u001b[0m\u001b[0;34m\u001b[0m\u001b[0m\n\u001b[0m",
      "\u001b[0;31mTypeError\u001b[0m: next_available_time() missing 1 required positional argument: 'self'"
     ]
    }
   ],
   "source": [
    "awsdevice = AwsDeviceTest(device)\n",
    "awsdevice.next_available_time()"
   ]
  },
  {
   "cell_type": "code",
   "execution_count": 382,
   "id": "0d110504",
   "metadata": {},
   "outputs": [
    {
     "name": "stdout",
     "output_type": "stream",
     "text": [
      "calc time 0\n",
      "next available time 0.0:0.0:0.0\n"
     ]
    }
   ],
   "source": [
    "device = AwsDevice(\"arn:aws:braket:::device/qpu/d-wave/DW_2000Q_6\")\n",
    "min_time = getNextAvailable(device)\n",
    "\n",
    "hour = min_time//3600\n",
    "\n",
    "minute = (min_time - hour*60*60)//60\n",
    "\n",
    "sec = min_time - hour*60*60 - minute*60\n",
    "\n",
    "print(\"next available time {}:{}:{}\".format(hour, minute, sec))"
   ]
  },
  {
   "cell_type": "code",
   "execution_count": 366,
   "id": "d90e7db5",
   "metadata": {},
   "outputs": [
    {
     "data": {
      "text/plain": [
       "DeviceExecutionWindow(executionDay=<ExecutionDay.WEEKDAYS: 'Weekdays'>, windowStartHour=datetime.time(13, 0), windowEndHour=datetime.time(2, 0))"
      ]
     },
     "execution_count": 366,
     "metadata": {},
     "output_type": "execute_result"
    }
   ],
   "source": [
    "device.properties.service.executionWindows[0]"
   ]
  },
  {
   "cell_type": "code",
   "execution_count": 346,
   "id": "cbf0ef0e",
   "metadata": {},
   "outputs": [],
   "source": [
    "date = datetime.datetime.utcnow()"
   ]
  },
  {
   "cell_type": "code",
   "execution_count": 352,
   "id": "218ef2ff",
   "metadata": {},
   "outputs": [
    {
     "data": {
      "text/plain": [
       "0"
      ]
     },
     "execution_count": 352,
     "metadata": {},
     "output_type": "execute_result"
    }
   ],
   "source": [
    "start_hour = window.windowStartHour.hour\n",
    "start_min = window.windowStartHour.minute\n",
    "end_hour = window.windowEndHour.hour\n",
    "end_min = window.windowEndHour.minute\n",
    "\n",
    "start_utc = datetime.datetime(date.year, date.month, date.day, start_hour, start_min, 0)\n",
    "end_utc = datetime.datetime(date.year, date.month, date.day, end_hour, end_min, 0)\n",
    "start_utc.weekday()"
   ]
  },
  {
   "cell_type": "code",
   "execution_count": 257,
   "id": "0a49c0a7",
   "metadata": {},
   "outputs": [
    {
     "data": {
      "text/plain": [
       "4"
      ]
     },
     "execution_count": 257,
     "metadata": {},
     "output_type": "execute_result"
    }
   ],
   "source": [
    "today_day"
   ]
  },
  {
   "cell_type": "code",
   "execution_count": 102,
   "id": "0ff734f8",
   "metadata": {},
   "outputs": [
    {
     "data": {
      "text/plain": [
       "datetime.timedelta(days=18949, seconds=31654, microseconds=708438)"
      ]
     },
     "execution_count": 102,
     "metadata": {},
     "output_type": "execute_result"
    }
   ],
   "source": [
    "import datetime\n",
    "\n",
    "a = datetime.datetime.utcnow()\n",
    "b = datetime.datetime(1970, 1, 1)\n",
    "a -b"
   ]
  },
  {
   "cell_type": "code",
   "execution_count": 110,
   "id": "ae9e80c9",
   "metadata": {},
   "outputs": [
    {
     "data": {
      "text/plain": [
       "4"
      ]
     },
     "execution_count": 110,
     "metadata": {},
     "output_type": "execute_result"
    }
   ],
   "source": [
    "(today.weekday() + 6) % 7"
   ]
  },
  {
   "cell_type": "code",
   "execution_count": 109,
   "id": "f4bf1184",
   "metadata": {},
   "outputs": [
    {
     "name": "stdout",
     "output_type": "stream",
     "text": [
      "2021-11-14 00:00:00\n"
     ]
    }
   ],
   "source": [
    "today = datetime.datetime(2021, 11, 13)\n",
    "\n",
    "\n",
    "offset = max(0, (today.weekday() + 6) % 7 - 3)\n",
    "\n",
    "\n",
    "timedelta = datetime.timedelta(offset)\n",
    "\n",
    "\n",
    "most_recent = today + timedelta\n",
    "\n",
    "\n",
    "print(most_recent)"
   ]
  }
 ],
 "metadata": {
  "interpreter": {
   "hash": "18f113ef20d2e5656a0bc837e6c476bd436e29840b6ed1847ecdb90743164c58"
  },
  "kernelspec": {
   "display_name": "conda_braket",
   "language": "python",
   "name": "python3"
  },
  "language_info": {
   "codemirror_mode": {
    "name": "ipython",
    "version": 3
   },
   "file_extension": ".py",
   "mimetype": "text/x-python",
   "name": "python",
   "nbconvert_exporter": "python",
   "pygments_lexer": "ipython3",
   "version": "3.7.12"
  }
 },
 "nbformat": 4,
 "nbformat_minor": 5
}
