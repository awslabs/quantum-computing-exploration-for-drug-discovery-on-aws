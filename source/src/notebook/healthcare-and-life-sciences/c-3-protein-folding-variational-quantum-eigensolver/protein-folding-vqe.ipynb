{
 "cells": [
  {
   "cell_type": "markdown",
   "id": "1fe1ac4e-0d03-4547-a8a9-46e3ad7cae5d",
   "metadata": {},
   "source": [
    "# Protein Folding using Variational Quantum Eigensolver (VQE)"
   ]
  },
  {
   "cell_type": "markdown",
   "id": "19dc80b0-8636-4f93-a117-2e89a62c068d",
   "metadata": {},
   "source": [
    "Protein folding has been one of the most interesting areas of study since 1960 and is one of the hardest problem to solve in biochemistry. Proteins are made of long chains of amino acids that are present in all living organism. They have varying range of functions from providing physical structures to allow muscles to grow and bend. Protein folds distinctively, and with varying chains of amino acids it becomes more difficult and complex to find protein's stable structure. \n",
    "\n",
    "Researchers at IBM have developed a quantum algorithm to demonstrate how quantum computing can help improve these computations to find protein structures more efficiently. In this notebook, we will demonstrate how to use Variational Quantum Eigensolver (VQE) algorithm using Qiskit Nature to predict protein structures. We will demonstrate how we can run this algorithm on Amazon Braket using Amazon Braket's hybrid jobs. "
   ]
  },
  {
   "cell_type": "markdown",
   "id": "6e8d6588-09bd-4c9e-8dd8-1030f44ee7bc",
   "metadata": {},
   "source": [
    "We will begin by importing Amazon Braket SDK to run jobs locally or as a hybrid job on Amazon Braket. "
   ]
  },
  {
   "cell_type": "code",
   "execution_count": null,
   "id": "f3d61463-5b78-4d16-88a3-2e2e208240d2",
   "metadata": {
    "tags": []
   },
   "outputs": [],
   "source": [
    "## NOTE: Optional\n",
    "# !pip install -r requirements.txt -q "
   ]
  },
  {
   "cell_type": "code",
   "execution_count": null,
   "id": "f746b874-122f-49c3-ad2c-6b612c747adb",
   "metadata": {
    "tags": []
   },
   "outputs": [],
   "source": [
    "from braket.jobs.local.local_job import LocalQuantumJob\n",
    "from braket.aws import AwsQuantumJob, AwsSession\n",
    "from braket.jobs.config import InstanceConfig\n",
    "import time\n",
    "import boto3"
   ]
  },
  {
   "cell_type": "markdown",
   "id": "b23eb2ed-4763-49b5-84d4-d86ccf9ccf77",
   "metadata": {},
   "source": [
    "Amazon Braket allows you to bring any third party libraries by allowing you to build your own docker image. We will build a Docker image by extending base Amazon Braket image and installing Qiskit Nature and Qiskit Braket provider plugin."
   ]
  },
  {
   "cell_type": "code",
   "execution_count": null,
   "id": "fe008b1e-15f8-460e-864d-c5344334eed9",
   "metadata": {
    "tags": []
   },
   "outputs": [],
   "source": [
    "%%writefile Dockerfile\n",
    "FROM 292282985366.dkr.ecr.us-west-2.amazonaws.com/amazon-braket-base-jobs:1.0-cpu-py37-ubuntu18.04\n",
    "COPY requirements.txt ./\n",
    "RUN python3 -m pip install -r ./requirements.txt"
   ]
  },
  {
   "cell_type": "markdown",
   "id": "0c7baa6f-1743-4deb-a1a2-11486ec7ca07",
   "metadata": {},
   "source": [
    "Docker login to Amazon Braket's ECR repository to pull base Docker image. Do not change region or account id below."
   ]
  },
  {
   "cell_type": "code",
   "execution_count": null,
   "id": "0f06fcd2-d04b-4df5-b2d4-5f4847d916dc",
   "metadata": {
    "tags": []
   },
   "outputs": [],
   "source": [
    "%%sh\n",
    "#!/bin/bash\n",
    "region=\"us-west-2\"\n",
    "account=\"292282985366\"\n",
    "aws ecr get-login-password --region $region | docker login --username AWS --password-stdin $account.dkr.ecr.$region.amazonaws.com"
   ]
  },
  {
   "cell_type": "markdown",
   "id": "b6929020-173c-42e3-93ba-fcbbea8250c8",
   "metadata": {},
   "source": [
    "Next, we will allow Docker login to your AWS Account. Here, update your region and account id where you would like to run Amazon Braket job."
   ]
  },
  {
   "cell_type": "code",
   "execution_count": null,
   "id": "e5aceeb0-3fff-4af3-aecb-92fe98652640",
   "metadata": {
    "tags": []
   },
   "outputs": [],
   "source": [
    "%%sh\n",
    "#!/bin/bash\n",
    "region=\"us-west-2\"\n",
    "account=\"123456789012\"\n",
    "aws ecr get-login-password --region $region | docker login --username AWS --password-stdin $account.dkr.ecr.$region.amazonaws.com"
   ]
  },
  {
   "cell_type": "markdown",
   "id": "35266c43-3993-44f9-83e7-0d83f30ffef2",
   "metadata": {},
   "source": [
    "Next, we will create AWS ECR repository where we can push our Docker image. "
   ]
  },
  {
   "cell_type": "code",
   "execution_count": null,
   "id": "9bb148c2-268c-4edf-8611-b5922caed45d",
   "metadata": {
    "tags": []
   },
   "outputs": [],
   "source": [
    "%%sh\n",
    "#!/bin/bash\n",
    "region=\"us-west-2\"\n",
    "aws ecr create-repository --repository-name amazon-braket-protein-folding --region $region"
   ]
  },
  {
   "cell_type": "markdown",
   "id": "df1e7abd-4a5d-4ceb-9acc-866429a14d88",
   "metadata": {},
   "source": [
    "After successfully creating AWS ECR repository to store docker image, we will go ahead and build, tag and push docker image to AWS ECR repository."
   ]
  },
  {
   "cell_type": "code",
   "execution_count": null,
   "id": "8daec07f-20ea-4875-b146-5d48c51f0bac",
   "metadata": {
    "tags": []
   },
   "outputs": [],
   "source": [
    "! docker build -t amazon-braket-protein-folding ."
   ]
  },
  {
   "cell_type": "code",
   "execution_count": null,
   "id": "abc4b57f-c4e8-499f-b147-060140ac7300",
   "metadata": {
    "tags": []
   },
   "outputs": [],
   "source": [
    "%%sh\n",
    "#!/bin/bash\n",
    "region=\"us-west-2\"\n",
    "account=\"123456789012\"\n",
    "docker tag amazon-braket-protein-folding:latest $account.dkr.ecr.$region.amazonaws.com/amazon-braket-protein-folding:latest"
   ]
  },
  {
   "cell_type": "code",
   "execution_count": null,
   "id": "28913c5f-3cff-4b1f-9819-52defff45dbb",
   "metadata": {
    "tags": []
   },
   "outputs": [],
   "source": [
    "%%sh\n",
    "#!/bin/bash\n",
    "region=\"us-west-2\"\n",
    "account=\"123456789012\"\n",
    "docker push $account.dkr.ecr.$region.amazonaws.com/amazon-braket-protein-folding:latest"
   ]
  },
  {
   "cell_type": "code",
   "execution_count": null,
   "id": "5d636e5c-12da-4b4d-bf95-96cf05f6564a",
   "metadata": {
    "tags": []
   },
   "outputs": [],
   "source": [
    "penalty_params = {\n",
    "    \"penalty_back\": 10,\n",
    "    \"penalty_chiral\": 10,\n",
    "    \"penalty_1\": 10\n",
    "}\n",
    "\n",
    "optimizer_params = {\n",
    "    \"maxiter\": 500\n",
    "}\n",
    "\n",
    "hyperparameters_quantum_job = {\n",
    "    \"main_chain\": \"APRLRFY\", \n",
    "    \"side_chains\": None,               \n",
    "    \"penalty_params\": penalty_params,\n",
    "    \"optimizer\": \"COBYLA\",\n",
    "    \"optimizer_params\": optimizer_params,\n",
    "    \"interaction\" : \"MiyazawaJerniganInteraction\",\n",
    "    \"shots\": 10\n",
    "}"
   ]
  },
  {
   "cell_type": "markdown",
   "id": "892b8bc9-3f6b-45a4-a529-e61c8092b482",
   "metadata": {},
   "source": [
    "### Run it locally"
   ]
  },
  {
   "cell_type": "code",
   "execution_count": null,
   "id": "15bd538f-661f-43e2-9105-d1bb43a3c889",
   "metadata": {
    "tags": []
   },
   "outputs": [],
   "source": [
    "from braket.jobs.local import LocalQuantumJob\n",
    "\n",
    "account = \"123456789012\"\n",
    "region = \"us-west-2\"\n",
    "\n",
    "job = LocalQuantumJob.create(\n",
    "    device=\"local\",\n",
    "    source_module=\"src/vqe.py\",\n",
    "    hyperparameters=hyperparameters_quantum_job,\n",
    "    image_uri=f\"{account}.dkr.ecr.{region}.amazonaws.com/amazon-braket-protein-folding:latest\"\n",
    ")"
   ]
  },
  {
   "cell_type": "markdown",
   "id": "34d6a083-1e88-4640-934f-86ac1a036748",
   "metadata": {},
   "source": [
    "### Submit Amazon Braket Hybrid job"
   ]
  },
  {
   "cell_type": "code",
   "execution_count": null,
   "id": "3cfe57b6-b94c-4661-811e-dd47f3dbdb0d",
   "metadata": {
    "tags": []
   },
   "outputs": [],
   "source": [
    "q_device = \"arn:aws:braket:::device/quantum-simulator/amazon/sv1\"\n",
    "job_instance_type=\"ml.m5.4xlarge\"\n",
    "\n",
    "account = \"123456789012\"\n",
    "region = \"us-west-2\"\n",
    "\n",
    "## Run it as a job on Braket. Provide quantum hardware ARN to run on a quantum device\n",
    "job = AwsQuantumJob.create(\n",
    "    device=q_device,\n",
    "    source_module=\"src/vqe.py\",\n",
    "    job_name=f\"protein-folding-job-{int(time.time())}\",\n",
    "    instance_config=InstanceConfig(instanceType=job_instance_type),\n",
    "    image_uri=f\"{account}.dkr.ecr.{region}.amazonaws.com/amazon-braket-protein-folding:latest\",\n",
    "    copy_checkpoints_from_job=None,\n",
    "    hyperparameters=hyperparameters_quantum_job,\n",
    "    wait_until_complete=False\n",
    ")"
   ]
  },
  {
   "cell_type": "markdown",
   "id": "f970fe74-281b-4ed4-8465-86d04cbbe396",
   "metadata": {},
   "source": [
    "After successfully submit, you can monitor progress of the job and track VQE algorithm finding minimum energy of the protein. Energy graph is available under \"Monitor\" tab in Amazon Braket job. "
   ]
  },
  {
   "cell_type": "markdown",
   "id": "ff7d79c6-1175-4ab2-ab4f-24722c87f7b5",
   "metadata": {},
   "source": [
    "<img src=\"energy_graph.png\" alt=\"Energy Graph\" />"
   ]
  },
  {
   "cell_type": "markdown",
   "id": "0542344a-9fa9-4c5b-89d4-76bddad760ab",
   "metadata": {},
   "source": [
    "### Analyzing result"
   ]
  },
  {
   "cell_type": "code",
   "execution_count": null,
   "id": "6e491f91-d8ac-46bd-bbf0-853601818098",
   "metadata": {
    "tags": []
   },
   "outputs": [],
   "source": [
    "# We will download our job result\n",
    "job.download_result()"
   ]
  },
  {
   "cell_type": "code",
   "execution_count": null,
   "id": "f3fac222-c35f-47a6-8d86-f2df4b7c7d19",
   "metadata": {
    "tags": []
   },
   "outputs": [],
   "source": [
    "# Extract files\n",
    "!tar -xf model.tar.gz"
   ]
  },
  {
   "cell_type": "markdown",
   "id": "10dd374e-1d1f-4713-b282-7167118422ca",
   "metadata": {},
   "source": [
    "At this point, you should see 3 files extracted from `model.tar.gz`. \n",
    "1. Your provided chain name XYZ coordinates file\n",
    "2. PDB file\n",
    "3. optimal_point.npy file containing optimal point for minimum energy. Next time you can provide this optimal point to begin optimizing from these points. "
   ]
  },
  {
   "cell_type": "markdown",
   "id": "c6fd6de2-0aa1-4fe9-ba38-34ad49df538e",
   "metadata": {},
   "source": [
    "Navigate to `https://www.rcsb.org/3d-view` and click on `Open Files`. Select either PDB or xyz file to visualize the structure. "
   ]
  },
  {
   "attachments": {},
   "cell_type": "markdown",
   "id": "eff5175c-0602-4571-8fcf-915ab745d013",
   "metadata": {},
   "source": [
    "## Citations"
   ]
  },
  {
   "cell_type": "markdown",
   "id": "54a9c201-3d22-4fa2-bfb9-139d61d0b22f",
   "metadata": {
    "tags": []
   },
   "source": [
    "Qiskit: An Open-Source Framework for Quantum Computing. 2021, https://doi.org10.5281/zenodo.2573505."
   ]
  }
 ],
 "metadata": {
  "kernelspec": {
   "display_name": "Python 3",
   "language": "python",
   "name": "python3"
  },
  "language_info": {
   "codemirror_mode": {
    "name": "ipython",
    "version": 3
   },
   "file_extension": ".py",
   "mimetype": "text/x-python",
   "name": "python",
   "nbconvert_exporter": "python",
   "pygments_lexer": "ipython3",
   "version": "3.9.1"
  },
  "vscode": {
   "interpreter": {
    "hash": "aee8b7b246df8f9039afb4144a1f6fd8d2ca17a180786b69acc140d282b71a49"
   }
  }
 },
 "nbformat": 4,
 "nbformat_minor": 5
}
