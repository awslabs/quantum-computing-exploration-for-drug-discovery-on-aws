{
 "cells": [
  {
   "attachments": {},
   "cell_type": "markdown",
   "id": "1755dcd8",
   "metadata": {},
   "source": [
    "# Algorithm Explained"
   ]
  },
  {
   "cell_type": "code",
   "execution_count": 1,
   "id": "ec2fe146",
   "metadata": {},
   "outputs": [
    {
     "name": "stderr",
     "output_type": "stream",
     "text": [
      "2023-05-27 12:01:05,750 dwave.cloud INFO MainThread Log level for 'dwave.cloud' namespace set to 0\n"
     ]
    }
   ],
   "source": [
    "from hybridjobs.utility.MoleculeParser import MoleculeData\n",
    "from hybridjobs.utility.QMUQUBO import QMUQUBO\n",
    "from hybridjobs.utility.AnnealerOptimizer import Annealer\n",
    "from hybridjobs.utility.ResultProcess import ResultParser\n",
    "import time\n",
    "\n",
    "timestamp = time.strftime(\"%Y%m%d-%H\")"
   ]
  },
  {
   "attachments": {},
   "cell_type": "markdown",
   "id": "68c6b938",
   "metadata": {},
   "source": [
    "#### Step 1: Prepare Data"
   ]
  },
  {
   "attachments": {},
   "cell_type": "markdown",
   "id": "977b418f",
   "metadata": {},
   "source": [
    "In this part, we load the raw molecule data for experiment.\n",
    "The [117 ligand](http://www.rcsb.org/ligand/117) was \n",
    "put in the repository. We assign the relative \n",
    "path to **raw_path**.\n",
    "The **s3_bucket** and **prefix** are used to store the \n",
    "optimization results. We can use the one created with the \n",
    "cloudformation for convenience."
   ]
  },
  {
   "cell_type": "code",
   "execution_count": 2,
   "id": "ea880ba2",
   "metadata": {},
   "outputs": [],
   "source": [
    "from braket.aws import AwsSession\n",
    "\n",
    "# initial parameters for experiment data\n",
    "s3_bucket = AwsSession().default_bucket() # change to the name of bucket created in your deployment\n",
    "prefix = \"molecular-unfolding\" # the name of the folder in the bucket\n",
    "\n",
    "raw_path = './molecular-unfolding-data/117_ideal.mol2' # the mol2 file for this experiment"
   ]
  },
  {
   "cell_type": "code",
   "execution_count": 3,
   "id": "e823bd32",
   "metadata": {},
   "outputs": [
    {
     "name": "stderr",
     "output_type": "stream",
     "text": [
      "INFO:root:parse mol2 file!\n",
      "INFO:root:finish save qmu_117_ideal_data_latest.pickle\n"
     ]
    },
    {
     "name": "stdout",
     "output_type": "stream",
     "text": [
      "You have loaded the raw molecule data and saved as ./qmu_117_ideal_data_latest.pickle. \n",
      "This molecule has 23 rotable bond\n"
     ]
    }
   ],
   "source": [
    "mol_data = MoleculeData(raw_path, 'qmu')\n",
    "\n",
    "data_path = mol_data.save(\"latest\")\n",
    "\n",
    "num_rotation_bond = mol_data.bond_graph.rb_num\n",
    "print(f\"You have loaded the raw molecule data and saved as {data_path}. \\n\\\n",
    "This molecule has {num_rotation_bond} rotable bond\")"
   ]
  },
  {
   "attachments": {},
   "cell_type": "markdown",
   "id": "654360b3",
   "metadata": {},
   "source": [
    "After running this block, the processed data \n",
    "will be saved as **qmu_117_ideal_data_latest.pickle**\n",
    "and **data_path** will be updated. We can see that this \n",
    "molecule has 23 rotatable bonds."
   ]
  },
  {
   "attachments": {},
   "cell_type": "markdown",
   "id": "8431116a",
   "metadata": {},
   "source": [
    "#### Step 2: Build Model"
   ]
  },
  {
   "attachments": {},
   "cell_type": "markdown",
   "id": "761f8310",
   "metadata": {},
   "source": [
    "In this part, we build the Quadratic Unconstrained \n",
    "Binary Optimization (QUBO) model for molecular unfolding.\n",
    "\n",
    "First, we set the following parameters and \n",
    "initialize the QMUQUBO object. \n",
    "\n",
    "<center>\n",
    "\n",
    "| Parameter | Description | Value |\n",
    "|--- |--- |--- |\n",
    "|A | penalty scalar |300|\n",
    "|hubo_qubo_val | energy penalty of make_quadratic() |200|\n",
    "|M | number of torsions for molecular unfolding| [1, max number of rotatable bonds] |\n",
    "|D| angle precision of rotation| 8|\n",
    "|method| the method of building model| 'pre-calc': calculate the score in advance|\n",
    "\n",
    " </center>"
   ]
  },
  {
   "attachments": {},
   "cell_type": "markdown",
   "id": "b45b1b23",
   "metadata": {},
   "source": [
    "We use the 'pre-calc' method \n",
    "to build the model. This molecule has 23 rotatable bonds and \n",
    "we only test 2 of them, so we set the **M** to 2. And we want \n",
    "the angle to become $45^o$, so we set the **D** to 8 \n",
    "(i.e., $8=360^o/45^o$). The **A** and **hubo_qubo_val** are \n",
    "test from experiments. "
   ]
  },
  {
   "cell_type": "code",
   "execution_count": 4,
   "id": "89c4c746",
   "metadata": {},
   "outputs": [
    {
     "name": "stderr",
     "output_type": "stream",
     "text": [
      "INFO:root:initial pre-calculate for constructing molecule QUBO\n"
     ]
    }
   ],
   "source": [
    "# initial the QMUQUBO object\n",
    "init_param = {}\n",
    "method = ['pre-calc']\n",
    "\n",
    "for mt in method:\n",
    "    if mt == 'pre-calc':\n",
    "        init_param[mt] = {}\n",
    "        init_param[mt]['param'] = ['M', 'D', 'A', 'hubo_qubo_val']\n",
    "    \n",
    "qmu_qubo = QMUQUBO(mol_data, method, **init_param)"
   ]
  },
  {
   "cell_type": "code",
   "execution_count": 5,
   "id": "69ffcbfd",
   "metadata": {},
   "outputs": [
    {
     "name": "stderr",
     "output_type": "stream",
     "text": [
      "INFO:root:Construct model for M:1,D:8,A:300,hubo_qubo_val:200 6.385644276936849e-05 min\n",
      "INFO:root:Construct model for M:2,D:8,A:300,hubo_qubo_val:200 0.0006583054860432942 min\n",
      "INFO:root:Construct model for M:3,D:8,A:300,hubo_qubo_val:200 0.006797945499420166 min\n"
     ]
    },
    {
     "data": {
      "text/plain": [
       "0"
      ]
     },
     "execution_count": 5,
     "metadata": {},
     "output_type": "execute_result"
    }
   ],
   "source": [
    "# set the parameters for model\n",
    "model_param = {}\n",
    "# parameters\n",
    "num_rotation_bond = mol_data.bond_graph.rb_num\n",
    "\n",
    "method = 'pre-calc'\n",
    "model_param[method] = {}\n",
    "# model_param[method]['M'] = range(1, num_rotation_bond+1)\n",
    "model_param[method]['M'] = [1,2,3]\n",
    "model_param[method]['D'] = [8]\n",
    "model_param[method]['A'] = [300]\n",
    "model_param[method]['hubo_qubo_val'] = [200]\n",
    "\n",
    "qmu_qubo.build_model(**model_param)"
   ]
  },
  {
   "attachments": {},
   "cell_type": "markdown",
   "id": "a9624b3f",
   "metadata": {},
   "source": [
    "We can use the following method to check the properties of \n",
    "model. This way, we can build many models conveniently. \n",
    "After that, we save the model and update the value of \n",
    "**model_path**."
   ]
  },
  {
   "cell_type": "code",
   "execution_count": 6,
   "id": "431a9c5a",
   "metadata": {},
   "outputs": [
    {
     "name": "stderr",
     "output_type": "stream",
     "text": [
      "INFO:root:method: pre-calc\n",
      "INFO:root:The model_name should be {M}_{D}_{A}_{hubo_qubo_val}\n",
      "INFO:root:param: M, value {1, 2, 3}\n",
      "INFO:root:param: D, value {8}\n",
      "INFO:root:param: A, value {300}\n",
      "INFO:root:param: hubo_qubo_val, value {200}\n"
     ]
    }
   ],
   "source": [
    "# describe the model parameters\n",
    "model_info = qmu_qubo.describe_model()"
   ]
  },
  {
   "cell_type": "code",
   "execution_count": 7,
   "id": "8cfdc3cb",
   "metadata": {},
   "outputs": [
    {
     "name": "stderr",
     "output_type": "stream",
     "text": [
      "INFO:root:finish save qmu_117_ideal_model_latest.pickle\n"
     ]
    },
    {
     "name": "stdout",
     "output_type": "stream",
     "text": [
      "You have built the QUBO model and saved it as ./qmu_117_ideal_model_latest.pickle\n"
     ]
    }
   ],
   "source": [
    "# save the model\n",
    "model_path = qmu_qubo.save(\"latest\")\n",
    "\n",
    "print(f\"You have built the QUBO model and saved it as {model_path}\")"
   ]
  },
  {
   "attachments": {},
   "cell_type": "markdown",
   "id": "fb42eb0f",
   "metadata": {},
   "source": [
    "#### Step 3: Optimize Configuration"
   ]
  },
  {
   "attachments": {},
   "cell_type": "markdown",
   "id": "2b3febaf",
   "metadata": {},
   "source": [
    "In this part, we use SA and QA to find the optimized configuration of molecular unfolding.\n",
    "At first, we load the model file using **QMUQUBO** object"
   ]
  },
  {
   "cell_type": "code",
   "execution_count": 8,
   "id": "d4e2a058",
   "metadata": {},
   "outputs": [],
   "source": [
    "qmu_qubo_optimize = QMUQUBO.load(model_path)"
   ]
  },
  {
   "cell_type": "code",
   "execution_count": 9,
   "id": "40f19710",
   "metadata": {},
   "outputs": [
    {
     "name": "stderr",
     "output_type": "stream",
     "text": [
      "INFO:root:method: pre-calc\n",
      "INFO:root:The model_name should be {M}_{D}_{A}_{hubo_qubo_val}\n",
      "INFO:root:param: M, value {1, 2, 3}\n",
      "INFO:root:param: D, value {8}\n",
      "INFO:root:param: A, value {300}\n",
      "INFO:root:param: hubo_qubo_val, value {200}\n"
     ]
    }
   ],
   "source": [
    "model_info = qmu_qubo_optimize.describe_model()"
   ]
  },
  {
   "attachments": {},
   "cell_type": "markdown",
   "id": "b363515e",
   "metadata": {},
   "source": [
    "We can see the parameters of this model, with M equaling 1,2 or 3, D equaling 8, \n",
    "A equaling 300 and hubo_qubo_val equaling 200. \n",
    "Actually, we can contain multiple models in this file just \n",
    "by giving multiple values for one parameter when creating models.\n",
    "\n",
    "Actually, we can contain multiple models in this file just \n",
    "by giving multiple values for one parameter when creating models.\n",
    "Then, we need use **model_name** to get the model for experiments."
   ]
  },
  {
   "cell_type": "code",
   "execution_count": 10,
   "id": "c89eb573",
   "metadata": {},
   "outputs": [],
   "source": [
    "# get the model you want to optimize\n",
    "M = 2\n",
    "D = 8\n",
    "A = 300\n",
    "hubo_qubo_val = 200\n",
    "model_name = \"{}_{}_{}_{}\".format(M, D, A, hubo_qubo_val)\n",
    "method = \"pre-calc\"\n",
    "\n",
    "qubo_model = qmu_qubo_optimize.get_model(method, model_name)"
   ]
  },
  {
   "attachments": {},
   "cell_type": "markdown",
   "id": "7fe4c79b",
   "metadata": {},
   "source": [
    "We can see that we want to carry out experiment with the QUBO model with M equaling 2.\n",
    " After that, we set the parameters for optimization.\n",
    "\n",
    "| Parameter | Description | Value |\n",
    "|--- |--- |--- |\n",
    "|method | annealing method for QUBO problem |'dwave-sa': use the simulated annealer in ocean toolkit<br> 'dwave-qa': use the quantum annealer|\n",
    "|shots| number of reads, refer to [dwave-sa](https://docs.ocean.dwavesys.com/projects/neal/en/latest/reference/generated/neal.sampler.SimulatedAnnealingSampler.sample.html#neal.sampler.SimulatedAnnealingSampler.sample) and [dwave-qa](https://amazon-braket-ocean-plugin-python.readthedocs.io/en/latest/_apidoc/braket.ocean_plugin.braket_sampler.html) for details |1 to 10,000|\n",
    "|bucket | the s3 bucket to store your results | - |\n",
    "|prefix | the name of the folder in your s3 bucket | - |\n",
    "|device | the arn name to run your quantum annealing| 'arn:aws:braket:::device/qpu/d-wave/Advantage_system4' <br> 'arn:aws:braket:::device/qpu/d-wave/DW_2000Q_6'|\n",
    "\n",
    "Then, we can run the SA for this problem:"
   ]
  },
  {
   "cell_type": "code",
   "execution_count": 11,
   "id": "bac3b192",
   "metadata": {},
   "outputs": [
    {
     "name": "stderr",
     "output_type": "stream",
     "text": [
      "INFO:root:use neal simulated annealer (c++) from dimod\n"
     ]
    }
   ],
   "source": [
    "method = 'neal-sa'\n",
    "\n",
    "optimizer_param = {}\n",
    "optimizer_param['shots'] = 1000\n",
    "\n",
    "sa_optimizer = Annealer(qubo_model, method, **optimizer_param)"
   ]
  },
  {
   "cell_type": "code",
   "execution_count": 12,
   "id": "f1b28e0d",
   "metadata": {},
   "outputs": [
    {
     "name": "stderr",
     "output_type": "stream",
     "text": [
      "INFO:root:fit() ...\n",
      "INFO:root:neal-sa save to local\n",
      "INFO:root:finish save neal-sa_result.pickle\n"
     ]
    }
   ],
   "source": [
    "sa_optimize_result = sa_optimizer.fit()"
   ]
  },
  {
   "attachments": {},
   "cell_type": "markdown",
   "id": "99c606d2",
   "metadata": {},
   "source": [
    "We can tell that we set the number of shots for SA to 1000. \n",
    "The result is saved as the local file **./sa_result.pickle.**\n",
    "Alternatively, we can use QA to solve this problem:"
   ]
  },
  {
   "cell_type": "code",
   "execution_count": 13,
   "id": "efaea78d",
   "metadata": {},
   "outputs": [],
   "source": [
    "# # dwave device has been moved to marketplace, please refer to the following link\n",
    "# # https://aws.amazon.com/blogs/quantum-computing/using-d-wave-leap-from-the-aws-marketplace-with-amazon-braket-notebooks-and-braket-sdk/\n",
    "# method = 'dwave-qa'\n",
    "\n",
    "# optimizer_param = {}\n",
    "# optimizer_param['shots'] = 1000\n",
    "# optimizer_param['bucket'] = s3_bucket # the name of the bucket\n",
    "# optimizer_param['prefix'] = prefix # the name of the folder in the bucket\n",
    "# optimizer_param['device'] = \"arn:aws:braket:::device/qpu/d-wave/Advantage_system4\"\n",
    "# optimizer_param[\"embed_method\"] = \"default\"\n",
    "\n",
    "# qa_optimizer = Annealer(qubo_model, method, **optimizer_param)\n",
    "\n",
    "# # not create annealing task, only embedding logic\n",
    "# qa_optimizer.embed()\n",
    "# # create annealing task\n",
    "# qa_optimize_result = qa_optimizer.fit()\n",
    "\n",
    "# # not create annealing task, only embedding logic\n",
    "# qa_optimizer.embed()\n",
    "# # create annealing task\n",
    "# qa_optimize_result = qa_optimizer.fit()"
   ]
  },
  {
   "attachments": {},
   "cell_type": "markdown",
   "id": "84901a01",
   "metadata": {},
   "source": [
    "Finally, we can compare the execution time between SA and QA :"
   ]
  },
  {
   "cell_type": "code",
   "execution_count": 13,
   "id": "6023a8fb",
   "metadata": {},
   "outputs": [
    {
     "name": "stdout",
     "output_type": "stream",
     "text": [
      "dwave-sa run time 0.3223903179168701\n"
     ]
    }
   ],
   "source": [
    "print(f\"dwave-sa run time {sa_optimize_result['time']}\")"
   ]
  },
  {
   "attachments": {},
   "cell_type": "markdown",
   "id": "86f0ed9a",
   "metadata": {},
   "source": [
    "We sometimes get the best result that occurs only once. This does not always indicate an error. It is actually the characteristic of the problem or how the problem \n",
    "is formulated. Because we have different linear and quadratic terms that vary by many orders of magnitude. If we \n",
    "set change value of A to some smaller number, like 10 or 100, more occurrences of the best answer will be observed. \n",
    "However, these answers usually break the constraints. For more information about this phenomenon, please refer to this \n",
    "[Link](https://support.dwavesys.com/hc/en-us/community/posts/1500000698522-Number-of-occurrences-?input_string=number%20occurance)."
   ]
  },
  {
   "attachments": {},
   "cell_type": "markdown",
   "id": "ddcba0ff",
   "metadata": {},
   "source": [
    "#### Step 4: PostProcess Result"
   ]
  },
  {
   "attachments": {},
   "cell_type": "markdown",
   "id": "2d0d4d09",
   "metadata": {},
   "source": [
    "In this part, we post process the optimizing results for evaluation and visualization.\n",
    "At first, we prepare the following parameters:\n",
    "\n",
    "| Parameter | Description | Value |\n",
    "|--- |--- |--- |\n",
    "|method | annealing method for QUBO problem |'dwave-sa': use the simulated annealer in ocean toolkit<br> 'dwave-qa': use the quantum annealer|\n",
    "|raw_path| the path for the original molecule file| './molecule-data/117_ideal.mol2' in this example |\n",
    "|data_path| the path for the processed molecule file| './qmu_117_ideal_data_latest.mol2' in this example |\n",
    "|bucket | the s3 bucket to store your results | - |\n",
    "|prefix | the name of the folder in your s3 bucket | - |\n",
    "|task_id | the id for your quantum annealing task| '2b5a3b05-1a0e-443a-852c-4ec422a10e59' in this example |"
   ]
  },
  {
   "attachments": {},
   "cell_type": "markdown",
   "id": "6132a665",
   "metadata": {},
   "source": [
    "Then we can run the post-process using **ResultParser** object for SA:"
   ]
  },
  {
   "cell_type": "code",
   "execution_count": 14,
   "id": "ee681be9",
   "metadata": {},
   "outputs": [
    {
     "name": "stderr",
     "output_type": "stream",
     "text": [
      "INFO:root:_load_raw_result\n",
      "INFO:root:load simulated annealer neal-sa raw result\n",
      "INFO:root:MoleculeData.load()\n",
      "INFO:root:init mol data for final position\n",
      "INFO:root:init mol data for raw position\n",
      "INFO:root:_parse_model_info\n",
      "INFO:root:_init_parameters\n",
      "INFO:root:parse simulated annealer result\n",
      "INFO:root:sa only has local_time!\n"
     ]
    },
    {
     "name": "stdout",
     "output_type": "stream",
     "text": [
      "time for neal-sa: \n",
      "     local time is 0.3223903179168701\n"
     ]
    }
   ],
   "source": [
    "method = \"neal-sa\"\n",
    "sa_param = {}\n",
    "sa_param[\"raw_path\"] = raw_path\n",
    "sa_param[\"data_path\"] = data_path\n",
    "\n",
    "sa_process_result = ResultParser(method, **sa_param)\n",
    "# print(f\"{method} result is {sa_process_result.get_all_result()}\")\n",
    "\n",
    "local_time, _ , _, _= sa_process_result.get_time()\n",
    "\n",
    "print(f\"time for {method}: \\n \\\n",
    "    local time is {local_time}\")"
   ]
  },
  {
   "cell_type": "code",
   "execution_count": 15,
   "id": "c78e26dc",
   "metadata": {},
   "outputs": [
    {
     "name": "stderr",
     "output_type": "stream",
     "text": [
      "INFO:root:generate_optimize_pts()\n",
      "INFO:root:var_dict_raw {'15': ['8'], '14': ['1']} var_dict_list [{'15': '8', '14': '1'}]\n",
      "INFO:root:chosen var {'x_15_8', 'x_14_1'}\n",
      "INFO:root:tor list {'X_15_8', 'X_14_1'}\n",
      "INFO:root:initial 18.549876807564768\n",
      "INFO:root:optimize 18.561854117306133\n",
      "INFO:root:optimize_gain 1.0006456813630418\n",
      "INFO:root:start physical check\n",
      "INFO:root:save_mol_file 20230527-12\n",
      "INFO:root:finish save ./molecular-unfolding-data/117_ideal_neal-sa_20230527-12.mol2 and ./molecular-unfolding-data/117_ideal_neal-sa_20230527-12.json\n"
     ]
    },
    {
     "name": "stdout",
     "output_type": "stream",
     "text": [
      "result path is ./molecular-unfolding-data/117_ideal_neal-sa_20230527-12.mol2, and result optimization file path is ./molecular-unfolding-data/117_ideal_neal-sa_20230527-12.json\n"
     ]
    }
   ],
   "source": [
    "sa_atom_pos_data = sa_process_result.generate_optimize_pts()\n",
    "# save unfold file for visualization and parameters for experiment: 1. volume value 2. relative improvement\n",
    "sa_result_filepath, sa_result_json = sa_process_result.save_mol_file(f\"{timestamp}\")\n",
    "\n",
    "print(f\"result path is {sa_result_filepath}, and result optimization file path is {sa_result_json}\")"
   ]
  },
  {
   "cell_type": "code",
   "execution_count": 16,
   "id": "a12c756a",
   "metadata": {},
   "outputs": [
    {
     "data": {
      "text/plain": [
       "{'volume': {'optimize': 18.561854117306133,\n",
       "  'initial': 18.549876807564768,\n",
       "  'gain': 1.0006456813630418,\n",
       "  'unfolding_results': ['X_15_8', 'X_14_1'],\n",
       "  'annealing_results': ['x_15_8', 'x_14_1'],\n",
       "  'optimize_info': {'optimize_state': True, 'result_rank': 2}}}"
      ]
     },
     "execution_count": 16,
     "metadata": {},
     "output_type": "execute_result"
    }
   ],
   "source": [
    "sa_process_result.parameters"
   ]
  },
  {
   "attachments": {},
   "cell_type": "markdown",
   "id": "392b7985",
   "metadata": {},
   "source": [
    "In the first block, we can see the **local time**\n",
    "for SA is more than 150 seconds. \n",
    "With the **generate_optimize_pts()** method, the final 3D \n",
    "points after unfolding will be generated and saved as json file and mol2 files. The last \n",
    "block shows the optimizing results which are also stored in json files. \n",
    "It shows that the optimized result gains \n",
    "1.0006x increase in volume. The value for **unfolding_results** indicates \n",
    "that the rotatable bond 15 should rotate $270^o$ ($360/8*(7-1)$) and \n",
    "the rotatable bond 14 should rotate $0^o$ ($360/8*(1-1)$).\n",
    "At the same time, you can run the post-process for QA:"
   ]
  },
  {
   "cell_type": "code",
   "execution_count": 18,
   "id": "c8eea314",
   "metadata": {},
   "outputs": [],
   "source": [
    "# The following codes can be used as the reference once you can access d-wave devices from marketplace\n",
    "# method = \"dwave-qa\"\n",
    "# qa_param = {}\n",
    "# qa_param[\"bucket\"] = s3_bucket\n",
    "# qa_param[\"prefix\"] = prefix\n",
    "# qa_param[\"task_id\"] = qa_task_id\n",
    "# qa_param[\"raw_path\"] = raw_path\n",
    "# qa_param[\"data_path\"] = data_path\n",
    "\n",
    "# qa_process_result = ResultParser(method, **qa_param)\n",
    "# # print(f\"{method} result is {qa_process_result.get_all_result()}\")\n",
    "\n",
    "# local_time, task_time, total_time, access_time = qa_process_result.get_time()\n",
    "\n",
    "# print(f\"time for {method}: \\n \\\n",
    "#     local time is {local_time},\\n \\\n",
    "#     task time is {task_time}, \\n \\\n",
    "#     qpu total time is {total_time}, \\n \\\n",
    "#     qpu access time is {access_time}\")"
   ]
  },
  {
   "attachments": {},
   "cell_type": "markdown",
   "id": "fa124178",
   "metadata": {},
   "source": [
    "we can see that there many types of time metrics for running QA.\n",
    "This task has the **local time** of 5 s, which means the time between calling the api and \n",
    "getting the annealing result. The **task time** time is the metric from the json file in \n",
    "bucket. We can also see the **qpu total time** and **qpu access time** representing the \n",
    "actual time running in the QPU. Please refer to [Operation and Timing](https://docs.dwavesys.com/docs/latest/c_qpu_timing.html)\n",
    "for details."
   ]
  },
  {
   "cell_type": "code",
   "execution_count": 19,
   "id": "b7cc0999",
   "metadata": {},
   "outputs": [],
   "source": [
    "# qa_atom_pos_data = qa_process_result.generate_optimize_pts()\n",
    "# # save unfold file for visualization and parameters for experiment: 1. volume value 2. relative improvement\n",
    "# qa_result_filepath, qa_result_json = qa_process_result.save_mol_file(f\"{timestamp}\")\n",
    "# print(f\"result path is {qa_result_filepath}, and result optimization file path is {qa_result_json}\")"
   ]
  },
  {
   "cell_type": "code",
   "execution_count": 20,
   "id": "a531017a",
   "metadata": {},
   "outputs": [],
   "source": [
    "# qa_process_result.parameters"
   ]
  },
  {
   "attachments": {},
   "cell_type": "markdown",
   "id": "356785f5",
   "metadata": {},
   "source": [
    "Finally, We can open folders for the optimized results:\n",
    "\n",
    "![optimize-results](images/optimize-results.png)\n",
    "\n",
    " <center>Optimize Results</center>\n",
    "\n",
    "We can see the json result and mol2 file of SA and QA are \n",
    "stored in this place. If we carry out more \n",
    "experiments, more results with time stamp are \n",
    "stored incrementally. \n",
    "For visualization, we can upload the mol2 file into \n",
    "[online viewer tool](https://www.rcsb.org/3d-view) \n",
    "to see the result:\n",
    "\n",
    "![visual](images/visualization.png)\n",
    "\n",
    " <center>Visualization</center>"
   ]
  },
  {
   "attachments": {},
   "cell_type": "markdown",
   "id": "45b3bcf8",
   "metadata": {},
   "source": [
    "# Hybrid Job Experiment"
   ]
  },
  {
   "cell_type": "code",
   "execution_count": 3,
   "id": "d3a2e991",
   "metadata": {},
   "outputs": [],
   "source": [
    "from braket.aws import AwsQuantumJob\n",
    "from braket.jobs.config import InstanceConfig\n",
    "import boto3\n",
    "import json\n",
    "import altair as alt\n",
    "import pandas as pd\n",
    "import numpy as np\n",
    "from hybridjobs.utility.HybridJobHelpers import *"
   ]
  },
  {
   "attachments": {},
   "cell_type": "markdown",
   "id": "d2969666",
   "metadata": {},
   "source": [
    "#### Step 1: Prepare parameters for batch evaluation\n",
    "\n",
    "In this part, we set the parameters for batch evaluation"
   ]
  },
  {
   "cell_type": "code",
   "execution_count": 4,
   "id": "8b58789b",
   "metadata": {},
   "outputs": [
    {
     "name": "stdout",
     "output_type": "stream",
     "text": [
      "parameters for experiments: \n",
      " [{'M': 1, 'D': 8, 'shots': 10000, 'device': {'qc': 'null', 'cc': 'ml.m5.large'}}, {'M': 1, 'D': 8, 'shots': 10000, 'device': {'qc': 'null', 'cc': 'ml.m5.4xlarge'}}, {'M': 2, 'D': 8, 'shots': 10000, 'device': {'qc': 'null', 'cc': 'ml.m5.large'}}, {'M': 2, 'D': 8, 'shots': 10000, 'device': {'qc': 'null', 'cc': 'ml.m5.4xlarge'}}, {'M': 3, 'D': 8, 'shots': 10000, 'device': {'qc': 'null', 'cc': 'ml.m5.large'}}, {'M': 3, 'D': 8, 'shots': 10000, 'device': {'qc': 'null', 'cc': 'ml.m5.4xlarge'}}, {'M': 4, 'D': 8, 'shots': 10000, 'device': {'qc': 'null', 'cc': 'ml.m5.large'}}, {'M': 4, 'D': 8, 'shots': 10000, 'device': {'qc': 'null', 'cc': 'ml.m5.4xlarge'}}, {'M': 5, 'D': 8, 'shots': 10000, 'device': {'qc': 'null', 'cc': 'ml.m5.large'}}, {'M': 5, 'D': 8, 'shots': 10000, 'device': {'qc': 'null', 'cc': 'ml.m5.4xlarge'}}, {'M': 6, 'D': 8, 'shots': 10000, 'device': {'qc': 'null', 'cc': 'ml.m5.large'}}, {'M': 6, 'D': 8, 'shots': 10000, 'device': {'qc': 'null', 'cc': 'ml.m5.4xlarge'}}]\n"
     ]
    }
   ],
   "source": [
    "# parameters for experiments\n",
    "experiment_name = \"molecular-unfolding-qubo\"\n",
    "data_path = \"molecular-unfolding-data\"\n",
    "experiments_params =  {\n",
    "    \"version\": \"1\",\n",
    "    \"params\": [\n",
    "        {\"M\": [1,2,3,4,5,6]},\n",
    "        {\"D\": [8]},\n",
    "        {\"shots\": [10000]},\n",
    "        {\"device\": [{\"qc\": \"null\", \"cc\": \"ml.m5.large\"},{\"qc\": \"null\", \"cc\": \"ml.m5.4xlarge\"}]}\n",
    "    ]\n",
    "}\n",
    "\n",
    "hp = {}\n",
    "hybrid_job_params = []\n",
    "parse_params(experiments_params['params'], hp, hybrid_job_params)\n",
    "\n",
    "print(f\"parameters for experiments: \\n {hybrid_job_params}\")"
   ]
  },
  {
   "cell_type": "code",
   "execution_count": 19,
   "id": "f94abbaf",
   "metadata": {},
   "outputs": [
    {
     "name": "stdout",
     "output_type": "stream",
     "text": [
      "upload data to s3 path: s3://amazon-braket-us-east-1-002224604296/molecular-unfolding-data\n"
     ]
    }
   ],
   "source": [
    "# Upload dataset to S3\n",
    "s3_path = upload_data(data_path)\n",
    "print(f\"upload data to s3 path: {s3_path}\")"
   ]
  },
  {
   "attachments": {},
   "cell_type": "markdown",
   "id": "74cb5e97",
   "metadata": {},
   "source": [
    "#### Step 2: Prepare image for experiment\n",
    "\n",
    "In this part, we use the following code to prepare the image for experiment. For the first run, \n",
    "please run build_and_push.sh to create the image. For future experiments, avoid running\n",
    "build_and_push.sh unless you want to rebuild the image"
   ]
  },
  {
   "cell_type": "code",
   "execution_count": 20,
   "id": "342e5d32",
   "metadata": {},
   "outputs": [
    {
     "name": "stdout",
     "output_type": "stream",
     "text": [
      "the hybrid job image for 002224604296 in region us-east-1: 002224604296.dkr.ecr.us-east-1.amazonaws.com/amazon-braket-molecular-unfolding-jobs:latest\n",
      "WARNING! Your password will be stored unencrypted in /home/ubuntu/.docker/config.json.\n",
      "Configure a credential helper to remove this warning. See\n",
      "https://docs.docker.com/engine/reference/commandline/login/#credentials-store\n",
      "\n",
      "Login Succeeded\n",
      "WARNING! Your password will be stored unencrypted in /home/ubuntu/.docker/config.json.\n",
      "Configure a credential helper to remove this warning. See\n",
      "https://docs.docker.com/engine/reference/commandline/login/#credentials-store\n",
      "\n",
      "Login Succeeded\n",
      "Sending build context to Docker daemon  1.224MB\n",
      "Step 1/3 : FROM 292282985366.dkr.ecr.us-west-2.amazonaws.com/amazon-braket-base-jobs:1.0-cpu-py37-ubuntu18.04\n",
      " ---> 16b9ec942e00\n",
      "Step 2/3 : RUN python3 -m pip install --upgrade pip\n",
      " ---> Using cache\n",
      " ---> 11a512e96ae1\n",
      "Step 3/3 : RUN python3 -m pip install dimod==0.10.12                            dwave-system==1.15.0                            dwave-neal==0.5.9                            networkx==2.6.3                            amazon-braket-ocean-plugin==1.0.7                            Cython==0.29.32                            biopandas==0.4.1                            py3Dmol==1.8.0                            ipywidgets==7.7.0\n",
      " ---> Using cache\n",
      " ---> ee4738be5da2\n",
      "Successfully built ee4738be5da2\n",
      "Successfully tagged amazon-braket-molecular-unfolding-jobs:latest\n",
      "The push refers to repository [002224604296.dkr.ecr.us-east-1.amazonaws.com/amazon-braket-molecular-unfolding-jobs]\n",
      "\n",
      "\u001b[1B367c4a78: Preparing \n",
      "\u001b[1Bb90ba34e: Preparing \n",
      "\u001b[1B6411a7d1: Preparing \n",
      "\u001b[1B56d89649: Preparing \n",
      "\u001b[1B148e4f08: Preparing \n",
      "\u001b[1B0f2f3775: Preparing \n",
      "\u001b[1Ba5237a47: Preparing \n",
      "\u001b[1B7b584848: Preparing \n",
      "\u001b[1B9cc6ed2d: Preparing \n",
      "\u001b[1B9ba03cb5: Preparing \n",
      "\u001b[1B3dae4964: Preparing \n",
      "\u001b[1B0cee8562: Preparing \n",
      "\u001b[1Bc13d298e: Preparing \n",
      "\u001b[1B2ecf6ff1: Preparing \n",
      "\u001b[1B5cb74c43: Preparing \n",
      "\u001b[1B49c05c79: Preparing \n",
      "\u001b[1Bb7118beb: Preparing \n",
      "\u001b[4B5cb74c43: Layer already exists \u001b[13A\u001b[2K\u001b[7A\u001b[2K\u001b[3A\u001b[2K\u001b[4A\u001b[2Klatest: digest: sha256:fab303fac8662a402c81beda3c2421325345033537eb47fce3f6d55c82588d08 size: 4104\n"
     ]
    }
   ],
   "source": [
    "account_id = boto3.client(\"sts\").get_caller_identity()[\"Account\"]\n",
    "region = boto3.client('s3').meta.region_name\n",
    "image_name = f\"amazon-braket-{experiment_name}-jobs\"\n",
    "image_uri = f\"{account_id}.dkr.ecr.{region}.amazonaws.com/{image_name}:latest\"\n",
    "\n",
    "print(f\"the hybrid job image for {account_id} in region {region}: {image_uri}\")\n",
    "\n",
    "!sh build_and_push.sh {image_name}"
   ]
  },
  {
   "cell_type": "code",
   "execution_count": 7,
   "id": "0aadbd37",
   "metadata": {},
   "outputs": [
    {
     "name": "stdout",
     "output_type": "stream",
     "text": [
      "job info will be saved in molecular-unfolding-qubo-hybrid-jobs.json\n"
     ]
    }
   ],
   "source": [
    "hybrid_jobs_json = f\"{experiment_name}-hybrid-jobs.json\"\n",
    "print(f\"job info will be saved in {hybrid_jobs_json}\")"
   ]
  },
  {
   "attachments": {},
   "cell_type": "markdown",
   "id": "d0d970c8",
   "metadata": {},
   "source": [
    "#### Step 3: Launch Amazon Braket Hybrid Jobs for experiment\n",
    "\n",
    "In this part, we use the following code to launch the same number of hybrid jobs as the sets of parameters for this experiments.\n",
    "When the number of jobs exceeds 5, this thread will wait. The default setting of this experiment will take less than **1 hour** to \n",
    "finish."
   ]
  },
  {
   "cell_type": "code",
   "execution_count": null,
   "id": "be66cb49",
   "metadata": {},
   "outputs": [
    {
     "name": "stderr",
     "output_type": "stream",
     "text": [
      "INFO:botocore.credentials:Found credentials in shared credentials file: ~/.aws/credentials\n",
      "INFO:botocore.credentials:Found credentials in shared credentials file: ~/.aws/credentials\n",
      "INFO:botocore.credentials:Found credentials in shared credentials file: ~/.aws/credentials\n",
      "INFO:botocore.credentials:Found credentials in shared credentials file: ~/.aws/credentials\n",
      "INFO:botocore.credentials:Found credentials in shared credentials file: ~/.aws/credentials\n"
     ]
    },
    {
     "name": "stdout",
     "output_type": "stream",
     "text": [
      "fail to get null: list index out of range, use sv1 instead\n",
      "Finish create molecular-unfolding with M 1, D 8 and device ml-m5-large\n"
     ]
    }
   ],
   "source": [
    "# Long runnning cell due to Burst rate of CreateJob requests < 5 RPS\n",
    "# sudo apt-get install python-prctl at first\n",
    "# https://stackoverflow.com/questions/34361035/python-thread-name-doesnt-show-up-on-ps-or-htop\n",
    "from threading import Thread\n",
    "import threading\n",
    "import setproctitle\n",
    "import uuid\n",
    "U=str(uuid.uuid4())[:4]\n",
    "\n",
    "def launch_hybrid_jobs(hybrid_job_params=hybrid_job_params, hybrid_jobs_json=hybrid_jobs_json):\n",
    "    setproctitle.setproctitle(threading.current_thread().name)\n",
    "    # parse evaluation parameters and trigger hybrid jobs:\n",
    "    jobs = []\n",
    "    names = []\n",
    "\n",
    "    job_name = f\"{experiment_name}-job\"\n",
    "    job_count = len(hybrid_job_params)\n",
    "\n",
    "    # from braket.jobs.local import LocalQuantumJob\n",
    "\n",
    "    for job_param in hybrid_job_params:\n",
    "        M = job_param['M']\n",
    "        D = job_param['D']\n",
    "        quantum_device = get_quantum_device(job_param['device']['qc'])\n",
    "        classical_device = job_param['device']['cc']\n",
    "\n",
    "        device_name = classical_device.replace(\".\",\"-\")\n",
    "        device_name = device_name.replace(\"x\",\"\")\n",
    "\n",
    "        job_param['job_count'] = job_count\n",
    "        \n",
    "        name = f\"{U}-{experiment_name}-M-{M}-D-{D}-{device_name}\"\n",
    "\n",
    "        tmp_job = AwsQuantumJob.create(\n",
    "            device=quantum_device,\n",
    "            source_module=\"hybridjobs\",\n",
    "            entry_point=f\"hybridjobs.{job_name}:main\",\n",
    "            job_name=name,\n",
    "            hyperparameters=job_param,\n",
    "            input_data=s3_path,\n",
    "            instance_config=InstanceConfig(instanceType=classical_device),\n",
    "            image_uri=image_uri,\n",
    "            wait_until_complete=False,\n",
    "        )\n",
    "        \n",
    "        print(f\"Finish create {experiment_name} with M {M}, D {D} and device {device_name}\")\n",
    "\n",
    "        jobs.append(tmp_job)\n",
    "        names.append(name)\n",
    "\n",
    "\n",
    "        while not queue_check(jobs):\n",
    "            time.sleep(5)\n",
    "    jobs_arn = []\n",
    "\n",
    "    for job in jobs:\n",
    "        jobs_arn.append(job.arn)\n",
    "\n",
    "    jobs_states = {\n",
    "        \"experiment_name\": experiment_name,\n",
    "        \"hybrid-jobs-arn\": jobs_arn,\n",
    "        \"names\": names\n",
    "    }\n",
    "    \n",
    "    # save hybrid job arn for further analysis\n",
    "    json_object = json.dumps(jobs_states, indent=4)\n",
    "\n",
    "    with open(hybrid_jobs_json, \"w\") as outfile:\n",
    "        outfile.write(json_object)\n",
    "        \n",
    "    print(f\"Finish launch all the hybrid jobs and save all the files\")\n",
    "\n",
    "t = Thread(target=launch_hybrid_jobs, name=\"launch-hybrid-job\", daemon=True).start()"
   ]
  },
  {
   "cell_type": "code",
   "execution_count": 25,
   "id": "29c66d53",
   "metadata": {},
   "outputs": [
    {
     "name": "stdout",
     "output_type": "stream",
     "text": [
      "ubuntu     34835  1.3  1.5 1865832 487616 ?      Sl   12:01   0:47 launch-hybrid-job\n",
      "ubuntu     37348  0.0  0.0   8756  3712 pts/1    Ss+  12:57   0:00 /bin/bash -c ps -aux | grep launch-hybrid-job\n",
      "ubuntu     37353  0.0  0.0   8176   720 pts/1    S+   12:57   0:00 grep launch-hybrid-job\n"
     ]
    },
    {
     "name": "stdout",
     "output_type": "stream",
     "text": [
      "There are 4 jobs in RUNNING or QUEUED status\n",
      "There are 3 jobs in RUNNING or QUEUED status\n",
      "Finish launch all the hybrid jobs and save all the files\n"
     ]
    }
   ],
   "source": [
    "# run the following scripts to check the created threads\n",
    "!ps -aux | grep launch-hybrid-job"
   ]
  },
  {
   "attachments": {},
   "cell_type": "markdown",
   "id": "3d134283",
   "metadata": {},
   "source": [
    "#### Step 4: Jobs finish and visualize results\n",
    "\n",
    "Please use the following code to check the status of hybrid jobs. The status of hybrid jobs can also be checked in the Amazon Braket console. Optionally, if the email if input when deploying the solution, emails will be sent at the same number of hybrid jobs once \n",
    "the status of jobs changes."
   ]
  },
  {
   "cell_type": "code",
   "execution_count": 8,
   "id": "6fa55185",
   "metadata": {},
   "outputs": [
    {
     "name": "stdout",
     "output_type": "stream",
     "text": [
      "the state of job f3f2-molecular-unfolding-M-1-D-8-ml-m5-large is : COMPLETED\n",
      "the state of job f3f2-molecular-unfolding-M-1-D-8-ml-m5-4large is : COMPLETED\n",
      "the state of job f3f2-molecular-unfolding-M-2-D-8-ml-m5-large is : COMPLETED\n",
      "the state of job f3f2-molecular-unfolding-M-2-D-8-ml-m5-4large is : COMPLETED\n",
      "the state of job f3f2-molecular-unfolding-M-3-D-8-ml-m5-large is : COMPLETED\n",
      "the state of job f3f2-molecular-unfolding-M-3-D-8-ml-m5-4large is : COMPLETED\n",
      "the state of job f3f2-molecular-unfolding-M-4-D-8-ml-m5-large is : COMPLETED\n",
      "the state of job f3f2-molecular-unfolding-M-4-D-8-ml-m5-4large is : COMPLETED\n",
      "the state of job f3f2-molecular-unfolding-M-5-D-8-ml-m5-large is : COMPLETED\n",
      "the state of job f3f2-molecular-unfolding-M-5-D-8-ml-m5-4large is : COMPLETED\n",
      "the state of job f3f2-molecular-unfolding-M-6-D-8-ml-m5-large is : COMPLETED\n",
      "the state of job f3f2-molecular-unfolding-M-6-D-8-ml-m5-4large is : COMPLETED\n",
      "all jobs completed\n",
      "{'time': 320.81806111335754, 'hypermeter': {'D': '8', 'M': '5', 'device': \"{'qc': 'null', 'cc': 'ml.m5.4xlarge'}\", 'job_count': '12', 'shots': '10000'}, 'result': {'volume': {'optimize': 94.67504777232924, 'initial': 94.67504777232924, 'gain': 1.0, 'unfolding_results': ['X_12_1', 'X_15_1', 'X_14_1', 'X_11_1', 'X_18_1'], 'annealing_results': ['X_12_1', 'X_15_1', 'X_14_1', 'X_11_1', 'X_18_1'], 'optimize_info': {'optimize_state': False, 'result_rank': 32}}}}\n",
      "{'time': 61.88261556625366, 'hypermeter': {'D': '8', 'M': '4', 'device': \"{'qc': 'null', 'cc': 'ml.m5.4xlarge'}\", 'job_count': '12', 'shots': '10000'}, 'result': {'volume': {'optimize': 65.63612176874935, 'initial': 65.63612176874935, 'gain': 1.0, 'unfolding_results': ['X_12_1', 'X_14_1', 'X_15_1', 'X_18_1'], 'annealing_results': ['X_12_1', 'X_14_1', 'X_15_1', 'X_18_1'], 'optimize_info': {'optimize_state': False, 'result_rank': 1335}}}}\n",
      "{'time': 20.689651012420654, 'hypermeter': {'D': '8', 'M': '3', 'device': \"{'qc': 'null', 'cc': 'ml.m5.4xlarge'}\", 'job_count': '12', 'shots': '10000'}, 'result': {'volume': {'optimize': 32.05739524950204, 'initial': 32.05739524950204, 'gain': 1.0, 'unfolding_results': ['X_12_1', 'X_14_1', 'X_15_1'], 'annealing_results': ['X_12_1', 'X_14_1', 'X_15_1'], 'optimize_info': {'optimize_state': False, 'result_rank': 39}}}}\n",
      "{'time': 2.633816957473755, 'hypermeter': {'D': '8', 'M': '1', 'device': \"{'qc': 'null', 'cc': 'ml.m5.large'}\", 'job_count': '12', 'shots': '10000'}, 'result': {'volume': {'optimize': 8.11248514215326, 'initial': 8.11248514215326, 'gain': 1.0, 'unfolding_results': ['X_15_1'], 'annealing_results': ['X_15_1'], 'optimize_info': {'optimize_state': False, 'result_rank': 2}}}}\n",
      "{'time': 3.6196465492248535, 'hypermeter': {'D': '8', 'M': '2', 'device': \"{'qc': 'null', 'cc': 'ml.m5.4xlarge'}\", 'job_count': '12', 'shots': '10000'}, 'result': {'volume': {'optimize': 18.561870734607446, 'initial': 18.561870734607446, 'gain': 1.0, 'unfolding_results': ['X_15_1', 'X_14_1'], 'annealing_results': ['X_15_1', 'X_14_1'], 'optimize_info': {'optimize_state': False, 'result_rank': 7}}}}\n",
      "{'time': 2.5614542961120605, 'hypermeter': {'D': '8', 'M': '1', 'device': \"{'qc': 'null', 'cc': 'ml.m5.4xlarge'}\", 'job_count': '12', 'shots': '10000'}, 'result': {'volume': {'optimize': 8.11248514215326, 'initial': 8.11248514215326, 'gain': 1.0, 'unfolding_results': ['X_15_1'], 'annealing_results': ['X_15_1'], 'optimize_info': {'optimize_state': False, 'result_rank': 9}}}}\n",
      "{'time': 3.6330432891845703, 'hypermeter': {'D': '8', 'M': '2', 'device': \"{'qc': 'null', 'cc': 'ml.m5.large'}\", 'job_count': '12', 'shots': '10000'}, 'result': {'volume': {'optimize': 18.561870734607446, 'initial': 18.561870734607446, 'gain': 1.0, 'unfolding_results': ['X_15_1', 'X_14_1'], 'annealing_results': ['X_15_1', 'X_14_1'], 'optimize_info': {'optimize_state': False, 'result_rank': 17}}}}\n",
      "{'time': 568.0857925415039, 'hypermeter': {'D': '8', 'M': '6', 'device': \"{'qc': 'null', 'cc': 'ml.m5.large'}\", 'job_count': '12', 'shots': '10000'}, 'result': {'volume': {'optimize': 134.28621271340106, 'initial': 134.28621271340106, 'gain': 1.0, 'unfolding_results': ['X_12_1', 'X_11_1', 'X_18_1', 'X_15_1', 'X_14_1', 'X_21_1'], 'annealing_results': ['X_12_1', 'X_11_1', 'X_18_1', 'X_15_1', 'X_14_1', 'X_21_1'], 'optimize_info': {'optimize_state': False, 'result_rank': 6691}}}}\n",
      "{'time': 21.914642095565796, 'hypermeter': {'D': '8', 'M': '3', 'device': \"{'qc': 'null', 'cc': 'ml.m5.large'}\", 'job_count': '12', 'shots': '10000'}, 'result': {'volume': {'optimize': 32.05739524950203, 'initial': 32.05739524950203, 'gain': 1.0, 'unfolding_results': ['X_14_1', 'X_15_1', 'X_12_1'], 'annealing_results': ['X_14_1', 'X_15_1', 'X_12_1'], 'optimize_info': {'optimize_state': False, 'result_rank': 413}}}}\n",
      "{'time': 315.054883480072, 'hypermeter': {'D': '8', 'M': '5', 'device': \"{'qc': 'null', 'cc': 'ml.m5.large'}\", 'job_count': '12', 'shots': '10000'}, 'result': {'volume': {'optimize': 94.17211104523905, 'initial': 94.17211104523905, 'gain': 1.0, 'unfolding_results': ['X_15_1', 'X_18_1', 'X_11_1', 'X_14_1', 'X_12_1'], 'annealing_results': ['X_15_1', 'X_18_1', 'X_11_1', 'X_14_1', 'X_12_1'], 'optimize_info': {'optimize_state': False, 'result_rank': 31}}}}\n",
      "{'time': 64.51841259002686, 'hypermeter': {'D': '8', 'M': '4', 'device': \"{'qc': 'null', 'cc': 'ml.m5.large'}\", 'job_count': '12', 'shots': '10000'}, 'result': {'volume': {'optimize': 65.63612176874935, 'initial': 65.63612176874935, 'gain': 1.0, 'unfolding_results': ['X_15_1', 'X_14_1', 'X_18_1', 'X_12_1'], 'annealing_results': ['X_15_1', 'X_14_1', 'X_18_1', 'X_12_1'], 'optimize_info': {'optimize_state': False, 'result_rank': 482}}}}\n",
      "{'time': 553.271329164505, 'hypermeter': {'D': '8', 'M': '6', 'device': \"{'qc': 'null', 'cc': 'ml.m5.4xlarge'}\", 'job_count': '12', 'shots': '10000'}, 'result': {'volume': {'optimize': 134.28621271340106, 'initial': 134.28621271340106, 'gain': 1.0, 'unfolding_results': ['X_18_1', 'X_21_1', 'X_12_1', 'X_15_1', 'X_14_1', 'X_11_1'], 'annealing_results': ['X_18_1', 'X_21_1', 'X_12_1', 'X_15_1', 'X_14_1', 'X_11_1'], 'optimize_info': {'optimize_state': False, 'result_rank': 1827}}}}\n"
     ]
    }
   ],
   "source": [
    "# run the following code to test whether all the jobs finish\n",
    "results = []\n",
    "if os.path.exists(hybrid_jobs_json):\n",
    "    # recover hybrid jobs and show result\n",
    "    jobs_states_load = None\n",
    "    with open(hybrid_jobs_json, \"r\") as outfile:\n",
    "        jobs_states_load = json.load(outfile)\n",
    "\n",
    "    completed_jobs_arn = set()\n",
    "\n",
    "    for job_name, job_arn in zip(jobs_states_load[\"names\"], jobs_states_load[\"hybrid-jobs-arn\"]):\n",
    "        current_job = AwsQuantumJob(job_arn)\n",
    "        print(f\"the state of job {job_name} is : {current_job.state()}\")\n",
    "        if current_job.state() == 'COMPLETED':\n",
    "            completed_jobs_arn.update({job_arn})\n",
    "\n",
    "    whole_jobs_num = len(jobs_states_load[\"names\"])\n",
    "\n",
    "    results = None\n",
    "    if len(completed_jobs_arn) == whole_jobs_num:\n",
    "        print(f\"all jobs completed\")\n",
    "        results = []\n",
    "        for job_arn in completed_jobs_arn:\n",
    "            current_job = AwsQuantumJob(job_arn)\n",
    "            results.append(current_job.result())\n",
    "            print(current_job.result())\n",
    "        # display results\n",
    "        results = display_results(results, experiments_params)\n",
    "else:\n",
    "    print(f\"JSON file for job arns not generated! please wait for the thread(launch-hybrid-job) to finish\")"
   ]
  },
  {
   "cell_type": "code",
   "execution_count": 5,
   "id": "c88bbe35",
   "metadata": {},
   "outputs": [
    {
     "data": {
      "text/html": [
       "\n",
       "<style>\n",
       "  #altair-viz-9e0279d6f8774d2b9ba6b85743c3d56e.vega-embed {\n",
       "    width: 100%;\n",
       "    display: flex;\n",
       "  }\n",
       "\n",
       "  #altair-viz-9e0279d6f8774d2b9ba6b85743c3d56e.vega-embed details,\n",
       "  #altair-viz-9e0279d6f8774d2b9ba6b85743c3d56e.vega-embed details summary {\n",
       "    position: relative;\n",
       "  }\n",
       "</style>\n",
       "<div id=\"altair-viz-9e0279d6f8774d2b9ba6b85743c3d56e\"></div>\n",
       "<script type=\"text/javascript\">\n",
       "  var VEGA_DEBUG = (typeof VEGA_DEBUG == \"undefined\") ? {} : VEGA_DEBUG;\n",
       "  (function(spec, embedOpt){\n",
       "    let outputDiv = document.currentScript.previousElementSibling;\n",
       "    if (outputDiv.id !== \"altair-viz-9e0279d6f8774d2b9ba6b85743c3d56e\") {\n",
       "      outputDiv = document.getElementById(\"altair-viz-9e0279d6f8774d2b9ba6b85743c3d56e\");\n",
       "    }\n",
       "    const paths = {\n",
       "      \"vega\": \"https://cdn.jsdelivr.net/npm/vega@5?noext\",\n",
       "      \"vega-lib\": \"https://cdn.jsdelivr.net/npm/vega-lib?noext\",\n",
       "      \"vega-lite\": \"https://cdn.jsdelivr.net/npm/vega-lite@5.8.0?noext\",\n",
       "      \"vega-embed\": \"https://cdn.jsdelivr.net/npm/vega-embed@6?noext\",\n",
       "    };\n",
       "\n",
       "    function maybeLoadScript(lib, version) {\n",
       "      var key = `${lib.replace(\"-\", \"\")}_version`;\n",
       "      return (VEGA_DEBUG[key] == version) ?\n",
       "        Promise.resolve(paths[lib]) :\n",
       "        new Promise(function(resolve, reject) {\n",
       "          var s = document.createElement('script');\n",
       "          document.getElementsByTagName(\"head\")[0].appendChild(s);\n",
       "          s.async = true;\n",
       "          s.onload = () => {\n",
       "            VEGA_DEBUG[key] = version;\n",
       "            return resolve(paths[lib]);\n",
       "          };\n",
       "          s.onerror = () => reject(`Error loading script: ${paths[lib]}`);\n",
       "          s.src = paths[lib];\n",
       "        });\n",
       "    }\n",
       "\n",
       "    function showError(err) {\n",
       "      outputDiv.innerHTML = `<div class=\"error\" style=\"color:red;\">${err}</div>`;\n",
       "      throw err;\n",
       "    }\n",
       "\n",
       "    function displayChart(vegaEmbed) {\n",
       "      vegaEmbed(outputDiv, spec, embedOpt)\n",
       "        .catch(err => showError(`Javascript Error: ${err.message}<br>This usually means there's a typo in your chart specification. See the javascript console for the full traceback.`));\n",
       "    }\n",
       "\n",
       "    if(typeof define === \"function\" && define.amd) {\n",
       "      requirejs.config({paths});\n",
       "      require([\"vega-embed\"], displayChart, err => showError(`Error loading script: ${err.message}`));\n",
       "    } else {\n",
       "      maybeLoadScript(\"vega\", \"5\")\n",
       "        .then(() => maybeLoadScript(\"vega-lite\", \"5.8.0\"))\n",
       "        .then(() => maybeLoadScript(\"vega-embed\", \"6\"))\n",
       "        .catch(showError)\n",
       "        .then(() => displayChart(vegaEmbed));\n",
       "    }\n",
       "  })({\"config\": {\"view\": {\"continuousWidth\": 300, \"continuousHeight\": 300}}, \"data\": {\"name\": \"data-cc91b9181900e6cde528fd138a64b387\"}, \"mark\": {\"type\": \"line\", \"point\": true}, \"encoding\": {\"color\": {\"field\": \"Device\", \"type\": \"nominal\"}, \"x\": {\"field\": \"DxM\", \"type\": \"quantitative\"}, \"y\": {\"field\": \"Time to Solution\", \"type\": \"quantitative\"}}, \"height\": 600, \"params\": [{\"name\": \"param_1\", \"select\": {\"type\": \"interval\", \"encodings\": [\"x\", \"y\"]}, \"bind\": \"scales\"}], \"title\": \"Molecular unfolding experiments\", \"width\": 700, \"$schema\": \"https://vega.github.io/schema/vega-lite/v5.8.0.json\", \"datasets\": {\"data-cc91b9181900e6cde528fd138a64b387\": [{\"DxM\": 8, \"Time to Solution\": 2.633816957473755, \"Device\": \"ml.m5.large\"}, {\"DxM\": 16, \"Time to Solution\": 3.6330432891845703, \"Device\": \"ml.m5.large\"}, {\"DxM\": 24, \"Time to Solution\": 21.914642095565796, \"Device\": \"ml.m5.large\"}, {\"DxM\": 32, \"Time to Solution\": 64.51841259002686, \"Device\": \"ml.m5.large\"}, {\"DxM\": 40, \"Time to Solution\": 315.054883480072, \"Device\": \"ml.m5.large\"}, {\"DxM\": 48, \"Time to Solution\": 568.0857925415039, \"Device\": \"ml.m5.large\"}, {\"DxM\": 8, \"Time to Solution\": 2.5614542961120605, \"Device\": \"ml.m5.4xlarge\"}, {\"DxM\": 16, \"Time to Solution\": 3.6196465492248535, \"Device\": \"ml.m5.4xlarge\"}, {\"DxM\": 24, \"Time to Solution\": 20.689651012420654, \"Device\": \"ml.m5.4xlarge\"}, {\"DxM\": 32, \"Time to Solution\": 61.88261556625366, \"Device\": \"ml.m5.4xlarge\"}, {\"DxM\": 40, \"Time to Solution\": 320.81806111335754, \"Device\": \"ml.m5.4xlarge\"}, {\"DxM\": 48, \"Time to Solution\": 553.271329164505, \"Device\": \"ml.m5.4xlarge\"}]}}, {\"mode\": \"vega-lite\"});\n",
       "</script>"
      ],
      "text/plain": [
       "alt.Chart(...)"
      ]
     },
     "execution_count": 5,
     "metadata": {},
     "output_type": "execute_result"
    }
   ],
   "source": [
    "rename_result = {}\n",
    "device_list = []\n",
    "x_list = []\n",
    "y_list = []\n",
    "for k,vs in results.items():\n",
    "    k = k.replace(\"\\'\",\"\\\"\")\n",
    "    dict_k = json.loads(k)\n",
    "    device_name = None\n",
    "    if dict_k['qc'] == 'null':\n",
    "        device_name = dict_k['cc']\n",
    "    else:\n",
    "        device_name = dict_k['qc']\n",
    "    for v in vs:\n",
    "        device_list.append(device_name)\n",
    "        x_list.append(v[2])\n",
    "        y_list.append(v[3])\n",
    "source = pd.DataFrame({\n",
    "    \"DxM\": np.array(x_list),\n",
    "    \"Time to Solution\": np.array(y_list),\n",
    "    \"Device\": np.array(device_list),\n",
    "})\n",
    "\n",
    "alt.Chart(source).mark_line(point = True).encode(\n",
    "    x='DxM',\n",
    "    y='Time to Solution',\n",
    "    color='Device',\n",
    ").properties(\n",
    "    title = \"Molecular unfolding experiments\",\n",
    "    width = 700,\n",
    "    height = 600,\n",
    ").interactive()"
   ]
  }
 ],
 "metadata": {
  "kernelspec": {
   "display_name": "Python 3",
   "language": "python",
   "name": "python3"
  },
  "language_info": {
   "codemirror_mode": {
    "name": "ipython",
    "version": 3
   },
   "file_extension": ".py",
   "mimetype": "text/x-python",
   "name": "python",
   "nbconvert_exporter": "python",
   "pygments_lexer": "ipython3",
   "version": "3.8.16"
  },
  "vscode": {
   "interpreter": {
    "hash": "31f2aee4e71d21fbe5cf8b01ff0e069b9275f58929596ceb00d14d90e3e16cd6"
   }
  }
 },
 "nbformat": 4,
 "nbformat_minor": 5
}
