{
 "cells": [
  {
   "cell_type": "code",
   "execution_count": 1,
   "metadata": {},
   "outputs": [
    {
     "name": "stderr",
     "output_type": "stream",
     "text": [
      "2023-02-05 04:31:13,737 dwave.cloud INFO MainThread Log level for 'dwave.cloud' namespace set to 0\n"
     ]
    }
   ],
   "source": [
    "from utility.RNAParser import RNAData\n",
    "from utility.RNAQUBO import RNAQUBO\n",
    "from utility.AnnealerOptimizer import Annealer\n",
    "from utility.ResultProcess import ResultParser\n",
    "import time\n",
    "\n",
    "timestamp = time.strftime(\"%Y%m%d-%H\")"
   ]
  },
  {
   "cell_type": "markdown",
   "metadata": {},
   "source": [
    "# Step 1: Prepare Data"
   ]
  },
  {
   "cell_type": "markdown",
   "metadata": {},
   "source": [
    "In this part, we load the folder with the raw rna data for experimentation. To evaluate the quantum solution and the actual solution include both fasta and ct files. To only generate a quantum solution, upload a fasta file.\n"
   ]
  },
  {
   "cell_type": "code",
   "execution_count": 2,
   "metadata": {},
   "outputs": [],
   "source": [
    "from braket.aws import AwsQuantumJob, AwsSession\n",
    "\n",
    "# initial parameters for experiment data\n",
    "s3_bucket = AwsSession().default_bucket() # change to the name of bucket created in your deployment\n",
    "prefix = \"rna-folding\" # the name of the folder in the bucket\n",
    "\n",
    "# enter folder path, for instance './rna-data'\n",
    "raw_path = './rna-folding-data'\n"
   ]
  },
  {
   "cell_type": "code",
   "execution_count": 3,
   "metadata": {},
   "outputs": [
    {
     "name": "stderr",
     "output_type": "stream",
     "text": [
      "INFO:root:finish save rna-folding_data_latest.pickle\n"
     ]
    }
   ],
   "source": [
    "rna_data = RNAData(raw_path)\n",
    "\n",
    "data_path = rna_data.save(\"latest\")\n",
    "\n",
    "# print(f\"You have loaded the raw rna data and saved as {data_path}. \\n\\\n",
    "# This rna is {num_rna_length} bases long\")\n",
    "# #TODO inform them if it will compare or just calculate\n",
    "# print()"
   ]
  },
  {
   "cell_type": "markdown",
   "metadata": {},
   "source": [
    "After running this block, the processed data \n",
    "will be saved as **rna-folding_bpRNA_CRW_32863_data_latest.pickle**\n",
    "and **data_path** will be updated. We can see that this \n",
    "molecule has 23 bases."
   ]
  },
  {
   "cell_type": "markdown",
   "metadata": {},
   "source": [
    "# Step 2: Build Model"
   ]
  },
  {
   "cell_type": "markdown",
   "metadata": {},
   "source": [
    "In this part, we build the Quadratic Unconstrained \n",
    "Binary Optimization (QUBO) model for rna folding.\n",
    "\n",
    "First, we set the following parameters and \n",
    "initialize the RNAQUBO object. \n",
    "\n",
    "<center>\n",
    "\n",
    "| Parameter | Description | Value |\n",
    "|--- |--- |--- |\n",
    "| PKP | pseudoknot penalty | -1.0, -0.5, 0.0, 0.5, 1.0 |\n",
    "| S | penalty for short stems | 1 |\n",
    "| O | penalty for overlaps | 1e6 |\n",
    "| method | the method of building model | 'qc' |\n",
    "| data_path | pickle file directory of rna data |  |\n",
    "\n",
    " </center>"
   ]
  },
  {
   "cell_type": "code",
   "execution_count": 4,
   "metadata": {},
   "outputs": [
    {
     "name": "stderr",
     "output_type": "stream",
     "text": [
      "INFO:root:initial qc for constructing rna QUBO\n",
      "INFO:root:initial qc for constructing rna QUBO\n",
      "INFO:root:initial qc for constructing rna QUBO\n",
      "INFO:root:initial qc for constructing rna QUBO\n",
      "INFO:root:initial qc for constructing rna QUBO\n",
      "INFO:root:initial qc for constructing rna QUBO\n",
      "INFO:root:initial qc for constructing rna QUBO\n",
      "INFO:root:initial qc for constructing rna QUBO\n",
      "INFO:root:initial qc for constructing rna QUBO\n",
      "INFO:root:initial qc for constructing rna QUBO\n",
      "INFO:root:initial qc for constructing rna QUBO\n",
      "INFO:root:initial qc for constructing rna QUBO\n",
      "INFO:root:initial qc for constructing rna QUBO\n",
      "INFO:root:initial qc for constructing rna QUBO\n",
      "INFO:root:initial qc for constructing rna QUBO\n"
     ]
    }
   ],
   "source": [
    "# initial the RNAQUBO object\n",
    "init_param = {}\n",
    "method = ['qc']\n",
    "\n",
    "for mt in method:\n",
    "    if mt == 'qc':\n",
    "        init_param[mt] = {}\n",
    "        init_param[mt]['params'] = [\"PKP\", \"S\", \"O\"]\n",
    "    \n",
    "rna_qubo = RNAQUBO( data_path, method, **init_param)"
   ]
  },
  {
   "cell_type": "code",
   "execution_count": 5,
   "metadata": {},
   "outputs": [
    {
     "data": {
      "text/plain": [
       "0"
      ]
     },
     "execution_count": 5,
     "metadata": {},
     "output_type": "execute_result"
    }
   ],
   "source": [
    "# set the parameters for model\n",
    "model_param = {}\n",
    "\n",
    "method = 'qc'\n",
    "model_param[method] = {}\n",
    "\n",
    "# parameters\n",
    "model_param[method]['PKP'] = [-1.0, -0.5, 0.0, 0.5, 1.0]\n",
    "model_param[method]['S'] = [1]\n",
    "model_param[method]['O'] = [1e6]\n",
    "\n",
    "rna_qubo.build_models(**model_param)"
   ]
  },
  {
   "cell_type": "code",
   "execution_count": 6,
   "metadata": {},
   "outputs": [
    {
     "name": "stderr",
     "output_type": "stream",
     "text": [
      "INFO:root:method: qc\n",
      "INFO:root:The model_name should be bpRNA_CRW_15984_{PKP}_{O}_{S}\n",
      "INFO:root:param: PKP, value {-0.5, 0.0, 1.0, 0.5, -1.0}\n",
      "INFO:root:param: S, value {1}\n",
      "INFO:root:param: O, value {1000000.0}\n",
      "INFO:root:method: qc\n",
      "INFO:root:The model_name should be bpRNA_PDB_368_{PKP}_{O}_{S}\n",
      "INFO:root:param: PKP, value {-0.5, 0.0, 1.0, 0.5, -1.0}\n",
      "INFO:root:param: S, value {1}\n",
      "INFO:root:param: O, value {1000000.0}\n",
      "INFO:root:method: qc\n",
      "INFO:root:The model_name should be bpRNA_CRW_32863_{PKP}_{O}_{S}\n",
      "INFO:root:param: PKP, value {-0.5, 0.0, 1.0, 0.5, -1.0}\n",
      "INFO:root:param: S, value {1}\n",
      "INFO:root:param: O, value {1000000.0}\n",
      "INFO:root:method: qc\n",
      "INFO:root:The model_name should be bpRNA_RFAM_9907_{PKP}_{O}_{S}\n",
      "INFO:root:param: PKP, value {-0.5, 0.0, 1.0, 0.5, -1.0}\n",
      "INFO:root:param: S, value {1}\n",
      "INFO:root:param: O, value {1000000.0}\n",
      "INFO:root:method: qc\n",
      "INFO:root:The model_name should be bpRNA_CRW_15563_{PKP}_{O}_{S}\n",
      "INFO:root:param: PKP, value {-0.5, 0.0, 1.0, 0.5, -1.0}\n",
      "INFO:root:param: S, value {1}\n",
      "INFO:root:param: O, value {1000000.0}\n",
      "INFO:root:method: qc\n",
      "INFO:root:The model_name should be bpRNA_PDB_389_{PKP}_{O}_{S}\n",
      "INFO:root:param: PKP, value {-0.5, 0.0, 1.0, 0.5, -1.0}\n",
      "INFO:root:param: S, value {1}\n",
      "INFO:root:param: O, value {1000000.0}\n",
      "INFO:root:method: qc\n",
      "INFO:root:The model_name should be bpRNA_CRW_16038_{PKP}_{O}_{S}\n",
      "INFO:root:param: PKP, value {-0.5, 0.0, 1.0, 0.5, -1.0}\n",
      "INFO:root:param: S, value {1}\n",
      "INFO:root:param: O, value {1000000.0}\n",
      "INFO:root:method: qc\n",
      "INFO:root:The model_name should be bpRNA_RFAM_25456_{PKP}_{O}_{S}\n",
      "INFO:root:param: PKP, value {-0.5, 0.0, 1.0, 0.5, -1.0}\n",
      "INFO:root:param: S, value {1}\n",
      "INFO:root:param: O, value {1000000.0}\n",
      "INFO:root:method: qc\n",
      "INFO:root:The model_name should be bpRNA_SRP_2_{PKP}_{O}_{S}\n",
      "INFO:root:param: PKP, value {-0.5, 0.0, 1.0, 0.5, -1.0}\n",
      "INFO:root:param: S, value {1}\n",
      "INFO:root:param: O, value {1000000.0}\n",
      "INFO:root:method: qc\n",
      "INFO:root:The model_name should be bpRNA_CRW_8500_{PKP}_{O}_{S}\n",
      "INFO:root:param: PKP, value {-0.5, 0.0, 1.0, 0.5, -1.0}\n",
      "INFO:root:param: S, value {1}\n",
      "INFO:root:param: O, value {1000000.0}\n",
      "INFO:root:method: qc\n",
      "INFO:root:The model_name should be bpRNA_RFAM_5435_{PKP}_{O}_{S}\n",
      "INFO:root:param: PKP, value {-0.5, 0.0, 1.0, 0.5, -1.0}\n",
      "INFO:root:param: S, value {1}\n",
      "INFO:root:param: O, value {1000000.0}\n",
      "INFO:root:method: qc\n",
      "INFO:root:The model_name should be bpRNA_CRW_16424_{PKP}_{O}_{S}\n",
      "INFO:root:param: PKP, value {-0.5, 0.0, 1.0, 0.5, -1.0}\n",
      "INFO:root:param: S, value {1}\n",
      "INFO:root:param: O, value {1000000.0}\n",
      "INFO:root:method: qc\n",
      "INFO:root:The model_name should be bpRNA_RFAM_2112_{PKP}_{O}_{S}\n",
      "INFO:root:param: PKP, value {-0.5, 0.0, 1.0, 0.5, -1.0}\n",
      "INFO:root:param: S, value {1}\n",
      "INFO:root:param: O, value {1000000.0}\n",
      "INFO:root:method: qc\n",
      "INFO:root:The model_name should be bpRNA_RFAM_721_{PKP}_{O}_{S}\n",
      "INFO:root:param: PKP, value {-0.5, 0.0, 1.0, 0.5, -1.0}\n",
      "INFO:root:param: S, value {1}\n",
      "INFO:root:param: O, value {1000000.0}\n",
      "INFO:root:method: qc\n",
      "INFO:root:The model_name should be bpRNA_RFAM_839_{PKP}_{O}_{S}\n",
      "INFO:root:param: PKP, value {-0.5, 0.0, 1.0, 0.5, -1.0}\n",
      "INFO:root:param: S, value {1}\n",
      "INFO:root:param: O, value {1000000.0}\n"
     ]
    },
    {
     "name": "stdout",
     "output_type": "stream",
     "text": [
      "\n",
      "\n",
      "\n",
      "\n",
      "\n",
      "\n",
      "\n",
      "\n",
      "\n",
      "\n",
      "\n",
      "\n",
      "\n",
      "\n",
      "\n"
     ]
    }
   ],
   "source": [
    "# describe the model parameters\n",
    "model_info = rna_qubo.describe_models()"
   ]
  },
  {
   "cell_type": "code",
   "execution_count": 7,
   "metadata": {},
   "outputs": [
    {
     "name": "stderr",
     "output_type": "stream",
     "text": [
      "INFO:root:finish save rna_folding_latest.pickle\n"
     ]
    },
    {
     "name": "stdout",
     "output_type": "stream",
     "text": [
      "You have built the QUBO models and saved them as rna_folding_latest.pickle\n"
     ]
    }
   ],
   "source": [
    "# save the model\n",
    "model_path = rna_qubo.save(\"latest\")\n",
    "\n",
    "print(f\"You have built the QUBO models and saved them as rna_folding_latest.pickle\")"
   ]
  },
  {
   "cell_type": "code",
   "execution_count": 8,
   "metadata": {},
   "outputs": [],
   "source": [
    "# !mv rna_folding_latest.pickle rna-data/"
   ]
  },
  {
   "cell_type": "markdown",
   "metadata": {},
   "source": [
    "# Step 3: Optimize Configuration"
   ]
  },
  {
   "cell_type": "markdown",
   "metadata": {},
   "source": [
    "In this part, we use SA and QA to find the optimized configuration of rna folding.\n",
    "At first, we load the model file using **RNAQUBO** object"
   ]
  },
  {
   "cell_type": "code",
   "execution_count": 9,
   "metadata": {},
   "outputs": [],
   "source": [
    "rna_qubo_optimize = RNAQUBO.load(model_path)"
   ]
  },
  {
   "cell_type": "code",
   "execution_count": 10,
   "metadata": {},
   "outputs": [
    {
     "name": "stderr",
     "output_type": "stream",
     "text": [
      "INFO:root:method: qc\n",
      "INFO:root:The model_name should be bpRNA_CRW_15984_{PKP}_{O}_{S}\n",
      "INFO:root:param: PKP, value {-0.5, 0.0, 1.0, 0.5, -1.0}\n",
      "INFO:root:param: S, value {1}\n",
      "INFO:root:param: O, value {1000000.0}\n",
      "INFO:root:method: qc\n",
      "INFO:root:The model_name should be bpRNA_PDB_368_{PKP}_{O}_{S}\n",
      "INFO:root:param: PKP, value {-0.5, 0.0, 1.0, 0.5, -1.0}\n",
      "INFO:root:param: S, value {1}\n",
      "INFO:root:param: O, value {1000000.0}\n",
      "INFO:root:method: qc\n",
      "INFO:root:The model_name should be bpRNA_CRW_32863_{PKP}_{O}_{S}\n",
      "INFO:root:param: PKP, value {-0.5, 0.0, 1.0, 0.5, -1.0}\n",
      "INFO:root:param: S, value {1}\n",
      "INFO:root:param: O, value {1000000.0}\n",
      "INFO:root:method: qc\n",
      "INFO:root:The model_name should be bpRNA_RFAM_9907_{PKP}_{O}_{S}\n",
      "INFO:root:param: PKP, value {-0.5, 0.0, 1.0, 0.5, -1.0}\n",
      "INFO:root:param: S, value {1}\n",
      "INFO:root:param: O, value {1000000.0}\n",
      "INFO:root:method: qc\n",
      "INFO:root:The model_name should be bpRNA_CRW_15563_{PKP}_{O}_{S}\n",
      "INFO:root:param: PKP, value {-0.5, 0.0, 1.0, 0.5, -1.0}\n",
      "INFO:root:param: S, value {1}\n",
      "INFO:root:param: O, value {1000000.0}\n",
      "INFO:root:method: qc\n",
      "INFO:root:The model_name should be bpRNA_PDB_389_{PKP}_{O}_{S}\n",
      "INFO:root:param: PKP, value {-0.5, 0.0, 1.0, 0.5, -1.0}\n",
      "INFO:root:param: S, value {1}\n",
      "INFO:root:param: O, value {1000000.0}\n",
      "INFO:root:method: qc\n",
      "INFO:root:The model_name should be bpRNA_CRW_16038_{PKP}_{O}_{S}\n",
      "INFO:root:param: PKP, value {-0.5, 0.0, 1.0, 0.5, -1.0}\n",
      "INFO:root:param: S, value {1}\n",
      "INFO:root:param: O, value {1000000.0}\n",
      "INFO:root:method: qc\n",
      "INFO:root:The model_name should be bpRNA_RFAM_25456_{PKP}_{O}_{S}\n",
      "INFO:root:param: PKP, value {-0.5, 0.0, 1.0, 0.5, -1.0}\n",
      "INFO:root:param: S, value {1}\n",
      "INFO:root:param: O, value {1000000.0}\n",
      "INFO:root:method: qc\n",
      "INFO:root:The model_name should be bpRNA_SRP_2_{PKP}_{O}_{S}\n",
      "INFO:root:param: PKP, value {-0.5, 0.0, 1.0, 0.5, -1.0}\n",
      "INFO:root:param: S, value {1}\n",
      "INFO:root:param: O, value {1000000.0}\n",
      "INFO:root:method: qc\n",
      "INFO:root:The model_name should be bpRNA_CRW_8500_{PKP}_{O}_{S}\n",
      "INFO:root:param: PKP, value {-0.5, 0.0, 1.0, 0.5, -1.0}\n",
      "INFO:root:param: S, value {1}\n",
      "INFO:root:param: O, value {1000000.0}\n",
      "INFO:root:method: qc\n",
      "INFO:root:The model_name should be bpRNA_RFAM_5435_{PKP}_{O}_{S}\n",
      "INFO:root:param: PKP, value {-0.5, 0.0, 1.0, 0.5, -1.0}\n",
      "INFO:root:param: S, value {1}\n",
      "INFO:root:param: O, value {1000000.0}\n",
      "INFO:root:method: qc\n",
      "INFO:root:The model_name should be bpRNA_CRW_16424_{PKP}_{O}_{S}\n",
      "INFO:root:param: PKP, value {-0.5, 0.0, 1.0, 0.5, -1.0}\n",
      "INFO:root:param: S, value {1}\n",
      "INFO:root:param: O, value {1000000.0}\n",
      "INFO:root:method: qc\n",
      "INFO:root:The model_name should be bpRNA_RFAM_2112_{PKP}_{O}_{S}\n",
      "INFO:root:param: PKP, value {-0.5, 0.0, 1.0, 0.5, -1.0}\n",
      "INFO:root:param: S, value {1}\n",
      "INFO:root:param: O, value {1000000.0}\n",
      "INFO:root:method: qc\n",
      "INFO:root:The model_name should be bpRNA_RFAM_721_{PKP}_{O}_{S}\n",
      "INFO:root:param: PKP, value {-0.5, 0.0, 1.0, 0.5, -1.0}\n",
      "INFO:root:param: S, value {1}\n",
      "INFO:root:param: O, value {1000000.0}\n",
      "INFO:root:method: qc\n",
      "INFO:root:The model_name should be bpRNA_RFAM_839_{PKP}_{O}_{S}\n",
      "INFO:root:param: PKP, value {-0.5, 0.0, 1.0, 0.5, -1.0}\n",
      "INFO:root:param: S, value {1}\n",
      "INFO:root:param: O, value {1000000.0}\n"
     ]
    },
    {
     "name": "stdout",
     "output_type": "stream",
     "text": [
      "\n",
      "\n",
      "\n",
      "\n",
      "\n",
      "\n",
      "\n",
      "\n",
      "\n",
      "\n",
      "\n",
      "\n",
      "\n",
      "\n",
      "\n"
     ]
    }
   ],
   "source": [
    "model_info = rna_qubo_optimize.describe_models()"
   ]
  },
  {
   "cell_type": "code",
   "execution_count": 11,
   "metadata": {},
   "outputs": [],
   "source": [
    "# get the model you want to optimize\n",
    "rna_name = 'bpRNA_CRW_32863'\n",
    "PKP = 0.5\n",
    "O = 1e6\n",
    "S = 1\n",
    "method = 'qc'\n",
    "\n",
    "model_name = \"{}+{}+{}+{}+\".format(rna_name, PKP, O, S)\n",
    "\n",
    "qubo_model = rna_qubo_optimize.get_model(rna_name, method, model_name)"
   ]
  },
  {
   "cell_type": "markdown",
   "metadata": {},
   "source": [
    "After we get the qubo model, we need to set the parameters for optimization: \n",
    "\n",
    "| Parameter | Description | Value |\n",
    "|--- |--- |--- |\n",
    "|method | annealing method for QUBO problem |'dwave-sa': use the simulated annealer in ocean toolkit<br> 'dwave-qa': use the quantum annealer|\n",
    "|shots| number of reads, refer to [dwave-sa](https://docs.ocean.dwavesys.com/projects/neal/en/latest/reference/generated/neal.sampler.SimulatedAnnealingSampler.sample.html#neal.sampler.SimulatedAnnealingSampler.sample) and [dwave-qa](https://amazon-braket-ocean-plugin-python.readthedocs.io/en/latest/_apidoc/braket.ocean_plugin.braket_sampler.html) for details |1 to 10,000|\n",
    "|bucket | the s3 bucket to store your results | - |\n",
    "|prefix | the name of the folder in your s3 bucket | - |\n",
    "|device | the arn name to run your quantum annealing| 'arn:aws:braket:::device/qpu/d-wave/Advantage_system4' <br> 'arn:aws:braket:::device/qpu/d-wave/DW_2000Q_6'|\n",
    "\n",
    "Then, we can run the SA for this problem:"
   ]
  },
  {
   "cell_type": "code",
   "execution_count": 12,
   "metadata": {},
   "outputs": [
    {
     "name": "stderr",
     "output_type": "stream",
     "text": [
      "INFO:root:use neal simulated annealer (c++) from dimod\n"
     ]
    }
   ],
   "source": [
    "method = 'neal-sa'\n",
    "\n",
    "optimizer_param = {}\n",
    "optimizer_param['shots'] = 1000\n",
    "\n",
    "sa_optimizer = Annealer(qubo_model, method, **optimizer_param)"
   ]
  },
  {
   "cell_type": "code",
   "execution_count": 13,
   "metadata": {},
   "outputs": [
    {
     "name": "stderr",
     "output_type": "stream",
     "text": [
      "INFO:root:fit() ...\n",
      "INFO:root:neal-sa save to local\n",
      "INFO:root:finish save neal-sa_result.pickle\n"
     ]
    }
   ],
   "source": [
    "sa_optimize_result = sa_optimizer.fit()"
   ]
  },
  {
   "cell_type": "code",
   "execution_count": 14,
   "metadata": {},
   "outputs": [],
   "source": [
    "# dwave device has been moved to marketplace, please refer to the following link\n",
    "# https://aws.amazon.com/blogs/quantum-computing/using-d-wave-leap-from-the-aws-marketplace-with-amazon-braket-notebooks-and-braket-sdk/\n",
    "# method = 'dwave-qa'\n",
    "\n",
    "# optimizer_param = {}\n",
    "# optimizer_param['shots'] = 1000\n",
    "# optimizer_param['bucket'] = s3_bucket # the name of the bucket\n",
    "# optimizer_param['prefix'] = prefix # the name of the folder in the bucket\n",
    "# optimizer_param['device'] = \"arn:aws:braket:::device/qpu/d-wave/Advantage_system4\"\n",
    "# optimizer_param[\"embed_method\"] = \"default\"\n",
    "\n",
    "# qa_optimizer = Annealer(qubo_model, method, **optimizer_param)\n",
    "\n",
    "# # not create annealing task, only embedding logic\n",
    "# qa_optimizer.embed()\n",
    "# # create annealing task\n",
    "# qa_optimize_result = qa_optimizer.fit()\n",
    "\n",
    "# qa_task_id = qa_optimizer.get_task_id()\n",
    "# print(f\"task id is {qa_task_id}\")"
   ]
  },
  {
   "cell_type": "code",
   "execution_count": 15,
   "metadata": {},
   "outputs": [
    {
     "name": "stdout",
     "output_type": "stream",
     "text": [
      "dwave-sa run time 0.3331606388092041\n"
     ]
    }
   ],
   "source": [
    "print(f\"dwave-sa run time {sa_optimize_result['time']}\")\n",
    "# print(f\"dwave-qa run time {qa_optimize_result['time']}\")"
   ]
  },
  {
   "cell_type": "markdown",
   "metadata": {},
   "source": [
    "# Step 4: Post Process"
   ]
  },
  {
   "cell_type": "markdown",
   "metadata": {},
   "source": [
    "In this part, we post process the optimizing results for evaluation and visualization.\n",
    "At first, we prepare the following parameters:\n",
    "\n",
    "| Parameter | Description | Value |\n",
    "|--- |--- |--- |\n",
    "|method | annealing method for QUBO problem |'dwave-sa': use the simulated annealer in ocean toolkit<br> 'dwave-qa': use the quantum annealer|\n",
    "|raw_path| the path for the original molecule file| './molecule-data/117_ideal.mol2' in this example |\n",
    "|data_path| the path for the processed molecule file| './qmu_117_ideal_data_latest.mol2' in this example |\n",
    "|bucket | the s3 bucket to store your results | - |\n",
    "|prefix | the name of the folder in your s3 bucket | - |\n",
    "|task_id | the id for your quantum annealing task| '2b5a3b05-1a0e-443a-852c-4ec422a10e59' in this example |"
   ]
  },
  {
   "cell_type": "code",
   "execution_count": 16,
   "metadata": {},
   "outputs": [
    {
     "name": "stderr",
     "output_type": "stream",
     "text": [
      "INFO:root:_load_raw_result\n",
      "INFO:root:load simulated annealer neal-sa raw result\n",
      "INFO:root:_parse_model_info\n",
      "INFO:root:Data.load()\n",
      "INFO:root:actual energy is -36\n",
      "INFO:root:parse simulated annealer result\n",
      "INFO:root:_init_parameters\n",
      "INFO:root:sa only has local_time!\n"
     ]
    },
    {
     "name": "stdout",
     "output_type": "stream",
     "text": [
      "time for neal-sa: \n",
      "     local time is 0.3331606388092041\n"
     ]
    }
   ],
   "source": [
    "method = \"neal-sa\"\n",
    "sa_param = {}\n",
    "sa_param[\"raw_path\"] = raw_path\n",
    "sa_param[\"data_path\"] = data_path\n",
    "\n",
    "sa_process_result = ResultParser(method, **sa_param)\n",
    "# print(f\"{method} result is {sa_process_result.get_all_result()}\")\n",
    "\n",
    "local_time, _ , _, _= sa_process_result.get_time()\n",
    "\n",
    "print(f\"time for {method}: \\n \\\n",
    "    local time is {local_time}\")"
   ]
  },
  {
   "cell_type": "code",
   "execution_count": 17,
   "metadata": {},
   "outputs": [
    {
     "name": "stderr",
     "output_type": "stream",
     "text": [
      "INFO:root:generate_optimize_pts()\n",
      "INFO:root:save_file 20230205-04\n",
      "INFO:root:finish save bpRNA_CRW_32863_neal-sa_20230205-04.json\n"
     ]
    },
    {
     "name": "stdout",
     "output_type": "stream",
     "text": [
      "result optimization file path is bpRNA_CRW_32863_neal-sa_20230205-04.json\n"
     ]
    }
   ],
   "source": [
    "sa_atom_pos_data = sa_process_result.generate_optimize_pts()\n",
    "sa_result_json = sa_process_result.save_file(f\"{timestamp}\")\n",
    "\n",
    "print(f\"result optimization file path is {sa_result_json}\")"
   ]
  },
  {
   "cell_type": "code",
   "execution_count": 18,
   "metadata": {},
   "outputs": [
    {
     "data": {
      "text/plain": [
       "{'rna-strand': 'GCGGGUAUAGUUUAGUGGUAAAA',\n",
       " 'rna-name': 'bpRNA_CRW_32863',\n",
       " 'structure': {'actual': {'stems': [[11, 23, 6]], 'energy': -36},\n",
       "  'predict': {'stems': [[11, 22, 8, 4]],\n",
       "   'energy': -64.0,\n",
       "   'bp-specificity': 0.0,\n",
       "   'bp-sensitivity': 0.0,\n",
       "   'bases-specificity': 0.9333333333333333,\n",
       "   'bases-sensitivity': 0.875}}}"
      ]
     },
     "execution_count": 18,
     "metadata": {},
     "output_type": "execute_result"
    }
   ],
   "source": [
    "sa_process_result.parameters"
   ]
  },
  {
   "cell_type": "code",
   "execution_count": 19,
   "metadata": {},
   "outputs": [
    {
     "name": "stderr",
     "output_type": "stream",
     "text": [
      "INFO:forgi.graph._cofold:Testing connectivity: connected component =?= all nodes:\n",
      "['f0', 'h0', 's0'] =?= ['f0', 'h0', 's0']\n",
      "INFO:forgi.graph.bulge_graph:Stems with length 1: []\n",
      "INFO:forgi.visual.mplotlib:Starting to plot RNA...\n"
     ]
    },
    {
     "data": {
      "image/png": "[encoded data removed]",
      "text/plain": [
       "<Figure size 640x480 with 1 Axes>"
      ]
     },
     "metadata": {},
     "output_type": "display_data"
    }
   ],
   "source": [
    "sa_process_result.RNAFoldingView('raw',raw_path)"
   ]
  },
  {
   "cell_type": "code",
   "execution_count": 20,
   "metadata": {},
   "outputs": [
    {
     "name": "stderr",
     "output_type": "stream",
     "text": [
      "INFO:forgi.graph._cofold:Testing connectivity: connected component =?= all nodes:\n",
      "['f0', 'h0', 's0', 't0'] =?= ['f0', 'h0', 's0', 't0']\n",
      "INFO:forgi.graph.bulge_graph:Stems with length 1: []\n",
      "INFO:forgi.visual.mplotlib:Starting to plot RNA...\n",
      "INFO:forgi.visual.mplotlib:Cannot annotate h0 as 'h0' ON THE INSIDE, because of insufficient space. Trying outside...\n"
     ]
    },
    {
     "data": {
      "image/png": "[encoded data removed]",
      "text/plain": [
       "<Figure size 640x480 with 1 Axes>"
      ]
     },
     "metadata": {},
     "output_type": "display_data"
    }
   ],
   "source": [
    "sa_process_result.RNAFoldingView('predict',raw_path)"
   ]
  },
  {
   "cell_type": "code",
   "execution_count": 21,
   "metadata": {},
   "outputs": [],
   "source": [
    "# The following codes can be used as the reference once you can access d-wave devices from marketplace\n",
    "# method = \"dwave-qa\"\n",
    "# qa_param = {}\n",
    "# qa_param[\"bucket\"] = s3_bucket\n",
    "# qa_param[\"prefix\"] = prefix\n",
    "# qa_param[\"task_id\"] = qa_task_id\n",
    "# qa_param[\"raw_path\"] = raw_path\n",
    "# qa_param[\"data_path\"] = data_path\n",
    "\n",
    "# qa_process_result = ResultParser(method, **qa_param)\n",
    "# # print(f\"{method} result is {qa_process_result.get_all_result()}\")\n",
    "\n",
    "# local_time, task_time, total_time, access_time = qa_process_result.get_time()\n",
    "\n",
    "# print(f\"time for {method}: \\n \\\n",
    "#     local time is {local_time},\\n \\\n",
    "#     task time is {task_time}, \\n \\\n",
    "#     qpu total time is {total_time}, \\n \\\n",
    "#     qpu access time is {access_time}\")"
   ]
  },
  {
   "cell_type": "code",
   "execution_count": 22,
   "metadata": {},
   "outputs": [],
   "source": [
    "# qa_atom_pos_data = qa_process_result.generate_optimize_pts()\n",
    "# qa_result_json = qa_process_result.save_file(f\"{timestamp}\")\n",
    "# print(f\"result optimization file path is {qa_result_json}\")"
   ]
  }
 ],
 "metadata": {
  "kernelspec": {
   "display_name": "qc-hcls",
   "language": "python",
   "name": "qc-hcls"
  },
  "language_info": {
   "codemirror_mode": {
    "name": "ipython",
    "version": 3
   },
   "file_extension": ".py",
   "mimetype": "text/x-python",
   "name": "python",
   "nbconvert_exporter": "python",
   "pygments_lexer": "ipython3",
   "version": "3.9.13"
  },
  "vscode": {
   "interpreter": {
    "hash": "aee8b7b246df8f9039afb4144a1f6fd8d2ca17a180786b69acc140d282b71a49"
   }
  }
 },
 "nbformat": 4,
 "nbformat_minor": 4
}
