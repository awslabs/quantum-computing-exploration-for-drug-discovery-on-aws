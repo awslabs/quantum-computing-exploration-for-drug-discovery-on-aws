{
 "cells": [
  {
   "cell_type": "code",
   "execution_count": 1,
   "id": "199a63d4",
   "metadata": {
    "tags": []
   },
   "outputs": [
    {
     "name": "stdout",
     "output_type": "stream",
     "text": [
      "Requirement already satisfied: torch==2.1.0 in /home/ec2-user/anaconda3/envs/pytorch_p310/lib/python3.10/site-packages (from -r requirements.txt (line 1)) (2.1.0)\n",
      "Requirement already satisfied: amazon-braket-sdk==1.61.0 in /home/ec2-user/anaconda3/envs/pytorch_p310/lib/python3.10/site-packages (from -r requirements.txt (line 2)) (1.61.0)\n",
      "Requirement already satisfied: pandas==2.1.2 in /home/ec2-user/anaconda3/envs/pytorch_p310/lib/python3.10/site-packages (from -r requirements.txt (line 3)) (2.1.2)\n",
      "Requirement already satisfied: rdkit==2023.9.1 in /home/ec2-user/anaconda3/envs/pytorch_p310/lib/python3.10/site-packages (from -r requirements.txt (line 4)) (2023.9.1)\n",
      "Requirement already satisfied: tqdm==4.66.1 in /home/ec2-user/anaconda3/envs/pytorch_p310/lib/python3.10/site-packages (from -r requirements.txt (line 5)) (4.66.1)\n",
      "Requirement already satisfied: altair==5.1.2 in /home/ec2-user/anaconda3/envs/pytorch_p310/lib/python3.10/site-packages (from -r requirements.txt (line 6)) (5.1.2)\n",
      "Requirement already satisfied: pennylane==0.33.0 in /home/ec2-user/anaconda3/envs/pytorch_p310/lib/python3.10/site-packages (from -r requirements.txt (line 7)) (0.33.0)\n",
      "Requirement already satisfied: amazon-braket-pennylane-plugin==1.23.0 in /home/ec2-user/anaconda3/envs/pytorch_p310/lib/python3.10/site-packages (from -r requirements.txt (line 8)) (1.23.0)\n",
      "Requirement already satisfied: filelock in /home/ec2-user/anaconda3/envs/pytorch_p310/lib/python3.10/site-packages (from torch==2.1.0->-r requirements.txt (line 1)) (3.12.4)\n",
      "Requirement already satisfied: typing-extensions in /home/ec2-user/anaconda3/envs/pytorch_p310/lib/python3.10/site-packages (from torch==2.1.0->-r requirements.txt (line 1)) (4.8.0)\n",
      "Requirement already satisfied: sympy in /home/ec2-user/anaconda3/envs/pytorch_p310/lib/python3.10/site-packages (from torch==2.1.0->-r requirements.txt (line 1)) (1.12)\n",
      "Requirement already satisfied: networkx in /home/ec2-user/anaconda3/envs/pytorch_p310/lib/python3.10/site-packages (from torch==2.1.0->-r requirements.txt (line 1)) (3.2)\n",
      "Requirement already satisfied: jinja2 in /home/ec2-user/anaconda3/envs/pytorch_p310/lib/python3.10/site-packages (from torch==2.1.0->-r requirements.txt (line 1)) (3.1.2)\n",
      "Requirement already satisfied: fsspec in /home/ec2-user/anaconda3/envs/pytorch_p310/lib/python3.10/site-packages (from torch==2.1.0->-r requirements.txt (line 1)) (2023.10.0)\n",
      "Requirement already satisfied: nvidia-cuda-nvrtc-cu12==12.1.105 in /home/ec2-user/anaconda3/envs/pytorch_p310/lib/python3.10/site-packages (from torch==2.1.0->-r requirements.txt (line 1)) (12.1.105)\n",
      "Requirement already satisfied: nvidia-cuda-runtime-cu12==12.1.105 in /home/ec2-user/anaconda3/envs/pytorch_p310/lib/python3.10/site-packages (from torch==2.1.0->-r requirements.txt (line 1)) (12.1.105)\n",
      "Requirement already satisfied: nvidia-cuda-cupti-cu12==12.1.105 in /home/ec2-user/anaconda3/envs/pytorch_p310/lib/python3.10/site-packages (from torch==2.1.0->-r requirements.txt (line 1)) (12.1.105)\n",
      "Requirement already satisfied: nvidia-cudnn-cu12==8.9.2.26 in /home/ec2-user/anaconda3/envs/pytorch_p310/lib/python3.10/site-packages (from torch==2.1.0->-r requirements.txt (line 1)) (8.9.2.26)\n",
      "Requirement already satisfied: nvidia-cublas-cu12==12.1.3.1 in /home/ec2-user/anaconda3/envs/pytorch_p310/lib/python3.10/site-packages (from torch==2.1.0->-r requirements.txt (line 1)) (12.1.3.1)\n",
      "Requirement already satisfied: nvidia-cufft-cu12==11.0.2.54 in /home/ec2-user/anaconda3/envs/pytorch_p310/lib/python3.10/site-packages (from torch==2.1.0->-r requirements.txt (line 1)) (11.0.2.54)\n",
      "Requirement already satisfied: nvidia-curand-cu12==10.3.2.106 in /home/ec2-user/anaconda3/envs/pytorch_p310/lib/python3.10/site-packages (from torch==2.1.0->-r requirements.txt (line 1)) (10.3.2.106)\n",
      "Requirement already satisfied: nvidia-cusolver-cu12==11.4.5.107 in /home/ec2-user/anaconda3/envs/pytorch_p310/lib/python3.10/site-packages (from torch==2.1.0->-r requirements.txt (line 1)) (11.4.5.107)\n",
      "Requirement already satisfied: nvidia-cusparse-cu12==12.1.0.106 in /home/ec2-user/anaconda3/envs/pytorch_p310/lib/python3.10/site-packages (from torch==2.1.0->-r requirements.txt (line 1)) (12.1.0.106)\n",
      "Requirement already satisfied: nvidia-nccl-cu12==2.18.1 in /home/ec2-user/anaconda3/envs/pytorch_p310/lib/python3.10/site-packages (from torch==2.1.0->-r requirements.txt (line 1)) (2.18.1)\n",
      "Requirement already satisfied: nvidia-nvtx-cu12==12.1.105 in /home/ec2-user/anaconda3/envs/pytorch_p310/lib/python3.10/site-packages (from torch==2.1.0->-r requirements.txt (line 1)) (12.1.105)\n",
      "Requirement already satisfied: triton==2.1.0 in /home/ec2-user/anaconda3/envs/pytorch_p310/lib/python3.10/site-packages (from torch==2.1.0->-r requirements.txt (line 1)) (2.1.0)\n",
      "Requirement already satisfied: amazon-braket-schemas>=1.19.1 in /home/ec2-user/anaconda3/envs/pytorch_p310/lib/python3.10/site-packages (from amazon-braket-sdk==1.61.0->-r requirements.txt (line 2)) (1.19.1.post0)\n",
      "Requirement already satisfied: amazon-braket-default-simulator>=1.19.1 in /home/ec2-user/anaconda3/envs/pytorch_p310/lib/python3.10/site-packages (from amazon-braket-sdk==1.61.0->-r requirements.txt (line 2)) (1.20.1)\n",
      "Requirement already satisfied: oqpy~=0.2.1 in /home/ec2-user/anaconda3/envs/pytorch_p310/lib/python3.10/site-packages (from amazon-braket-sdk==1.61.0->-r requirements.txt (line 2)) (0.2.1)\n",
      "Requirement already satisfied: setuptools in /home/ec2-user/anaconda3/envs/pytorch_p310/lib/python3.10/site-packages (from amazon-braket-sdk==1.61.0->-r requirements.txt (line 2)) (68.2.2)\n",
      "Requirement already satisfied: backoff in /home/ec2-user/anaconda3/envs/pytorch_p310/lib/python3.10/site-packages (from amazon-braket-sdk==1.61.0->-r requirements.txt (line 2)) (2.2.1)\n",
      "Requirement already satisfied: boltons in /home/ec2-user/anaconda3/envs/pytorch_p310/lib/python3.10/site-packages (from amazon-braket-sdk==1.61.0->-r requirements.txt (line 2)) (23.1.1)\n",
      "Requirement already satisfied: boto3>=1.28.53 in /home/ec2-user/anaconda3/envs/pytorch_p310/lib/python3.10/site-packages (from amazon-braket-sdk==1.61.0->-r requirements.txt (line 2)) (1.28.80)\n",
      "Requirement already satisfied: cloudpickle==2.2.1 in /home/ec2-user/anaconda3/envs/pytorch_p310/lib/python3.10/site-packages (from amazon-braket-sdk==1.61.0->-r requirements.txt (line 2)) (2.2.1)\n",
      "Requirement already satisfied: nest-asyncio in /home/ec2-user/anaconda3/envs/pytorch_p310/lib/python3.10/site-packages (from amazon-braket-sdk==1.61.0->-r requirements.txt (line 2)) (1.5.8)\n",
      "Requirement already satisfied: numpy in /home/ec2-user/anaconda3/envs/pytorch_p310/lib/python3.10/site-packages (from amazon-braket-sdk==1.61.0->-r requirements.txt (line 2)) (1.26.1)\n",
      "Requirement already satisfied: openpulse in /home/ec2-user/anaconda3/envs/pytorch_p310/lib/python3.10/site-packages (from amazon-braket-sdk==1.61.0->-r requirements.txt (line 2)) (0.4.2)\n",
      "Requirement already satisfied: openqasm3 in /home/ec2-user/anaconda3/envs/pytorch_p310/lib/python3.10/site-packages (from amazon-braket-sdk==1.61.0->-r requirements.txt (line 2)) (0.4.0)\n",
      "Requirement already satisfied: python-dateutil>=2.8.2 in /home/ec2-user/anaconda3/envs/pytorch_p310/lib/python3.10/site-packages (from pandas==2.1.2->-r requirements.txt (line 3)) (2.8.2)\n",
      "Requirement already satisfied: pytz>=2020.1 in /home/ec2-user/anaconda3/envs/pytorch_p310/lib/python3.10/site-packages (from pandas==2.1.2->-r requirements.txt (line 3)) (2023.3.post1)\n",
      "Requirement already satisfied: tzdata>=2022.1 in /home/ec2-user/anaconda3/envs/pytorch_p310/lib/python3.10/site-packages (from pandas==2.1.2->-r requirements.txt (line 3)) (2023.3)\n",
      "Requirement already satisfied: Pillow in /home/ec2-user/anaconda3/envs/pytorch_p310/lib/python3.10/site-packages (from rdkit==2023.9.1->-r requirements.txt (line 4)) (10.1.0)\n",
      "Requirement already satisfied: jsonschema>=3.0 in /home/ec2-user/anaconda3/envs/pytorch_p310/lib/python3.10/site-packages (from altair==5.1.2->-r requirements.txt (line 6)) (4.19.1)\n",
      "Requirement already satisfied: packaging in /home/ec2-user/anaconda3/envs/pytorch_p310/lib/python3.10/site-packages (from altair==5.1.2->-r requirements.txt (line 6)) (21.3)\n",
      "Requirement already satisfied: toolz in /home/ec2-user/anaconda3/envs/pytorch_p310/lib/python3.10/site-packages (from altair==5.1.2->-r requirements.txt (line 6)) (0.12.0)\n",
      "Requirement already satisfied: scipy in /home/ec2-user/anaconda3/envs/pytorch_p310/lib/python3.10/site-packages (from pennylane==0.33.0->-r requirements.txt (line 7)) (1.11.3)\n",
      "Requirement already satisfied: rustworkx in /home/ec2-user/anaconda3/envs/pytorch_p310/lib/python3.10/site-packages (from pennylane==0.33.0->-r requirements.txt (line 7)) (0.13.2)\n",
      "Requirement already satisfied: autograd in /home/ec2-user/anaconda3/envs/pytorch_p310/lib/python3.10/site-packages (from pennylane==0.33.0->-r requirements.txt (line 7)) (1.6.2)\n",
      "Requirement already satisfied: toml in /home/ec2-user/anaconda3/envs/pytorch_p310/lib/python3.10/site-packages (from pennylane==0.33.0->-r requirements.txt (line 7)) (0.10.2)\n",
      "Requirement already satisfied: appdirs in /home/ec2-user/anaconda3/envs/pytorch_p310/lib/python3.10/site-packages (from pennylane==0.33.0->-r requirements.txt (line 7)) (1.4.4)\n",
      "Requirement already satisfied: semantic-version>=2.7 in /home/ec2-user/anaconda3/envs/pytorch_p310/lib/python3.10/site-packages (from pennylane==0.33.0->-r requirements.txt (line 7)) (2.10.0)\n",
      "Requirement already satisfied: autoray>=0.6.1 in /home/ec2-user/anaconda3/envs/pytorch_p310/lib/python3.10/site-packages (from pennylane==0.33.0->-r requirements.txt (line 7)) (0.6.7)\n",
      "Requirement already satisfied: cachetools in /home/ec2-user/anaconda3/envs/pytorch_p310/lib/python3.10/site-packages (from pennylane==0.33.0->-r requirements.txt (line 7)) (5.3.2)\n",
      "Requirement already satisfied: pennylane-lightning>=0.33 in /home/ec2-user/anaconda3/envs/pytorch_p310/lib/python3.10/site-packages (from pennylane==0.33.0->-r requirements.txt (line 7)) (0.33.1)\n",
      "Requirement already satisfied: requests in /home/ec2-user/anaconda3/envs/pytorch_p310/lib/python3.10/site-packages (from pennylane==0.33.0->-r requirements.txt (line 7)) (2.31.0)\n",
      "Requirement already satisfied: nvidia-nvjitlink-cu12 in /home/ec2-user/anaconda3/envs/pytorch_p310/lib/python3.10/site-packages (from nvidia-cusolver-cu12==11.4.5.107->torch==2.1.0->-r requirements.txt (line 1)) (12.3.101)\n",
      "Requirement already satisfied: opt-einsum in /home/ec2-user/anaconda3/envs/pytorch_p310/lib/python3.10/site-packages (from amazon-braket-default-simulator>=1.19.1->amazon-braket-sdk==1.61.0->-r requirements.txt (line 2)) (3.3.0)\n",
      "Requirement already satisfied: pydantic<2.0,>=1.9 in /home/ec2-user/anaconda3/envs/pytorch_p310/lib/python3.10/site-packages (from amazon-braket-default-simulator>=1.19.1->amazon-braket-sdk==1.61.0->-r requirements.txt (line 2)) (1.10.13)\n",
      "Requirement already satisfied: antlr4-python3-runtime==4.9.2 in /home/ec2-user/anaconda3/envs/pytorch_p310/lib/python3.10/site-packages (from amazon-braket-default-simulator>=1.19.1->amazon-braket-sdk==1.61.0->-r requirements.txt (line 2)) (4.9.2)\n",
      "Requirement already satisfied: botocore<1.32.0,>=1.31.80 in /home/ec2-user/anaconda3/envs/pytorch_p310/lib/python3.10/site-packages (from boto3>=1.28.53->amazon-braket-sdk==1.61.0->-r requirements.txt (line 2)) (1.31.80)\n",
      "Requirement already satisfied: jmespath<2.0.0,>=0.7.1 in /home/ec2-user/anaconda3/envs/pytorch_p310/lib/python3.10/site-packages (from boto3>=1.28.53->amazon-braket-sdk==1.61.0->-r requirements.txt (line 2)) (1.0.1)\n",
      "Requirement already satisfied: s3transfer<0.8.0,>=0.7.0 in /home/ec2-user/anaconda3/envs/pytorch_p310/lib/python3.10/site-packages (from boto3>=1.28.53->amazon-braket-sdk==1.61.0->-r requirements.txt (line 2)) (0.7.0)\n",
      "Requirement already satisfied: attrs>=22.2.0 in /home/ec2-user/anaconda3/envs/pytorch_p310/lib/python3.10/site-packages (from jsonschema>=3.0->altair==5.1.2->-r requirements.txt (line 6)) (23.1.0)\n",
      "Requirement already satisfied: jsonschema-specifications>=2023.03.6 in /home/ec2-user/anaconda3/envs/pytorch_p310/lib/python3.10/site-packages (from jsonschema>=3.0->altair==5.1.2->-r requirements.txt (line 6)) (2023.7.1)\n",
      "Requirement already satisfied: referencing>=0.28.4 in /home/ec2-user/anaconda3/envs/pytorch_p310/lib/python3.10/site-packages (from jsonschema>=3.0->altair==5.1.2->-r requirements.txt (line 6)) (0.30.2)\n",
      "Requirement already satisfied: rpds-py>=0.7.1 in /home/ec2-user/anaconda3/envs/pytorch_p310/lib/python3.10/site-packages (from jsonschema>=3.0->altair==5.1.2->-r requirements.txt (line 6)) (0.10.6)\n",
      "Requirement already satisfied: mypy-extensions>=0.2.0 in /home/ec2-user/anaconda3/envs/pytorch_p310/lib/python3.10/site-packages (from oqpy~=0.2.1->amazon-braket-sdk==1.61.0->-r requirements.txt (line 2)) (1.0.0)\n",
      "Requirement already satisfied: six>=1.5 in /home/ec2-user/anaconda3/envs/pytorch_p310/lib/python3.10/site-packages (from python-dateutil>=2.8.2->pandas==2.1.2->-r requirements.txt (line 3)) (1.16.0)\n",
      "Requirement already satisfied: future>=0.15.2 in /home/ec2-user/anaconda3/envs/pytorch_p310/lib/python3.10/site-packages (from autograd->pennylane==0.33.0->-r requirements.txt (line 7)) (0.18.3)\n",
      "Requirement already satisfied: MarkupSafe>=2.0 in /home/ec2-user/anaconda3/envs/pytorch_p310/lib/python3.10/site-packages (from jinja2->torch==2.1.0->-r requirements.txt (line 1)) (2.1.3)\n",
      "Requirement already satisfied: pyparsing!=3.0.5,>=2.0.2 in /home/ec2-user/anaconda3/envs/pytorch_p310/lib/python3.10/site-packages (from packaging->altair==5.1.2->-r requirements.txt (line 6)) (3.1.1)\n",
      "Requirement already satisfied: charset-normalizer<4,>=2 in /home/ec2-user/anaconda3/envs/pytorch_p310/lib/python3.10/site-packages (from requests->pennylane==0.33.0->-r requirements.txt (line 7)) (3.3.1)\n",
      "Requirement already satisfied: idna<4,>=2.5 in /home/ec2-user/anaconda3/envs/pytorch_p310/lib/python3.10/site-packages (from requests->pennylane==0.33.0->-r requirements.txt (line 7)) (3.4)\n",
      "Requirement already satisfied: urllib3<3,>=1.21.1 in /home/ec2-user/anaconda3/envs/pytorch_p310/lib/python3.10/site-packages (from requests->pennylane==0.33.0->-r requirements.txt (line 7)) (1.26.18)\n",
      "Requirement already satisfied: certifi>=2017.4.17 in /home/ec2-user/anaconda3/envs/pytorch_p310/lib/python3.10/site-packages (from requests->pennylane==0.33.0->-r requirements.txt (line 7)) (2023.7.22)\n",
      "Requirement already satisfied: mpmath>=0.19 in /home/ec2-user/anaconda3/envs/pytorch_p310/lib/python3.10/site-packages (from sympy->torch==2.1.0->-r requirements.txt (line 1)) (1.3.0)\n"
     ]
    }
   ],
   "source": [
    "!pip install -r requirements.txt"
   ]
  },
  {
   "cell_type": "markdown",
   "id": "afa8a212",
   "metadata": {},
   "source": [
    "# Algorithm Explained"
   ]
  },
  {
   "cell_type": "code",
   "execution_count": 2,
   "id": "ec2fe146",
   "metadata": {
    "pycharm": {
     "is_executing": true
    },
    "tags": []
   },
   "outputs": [],
   "source": [
    "from hybridjobs.utility.RetroGateModel import RetroRLModel\n",
    "from hybridjobs.utility.RetroRLAgent import RetroRLAgent\n",
    "from hybridjobs.utility.DataPrepare import Prepare\n",
    "from hybridjobs.utility.BruteForceSearch import expansion, Product, Reaction\n",
    "import time\n",
    "import numpy as np\n",
    "# # Use Braket SDK Cost Tracking to estimate the cost to run this example\n",
    "# from braket.tracking import Tracker\n",
    "# t = Tracker().start()\n",
    "\n",
    "timestamp = time.strftime(\"%Y%m%d-%H\")"
   ]
  },
  {
   "cell_type": "code",
   "execution_count": 3,
   "id": "e057ba46",
   "metadata": {
    "tags": []
   },
   "outputs": [],
   "source": [
    "# config your aws account in your ~/.aws/config\n",
    "import os\n",
    "os.environ['AWS_DEFAULT_REGION']='us-west-1'"
   ]
  },
  {
   "cell_type": "markdown",
   "id": "68c6b938",
   "metadata": {},
   "source": [
    "#### Step 1: Prepare Data\n",
    "\n",
    "In this part, we load the retrosynthesis prediction data for experiment.\n",
    "The [USPTO-50K](https://tdcommons.ai/generation_tasks/retrosyn/#uspto-50k) was \n",
    "put in the repository. We assign the relative \n",
    "path to **raw_path**.\n",
    "The **s3_bucket** and **prefix** are used to store the \n",
    "results. We can use the one created with the \n",
    "cloudformation for convenience."
   ]
  },
  {
   "cell_type": "code",
   "execution_count": 4,
   "id": "655b6a87",
   "metadata": {
    "tags": []
   },
   "outputs": [
    {
     "name": "stdout",
     "output_type": "stream",
     "text": [
      "mkdir: cannot create directory ‘data’: File exists\n",
      "mkdir: cannot create directory ‘datasmiles’: File exists\n",
      "--2023-11-27 03:08:39--  https://d1o8djwwk7diqy.cloudfront.net/retrosynthetic-plannin-dataset.zip\n",
      "Resolving d1o8djwwk7diqy.cloudfront.net (d1o8djwwk7diqy.cloudfront.net)... 108.138.245.167, 108.138.245.103, 108.138.245.206, ...\n",
      "Connecting to d1o8djwwk7diqy.cloudfront.net (d1o8djwwk7diqy.cloudfront.net)|108.138.245.167|:443... connected.\n",
      "HTTP request sent, awaiting response... 200 OK\n",
      "Length: 3841896 (3.7M) [application/zip]\n",
      "Saving to: ‘retrosynthetic-plannin-dataset.zip’\n",
      "\n",
      "100%[======================================>] 3,841,896   --.-K/s   in 0.03s   \n",
      "\n",
      "2023-11-27 03:08:39 (121 MB/s) - ‘retrosynthetic-plannin-dataset.zip’ saved [3841896/3841896]\n",
      "\n",
      "Archive:  retrosynthetic-plannin-dataset.zip\n",
      "  inflating: retrosynthetic-planning-dataset/buyable.npy  \n",
      "  inflating: retrosynthetic-planning-dataset/target_product.npy  \n",
      "  inflating: retrosynthetic-planning-dataset/reactions_dictionary.npy  \n",
      "  inflating: retrosynthetic-planning-dataset/smiles_map.npy  \n",
      "  inflating: retrosynthetic-planning-dataset/ground_truth.npy  \n",
      "  inflating: retrosynthetic-planning-dataset/Deadend.npy  \n",
      "  inflating: retrosynthetic-planning-dataset/uspto50k.xlsx  \n",
      "  inflating: retrosynthetic-planning-dataset/smiles_dictionary.npy  \n"
     ]
    }
   ],
   "source": [
    "data_path = 'data'\n",
    "# download dateset\n",
    "!mkdir $data_path\n",
    "!mkdir $data_path\\smiles\n",
    "!wget https://d1o8djwwk7diqy.cloudfront.net/retrosynthetic-plannin-dataset.zip\n",
    "!unzip -o retrosynthetic-plannin-dataset.zip\n",
    "# # windows\n",
    "# !copy retrosynthetic-planning-dataset $data_path\n",
    "# !copy data\\smiles_map.npy  data\\smiles\\smiles_map.npy\n",
    "\n",
    "# linux\n",
    "!cp -r retrosynthetic-planning-dataset/* $data_path\n",
    "!cp data/smiles_map.npy  data/smiles\n",
    "!rm retrosynthetic-plannin-dataset.zip "
   ]
  },
  {
   "cell_type": "code",
   "execution_count": 5,
   "id": "24175d70",
   "metadata": {
    "scrolled": true,
    "tags": []
   },
   "outputs": [
    {
     "name": "stderr",
     "output_type": "stream",
     "text": [
      "INFO:root:Files are present.\n",
      "INFO:root:All files are generated!\n",
      "INFO:root:File is present.\n"
     ]
    }
   ],
   "source": [
    "# input: predata_uspto-50k.xlsx\n",
    "# output: file1.npy,file2.npy\n",
    "raw_path = 'data/uspto50k.xlsx'\n",
    "prepare = Prepare(raw_path)\n",
    "prepare.generate_files()  # \n",
    "prepare.generate_ground_truth()\n",
    "ground_truth = np.load(prepare.path+'ground_truth.npy', allow_pickle=True).tolist()"
   ]
  },
  {
   "cell_type": "markdown",
   "id": "8431116a",
   "metadata": {},
   "source": [
    "#### Step 2: Prepare parameters for agents\n",
    "\n",
    "In this part, we prepare agent parameters wihch iniclude initial parameters, model parameters and so on"
   ]
  },
  {
   "cell_type": "code",
   "execution_count": 6,
   "id": "a29c1a12-7350-4b30-8da9-81964d343f86",
   "metadata": {
    "tags": []
   },
   "outputs": [],
   "source": [
    "agent_param = {}"
   ]
  },
  {
   "cell_type": "code",
   "execution_count": 7,
   "id": "89c4c746",
   "metadata": {
    "tags": []
   },
   "outputs": [],
   "source": [
    "# initial the RetroRLModel object\n",
    "init_param = {}\n",
    "method = ['retro-rl', 'retro-qrl']\n",
    "\n",
    "for mt in method:\n",
    "    if mt == 'retro-rl':\n",
    "        init_param[mt] = {}\n",
    "        init_param[mt]['param'] = ['inputsize', 'middlesize', 'outputsize']\n",
    "    elif mt == 'retro-qrl':\n",
    "        init_param[mt] = {}\n",
    "        init_param[mt]['param'] = ['n_qubits', 'device', 'framework', 'shots', 'layers']\n",
    "    \n",
    "# retro_rl_model = RetroRLModel(data=None, method=method, **init_param)\n",
    "agent_param['init_param'] = init_param"
   ]
  },
  {
   "cell_type": "code",
   "execution_count": 8,
   "id": "f7c64849-e0e4-4a46-8ff8-8fbcdf14fa0b",
   "metadata": {
    "tags": []
   },
   "outputs": [],
   "source": [
    "model_param={}\n",
    "method = 'retro-qrl'\n",
    "model_param[method] = {}\n",
    "model_param[method]['n_qubits'] = [8]\n",
    "# model_param[method]['device'] = ['local', 'sv1', 'aspen-m-3', 'aria-2']\n",
    "model_param[method]['device'] = ['local']\n",
    "model_param[method]['framework'] = ['pennylane']\n",
    "# model_param[method]['shots'] = [100,1000]\n",
    "model_param[method]['shots'] = [100]\n",
    "# model_param[method]['layers'] = [1,2,3]\n",
    "model_param[method]['layers'] = [1]\n",
    "\n",
    "\n",
    "agent_param['model_param'] = model_param"
   ]
  },
  {
   "cell_type": "code",
   "execution_count": 9,
   "id": "b4ea6e07-8dc2-4a44-bb18-285f6b576fa8",
   "metadata": {
    "tags": []
   },
   "outputs": [],
   "source": [
    "# # uncomment the following parameters if you want to use classical methods\n",
    "# model_param={}\n",
    "# method = 'retro-rl'\n",
    "# model_param[method] = {}\n",
    "# model_param[method]['inputsize'] = [256]\n",
    "# # model_param[method]['middlesize'] = [256,512,1024]\n",
    "# model_param[method]['middlesize'] = [256]\n",
    "# model_param[method]['outputsize'] = [1]\n",
    "\n",
    "\n",
    "# agent_param['model_param'] = model_param"
   ]
  },
  {
   "cell_type": "code",
   "execution_count": 10,
   "id": "77f01ca6-875a-4f7e-b1dc-92c4d92c6b3e",
   "metadata": {
    "tags": []
   },
   "outputs": [
    {
     "name": "stderr",
     "output_type": "stream",
     "text": [
      "INFO:botocore.credentials:Found credentials from IAM Role: BaseNotebookInstanceEc2InstanceRole\n"
     ]
    }
   ],
   "source": [
    "from braket.aws import AwsSession\n",
    "\n",
    "# initial parameters for experiment data\n",
    "s3_bucket_name = AwsSession().default_bucket() # change to the name of bucket created in your deployment"
   ]
  },
  {
   "cell_type": "code",
   "execution_count": 11,
   "id": "9a9a05d8-dfd7-4fc3-92cb-238847c7c40e",
   "metadata": {
    "tags": []
   },
   "outputs": [
    {
     "name": "stdout",
     "output_type": "stream",
     "text": [
      "upload: data/Deadend.npy to s3://amazon-braket-us-west-1-067664435707/data/Deadend.npy\n",
      "upload: data/smiles/smiles_map.npy to s3://amazon-braket-us-west-1-067664435707/data/smiles/smiles_map.npy\n",
      "upload: data/ground_truth.npy to s3://amazon-braket-us-west-1-067664435707/data/ground_truth.npy\n",
      "upload: data/target_product.npy to s3://amazon-braket-us-west-1-067664435707/data/target_product.npy\n",
      "upload: data/reactions_dictionary.npy to s3://amazon-braket-us-west-1-067664435707/data/reactions_dictionary.npy\n",
      "upload: data/buyable.npy to s3://amazon-braket-us-west-1-067664435707/data/buyable.npy\n",
      "upload: data/smiles_map.npy to s3://amazon-braket-us-west-1-067664435707/data/smiles_map.npy\n",
      "upload: data/uspto50k.xlsx to s3://amazon-braket-us-west-1-067664435707/data/uspto50k.xlsx\n",
      "upload: data/smiles_dictionary.npy to s3://amazon-braket-us-west-1-067664435707/data/smiles_dictionary.npy\n"
     ]
    }
   ],
   "source": [
    "# train_mode can be: \"local-instance\", \"local-job\", \"hybrid-job\"\n",
    "train_mode = \"hybrid-job\"\n",
    "\n",
    "if method == 'retro-qrl':\n",
    "    n_qubits = model_param[method]['n_qubits'][0]\n",
    "    device = model_param[method]['device'][0]\n",
    "    framework = model_param[method]['framework'][0]\n",
    "    shots = model_param[method]['shots'][0]\n",
    "    layers = model_param[method]['layers'][0]\n",
    "    model_name = \"{}_{}_{}_{}_{}\".format(n_qubits, device, framework, shots, layers)\n",
    "else:\n",
    "    inputsize = model_param[method]['inputsize'][0]\n",
    "    middlesize = model_param[method]['middlesize'][0]\n",
    "    outputsize = model_param[method]['outputsize'][0]\n",
    "    model_name = \"{}_{}_{}\".format(inputsize, middlesize, outputsize)\n",
    "\n",
    "data_path = 'data'\n",
    "# please change the following s3 bucket to the one you can upload and download data\n",
    "s3_data_path = None\n",
    "\n",
    "# if train_mode == \"local-job\" or train_mode == \"hybrid-job\":\n",
    "    # s3_bucket_name = \"s3://amazon-braket-us-west-1-002224604296\"\n",
    "    # s3_bucket_name = \"s3://xxx\"\n",
    "s3_data_path = f\"s3://{s3_bucket_name}/data\"\n",
    "import os\n",
    "os.system(f\"aws s3 sync {data_path} {s3_data_path}\")\n",
    "\n",
    "agent_param[\"data_path\"] = data_path\n",
    "agent_param[\"s3_data_path\"]=s3_data_path\n",
    "agent_param[\"train_mode\"] = train_mode\n",
    "agent_param[\"model_name\"] = model_name\n",
    "# agent_param[\"model_path\"] = model_path\n",
    "agent_param[\"episodes\"] = 2\n",
    "\n",
    "retro_model = None"
   ]
  },
  {
   "cell_type": "code",
   "execution_count": 12,
   "id": "b084b0b6-b294-486f-9f3f-97b2f84ee88d",
   "metadata": {
    "tags": []
   },
   "outputs": [
    {
     "name": "stdout",
     "output_type": "stream",
     "text": [
      "{'init_param': {'retro-rl': {'param': ['inputsize', 'middlesize', 'outputsize']}, 'retro-qrl': {'param': ['n_qubits', 'device', 'framework', 'shots', 'layers']}}, 'model_param': {'retro-qrl': {'n_qubits': [8], 'device': ['local'], 'framework': ['pennylane'], 'shots': [100], 'layers': [1]}}, 'data_path': 'data', 's3_data_path': 's3://amazon-braket-us-west-1-067664435707/data', 'train_mode': 'hybrid-job', 'model_name': '8_local_pennylane_100_1', 'episodes': 2}\n"
     ]
    }
   ],
   "source": [
    "# show agent_param\n",
    "print(agent_param)"
   ]
  },
  {
   "cell_type": "markdown",
   "id": "95d03bd5-2593-4450-b9fa-91660799efa3",
   "metadata": {},
   "source": [
    "#### Step 3: Learn Retrosynthetic Planning\n",
    "\n",
    "In this part, we use cpu to run classical model for retrosynthetic planning \n",
    "and simulators/NISQ devices to run quantum model for retrosysnthetic planning."
   ]
  },
  {
   "cell_type": "code",
   "execution_count": 13,
   "id": "fbaed183-3e66-4b64-adcf-06611d0dc003",
   "metadata": {
    "tags": []
   },
   "outputs": [
    {
     "name": "stderr",
     "output_type": "stream",
     "text": [
      "INFO:root:initial reinforcement learning for retrosynthetic-planning\n",
      "INFO:root:initial quantum reinforcement learning for retrosynthetic-planning\n",
      "INFO:root:load data...\n",
      "INFO:root:build_model is False\n",
      "INFO:botocore.credentials:Found credentials from IAM Role: BaseNotebookInstanceEc2InstanceRole\n"
     ]
    },
    {
     "name": "stdout",
     "output_type": "stream",
     "text": [
      "initial a new agent...\n",
      "Going to run local mode\n"
     ]
    },
    {
     "name": "stderr",
     "output_type": "stream",
     "text": [
      "INFO:botocore.credentials:Found credentials from IAM Role: BaseNotebookInstanceEc2InstanceRole\n"
     ]
    },
    {
     "name": "stdout",
     "output_type": "stream",
     "text": [
      "create job with arn arn:aws:braket:us-west-1:067664435707:job/retrorl-job-local-torch-1701054522\n"
     ]
    }
   ],
   "source": [
    "if train_mode == \"local-instance\":\n",
    "    retro_rl_agent = RetroRLAgent(True, method, **agent_param)\n",
    "    retro_rl_agent.game_job()\n",
    "    print(f\"local instance mode!\")\n",
    "else:\n",
    "    if method == \"retro-qrl\":\n",
    "        retro_rl_agent = RetroRLAgent(False, method, **agent_param)\n",
    "        retro_rl_agent.game_job()\n",
    "        job_arn = retro_rl_agent.get_job_arn()\n",
    "        print(f\"create job with arn {job_arn}\")\n",
    "    else:\n",
    "        retro_rl_agent = RetroRLAgent(True, method, **agent_param)\n",
    "        retro_rl_agent.game_job()"
   ]
  },
  {
   "cell_type": "markdown",
   "id": "ddcba0ff",
   "metadata": {},
   "source": [
    "#### Step 4: PostProcess Result"
   ]
  },
  {
   "cell_type": "code",
   "execution_count": 14,
   "id": "61e81149-7e6d-40b9-843f-51144384b36c",
   "metadata": {
    "tags": []
   },
   "outputs": [],
   "source": [
    "# get results from trained model, let's use the one trained with hybrid job for example"
   ]
  },
  {
   "cell_type": "code",
   "execution_count": 15,
   "id": "f1d0c62a-7a91-4229-b357-ff96aee05d5a",
   "metadata": {
    "tags": []
   },
   "outputs": [
    {
     "data": {
      "text/plain": [
       "'8_local_pennylane_100_1_agent_20231127.pt'"
      ]
     },
     "execution_count": 15,
     "metadata": {},
     "output_type": "execute_result"
    }
   ],
   "source": [
    "s3_save_path = retro_rl_agent.s3_save_path\n",
    "agent_name = s3_save_path.split('/')[-1]\n",
    "data_path = '/'.join(s3_save_path.split('/')[:-1])\n",
    "agent_name"
   ]
  },
  {
   "cell_type": "code",
   "execution_count": 16,
   "id": "c54fb57b-9373-45c1-8f52-4b3cdab8cb71",
   "metadata": {
    "tags": []
   },
   "outputs": [
    {
     "data": {
      "text/plain": [
       "'s3://amazon-braket-us-west-1-067664435707/data/8_local_pennylane_100_1_agent_20231127.pt'"
      ]
     },
     "execution_count": 16,
     "metadata": {},
     "output_type": "execute_result"
    }
   ],
   "source": [
    "s3_save_path"
   ]
  },
  {
   "cell_type": "code",
   "execution_count": 17,
   "id": "c3fc3d4b-15c9-4523-a5a6-f59815983667",
   "metadata": {
    "tags": []
   },
   "outputs": [
    {
     "name": "stdout",
     "output_type": "stream",
     "text": [
      "download: s3://amazon-braket-us-west-1-067664435707/data/8_local_pennylane_1000_2_agent_20231127.pt to pathway_files/8_local_pennylane_1000_2_agent_20231127.pt\n",
      "download: s3://amazon-braket-us-west-1-067664435707/data/8_local_pennylane_1000_1_agent_20231127.pt to pathway_files/8_local_pennylane_1000_1_agent_20231127.pt\n",
      "download: s3://amazon-braket-us-west-1-067664435707/data/8_local_pennylane_1000_3_agent_20231127.pt to pathway_files/8_local_pennylane_1000_3_agent_20231127.pt\n",
      "download: s3://amazon-braket-us-west-1-067664435707/data/8_local_pennylane_100_1_agent_20231121.pt to pathway_files/8_local_pennylane_100_1_agent_20231121.pt\n",
      "download: s3://amazon-braket-us-west-1-067664435707/data/8_local_pennylane_100_1_agent_20231127.pt to pathway_files/8_local_pennylane_100_1_agent_20231127.pt\n",
      "download: s3://amazon-braket-us-west-1-067664435707/data/8_local_pennylane_100_3_agent_20231127.pt to pathway_files/8_local_pennylane_100_3_agent_20231127.pt\n",
      "download: s3://amazon-braket-us-west-1-067664435707/data/buyable.npy to pathway_files/buyable.npy\n",
      "download: s3://amazon-braket-us-west-1-067664435707/data/8_local_pennylane_100_1_agent_20231126.pt to pathway_files/8_local_pennylane_100_1_agent_20231126.pt\n",
      "download: s3://amazon-braket-us-west-1-067664435707/data/8_local_pennylane_100_2_agent_20231127.pt to pathway_files/8_local_pennylane_100_2_agent_20231127.pt\n",
      "download: s3://amazon-braket-us-west-1-067664435707/data/Deadend.npy to pathway_files/Deadend.npy\n",
      "download: s3://amazon-braket-us-west-1-067664435707/data/smiles/smiles_map.npy to pathway_files/smiles/smiles_map.npy\n",
      "download: s3://amazon-braket-us-west-1-067664435707/data/ground_truth.npy to pathway_files/ground_truth.npy\n",
      "download: s3://amazon-braket-us-west-1-067664435707/data/smiles_map.npy to pathway_files/smiles_map.npy\n",
      "download: s3://amazon-braket-us-west-1-067664435707/data/reactions_dictionary.npy to pathway_files/reactions_dictionary.npy\n",
      "download: s3://amazon-braket-us-west-1-067664435707/data/target_product.npy to pathway_files/target_product.npy\n",
      "download: s3://amazon-braket-us-west-1-067664435707/data/uspto50k.xlsx to pathway_files/uspto50k.xlsx\n",
      "download: s3://amazon-braket-us-west-1-067664435707/data/smiles_dictionary.npy to pathway_files/smiles_dictionary.npy\n"
     ]
    }
   ],
   "source": [
    "!rm -rf pathway_files\n",
    "!mkdir pathway_files\n",
    "!aws s3 sync {data_path} pathway_files"
   ]
  },
  {
   "cell_type": "code",
   "execution_count": 18,
   "id": "8cc9aade-ff6a-4e41-a298-6f271c77a4b2",
   "metadata": {
    "tags": []
   },
   "outputs": [
    {
     "name": "stderr",
     "output_type": "stream",
     "text": [
      "INFO:root:initial reinforcement learning for retrosynthetic-planning\n",
      "INFO:root:initial quantum reinforcement learning for retrosynthetic-planning\n",
      "INFO:root:load data...\n"
     ]
    },
    {
     "name": "stdout",
     "output_type": "stream",
     "text": [
      "try to load agent from pathway_files for pathway function...\n"
     ]
    },
    {
     "name": "stderr",
     "output_type": "stream",
     "text": [
      "INFO:root:Construct model for n_qubits:8,device:local,framework:pennylane,layers:1 0.0008852680524190267 min\n"
     ]
    }
   ],
   "source": [
    "method = \"retro-qrl\"\n",
    "# model_name = '8_local_pennylane_100_1'\n",
    "# retro_rl_model = RetroRLModel.load(\"pathway_files/retrorl_model_latest.pickle\")\n",
    "retro_model = {\"model_name\":model_name}\n",
    "retro_rl_agent = RetroRLAgent(model=False, method=method, load_path=\"pathway_files\", agent_name=agent_name, **agent_param)\n"
   ]
  },
  {
   "cell_type": "code",
   "execution_count": 19,
   "id": "8bd3c040",
   "metadata": {
    "tags": []
   },
   "outputs": [
    {
     "name": "stdout",
     "output_type": "stream",
     "text": [
      "The path of retro_rl_agent: \n",
      "  {'O=[N+]([O-])c1ccc(CO)cc1', 'Cc1ccc(S(=O)(=O)O)cc1', 'COC(Cc1ccc2oc(Cc3nc(-c4ccccc4)oc3C)cc2c1)OC', 'O=C(O)[C@@H]1CCCN1', 'COC=Cc1ccc2oc(Cc3nc(-c4ccccc4)oc3C)cc2c1'}\n",
      "The real_path of Brute force: \n",
      "  {'O=[N+]([O-])c1ccc(CO)cc1', 'Cc1ccc(S(=O)(=O)O)cc1', 'COC(Cc1ccc2oc(Cc3nc(-c4ccccc4)oc3C)cc2c1)OC', 'O=C(O)[C@@H]1CCCN1', 'COC=Cc1ccc2oc(Cc3nc(-c4ccccc4)oc3C)cc2c1'}\n",
      "The real_cost of Brute force: \n",
      "  102.0\n",
      "Get the same path: True\n"
     ]
    }
   ],
   "source": [
    "target = 'COC(Cc1ccc2oc(Cc3nc(-c4ccccc4)oc3C)cc2c1)OC'\n",
    "retro_rl_agent.pathway(target)\n",
    "layer2 = retro_rl_agent.layer2\n",
    "# print(layer2)\n",
    "path = set()\n",
    "for i, j in layer2.items():\n",
    "    for k, l  in j.items():\n",
    "        path.add(l)\n",
    "print(f\"The path of retro_rl_agent: \\n \\\n",
    " {path}\")\n",
    "\n",
    "input_data_path = agent_param[\"data_path\"]\n",
    "ground_truth = np.load(input_data_path+'/ground_truth.npy', allow_pickle=True).tolist()\n",
    "\n",
    "real_path = set(ground_truth[target]['path'])\n",
    "print(f\"The real_path of Brute force: \\n \\\n",
    " {real_path}\")\n",
    "real_cost = ground_truth[target]['cost']\n",
    "print(f\"The real_cost of Brute force: \\n \\\n",
    " {real_cost}\")\n",
    "print(f\"Get the same path: {path == real_path}\")"
   ]
  },
  {
   "cell_type": "code",
   "execution_count": 20,
   "id": "7f58dad1",
   "metadata": {
    "tags": []
   },
   "outputs": [
    {
     "name": "stdout",
     "output_type": "stream",
     "text": [
      "The path of retro_rl_agent: \n",
      "  {'N#Cc1ccc(CO)cc1', 'N#Cc1ccc(C=O)cc1', 'NCc1ccc(CO)cc1', 'O=C(O)c1ccccn1', 'O=C(NCc1ccc(CO)cc1)c1ccccn1'}\n",
      "The real_path of Brute force: \n",
      "  {'N#Cc1ccc(CO)cc1', 'N#Cc1ccc(C=O)cc1', 'NCc1ccc(CO)cc1', 'O=C(O)c1ccccn1', 'O=C(NCc1ccc(CO)cc1)c1ccccn1'}\n",
      "The real_cost of Brute force: \n",
      "  3.0\n",
      "Get the same path: True\n"
     ]
    }
   ],
   "source": [
    "target = 'O=C(NCc1ccc(CO)cc1)c1ccccn1'\n",
    "retro_rl_agent.pathway(target)\n",
    "layer2 = retro_rl_agent.layer2\n",
    "# print(layer2)\n",
    "path = set()\n",
    "for i, j in layer2.items():\n",
    "    for k, l  in j.items():\n",
    "        path.add(l)\n",
    "print(f\"The path of retro_rl_agent: \\n \\\n",
    " {path}\")\n",
    "\n",
    "input_data_path = agent_param[\"data_path\"]\n",
    "ground_truth = np.load(input_data_path+'/ground_truth.npy', allow_pickle=True).tolist()\n",
    "\n",
    "real_path = set(ground_truth[target]['path'])\n",
    "print(f\"The real_path of Brute force: \\n \\\n",
    " {real_path}\")\n",
    "real_cost = ground_truth[target]['cost']\n",
    "print(f\"The real_cost of Brute force: \\n \\\n",
    " {real_cost}\")\n",
    "print(f\"Get the same path: {path == real_path}\")"
   ]
  },
  {
   "cell_type": "code",
   "execution_count": 21,
   "id": "634c442d",
   "metadata": {
    "tags": []
   },
   "outputs": [
    {
     "name": "stdout",
     "output_type": "stream",
     "text": [
      "The path of retro_rl_agent: \n",
      "  {'O=C(c1ccccc1)c1ccccc1', 'CCCCC(CC)COC(=O)C(C#N)=C(c1ccccc1)c1ccccc1', 'CCCCC(CC)COC(=O)CC#N', 'OC(c1ccccc1)c1ccccc1'}\n",
      "The real_path of Brute force: \n",
      "  {'CCCCC(CC)COC(=O)C(C#N)=C(c1ccccc1)c1ccccc1', 'O=C(Cl)c1ccccc1', 'O=C(c1ccccc1)c1ccccc1', 'CCCCC(CC)COC(=O)CC#N', 'c1ccccc1'}\n",
      "The real_cost of Brute force: \n",
      "  2.0\n",
      "Get the same path: False\n"
     ]
    }
   ],
   "source": [
    "target = 'CCCCC(CC)COC(=O)C(C#N)=C(c1ccccc1)c1ccccc1'\n",
    "retro_rl_agent.pathway(target)\n",
    "layer2 = retro_rl_agent.layer2\n",
    "# print(layer2)\n",
    "path = set()\n",
    "for i, j in layer2.items():\n",
    "    for k, l  in j.items():\n",
    "        path.add(l)\n",
    "print(f\"The path of retro_rl_agent: \\n \\\n",
    " {path}\")\n",
    "\n",
    "input_data_path = agent_param[\"data_path\"]\n",
    "ground_truth = np.load(input_data_path+'/ground_truth.npy', allow_pickle=True).tolist()\n",
    "\n",
    "real_path = set(ground_truth[target]['path'])\n",
    "print(f\"The real_path of Brute force: \\n \\\n",
    " {real_path}\")\n",
    "real_cost = ground_truth[target]['cost']\n",
    "print(f\"The real_cost of Brute force: \\n \\\n",
    " {real_cost}\")\n",
    "print(f\"Get the same path: {path == real_path}\")"
   ]
  },
  {
   "cell_type": "markdown",
   "id": "902bfb14",
   "metadata": {},
   "source": [
    "# Hybrid Job Experiment"
   ]
  },
  {
   "cell_type": "code",
   "execution_count": 22,
   "id": "719d8d32",
   "metadata": {
    "tags": []
   },
   "outputs": [
    {
     "name": "stderr",
     "output_type": "stream",
     "text": [
      "INFO:botocore.credentials:Found credentials from IAM Role: BaseNotebookInstanceEc2InstanceRole\n"
     ]
    }
   ],
   "source": [
    "from braket.aws import AwsQuantumJob\n",
    "from braket.jobs.config import InstanceConfig\n",
    "import boto3\n",
    "import json\n",
    "import time\n",
    "import altair as alt\n",
    "import pandas as pd\n",
    "import numpy as np\n",
    "from hybridjobs.utility.HybridJobHelpers import *"
   ]
  },
  {
   "cell_type": "markdown",
   "id": "66eb11a1",
   "metadata": {},
   "source": [
    "#### Step 1: Prepare parameters for batch evaluation\n",
    "\n",
    "In this part, we set the parameters for batch evaluation"
   ]
  },
  {
   "cell_type": "code",
   "execution_count": 23,
   "id": "bb802d12",
   "metadata": {
    "tags": []
   },
   "outputs": [
    {
     "name": "stdout",
     "output_type": "stream",
     "text": [
      "parameters for experiments: \n",
      " [{'n_qubits': 8, 'framework': 'pennylane', 'layers': 1, 'shots': 100, 'device': 'local'}, {'n_qubits': 8, 'framework': 'pennylane', 'layers': 2, 'shots': 100, 'device': 'local'}, {'n_qubits': 8, 'framework': 'pennylane', 'layers': 3, 'shots': 100, 'device': 'local'}]\n"
     ]
    }
   ],
   "source": [
    "# parameters for experiments\n",
    "experiment_name = \"retrosynthetic-planning\"\n",
    "data_path = \"retrosynthetic-planning-data\"\n",
    "suffix_check = [\"txt\"]\n",
    "experiments_params =  {\n",
    "    \"version\": \"1\",\n",
    "    \"params\": [\n",
    "        {\"n_qubits\": [8]},\n",
    "        {\"framework\": ['pennylane']},\n",
    "        {\"layers\": [1,2,3]},\n",
    "        {\"shots\": [100]},\n",
    "        {\"device\": ['local']}\n",
    "    ]\n",
    "}\n",
    "\n",
    "hp = {}\n",
    "hybrid_job_params = []\n",
    "parse_params(experiments_params['params'], hp, hybrid_job_params)\n",
    "\n",
    "print(f\"parameters for experiments: \\n {hybrid_job_params}\")"
   ]
  },
  {
   "cell_type": "code",
   "execution_count": 24,
   "id": "2b67a696",
   "metadata": {
    "tags": []
   },
   "outputs": [],
   "source": [
    "# parameters for experiments\n",
    "experiment_name = \"retrosynthetic-planning\"\n",
    "data_path = \"retrosynthetic-planning-data\"\n",
    "suffix_check = [\"txt\"]\n",
    "experiments_params =  {\n",
    "    \"version\": \"1\",\n",
    "    \"params1\": [\n",
    "        {\"n_qubits\": [8]},\n",
    "        {\"framework\": ['pennylane']},\n",
    "        {\"layers\": [1,2,3]},\n",
    "        {\"shots\": [100,1000]},\n",
    "        {\"device\": ['local']}\n",
    "    ],\n",
    "    \"params2\": [\n",
    "        {\"inputsize\": [256]},\n",
    "        {\"middlesize\": [256,512,1024]},\n",
    "        {\"outputsize\": [1]}\n",
    "    ]\n",
    "}\n",
    "\n",
    "# hp = {}\n",
    "# hybrid_job_params = []\n",
    "# parse_params(experiments_params['params'], hp, hybrid_job_params)\n",
    "\n",
    "# print(f\"parameters for experiments: \\n {hybrid_job_params}\")\n",
    "\n",
    "hybrid_job_params = []\n",
    "for n_qubits in experiments_params['params1'][0][\"n_qubits\"]:\n",
    "    for framework in experiments_params['params1'][1][\"framework\"]:\n",
    "            for layers in experiments_params['params1'][2][\"layers\"]:\n",
    "                for shots in experiments_params['params1'][3][\"shots\"]:\n",
    "                    for device in experiments_params['params1'][4][\"device\"]:\n",
    "                        model_name = \"{}_{}_{}_{}_{}\".format(n_qubits, device, framework, shots, layers)\n",
    "                        hybrid_job_params.append(model_name)\n",
    "for inputsize in experiments_params['params2'][0][\"inputsize\"]:\n",
    "    for middlesize in experiments_params['params2'][1][\"middlesize\"]:\n",
    "            for outputsize in experiments_params['params2'][2][\"outputsize\"]:                \n",
    "                model_name = \"{}_{}_{}\".format(inputsize, middlesize, outputsize)\n",
    "                hybrid_job_params.append(model_name)"
   ]
  },
  {
   "cell_type": "code",
   "execution_count": 25,
   "id": "8593ee25",
   "metadata": {
    "tags": []
   },
   "outputs": [
    {
     "data": {
      "text/plain": [
       "['8_local_pennylane_100_1',\n",
       " '8_local_pennylane_1000_1',\n",
       " '8_local_pennylane_100_2',\n",
       " '8_local_pennylane_1000_2',\n",
       " '8_local_pennylane_100_3',\n",
       " '8_local_pennylane_1000_3',\n",
       " '256_256_1',\n",
       " '256_512_1',\n",
       " '256_1024_1']"
      ]
     },
     "execution_count": 25,
     "metadata": {},
     "output_type": "execute_result"
    }
   ],
   "source": [
    "hybrid_job_params"
   ]
  },
  {
   "cell_type": "code",
   "execution_count": 26,
   "id": "9582019b",
   "metadata": {
    "tags": []
   },
   "outputs": [
    {
     "name": "stderr",
     "output_type": "stream",
     "text": [
      "INFO:root:initial reinforcement learning for retrosynthetic-planning\n",
      "INFO:root:initial quantum reinforcement learning for retrosynthetic-planning\n",
      "INFO:root:load data...\n",
      "INFO:root:build_model is False\n",
      "INFO:botocore.credentials:Found credentials from IAM Role: BaseNotebookInstanceEc2InstanceRole\n",
      "INFO:botocore.credentials:Found credentials from IAM Role: BaseNotebookInstanceEc2InstanceRole\n"
     ]
    },
    {
     "name": "stdout",
     "output_type": "stream",
     "text": [
      "{'init_param': {'retro-rl': {'param': ['inputsize', 'middlesize', 'outputsize']}, 'retro-qrl': {'param': ['n_qubits', 'device', 'framework', 'shots', 'layers']}}, 'model_param': {'retro-qrl': {'n_qubits': [8], 'device': ['local'], 'framework': ['pennylane'], 'shots': [100], 'layers': [1]}}, 'data_path': 'data', 's3_data_path': 's3://amazon-braket-us-west-1-067664435707/data', 'train_mode': 'hybrid-job', 'model_name': '8_local_pennylane_100_1', 'episodes': 2}\n",
      "initial a new agent...\n",
      "Going to run local mode\n"
     ]
    },
    {
     "name": "stderr",
     "output_type": "stream",
     "text": [
      "INFO:botocore.credentials:Found credentials from IAM Role: BaseNotebookInstanceEc2InstanceRole\n",
      "INFO:root:initial reinforcement learning for retrosynthetic-planning\n",
      "INFO:root:initial quantum reinforcement learning for retrosynthetic-planning\n",
      "INFO:root:load data...\n",
      "INFO:root:build_model is False\n",
      "INFO:botocore.credentials:Found credentials from IAM Role: BaseNotebookInstanceEc2InstanceRole\n"
     ]
    },
    {
     "name": "stdout",
     "output_type": "stream",
     "text": [
      "There are 2 jobs in RUNNING or QUEUED status\n",
      "{'init_param': {'retro-rl': {'param': ['inputsize', 'middlesize', 'outputsize']}, 'retro-qrl': {'param': ['n_qubits', 'device', 'framework', 'shots', 'layers']}}, 'model_param': {'retro-qrl': {'n_qubits': [8], 'device': ['local'], 'framework': ['pennylane'], 'shots': [1000], 'layers': [1]}}, 'data_path': 'data', 's3_data_path': 's3://amazon-braket-us-west-1-067664435707/data', 'train_mode': 'hybrid-job', 'model_name': '8_local_pennylane_1000_1', 'episodes': 2}\n",
      "initial a new agent...\n",
      "Going to run local mode\n"
     ]
    },
    {
     "name": "stderr",
     "output_type": "stream",
     "text": [
      "INFO:botocore.credentials:Found credentials from IAM Role: BaseNotebookInstanceEc2InstanceRole\n",
      "INFO:root:initial reinforcement learning for retrosynthetic-planning\n",
      "INFO:root:initial quantum reinforcement learning for retrosynthetic-planning\n",
      "INFO:root:load data...\n",
      "INFO:root:build_model is False\n",
      "INFO:botocore.credentials:Found credentials from IAM Role: BaseNotebookInstanceEc2InstanceRole\n",
      "INFO:botocore.credentials:Found credentials from IAM Role: BaseNotebookInstanceEc2InstanceRole\n"
     ]
    },
    {
     "name": "stdout",
     "output_type": "stream",
     "text": [
      "There are 3 jobs in RUNNING or QUEUED status\n",
      "{'init_param': {'retro-rl': {'param': ['inputsize', 'middlesize', 'outputsize']}, 'retro-qrl': {'param': ['n_qubits', 'device', 'framework', 'shots', 'layers']}}, 'model_param': {'retro-qrl': {'n_qubits': [8], 'device': ['local'], 'framework': ['pennylane'], 'shots': [100], 'layers': [2]}}, 'data_path': 'data', 's3_data_path': 's3://amazon-braket-us-west-1-067664435707/data', 'train_mode': 'hybrid-job', 'model_name': '8_local_pennylane_100_2', 'episodes': 2}\n",
      "initial a new agent...\n",
      "Going to run local mode\n",
      "There are 4 jobs in RUNNING or QUEUED status\n",
      "There are 4 jobs in RUNNING or QUEUED status\n",
      "There are 4 jobs in RUNNING or QUEUED status\n",
      "There are 4 jobs in RUNNING or QUEUED status\n",
      "There are 4 jobs in RUNNING or QUEUED status\n",
      "There are 4 jobs in RUNNING or QUEUED status\n",
      "There are 4 jobs in RUNNING or QUEUED status\n",
      "There are 4 jobs in RUNNING or QUEUED status\n",
      "There are 4 jobs in RUNNING or QUEUED status\n",
      "There are 4 jobs in RUNNING or QUEUED status\n",
      "There are 4 jobs in RUNNING or QUEUED status\n",
      "There are 4 jobs in RUNNING or QUEUED status\n",
      "There are 4 jobs in RUNNING or QUEUED status\n",
      "There are 4 jobs in RUNNING or QUEUED status\n",
      "There are 4 jobs in RUNNING or QUEUED status\n",
      "There are 4 jobs in RUNNING or QUEUED status\n",
      "There are 4 jobs in RUNNING or QUEUED status\n",
      "There are 4 jobs in RUNNING or QUEUED status\n",
      "There are 4 jobs in RUNNING or QUEUED status\n",
      "There are 4 jobs in RUNNING or QUEUED status\n",
      "There are 4 jobs in RUNNING or QUEUED status\n"
     ]
    },
    {
     "name": "stderr",
     "output_type": "stream",
     "text": [
      "INFO:root:initial reinforcement learning for retrosynthetic-planning\n",
      "INFO:root:initial quantum reinforcement learning for retrosynthetic-planning\n",
      "INFO:root:load data...\n",
      "INFO:root:build_model is False\n",
      "INFO:botocore.credentials:Found credentials from IAM Role: BaseNotebookInstanceEc2InstanceRole\n",
      "INFO:botocore.credentials:Found credentials from IAM Role: BaseNotebookInstanceEc2InstanceRole\n"
     ]
    },
    {
     "name": "stdout",
     "output_type": "stream",
     "text": [
      "There are 1 jobs in RUNNING or QUEUED status\n",
      "{'init_param': {'retro-rl': {'param': ['inputsize', 'middlesize', 'outputsize']}, 'retro-qrl': {'param': ['n_qubits', 'device', 'framework', 'shots', 'layers']}}, 'model_param': {'retro-qrl': {'n_qubits': [8], 'device': ['local'], 'framework': ['pennylane'], 'shots': [1000], 'layers': [2]}}, 'data_path': 'data', 's3_data_path': 's3://amazon-braket-us-west-1-067664435707/data', 'train_mode': 'hybrid-job', 'model_name': '8_local_pennylane_1000_2', 'episodes': 2}\n",
      "initial a new agent...\n",
      "Going to run local mode\n"
     ]
    },
    {
     "name": "stderr",
     "output_type": "stream",
     "text": [
      "INFO:root:initial reinforcement learning for retrosynthetic-planning\n",
      "INFO:root:initial quantum reinforcement learning for retrosynthetic-planning\n",
      "INFO:root:load data...\n",
      "INFO:root:build_model is False\n",
      "INFO:botocore.credentials:Found credentials from IAM Role: BaseNotebookInstanceEc2InstanceRole\n"
     ]
    },
    {
     "name": "stdout",
     "output_type": "stream",
     "text": [
      "There are 2 jobs in RUNNING or QUEUED status\n",
      "{'init_param': {'retro-rl': {'param': ['inputsize', 'middlesize', 'outputsize']}, 'retro-qrl': {'param': ['n_qubits', 'device', 'framework', 'shots', 'layers']}}, 'model_param': {'retro-qrl': {'n_qubits': [8], 'device': ['local'], 'framework': ['pennylane'], 'shots': [100], 'layers': [3]}}, 'data_path': 'data', 's3_data_path': 's3://amazon-braket-us-west-1-067664435707/data', 'train_mode': 'hybrid-job', 'model_name': '8_local_pennylane_100_3', 'episodes': 2}\n",
      "initial a new agent...\n",
      "Going to run local mode\n"
     ]
    },
    {
     "name": "stderr",
     "output_type": "stream",
     "text": [
      "INFO:botocore.credentials:Found credentials from IAM Role: BaseNotebookInstanceEc2InstanceRole\n",
      "INFO:root:initial reinforcement learning for retrosynthetic-planning\n",
      "INFO:root:initial quantum reinforcement learning for retrosynthetic-planning\n",
      "INFO:root:load data...\n",
      "INFO:root:build_model is False\n",
      "INFO:botocore.credentials:Found credentials from IAM Role: BaseNotebookInstanceEc2InstanceRole\n",
      "INFO:botocore.credentials:Found credentials from IAM Role: BaseNotebookInstanceEc2InstanceRole\n"
     ]
    },
    {
     "name": "stdout",
     "output_type": "stream",
     "text": [
      "There are 3 jobs in RUNNING or QUEUED status\n",
      "{'init_param': {'retro-rl': {'param': ['inputsize', 'middlesize', 'outputsize']}, 'retro-qrl': {'param': ['n_qubits', 'device', 'framework', 'shots', 'layers']}}, 'model_param': {'retro-qrl': {'n_qubits': [8], 'device': ['local'], 'framework': ['pennylane'], 'shots': [1000], 'layers': [3]}}, 'data_path': 'data', 's3_data_path': 's3://amazon-braket-us-west-1-067664435707/data', 'train_mode': 'hybrid-job', 'model_name': '8_local_pennylane_1000_3', 'episodes': 2}\n",
      "initial a new agent...\n",
      "Going to run local mode\n"
     ]
    },
    {
     "name": "stderr",
     "output_type": "stream",
     "text": [
      "INFO:root:initial reinforcement learning for retrosynthetic-planning\n",
      "INFO:root:initial quantum reinforcement learning for retrosynthetic-planning\n",
      "INFO:root:load data...\n",
      "INFO:root:build_model is True\n",
      "INFO:root:Construct model for inputsize:256,middlesize:256,outputsize:1 1.224676767985026e-05 min\n"
     ]
    },
    {
     "name": "stdout",
     "output_type": "stream",
     "text": [
      "There are 3 jobs in RUNNING or QUEUED status\n",
      "{'init_param': {'retro-rl': {'param': ['inputsize', 'middlesize', 'outputsize']}, 'retro-qrl': {'param': ['n_qubits', 'device', 'framework', 'shots', 'layers']}}, 'model_param': {'retro-rl': {'inputsize': [256], 'middlesize': [256], 'outputsize': [1]}}, 'data_path': 'data', 's3_data_path': 's3://amazon-braket-us-west-1-067664435707/data', 'train_mode': 'hybrid-job', 'model_name': '256_256_1', 'episodes': 2}\n",
      "initial a new agent...\n",
      "model_param is {'retro-rl': {'inputsize': [256], 'middlesize': [256], 'outputsize': [1]}}\n",
      "episode 1\n",
      "epsiode 1 training...\n",
      "finish epoch 0 for 0.002912898858388265 minutes\n",
      "finish epoch 1 for 4.4790903727213543e-05 minutes\n"
     ]
    },
    {
     "name": "stderr",
     "output_type": "stream",
     "text": [
      "INFO:root:initial reinforcement learning for retrosynthetic-planning\n",
      "INFO:root:initial quantum reinforcement learning for retrosynthetic-planning\n",
      "INFO:root:load data...\n",
      "INFO:root:build_model is True\n",
      "INFO:root:Construct model for inputsize:256,middlesize:512,outputsize:1 1.8103917439778647e-05 min\n"
     ]
    },
    {
     "name": "stdout",
     "output_type": "stream",
     "text": [
      "There are 3 jobs in RUNNING or QUEUED status\n",
      "{'init_param': {'retro-rl': {'param': ['inputsize', 'middlesize', 'outputsize']}, 'retro-qrl': {'param': ['n_qubits', 'device', 'framework', 'shots', 'layers']}}, 'model_param': {'retro-rl': {'inputsize': [256], 'middlesize': [512], 'outputsize': [1]}}, 'data_path': 'data', 's3_data_path': 's3://amazon-braket-us-west-1-067664435707/data', 'train_mode': 'hybrid-job', 'model_name': '256_512_1', 'episodes': 2}\n",
      "initial a new agent...\n",
      "model_param is {'retro-rl': {'inputsize': [256], 'middlesize': [512], 'outputsize': [1]}}\n",
      "episode 1\n",
      "epsiode 1 training...\n",
      "finish epoch 0 for 2.8383731842041015e-05 minutes\n",
      "finish epoch 1 for 2.0293394724527993e-05 minutes\n"
     ]
    },
    {
     "name": "stderr",
     "output_type": "stream",
     "text": [
      "INFO:root:initial reinforcement learning for retrosynthetic-planning\n",
      "INFO:root:initial quantum reinforcement learning for retrosynthetic-planning\n",
      "INFO:root:load data...\n",
      "INFO:root:build_model is True\n",
      "INFO:root:Construct model for inputsize:256,middlesize:1024,outputsize:1 2.7056535085042318e-05 min\n"
     ]
    },
    {
     "name": "stdout",
     "output_type": "stream",
     "text": [
      "There are 3 jobs in RUNNING or QUEUED status\n",
      "{'init_param': {'retro-rl': {'param': ['inputsize', 'middlesize', 'outputsize']}, 'retro-qrl': {'param': ['n_qubits', 'device', 'framework', 'shots', 'layers']}}, 'model_param': {'retro-rl': {'inputsize': [256], 'middlesize': [1024], 'outputsize': [1]}}, 'data_path': 'data', 's3_data_path': 's3://amazon-braket-us-west-1-067664435707/data', 'train_mode': 'hybrid-job', 'model_name': '256_1024_1', 'episodes': 2}\n",
      "initial a new agent...\n",
      "model_param is {'retro-rl': {'inputsize': [256], 'middlesize': [1024], 'outputsize': [1]}}\n",
      "episode 1\n",
      "epsiode 1 training...\n",
      "finish epoch 0 for 3.6323070526123046e-05 minutes\n",
      "finish epoch 1 for 2.8304258982340495e-05 minutes\n",
      "There are 3 jobs in RUNNING or QUEUED status\n"
     ]
    }
   ],
   "source": [
    "avtocost = []\n",
    "# model_path = \"./retrorl_model_latest.pickle\"\n",
    "\n",
    "for i in hybrid_job_params:\n",
    "#     model_name = hybrid_job_params[i]\n",
    "    model_param = {}\n",
    "    model_name = i\n",
    "    if model_name[0] == \"8\":\n",
    "        method = \"retro-qrl\"\n",
    "        model_param[method] = {}\n",
    "        model_param[method]['n_qubits'] = [int(model_name.split(\"_\")[0])]\n",
    "        model_param[method]['device'] = [model_name.split(\"_\")[1]]\n",
    "        model_param[method]['framework'] = ['pennylane']\n",
    "        model_param[method]['shots'] = [int(model_name.split(\"_\")[3])]\n",
    "        model_param[method]['layers'] = [int(model_name.split(\"_\")[4])]\n",
    "    else:\n",
    "        method = \"retro-rl\"\n",
    "        model_param[method] = {}\n",
    "        model_param[method]['inputsize'] = [int(model_name.split(\"_\")[0])]\n",
    "        model_param[method]['middlesize'] = [int(model_name.split(\"_\")[1])]\n",
    "        model_param[method]['outputsize'] = [int(model_name.split(\"_\")[2])]\n",
    "        \n",
    "    agent_param['model_param'] = model_param\n",
    "    # train_mode can be: \"local-instance\", \"local-job\", \"hybrid-job\"\n",
    "    train_mode = \"hybrid-job\"\n",
    "\n",
    "    data_path = 'data'\n",
    "    # agent_param = {}\n",
    "    agent_param[\"data_path\"] = data_path\n",
    "    agent_param[\"train_mode\"] = train_mode\n",
    "    agent_param[\"model_name\"] = model_name\n",
    "    agent_param[\"episodes\"] = 2\n",
    "    # agent_param[\"model_path\"] = model_path\n",
    "    \n",
    "    print(agent_param)\n",
    "    \n",
    "    if train_mode == \"local-instance\":\n",
    "        retro_rl_agent = RetroRLAgent(True, method, **agent_param)\n",
    "        retro_rl_agent.game_job()\n",
    "    else:\n",
    "        if method == \"retro-qrl\":\n",
    "            retro_rl_agent = RetroRLAgent(False, method, **agent_param)\n",
    "            retro_rl_agent.game_job()\n",
    "            avtocost.append(retro_rl_agent.avtocost)\n",
    "        else:\n",
    "            retro_rl_agent = RetroRLAgent(True, method, **agent_param)\n",
    "            retro_rl_agent.game_job()\n",
    "            avtocost.append(retro_rl_agent.avtocost)\n",
    "\n",
    "    while not queue_check(avtocost):\n",
    "        time.sleep(5)"
   ]
  },
  {
   "cell_type": "code",
   "execution_count": 27,
   "id": "121b9b5c-84e0-438a-a58c-1346b7765049",
   "metadata": {
    "tags": []
   },
   "outputs": [
    {
     "data": {
      "text/plain": [
       "{'init_param': {'retro-rl': {'param': ['inputsize',\n",
       "    'middlesize',\n",
       "    'outputsize']},\n",
       "  'retro-qrl': {'param': ['n_qubits',\n",
       "    'device',\n",
       "    'framework',\n",
       "    'shots',\n",
       "    'layers']}},\n",
       " 'model_param': {'retro-rl': {'inputsize': [256],\n",
       "   'middlesize': [1024],\n",
       "   'outputsize': [1]}},\n",
       " 'data_path': 'data',\n",
       " 's3_data_path': 's3://amazon-braket-us-west-1-067664435707/data',\n",
       " 'train_mode': 'hybrid-job',\n",
       " 'model_name': '256_1024_1',\n",
       " 'episodes': 2}"
      ]
     },
     "execution_count": 27,
     "metadata": {},
     "output_type": "execute_result"
    }
   ],
   "source": [
    "agent_param"
   ]
  },
  {
   "cell_type": "code",
   "execution_count": 28,
   "id": "6602a48f",
   "metadata": {},
   "outputs": [
    {
     "ename": "ValueError",
     "evalue": "x and y must have same first dimension, but have shapes (0,) and (1,)",
     "output_type": "error",
     "traceback": [
      "\u001b[0;31m---------------------------------------------------------------------------\u001b[0m",
      "\u001b[0;31mValueError\u001b[0m                                Traceback (most recent call last)",
      "Cell \u001b[0;32mIn[28], line 8\u001b[0m\n\u001b[1;32m      6\u001b[0m plt\u001b[38;5;241m.\u001b[39mylabel(\u001b[38;5;124m'\u001b[39m\u001b[38;5;124mAverage cost\u001b[39m\u001b[38;5;124m'\u001b[39m)\n\u001b[1;32m      7\u001b[0m \u001b[38;5;28;01mfor\u001b[39;00m i \u001b[38;5;129;01min\u001b[39;00m \u001b[38;5;28mrange\u001b[39m(\u001b[38;5;28mlen\u001b[39m(hybrid_job_params)):\n\u001b[0;32m----> 8\u001b[0m     \u001b[43mplt\u001b[49m\u001b[38;5;241;43m.\u001b[39;49m\u001b[43mplot\u001b[49m\u001b[43m(\u001b[49m\u001b[38;5;28;43mrange\u001b[39;49m\u001b[43m(\u001b[49m\u001b[38;5;241;43m0\u001b[39;49m\u001b[43m,\u001b[49m\u001b[38;5;28;43mlen\u001b[39;49m\u001b[43m(\u001b[49m\u001b[43mavtocost\u001b[49m\u001b[43m[\u001b[49m\u001b[38;5;241;43m0\u001b[39;49m\u001b[43m]\u001b[49m\u001b[43m)\u001b[49m\u001b[43m)\u001b[49m\u001b[43m,\u001b[49m\u001b[43mavtocost\u001b[49m\u001b[43m[\u001b[49m\u001b[43mi\u001b[49m\u001b[43m]\u001b[49m\u001b[43m,\u001b[49m\u001b[43mlabel\u001b[49m\u001b[38;5;241;43m=\u001b[39;49m\u001b[43mhybrid_job_params\u001b[49m\u001b[43m[\u001b[49m\u001b[43mi\u001b[49m\u001b[43m]\u001b[49m\u001b[43m)\u001b[49m\n\u001b[1;32m      9\u001b[0m plt\u001b[38;5;241m.\u001b[39mlegend(loc \u001b[38;5;241m=\u001b[39m \u001b[38;5;124m'\u001b[39m\u001b[38;5;124mupper right\u001b[39m\u001b[38;5;124m'\u001b[39m)\n",
      "File \u001b[0;32m~/anaconda3/envs/pytorch_p310/lib/python3.10/site-packages/matplotlib/pyplot.py:3578\u001b[0m, in \u001b[0;36mplot\u001b[0;34m(scalex, scaley, data, *args, **kwargs)\u001b[0m\n\u001b[1;32m   3570\u001b[0m \u001b[38;5;129m@_copy_docstring_and_deprecators\u001b[39m(Axes\u001b[38;5;241m.\u001b[39mplot)\n\u001b[1;32m   3571\u001b[0m \u001b[38;5;28;01mdef\u001b[39;00m \u001b[38;5;21mplot\u001b[39m(\n\u001b[1;32m   3572\u001b[0m     \u001b[38;5;241m*\u001b[39margs: \u001b[38;5;28mfloat\u001b[39m \u001b[38;5;241m|\u001b[39m ArrayLike \u001b[38;5;241m|\u001b[39m \u001b[38;5;28mstr\u001b[39m,\n\u001b[0;32m   (...)\u001b[0m\n\u001b[1;32m   3576\u001b[0m     \u001b[38;5;241m*\u001b[39m\u001b[38;5;241m*\u001b[39mkwargs,\n\u001b[1;32m   3577\u001b[0m ) \u001b[38;5;241m-\u001b[39m\u001b[38;5;241m>\u001b[39m \u001b[38;5;28mlist\u001b[39m[Line2D]:\n\u001b[0;32m-> 3578\u001b[0m     \u001b[38;5;28;01mreturn\u001b[39;00m \u001b[43mgca\u001b[49m\u001b[43m(\u001b[49m\u001b[43m)\u001b[49m\u001b[38;5;241;43m.\u001b[39;49m\u001b[43mplot\u001b[49m\u001b[43m(\u001b[49m\n\u001b[1;32m   3579\u001b[0m \u001b[43m        \u001b[49m\u001b[38;5;241;43m*\u001b[39;49m\u001b[43margs\u001b[49m\u001b[43m,\u001b[49m\n\u001b[1;32m   3580\u001b[0m \u001b[43m        \u001b[49m\u001b[43mscalex\u001b[49m\u001b[38;5;241;43m=\u001b[39;49m\u001b[43mscalex\u001b[49m\u001b[43m,\u001b[49m\n\u001b[1;32m   3581\u001b[0m \u001b[43m        \u001b[49m\u001b[43mscaley\u001b[49m\u001b[38;5;241;43m=\u001b[39;49m\u001b[43mscaley\u001b[49m\u001b[43m,\u001b[49m\n\u001b[1;32m   3582\u001b[0m \u001b[43m        \u001b[49m\u001b[38;5;241;43m*\u001b[39;49m\u001b[38;5;241;43m*\u001b[39;49m\u001b[43m(\u001b[49m\u001b[43m{\u001b[49m\u001b[38;5;124;43m\"\u001b[39;49m\u001b[38;5;124;43mdata\u001b[39;49m\u001b[38;5;124;43m\"\u001b[39;49m\u001b[43m:\u001b[49m\u001b[43m \u001b[49m\u001b[43mdata\u001b[49m\u001b[43m}\u001b[49m\u001b[43m \u001b[49m\u001b[38;5;28;43;01mif\u001b[39;49;00m\u001b[43m \u001b[49m\u001b[43mdata\u001b[49m\u001b[43m \u001b[49m\u001b[38;5;129;43;01mis\u001b[39;49;00m\u001b[43m \u001b[49m\u001b[38;5;129;43;01mnot\u001b[39;49;00m\u001b[43m \u001b[49m\u001b[38;5;28;43;01mNone\u001b[39;49;00m\u001b[43m \u001b[49m\u001b[38;5;28;43;01melse\u001b[39;49;00m\u001b[43m \u001b[49m\u001b[43m{\u001b[49m\u001b[43m}\u001b[49m\u001b[43m)\u001b[49m\u001b[43m,\u001b[49m\n\u001b[1;32m   3583\u001b[0m \u001b[43m        \u001b[49m\u001b[38;5;241;43m*\u001b[39;49m\u001b[38;5;241;43m*\u001b[39;49m\u001b[43mkwargs\u001b[49m\u001b[43m,\u001b[49m\n\u001b[1;32m   3584\u001b[0m \u001b[43m    \u001b[49m\u001b[43m)\u001b[49m\n",
      "File \u001b[0;32m~/anaconda3/envs/pytorch_p310/lib/python3.10/site-packages/matplotlib/axes/_axes.py:1721\u001b[0m, in \u001b[0;36mAxes.plot\u001b[0;34m(self, scalex, scaley, data, *args, **kwargs)\u001b[0m\n\u001b[1;32m   1478\u001b[0m \u001b[38;5;250m\u001b[39m\u001b[38;5;124;03m\"\"\"\u001b[39;00m\n\u001b[1;32m   1479\u001b[0m \u001b[38;5;124;03mPlot y versus x as lines and/or markers.\u001b[39;00m\n\u001b[1;32m   1480\u001b[0m \n\u001b[0;32m   (...)\u001b[0m\n\u001b[1;32m   1718\u001b[0m \u001b[38;5;124;03m(``'green'``) or hex strings (``'#008000'``).\u001b[39;00m\n\u001b[1;32m   1719\u001b[0m \u001b[38;5;124;03m\"\"\"\u001b[39;00m\n\u001b[1;32m   1720\u001b[0m kwargs \u001b[38;5;241m=\u001b[39m cbook\u001b[38;5;241m.\u001b[39mnormalize_kwargs(kwargs, mlines\u001b[38;5;241m.\u001b[39mLine2D)\n\u001b[0;32m-> 1721\u001b[0m lines \u001b[38;5;241m=\u001b[39m [\u001b[38;5;241m*\u001b[39m\u001b[38;5;28mself\u001b[39m\u001b[38;5;241m.\u001b[39m_get_lines(\u001b[38;5;28mself\u001b[39m, \u001b[38;5;241m*\u001b[39margs, data\u001b[38;5;241m=\u001b[39mdata, \u001b[38;5;241m*\u001b[39m\u001b[38;5;241m*\u001b[39mkwargs)]\n\u001b[1;32m   1722\u001b[0m \u001b[38;5;28;01mfor\u001b[39;00m line \u001b[38;5;129;01min\u001b[39;00m lines:\n\u001b[1;32m   1723\u001b[0m     \u001b[38;5;28mself\u001b[39m\u001b[38;5;241m.\u001b[39madd_line(line)\n",
      "File \u001b[0;32m~/anaconda3/envs/pytorch_p310/lib/python3.10/site-packages/matplotlib/axes/_base.py:303\u001b[0m, in \u001b[0;36m_process_plot_var_args.__call__\u001b[0;34m(self, axes, data, *args, **kwargs)\u001b[0m\n\u001b[1;32m    301\u001b[0m     this \u001b[38;5;241m+\u001b[39m\u001b[38;5;241m=\u001b[39m args[\u001b[38;5;241m0\u001b[39m],\n\u001b[1;32m    302\u001b[0m     args \u001b[38;5;241m=\u001b[39m args[\u001b[38;5;241m1\u001b[39m:]\n\u001b[0;32m--> 303\u001b[0m \u001b[38;5;28;01myield from\u001b[39;00m \u001b[38;5;28;43mself\u001b[39;49m\u001b[38;5;241;43m.\u001b[39;49m\u001b[43m_plot_args\u001b[49m\u001b[43m(\u001b[49m\n\u001b[1;32m    304\u001b[0m \u001b[43m    \u001b[49m\u001b[43maxes\u001b[49m\u001b[43m,\u001b[49m\u001b[43m \u001b[49m\u001b[43mthis\u001b[49m\u001b[43m,\u001b[49m\u001b[43m \u001b[49m\u001b[43mkwargs\u001b[49m\u001b[43m,\u001b[49m\u001b[43m \u001b[49m\u001b[43mambiguous_fmt_datakey\u001b[49m\u001b[38;5;241;43m=\u001b[39;49m\u001b[43mambiguous_fmt_datakey\u001b[49m\u001b[43m)\u001b[49m\n",
      "File \u001b[0;32m~/anaconda3/envs/pytorch_p310/lib/python3.10/site-packages/matplotlib/axes/_base.py:499\u001b[0m, in \u001b[0;36m_process_plot_var_args._plot_args\u001b[0;34m(self, axes, tup, kwargs, return_kwargs, ambiguous_fmt_datakey)\u001b[0m\n\u001b[1;32m    496\u001b[0m     axes\u001b[38;5;241m.\u001b[39myaxis\u001b[38;5;241m.\u001b[39mupdate_units(y)\n\u001b[1;32m    498\u001b[0m \u001b[38;5;28;01mif\u001b[39;00m x\u001b[38;5;241m.\u001b[39mshape[\u001b[38;5;241m0\u001b[39m] \u001b[38;5;241m!=\u001b[39m y\u001b[38;5;241m.\u001b[39mshape[\u001b[38;5;241m0\u001b[39m]:\n\u001b[0;32m--> 499\u001b[0m     \u001b[38;5;28;01mraise\u001b[39;00m \u001b[38;5;167;01mValueError\u001b[39;00m(\u001b[38;5;124mf\u001b[39m\u001b[38;5;124m\"\u001b[39m\u001b[38;5;124mx and y must have same first dimension, but \u001b[39m\u001b[38;5;124m\"\u001b[39m\n\u001b[1;32m    500\u001b[0m                      \u001b[38;5;124mf\u001b[39m\u001b[38;5;124m\"\u001b[39m\u001b[38;5;124mhave shapes \u001b[39m\u001b[38;5;132;01m{\u001b[39;00mx\u001b[38;5;241m.\u001b[39mshape\u001b[38;5;132;01m}\u001b[39;00m\u001b[38;5;124m and \u001b[39m\u001b[38;5;132;01m{\u001b[39;00my\u001b[38;5;241m.\u001b[39mshape\u001b[38;5;132;01m}\u001b[39;00m\u001b[38;5;124m\"\u001b[39m)\n\u001b[1;32m    501\u001b[0m \u001b[38;5;28;01mif\u001b[39;00m x\u001b[38;5;241m.\u001b[39mndim \u001b[38;5;241m>\u001b[39m \u001b[38;5;241m2\u001b[39m \u001b[38;5;129;01mor\u001b[39;00m y\u001b[38;5;241m.\u001b[39mndim \u001b[38;5;241m>\u001b[39m \u001b[38;5;241m2\u001b[39m:\n\u001b[1;32m    502\u001b[0m     \u001b[38;5;28;01mraise\u001b[39;00m \u001b[38;5;167;01mValueError\u001b[39;00m(\u001b[38;5;124mf\u001b[39m\u001b[38;5;124m\"\u001b[39m\u001b[38;5;124mx and y can be no greater than 2D, but have \u001b[39m\u001b[38;5;124m\"\u001b[39m\n\u001b[1;32m    503\u001b[0m                      \u001b[38;5;124mf\u001b[39m\u001b[38;5;124m\"\u001b[39m\u001b[38;5;124mshapes \u001b[39m\u001b[38;5;132;01m{\u001b[39;00mx\u001b[38;5;241m.\u001b[39mshape\u001b[38;5;132;01m}\u001b[39;00m\u001b[38;5;124m and \u001b[39m\u001b[38;5;132;01m{\u001b[39;00my\u001b[38;5;241m.\u001b[39mshape\u001b[38;5;132;01m}\u001b[39;00m\u001b[38;5;124m\"\u001b[39m)\n",
      "\u001b[0;31mValueError\u001b[0m: x and y must have same first dimension, but have shapes (0,) and (1,)"
     ]
    },
    {
     "data": {
      "image/png": "[encoded data removed]",
      "text/plain": [
       "<Figure size 640x480 with 1 Axes>"
      ]
     },
     "metadata": {},
     "output_type": "display_data"
    }
   ],
   "source": [
    "# draw the training curve\n",
    "import matplotlib.pyplot as plt\n",
    "plt.figure(1)\n",
    "plt.title('Training curve')\n",
    "plt.xlabel('Epoch')\n",
    "plt.ylabel('Average cost')\n",
    "for i in range(len(hybrid_job_params)):\n",
    "    plt.plot(range(0,len(avtocost[0])),avtocost[i],label=hybrid_job_params[i])\n",
    "plt.legend(loc = 'upper right')"
   ]
  }
 ],
 "metadata": {
  "kernelspec": {
   "display_name": "conda_pytorch_p310",
   "language": "python",
   "name": "conda_pytorch_p310"
  },
  "language_info": {
   "codemirror_mode": {
    "name": "ipython",
    "version": 3
   },
   "file_extension": ".py",
   "mimetype": "text/x-python",
   "name": "python",
   "nbconvert_exporter": "python",
   "pygments_lexer": "ipython3",
   "version": "3.10.13"
  }
 },
 "nbformat": 4,
 "nbformat_minor": 5
}
