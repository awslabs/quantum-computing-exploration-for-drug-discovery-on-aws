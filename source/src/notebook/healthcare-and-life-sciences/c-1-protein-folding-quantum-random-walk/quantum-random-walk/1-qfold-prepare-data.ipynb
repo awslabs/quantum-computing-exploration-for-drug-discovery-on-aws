{
 "cells": [
  {
   "cell_type": "markdown",
   "metadata": {},
   "source": [
    "# Step 1: Prepare Data"
   ]
  },
  {
   "cell_type": "markdown",
   "metadata": {},
   "source": [
    "In this part, we will show how to prepare data for protein folding\n"
   ]
  },
  {
   "cell_type": "code",
   "execution_count": 14,
   "metadata": {},
   "outputs": [],
   "source": [
    "from molecular_model import molecule_analyzer"
   ]
  },
  {
   "cell_type": "code",
   "execution_count": 13,
   "metadata": {},
   "outputs": [],
   "source": [
    "protein_name = 'glycylglycine'\n",
    "aminoacids = 'GG'\n",
    "number_bits_to_discretize_protein_angles = 4\n",
    "protein_id = 0\n",
    "\n",
    "input_filename = \"inputRotations\"\n",
    "output_filename = \"outputRotations\"\n",
    "basis = \"6-31g\"\n",
    "energy_method = \"mp2\"\n",
    "\n",
    "mol_analyzer = molecule_analyzer.Molecule_Analizer(protein_name, aminoacids, protein_id, input_filename, output_filename, basis, energy_method)"
   ]
  },
  {
   "cell_type": "code",
   "execution_count": 17,
   "metadata": {},
   "outputs": [
    {
     "name": "stdout",
     "output_type": "stream",
     "text": [
      "    ⬤ Extracting atoms from proteins\n"
     ]
    },
    {
     "ename": "TypeError",
     "evalue": "can only concatenate str (not \"int\") to str",
     "output_type": "error",
     "traceback": [
      "\u001b[0;31m---------------------------------------------------------------------------\u001b[0m",
      "\u001b[0;31mTypeError\u001b[0m                                 Traceback (most recent call last)",
      "Cell \u001b[0;32mIn[17], line 2\u001b[0m\n\u001b[1;32m      1\u001b[0m \u001b[39m#Get all atoms from the protein with x/y/z positions and connections\u001b[39;00m\n\u001b[0;32m----> 2\u001b[0m atoms, backbone \u001b[39m=\u001b[39m mol_analyzer\u001b[39m.\u001b[39;49mextract_atoms()\n\u001b[1;32m      4\u001b[0m \u001b[39m#min_energy_psi4 = calculate_energy_of_rotations(atoms)\u001b[39;00m\n",
      "File \u001b[0;32m~/Desktop/projects/qfold/quantum-computing-exploration-for-drug-discovery-on-aws/source/src/notebook/healthcare-and-life-sciences/protein-folding/quantum-random-walk/molecular_model/molecule_analyzer.py:23\u001b[0m, in \u001b[0;36mMolecule_analizer.extract_atoms\u001b[0;34m(self)\u001b[0m\n\u001b[1;32m     21\u001b[0m \u001b[39mprint\u001b[39m(\u001b[39m'\u001b[39m\u001b[39m    ⬤ Extracting atoms from proteins\u001b[39m\u001b[39m'\u001b[39m)\n\u001b[1;32m     22\u001b[0m \u001b[39m#call psi4 to get the atoms of the protein\u001b[39;00m\n\u001b[0;32m---> 23\u001b[0m atoms \u001b[39m=\u001b[39m \u001b[39mself\u001b[39;49m\u001b[39m.\u001b[39;49mget_atoms_from_protein()\n\u001b[1;32m     25\u001b[0m \u001b[39m# if atoms length is 0 means that the proteins was not find in the database\u001b[39;00m\n\u001b[1;32m     26\u001b[0m \u001b[39mif\u001b[39;00m \u001b[39mlen\u001b[39m(atoms) \u001b[39m==\u001b[39m \u001b[39m0\u001b[39m:\n",
      "File \u001b[0;32m~/Desktop/projects/qfold/quantum-computing-exploration-for-drug-discovery-on-aws/source/src/notebook/healthcare-and-life-sciences/protein-folding/quantum-random-walk/molecular_model/molecule_analyzer.py:38\u001b[0m, in \u001b[0;36mMolecule_analizer.get_atoms_from_protein\u001b[0;34m(self)\u001b[0m\n\u001b[1;32m     35\u001b[0m \u001b[39mdef\u001b[39;00m \u001b[39mget_atoms_from_protein\u001b[39m(\u001b[39mself\u001b[39m):\n\u001b[1;32m     36\u001b[0m \n\u001b[1;32m     37\u001b[0m     \u001b[39m#create input file\u001b[39;00m\n\u001b[0;32m---> 38\u001b[0m     \u001b[39mself\u001b[39;49m\u001b[39m.\u001b[39;49mcreate_input_file()\n\u001b[1;32m     40\u001b[0m     \u001b[39m#execute psi4\u001b[39;00m\n\u001b[1;32m     41\u001b[0m     \u001b[39mself\u001b[39m\u001b[39m.\u001b[39mexecute_psi_command()\n",
      "File \u001b[0;32m~/Desktop/projects/qfold/quantum-computing-exploration-for-drug-discovery-on-aws/source/src/notebook/healthcare-and-life-sciences/protein-folding/quantum-random-walk/molecular_model/molecule_analyzer.py:64\u001b[0m, in \u001b[0;36mMolecule_analizer.create_input_file\u001b[0;34m(self)\u001b[0m\n\u001b[1;32m     60\u001b[0m inputFile \u001b[39m=\u001b[39m \u001b[39mopen\u001b[39m(\u001b[39mself\u001b[39m\u001b[39m.\u001b[39minput_filename\u001b[39m+\u001b[39m\u001b[39m'\u001b[39m\u001b[39m.dat\u001b[39m\u001b[39m'\u001b[39m, \u001b[39m'\u001b[39m\u001b[39mw\u001b[39m\u001b[39m'\u001b[39m)\n\u001b[1;32m     62\u001b[0m inputFile\u001b[39m.\u001b[39mwrite(\u001b[39m'\u001b[39m\u001b[39mmolecule \u001b[39m\u001b[39m'\u001b[39m \u001b[39m+\u001b[39m \u001b[39mself\u001b[39m\u001b[39m.\u001b[39mprotein_name \u001b[39m+\u001b[39m \u001b[39m'\u001b[39m\u001b[39m{\u001b[39m\u001b[39m\\n\u001b[39;00m\u001b[39m'\u001b[39m)\n\u001b[0;32m---> 64\u001b[0m inputFile\u001b[39m.\u001b[39mwrite(\u001b[39m'\u001b[39m\u001b[39m pubchem: \u001b[39m\u001b[39m'\u001b[39m\u001b[39m+\u001b[39m \u001b[39mself\u001b[39m\u001b[39m.\u001b[39mprotein_name\u001b[39m+\u001b[39m\u001b[39m'\u001b[39m\u001b[39m\\n\u001b[39;00m\u001b[39m'\u001b[39m) \u001b[39mif\u001b[39;00m \u001b[39mself\u001b[39m\u001b[39m.\u001b[39mprotein_id \u001b[39m==\u001b[39m \u001b[39m-\u001b[39m\u001b[39m1\u001b[39m \u001b[39melse\u001b[39;00m inputFile\u001b[39m.\u001b[39mwrite(\u001b[39m'\u001b[39;49m\u001b[39m pubchem: \u001b[39;49m\u001b[39m'\u001b[39;49m\u001b[39m+\u001b[39;49m \u001b[39mself\u001b[39;49m\u001b[39m.\u001b[39;49mprotein_id\u001b[39m+\u001b[39m\u001b[39m'\u001b[39m\u001b[39m\\n\u001b[39;00m\u001b[39m'\u001b[39m)\n\u001b[1;32m     66\u001b[0m inputFile\u001b[39m.\u001b[39mwrite(\u001b[39m'\u001b[39m\u001b[39m}\u001b[39m\u001b[39m\\n\u001b[39;00m\u001b[39m\\n\u001b[39;00m\u001b[39m'\u001b[39m)\n\u001b[1;32m     68\u001b[0m inputFile\u001b[39m.\u001b[39mwrite(\u001b[39m'\u001b[39m\u001b[39mset basis \u001b[39m\u001b[39m'\u001b[39m \u001b[39m+\u001b[39m  \u001b[39mself\u001b[39m\u001b[39m.\u001b[39mbasis \u001b[39m+\u001b[39m \u001b[39m'\u001b[39m\u001b[39m\\n\u001b[39;00m\u001b[39m'\u001b[39m)\n",
      "\u001b[0;31mTypeError\u001b[0m: can only concatenate str (not \"int\") to str"
     ]
    }
   ],
   "source": [
    "#Get all atoms from the protein with x/y/z positions and connections\n",
    "atoms, backbone = mol_analyzer.extract_atoms()"
   ]
  },
  {
   "cell_type": "code",
   "execution_count": 15,
   "metadata": {},
   "outputs": [
    {
     "ename": "NameError",
     "evalue": "name 'atoms' is not defined",
     "output_type": "error",
     "traceback": [
      "\u001b[0;31m---------------------------------------------------------------------------\u001b[0m",
      "\u001b[0;31mNameError\u001b[0m                                 Traceback (most recent call last)",
      "Cell \u001b[0;32mIn[15], line 2\u001b[0m\n\u001b[1;32m      1\u001b[0m \u001b[39m# print atoms to set the input of the notebook 2\u001b[39;00m\n\u001b[0;32m----> 2\u001b[0m atoms\n",
      "\u001b[0;31mNameError\u001b[0m: name 'atoms' is not defined"
     ]
    }
   ],
   "source": [
    "# print atoms to set the input of the notebook 2\n",
    "atoms\n",
    "backbone"
   ]
  }
 ],
 "metadata": {
  "kernelspec": {
   "display_name": "Python 3",
   "language": "python",
   "name": "python3"
  },
  "language_info": {
   "codemirror_mode": {
    "name": "ipython",
    "version": 3
   },
   "file_extension": ".py",
   "mimetype": "text/x-python",
   "name": "python",
   "nbconvert_exporter": "python",
   "pygments_lexer": "ipython3",
   "version": "3.10.6 (main, Mar 10 2023, 10:55:28) [GCC 11.3.0]"
  },
  "vscode": {
   "interpreter": {
    "hash": "916dbcbb3f70747c44a77c7bcd40155683ae19c65e1c03b4aa3499c5328201f1"
   }
  }
 },
 "nbformat": 4,
 "nbformat_minor": 4
}
