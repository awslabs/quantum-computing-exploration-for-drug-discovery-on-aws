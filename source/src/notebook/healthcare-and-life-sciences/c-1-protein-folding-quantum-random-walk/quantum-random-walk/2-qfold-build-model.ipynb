{
 "cells": [
  {
   "cell_type": "markdown",
   "metadata": {},
   "source": [
    "# Step 2: Build Model"
   ]
  },
  {
   "cell_type": "markdown",
   "metadata": {},
   "source": [
    "In this part, we will show how to build model for qfold"
   ]
  },
  {
   "cell_type": "code",
   "execution_count": 3,
   "metadata": {},
   "outputs": [],
   "source": [
    "from molecular_model import energy_calculator, structure_calculator\n"
   ]
  },
  {
   "cell_type": "code",
   "execution_count": 5,
   "metadata": {},
   "outputs": [],
   "source": [
    "atoms = \n",
    "backbone = \n",
    "\n",
    "protein_name = 'glycylglycine'\n",
    "aminoacids = 'GG'\n",
    "number_bits_to_discretize_angles_range = 4\n",
    "protein_id = 0\n",
    "\n",
    "input_filename = 'inputRotations'\n",
    "output_filename = 'outputRotations'\n",
    "precalculated_energies_path = './precalculated_energies/'\n",
    "\n",
    "basis = '6-31g'\n",
    "energy_method = 'mp2'\n",
    "method_rotations_generation = 'minifold'\n",
    "\n",
    "model_path = \"./models/\"\n",
    "window_size = 5\n",
    "max_aa_length = 200\n",
    "path_input_file = \"./data/training_70.txt\"\n",
    "epochs_train_classical_folding_model = 1000\n",
    "batch_size_classical_folding_model = 32\n",
    "\n",
    "ener_calculator = energy_calculator.Energy_Calculator(input_filename, output_filename, basis, energy_method)\n",
    "struct_calculator = structure_calculator.Structure_Calculator(model_path, window_size, max_aa_length, path_input_file, epochs_train_classical_folding_model, batch_size_classical_folding_model)"
   ]
  },
  {
   "cell_type": "code",
   "execution_count": null,
   "metadata": {},
   "outputs": [],
   "source": [
    "min_energy_psi4 = ener_calculator.calculate_energy_of_rotations(atoms)\n",
    "\n",
    "#Get initial structure of the protein to rotate from it\n",
    "[atoms, initialization_stats] = struct_calculator.calculate_initial_structure(atoms, aminoacids, method_rotations_generation, backbone)\n",
    "\n",
    "#Calculate all posible energies for the phi and psi angles\n",
    "deltasJson = ener_calculator.calculate_all_deltas_of_rotations(atoms, aminoacids, min_energy_psi4, protein_name, number_bits_to_discretize_angles_range, method_rotations_generation, backbone)\n",
    "\n",
    "# Add the stadistics about the precision of the initializator\n",
    "deltasJson['initialization_stats'] = initialization_stats\n",
    "ener_calculator.write_json(deltasJson, 'delta_energies', protein_name, number_bits_to_discretize_angles_range, method_rotations_generation)"
   ]
  }
 ],
 "metadata": {
  "kernelspec": {
   "display_name": "Python 3",
   "language": "python",
   "name": "python3"
  },
  "language_info": {
   "codemirror_mode": {
    "name": "ipython",
    "version": 3
   },
   "file_extension": ".py",
   "mimetype": "text/x-python",
   "name": "python",
   "nbconvert_exporter": "python",
   "pygments_lexer": "ipython3",
   "version": "3.10.6 (main, Mar 10 2023, 10:55:28) [GCC 11.3.0]"
  },
  "vscode": {
   "interpreter": {
    "hash": "916dbcbb3f70747c44a77c7bcd40155683ae19c65e1c03b4aa3499c5328201f1"
   }
  }
 },
 "nbformat": 4,
 "nbformat_minor": 4
}
