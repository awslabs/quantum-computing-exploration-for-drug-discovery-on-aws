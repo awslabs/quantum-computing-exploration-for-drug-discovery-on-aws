{
 "cells": [
  {
   "cell_type": "code",
   "execution_count": 1,
   "id": "b069f2f9",
   "metadata": {},
   "outputs": [],
   "source": [
    "from utility.MoleculeParser import MoleculeData\n",
    "from utility.QMUQUBO import QMUQUBO\n",
    "from utility.AnnealerOptimizer import Annealer\n",
    "\n",
    "import logging\n",
    "\n",
    "logging.getLogger().setLevel(logging.INFO)"
   ]
  },
  {
   "cell_type": "markdown",
   "id": "982dac1e",
   "metadata": {},
   "source": [
    "# Prepare Molecule Data"
   ]
  },
  {
   "cell_type": "code",
   "execution_count": 2,
   "id": "548fd04a",
   "metadata": {},
   "outputs": [
    {
     "name": "stderr",
     "output_type": "stream",
     "text": [
      "INFO:root:parse mol2 file!\n"
     ]
    }
   ],
   "source": [
    "mol_file_name = './molecule-data/Aspirin.mol2'\n",
    "\n",
    "mol_data = MoleculeData(mol_file_name, 'qmu')"
   ]
  },
  {
   "cell_type": "markdown",
   "id": "1556b705",
   "metadata": {},
   "source": [
    "# Build QUBO model for molecule unfolding"
   ]
  },
  {
   "cell_type": "code",
   "execution_count": 3,
   "id": "2a2ebdf3",
   "metadata": {},
   "outputs": [
    {
     "name": "stderr",
     "output_type": "stream",
     "text": [
      "INFO:root:pre-calculate for constructing molecule QUBO\n",
      "INFO:root:['4+5']\n",
      "INFO:root:elasped time for torsion group 4+5 : 2.0265579223632812e-07 min\n",
      "INFO:root:['2+4']\n",
      "INFO:root:elasped time for torsion group 2+4 : 7.549921671549479e-08 min\n",
      "INFO:root:['1+2']\n",
      "INFO:root:elasped time for torsion group 1+2 : 1.0728836059570313e-07 min\n",
      "INFO:root:['10+11']\n",
      "INFO:root:elasped time for torsion group 10+11 : 9.5367431640625e-08 min\n",
      "INFO:root:['2+4', '4+5']\n",
      "INFO:root:elasped time for torsion group 2+4,4+5 : 9.934107462565105e-08 min\n",
      "INFO:root:['4+5', '10+11']\n",
      "INFO:root:elasped time for torsion group 4+5,10+11 : 1.0331471761067709e-07 min\n",
      "INFO:root:['1+2', '2+4']\n",
      "INFO:root:elasped time for torsion group 1+2,2+4 : 9.139378865559896e-08 min\n",
      "INFO:root:['1+2', '2+4', '4+5']\n",
      "INFO:root:elasped time for torsion group 1+2,2+4,4+5 : 9.5367431640625e-08 min\n",
      "INFO:root:['2+4', '4+5', '10+11']\n",
      "INFO:root:elasped time for torsion group 2+4,4+5,10+11 : 9.5367431640625e-08 min\n",
      "INFO:root:['1+2', '2+4', '4+5', '10+11']\n",
      "INFO:root:elasped time for torsion group 1+2,2+4,4+5,10+11 : 9.934107462565105e-08 min\n"
     ]
    }
   ],
   "source": [
    "model_param = {}\n",
    "method = 'pre-calc'\n",
    "if method == 'pre-calc':\n",
    "    model_param['M'] = mol_data.bond_graph.rb_num\n",
    "    model_param['D'] = 4\n",
    "    model_param['A'] = 300\n",
    "    model_param['hubo_qubo_val'] = 200\n",
    "    \n",
    "qmu_qubo = QMUQUBO(mol_data, method, **model_param)"
   ]
  },
  {
   "cell_type": "markdown",
   "id": "72b66fb9",
   "metadata": {},
   "source": [
    "# Optimize to find the configuration"
   ]
  },
  {
   "cell_type": "code",
   "execution_count": 4,
   "id": "2c4ed8d4",
   "metadata": {},
   "outputs": [
    {
     "name": "stderr",
     "output_type": "stream",
     "text": [
      "INFO:root:use simulated annealer from dimod\n"
     ]
    }
   ],
   "source": [
    "method = 'dwave-sa'\n",
    "\n",
    "optimizer_param = {}\n",
    "optimizer_param['shots'] = 1000\n",
    "\n",
    "sa_optimizer = Annealer(qmu_qubo.qubo, method, **optimizer_param)"
   ]
  },
  {
   "cell_type": "code",
   "execution_count": 7,
   "id": "d2345b5d",
   "metadata": {},
   "outputs": [
    {
     "name": "stderr",
     "output_type": "stream",
     "text": [
      "INFO:root:method dwave-qa complte time 0.23053516149520872\n",
      "INFO:root:quantum annealer embed time 0.013261930147806803, optimize time 0.21727323134740192\n"
     ]
    }
   ],
   "source": [
    "sa_optimizer.fit()\n",
    "qa_optimizer.time_summary()"
   ]
  },
  {
   "cell_type": "code",
   "execution_count": 5,
   "id": "866036ba",
   "metadata": {},
   "outputs": [
    {
     "name": "stderr",
     "output_type": "stream",
     "text": [
      "INFO:root:use quantum annealer arn:aws:braket:::device/qpu/d-wave/Advantage_system4 \n"
     ]
    }
   ],
   "source": [
    "method = 'dwave-qa'\n",
    "\n",
    "optimizer_param = {}\n",
    "optimizer_param['shots'] = 1000\n",
    "optimizer_param['bucket'] = f\"amazon-braket-1a222675c751\" # the name of the bucket\n",
    "optimizer_param['prefix'] = \"annealer-experiment\" # the name of the folder in the bucket\n",
    "optimizer_param['device'] = \"arn:aws:braket:::device/qpu/d-wave/Advantage_system4\"\n",
    "optimizer_param[\"embed_method\"] = \"default\"\n",
    "\n",
    "qa_optimizer = Annealer(qmu_qubo.qubo, method, **optimizer_param)"
   ]
  },
  {
   "cell_type": "code",
   "execution_count": 6,
   "id": "151e2f7c",
   "metadata": {},
   "outputs": [
    {
     "name": "stderr",
     "output_type": "stream",
     "text": [
      "INFO:root:method dwave-qa complte time 0.23053516149520872\n",
      "INFO:root:quantum annealer embed time 0.013261930147806803, optimize time 0.21727323134740192\n"
     ]
    }
   ],
   "source": [
    "qa_optimizer.embed()\n",
    "qa_optimizer.fit()\n",
    "qa_optimizer.time_summary()"
   ]
  },
  {
   "cell_type": "markdown",
   "id": "4197c22e",
   "metadata": {},
   "source": [
    "# Post process for evaluation"
   ]
  },
  {
   "cell_type": "code",
   "execution_count": null,
   "id": "3a9f6c64",
   "metadata": {},
   "outputs": [],
   "source": []
  }
 ],
 "metadata": {
  "kernelspec": {
   "display_name": "conda_braket",
   "language": "python",
   "name": "conda_braket"
  },
  "language_info": {
   "codemirror_mode": {
    "name": "ipython",
    "version": 3
   },
   "file_extension": ".py",
   "mimetype": "text/x-python",
   "name": "python",
   "nbconvert_exporter": "python",
   "pygments_lexer": "ipython3",
   "version": "3.7.11"
  }
 },
 "nbformat": 4,
 "nbformat_minor": 5
}
